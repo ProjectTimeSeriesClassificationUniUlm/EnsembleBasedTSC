{
 "cells": [
  {
   "cell_type": "code",
   "execution_count": 2,
   "metadata": {
    "collapsed": true
   },
   "outputs": [
    {
     "data": {
      "text/plain": "  0%|          | 0/33 [00:00<?, ?dataset/s]",
      "application/vnd.jupyter.widget-view+json": {
       "version_major": 2,
       "version_minor": 0,
       "model_id": "ba09f193eaa344fdbd4a22e329640467"
      }
     },
     "metadata": {},
     "output_type": "display_data"
    },
    {
     "name": "stdout",
     "output_type": "stream",
     "text": [
      "Dataset name:  abnormal_heartbeat\n"
     ]
    },
    {
     "data": {
      "text/plain": "Train on \"abnormal_heartbeat\":   0%|          | 0/1 [00:00<?, ?model/s]",
      "application/vnd.jupyter.widget-view+json": {
       "version_major": 2,
       "version_minor": 0,
       "model_id": "32f602047201433c83faa923f492c9ab"
      }
     },
     "metadata": {},
     "output_type": "display_data"
    },
    {
     "name": "stdout",
     "output_type": "stream",
     "text": [
      "Model name:  MLP\n"
     ]
    },
    {
     "data": {
      "text/plain": "MLP: 0epoch [00:00, ?epoch/s]",
      "application/vnd.jupyter.widget-view+json": {
       "version_major": 2,
       "version_minor": 0,
       "model_id": "74ef7301103a4138ad80b83945e536bf"
      }
     },
     "metadata": {},
     "output_type": "display_data"
    },
    {
     "name": "stdout",
     "output_type": "stream",
     "text": [
      "7/7 [==============================] - 0s 4ms/step - loss: 5.0197 - accuracy: 0.6927\n",
      "7/7 [==============================] - 1s 2ms/step\n",
      "Dataset name:  arrow_head\n"
     ]
    },
    {
     "data": {
      "text/plain": "Train on \"arrow_head\":   0%|          | 0/1 [00:00<?, ?model/s]",
      "application/vnd.jupyter.widget-view+json": {
       "version_major": 2,
       "version_minor": 0,
       "model_id": "a7b90e35180349b686eebb0c1df822c3"
      }
     },
     "metadata": {},
     "output_type": "display_data"
    },
    {
     "name": "stdout",
     "output_type": "stream",
     "text": [
      "Model name:  MLP\n"
     ]
    },
    {
     "data": {
      "text/plain": "MLP: 0epoch [00:00, ?epoch/s]",
      "application/vnd.jupyter.widget-view+json": {
       "version_major": 2,
       "version_minor": 0,
       "model_id": "2477e0fa37714387bef43dc0cc4cb53b"
      }
     },
     "metadata": {},
     "output_type": "display_data"
    },
    {
     "name": "stdout",
     "output_type": "stream",
     "text": [
      "6/6 [==============================] - 0s 5ms/step - loss: 0.7473 - accuracy: 0.6400\n",
      "6/6 [==============================] - 1s 3ms/step\n",
      "Dataset name:  bme\n"
     ]
    },
    {
     "data": {
      "text/plain": "Train on \"bme\":   0%|          | 0/1 [00:00<?, ?model/s]",
      "application/vnd.jupyter.widget-view+json": {
       "version_major": 2,
       "version_minor": 0,
       "model_id": "ae1223d07edc41ce8b3744d914102221"
      }
     },
     "metadata": {},
     "output_type": "display_data"
    },
    {
     "name": "stdout",
     "output_type": "stream",
     "text": [
      "Model name:  MLP\n"
     ]
    },
    {
     "data": {
      "text/plain": "MLP: 0epoch [00:00, ?epoch/s]",
      "application/vnd.jupyter.widget-view+json": {
       "version_major": 2,
       "version_minor": 0,
       "model_id": "58c4fcf2527748e6a2255fb8bdc902a6"
      }
     },
     "metadata": {},
     "output_type": "display_data"
    },
    {
     "name": "stdout",
     "output_type": "stream",
     "text": [
      "5/5 [==============================] - 0s 5ms/step - loss: 1.6144 - accuracy: 0.7333\n",
      "5/5 [==============================] - 1s 2ms/step\n",
      "Dataset name:  car\n"
     ]
    },
    {
     "data": {
      "text/plain": "Train on \"car\":   0%|          | 0/1 [00:00<?, ?model/s]",
      "application/vnd.jupyter.widget-view+json": {
       "version_major": 2,
       "version_minor": 0,
       "model_id": "7a1b8817e61c40359db381cb17f17544"
      }
     },
     "metadata": {},
     "output_type": "display_data"
    },
    {
     "name": "stdout",
     "output_type": "stream",
     "text": [
      "Model name:  MLP\n"
     ]
    },
    {
     "data": {
      "text/plain": "MLP: 0epoch [00:00, ?epoch/s]",
      "application/vnd.jupyter.widget-view+json": {
       "version_major": 2,
       "version_minor": 0,
       "model_id": "903d2cab9eac47f6913a15b0525297e2"
      }
     },
     "metadata": {},
     "output_type": "display_data"
    },
    {
     "name": "stdout",
     "output_type": "stream",
     "text": [
      "2/2 [==============================] - 0s 11ms/step - loss: 1.0163 - accuracy: 0.7833\n",
      "2/2 [==============================] - 1s 5ms/step\n",
      "Dataset name:  cbf\n"
     ]
    },
    {
     "data": {
      "text/plain": "Train on \"cbf\":   0%|          | 0/1 [00:00<?, ?model/s]",
      "application/vnd.jupyter.widget-view+json": {
       "version_major": 2,
       "version_minor": 0,
       "model_id": "517d17585d1b4d578a845722fd0de115"
      }
     },
     "metadata": {},
     "output_type": "display_data"
    },
    {
     "name": "stdout",
     "output_type": "stream",
     "text": [
      "Model name:  MLP\n"
     ]
    },
    {
     "data": {
      "text/plain": "MLP: 0epoch [00:00, ?epoch/s]",
      "application/vnd.jupyter.widget-view+json": {
       "version_major": 2,
       "version_minor": 0,
       "model_id": "799a82bc1852448b8f2d4b1d40dd9de0"
      }
     },
     "metadata": {},
     "output_type": "display_data"
    },
    {
     "name": "stdout",
     "output_type": "stream",
     "text": [
      "29/29 [==============================] - 0s 6ms/step - loss: 0.3281 - accuracy: 0.8933\n",
      "29/29 [==============================] - 1s 6ms/step\n",
      "Dataset name:  chlorine_concentration\n"
     ]
    },
    {
     "data": {
      "text/plain": "Train on \"chlorine_concentration\":   0%|          | 0/1 [00:00<?, ?model/s]",
      "application/vnd.jupyter.widget-view+json": {
       "version_major": 2,
       "version_minor": 0,
       "model_id": "9f52e023ea274c8e8225cb05e3d16bcc"
      }
     },
     "metadata": {},
     "output_type": "display_data"
    },
    {
     "name": "stdout",
     "output_type": "stream",
     "text": [
      "Model name:  MLP\n"
     ]
    },
    {
     "data": {
      "text/plain": "MLP: 0epoch [00:00, ?epoch/s]",
      "application/vnd.jupyter.widget-view+json": {
       "version_major": 2,
       "version_minor": 0,
       "model_id": "b356993d76104a8ba2554bbf7434d0a3"
      }
     },
     "metadata": {},
     "output_type": "display_data"
    },
    {
     "name": "stdout",
     "output_type": "stream",
     "text": [
      "120/120 [==============================] - 1s 5ms/step - loss: 0.9963 - accuracy: 0.5596\n",
      "120/120 [==============================] - 1s 2ms/step\n",
      "Dataset name:  coffee_beans\n"
     ]
    },
    {
     "data": {
      "text/plain": "Train on \"coffee_beans\":   0%|          | 0/1 [00:00<?, ?model/s]",
      "application/vnd.jupyter.widget-view+json": {
       "version_major": 2,
       "version_minor": 0,
       "model_id": "4448b99471df481aad0d8cc2f43db14f"
      }
     },
     "metadata": {},
     "output_type": "display_data"
    },
    {
     "name": "stdout",
     "output_type": "stream",
     "text": [
      "Model name:  MLP\n"
     ]
    },
    {
     "data": {
      "text/plain": "MLP: 0epoch [00:00, ?epoch/s]",
      "application/vnd.jupyter.widget-view+json": {
       "version_major": 2,
       "version_minor": 0,
       "model_id": "5908eb9a56a94c26bdd7811c30caf509"
      }
     },
     "metadata": {},
     "output_type": "display_data"
    },
    {
     "name": "stdout",
     "output_type": "stream",
     "text": [
      "1/1 [==============================] - 0s 69ms/step - loss: 0.5114 - accuracy: 0.7500\n",
      "1/1 [==============================] - 1s 1s/step\n",
      "Dataset name:  colposcopy\n"
     ]
    },
    {
     "data": {
      "text/plain": "Train on \"colposcopy\":   0%|          | 0/1 [00:00<?, ?model/s]",
      "application/vnd.jupyter.widget-view+json": {
       "version_major": 2,
       "version_minor": 0,
       "model_id": "7b8be09e39ff4f0da5c8eefb078bc8f5"
      }
     },
     "metadata": {},
     "output_type": "display_data"
    },
    {
     "name": "stdout",
     "output_type": "stream",
     "text": [
      "Model name:  MLP\n"
     ]
    },
    {
     "data": {
      "text/plain": "MLP: 0epoch [00:00, ?epoch/s]",
      "application/vnd.jupyter.widget-view+json": {
       "version_major": 2,
       "version_minor": 0,
       "model_id": "1f57b1b48ab84af3826180bcd5901e10"
      }
     },
     "metadata": {},
     "output_type": "display_data"
    },
    {
     "name": "stdout",
     "output_type": "stream",
     "text": [
      "4/4 [==============================] - 1s 7ms/step - loss: 1.9468 - accuracy: 0.3663\n",
      "4/4 [==============================] - 1s 5ms/step\n",
      "Dataset name:  cricket_y\n"
     ]
    },
    {
     "data": {
      "text/plain": "Train on \"cricket_y\":   0%|          | 0/1 [00:00<?, ?model/s]",
      "application/vnd.jupyter.widget-view+json": {
       "version_major": 2,
       "version_minor": 0,
       "model_id": "cc4e18664a064e9bab0f0612265ba93a"
      }
     },
     "metadata": {},
     "output_type": "display_data"
    },
    {
     "name": "stdout",
     "output_type": "stream",
     "text": [
      "Model name:  MLP\n"
     ]
    },
    {
     "data": {
      "text/plain": "MLP: 0epoch [00:00, ?epoch/s]",
      "application/vnd.jupyter.widget-view+json": {
       "version_major": 2,
       "version_minor": 0,
       "model_id": "e6bb3d6688194883af6d0968860ccc17"
      }
     },
     "metadata": {},
     "output_type": "display_data"
    },
    {
     "name": "stdout",
     "output_type": "stream",
     "text": [
      "13/13 [==============================] - 0s 4ms/step - loss: 1.7425 - accuracy: 0.5308\n",
      "13/13 [==============================] - 1s 2ms/step\n",
      "Dataset name:  distal_phalanax_tw\n"
     ]
    },
    {
     "data": {
      "text/plain": "Train on \"distal_phalanax_tw\":   0%|          | 0/1 [00:00<?, ?model/s]",
      "application/vnd.jupyter.widget-view+json": {
       "version_major": 2,
       "version_minor": 0,
       "model_id": "f91c930d2f034c4384e76f1011de6258"
      }
     },
     "metadata": {},
     "output_type": "display_data"
    },
    {
     "name": "stdout",
     "output_type": "stream",
     "text": [
      "Model name:  MLP\n"
     ]
    },
    {
     "data": {
      "text/plain": "MLP: 0epoch [00:00, ?epoch/s]",
      "application/vnd.jupyter.widget-view+json": {
       "version_major": 2,
       "version_minor": 0,
       "model_id": "806ea155df5c47b080624466694727df"
      }
     },
     "metadata": {},
     "output_type": "display_data"
    },
    {
     "name": "stdout",
     "output_type": "stream",
     "text": [
      "5/5 [==============================] - 1s 6ms/step - loss: 0.7919 - accuracy: 0.6619\n",
      "5/5 [==============================] - 1s 6ms/step\n",
      "Dataset name:  distal_phalanx_outline\n"
     ]
    },
    {
     "data": {
      "text/plain": "Train on \"distal_phalanx_outline\":   0%|          | 0/1 [00:00<?, ?model/s]",
      "application/vnd.jupyter.widget-view+json": {
       "version_major": 2,
       "version_minor": 0,
       "model_id": "ec679791c22d473698d3fb2455fc5f14"
      }
     },
     "metadata": {},
     "output_type": "display_data"
    },
    {
     "name": "stdout",
     "output_type": "stream",
     "text": [
      "Model name:  MLP\n"
     ]
    },
    {
     "data": {
      "text/plain": "MLP: 0epoch [00:00, ?epoch/s]",
      "application/vnd.jupyter.widget-view+json": {
       "version_major": 2,
       "version_minor": 0,
       "model_id": "65d018bf042a4da684c1000f345cfc3e"
      }
     },
     "metadata": {},
     "output_type": "display_data"
    },
    {
     "name": "stdout",
     "output_type": "stream",
     "text": [
      "9/9 [==============================] - 1s 5ms/step - loss: 0.6704 - accuracy: 0.6558\n",
      "9/9 [==============================] - 1s 3ms/step\n",
      "Dataset name:  dodger_loop_day\n"
     ]
    },
    {
     "data": {
      "text/plain": "Train on \"dodger_loop_day\":   0%|          | 0/1 [00:00<?, ?model/s]",
      "application/vnd.jupyter.widget-view+json": {
       "version_major": 2,
       "version_minor": 0,
       "model_id": "f40a20348cee43d4af44ae88209fd915"
      }
     },
     "metadata": {},
     "output_type": "display_data"
    },
    {
     "name": "stdout",
     "output_type": "stream",
     "text": [
      "Model name:  MLP\n"
     ]
    },
    {
     "data": {
      "text/plain": "MLP: 0epoch [00:00, ?epoch/s]",
      "application/vnd.jupyter.widget-view+json": {
       "version_major": 2,
       "version_minor": 0,
       "model_id": "77a1edfc4f674a00925a73a338f4ca11"
      }
     },
     "metadata": {},
     "output_type": "display_data"
    },
    {
     "name": "stdout",
     "output_type": "stream",
     "text": [
      "3/3 [==============================] - 0s 6ms/step - loss: nan - accuracy: 0.1500\n",
      "3/3 [==============================] - 0s 4ms/step\n",
      "Dataset name:  earthquakes\n"
     ]
    },
    {
     "data": {
      "text/plain": "Train on \"earthquakes\":   0%|          | 0/1 [00:00<?, ?model/s]",
      "application/vnd.jupyter.widget-view+json": {
       "version_major": 2,
       "version_minor": 0,
       "model_id": "85f36a90b4bb4445b3c727c9e426e251"
      }
     },
     "metadata": {},
     "output_type": "display_data"
    },
    {
     "name": "stdout",
     "output_type": "stream",
     "text": [
      "Model name:  MLP\n"
     ]
    },
    {
     "data": {
      "text/plain": "MLP: 0epoch [00:00, ?epoch/s]",
      "application/vnd.jupyter.widget-view+json": {
       "version_major": 2,
       "version_minor": 0,
       "model_id": "ca8203bd61614ae782ce515a977f15e7"
      }
     },
     "metadata": {},
     "output_type": "display_data"
    },
    {
     "name": "stdout",
     "output_type": "stream",
     "text": [
      "5/5 [==============================] - 0s 5ms/step - loss: 3.2638 - accuracy: 0.6691\n",
      "5/5 [==============================] - 1s 2ms/step\n",
      "Dataset name:  electric_devices\n"
     ]
    },
    {
     "data": {
      "text/plain": "Train on \"electric_devices\":   0%|          | 0/1 [00:00<?, ?model/s]",
      "application/vnd.jupyter.widget-view+json": {
       "version_major": 2,
       "version_minor": 0,
       "model_id": "bc9dcffdf3214d70a8ec69a7b628206e"
      }
     },
     "metadata": {},
     "output_type": "display_data"
    },
    {
     "name": "stdout",
     "output_type": "stream",
     "text": [
      "Model name:  MLP\n"
     ]
    },
    {
     "data": {
      "text/plain": "MLP: 0epoch [00:00, ?epoch/s]",
      "application/vnd.jupyter.widget-view+json": {
       "version_major": 2,
       "version_minor": 0,
       "model_id": "eb39d5444f9249448ee8b67ede4863ee"
      }
     },
     "metadata": {},
     "output_type": "display_data"
    },
    {
     "name": "stdout",
     "output_type": "stream",
     "text": [
      "241/241 [==============================] - 1s 4ms/step - loss: 2.9174 - accuracy: 0.5954\n",
      "241/241 [==============================] - 2s 2ms/step\n",
      "Dataset name:  face_ucr\n"
     ]
    },
    {
     "data": {
      "text/plain": "Train on \"face_ucr\":   0%|          | 0/1 [00:00<?, ?model/s]",
      "application/vnd.jupyter.widget-view+json": {
       "version_major": 2,
       "version_minor": 0,
       "model_id": "66c2f20362f546159685c717abd5c02b"
      }
     },
     "metadata": {},
     "output_type": "display_data"
    },
    {
     "name": "stdout",
     "output_type": "stream",
     "text": [
      "Model name:  MLP\n"
     ]
    },
    {
     "data": {
      "text/plain": "MLP: 0epoch [00:00, ?epoch/s]",
      "application/vnd.jupyter.widget-view+json": {
       "version_major": 2,
       "version_minor": 0,
       "model_id": "a01048b5cf3a4a71827d1bb01dbec85f"
      }
     },
     "metadata": {},
     "output_type": "display_data"
    },
    {
     "name": "stdout",
     "output_type": "stream",
     "text": [
      "65/65 [==============================] - 1s 5ms/step - loss: 1.8938 - accuracy: 0.6615\n",
      "65/65 [==============================] - 1s 3ms/step\n",
      "Dataset name:  fifty_words\n"
     ]
    },
    {
     "data": {
      "text/plain": "Train on \"fifty_words\":   0%|          | 0/1 [00:00<?, ?model/s]",
      "application/vnd.jupyter.widget-view+json": {
       "version_major": 2,
       "version_minor": 0,
       "model_id": "83024e8891e54de781d1c2f9e35ab800"
      }
     },
     "metadata": {},
     "output_type": "display_data"
    },
    {
     "name": "stdout",
     "output_type": "stream",
     "text": [
      "Model name:  MLP\n"
     ]
    },
    {
     "data": {
      "text/plain": "MLP: 0epoch [00:00, ?epoch/s]",
      "application/vnd.jupyter.widget-view+json": {
       "version_major": 2,
       "version_minor": 0,
       "model_id": "76dfb83ad53f40b9b9af2ca01a9f649e"
      }
     },
     "metadata": {},
     "output_type": "display_data"
    },
    {
     "name": "stdout",
     "output_type": "stream",
     "text": [
      "15/15 [==============================] - 1s 5ms/step - loss: 2.4142 - accuracy: 0.6527\n",
      "15/15 [==============================] - 1s 4ms/step\n",
      "Dataset name:  fish\n"
     ]
    },
    {
     "data": {
      "text/plain": "Train on \"fish\":   0%|          | 0/1 [00:00<?, ?model/s]",
      "application/vnd.jupyter.widget-view+json": {
       "version_major": 2,
       "version_minor": 0,
       "model_id": "39a4675e511b49faae753320d465fe51"
      }
     },
     "metadata": {},
     "output_type": "display_data"
    },
    {
     "name": "stdout",
     "output_type": "stream",
     "text": [
      "Model name:  MLP\n"
     ]
    },
    {
     "data": {
      "text/plain": "MLP: 0epoch [00:00, ?epoch/s]",
      "application/vnd.jupyter.widget-view+json": {
       "version_major": 2,
       "version_minor": 0,
       "model_id": "9cbf356504c046a8abed6bf2e72c9fe0"
      }
     },
     "metadata": {},
     "output_type": "display_data"
    },
    {
     "name": "stdout",
     "output_type": "stream",
     "text": [
      "6/6 [==============================] - 0s 5ms/step - loss: 1.0119 - accuracy: 0.6400\n",
      "6/6 [==============================] - 1s 2ms/step\n",
      "Dataset name:  freezers\n"
     ]
    },
    {
     "data": {
      "text/plain": "Train on \"freezers\":   0%|          | 0/1 [00:00<?, ?model/s]",
      "application/vnd.jupyter.widget-view+json": {
       "version_major": 2,
       "version_minor": 0,
       "model_id": "45c483132f2c464ba80466061982bd5b"
      }
     },
     "metadata": {},
     "output_type": "display_data"
    },
    {
     "name": "stdout",
     "output_type": "stream",
     "text": [
      "Model name:  MLP\n"
     ]
    },
    {
     "data": {
      "text/plain": "MLP: 0epoch [00:00, ?epoch/s]",
      "application/vnd.jupyter.widget-view+json": {
       "version_major": 2,
       "version_minor": 0,
       "model_id": "7389f3f40a064431a8c7182de7ca2396"
      }
     },
     "metadata": {},
     "output_type": "display_data"
    },
    {
     "name": "stdout",
     "output_type": "stream",
     "text": [
      "90/90 [==============================] - 2s 4ms/step - loss: 0.4862 - accuracy: 0.7698\n",
      "90/90 [==============================] - 1s 2ms/step\n",
      "Dataset name:  gun_point_age_span\n"
     ]
    },
    {
     "data": {
      "text/plain": "Train on \"gun_point_age_span\":   0%|          | 0/1 [00:00<?, ?model/s]",
      "application/vnd.jupyter.widget-view+json": {
       "version_major": 2,
       "version_minor": 0,
       "model_id": "84ac855781064935a9e0f9954787e616"
      }
     },
     "metadata": {},
     "output_type": "display_data"
    },
    {
     "name": "stdout",
     "output_type": "stream",
     "text": [
      "Model name:  MLP\n"
     ]
    },
    {
     "data": {
      "text/plain": "MLP: 0epoch [00:00, ?epoch/s]",
      "application/vnd.jupyter.widget-view+json": {
       "version_major": 2,
       "version_minor": 0,
       "model_id": "63426917c57a467ab962146307acd86f"
      }
     },
     "metadata": {},
     "output_type": "display_data"
    },
    {
     "name": "stdout",
     "output_type": "stream",
     "text": [
      "10/10 [==============================] - 0s 4ms/step - loss: 8.8302 - accuracy: 0.8323\n",
      "10/10 [==============================] - 1s 3ms/step\n",
      "Dataset name:  gun_point_male_female\n"
     ]
    },
    {
     "data": {
      "text/plain": "Train on \"gun_point_male_female\":   0%|          | 0/1 [00:00<?, ?model/s]",
      "application/vnd.jupyter.widget-view+json": {
       "version_major": 2,
       "version_minor": 0,
       "model_id": "a2d8b1f52dd24e3b982a334aa34f9d5f"
      }
     },
     "metadata": {},
     "output_type": "display_data"
    },
    {
     "name": "stdout",
     "output_type": "stream",
     "text": [
      "Model name:  MLP\n"
     ]
    },
    {
     "data": {
      "text/plain": "MLP: 0epoch [00:00, ?epoch/s]",
      "application/vnd.jupyter.widget-view+json": {
       "version_major": 2,
       "version_minor": 0,
       "model_id": "26515c60fee24dceaa40ef1f996f553d"
      }
     },
     "metadata": {},
     "output_type": "display_data"
    },
    {
     "name": "stdout",
     "output_type": "stream",
     "text": [
      "10/10 [==============================] - 0s 4ms/step - loss: 3.8740 - accuracy: 0.7184\n",
      "10/10 [==============================] - 1s 3ms/step\n",
      "Dataset name:  gun_point_old_young\n"
     ]
    },
    {
     "data": {
      "text/plain": "Train on \"gun_point_old_young\":   0%|          | 0/1 [00:00<?, ?model/s]",
      "application/vnd.jupyter.widget-view+json": {
       "version_major": 2,
       "version_minor": 0,
       "model_id": "9170b475f96c43c7bceee55dc8f5e24e"
      }
     },
     "metadata": {},
     "output_type": "display_data"
    },
    {
     "name": "stdout",
     "output_type": "stream",
     "text": [
      "Model name:  MLP\n"
     ]
    },
    {
     "data": {
      "text/plain": "MLP: 0epoch [00:00, ?epoch/s]",
      "application/vnd.jupyter.widget-view+json": {
       "version_major": 2,
       "version_minor": 0,
       "model_id": "7ae0942ea103484aa315c74b68a74d02"
      }
     },
     "metadata": {},
     "output_type": "display_data"
    },
    {
     "name": "stdout",
     "output_type": "stream",
     "text": [
      "10/10 [==============================] - 0s 4ms/step - loss: 1.0978 - accuracy: 0.7048\n",
      "10/10 [==============================] - 1s 2ms/step\n",
      "Dataset name:  lightning_7\n"
     ]
    },
    {
     "data": {
      "text/plain": "Train on \"lightning_7\":   0%|          | 0/1 [00:00<?, ?model/s]",
      "application/vnd.jupyter.widget-view+json": {
       "version_major": 2,
       "version_minor": 0,
       "model_id": "7d4b7e8e4a9b4de8a109f378e50a923c"
      }
     },
     "metadata": {},
     "output_type": "display_data"
    },
    {
     "name": "stdout",
     "output_type": "stream",
     "text": [
      "Model name:  MLP\n"
     ]
    },
    {
     "data": {
      "text/plain": "MLP: 0epoch [00:00, ?epoch/s]",
      "application/vnd.jupyter.widget-view+json": {
       "version_major": 2,
       "version_minor": 0,
       "model_id": "a67b0d19afc84fd692bacb9cbed0ee85"
      }
     },
     "metadata": {},
     "output_type": "display_data"
    },
    {
     "name": "stdout",
     "output_type": "stream",
     "text": [
      "3/3 [==============================] - 0s 7ms/step - loss: 1.4286 - accuracy: 0.6849\n",
      "3/3 [==============================] - 1s 3ms/step\n",
      "Dataset name:  medical_images\n"
     ]
    },
    {
     "data": {
      "text/plain": "Train on \"medical_images\":   0%|          | 0/1 [00:00<?, ?model/s]",
      "application/vnd.jupyter.widget-view+json": {
       "version_major": 2,
       "version_minor": 0,
       "model_id": "1172ee9db1934ea9bcf2061944ac3342"
      }
     },
     "metadata": {},
     "output_type": "display_data"
    },
    {
     "name": "stdout",
     "output_type": "stream",
     "text": [
      "Model name:  MLP\n"
     ]
    },
    {
     "data": {
      "text/plain": "MLP: 0epoch [00:00, ?epoch/s]",
      "application/vnd.jupyter.widget-view+json": {
       "version_major": 2,
       "version_minor": 0,
       "model_id": "c4316389a07b4ffc981112a07310c2b9"
      }
     },
     "metadata": {},
     "output_type": "display_data"
    },
    {
     "name": "stdout",
     "output_type": "stream",
     "text": [
      "24/24 [==============================] - 0s 4ms/step - loss: 1.1081 - accuracy: 0.6816\n",
      "24/24 [==============================] - 1s 3ms/step\n",
      "Dataset name:  middle_phalanx_age_group\n"
     ]
    },
    {
     "data": {
      "text/plain": "Train on \"middle_phalanx_age_group\":   0%|          | 0/1 [00:00<?, ?model/s]",
      "application/vnd.jupyter.widget-view+json": {
       "version_major": 2,
       "version_minor": 0,
       "model_id": "cff4f1289864458db944e743f75e8da9"
      }
     },
     "metadata": {},
     "output_type": "display_data"
    },
    {
     "name": "stdout",
     "output_type": "stream",
     "text": [
      "Model name:  MLP\n"
     ]
    },
    {
     "data": {
      "text/plain": "MLP: 0epoch [00:00, ?epoch/s]",
      "application/vnd.jupyter.widget-view+json": {
       "version_major": 2,
       "version_minor": 0,
       "model_id": "c45029aa9d4a4a4f958a23e31905d0fa"
      }
     },
     "metadata": {},
     "output_type": "display_data"
    },
    {
     "name": "stdout",
     "output_type": "stream",
     "text": [
      "5/5 [==============================] - 1s 5ms/step - loss: 0.9819 - accuracy: 0.4935\n",
      "5/5 [==============================] - 1s 2ms/step\n",
      "Dataset name:  middle_phalanx_correct\n"
     ]
    },
    {
     "data": {
      "text/plain": "Train on \"middle_phalanx_correct\":   0%|          | 0/1 [00:00<?, ?model/s]",
      "application/vnd.jupyter.widget-view+json": {
       "version_major": 2,
       "version_minor": 0,
       "model_id": "00711f57ddd84cdab78e46e00f8d0a48"
      }
     },
     "metadata": {},
     "output_type": "display_data"
    },
    {
     "name": "stdout",
     "output_type": "stream",
     "text": [
      "Model name:  MLP\n"
     ]
    },
    {
     "data": {
      "text/plain": "MLP: 0epoch [00:00, ?epoch/s]",
      "application/vnd.jupyter.widget-view+json": {
       "version_major": 2,
       "version_minor": 0,
       "model_id": "463b0fb59cf746479730da1a3922a7a3"
      }
     },
     "metadata": {},
     "output_type": "display_data"
    },
    {
     "name": "stdout",
     "output_type": "stream",
     "text": [
      "10/10 [==============================] - 1s 5ms/step - loss: 0.6719 - accuracy: 0.5739\n",
      "10/10 [==============================] - 1s 3ms/step\n",
      "Dataset name:  phalanges_outlines_correct\n"
     ]
    },
    {
     "data": {
      "text/plain": "Train on \"phalanges_outlines_correct\":   0%|          | 0/1 [00:00<?, ?model/s]",
      "application/vnd.jupyter.widget-view+json": {
       "version_major": 2,
       "version_minor": 0,
       "model_id": "91e4a59385d242688d65f39d1a6e799f"
      }
     },
     "metadata": {},
     "output_type": "display_data"
    },
    {
     "name": "stdout",
     "output_type": "stream",
     "text": [
      "Model name:  MLP\n"
     ]
    },
    {
     "data": {
      "text/plain": "MLP: 0epoch [00:00, ?epoch/s]",
      "application/vnd.jupyter.widget-view+json": {
       "version_major": 2,
       "version_minor": 0,
       "model_id": "170bfcbd15f245c18e0ac4b3b0e3424c"
      }
     },
     "metadata": {},
     "output_type": "display_data"
    },
    {
     "name": "stdout",
     "output_type": "stream",
     "text": [
      "27/27 [==============================] - 1s 4ms/step - loss: 0.6258 - accuracy: 0.6480\n",
      "27/27 [==============================] - 1s 3ms/step\n",
      "Dataset name:  plane\n"
     ]
    },
    {
     "data": {
      "text/plain": "Train on \"plane\":   0%|          | 0/1 [00:00<?, ?model/s]",
      "application/vnd.jupyter.widget-view+json": {
       "version_major": 2,
       "version_minor": 0,
       "model_id": "38bc0580978447c7a497603e9bdef0e8"
      }
     },
     "metadata": {},
     "output_type": "display_data"
    },
    {
     "name": "stdout",
     "output_type": "stream",
     "text": [
      "Model name:  MLP\n"
     ]
    },
    {
     "data": {
      "text/plain": "MLP: 0epoch [00:00, ?epoch/s]",
      "application/vnd.jupyter.widget-view+json": {
       "version_major": 2,
       "version_minor": 0,
       "model_id": "8999dae656e14e4c9f11a57b913f72a4"
      }
     },
     "metadata": {},
     "output_type": "display_data"
    },
    {
     "name": "stdout",
     "output_type": "stream",
     "text": [
      "4/4 [==============================] - 0s 6ms/step - loss: 0.1408 - accuracy: 0.9619\n",
      "4/4 [==============================] - 1s 2ms/step\n",
      "Dataset name:  power_cons\n"
     ]
    },
    {
     "data": {
      "text/plain": "Train on \"power_cons\":   0%|          | 0/1 [00:00<?, ?model/s]",
      "application/vnd.jupyter.widget-view+json": {
       "version_major": 2,
       "version_minor": 0,
       "model_id": "493dcf96a31c41bf8c7b917beb0f7bbb"
      }
     },
     "metadata": {},
     "output_type": "display_data"
    },
    {
     "name": "stdout",
     "output_type": "stream",
     "text": [
      "Model name:  MLP\n"
     ]
    },
    {
     "data": {
      "text/plain": "MLP: 0epoch [00:00, ?epoch/s]",
      "application/vnd.jupyter.widget-view+json": {
       "version_major": 2,
       "version_minor": 0,
       "model_id": "d107152cb4c04565851229c3b92a6568"
      }
     },
     "metadata": {},
     "output_type": "display_data"
    },
    {
     "name": "stdout",
     "output_type": "stream",
     "text": [
      "6/6 [==============================] - 0s 4ms/step - loss: 0.3734 - accuracy: 0.9167\n",
      "6/6 [==============================] - 1s 2ms/step\n",
      "Dataset name:  share_price_increase\n"
     ]
    },
    {
     "data": {
      "text/plain": "Train on \"share_price_increase\":   0%|          | 0/1 [00:00<?, ?model/s]",
      "application/vnd.jupyter.widget-view+json": {
       "version_major": 2,
       "version_minor": 0,
       "model_id": "a43a117790104aff8261c40af800300a"
      }
     },
     "metadata": {},
     "output_type": "display_data"
    },
    {
     "name": "stdout",
     "output_type": "stream",
     "text": [
      "Model name:  MLP\n"
     ]
    },
    {
     "data": {
      "text/plain": "MLP: 0epoch [00:00, ?epoch/s]",
      "application/vnd.jupyter.widget-view+json": {
       "version_major": 2,
       "version_minor": 0,
       "model_id": "18e9bf2cd3944bc0983c3a954067f809"
      }
     },
     "metadata": {},
     "output_type": "display_data"
    },
    {
     "name": "stdout",
     "output_type": "stream",
     "text": [
      "31/31 [==============================] - 0s 4ms/step - loss: 2.0083 - accuracy: 0.6884\n",
      "31/31 [==============================] - 1s 3ms/step\n",
      "Dataset name:  strawberry\n"
     ]
    },
    {
     "data": {
      "text/plain": "Train on \"strawberry\":   0%|          | 0/1 [00:00<?, ?model/s]",
      "application/vnd.jupyter.widget-view+json": {
       "version_major": 2,
       "version_minor": 0,
       "model_id": "b4c8d909cd7d40fb9d9248caf957bc72"
      }
     },
     "metadata": {},
     "output_type": "display_data"
    },
    {
     "name": "stdout",
     "output_type": "stream",
     "text": [
      "Model name:  MLP\n"
     ]
    },
    {
     "data": {
      "text/plain": "MLP: 0epoch [00:00, ?epoch/s]",
      "application/vnd.jupyter.widget-view+json": {
       "version_major": 2,
       "version_minor": 0,
       "model_id": "8e043ba6960c4c5299e61b18be31fed1"
      }
     },
     "metadata": {},
     "output_type": "display_data"
    },
    {
     "name": "stdout",
     "output_type": "stream",
     "text": [
      "12/12 [==============================] - 0s 4ms/step - loss: 0.3760 - accuracy: 0.8135\n",
      "12/12 [==============================] - 0s 2ms/step\n",
      "Dataset name:  swedish_leaf\n"
     ]
    },
    {
     "data": {
      "text/plain": "Train on \"swedish_leaf\":   0%|          | 0/1 [00:00<?, ?model/s]",
      "application/vnd.jupyter.widget-view+json": {
       "version_major": 2,
       "version_minor": 0,
       "model_id": "6386daad930f4379ab36aa0c0e951d4e"
      }
     },
     "metadata": {},
     "output_type": "display_data"
    },
    {
     "name": "stdout",
     "output_type": "stream",
     "text": [
      "Model name:  MLP\n"
     ]
    },
    {
     "data": {
      "text/plain": "MLP: 0epoch [00:00, ?epoch/s]",
      "application/vnd.jupyter.widget-view+json": {
       "version_major": 2,
       "version_minor": 0,
       "model_id": "9850f2b3126a419494cec22841052272"
      }
     },
     "metadata": {},
     "output_type": "display_data"
    },
    {
     "name": "stdout",
     "output_type": "stream",
     "text": [
      "20/20 [==============================] - 1s 6ms/step - loss: 0.6193 - accuracy: 0.8048\n",
      "20/20 [==============================] - 1s 3ms/step\n",
      "Dataset name:  synthetic_control\n"
     ]
    },
    {
     "data": {
      "text/plain": "Train on \"synthetic_control\":   0%|          | 0/1 [00:00<?, ?model/s]",
      "application/vnd.jupyter.widget-view+json": {
       "version_major": 2,
       "version_minor": 0,
       "model_id": "96c55433af6a427ab0d7fd881b7a9738"
      }
     },
     "metadata": {},
     "output_type": "display_data"
    },
    {
     "name": "stdout",
     "output_type": "stream",
     "text": [
      "Model name:  MLP\n"
     ]
    },
    {
     "data": {
      "text/plain": "MLP: 0epoch [00:00, ?epoch/s]",
      "application/vnd.jupyter.widget-view+json": {
       "version_major": 2,
       "version_minor": 0,
       "model_id": "f7f13c43a901420fb5525d9812421e9c"
      }
     },
     "metadata": {},
     "output_type": "display_data"
    },
    {
     "name": "stdout",
     "output_type": "stream",
     "text": [
      "10/10 [==============================] - 1s 4ms/step - loss: 5.3466 - accuracy: 0.7933\n",
      "10/10 [==============================] - 1s 2ms/step\n",
      "Dataset name:  trace\n"
     ]
    },
    {
     "data": {
      "text/plain": "Train on \"trace\":   0%|          | 0/1 [00:00<?, ?model/s]",
      "application/vnd.jupyter.widget-view+json": {
       "version_major": 2,
       "version_minor": 0,
       "model_id": "e028133706cc4a24824931d3f55bca97"
      }
     },
     "metadata": {},
     "output_type": "display_data"
    },
    {
     "name": "stdout",
     "output_type": "stream",
     "text": [
      "Model name:  MLP\n"
     ]
    },
    {
     "data": {
      "text/plain": "MLP: 0epoch [00:00, ?epoch/s]",
      "application/vnd.jupyter.widget-view+json": {
       "version_major": 2,
       "version_minor": 0,
       "model_id": "f5798ec767a5439d924c673b2cf4f0b2"
      }
     },
     "metadata": {},
     "output_type": "display_data"
    },
    {
     "name": "stdout",
     "output_type": "stream",
     "text": [
      "4/4 [==============================] - 1s 6ms/step - loss: 0.9532 - accuracy: 0.5900\n",
      "4/4 [==============================] - 1s 2ms/step\n"
     ]
    }
   ],
   "source": [
    "import os\n",
    "import logging\n",
    "os.environ['TF_CPP_MIN_LOG_LEVEL'] = '3'\n",
    "import tensorflow as tf\n",
    "tf.get_logger().setLevel(logging.FATAL)\n",
    "\n",
    "import json\n",
    "from Helpers import visualize_confusion_matrix\n",
    "from Evaluation import plot_model_history\n",
    "from TrainProdecure import train\n",
    "from ModelBuilder import get_MLP\n",
    "\n",
    "epochs = 20\n",
    "df_training_res = train([get_MLP], epochs=epochs)"
   ]
  },
  {
   "cell_type": "code",
   "execution_count": 4,
   "outputs": [
    {
     "name": "stdout",
     "output_type": "stream",
     "text": [
      "Highest Validation Accuracy: 0.09756097197532654\n"
     ]
    },
    {
     "data": {
      "text/plain": "<Figure size 640x480 with 2 Axes>",
      "image/png": "[encoded data removed]"
     },
     "metadata": {},
     "output_type": "display_data"
    },
    {
     "data": {
      "text/plain": "<Figure size 1000x1000 with 2 Axes>",
      "image/png": "[encoded data removed]"
     },
     "metadata": {},
     "output_type": "display_data"
    }
   ],
   "source": [
    "\n",
    "history = df_training_res['history'][0]\n",
    "confusion_matrix = df_training_res['confusion_matrix'][0]\n",
    "plot_model_history(json.loads(history), epochs=epochs)\n",
    "visualize_confusion_matrix(json.loads(confusion_matrix), \"MLP\", \"First Dataset\")"
   ],
   "metadata": {
    "collapsed": false
   }
  },
  {
   "cell_type": "code",
   "execution_count": null,
   "outputs": [],
   "source": [],
   "metadata": {
    "collapsed": false
   }
  },
  {
   "cell_type": "code",
   "execution_count": null,
   "outputs": [],
   "source": [],
   "metadata": {
    "collapsed": false
   }
  }
 ],
 "metadata": {
  "kernelspec": {
   "display_name": "Python 3",
   "language": "python",
   "name": "python3"
  },
  "language_info": {
   "codemirror_mode": {
    "name": "ipython",
    "version": 2
   },
   "file_extension": ".py",
   "mimetype": "text/x-python",
   "name": "python",
   "nbconvert_exporter": "python",
   "pygments_lexer": "ipython2",
   "version": "2.7.6"
  }
 },
 "nbformat": 4,
 "nbformat_minor": 0
}
