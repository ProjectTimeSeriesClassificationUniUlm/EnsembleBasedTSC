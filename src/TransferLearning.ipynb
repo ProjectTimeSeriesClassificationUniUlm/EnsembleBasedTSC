{
 "cells": [
  {
   "cell_type": "markdown",
   "source": [
    "# Transfer Learning"
   ],
   "metadata": {
    "collapsed": false
   }
  },
  {
   "cell_type": "code",
   "execution_count": 1,
   "outputs": [
    {
     "data": {
      "text/plain": "[PhysicalDevice(name='/physical_device:GPU:0', device_type='GPU')]"
     },
     "execution_count": 1,
     "metadata": {},
     "output_type": "execute_result"
    }
   ],
   "source": [
    "import sys\n",
    "\n",
    "from tqdm.auto import tqdm\n",
    "from tqdm.keras import TqdmCallback\n",
    "\n",
    "sys.path.append('..')\n",
    "\n",
    "import keras\n",
    "import tensorflow as tf\n",
    "import numpy as np\n",
    "\n",
    "from src.TrainProdecure import train_single_model\n",
    "from src.ModelBuilder import get_FCN\n",
    "from src.LoadData import get_all_datasets_test_train_np_arrays, CurrentDatasets\n",
    "from src.Ensemble import Ensemble, EnsembleMethods\n",
    "\n",
    "tf.config.list_physical_devices('GPU')"
   ],
   "metadata": {
    "collapsed": false
   }
  },
  {
   "cell_type": "code",
   "execution_count": 2,
   "outputs": [],
   "source": [
    "EPOCHS_PER_TRAINING = 25\n",
    "FINE_TUNE_DATASETS = CurrentDatasets.electric_devices.value, CurrentDatasets.cricket_y.value, CurrentDatasets.share_price_increase.value, CurrentDatasets.egg_five_days.value\n",
    "EVALUATION_DATASET = CurrentDatasets.wafer\n",
    "GENERATE_MODEL = get_FCN"
   ],
   "metadata": {
    "collapsed": false
   }
  },
  {
   "cell_type": "code",
   "execution_count": 3,
   "outputs": [],
   "source": [
    "ds = get_all_datasets_test_train_np_arrays('../datasets/')"
   ],
   "metadata": {
    "collapsed": false
   }
  },
  {
   "cell_type": "code",
   "execution_count": 4,
   "outputs": [],
   "source": [
    "def train_and_finetune(model,\n",
    "                       x_pretrain: np.ndarray, y_pretrain: np.ndarray,\n",
    "                       x_train_finetune: np.ndarray, y_train_finetune: np.ndarray,\n",
    "                       fine_tuning_learning_rate, nr_epochs=EPOCHS_PER_TRAINING,\n",
    "                       batch_size: int | None = 25, validation_split: float = 0.1,\n",
    "                       model_name: str = 'Unnamed model',\n",
    "                       pretrain_ds_name: str = 'Unnamed dataset', finetune_ds_name: str = 'Unnamed dataset',\n",
    "                       optimizer=keras.optimizers.Adam):\n",
    "    headless_model_layers = model.layers[:-1]\n",
    "\n",
    "    # Pretraining:\n",
    "    input_size = x_train.shape[1]\n",
    "    output_size = len(np.unique(y_pretrain))\n",
    "    pretrain_model = keras.Sequential([*headless_model_layers, keras.layers.Dense(output_size, activation='softmax')])\n",
    "    pretrain_model.build(input_shape=(None, input_size, 1))\n",
    "    train_single_model(pretrain_model, x_pretrain, y_pretrain, epochs=nr_epochs, model_name='pre-train'+model_name, dataset_name=pretrain_ds_name, batch_size=batch_size, validation_split=validation_split, optimizer=optimizer)\n",
    "\n",
    "    # Fine Tuning:\n",
    "    output_size = len(np.unique(y_train_finetune))\n",
    "    input_size = x_train.shape[1]\n",
    "    final_model = keras.Sequential([*headless_model_layers, keras.layers.Dense(output_size, activation='softmax')])\n",
    "    final_model.build(input_shape=(None, input_size, 1))\n",
    "    train_single_model(final_model, x_train_finetune, y_train_finetune, epochs=nr_epochs, model_name='fine-tune ' + model_name, dataset_name=finetune_ds_name, batch_size=batch_size, learning_rate=fine_tuning_learning_rate, validation_split=validation_split, optimizer=optimizer)\n",
    "\n",
    "    return final_model"
   ],
   "metadata": {
    "collapsed": false
   }
  },
  {
   "cell_type": "code",
   "execution_count": 5,
   "outputs": [],
   "source": [
    "x_train_evaluation, y_train_evaluation = ds[EVALUATION_DATASET]['train_data']\n",
    "x_test_evaluation, y_test_evaluation = ds[EVALUATION_DATASET]['test_data']\n",
    "\n",
    "list_of_models = []"
   ],
   "metadata": {
    "collapsed": false
   }
  },
  {
   "cell_type": "code",
   "execution_count": 6,
   "outputs": [
    {
     "data": {
      "text/plain": "Training one model on several datasets:   0%|          | 0/4 [00:00<?, ?Dataset/s]",
      "application/vnd.jupyter.widget-view+json": {
       "version_major": 2,
       "version_minor": 0,
       "model_id": "7e54f15cdc514b61aea8ae3d62064786"
      }
     },
     "metadata": {},
     "output_type": "display_data"
    },
    {
     "data": {
      "text/plain": "Training pre-trainFCN on electric_devices dataset: 0epoch [00:00, ?epoch/s]",
      "application/vnd.jupyter.widget-view+json": {
       "version_major": 2,
       "version_minor": 0,
       "model_id": "248b542e35584859bbafa7465f72fb4c"
      }
     },
     "metadata": {},
     "output_type": "display_data"
    },
    {
     "data": {
      "text/plain": "Training fine-tune FCN on synthetic_control dataset: 0epoch [00:00, ?epoch/s]",
      "application/vnd.jupyter.widget-view+json": {
       "version_major": 2,
       "version_minor": 0,
       "model_id": "66602535e6fd454f88ca07fd0e104a28"
      }
     },
     "metadata": {},
     "output_type": "display_data"
    },
    {
     "name": "stdout",
     "output_type": "stream",
     "text": [
      "WARNING:tensorflow:Model was constructed with shape (None, 96, 1) for input KerasTensor(type_spec=TensorSpec(shape=(None, 96, 1), dtype=tf.float32, name='conv1d_input'), name='conv1d_input', description=\"created by layer 'conv1d_input'\"), but it was called on an input with incompatible shape (None, 60, 1).\n",
      "WARNING:tensorflow:Model was constructed with shape (None, 96, 1) for input KerasTensor(type_spec=TensorSpec(shape=(None, 96, 1), dtype=tf.float32, name='conv1d_input'), name='conv1d_input', description=\"created by layer 'conv1d_input'\"), but it was called on an input with incompatible shape (None, 60, 1).\n",
      "WARNING:tensorflow:Model was constructed with shape (None, 96, 1) for input KerasTensor(type_spec=TensorSpec(shape=(None, 96, 1), dtype=tf.float32, name='conv1d_input'), name='conv1d_input', description=\"created by layer 'conv1d_input'\"), but it was called on an input with incompatible shape (None, 60, 1).\n",
      "WARNING:tensorflow:Model was constructed with shape (None, 96, 1) for input KerasTensor(type_spec=TensorSpec(shape=(None, 96, 1), dtype=tf.float32, name='conv1d_input'), name='conv1d_input', description=\"created by layer 'conv1d_input'\"), but it was called on an input with incompatible shape (None, 60, 1).\n",
      "10/10 [==============================] - 0s 5ms/step - loss: 0.5745 - accuracy: 0.8867\n"
     ]
    },
    {
     "data": {
      "text/plain": "Training pre-trainFCN on cricket_y dataset: 0epoch [00:00, ?epoch/s]",
      "application/vnd.jupyter.widget-view+json": {
       "version_major": 2,
       "version_minor": 0,
       "model_id": "55530a7ecb514934b4e4371755bb03ff"
      }
     },
     "metadata": {},
     "output_type": "display_data"
    },
    {
     "data": {
      "text/plain": "Training fine-tune FCN on synthetic_control dataset: 0epoch [00:00, ?epoch/s]",
      "application/vnd.jupyter.widget-view+json": {
       "version_major": 2,
       "version_minor": 0,
       "model_id": "aa55211f383a4a578dadbfa92c86c3fd"
      }
     },
     "metadata": {},
     "output_type": "display_data"
    },
    {
     "name": "stdout",
     "output_type": "stream",
     "text": [
      "WARNING:tensorflow:Model was constructed with shape (None, 300, 1) for input KerasTensor(type_spec=TensorSpec(shape=(None, 300, 1), dtype=tf.float32, name='conv1d_3_input'), name='conv1d_3_input', description=\"created by layer 'conv1d_3_input'\"), but it was called on an input with incompatible shape (None, 60, 1).\n",
      "WARNING:tensorflow:Model was constructed with shape (None, 300, 1) for input KerasTensor(type_spec=TensorSpec(shape=(None, 300, 1), dtype=tf.float32, name='conv1d_3_input'), name='conv1d_3_input', description=\"created by layer 'conv1d_3_input'\"), but it was called on an input with incompatible shape (None, 60, 1).\n",
      "WARNING:tensorflow:Model was constructed with shape (None, 300, 1) for input KerasTensor(type_spec=TensorSpec(shape=(None, 300, 1), dtype=tf.float32, name='conv1d_3_input'), name='conv1d_3_input', description=\"created by layer 'conv1d_3_input'\"), but it was called on an input with incompatible shape (None, 60, 1).\n",
      "WARNING:tensorflow:Model was constructed with shape (None, 300, 1) for input KerasTensor(type_spec=TensorSpec(shape=(None, 300, 1), dtype=tf.float32, name='conv1d_3_input'), name='conv1d_3_input', description=\"created by layer 'conv1d_3_input'\"), but it was called on an input with incompatible shape (None, 60, 1).\n",
      "10/10 [==============================] - 0s 3ms/step - loss: 0.3152 - accuracy: 0.9733\n"
     ]
    },
    {
     "data": {
      "text/plain": "Training pre-trainFCN on sony_robot dataset: 0epoch [00:00, ?epoch/s]",
      "application/vnd.jupyter.widget-view+json": {
       "version_major": 2,
       "version_minor": 0,
       "model_id": "044b75dcf52f4b2294537cda5a189f0b"
      }
     },
     "metadata": {},
     "output_type": "display_data"
    },
    {
     "data": {
      "text/plain": "Training fine-tune FCN on synthetic_control dataset: 0epoch [00:00, ?epoch/s]",
      "application/vnd.jupyter.widget-view+json": {
       "version_major": 2,
       "version_minor": 0,
       "model_id": "c866f2e46e6543c3b31b6c418812cbc4"
      }
     },
     "metadata": {},
     "output_type": "display_data"
    },
    {
     "name": "stdout",
     "output_type": "stream",
     "text": [
      "WARNING:tensorflow:Model was constructed with shape (None, 70, 1) for input KerasTensor(type_spec=TensorSpec(shape=(None, 70, 1), dtype=tf.float32, name='conv1d_6_input'), name='conv1d_6_input', description=\"created by layer 'conv1d_6_input'\"), but it was called on an input with incompatible shape (None, 60, 1).\n",
      "WARNING:tensorflow:Model was constructed with shape (None, 70, 1) for input KerasTensor(type_spec=TensorSpec(shape=(None, 70, 1), dtype=tf.float32, name='conv1d_6_input'), name='conv1d_6_input', description=\"created by layer 'conv1d_6_input'\"), but it was called on an input with incompatible shape (None, 60, 1).\n",
      "WARNING:tensorflow:Model was constructed with shape (None, 70, 1) for input KerasTensor(type_spec=TensorSpec(shape=(None, 70, 1), dtype=tf.float32, name='conv1d_6_input'), name='conv1d_6_input', description=\"created by layer 'conv1d_6_input'\"), but it was called on an input with incompatible shape (None, 60, 1).\n",
      "WARNING:tensorflow:Model was constructed with shape (None, 70, 1) for input KerasTensor(type_spec=TensorSpec(shape=(None, 70, 1), dtype=tf.float32, name='conv1d_6_input'), name='conv1d_6_input', description=\"created by layer 'conv1d_6_input'\"), but it was called on an input with incompatible shape (None, 60, 1).\n",
      "10/10 [==============================] - 0s 3ms/step - loss: 0.3178 - accuracy: 0.9833\n"
     ]
    },
    {
     "data": {
      "text/plain": "Training pre-trainFCN on egg_five_days dataset: 0epoch [00:00, ?epoch/s]",
      "application/vnd.jupyter.widget-view+json": {
       "version_major": 2,
       "version_minor": 0,
       "model_id": "c1efd2a7f9374a878aa7a727245bc6b2"
      }
     },
     "metadata": {},
     "output_type": "display_data"
    },
    {
     "data": {
      "text/plain": "Training fine-tune FCN on synthetic_control dataset: 0epoch [00:00, ?epoch/s]",
      "application/vnd.jupyter.widget-view+json": {
       "version_major": 2,
       "version_minor": 0,
       "model_id": "6f411e48d8e64611a956dabb0f4ac80a"
      }
     },
     "metadata": {},
     "output_type": "display_data"
    },
    {
     "name": "stdout",
     "output_type": "stream",
     "text": [
      "WARNING:tensorflow:Model was constructed with shape (None, 136, 1) for input KerasTensor(type_spec=TensorSpec(shape=(None, 136, 1), dtype=tf.float32, name='conv1d_9_input'), name='conv1d_9_input', description=\"created by layer 'conv1d_9_input'\"), but it was called on an input with incompatible shape (None, 60, 1).\n",
      "WARNING:tensorflow:Model was constructed with shape (None, 136, 1) for input KerasTensor(type_spec=TensorSpec(shape=(None, 136, 1), dtype=tf.float32, name='conv1d_9_input'), name='conv1d_9_input', description=\"created by layer 'conv1d_9_input'\"), but it was called on an input with incompatible shape (None, 60, 1).\n",
      "WARNING:tensorflow:Model was constructed with shape (None, 136, 1) for input KerasTensor(type_spec=TensorSpec(shape=(None, 136, 1), dtype=tf.float32, name='conv1d_9_input'), name='conv1d_9_input', description=\"created by layer 'conv1d_9_input'\"), but it was called on an input with incompatible shape (None, 60, 1).\n",
      "WARNING:tensorflow:Model was constructed with shape (None, 136, 1) for input KerasTensor(type_spec=TensorSpec(shape=(None, 136, 1), dtype=tf.float32, name='conv1d_9_input'), name='conv1d_9_input', description=\"created by layer 'conv1d_9_input'\"), but it was called on an input with incompatible shape (None, 60, 1).\n",
      "10/10 [==============================] - 0s 3ms/step - loss: 0.5389 - accuracy: 0.9500\n"
     ]
    }
   ],
   "source": [
    "for dataset_name in tqdm(FINE_TUNE_DATASETS, desc='Training one model on several datasets', unit='Dataset'):\n",
    "    x_train, y_train = ds[dataset_name]['train_data']\n",
    "    x_test, y_test = ds[dataset_name]['test_data']\n",
    "\n",
    "    input_size = x_train.shape[1]\n",
    "    model = GENERATE_MODEL(input_size, 1)\n",
    "\n",
    "    new_model = train_and_finetune(model, x_pretrain=x_train, y_pretrain=y_train,\n",
    "                       x_train_finetune=x_train_evaluation, y_train_finetune=y_train_evaluation,\n",
    "                       fine_tuning_learning_rate=10e-5, model_name='FCN',\n",
    "                       pretrain_ds_name=dataset_name, finetune_ds_name=EVALUATION_DATASET)\n",
    "\n",
    "    new_model.evaluate(x_test_evaluation, y_test_evaluation)\n",
    "\n",
    "    list_of_models.append(new_model)"
   ],
   "metadata": {
    "collapsed": false
   }
  },
  {
   "cell_type": "markdown",
   "source": [
    "## Build model from scratch"
   ],
   "metadata": {
    "collapsed": false
   }
  },
  {
   "cell_type": "code",
   "execution_count": 7,
   "outputs": [],
   "source": [
    "model_from_scratch = GENERATE_MODEL(x_train_evaluation.shape[1], len(np.unique(y_train_evaluation)))\n",
    "model_from_scratch.build(input_shape=(None, x_train_evaluation.shape[1], 1))\n",
    "model_from_scratch.compile(optimizer=keras.optimizers.Adam(), loss=keras.losses.SparseCategoricalCrossentropy(), metrics=['accuracy'])"
   ],
   "metadata": {
    "collapsed": false
   }
  },
  {
   "cell_type": "code",
   "execution_count": 11,
   "outputs": [
    {
     "data": {
      "text/plain": "Training from scratch on synthetic_control: 0epoch [00:00, ?epoch/s]",
      "application/vnd.jupyter.widget-view+json": {
       "version_major": 2,
       "version_minor": 0,
       "model_id": "3d7ece23f51844798bb6593a327e33e7"
      }
     },
     "metadata": {},
     "output_type": "display_data"
    },
    {
     "name": "stdout",
     "output_type": "stream",
     "text": [
      "WARNING:tensorflow:Callback method `on_train_batch_end` is slow compared to the batch time (batch time: 0.0095s vs `on_train_batch_end` time: 0.0147s). Check your callbacks.\n"
     ]
    },
    {
     "data": {
      "text/plain": "<keras.callbacks.History at 0x1d178102b60>"
     },
     "execution_count": 11,
     "metadata": {},
     "output_type": "execute_result"
    }
   ],
   "source": [
    "model_from_scratch.fit(x_train_evaluation, y_train_evaluation, epochs=100, batch_size=25, validation_split=0.1, callbacks=[TqdmCallback(verbose=0, desc=f'Training from scratch on {EVALUATION_DATASET}')], verbose=0)"
   ],
   "metadata": {
    "collapsed": false
   }
  },
  {
   "cell_type": "code",
   "execution_count": 12,
   "outputs": [
    {
     "name": "stdout",
     "output_type": "stream",
     "text": [
      "10/10 [==============================] - 0s 24ms/step - loss: 0.0407 - accuracy: 0.9833\n"
     ]
    },
    {
     "data": {
      "text/plain": "[0.04071700945496559, 0.9833333492279053]"
     },
     "execution_count": 12,
     "metadata": {},
     "output_type": "execute_result"
    }
   ],
   "source": [
    "model_from_scratch.evaluate(x_test_evaluation, y_test_evaluation)"
   ],
   "metadata": {
    "collapsed": false
   }
  },
  {
   "cell_type": "markdown",
   "source": [
    "## Build Ensemble from Pretrained models"
   ],
   "metadata": {
    "collapsed": false
   }
  },
  {
   "cell_type": "code",
   "execution_count": 13,
   "outputs": [
    {
     "name": "stdout",
     "output_type": "stream",
     "text": [
      "WARNING:tensorflow:Model was constructed with shape (None, 96, 1) for input KerasTensor(type_spec=TensorSpec(shape=(None, 96, 1), dtype=tf.float32, name='conv1d_input'), name='conv1d_input', description=\"created by layer 'conv1d_input'\"), but it was called on an input with incompatible shape (None, 60, 1).\n",
      "WARNING:tensorflow:Model was constructed with shape (None, 300, 1) for input KerasTensor(type_spec=TensorSpec(shape=(None, 300, 1), dtype=tf.float32, name='conv1d_3_input'), name='conv1d_3_input', description=\"created by layer 'conv1d_3_input'\"), but it was called on an input with incompatible shape (None, 60, 1).\n",
      "WARNING:tensorflow:Model was constructed with shape (None, 70, 1) for input KerasTensor(type_spec=TensorSpec(shape=(None, 70, 1), dtype=tf.float32, name='conv1d_6_input'), name='conv1d_6_input', description=\"created by layer 'conv1d_6_input'\"), but it was called on an input with incompatible shape (None, 60, 1).\n",
      "WARNING:tensorflow:Model was constructed with shape (None, 136, 1) for input KerasTensor(type_spec=TensorSpec(shape=(None, 136, 1), dtype=tf.float32, name='conv1d_9_input'), name='conv1d_9_input', description=\"created by layer 'conv1d_9_input'\"), but it was called on an input with incompatible shape (None, 60, 1).\n",
      "WARNING:tensorflow:Model was constructed with shape (None, 96, 1) for input KerasTensor(type_spec=TensorSpec(shape=(None, 96, 1), dtype=tf.float32, name='conv1d_input'), name='conv1d_input', description=\"created by layer 'conv1d_input'\"), but it was called on an input with incompatible shape (None, 60, 1).\n",
      "WARNING:tensorflow:Model was constructed with shape (None, 300, 1) for input KerasTensor(type_spec=TensorSpec(shape=(None, 300, 1), dtype=tf.float32, name='conv1d_3_input'), name='conv1d_3_input', description=\"created by layer 'conv1d_3_input'\"), but it was called on an input with incompatible shape (None, 60, 1).\n",
      "WARNING:tensorflow:Model was constructed with shape (None, 70, 1) for input KerasTensor(type_spec=TensorSpec(shape=(None, 70, 1), dtype=tf.float32, name='conv1d_6_input'), name='conv1d_6_input', description=\"created by layer 'conv1d_6_input'\"), but it was called on an input with incompatible shape (None, 60, 1).\n",
      "WARNING:tensorflow:Model was constructed with shape (None, 136, 1) for input KerasTensor(type_spec=TensorSpec(shape=(None, 136, 1), dtype=tf.float32, name='conv1d_9_input'), name='conv1d_9_input', description=\"created by layer 'conv1d_9_input'\"), but it was called on an input with incompatible shape (None, 60, 1).\n",
      "10/10 [==============================] - 1s 26ms/step - loss: 0.0000e+00 - accuracy: 0.1000\n"
     ]
    },
    {
     "data": {
      "text/plain": "[0.0, 0.10000000149011612]"
     },
     "execution_count": 13,
     "metadata": {},
     "output_type": "execute_result"
    }
   ],
   "source": [
    "ensemble = Ensemble(list_of_models, EnsembleMethods.AVERAGE)\n",
    "ensemble.compile(metrics=['accuracy'])\n",
    "ensemble.evaluate(x_test_evaluation, y_test_evaluation)"
   ],
   "metadata": {
    "collapsed": false
   }
  },
  {
   "cell_type": "code",
   "execution_count": 10,
   "outputs": [],
   "source": [],
   "metadata": {
    "collapsed": false
   }
  }
 ],
 "metadata": {
  "kernelspec": {
   "display_name": "Python 3",
   "language": "python",
   "name": "python3"
  },
  "language_info": {
   "codemirror_mode": {
    "name": "ipython",
    "version": 2
   },
   "file_extension": ".py",
   "mimetype": "text/x-python",
   "name": "python",
   "nbconvert_exporter": "python",
   "pygments_lexer": "ipython2",
   "version": "2.7.6"
  }
 },
 "nbformat": 4,
 "nbformat_minor": 0
}
