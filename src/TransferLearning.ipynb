{
 "cells": [
  {
   "cell_type": "markdown",
   "source": [
    "# Transfer Learning"
   ],
   "metadata": {
    "collapsed": false
   }
  },
  {
   "cell_type": "code",
   "execution_count": 1,
   "outputs": [],
   "source": [
    "import sys\n",
    "sys.path.append('..')\n",
    "\n",
    "import keras\n",
    "import numpy as np\n",
    "\n",
    "from src.TrainProdecure import train_single_model\n",
    "from src.ModelBuilder import get_FCN\n",
    "from src.LoadData import get_all_datasets_names_paths, get_all_datasets_test_train_np_arrays, CurrentDatasets\n"
   ],
   "metadata": {
    "collapsed": false
   }
  },
  {
   "cell_type": "code",
   "execution_count": 22,
   "metadata": {
    "collapsed": true
   },
   "outputs": [],
   "source": [
    "model = get_FCN(96, 7)"
   ]
  },
  {
   "cell_type": "code",
   "execution_count": 23,
   "outputs": [],
   "source": [
    "def headless(model):\n",
    "    return model.layers[1:-1]"
   ],
   "metadata": {
    "collapsed": false
   }
  },
  {
   "cell_type": "code",
   "execution_count": 24,
   "outputs": [],
   "source": [
    "def freeze_layers(list_of_layers):\n",
    "    for layer in list_of_layers:\n",
    "        layer.trainable = False"
   ],
   "metadata": {
    "collapsed": false
   }
  },
  {
   "cell_type": "code",
   "execution_count": 25,
   "outputs": [
    {
     "data": {
      "text/plain": "[<keras.layers.normalization.batch_normalization.BatchNormalization at 0x222adb452d0>,\n <keras.layers.core.activation.Activation at 0x222adb20460>,\n <keras.layers.convolutional.conv1d.Conv1D at 0x222adb61ed0>,\n <keras.layers.normalization.batch_normalization.BatchNormalization at 0x222adb61f30>,\n <keras.layers.core.activation.Activation at 0x222adb63400>,\n <keras.layers.convolutional.conv1d.Conv1D at 0x222adb638b0>,\n <keras.layers.normalization.batch_normalization.BatchNormalization at 0x222b20596c0>,\n <keras.layers.core.activation.Activation at 0x222adb63eb0>,\n <keras.layers.pooling.global_average_pooling1d.GlobalAveragePooling1D at 0x222adba83a0>]"
     },
     "execution_count": 25,
     "metadata": {},
     "output_type": "execute_result"
    }
   ],
   "source": [
    "layers = headless(model)\n",
    "layers"
   ],
   "metadata": {
    "collapsed": false
   }
  },
  {
   "cell_type": "code",
   "execution_count": 26,
   "outputs": [],
   "source": [
    "freeze_layers(headless(model))"
   ],
   "metadata": {
    "collapsed": false
   }
  },
  {
   "cell_type": "code",
   "execution_count": 7,
   "outputs": [],
   "source": [
    "ds_name = CurrentDatasets.electric_devices.value\n",
    "ds = get_all_datasets_test_train_np_arrays('../datasets/')"
   ],
   "metadata": {
    "collapsed": false
   }
  },
  {
   "cell_type": "code",
   "execution_count": 8,
   "outputs": [
    {
     "data": {
      "text/plain": "(array([[-0.18610903, -0.18610903, -0.18610903, ..., -0.18610903,\n         -0.18610903, -0.18610903],\n        [-0.17700482, -0.17700482, -0.17700482, ..., -0.17700482,\n         -0.17700482, -0.17700482],\n        [-0.21353499, -0.21353499, -0.21353499, ..., -0.21353499,\n         -0.21353499, -0.21353499],\n        ...,\n        [-0.39939354, -0.39939354, -0.39939354, ..., -0.39939354,\n         -0.39939354, -0.39939354],\n        [-0.59559852, -0.59559852, -0.59559852, ...,  1.8712256 ,\n          1.8712256 ,  1.7831247 ],\n        [-0.54518251, -0.54518251, -0.54518251, ..., -0.54518251,\n         -0.54518251, -0.54518251]]),\n array([0, 0, 0, ..., 4, 4, 4], dtype=int64))"
     },
     "execution_count": 8,
     "metadata": {},
     "output_type": "execute_result"
    }
   ],
   "source": [
    "x_train, y_train = ds[ds_name]['train_data']\n",
    "x_test, y_test = ds[ds_name]['test_data']\n",
    "x_train, y_train"
   ],
   "metadata": {
    "collapsed": false
   }
  },
  {
   "cell_type": "code",
   "execution_count": 9,
   "outputs": [
    {
     "data": {
      "text/plain": "(96, 7)"
     },
     "execution_count": 9,
     "metadata": {},
     "output_type": "execute_result"
    }
   ],
   "source": [
    "input_size = x_train.shape[1]\n",
    "output_size = len(np.unique(y_train))\n",
    "input_size, output_size"
   ],
   "metadata": {
    "collapsed": false
   }
  },
  {
   "cell_type": "code",
   "execution_count": 27,
   "outputs": [
    {
     "data": {
      "text/plain": "sequential_1: 0epoch [00:00, ?epoch/s]",
      "application/vnd.jupyter.widget-view+json": {
       "version_major": 2,
       "version_minor": 0,
       "model_id": "1c0af3fb460c4ec9a29b9cc8d6212925"
      }
     },
     "metadata": {},
     "output_type": "display_data"
    },
    {
     "name": "stdout",
     "output_type": "stream",
     "text": [
      "241/241 [==============================] - 4s 15ms/step - loss: 1.4241 - accuracy: 0.5681\n"
     ]
    }
   ],
   "source": [
    "_, loss, acc, history = train_single_model(model, x_train, y_train, x_test, y_test, epochs=10)"
   ],
   "metadata": {
    "collapsed": false
   }
  },
  {
   "cell_type": "code",
   "execution_count": 28,
   "outputs": [
    {
     "ename": "TypeError",
     "evalue": "'History' object is not subscriptable",
     "output_type": "error",
     "traceback": [
      "\u001B[1;31m---------------------------------------------------------------------------\u001B[0m",
      "\u001B[1;31mTypeError\u001B[0m                                 Traceback (most recent call last)",
      "Cell \u001B[1;32mIn[28], line 1\u001B[0m\n\u001B[1;32m----> 1\u001B[0m \u001B[43mhistory\u001B[49m\u001B[43m[\u001B[49m\u001B[38;5;124;43m'\u001B[39;49m\u001B[38;5;124;43maccuracy\u001B[39;49m\u001B[38;5;124;43m'\u001B[39;49m\u001B[43m]\u001B[49m\n",
      "\u001B[1;31mTypeError\u001B[0m: 'History' object is not subscriptable"
     ]
    }
   ],
   "source": [
    "history['accuracy']"
   ],
   "metadata": {
    "collapsed": false
   }
  },
  {
   "cell_type": "code",
   "execution_count": null,
   "outputs": [],
   "source": [
    "from src.Evaluation import plot_model_history\n",
    "\n",
    "plot_model_history(history, epochs=10)"
   ],
   "metadata": {
    "collapsed": false
   }
  }
 ],
 "metadata": {
  "kernelspec": {
   "display_name": "Python 3",
   "language": "python",
   "name": "python3"
  },
  "language_info": {
   "codemirror_mode": {
    "name": "ipython",
    "version": 2
   },
   "file_extension": ".py",
   "mimetype": "text/x-python",
   "name": "python",
   "nbconvert_exporter": "python",
   "pygments_lexer": "ipython2",
   "version": "2.7.6"
  }
 },
 "nbformat": 4,
 "nbformat_minor": 0
}
