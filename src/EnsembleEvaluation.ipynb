{
 "cells": [
  {
   "cell_type": "code",
   "execution_count": 1,
   "metadata": {
    "collapsed": true
   },
   "outputs": [
    {
     "name": "stderr",
     "output_type": "stream",
     "text": [
      "2023-01-30 21:05:29.124992: I tensorflow/core/platform/cpu_feature_guard.cc:193] This TensorFlow binary is optimized with oneAPI Deep Neural Network Library (oneDNN) to use the following CPU instructions in performance-critical operations:  AVX2 FMA\n",
      "To enable them in other operations, rebuild TensorFlow with the appropriate compiler flags.\n",
      "2023-01-30 21:05:29.615787: W tensorflow/compiler/xla/stream_executor/platform/default/dso_loader.cc:64] Could not load dynamic library 'libnvinfer.so.7'; dlerror: libnvinfer.so.7: cannot open shared object file: No such file or directory; LD_LIBRARY_PATH: :/home/felix/miniconda3/envs/tf/lib/\n",
      "2023-01-30 21:05:29.616737: W tensorflow/compiler/xla/stream_executor/platform/default/dso_loader.cc:64] Could not load dynamic library 'libnvinfer_plugin.so.7'; dlerror: libnvinfer_plugin.so.7: cannot open shared object file: No such file or directory; LD_LIBRARY_PATH: :/home/felix/miniconda3/envs/tf/lib/\n",
      "2023-01-30 21:05:29.616745: W tensorflow/compiler/tf2tensorrt/utils/py_utils.cc:38] TF-TRT Warning: Cannot dlopen some TensorRT libraries. If you would like to use Nvidia GPU with TensorRT, please make sure the missing libraries mentioned above are installed properly.\n"
     ]
    }
   ],
   "source": [
    "import os\n",
    "\n",
    "import numpy as np\n",
    "import tensorflow as tf\n",
    "from tensorflow import keras\n",
    "import tensorflow_addons\n",
    "from sklearn.metrics import accuracy_score\n",
    "from toolz import valmap\n",
    "from functools import partial\n",
    "from Ensemble import Ensemble, EnsembleMethods\n",
    "from LoadData import get_all_datasets_test_train_np_arrays, CurrentDatasets"
   ]
  },
  {
   "cell_type": "code",
   "execution_count": 2,
   "outputs": [],
   "source": [
    "datasets = get_all_datasets_test_train_np_arrays('../datasets/')"
   ],
   "metadata": {
    "collapsed": false
   }
  },
  {
   "cell_type": "code",
   "execution_count": 3,
   "outputs": [],
   "source": [
    "EVALUATION_DATASET = CurrentDatasets.swedish_leaf.value\n",
    "\n",
    "x_test, y_test = datasets[EVALUATION_DATASET]['test_data']"
   ],
   "metadata": {
    "collapsed": false
   }
  },
  {
   "cell_type": "code",
   "execution_count": 4,
   "outputs": [
    {
     "name": "stderr",
     "output_type": "stream",
     "text": [
      "WARNING:root:The given value for groups will be overwritten.\n",
      "WARNING:root:The given value for groups will be overwritten.\n",
      "WARNING:root:The given value for groups will be overwritten.\n",
      "/home/felix/miniconda3/envs/tf/lib/python3.10/site-packages/keras/layers/core/lambda_layer.py:324: UserWarning: ModelBuilder is not loaded, but a Lambda layer uses it. It may cause errors.\n",
      "  function = cls._parse_function_from_config(\n",
      "WARNING:root:The given value for groups will be overwritten.\n",
      "2023-01-30 21:05:38.473388: I tensorflow/compiler/xla/stream_executor/cuda/cuda_gpu_executor.cc:967] could not open file to read NUMA node: /sys/bus/pci/devices/0000:0a:00.0/numa_node\n",
      "Your kernel may have been built without NUMA support.\n",
      "2023-01-30 21:05:38.482544: I tensorflow/compiler/xla/stream_executor/cuda/cuda_gpu_executor.cc:967] could not open file to read NUMA node: /sys/bus/pci/devices/0000:0a:00.0/numa_node\n",
      "Your kernel may have been built without NUMA support.\n",
      "2023-01-30 21:05:38.482593: I tensorflow/compiler/xla/stream_executor/cuda/cuda_gpu_executor.cc:967] could not open file to read NUMA node: /sys/bus/pci/devices/0000:0a:00.0/numa_node\n",
      "Your kernel may have been built without NUMA support.\n",
      "2023-01-30 21:05:38.482936: I tensorflow/core/platform/cpu_feature_guard.cc:193] This TensorFlow binary is optimized with oneAPI Deep Neural Network Library (oneDNN) to use the following CPU instructions in performance-critical operations:  AVX2 FMA\n",
      "To enable them in other operations, rebuild TensorFlow with the appropriate compiler flags.\n",
      "2023-01-30 21:05:38.484137: I tensorflow/compiler/xla/stream_executor/cuda/cuda_gpu_executor.cc:967] could not open file to read NUMA node: /sys/bus/pci/devices/0000:0a:00.0/numa_node\n",
      "Your kernel may have been built without NUMA support.\n",
      "2023-01-30 21:05:38.484184: I tensorflow/compiler/xla/stream_executor/cuda/cuda_gpu_executor.cc:967] could not open file to read NUMA node: /sys/bus/pci/devices/0000:0a:00.0/numa_node\n",
      "Your kernel may have been built without NUMA support.\n",
      "2023-01-30 21:05:38.484218: I tensorflow/compiler/xla/stream_executor/cuda/cuda_gpu_executor.cc:967] could not open file to read NUMA node: /sys/bus/pci/devices/0000:0a:00.0/numa_node\n",
      "Your kernel may have been built without NUMA support.\n",
      "2023-01-30 21:05:39.035235: I tensorflow/compiler/xla/stream_executor/cuda/cuda_gpu_executor.cc:967] could not open file to read NUMA node: /sys/bus/pci/devices/0000:0a:00.0/numa_node\n",
      "Your kernel may have been built without NUMA support.\n",
      "2023-01-30 21:05:39.035317: I tensorflow/compiler/xla/stream_executor/cuda/cuda_gpu_executor.cc:967] could not open file to read NUMA node: /sys/bus/pci/devices/0000:0a:00.0/numa_node\n",
      "Your kernel may have been built without NUMA support.\n",
      "2023-01-30 21:05:39.035324: I tensorflow/core/common_runtime/gpu/gpu_device.cc:1700] Could not identify NUMA node of platform GPU id 0, defaulting to 0.  Your kernel may not have been built with NUMA support.\n",
      "2023-01-30 21:05:39.035370: I tensorflow/compiler/xla/stream_executor/cuda/cuda_gpu_executor.cc:967] could not open file to read NUMA node: /sys/bus/pci/devices/0000:0a:00.0/numa_node\n",
      "Your kernel may have been built without NUMA support.\n",
      "2023-01-30 21:05:39.035439: I tensorflow/core/common_runtime/gpu/gpu_device.cc:1613] Created device /job:localhost/replica:0/task:0/device:GPU:0 with 5395 MB memory:  -> device: 0, name: NVIDIA GeForce RTX 3070, pci bus id: 0000:0a:00.0, compute capability: 8.6\n"
     ]
    },
    {
     "data": {
      "text/plain": "{'Encoder': <keras.engine.functional.Functional at 0x7f2487383f10>,\n 'FCN': <keras.engine.sequential.Sequential at 0x7f248d3e9030>,\n 'MCDCNN': <keras.engine.sequential.Sequential at 0x7f2487135e10>,\n 'MLP': <keras.engine.sequential.Sequential at 0x7f2487134490>,\n 'Resnet': <keras.engine.functional.Functional at 0x7f248d6fae30>,\n 'Time_CNN': <keras.engine.sequential.Sequential at 0x7f248d4800a0>}"
     },
     "execution_count": 4,
     "metadata": {},
     "output_type": "execute_result"
    }
   ],
   "source": [
    "\n",
    "model_path = f'../models/{EVALUATION_DATASET}'\n",
    "models_to_load = os.listdir(model_path)\n",
    "models = dict(zip(list(map(lambda filename: filename.removesuffix('.h5'), models_to_load)),\n",
    "                  list(map(lambda filename: keras.models.load_model(model_path + \"/\" + filename), models_to_load))))\n",
    "models"
   ],
   "metadata": {
    "collapsed": false
   }
  },
  {
   "cell_type": "code",
   "execution_count": 14,
   "outputs": [
    {
     "name": "stdout",
     "output_type": "stream",
     "text": [
      "20/20 [==============================] - 0s 14ms/step\n",
      "20/20 [==============================] - 0s 2ms/step\n",
      "20/20 [==============================] - 0s 1ms/step\n",
      "20/20 [==============================] - 0s 1ms/step\n",
      "20/20 [==============================] - 0s 4ms/step\n",
      "20/20 [==============================] - 0s 1ms/step\n",
      "20/20 [==============================] - 0s 3ms/step\n",
      "20/20 [==============================] - 0s 2ms/step\n",
      "20/20 [==============================] - 0s 1ms/step\n",
      "20/20 [==============================] - 0s 992us/step\n",
      "20/20 [==============================] - 0s 3ms/step\n",
      "20/20 [==============================] - 0s 1ms/step\n",
      "20/20 [==============================] - 0s 3ms/step\n",
      "20/20 [==============================] - 0s 2ms/step\n",
      "20/20 [==============================] - 0s 1ms/step\n",
      "20/20 [==============================] - 0s 1ms/step\n",
      "20/20 [==============================] - 0s 3ms/step\n",
      "20/20 [==============================] - 0s 1ms/step\n"
     ]
    },
    {
     "data": {
      "text/plain": "{<EnsembleMethods.AVERAGE: 'average'>: 0.9024,\n <EnsembleMethods.LOGISTIC_AVERAGE: 'logistic_average'>: 0.9024,\n <EnsembleMethods.MAJORITY_VOTE: 'majority_vote'>: 0.8576}"
     },
     "execution_count": 14,
     "metadata": {},
     "output_type": "execute_result"
    }
   ],
   "source": [
    "def calc_ensemble_accuracy_score(x, f_x, models):\n",
    "    ensemble_methods = [method for method in EnsembleMethods]\n",
    "    ensembles = dict(zip(ensemble_methods,\n",
    "                         list(map(lambda ensemble_type: Ensemble(models=list(models.values()), ensemble_type=ensemble_type),\n",
    "                                  ensemble_methods))))\n",
    "\n",
    "    predicted_classes = valmap(lambda ensemble: np.array(ensemble.__ensemble_method__(x)),\n",
    "                               ensembles)\n",
    "    return valmap(partial(accuracy_score,f_x), predicted_classes)\n",
    "\n",
    "calc_ensemble_accuracy_score(x_test, y_test, models)\n"
   ],
   "metadata": {
    "collapsed": false
   }
  },
  {
   "cell_type": "code",
   "execution_count": 6,
   "outputs": [
    {
     "data": {
      "text/plain": "array([ 9, 10,  7, 11, 13,  0,  4, 10, 12,  5,  0, 14,  9,  6,  1,  2,  4,\n        8, 13,  5, 14, 10, 10, 12,  5, 14, 14, 12, 12,  7, 13,  3, 10,  1,\n        0,  1,  8, 12,  1,  7,  5,  2, 13,  7, 14,  3,  3,  2,  1, 12, 12,\n       13, 10, 12,  2,  9,  7, 13,  3,  7, 11,  7, 12,  6,  4,  7, 12,  9,\n       11,  9,  8,  2, 10,  5,  8, 13, 13, 11,  2, 12,  7,  7,  0,  7, 13,\n       13, 10, 12, 13,  0,  5, 11, 10, 14,  6,  9,  0, 12, 13,  0,  6,  1,\n       14, 13,  0, 12,  4, 14, 14,  7,  6,  7,  6,  4,  4,  8,  2, 14,  5,\n        9,  2, 10,  7, 12,  6,  5,  8, 13,  1, 10,  1,  4,  6, 10,  1,  3,\n        8,  4,  3,  4,  6,  9,  6, 14, 14,  6,  6, 14,  1,  9,  1,  9,  8,\n       14,  2,  5,  5,  2,  0,  7,  8,  6, 12,  3,  2,  9, 12,  9,  6,  7,\n        3, 13,  8, 11,  8, 14,  5,  4,  1, 13,  0,  5, 14,  3, 12,  8,  2,\n        9,  7,  9,  9,  5, 14,  9,  0, 10, 11,  9,  5, 14,  7,  9,  9,  2,\n        9,  8,  9,  8,  9,  9,  5,  3,  9,  9,  9,  5,  9,  9,  7,  7,  0,\n        9,  2,  9,  9,  8,  9,  9,  8,  1,  1,  3,  6,  6,  9,  8,  9,  9,\n        9,  8,  9,  9,  2,  7,  9,  6,  4,  9,  6,  9,  6,  4,  2,  5, 10,\n       10,  6, 10,  1, 10,  7, 10, 10,  3, 10, 10,  6,  7, 10, 10, 10, 10,\n       10,  6, 10, 10,  0,  4,  7, 10,  0, 10, 10,  4,  7,  1,  0,  4,  8,\n        8,  7,  6,  4,  2,  1,  0, 10,  3,  0,  4,  2,  4,  6, 10, 10,  4,\n        0,  4,  2, 10,  4,  5,  0, 10,  5,  3,  1, 10, 10, 10,  2, 10,  6,\n        3,  8,  3,  3,  3, 11,  8,  3, 11, 11,  9,  4,  1, 11,  8,  5,  2,\n       11, 11, 11,  8,  0, 11,  7,  1, 11,  7, 11, 11, 11,  6,  6, 11,  4,\n       11,  4,  7,  6,  7,  1, 11, 11,  8, 11, 11, 11,  1,  9,  7,  3,  3,\n        6,  9, 11,  2,  5, 11, 11,  2, 11, 11,  5,  9,  3,  3, 11, 11, 11,\n        2,  1,  3, 11,  4, 11, 11,  6,  3,  6,  6,  8,  2, 12,  0,  7,  7,\n        3,  1,  5,  2,  5, 12,  2,  2, 12,  0, 12, 12,  8, 12,  5,  0,  4,\n       12, 12, 12,  5,  0,  5,  9,  6,  5, 12,  2,  7,  5,  6,  3,  0,  5,\n       12,  3,  4, 12,  1, 12, 12,  5,  1,  6,  7,  7,  8,  5,  2,  0,  1,\n        7, 12,  5,  1, 12, 12, 12,  1, 12, 12, 12, 12, 12, 12,  8,  1,  3,\n        2,  4,  1,  7, 13,  1,  0,  8,  3,  2,  7, 13,  0, 13,  0,  7, 13,\n        3,  4, 13,  1, 13,  1,  2,  4,  3, 13,  4,  4,  4,  8,  0, 13, 13,\n        7,  6,  0,  3,  5, 13, 13,  0,  5,  4,  6,  6, 13,  1, 13, 13,  3,\n        6,  4,  5,  5, 13,  8,  0, 13,  4,  0,  5,  5,  8,  4,  0,  2,  2,\n        0, 13,  1,  8,  0,  2, 14,  6, 14,  8,  5,  1,  3, 14, 14,  5,  8,\n        5,  8,  0,  0, 14, 14,  0, 14, 14, 14,  7, 14, 14, 14,  6, 14,  4,\n        2,  7, 14,  5, 14,  4,  3,  0, 14,  5,  8,  9,  8,  6,  0,  0,  2,\n        3,  4, 14,  6, 14,  0, 14,  8,  3,  6,  8,  6,  3, 14,  4, 14,  9,\n        2,  1,  0,  7,  4,  2,  5,  6,  0,  8,  1, 14,  6])"
     },
     "execution_count": 6,
     "metadata": {},
     "output_type": "execute_result"
    }
   ],
   "source": [
    "y_test"
   ],
   "metadata": {
    "collapsed": false
   }
  },
  {
   "cell_type": "code",
   "execution_count": 94,
   "outputs": [
    {
     "data": {
      "text/plain": "(None, 128, 1)"
     },
     "execution_count": 94,
     "metadata": {},
     "output_type": "execute_result"
    }
   ],
   "source": [],
   "metadata": {
    "collapsed": false
   }
  },
  {
   "cell_type": "code",
   "execution_count": null,
   "outputs": [],
   "source": [],
   "metadata": {
    "collapsed": false
   }
  }
 ],
 "metadata": {
  "kernelspec": {
   "display_name": "Python 3",
   "language": "python",
   "name": "python3"
  },
  "language_info": {
   "codemirror_mode": {
    "name": "ipython",
    "version": 2
   },
   "file_extension": ".py",
   "mimetype": "text/x-python",
   "name": "python",
   "nbconvert_exporter": "python",
   "pygments_lexer": "ipython2",
   "version": "2.7.6"
  }
 },
 "nbformat": 4,
 "nbformat_minor": 0
}
