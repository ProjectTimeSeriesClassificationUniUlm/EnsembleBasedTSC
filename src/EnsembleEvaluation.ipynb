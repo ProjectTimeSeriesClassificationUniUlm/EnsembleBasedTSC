{
 "cells": [
  {
   "cell_type": "code",
   "execution_count": 14,
   "metadata": {
    "collapsed": true
   },
   "outputs": [],
   "source": [
    "import os\n",
    "import tensorflow as tf\n",
    "from tensorflow import keras\n",
    "import tensorflow_addons\n",
    "from Ensemble import Ensemble, EnsembleMethods"
   ]
  },
  {
   "cell_type": "code",
   "execution_count": 26,
   "outputs": [
    {
     "name": "stderr",
     "output_type": "stream",
     "text": [
      "WARNING:root:The given value for groups will be overwritten.\n",
      "WARNING:root:The given value for groups will be overwritten.\n",
      "WARNING:root:The given value for groups will be overwritten.\n",
      "WARNING:root:The given value for groups will be overwritten.\n"
     ]
    },
    {
     "data": {
      "text/plain": "{'Encoder': <keras.engine.functional.Functional at 0x7f916e4a5ed0>,\n 'FCN': <keras.engine.sequential.Sequential at 0x7f916dfa55a0>,\n 'MCDCNN': <keras.engine.sequential.Sequential at 0x7f90ec275630>,\n 'MLP': <keras.engine.sequential.Sequential at 0x7f916dfa4c70>,\n 'Resnet': <keras.engine.functional.Functional at 0x7f90ec38bf40>,\n 'Time_CNN': <keras.engine.sequential.Sequential at 0x7f916e3daad0>}"
     },
     "execution_count": 26,
     "metadata": {},
     "output_type": "execute_result"
    }
   ],
   "source": [
    "model_path = '../models/swedish_leaf'\n",
    "models_to_load = os.listdir(model_path)\n",
    "models = dict(zip(list(map(lambda filename: filename.removesuffix('.h5'), models_to_load)),\n",
    "                  list(map(lambda filename: keras.models.load_model(model_path + \"/\" + filename), models_to_load))))\n",
    "models"
   ],
   "metadata": {
    "collapsed": false
   }
  },
  {
   "cell_type": "code",
   "execution_count": 24,
   "outputs": [],
   "source": [
    "ensemble_all = Ensemble(models=models.values(), ensemble_type=EnsembleMethods.AVERAGE)"
   ],
   "metadata": {
    "collapsed": false
   }
  },
  {
   "cell_type": "code",
   "execution_count": 30,
   "outputs": [
    {
     "data": {
      "text/plain": "<tf.Tensor: shape=(15,), dtype=float32, numpy=\narray([0.00543777, 0.40582752, 0.00788332, 0.0244417 , 0.0019312 ,\n       0.1477799 , 0.00152094, 0.02781161, 0.17547236, 0.08840287,\n       0.00077315, 0.08593228, 0.00071864, 0.02149367, 0.00457304],\n      dtype=float32)>"
     },
     "execution_count": 30,
     "metadata": {},
     "output_type": "execute_result"
    }
   ],
   "source": [
    "ensemble_all(tf.random.normal((1,128)))\n",
    "# TODO: actual evaluation"
   ],
   "metadata": {
    "collapsed": false
   }
  },
  {
   "cell_type": "code",
   "execution_count": null,
   "outputs": [],
   "source": [],
   "metadata": {
    "collapsed": false,
    "pycharm": {
     "is_executing": true
    }
   }
  },
  {
   "cell_type": "code",
   "execution_count": 29,
   "outputs": [],
   "source": [],
   "metadata": {
    "collapsed": false
   }
  }
 ],
 "metadata": {
  "kernelspec": {
   "display_name": "Python 3",
   "language": "python",
   "name": "python3"
  },
  "language_info": {
   "codemirror_mode": {
    "name": "ipython",
    "version": 2
   },
   "file_extension": ".py",
   "mimetype": "text/x-python",
   "name": "python",
   "nbconvert_exporter": "python",
   "pygments_lexer": "ipython2",
   "version": "2.7.6"
  }
 },
 "nbformat": 4,
 "nbformat_minor": 0
}
