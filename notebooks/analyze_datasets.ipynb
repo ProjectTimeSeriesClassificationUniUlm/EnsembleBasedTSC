{
 "cells": [
  {
   "cell_type": "code",
   "execution_count": 66,
   "outputs": [],
   "source": [
    "import os\n",
    "import pandas as pd\n",
    "from collections import defaultdict\n",
    "import sys\n",
    "sys.path.append(\"../\")\n",
    "from src.LoadData import load_numpy_array_from_ts"
   ],
   "metadata": {
    "collapsed": false,
    "pycharm": {
     "name": "#%%\n"
    }
   }
  },
  {
   "cell_type": "code",
   "execution_count": 69,
   "outputs": [],
   "source": [
    "path_to_datasets = \"../datasets\"\n",
    "datasets_names = list()\n",
    "datasets_paths = list()"
   ],
   "metadata": {
    "collapsed": false,
    "pycharm": {
     "name": "#%%\n"
    }
   }
  },
  {
   "cell_type": "markdown",
   "source": [
    "# Print datasets' sizes"
   ],
   "metadata": {
    "collapsed": false,
    "pycharm": {
     "name": "#%% md\n"
    }
   }
  },
  {
   "cell_type": "code",
   "execution_count": 70,
   "metadata": {
    "collapsed": true
   },
   "outputs": [
    {
     "name": "stdout",
     "output_type": "stream",
     "text": [
      "abnormal_heartbeat\n",
      "85 Mb\n",
      "arrow_head\n",
      "0 Mb\n",
      "coffee_beans\n",
      "0 Mb\n",
      "cricket_y\n",
      "2 Mb\n",
      "distal_phalanx_outline\n",
      "0 Mb\n",
      "electric_devices\n",
      "17 Mb\n",
      "freezers\n",
      "9 Mb\n",
      "phalanges_outlines_correct\n",
      "2 Mb\n",
      "share_price_increase\n",
      "2 Mb\n",
      "swedish_leaf\n",
      "1 Mb\n",
      "wafer\n",
      "11 Mb\n"
     ]
    }
   ],
   "source": [
    "for name in os.listdir(path_to_datasets):\n",
    "    print(name)\n",
    "    datasets_names.append(name)\n",
    "    datasets_paths.append(os.path.join(path_to_datasets, name))\n",
    "    for path, dirs, files in os.walk(os.path.join(\"../datasets\", name)):\n",
    "        size = 0\n",
    "        for f in files:\n",
    "            fp = os.path.join(path, f)\n",
    "            size += os.path.getsize(fp)\n",
    "        print(size  >> 20, \"Mb\")"
   ]
  },
  {
   "cell_type": "markdown",
   "source": [
    "# Print num of test, train samples and classes' distribution"
   ],
   "metadata": {
    "collapsed": false,
    "pycharm": {
     "name": "#%% md\n"
    }
   }
  },
  {
   "cell_type": "code",
   "execution_count": 71,
   "outputs": [],
   "source": [
    "columns = [\"ds_name\", \"length\",  \"train_size\", \"test_size\", \"train_classes_distr\", \"test_classes_distr\"]\n",
    "data = list()"
   ],
   "metadata": {
    "collapsed": false,
    "pycharm": {
     "name": "#%%\n"
    }
   }
  },
  {
   "cell_type": "code",
   "execution_count": 72,
   "outputs": [],
   "source": [
    "def array_dist(arr):\n",
    "    len_arr = len(arr)\n",
    "    res = defaultdict(int)\n",
    "    for v in arr:\n",
    "        res[v] += 1\n",
    "    for k in res.keys():\n",
    "        res[k] /= len_arr\n",
    "    return dict(res)"
   ],
   "metadata": {
    "collapsed": false,
    "pycharm": {
     "name": "#%%\n"
    }
   }
  },
  {
   "cell_type": "code",
   "execution_count": 73,
   "outputs": [
    {
     "name": "stdout",
     "output_type": "stream",
     "text": [
      "abnormal_heartbeat\n",
      "../datasets\\abnormal_heartbeat\\AbnormalHeartbeat_TEST.ts ../datasets\\abnormal_heartbeat\\AbnormalHeartbeat_TRAIN.ts\n",
      "arrow_head\n",
      "../datasets\\arrow_head\\ArrowHead_TEST.ts ../datasets\\arrow_head\\ArrowHead_TRAIN.ts\n",
      "coffee_beans\n",
      "../datasets\\coffee_beans\\Coffee_TEST.ts ../datasets\\coffee_beans\\Coffee_TRAIN.ts\n",
      "cricket_y\n",
      "../datasets\\cricket_y\\CricketY_TEST.ts ../datasets\\cricket_y\\CricketY_TRAIN.ts\n",
      "distal_phalanx_outline\n",
      "../datasets\\distal_phalanx_outline\\DistalPhalanxOutlineCorrect_TEST.ts ../datasets\\distal_phalanx_outline\\DistalPhalanxOutlineCorrect_TRAIN.ts\n",
      "electric_devices\n",
      "../datasets\\electric_devices\\ElectricDevices_TEST.ts ../datasets\\electric_devices\\ElectricDevices_TRAIN.ts\n",
      "freezers\n",
      "../datasets\\freezers\\FreezerRegularTrain_TEST.ts ../datasets\\freezers\\FreezerRegularTrain_TRAIN.ts\n",
      "phalanges_outlines_correct\n",
      "../datasets\\phalanges_outlines_correct\\PhalangesOutlinesCorrect_TEST.ts ../datasets\\phalanges_outlines_correct\\PhalangesOutlinesCorrect_TRAIN.ts\n",
      "share_price_increase\n",
      "../datasets\\share_price_increase\\SharePriceIncrease_TEST.ts ../datasets\\share_price_increase\\SharePriceIncrease_TRAIN.ts\n",
      "swedish_leaf\n",
      "../datasets\\swedish_leaf\\SwedishLeaf_TEST.ts ../datasets\\swedish_leaf\\SwedishLeaf_TRAIN.ts\n",
      "wafer\n",
      "../datasets\\wafer\\Wafer_TEST.ts ../datasets\\wafer\\Wafer_TRAIN.ts\n"
     ]
    }
   ],
   "source": [
    "for i in range(len(datasets_paths)):\n",
    "    ds_path = datasets_paths[i]\n",
    "    row = list()\n",
    "    row.append(datasets_names[i])\n",
    "    print(datasets_names[i])\n",
    "    for file_name in os.listdir(ds_path):\n",
    "        if \"TEST\" in file_name:\n",
    "            test_file = os.path.join(ds_path, file_name)\n",
    "        if \"TRAIN\" in file_name:\n",
    "            train_file = os.path.join(ds_path, file_name)\n",
    "    print(test_file, train_file)\n",
    "    x_test, y_test = load_numpy_array_from_ts(test_file)\n",
    "    x_train, y_train = load_numpy_array_from_ts(train_file)\n",
    "    row.append(x_train.shape[1])\n",
    "    row.append(x_train.shape[0])\n",
    "    row.append(x_test.shape[0])\n",
    "    row.append(str(array_dist(y_train)))\n",
    "    row.append(str(array_dist(y_test)))\n",
    "    data.append(row)"
   ],
   "metadata": {
    "collapsed": false,
    "pycharm": {
     "name": "#%%\n"
    }
   }
  },
  {
   "cell_type": "code",
   "execution_count": 74,
   "outputs": [
    {
     "data": {
      "text/plain": "{1.0: 0.8921155094094744, -1.0: 0.10788449059052563}"
     },
     "execution_count": 74,
     "metadata": {},
     "output_type": "execute_result"
    }
   ],
   "source": [
    "dict(array_dist(y_test))"
   ],
   "metadata": {
    "collapsed": false,
    "pycharm": {
     "name": "#%%\n"
    }
   }
  },
  {
   "cell_type": "code",
   "execution_count": 75,
   "outputs": [],
   "source": [
    "df = pd.DataFrame(data, columns=columns)"
   ],
   "metadata": {
    "collapsed": false,
    "pycharm": {
     "name": "#%%\n"
    }
   }
  },
  {
   "cell_type": "code",
   "execution_count": 76,
   "outputs": [
    {
     "data": {
      "text/plain": "                       ds_name  length  train_size  test_size  \\\n0           abnormal_heartbeat   18530         204        205   \n1                   arrow_head     251          36        175   \n2                 coffee_beans     286          28         28   \n3                    cricket_y     300         390        390   \n4       distal_phalanx_outline      80         600        276   \n5             electric_devices      96        8926       7711   \n6                     freezers     301         150       2850   \n7   phalanges_outlines_correct      80        1800        858   \n8         share_price_increase      60         965        966   \n9                 swedish_leaf     128         500        625   \n10                       wafer     152        1000       6164   \n\n                                  train_classes_distr  \\\n0   {0.0: 0.7303921568627451, 1.0: 0.2696078431372...   \n1   {0.0: 0.3333333333333333, 1.0: 0.3333333333333...   \n2                                {0.0: 0.5, 1.0: 0.5}   \n3   {2.0: 0.08717948717948718, 4.0: 0.076923076923...   \n4                              {1.0: 0.63, 0.0: 0.37}   \n5   {1.0: 0.08144745686757786, 2.0: 0.249943983867...   \n6                                {1.0: 0.5, 2.0: 0.5}   \n7   {1.0: 0.6511111111111111, 0.0: 0.3488888888888...   \n8   {0.0: 0.6870466321243524, 1.0: 0.3129533678756...   \n9   {4.0: 0.072, 11.0: 0.07, 13.0: 0.066, 8.0: 0.0...   \n10                          {1.0: 0.903, -1.0: 0.097}   \n\n                                   test_classes_distr  \n0   {0.0: 0.7317073170731707, 1.0: 0.2682926829268...  \n1   {0.0: 0.3942857142857143, 1.0: 0.3028571428571...  \n2   {0.0: 0.5357142857142857, 1.0: 0.4642857142857...  \n3   {7.0: 0.08461538461538462, 9.0: 0.087179487179...  \n4   {1.0: 0.5833333333333334, 0.0: 0.4166666666666...  \n5   {6.0: 0.0963558552716898, 5.0: 0.2423810141356...  \n6                                {1.0: 0.5, 2.0: 0.5}  \n7   {1.0: 0.6130536130536131, 0.0: 0.3869463869463...  \n8   {0.0: 0.6863354037267081, 1.0: 0.3136645962732...  \n9   {10.0: 0.0784, 11.0: 0.064, 8.0: 0.0704, 12.0:...  \n10  {1.0: 0.8921155094094744, -1.0: 0.107884490590...  ",
      "text/html": "<div>\n<style scoped>\n    .dataframe tbody tr th:only-of-type {\n        vertical-align: middle;\n    }\n\n    .dataframe tbody tr th {\n        vertical-align: top;\n    }\n\n    .dataframe thead th {\n        text-align: right;\n    }\n</style>\n<table border=\"1\" class=\"dataframe\">\n  <thead>\n    <tr style=\"text-align: right;\">\n      <th></th>\n      <th>ds_name</th>\n      <th>length</th>\n      <th>train_size</th>\n      <th>test_size</th>\n      <th>train_classes_distr</th>\n      <th>test_classes_distr</th>\n    </tr>\n  </thead>\n  <tbody>\n    <tr>\n      <th>0</th>\n      <td>abnormal_heartbeat</td>\n      <td>18530</td>\n      <td>204</td>\n      <td>205</td>\n      <td>{0.0: 0.7303921568627451, 1.0: 0.2696078431372...</td>\n      <td>{0.0: 0.7317073170731707, 1.0: 0.2682926829268...</td>\n    </tr>\n    <tr>\n      <th>1</th>\n      <td>arrow_head</td>\n      <td>251</td>\n      <td>36</td>\n      <td>175</td>\n      <td>{0.0: 0.3333333333333333, 1.0: 0.3333333333333...</td>\n      <td>{0.0: 0.3942857142857143, 1.0: 0.3028571428571...</td>\n    </tr>\n    <tr>\n      <th>2</th>\n      <td>coffee_beans</td>\n      <td>286</td>\n      <td>28</td>\n      <td>28</td>\n      <td>{0.0: 0.5, 1.0: 0.5}</td>\n      <td>{0.0: 0.5357142857142857, 1.0: 0.4642857142857...</td>\n    </tr>\n    <tr>\n      <th>3</th>\n      <td>cricket_y</td>\n      <td>300</td>\n      <td>390</td>\n      <td>390</td>\n      <td>{2.0: 0.08717948717948718, 4.0: 0.076923076923...</td>\n      <td>{7.0: 0.08461538461538462, 9.0: 0.087179487179...</td>\n    </tr>\n    <tr>\n      <th>4</th>\n      <td>distal_phalanx_outline</td>\n      <td>80</td>\n      <td>600</td>\n      <td>276</td>\n      <td>{1.0: 0.63, 0.0: 0.37}</td>\n      <td>{1.0: 0.5833333333333334, 0.0: 0.4166666666666...</td>\n    </tr>\n    <tr>\n      <th>5</th>\n      <td>electric_devices</td>\n      <td>96</td>\n      <td>8926</td>\n      <td>7711</td>\n      <td>{1.0: 0.08144745686757786, 2.0: 0.249943983867...</td>\n      <td>{6.0: 0.0963558552716898, 5.0: 0.2423810141356...</td>\n    </tr>\n    <tr>\n      <th>6</th>\n      <td>freezers</td>\n      <td>301</td>\n      <td>150</td>\n      <td>2850</td>\n      <td>{1.0: 0.5, 2.0: 0.5}</td>\n      <td>{1.0: 0.5, 2.0: 0.5}</td>\n    </tr>\n    <tr>\n      <th>7</th>\n      <td>phalanges_outlines_correct</td>\n      <td>80</td>\n      <td>1800</td>\n      <td>858</td>\n      <td>{1.0: 0.6511111111111111, 0.0: 0.3488888888888...</td>\n      <td>{1.0: 0.6130536130536131, 0.0: 0.3869463869463...</td>\n    </tr>\n    <tr>\n      <th>8</th>\n      <td>share_price_increase</td>\n      <td>60</td>\n      <td>965</td>\n      <td>966</td>\n      <td>{0.0: 0.6870466321243524, 1.0: 0.3129533678756...</td>\n      <td>{0.0: 0.6863354037267081, 1.0: 0.3136645962732...</td>\n    </tr>\n    <tr>\n      <th>9</th>\n      <td>swedish_leaf</td>\n      <td>128</td>\n      <td>500</td>\n      <td>625</td>\n      <td>{4.0: 0.072, 11.0: 0.07, 13.0: 0.066, 8.0: 0.0...</td>\n      <td>{10.0: 0.0784, 11.0: 0.064, 8.0: 0.0704, 12.0:...</td>\n    </tr>\n    <tr>\n      <th>10</th>\n      <td>wafer</td>\n      <td>152</td>\n      <td>1000</td>\n      <td>6164</td>\n      <td>{1.0: 0.903, -1.0: 0.097}</td>\n      <td>{1.0: 0.8921155094094744, -1.0: 0.107884490590...</td>\n    </tr>\n  </tbody>\n</table>\n</div>"
     },
     "execution_count": 76,
     "metadata": {},
     "output_type": "execute_result"
    }
   ],
   "source": [
    "df"
   ],
   "metadata": {
    "collapsed": false,
    "pycharm": {
     "name": "#%%\n"
    }
   }
  },
  {
   "cell_type": "code",
   "execution_count": 77,
   "outputs": [],
   "source": [
    "df.to_csv(\"./datasets_analysis.csv\", index=False)"
   ],
   "metadata": {
    "collapsed": false,
    "pycharm": {
     "name": "#%%\n"
    }
   }
  },
  {
   "cell_type": "markdown",
   "source": [
    "# Notes - to delete"
   ],
   "metadata": {
    "collapsed": false,
    "pycharm": {
     "name": "#%% md\n"
    }
   }
  },
  {
   "cell_type": "code",
   "execution_count": null,
   "outputs": [],
   "source": [],
   "metadata": {
    "collapsed": false,
    "pycharm": {
     "name": "#%%\n"
    }
   }
  }
 ],
 "metadata": {
  "kernelspec": {
   "display_name": "Python 3",
   "language": "python",
   "name": "python3"
  },
  "language_info": {
   "codemirror_mode": {
    "name": "ipython",
    "version": 2
   },
   "file_extension": ".py",
   "mimetype": "text/x-python",
   "name": "python",
   "nbconvert_exporter": "python",
   "pygments_lexer": "ipython2",
   "version": "2.7.6"
  }
 },
 "nbformat": 4,
 "nbformat_minor": 0
}