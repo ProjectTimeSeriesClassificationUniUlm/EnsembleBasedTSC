{
 "cells": [
  {
   "cell_type": "code",
   "execution_count": 16,
   "metadata": {
    "collapsed": false,
    "jupyter": {
     "outputs_hidden": false
    },
    "pycharm": {
     "name": "#%%\n"
    }
   },
   "outputs": [],
   "source": [
    "import os\n",
    "import pandas as pd\n",
    "import json\n",
    "from collections import defaultdict\n",
    "import sys\n",
    "sys.path.append(\"../\")\n",
    "from src.LoadData import load_numpy_array_from_ts, get_all_datasets_info, get_all_datasets_test_train_np_arrays"
   ]
  },
  {
   "cell_type": "code",
   "execution_count": 17,
   "metadata": {
    "collapsed": false,
    "jupyter": {
     "outputs_hidden": false
    },
    "pycharm": {
     "name": "#%%\n"
    }
   },
   "outputs": [],
   "source": [
    "path_to_datasets = \"../datasets\"\n",
    "datasets_names = list()\n",
    "datasets_paths = list()"
   ]
  },
  {
   "cell_type": "markdown",
   "metadata": {
    "pycharm": {
     "name": "#%% md\n"
    }
   },
   "source": [
    "# Print datasets' sizes"
   ]
  },
  {
   "cell_type": "code",
   "execution_count": 18,
   "metadata": {
    "tags": []
   },
   "outputs": [
    {
     "name": "stdout",
     "output_type": "stream",
     "text": [
      "abnormal_heartbeat\n",
      "85 Mb\n",
      "phalanges_outlines_correct\n",
      "2 Mb\n",
      "swedish_leaf\n",
      "1 Mb\n",
      "share_price_increase\n",
      "2 Mb\n",
      "distal_phalanx_outline\n",
      "0 Mb\n",
      "electric_devices\n",
      "17 Mb\n",
      "freezers\n",
      "9 Mb\n",
      "cricket_y\n",
      "2 Mb\n",
      "coffee_beans\n",
      "0 Mb\n",
      "arrow_head\n",
      "0 Mb\n",
      "wafer\n",
      "11 Mb\n"
     ]
    }
   ],
   "source": [
    "for name in os.listdir(path_to_datasets):\n",
    "    print(name)\n",
    "    datasets_names.append(name)\n",
    "    datasets_paths.append(os.path.join(path_to_datasets, name))\n",
    "    for path, dirs, files in os.walk(os.path.join(\"../datasets\", name)):\n",
    "        size = 0\n",
    "        for f in files:\n",
    "            fp = os.path.join(path, f)\n",
    "            size += os.path.getsize(fp)\n",
    "        print(size  >> 20, \"Mb\")"
   ]
  },
  {
   "cell_type": "markdown",
   "metadata": {
    "pycharm": {
     "name": "#%% md\n"
    }
   },
   "source": [
    "# Print num of test, train samples and classes' distribution"
   ]
  },
  {
   "cell_type": "markdown",
   "metadata": {
    "pycharm": {
     "name": "#%% md\n"
    }
   },
   "source": [
    "### Use function get_all_datasets_info"
   ]
  },
  {
   "cell_type": "code",
   "execution_count": 19,
   "metadata": {
    "collapsed": false,
    "jupyter": {
     "outputs_hidden": false
    },
    "pycharm": {
     "name": "#%%\n"
    }
   },
   "outputs": [],
   "source": [
    "columns = [\"ds_name\", \"length\",  \"train_size\", \"test_size\", \"train_classes_distr\", \"test_classes_distr\"]\n",
    "data = list()"
   ]
  },
  {
   "cell_type": "code",
   "execution_count": 20,
   "metadata": {
    "collapsed": false,
    "jupyter": {
     "outputs_hidden": false
    },
    "pycharm": {
     "name": "#%%\n"
    }
   },
   "outputs": [],
   "source": [
    "def array_dist(arr):\n",
    "    len_arr = len(arr)\n",
    "    res = defaultdict(int)\n",
    "    for v in arr:\n",
    "        res[v] += 1\n",
    "    for k in res.keys():\n",
    "        res[k] /= len_arr\n",
    "    return json.dumps(dict(res))"
   ]
  },
  {
   "cell_type": "code",
   "execution_count": 21,
   "metadata": {
    "collapsed": false,
    "jupyter": {
     "outputs_hidden": false
    },
    "pycharm": {
     "name": "#%%\n"
    }
   },
   "outputs": [],
   "source": [
    "datasets_test_path_train_path = get_all_datasets_info(path_to_datasets)"
   ]
  },
  {
   "cell_type": "code",
   "execution_count": 22,
   "metadata": {
    "collapsed": false,
    "jupyter": {
     "outputs_hidden": false
    },
    "pycharm": {
     "name": "#%%\n"
    }
   },
   "outputs": [
    {
     "name": "stdout",
     "output_type": "stream",
     "text": [
      "abnormal_heartbeat\n",
      "../datasets/abnormal_heartbeat/AbnormalHeartbeat_TEST.ts ../datasets/abnormal_heartbeat/AbnormalHeartbeat_TRAIN.ts\n",
      "phalanges_outlines_correct\n",
      "../datasets/phalanges_outlines_correct/PhalangesOutlinesCorrect_TEST.ts ../datasets/phalanges_outlines_correct/PhalangesOutlinesCorrect_TRAIN.ts\n",
      "swedish_leaf\n",
      "../datasets/swedish_leaf/SwedishLeaf_TEST.ts ../datasets/swedish_leaf/SwedishLeaf_TRAIN.ts\n",
      "share_price_increase\n",
      "../datasets/share_price_increase/SharePriceIncrease_TEST.ts ../datasets/share_price_increase/SharePriceIncrease_TRAIN.ts\n",
      "distal_phalanx_outline\n",
      "../datasets/distal_phalanx_outline/DistalPhalanxOutlineCorrect_TEST.ts ../datasets/distal_phalanx_outline/DistalPhalanxOutlineCorrect_TRAIN.ts\n",
      "electric_devices\n",
      "../datasets/electric_devices/ElectricDevices_TEST.ts ../datasets/electric_devices/ElectricDevices_TRAIN.ts\n",
      "freezers\n",
      "../datasets/freezers/FreezerRegularTrain_TEST.ts ../datasets/freezers/FreezerRegularTrain_TRAIN.ts\n",
      "cricket_y\n",
      "../datasets/cricket_y/CricketY_TEST.ts ../datasets/cricket_y/CricketY_TRAIN.ts\n",
      "coffee_beans\n",
      "../datasets/coffee_beans/Coffee_TEST.ts ../datasets/coffee_beans/Coffee_TRAIN.ts\n",
      "arrow_head\n",
      "../datasets/arrow_head/ArrowHead_TEST.ts ../datasets/arrow_head/ArrowHead_TRAIN.ts\n",
      "wafer\n",
      "../datasets/wafer/Wafer_TEST.ts ../datasets/wafer/Wafer_TRAIN.ts\n"
     ]
    }
   ],
   "source": [
    "for ds_name, (test_file, train_file) in datasets_test_path_train_path.items():\n",
    "    row = list()\n",
    "    row.append(ds_name)\n",
    "    print(ds_name)\n",
    "    print(test_file, train_file)\n",
    "    x_test, y_test = load_numpy_array_from_ts(test_file)\n",
    "    x_train, y_train = load_numpy_array_from_ts(train_file)\n",
    "    row.append(x_train.shape[1])\n",
    "    row.append(x_train.shape[0])\n",
    "    row.append(x_test.shape[0])\n",
    "    row.append(array_dist(y_train))\n",
    "    row.append(array_dist(y_test))\n",
    "    data.append(row)"
   ]
  },
  {
   "cell_type": "code",
   "execution_count": null,
   "metadata": {
    "collapsed": false,
    "jupyter": {
     "outputs_hidden": false
    },
    "pycharm": {
     "name": "#%%\n"
    }
   },
   "outputs": [],
   "source": []
  },
  {
   "cell_type": "code",
   "execution_count": 23,
   "metadata": {
    "collapsed": false,
    "jupyter": {
     "outputs_hidden": false
    },
    "pycharm": {
     "name": "#%%\n"
    }
   },
   "outputs": [],
   "source": [
    "df = pd.DataFrame(data, columns=columns)"
   ]
  },
  {
   "cell_type": "code",
   "execution_count": 24,
   "metadata": {
    "collapsed": false,
    "jupyter": {
     "outputs_hidden": false
    },
    "pycharm": {
     "name": "#%%\n"
    }
   },
   "outputs": [
    {
     "data": {
      "text/html": [
       "<div>\n",
       "<style scoped>\n",
       "    .dataframe tbody tr th:only-of-type {\n",
       "        vertical-align: middle;\n",
       "    }\n",
       "\n",
       "    .dataframe tbody tr th {\n",
       "        vertical-align: top;\n",
       "    }\n",
       "\n",
       "    .dataframe thead th {\n",
       "        text-align: right;\n",
       "    }\n",
       "</style>\n",
       "<table border=\"1\" class=\"dataframe\">\n",
       "  <thead>\n",
       "    <tr style=\"text-align: right;\">\n",
       "      <th></th>\n",
       "      <th>ds_name</th>\n",
       "      <th>length</th>\n",
       "      <th>train_size</th>\n",
       "      <th>test_size</th>\n",
       "      <th>train_classes_distr</th>\n",
       "      <th>test_classes_distr</th>\n",
       "    </tr>\n",
       "  </thead>\n",
       "  <tbody>\n",
       "    <tr>\n",
       "      <th>0</th>\n",
       "      <td>abnormal_heartbeat</td>\n",
       "      <td>18530</td>\n",
       "      <td>204</td>\n",
       "      <td>205</td>\n",
       "      <td>{\"0.0\": 0.7303921568627451, \"1.0\": 0.269607843...</td>\n",
       "      <td>{\"0.0\": 0.7317073170731707, \"1.0\": 0.268292682...</td>\n",
       "    </tr>\n",
       "    <tr>\n",
       "      <th>1</th>\n",
       "      <td>phalanges_outlines_correct</td>\n",
       "      <td>80</td>\n",
       "      <td>1800</td>\n",
       "      <td>858</td>\n",
       "      <td>{\"1.0\": 0.6511111111111111, \"0.0\": 0.348888888...</td>\n",
       "      <td>{\"1.0\": 0.6130536130536131, \"0.0\": 0.386946386...</td>\n",
       "    </tr>\n",
       "    <tr>\n",
       "      <th>2</th>\n",
       "      <td>swedish_leaf</td>\n",
       "      <td>128</td>\n",
       "      <td>500</td>\n",
       "      <td>625</td>\n",
       "      <td>{\"4.0\": 0.072, \"11.0\": 0.07, \"13.0\": 0.066, \"8...</td>\n",
       "      <td>{\"10.0\": 0.0784, \"11.0\": 0.064, \"8.0\": 0.0704,...</td>\n",
       "    </tr>\n",
       "    <tr>\n",
       "      <th>3</th>\n",
       "      <td>share_price_increase</td>\n",
       "      <td>60</td>\n",
       "      <td>965</td>\n",
       "      <td>966</td>\n",
       "      <td>{\"0.0\": 0.6870466321243524, \"1.0\": 0.312953367...</td>\n",
       "      <td>{\"0.0\": 0.6863354037267081, \"1.0\": 0.313664596...</td>\n",
       "    </tr>\n",
       "    <tr>\n",
       "      <th>4</th>\n",
       "      <td>distal_phalanx_outline</td>\n",
       "      <td>80</td>\n",
       "      <td>600</td>\n",
       "      <td>276</td>\n",
       "      <td>{\"1.0\": 0.63, \"0.0\": 0.37}</td>\n",
       "      <td>{\"1.0\": 0.5833333333333334, \"0.0\": 0.416666666...</td>\n",
       "    </tr>\n",
       "    <tr>\n",
       "      <th>5</th>\n",
       "      <td>electric_devices</td>\n",
       "      <td>96</td>\n",
       "      <td>8926</td>\n",
       "      <td>7711</td>\n",
       "      <td>{\"1.0\": 0.08144745686757786, \"2.0\": 0.24994398...</td>\n",
       "      <td>{\"6.0\": 0.0963558552716898, \"5.0\": 0.242381014...</td>\n",
       "    </tr>\n",
       "    <tr>\n",
       "      <th>6</th>\n",
       "      <td>freezers</td>\n",
       "      <td>301</td>\n",
       "      <td>150</td>\n",
       "      <td>2850</td>\n",
       "      <td>{\"1.0\": 0.5, \"2.0\": 0.5}</td>\n",
       "      <td>{\"1.0\": 0.5, \"2.0\": 0.5}</td>\n",
       "    </tr>\n",
       "    <tr>\n",
       "      <th>7</th>\n",
       "      <td>cricket_y</td>\n",
       "      <td>300</td>\n",
       "      <td>390</td>\n",
       "      <td>390</td>\n",
       "      <td>{\"2.0\": 0.08717948717948718, \"4.0\": 0.07692307...</td>\n",
       "      <td>{\"7.0\": 0.08461538461538462, \"9.0\": 0.08717948...</td>\n",
       "    </tr>\n",
       "    <tr>\n",
       "      <th>8</th>\n",
       "      <td>coffee_beans</td>\n",
       "      <td>286</td>\n",
       "      <td>28</td>\n",
       "      <td>28</td>\n",
       "      <td>{\"0.0\": 0.5, \"1.0\": 0.5}</td>\n",
       "      <td>{\"0.0\": 0.5357142857142857, \"1.0\": 0.464285714...</td>\n",
       "    </tr>\n",
       "    <tr>\n",
       "      <th>9</th>\n",
       "      <td>arrow_head</td>\n",
       "      <td>251</td>\n",
       "      <td>36</td>\n",
       "      <td>175</td>\n",
       "      <td>{\"0.0\": 0.3333333333333333, \"1.0\": 0.333333333...</td>\n",
       "      <td>{\"0.0\": 0.3942857142857143, \"1.0\": 0.302857142...</td>\n",
       "    </tr>\n",
       "    <tr>\n",
       "      <th>10</th>\n",
       "      <td>wafer</td>\n",
       "      <td>152</td>\n",
       "      <td>1000</td>\n",
       "      <td>6164</td>\n",
       "      <td>{\"1.0\": 0.903, \"-1.0\": 0.097}</td>\n",
       "      <td>{\"1.0\": 0.8921155094094744, \"-1.0\": 0.10788449...</td>\n",
       "    </tr>\n",
       "  </tbody>\n",
       "</table>\n",
       "</div>"
      ],
      "text/plain": [
       "                       ds_name  length  train_size  test_size  \\\n",
       "0           abnormal_heartbeat   18530         204        205   \n",
       "1   phalanges_outlines_correct      80        1800        858   \n",
       "2                 swedish_leaf     128         500        625   \n",
       "3         share_price_increase      60         965        966   \n",
       "4       distal_phalanx_outline      80         600        276   \n",
       "5             electric_devices      96        8926       7711   \n",
       "6                     freezers     301         150       2850   \n",
       "7                    cricket_y     300         390        390   \n",
       "8                 coffee_beans     286          28         28   \n",
       "9                   arrow_head     251          36        175   \n",
       "10                       wafer     152        1000       6164   \n",
       "\n",
       "                                  train_classes_distr  \\\n",
       "0   {\"0.0\": 0.7303921568627451, \"1.0\": 0.269607843...   \n",
       "1   {\"1.0\": 0.6511111111111111, \"0.0\": 0.348888888...   \n",
       "2   {\"4.0\": 0.072, \"11.0\": 0.07, \"13.0\": 0.066, \"8...   \n",
       "3   {\"0.0\": 0.6870466321243524, \"1.0\": 0.312953367...   \n",
       "4                          {\"1.0\": 0.63, \"0.0\": 0.37}   \n",
       "5   {\"1.0\": 0.08144745686757786, \"2.0\": 0.24994398...   \n",
       "6                            {\"1.0\": 0.5, \"2.0\": 0.5}   \n",
       "7   {\"2.0\": 0.08717948717948718, \"4.0\": 0.07692307...   \n",
       "8                            {\"0.0\": 0.5, \"1.0\": 0.5}   \n",
       "9   {\"0.0\": 0.3333333333333333, \"1.0\": 0.333333333...   \n",
       "10                      {\"1.0\": 0.903, \"-1.0\": 0.097}   \n",
       "\n",
       "                                   test_classes_distr  \n",
       "0   {\"0.0\": 0.7317073170731707, \"1.0\": 0.268292682...  \n",
       "1   {\"1.0\": 0.6130536130536131, \"0.0\": 0.386946386...  \n",
       "2   {\"10.0\": 0.0784, \"11.0\": 0.064, \"8.0\": 0.0704,...  \n",
       "3   {\"0.0\": 0.6863354037267081, \"1.0\": 0.313664596...  \n",
       "4   {\"1.0\": 0.5833333333333334, \"0.0\": 0.416666666...  \n",
       "5   {\"6.0\": 0.0963558552716898, \"5.0\": 0.242381014...  \n",
       "6                            {\"1.0\": 0.5, \"2.0\": 0.5}  \n",
       "7   {\"7.0\": 0.08461538461538462, \"9.0\": 0.08717948...  \n",
       "8   {\"0.0\": 0.5357142857142857, \"1.0\": 0.464285714...  \n",
       "9   {\"0.0\": 0.3942857142857143, \"1.0\": 0.302857142...  \n",
       "10  {\"1.0\": 0.8921155094094744, \"-1.0\": 0.10788449...  "
      ]
     },
     "execution_count": 24,
     "metadata": {},
     "output_type": "execute_result"
    }
   ],
   "source": [
    "df"
   ]
  },
  {
   "cell_type": "code",
   "execution_count": 25,
   "metadata": {
    "collapsed": false,
    "jupyter": {
     "outputs_hidden": false
    },
    "pycharm": {
     "name": "#%%\n"
    }
   },
   "outputs": [],
   "source": [
    "df.to_csv(\"./datasets_analysis.csv\", index=False)"
   ]
  },
  {
   "cell_type": "markdown",
   "metadata": {
    "pycharm": {
     "name": "#%% md\n"
    }
   },
   "source": [
    "### Use function get_all_datasets_test_train_np_arrays"
   ]
  },
  {
   "cell_type": "code",
   "execution_count": null,
   "metadata": {
    "collapsed": false,
    "jupyter": {
     "outputs_hidden": false
    },
    "pycharm": {
     "name": "#%%\n"
    }
   },
   "outputs": [],
   "source": [
    "data = list()"
   ]
  },
  {
   "cell_type": "code",
   "execution_count": null,
   "metadata": {
    "collapsed": false,
    "jupyter": {
     "outputs_hidden": false
    },
    "pycharm": {
     "name": "#%%\n"
    }
   },
   "outputs": [],
   "source": [
    "datasets_test_path_train_path = get_all_datasets_test_train_np_arrays(path_to_datasets)"
   ]
  },
  {
   "cell_type": "code",
   "execution_count": null,
   "metadata": {
    "collapsed": false,
    "jupyter": {
     "outputs_hidden": false
    },
    "pycharm": {
     "name": "#%%\n"
    }
   },
   "outputs": [],
   "source": [
    "for ds_name, ds_data in datasets_test_path_train_path.items():\n",
    "    row = list()\n",
    "    row.append(ds_name)\n",
    "    print(ds_name)\n",
    "    x_test, y_test = ds_data[\"test_data\"]\n",
    "    x_train, y_train = ds_data[\"train_data\"]\n",
    "    row.append(x_train.shape[1])\n",
    "    row.append(x_train.shape[0])\n",
    "    row.append(x_test.shape[0])\n",
    "    row.append(str(array_dist(y_train)))\n",
    "    row.append(str(array_dist(y_test)))\n",
    "    data.append(row)"
   ]
  },
  {
   "cell_type": "code",
   "execution_count": null,
   "metadata": {
    "collapsed": false,
    "jupyter": {
     "outputs_hidden": false
    },
    "pycharm": {
     "name": "#%%\n"
    }
   },
   "outputs": [],
   "source": [
    "df = pd.DataFrame(data, columns=columns)"
   ]
  },
  {
   "cell_type": "code",
   "execution_count": null,
   "metadata": {
    "collapsed": false,
    "jupyter": {
     "outputs_hidden": false
    },
    "pycharm": {
     "name": "#%%\n"
    }
   },
   "outputs": [],
   "source": [
    "df"
   ]
  },
  {
   "cell_type": "markdown",
   "metadata": {
    "pycharm": {
     "name": "#%% md\n"
    }
   },
   "source": [
    "# Notes - to delete"
   ]
  },
  {
   "cell_type": "code",
   "execution_count": null,
   "metadata": {
    "collapsed": false,
    "jupyter": {
     "outputs_hidden": false
    },
    "pycharm": {
     "name": "#%%\n"
    }
   },
   "outputs": [],
   "source": []
  },
  {
   "cell_type": "code",
   "execution_count": null,
   "metadata": {},
   "outputs": [],
   "source": []
  },
  {
   "cell_type": "code",
   "execution_count": null,
   "metadata": {},
   "outputs": [],
   "source": []
  },
  {
   "cell_type": "code",
   "execution_count": null,
   "metadata": {},
   "outputs": [],
   "source": []
  }
 ],
 "metadata": {
  "kernelspec": {
   "display_name": "ts_ensemble",
   "language": "python",
   "name": "ts_ensemble"
  },
  "language_info": {
   "codemirror_mode": {
    "name": "ipython",
    "version": 3
   },
   "file_extension": ".py",
   "mimetype": "text/x-python",
   "name": "python",
   "nbconvert_exporter": "python",
   "pygments_lexer": "ipython3",
   "version": "3.8.6"
  }
 },
 "nbformat": 4,
 "nbformat_minor": 4
}
