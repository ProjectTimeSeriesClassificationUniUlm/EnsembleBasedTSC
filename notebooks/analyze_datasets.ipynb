{
 "cells": [
  {
   "cell_type": "code",
   "execution_count": 2,
   "outputs": [],
   "source": [
    "import os\n",
    "import pandas as pd\n",
    "from collections import defaultdict\n",
    "import sys\n",
    "import json\n",
    "sys.path.append(\"../\")\n",
    "from src.LoadData import load_numpy_array_from_ts, get_all_datasets_info, get_all_datasets_test_train_np_arrays"
   ],
   "metadata": {
    "collapsed": false,
    "pycharm": {
     "name": "#%%\n"
    }
   }
  },
  {
   "cell_type": "code",
   "execution_count": 3,
   "outputs": [],
   "source": [
    "path_to_datasets = \"../datasets\"\n",
    "datasets_names = list()\n",
    "datasets_paths = list()"
   ],
   "metadata": {
    "collapsed": false,
    "pycharm": {
     "name": "#%%\n"
    }
   }
  },
  {
   "cell_type": "markdown",
   "source": [
    "# Print datasets' sizes"
   ],
   "metadata": {
    "collapsed": false,
    "pycharm": {
     "name": "#%% md\n"
    }
   }
  },
  {
   "cell_type": "code",
   "execution_count": 4,
   "metadata": {
    "collapsed": true
   },
   "outputs": [
    {
     "name": "stdout",
     "output_type": "stream",
     "text": [
      "abnormal_heartbeat\n",
      "85 Mb\n",
      "arrow_head\n",
      "0 Mb\n",
      "car\n",
      "0 Mb\n",
      "chlorine_concentration\n",
      "7 Mb\n",
      "coffee_beans\n",
      "0 Mb\n",
      "colposcopy\n",
      "0 Mb\n",
      "cricket_y\n",
      "2 Mb\n",
      "distal_phalanax_tw\n",
      "0 Mb\n",
      "distal_phalanx_outline\n",
      "0 Mb\n",
      "dodger_loop_day\n",
      "0 Mb\n",
      "earthquakes\n",
      "2 Mb\n",
      "electric_devices\n",
      "17 Mb\n",
      "face_ucr\n",
      "3 Mb\n",
      "freezers\n",
      "9 Mb\n",
      "medical_images\n",
      "1 Mb\n",
      "middle_phalanx_age_group\n",
      "0 Mb\n",
      "middle_phalanx_correct\n",
      "0 Mb\n",
      "phalanges_outlines_correct\n",
      "2 Mb\n",
      "power_cons\n",
      "0 Mb\n",
      "share_price_increase\n",
      "2 Mb\n",
      "swedish_leaf\n",
      "1 Mb\n",
      "synthetic_control\n",
      "0 Mb\n"
     ]
    }
   ],
   "source": [
    "for name in os.listdir(path_to_datasets):\n",
    "    print(name)\n",
    "    datasets_names.append(name)\n",
    "    datasets_paths.append(os.path.join(path_to_datasets, name))\n",
    "    for path, dirs, files in os.walk(os.path.join(\"../datasets\", name)):\n",
    "        size = 0\n",
    "        for f in files:\n",
    "            fp = os.path.join(path, f)\n",
    "            size += os.path.getsize(fp)\n",
    "        print(size  >> 20, \"Mb\")"
   ]
  },
  {
   "cell_type": "markdown",
   "source": [
    "# Print num of test, train samples and classes' distribution"
   ],
   "metadata": {
    "collapsed": false,
    "pycharm": {
     "name": "#%% md\n"
    }
   }
  },
  {
   "cell_type": "markdown",
   "source": [
    "### Use function get_all_datasets_info"
   ],
   "metadata": {
    "collapsed": false,
    "pycharm": {
     "name": "#%% md\n"
    }
   }
  },
  {
   "cell_type": "code",
   "execution_count": 5,
   "outputs": [],
   "source": [
    "columns = [\"ds_name\", \"length\",  \"train_size\", \"test_size\", \"train_classes_dist\", \"test_classes_dist\", \"max_train_dist\", \"max_test_dist\"]\n",
    "data = list()"
   ],
   "metadata": {
    "collapsed": false,
    "pycharm": {
     "name": "#%%\n"
    }
   }
  },
  {
   "cell_type": "code",
   "execution_count": 6,
   "outputs": [],
   "source": [
    "def array_dist(arr):\n",
    "    len_arr = len(arr)\n",
    "    res = defaultdict(int)\n",
    "    for v in arr:\n",
    "        res[v] += 1\n",
    "    for k in res.keys():\n",
    "        res[k] /= len_arr\n",
    "    return dict(res)"
   ],
   "metadata": {
    "collapsed": false,
    "pycharm": {
     "name": "#%%\n"
    }
   }
  },
  {
   "cell_type": "code",
   "execution_count": 7,
   "outputs": [],
   "source": [
    "datasets_test_path_train_path = get_all_datasets_info(path_to_datasets)"
   ],
   "metadata": {
    "collapsed": false,
    "pycharm": {
     "name": "#%%\n"
    }
   }
  },
  {
   "cell_type": "code",
   "execution_count": 9,
   "outputs": [
    {
     "name": "stdout",
     "output_type": "stream",
     "text": [
      "abnormal_heartbeat\n",
      "../datasets\\abnormal_heartbeat\\AbnormalHeartbeat_TEST.ts ../datasets\\abnormal_heartbeat\\AbnormalHeartbeat_TRAIN.ts\n",
      "arrow_head\n",
      "../datasets\\arrow_head\\ArrowHead_TEST.ts ../datasets\\arrow_head\\ArrowHead_TRAIN.ts\n",
      "car\n",
      "../datasets\\car\\Car_TEST.ts ../datasets\\car\\Car_TRAIN.ts\n",
      "chlorine_concentration\n",
      "../datasets\\chlorine_concentration\\ChlorineConcentration_TEST.ts ../datasets\\chlorine_concentration\\ChlorineConcentration_TRAIN.ts\n",
      "coffee_beans\n",
      "../datasets\\coffee_beans\\Coffee_TEST.ts ../datasets\\coffee_beans\\Coffee_TRAIN.ts\n",
      "colposcopy\n",
      "../datasets\\colposcopy\\Colposcopy_TEST.ts ../datasets\\colposcopy\\Colposcopy_TRAIN.ts\n",
      "cricket_y\n",
      "../datasets\\cricket_y\\CricketY_TEST.ts ../datasets\\cricket_y\\CricketY_TRAIN.ts\n",
      "distal_phalanax_tw\n",
      "../datasets\\distal_phalanax_tw\\DistalPhalanxTW_TEST.ts ../datasets\\distal_phalanax_tw\\DistalPhalanxTW_TRAIN.ts\n",
      "distal_phalanx_outline\n",
      "../datasets\\distal_phalanx_outline\\DistalPhalanxOutlineCorrect_TEST.ts ../datasets\\distal_phalanx_outline\\DistalPhalanxOutlineCorrect_TRAIN.ts\n",
      "dodger_loop_day\n",
      "../datasets\\dodger_loop_day\\DodgerLoopDay_TEST.ts ../datasets\\dodger_loop_day\\DodgerLoopDay_TRAIN.ts\n",
      "earthquakes\n",
      "../datasets\\earthquakes\\Earthquakes_TEST.ts ../datasets\\earthquakes\\Earthquakes_TRAIN.ts\n",
      "electric_devices\n",
      "../datasets\\electric_devices\\ElectricDevices_TEST.ts ../datasets\\electric_devices\\ElectricDevices_TRAIN.ts\n",
      "face_ucr\n",
      "../datasets\\face_ucr\\FacesUCR_TEST.ts ../datasets\\face_ucr\\FacesUCR_TRAIN.ts\n",
      "freezers\n",
      "../datasets\\freezers\\FreezerRegularTrain_TEST.ts ../datasets\\freezers\\FreezerRegularTrain_TRAIN.ts\n",
      "medical_images\n",
      "../datasets\\medical_images\\MedicalImages_TEST.ts ../datasets\\medical_images\\MedicalImages_TRAIN.ts\n",
      "middle_phalanx_age_group\n",
      "../datasets\\middle_phalanx_age_group\\MiddlePhalanxOutlineAgeGroup_TEST.ts ../datasets\\middle_phalanx_age_group\\MiddlePhalanxOutlineAgeGroup_TRAIN.ts\n",
      "middle_phalanx_correct\n",
      "../datasets\\middle_phalanx_correct\\MiddlePhalanxOutlineCorrect_TEST.ts ../datasets\\middle_phalanx_correct\\MiddlePhalanxOutlineCorrect_TRAIN.ts\n",
      "phalanges_outlines_correct\n",
      "../datasets\\phalanges_outlines_correct\\PhalangesOutlinesCorrect_TEST.ts ../datasets\\phalanges_outlines_correct\\PhalangesOutlinesCorrect_TRAIN.ts\n",
      "power_cons\n",
      "../datasets\\power_cons\\PowerCons_TEST.ts ../datasets\\power_cons\\PowerCons_TRAIN.ts\n",
      "share_price_increase\n",
      "../datasets\\share_price_increase\\SharePriceIncrease_TEST.ts ../datasets\\share_price_increase\\SharePriceIncrease_TRAIN.ts\n",
      "swedish_leaf\n",
      "../datasets\\swedish_leaf\\SwedishLeaf_TEST.ts ../datasets\\swedish_leaf\\SwedishLeaf_TRAIN.ts\n",
      "synthetic_control\n",
      "../datasets\\synthetic_control\\SyntheticControl_TEST.ts ../datasets\\synthetic_control\\SyntheticControl_TRAIN.ts\n"
     ]
    }
   ],
   "source": [
    "for ds_name, (test_file, train_file) in datasets_test_path_train_path.items():\n",
    "    row = list()\n",
    "    row.append(ds_name)\n",
    "    print(ds_name)\n",
    "    print(test_file, train_file)\n",
    "    x_test, y_test = load_numpy_array_from_ts(test_file)\n",
    "    x_train, y_train = load_numpy_array_from_ts(train_file)\n",
    "    row.append(x_train.shape[1])\n",
    "    row.append(x_train.shape[0])\n",
    "    row.append(x_test.shape[0])\n",
    "    train_dist = array_dist(y_train)\n",
    "    row.append(json.dumps(train_dist))\n",
    "    test_dist = array_dist(y_test)\n",
    "    row.append(json.dumps(test_dist))\n",
    "    row.append(max(train_dist.values()))\n",
    "    row.append(max(test_dist.values()))\n",
    "    data.append(row)"
   ],
   "metadata": {
    "collapsed": false,
    "pycharm": {
     "name": "#%%\n"
    }
   }
  },
  {
   "cell_type": "code",
   "execution_count": null,
   "outputs": [],
   "source": [
    "dict(array_dist(y_test))"
   ],
   "metadata": {
    "collapsed": false,
    "pycharm": {
     "name": "#%%\n"
    }
   }
  },
  {
   "cell_type": "code",
   "execution_count": 10,
   "outputs": [],
   "source": [
    "df = pd.DataFrame(data, columns=columns)"
   ],
   "metadata": {
    "collapsed": false,
    "pycharm": {
     "name": "#%%\n"
    }
   }
  },
  {
   "cell_type": "code",
   "execution_count": 11,
   "outputs": [
    {
     "data": {
      "text/plain": "                       ds_name  length  train_size  test_size  \\\n0           abnormal_heartbeat   18530         204        205   \n1                   arrow_head     251          36        175   \n2                          car     577          60         60   \n3       chlorine_concentration     166         467       3840   \n4                 coffee_beans     286          28         28   \n5                   colposcopy     180          99        101   \n6                    cricket_y     300         390        390   \n7           distal_phalanax_tw      80         400        139   \n8       distal_phalanx_outline      80         600        276   \n9              dodger_loop_day     288          78         80   \n10                 earthquakes     512         322        139   \n11            electric_devices      96        8926       7711   \n12                    face_ucr     131         200       2050   \n13                    freezers     301         150       2850   \n14              medical_images      99         381        760   \n15    middle_phalanx_age_group      80         400        154   \n16      middle_phalanx_correct      80         600        291   \n17  phalanges_outlines_correct      80        1800        858   \n18                  power_cons     144         180        180   \n19        share_price_increase      60         965        966   \n20                swedish_leaf     128         500        625   \n21           synthetic_control      60         300        300   \n\n                                   train_classes_dist  \\\n0   {\"0.0\": 0.7303921568627451, \"1.0\": 0.269607843...   \n1   {\"0.0\": 0.3333333333333333, \"1.0\": 0.333333333...   \n2   {\"1.0\": 0.26666666666666666, \"4.0\": 0.28333333...   \n3   {\"1.0\": 0.24411134903640258, \"3.0\": 0.56102783...   \n4                            {\"0.0\": 0.5, \"1.0\": 0.5}   \n5   {\"0.0\": 0.0707070707070707, \"1.0\": 0.121212121...   \n6   {\"2.0\": 0.08717948717948718, \"4.0\": 0.07692307...   \n7   {\"8.0\": 0.5325, \"5.0\": 0.205, \"6.0\": 0.075, \"4...   \n8                          {\"1.0\": 0.63, \"0.0\": 0.37}   \n9   {\"1.0\": 0.15384615384615385, \"2.0\": 0.12820512...   \n10  {\"1.0\": 0.18012422360248448, \"0.0\": 0.81987577...   \n11  {\"1.0\": 0.08144745686757786, \"2.0\": 0.24994398...   \n12  {\"12.0\": 0.055, \"5.0\": 0.075, \"8.0\": 0.135, \"1...   \n13                           {\"1.0\": 0.5, \"2.0\": 0.5}   \n14  {\"10.0\": 0.5328083989501312, \"4.0\": 0.04199475...   \n15        {\"2.0\": 0.27, \"3.0\": 0.5925, \"1.0\": 0.1375}   \n16  {\"1.0\": 0.6466666666666666, \"0.0\": 0.353333333...   \n17  {\"1.0\": 0.6511111111111111, \"0.0\": 0.348888888...   \n18                           {\"1.0\": 0.5, \"2.0\": 0.5}   \n19  {\"0.0\": 0.6870466321243524, \"1.0\": 0.312953367...   \n20  {\"4.0\": 0.072, \"11.0\": 0.07, \"13.0\": 0.066, \"8...   \n21  {\"1.0\": 0.16666666666666666, \"2.0\": 0.16666666...   \n\n                                    test_classes_dist  max_train_dist  \\\n0   {\"0.0\": 0.7317073170731707, \"1.0\": 0.268292682...        0.730392   \n1   {\"0.0\": 0.3942857142857143, \"1.0\": 0.302857142...        0.333333   \n2   {\"4.0\": 0.21666666666666667, \"3.0\": 0.31666666...        0.283333   \n3   {\"2.0\": 0.23671875, \"1.0\": 0.23072916666666668...        0.561028   \n4   {\"0.0\": 0.5357142857142857, \"1.0\": 0.464285714...        0.500000   \n5   {\"0.0\": 0.07920792079207921, \"1.0\": 0.11881188...        0.282828   \n6   {\"7.0\": 0.08461538461538462, \"9.0\": 0.08717948...        0.092308   \n7   {\"4.0\": 0.1366906474820144, \"6.0\": 0.093525179...        0.532500   \n8   {\"1.0\": 0.5833333333333334, \"0.0\": 0.416666666...        0.630000   \n9   {\"1.0\": 0.15, \"2.0\": 0.1375, \"3.0\": 0.125, \"4....        0.153846   \n10  {\"0.0\": 0.7482014388489209, \"1.0\": 0.251798561...        0.819876   \n11  {\"6.0\": 0.0963558552716898, \"5.0\": 0.242381014...        0.269550   \n12  {\"8.0\": 0.12, \"7.0\": 0.06585365853658537, \"6.0...        0.165000   \n13                           {\"1.0\": 0.5, \"2.0\": 0.5}        0.500000   \n14  {\"10.0\": 0.5144736842105263, \"9.0\": 0.07894736...        0.532808   \n15  {\"2.0\": 0.5714285714285714, \"1.0\": 0.240259740...        0.592500   \n16  {\"0.0\": 0.42955326460481097, \"1.0\": 0.57044673...        0.646667   \n17  {\"1.0\": 0.6130536130536131, \"0.0\": 0.386946386...        0.651111   \n18                           {\"1.0\": 0.5, \"2.0\": 0.5}        0.500000   \n19  {\"0.0\": 0.6863354037267081, \"1.0\": 0.313664596...        0.687047   \n20  {\"10.0\": 0.0784, \"11.0\": 0.064, \"8.0\": 0.0704,...        0.084000   \n21  {\"1.0\": 0.16666666666666666, \"2.0\": 0.16666666...        0.166667   \n\n    max_test_dist  \n0        0.731707  \n1        0.394286  \n2        0.316667  \n3        0.532552  \n4        0.535714  \n5        0.277228  \n6        0.094872  \n7        0.302158  \n8        0.583333  \n9        0.162500  \n10       0.748201  \n11       0.253664  \n12       0.143415  \n13       0.500000  \n14       0.514474  \n15       0.571429  \n16       0.570447  \n17       0.613054  \n18       0.500000  \n19       0.686335  \n20       0.078400  \n21       0.166667  ",
      "text/html": "<div>\n<style scoped>\n    .dataframe tbody tr th:only-of-type {\n        vertical-align: middle;\n    }\n\n    .dataframe tbody tr th {\n        vertical-align: top;\n    }\n\n    .dataframe thead th {\n        text-align: right;\n    }\n</style>\n<table border=\"1\" class=\"dataframe\">\n  <thead>\n    <tr style=\"text-align: right;\">\n      <th></th>\n      <th>ds_name</th>\n      <th>length</th>\n      <th>train_size</th>\n      <th>test_size</th>\n      <th>train_classes_dist</th>\n      <th>test_classes_dist</th>\n      <th>max_train_dist</th>\n      <th>max_test_dist</th>\n    </tr>\n  </thead>\n  <tbody>\n    <tr>\n      <th>0</th>\n      <td>abnormal_heartbeat</td>\n      <td>18530</td>\n      <td>204</td>\n      <td>205</td>\n      <td>{\"0.0\": 0.7303921568627451, \"1.0\": 0.269607843...</td>\n      <td>{\"0.0\": 0.7317073170731707, \"1.0\": 0.268292682...</td>\n      <td>0.730392</td>\n      <td>0.731707</td>\n    </tr>\n    <tr>\n      <th>1</th>\n      <td>arrow_head</td>\n      <td>251</td>\n      <td>36</td>\n      <td>175</td>\n      <td>{\"0.0\": 0.3333333333333333, \"1.0\": 0.333333333...</td>\n      <td>{\"0.0\": 0.3942857142857143, \"1.0\": 0.302857142...</td>\n      <td>0.333333</td>\n      <td>0.394286</td>\n    </tr>\n    <tr>\n      <th>2</th>\n      <td>car</td>\n      <td>577</td>\n      <td>60</td>\n      <td>60</td>\n      <td>{\"1.0\": 0.26666666666666666, \"4.0\": 0.28333333...</td>\n      <td>{\"4.0\": 0.21666666666666667, \"3.0\": 0.31666666...</td>\n      <td>0.283333</td>\n      <td>0.316667</td>\n    </tr>\n    <tr>\n      <th>3</th>\n      <td>chlorine_concentration</td>\n      <td>166</td>\n      <td>467</td>\n      <td>3840</td>\n      <td>{\"1.0\": 0.24411134903640258, \"3.0\": 0.56102783...</td>\n      <td>{\"2.0\": 0.23671875, \"1.0\": 0.23072916666666668...</td>\n      <td>0.561028</td>\n      <td>0.532552</td>\n    </tr>\n    <tr>\n      <th>4</th>\n      <td>coffee_beans</td>\n      <td>286</td>\n      <td>28</td>\n      <td>28</td>\n      <td>{\"0.0\": 0.5, \"1.0\": 0.5}</td>\n      <td>{\"0.0\": 0.5357142857142857, \"1.0\": 0.464285714...</td>\n      <td>0.500000</td>\n      <td>0.535714</td>\n    </tr>\n    <tr>\n      <th>5</th>\n      <td>colposcopy</td>\n      <td>180</td>\n      <td>99</td>\n      <td>101</td>\n      <td>{\"0.0\": 0.0707070707070707, \"1.0\": 0.121212121...</td>\n      <td>{\"0.0\": 0.07920792079207921, \"1.0\": 0.11881188...</td>\n      <td>0.282828</td>\n      <td>0.277228</td>\n    </tr>\n    <tr>\n      <th>6</th>\n      <td>cricket_y</td>\n      <td>300</td>\n      <td>390</td>\n      <td>390</td>\n      <td>{\"2.0\": 0.08717948717948718, \"4.0\": 0.07692307...</td>\n      <td>{\"7.0\": 0.08461538461538462, \"9.0\": 0.08717948...</td>\n      <td>0.092308</td>\n      <td>0.094872</td>\n    </tr>\n    <tr>\n      <th>7</th>\n      <td>distal_phalanax_tw</td>\n      <td>80</td>\n      <td>400</td>\n      <td>139</td>\n      <td>{\"8.0\": 0.5325, \"5.0\": 0.205, \"6.0\": 0.075, \"4...</td>\n      <td>{\"4.0\": 0.1366906474820144, \"6.0\": 0.093525179...</td>\n      <td>0.532500</td>\n      <td>0.302158</td>\n    </tr>\n    <tr>\n      <th>8</th>\n      <td>distal_phalanx_outline</td>\n      <td>80</td>\n      <td>600</td>\n      <td>276</td>\n      <td>{\"1.0\": 0.63, \"0.0\": 0.37}</td>\n      <td>{\"1.0\": 0.5833333333333334, \"0.0\": 0.416666666...</td>\n      <td>0.630000</td>\n      <td>0.583333</td>\n    </tr>\n    <tr>\n      <th>9</th>\n      <td>dodger_loop_day</td>\n      <td>288</td>\n      <td>78</td>\n      <td>80</td>\n      <td>{\"1.0\": 0.15384615384615385, \"2.0\": 0.12820512...</td>\n      <td>{\"1.0\": 0.15, \"2.0\": 0.1375, \"3.0\": 0.125, \"4....</td>\n      <td>0.153846</td>\n      <td>0.162500</td>\n    </tr>\n    <tr>\n      <th>10</th>\n      <td>earthquakes</td>\n      <td>512</td>\n      <td>322</td>\n      <td>139</td>\n      <td>{\"1.0\": 0.18012422360248448, \"0.0\": 0.81987577...</td>\n      <td>{\"0.0\": 0.7482014388489209, \"1.0\": 0.251798561...</td>\n      <td>0.819876</td>\n      <td>0.748201</td>\n    </tr>\n    <tr>\n      <th>11</th>\n      <td>electric_devices</td>\n      <td>96</td>\n      <td>8926</td>\n      <td>7711</td>\n      <td>{\"1.0\": 0.08144745686757786, \"2.0\": 0.24994398...</td>\n      <td>{\"6.0\": 0.0963558552716898, \"5.0\": 0.242381014...</td>\n      <td>0.269550</td>\n      <td>0.253664</td>\n    </tr>\n    <tr>\n      <th>12</th>\n      <td>face_ucr</td>\n      <td>131</td>\n      <td>200</td>\n      <td>2050</td>\n      <td>{\"12.0\": 0.055, \"5.0\": 0.075, \"8.0\": 0.135, \"1...</td>\n      <td>{\"8.0\": 0.12, \"7.0\": 0.06585365853658537, \"6.0...</td>\n      <td>0.165000</td>\n      <td>0.143415</td>\n    </tr>\n    <tr>\n      <th>13</th>\n      <td>freezers</td>\n      <td>301</td>\n      <td>150</td>\n      <td>2850</td>\n      <td>{\"1.0\": 0.5, \"2.0\": 0.5}</td>\n      <td>{\"1.0\": 0.5, \"2.0\": 0.5}</td>\n      <td>0.500000</td>\n      <td>0.500000</td>\n    </tr>\n    <tr>\n      <th>14</th>\n      <td>medical_images</td>\n      <td>99</td>\n      <td>381</td>\n      <td>760</td>\n      <td>{\"10.0\": 0.5328083989501312, \"4.0\": 0.04199475...</td>\n      <td>{\"10.0\": 0.5144736842105263, \"9.0\": 0.07894736...</td>\n      <td>0.532808</td>\n      <td>0.514474</td>\n    </tr>\n    <tr>\n      <th>15</th>\n      <td>middle_phalanx_age_group</td>\n      <td>80</td>\n      <td>400</td>\n      <td>154</td>\n      <td>{\"2.0\": 0.27, \"3.0\": 0.5925, \"1.0\": 0.1375}</td>\n      <td>{\"2.0\": 0.5714285714285714, \"1.0\": 0.240259740...</td>\n      <td>0.592500</td>\n      <td>0.571429</td>\n    </tr>\n    <tr>\n      <th>16</th>\n      <td>middle_phalanx_correct</td>\n      <td>80</td>\n      <td>600</td>\n      <td>291</td>\n      <td>{\"1.0\": 0.6466666666666666, \"0.0\": 0.353333333...</td>\n      <td>{\"0.0\": 0.42955326460481097, \"1.0\": 0.57044673...</td>\n      <td>0.646667</td>\n      <td>0.570447</td>\n    </tr>\n    <tr>\n      <th>17</th>\n      <td>phalanges_outlines_correct</td>\n      <td>80</td>\n      <td>1800</td>\n      <td>858</td>\n      <td>{\"1.0\": 0.6511111111111111, \"0.0\": 0.348888888...</td>\n      <td>{\"1.0\": 0.6130536130536131, \"0.0\": 0.386946386...</td>\n      <td>0.651111</td>\n      <td>0.613054</td>\n    </tr>\n    <tr>\n      <th>18</th>\n      <td>power_cons</td>\n      <td>144</td>\n      <td>180</td>\n      <td>180</td>\n      <td>{\"1.0\": 0.5, \"2.0\": 0.5}</td>\n      <td>{\"1.0\": 0.5, \"2.0\": 0.5}</td>\n      <td>0.500000</td>\n      <td>0.500000</td>\n    </tr>\n    <tr>\n      <th>19</th>\n      <td>share_price_increase</td>\n      <td>60</td>\n      <td>965</td>\n      <td>966</td>\n      <td>{\"0.0\": 0.6870466321243524, \"1.0\": 0.312953367...</td>\n      <td>{\"0.0\": 0.6863354037267081, \"1.0\": 0.313664596...</td>\n      <td>0.687047</td>\n      <td>0.686335</td>\n    </tr>\n    <tr>\n      <th>20</th>\n      <td>swedish_leaf</td>\n      <td>128</td>\n      <td>500</td>\n      <td>625</td>\n      <td>{\"4.0\": 0.072, \"11.0\": 0.07, \"13.0\": 0.066, \"8...</td>\n      <td>{\"10.0\": 0.0784, \"11.0\": 0.064, \"8.0\": 0.0704,...</td>\n      <td>0.084000</td>\n      <td>0.078400</td>\n    </tr>\n    <tr>\n      <th>21</th>\n      <td>synthetic_control</td>\n      <td>60</td>\n      <td>300</td>\n      <td>300</td>\n      <td>{\"1.0\": 0.16666666666666666, \"2.0\": 0.16666666...</td>\n      <td>{\"1.0\": 0.16666666666666666, \"2.0\": 0.16666666...</td>\n      <td>0.166667</td>\n      <td>0.166667</td>\n    </tr>\n  </tbody>\n</table>\n</div>"
     },
     "execution_count": 11,
     "metadata": {},
     "output_type": "execute_result"
    }
   ],
   "source": [
    "df"
   ],
   "metadata": {
    "collapsed": false,
    "pycharm": {
     "name": "#%%\n"
    }
   }
  },
  {
   "cell_type": "code",
   "execution_count": 12,
   "outputs": [],
   "source": [
    "df.to_csv(\"./datasets_analysis.csv\", index=False)"
   ],
   "metadata": {
    "collapsed": false,
    "pycharm": {
     "name": "#%%\n"
    }
   }
  },
  {
   "cell_type": "markdown",
   "source": [
    "### Use function get_all_datasets_test_train_np_arrays"
   ],
   "metadata": {
    "collapsed": false,
    "pycharm": {
     "name": "#%% md\n"
    }
   }
  },
  {
   "cell_type": "code",
   "execution_count": 13,
   "outputs": [],
   "source": [
    "data = list()"
   ],
   "metadata": {
    "collapsed": false,
    "pycharm": {
     "name": "#%%\n"
    }
   }
  },
  {
   "cell_type": "code",
   "execution_count": 14,
   "outputs": [],
   "source": [
    "datasets_test_path_train_path = get_all_datasets_test_train_np_arrays(path_to_datasets)"
   ],
   "metadata": {
    "collapsed": false,
    "pycharm": {
     "name": "#%%\n"
    }
   }
  },
  {
   "cell_type": "code",
   "execution_count": 15,
   "outputs": [
    {
     "name": "stdout",
     "output_type": "stream",
     "text": [
      "abnormal_heartbeat\n",
      "arrow_head\n",
      "coffee_beans\n",
      "cricket_y\n",
      "distal_phalanx_outline\n",
      "electric_devices\n",
      "freezers\n",
      "phalanges_outlines_correct\n",
      "share_price_increase\n",
      "swedish_leaf\n",
      "wafer\n"
     ]
    }
   ],
   "source": [
    "for ds_name, ds_data in datasets_test_path_train_path.items():\n",
    "    row = list()\n",
    "    row.append(ds_name)\n",
    "    print(ds_name)\n",
    "    x_test, y_test = ds_data[\"test_data\"]\n",
    "    x_train, y_train = ds_data[\"train_data\"]\n",
    "    row.append(x_train.shape[1])\n",
    "    row.append(x_train.shape[0])\n",
    "    row.append(x_test.shape[0])\n",
    "    row.append(str(array_dist(y_train)))\n",
    "    row.append(str(array_dist(y_test)))\n",
    "    data.append(row)"
   ],
   "metadata": {
    "collapsed": false,
    "pycharm": {
     "name": "#%%\n"
    }
   }
  },
  {
   "cell_type": "code",
   "execution_count": 16,
   "outputs": [],
   "source": [
    "df = pd.DataFrame(data, columns=columns)"
   ],
   "metadata": {
    "collapsed": false,
    "pycharm": {
     "name": "#%%\n"
    }
   }
  },
  {
   "cell_type": "code",
   "execution_count": 17,
   "outputs": [
    {
     "data": {
      "text/plain": "                       ds_name  length  train_size  test_size  \\\n0           abnormal_heartbeat   18530         204        205   \n1                   arrow_head     251          36        175   \n2                 coffee_beans     286          28         28   \n3                    cricket_y     300         390        390   \n4       distal_phalanx_outline      80         600        276   \n5             electric_devices      96        8926       7711   \n6                     freezers     301         150       2850   \n7   phalanges_outlines_correct      80        1800        858   \n8         share_price_increase      60         965        966   \n9                 swedish_leaf     128         500        625   \n10                       wafer     152        1000       6164   \n\n                                  train_classes_distr  \\\n0   {0.0: 0.7303921568627451, 1.0: 0.2696078431372...   \n1   {0.0: 0.3333333333333333, 1.0: 0.3333333333333...   \n2                                {0.0: 0.5, 1.0: 0.5}   \n3   {2.0: 0.08717948717948718, 4.0: 0.076923076923...   \n4                              {1.0: 0.63, 0.0: 0.37}   \n5   {1.0: 0.08144745686757786, 2.0: 0.249943983867...   \n6                                {1.0: 0.5, 2.0: 0.5}   \n7   {1.0: 0.6511111111111111, 0.0: 0.3488888888888...   \n8   {0.0: 0.6870466321243524, 1.0: 0.3129533678756...   \n9   {4.0: 0.072, 11.0: 0.07, 13.0: 0.066, 8.0: 0.0...   \n10                          {1.0: 0.903, -1.0: 0.097}   \n\n                                   test_classes_distr  \n0   {0.0: 0.7317073170731707, 1.0: 0.2682926829268...  \n1   {0.0: 0.3942857142857143, 1.0: 0.3028571428571...  \n2   {0.0: 0.5357142857142857, 1.0: 0.4642857142857...  \n3   {7.0: 0.08461538461538462, 9.0: 0.087179487179...  \n4   {1.0: 0.5833333333333334, 0.0: 0.4166666666666...  \n5   {6.0: 0.0963558552716898, 5.0: 0.2423810141356...  \n6                                {1.0: 0.5, 2.0: 0.5}  \n7   {1.0: 0.6130536130536131, 0.0: 0.3869463869463...  \n8   {0.0: 0.6863354037267081, 1.0: 0.3136645962732...  \n9   {10.0: 0.0784, 11.0: 0.064, 8.0: 0.0704, 12.0:...  \n10  {1.0: 0.8921155094094744, -1.0: 0.107884490590...  ",
      "text/html": "<div>\n<style scoped>\n    .dataframe tbody tr th:only-of-type {\n        vertical-align: middle;\n    }\n\n    .dataframe tbody tr th {\n        vertical-align: top;\n    }\n\n    .dataframe thead th {\n        text-align: right;\n    }\n</style>\n<table border=\"1\" class=\"dataframe\">\n  <thead>\n    <tr style=\"text-align: right;\">\n      <th></th>\n      <th>ds_name</th>\n      <th>length</th>\n      <th>train_size</th>\n      <th>test_size</th>\n      <th>train_classes_distr</th>\n      <th>test_classes_distr</th>\n    </tr>\n  </thead>\n  <tbody>\n    <tr>\n      <th>0</th>\n      <td>abnormal_heartbeat</td>\n      <td>18530</td>\n      <td>204</td>\n      <td>205</td>\n      <td>{0.0: 0.7303921568627451, 1.0: 0.2696078431372...</td>\n      <td>{0.0: 0.7317073170731707, 1.0: 0.2682926829268...</td>\n    </tr>\n    <tr>\n      <th>1</th>\n      <td>arrow_head</td>\n      <td>251</td>\n      <td>36</td>\n      <td>175</td>\n      <td>{0.0: 0.3333333333333333, 1.0: 0.3333333333333...</td>\n      <td>{0.0: 0.3942857142857143, 1.0: 0.3028571428571...</td>\n    </tr>\n    <tr>\n      <th>2</th>\n      <td>coffee_beans</td>\n      <td>286</td>\n      <td>28</td>\n      <td>28</td>\n      <td>{0.0: 0.5, 1.0: 0.5}</td>\n      <td>{0.0: 0.5357142857142857, 1.0: 0.4642857142857...</td>\n    </tr>\n    <tr>\n      <th>3</th>\n      <td>cricket_y</td>\n      <td>300</td>\n      <td>390</td>\n      <td>390</td>\n      <td>{2.0: 0.08717948717948718, 4.0: 0.076923076923...</td>\n      <td>{7.0: 0.08461538461538462, 9.0: 0.087179487179...</td>\n    </tr>\n    <tr>\n      <th>4</th>\n      <td>distal_phalanx_outline</td>\n      <td>80</td>\n      <td>600</td>\n      <td>276</td>\n      <td>{1.0: 0.63, 0.0: 0.37}</td>\n      <td>{1.0: 0.5833333333333334, 0.0: 0.4166666666666...</td>\n    </tr>\n    <tr>\n      <th>5</th>\n      <td>electric_devices</td>\n      <td>96</td>\n      <td>8926</td>\n      <td>7711</td>\n      <td>{1.0: 0.08144745686757786, 2.0: 0.249943983867...</td>\n      <td>{6.0: 0.0963558552716898, 5.0: 0.2423810141356...</td>\n    </tr>\n    <tr>\n      <th>6</th>\n      <td>freezers</td>\n      <td>301</td>\n      <td>150</td>\n      <td>2850</td>\n      <td>{1.0: 0.5, 2.0: 0.5}</td>\n      <td>{1.0: 0.5, 2.0: 0.5}</td>\n    </tr>\n    <tr>\n      <th>7</th>\n      <td>phalanges_outlines_correct</td>\n      <td>80</td>\n      <td>1800</td>\n      <td>858</td>\n      <td>{1.0: 0.6511111111111111, 0.0: 0.3488888888888...</td>\n      <td>{1.0: 0.6130536130536131, 0.0: 0.3869463869463...</td>\n    </tr>\n    <tr>\n      <th>8</th>\n      <td>share_price_increase</td>\n      <td>60</td>\n      <td>965</td>\n      <td>966</td>\n      <td>{0.0: 0.6870466321243524, 1.0: 0.3129533678756...</td>\n      <td>{0.0: 0.6863354037267081, 1.0: 0.3136645962732...</td>\n    </tr>\n    <tr>\n      <th>9</th>\n      <td>swedish_leaf</td>\n      <td>128</td>\n      <td>500</td>\n      <td>625</td>\n      <td>{4.0: 0.072, 11.0: 0.07, 13.0: 0.066, 8.0: 0.0...</td>\n      <td>{10.0: 0.0784, 11.0: 0.064, 8.0: 0.0704, 12.0:...</td>\n    </tr>\n    <tr>\n      <th>10</th>\n      <td>wafer</td>\n      <td>152</td>\n      <td>1000</td>\n      <td>6164</td>\n      <td>{1.0: 0.903, -1.0: 0.097}</td>\n      <td>{1.0: 0.8921155094094744, -1.0: 0.107884490590...</td>\n    </tr>\n  </tbody>\n</table>\n</div>"
     },
     "execution_count": 17,
     "metadata": {},
     "output_type": "execute_result"
    }
   ],
   "source": [
    "df"
   ],
   "metadata": {
    "collapsed": false,
    "pycharm": {
     "name": "#%%\n"
    }
   }
  },
  {
   "cell_type": "markdown",
   "source": [
    "# Notes - to delete"
   ],
   "metadata": {
    "collapsed": false,
    "pycharm": {
     "name": "#%% md\n"
    }
   }
  },
  {
   "cell_type": "code",
   "execution_count": null,
   "outputs": [],
   "source": [],
   "metadata": {
    "collapsed": false,
    "pycharm": {
     "name": "#%%\n"
    }
   }
  }
 ],
 "metadata": {
  "kernelspec": {
   "display_name": "Python 3",
   "language": "python",
   "name": "python3"
  },
  "language_info": {
   "codemirror_mode": {
    "name": "ipython",
    "version": 2
   },
   "file_extension": ".py",
   "mimetype": "text/x-python",
   "name": "python",
   "nbconvert_exporter": "python",
   "pygments_lexer": "ipython2",
   "version": "2.7.6"
  }
 },
 "nbformat": 4,
 "nbformat_minor": 0
}