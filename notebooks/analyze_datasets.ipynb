{
 "cells": [
  {
   "cell_type": "code",
   "execution_count": 14,
   "outputs": [],
   "source": [
    "import os\n",
    "import numpy as np\n",
    "import pandas as pd\n",
    "from sktime.datasets import load_from_tsfile_to_dataframe\n",
    "from collections import defaultdict"
   ],
   "metadata": {
    "collapsed": false,
    "pycharm": {
     "name": "#%%\n"
    }
   }
  },
  {
   "cell_type": "code",
   "execution_count": 15,
   "outputs": [],
   "source": [
    "path_to_datasets = \"../datasets\"\n",
    "datasets_names = list()\n",
    "datasets_paths = list()"
   ],
   "metadata": {
    "collapsed": false,
    "pycharm": {
     "name": "#%%\n"
    }
   }
  },
  {
   "cell_type": "markdown",
   "source": [
    "# Print datasets' sizes"
   ],
   "metadata": {
    "collapsed": false,
    "pycharm": {
     "name": "#%% md\n"
    }
   }
  },
  {
   "cell_type": "code",
   "execution_count": 16,
   "metadata": {
    "collapsed": true
   },
   "outputs": [
    {
     "name": "stdout",
     "output_type": "stream",
     "text": [
      "abnormal_heartbeat\n",
      "85 Mb\n",
      "arrow_head\n",
      "0 Mb\n",
      "coffee_beans\n",
      "0 Mb\n",
      "freezers\n",
      "9 Mb\n",
      "pedestrian_count_chinatown\n",
      "0 Mb\n",
      "right_whale_call\n",
      "453 Mb\n",
      "species_of_fruit_fly\n",
      "1981 Mb\n",
      "spoken_arabic_digits\n",
      "35 Mb\n",
      "tiselac\n",
      "121 Mb\n"
     ]
    }
   ],
   "source": [
    "for name in os.listdir(path_to_datasets):\n",
    "    print(name)\n",
    "    datasets_names.append(name)\n",
    "    datasets_paths.append(os.path.join(path_to_datasets, name))\n",
    "    for path, dirs, files in os.walk(os.path.join(\"../datasets\", name)):\n",
    "        size = 0\n",
    "        for f in files:\n",
    "            fp = os.path.join(path, f)\n",
    "            size += os.path.getsize(fp)\n",
    "        print(size  >> 20, \"Mb\")"
   ]
  },
  {
   "cell_type": "markdown",
   "source": [
    "# Print num of test, train samples and classes' distribution"
   ],
   "metadata": {
    "collapsed": false,
    "pycharm": {
     "name": "#%% md\n"
    }
   }
  },
  {
   "cell_type": "code",
   "execution_count": 17,
   "outputs": [],
   "source": [
    "columns = [\"ds_name\", \"length\",  \"train_size\", \"test_size\", \"train_classes_distr\", \"test_classes_distr\"]\n",
    "data = list()"
   ],
   "metadata": {
    "collapsed": false,
    "pycharm": {
     "name": "#%%\n"
    }
   }
  },
  {
   "cell_type": "code",
   "execution_count": 18,
   "outputs": [],
   "source": [
    "def prepare_train_data(df):\n",
    "    prepared = list()\n",
    "    for j in range(df.size):\n",
    "        prepared.append(df.iloc[j].to_numpy()[0].to_numpy())\n",
    "    return np.array(prepared, dtype=np.float64)\n",
    "\n",
    "def load_numpy_array_from_ts(path_to_file):\n",
    "    x, y = load_from_tsfile_to_dataframe(path_to_file)\n",
    "    return prepare_train_data(x), np.array(y, dtype=np.float64)\n",
    "\n",
    "def array_dist(arr):\n",
    "    len_arr = len(arr)\n",
    "    res = defaultdict(int)\n",
    "    for v in arr:\n",
    "        res[v] += 1\n",
    "    for k in res.keys():\n",
    "        res[k] /= len_arr\n",
    "    return res"
   ],
   "metadata": {
    "collapsed": false,
    "pycharm": {
     "name": "#%%\n"
    }
   }
  },
  {
   "cell_type": "code",
   "execution_count": 22,
   "outputs": [
    {
     "name": "stdout",
     "output_type": "stream",
     "text": [
      "tiselac\n",
      "../datasets\\tiselac\\Tiselac_TEST.ts ../datasets\\tiselac\\Tiselac_TRAIN.ts\n"
     ]
    },
    {
     "ename": "IndexError",
     "evalue": "single positional indexer is out-of-bounds",
     "output_type": "error",
     "traceback": [
      "\u001B[1;31m---------------------------------------------------------------------------\u001B[0m",
      "\u001B[1;31mIndexError\u001B[0m                                Traceback (most recent call last)",
      "\u001B[1;32m~\\AppData\\Local\\Temp\\ipykernel_21304\\3599917706.py\u001B[0m in \u001B[0;36m<module>\u001B[1;34m\u001B[0m\n\u001B[0;32m     10\u001B[0m             \u001B[0mtrain_file\u001B[0m \u001B[1;33m=\u001B[0m \u001B[0mos\u001B[0m\u001B[1;33m.\u001B[0m\u001B[0mpath\u001B[0m\u001B[1;33m.\u001B[0m\u001B[0mjoin\u001B[0m\u001B[1;33m(\u001B[0m\u001B[0mds_path\u001B[0m\u001B[1;33m,\u001B[0m \u001B[0mfile_name\u001B[0m\u001B[1;33m)\u001B[0m\u001B[1;33m\u001B[0m\u001B[1;33m\u001B[0m\u001B[0m\n\u001B[0;32m     11\u001B[0m     \u001B[0mprint\u001B[0m\u001B[1;33m(\u001B[0m\u001B[0mtest_file\u001B[0m\u001B[1;33m,\u001B[0m \u001B[0mtrain_file\u001B[0m\u001B[1;33m)\u001B[0m\u001B[1;33m\u001B[0m\u001B[1;33m\u001B[0m\u001B[0m\n\u001B[1;32m---> 12\u001B[1;33m     \u001B[0mx_test\u001B[0m\u001B[1;33m,\u001B[0m \u001B[0my_test\u001B[0m \u001B[1;33m=\u001B[0m \u001B[0mload_numpy_array_from_ts\u001B[0m\u001B[1;33m(\u001B[0m\u001B[0mtest_file\u001B[0m\u001B[1;33m)\u001B[0m\u001B[1;33m\u001B[0m\u001B[1;33m\u001B[0m\u001B[0m\n\u001B[0m\u001B[0;32m     13\u001B[0m     \u001B[0mx_train\u001B[0m\u001B[1;33m,\u001B[0m \u001B[0my_train\u001B[0m \u001B[1;33m=\u001B[0m \u001B[0mload_numpy_array_from_ts\u001B[0m\u001B[1;33m(\u001B[0m\u001B[0mtrain_file\u001B[0m\u001B[1;33m)\u001B[0m\u001B[1;33m\u001B[0m\u001B[1;33m\u001B[0m\u001B[0m\n\u001B[0;32m     14\u001B[0m     \u001B[0mrow\u001B[0m\u001B[1;33m.\u001B[0m\u001B[0mappend\u001B[0m\u001B[1;33m(\u001B[0m\u001B[0mx_train\u001B[0m\u001B[1;33m.\u001B[0m\u001B[0mshape\u001B[0m\u001B[1;33m[\u001B[0m\u001B[1;36m1\u001B[0m\u001B[1;33m]\u001B[0m\u001B[1;33m)\u001B[0m\u001B[1;33m\u001B[0m\u001B[1;33m\u001B[0m\u001B[0m\n",
      "\u001B[1;32m~\\AppData\\Local\\Temp\\ipykernel_21304\\380176558.py\u001B[0m in \u001B[0;36mload_numpy_array_from_ts\u001B[1;34m(path_to_file)\u001B[0m\n\u001B[0;32m      7\u001B[0m \u001B[1;32mdef\u001B[0m \u001B[0mload_numpy_array_from_ts\u001B[0m\u001B[1;33m(\u001B[0m\u001B[0mpath_to_file\u001B[0m\u001B[1;33m)\u001B[0m\u001B[1;33m:\u001B[0m\u001B[1;33m\u001B[0m\u001B[1;33m\u001B[0m\u001B[0m\n\u001B[0;32m      8\u001B[0m     \u001B[0mx\u001B[0m\u001B[1;33m,\u001B[0m \u001B[0my\u001B[0m \u001B[1;33m=\u001B[0m \u001B[0mload_from_tsfile_to_dataframe\u001B[0m\u001B[1;33m(\u001B[0m\u001B[0mpath_to_file\u001B[0m\u001B[1;33m)\u001B[0m\u001B[1;33m\u001B[0m\u001B[1;33m\u001B[0m\u001B[0m\n\u001B[1;32m----> 9\u001B[1;33m     \u001B[1;32mreturn\u001B[0m \u001B[0mprepare_train_data\u001B[0m\u001B[1;33m(\u001B[0m\u001B[0mx\u001B[0m\u001B[1;33m)\u001B[0m\u001B[1;33m,\u001B[0m \u001B[0mnp\u001B[0m\u001B[1;33m.\u001B[0m\u001B[0marray\u001B[0m\u001B[1;33m(\u001B[0m\u001B[0my\u001B[0m\u001B[1;33m,\u001B[0m \u001B[0mdtype\u001B[0m\u001B[1;33m=\u001B[0m\u001B[0mnp\u001B[0m\u001B[1;33m.\u001B[0m\u001B[0mfloat64\u001B[0m\u001B[1;33m)\u001B[0m\u001B[1;33m\u001B[0m\u001B[1;33m\u001B[0m\u001B[0m\n\u001B[0m\u001B[0;32m     10\u001B[0m \u001B[1;33m\u001B[0m\u001B[0m\n\u001B[0;32m     11\u001B[0m \u001B[1;32mdef\u001B[0m \u001B[0marray_dist\u001B[0m\u001B[1;33m(\u001B[0m\u001B[0marr\u001B[0m\u001B[1;33m)\u001B[0m\u001B[1;33m:\u001B[0m\u001B[1;33m\u001B[0m\u001B[1;33m\u001B[0m\u001B[0m\n",
      "\u001B[1;32m~\\AppData\\Local\\Temp\\ipykernel_21304\\380176558.py\u001B[0m in \u001B[0;36mprepare_train_data\u001B[1;34m(df)\u001B[0m\n\u001B[0;32m      2\u001B[0m     \u001B[0mprepared\u001B[0m \u001B[1;33m=\u001B[0m \u001B[0mlist\u001B[0m\u001B[1;33m(\u001B[0m\u001B[1;33m)\u001B[0m\u001B[1;33m\u001B[0m\u001B[1;33m\u001B[0m\u001B[0m\n\u001B[0;32m      3\u001B[0m     \u001B[1;32mfor\u001B[0m \u001B[0mj\u001B[0m \u001B[1;32min\u001B[0m \u001B[0mrange\u001B[0m\u001B[1;33m(\u001B[0m\u001B[0mdf\u001B[0m\u001B[1;33m.\u001B[0m\u001B[0msize\u001B[0m\u001B[1;33m)\u001B[0m\u001B[1;33m:\u001B[0m\u001B[1;33m\u001B[0m\u001B[1;33m\u001B[0m\u001B[0m\n\u001B[1;32m----> 4\u001B[1;33m         \u001B[0mprepared\u001B[0m\u001B[1;33m.\u001B[0m\u001B[0mappend\u001B[0m\u001B[1;33m(\u001B[0m\u001B[0mdf\u001B[0m\u001B[1;33m.\u001B[0m\u001B[0miloc\u001B[0m\u001B[1;33m[\u001B[0m\u001B[0mj\u001B[0m\u001B[1;33m]\u001B[0m\u001B[1;33m.\u001B[0m\u001B[0mto_numpy\u001B[0m\u001B[1;33m(\u001B[0m\u001B[1;33m)\u001B[0m\u001B[1;33m[\u001B[0m\u001B[1;36m0\u001B[0m\u001B[1;33m]\u001B[0m\u001B[1;33m.\u001B[0m\u001B[0mto_numpy\u001B[0m\u001B[1;33m(\u001B[0m\u001B[1;33m)\u001B[0m\u001B[1;33m)\u001B[0m\u001B[1;33m\u001B[0m\u001B[1;33m\u001B[0m\u001B[0m\n\u001B[0m\u001B[0;32m      5\u001B[0m     \u001B[1;32mreturn\u001B[0m \u001B[0mnp\u001B[0m\u001B[1;33m.\u001B[0m\u001B[0marray\u001B[0m\u001B[1;33m(\u001B[0m\u001B[0mprepared\u001B[0m\u001B[1;33m,\u001B[0m \u001B[0mdtype\u001B[0m\u001B[1;33m=\u001B[0m\u001B[0mnp\u001B[0m\u001B[1;33m.\u001B[0m\u001B[0mfloat64\u001B[0m\u001B[1;33m)\u001B[0m\u001B[1;33m\u001B[0m\u001B[1;33m\u001B[0m\u001B[0m\n\u001B[0;32m      6\u001B[0m \u001B[1;33m\u001B[0m\u001B[0m\n",
      "\u001B[1;32mc:\\users\\tmozo\\documents\\master\\semester 3\\projekt deep learning\\code\\venv\\lib\\site-packages\\pandas\\core\\indexing.py\u001B[0m in \u001B[0;36m__getitem__\u001B[1;34m(self, key)\u001B[0m\n\u001B[0;32m    929\u001B[0m \u001B[1;33m\u001B[0m\u001B[0m\n\u001B[0;32m    930\u001B[0m             \u001B[0mmaybe_callable\u001B[0m \u001B[1;33m=\u001B[0m \u001B[0mcom\u001B[0m\u001B[1;33m.\u001B[0m\u001B[0mapply_if_callable\u001B[0m\u001B[1;33m(\u001B[0m\u001B[0mkey\u001B[0m\u001B[1;33m,\u001B[0m \u001B[0mself\u001B[0m\u001B[1;33m.\u001B[0m\u001B[0mobj\u001B[0m\u001B[1;33m)\u001B[0m\u001B[1;33m\u001B[0m\u001B[1;33m\u001B[0m\u001B[0m\n\u001B[1;32m--> 931\u001B[1;33m             \u001B[1;32mreturn\u001B[0m \u001B[0mself\u001B[0m\u001B[1;33m.\u001B[0m\u001B[0m_getitem_axis\u001B[0m\u001B[1;33m(\u001B[0m\u001B[0mmaybe_callable\u001B[0m\u001B[1;33m,\u001B[0m \u001B[0maxis\u001B[0m\u001B[1;33m=\u001B[0m\u001B[0maxis\u001B[0m\u001B[1;33m)\u001B[0m\u001B[1;33m\u001B[0m\u001B[1;33m\u001B[0m\u001B[0m\n\u001B[0m\u001B[0;32m    932\u001B[0m \u001B[1;33m\u001B[0m\u001B[0m\n\u001B[0;32m    933\u001B[0m     \u001B[1;32mdef\u001B[0m \u001B[0m_is_scalar_access\u001B[0m\u001B[1;33m(\u001B[0m\u001B[0mself\u001B[0m\u001B[1;33m,\u001B[0m \u001B[0mkey\u001B[0m\u001B[1;33m:\u001B[0m \u001B[0mtuple\u001B[0m\u001B[1;33m)\u001B[0m\u001B[1;33m:\u001B[0m\u001B[1;33m\u001B[0m\u001B[1;33m\u001B[0m\u001B[0m\n",
      "\u001B[1;32mc:\\users\\tmozo\\documents\\master\\semester 3\\projekt deep learning\\code\\venv\\lib\\site-packages\\pandas\\core\\indexing.py\u001B[0m in \u001B[0;36m_getitem_axis\u001B[1;34m(self, key, axis)\u001B[0m\n\u001B[0;32m   1564\u001B[0m \u001B[1;33m\u001B[0m\u001B[0m\n\u001B[0;32m   1565\u001B[0m             \u001B[1;31m# validate the location\u001B[0m\u001B[1;33m\u001B[0m\u001B[1;33m\u001B[0m\u001B[1;33m\u001B[0m\u001B[0m\n\u001B[1;32m-> 1566\u001B[1;33m             \u001B[0mself\u001B[0m\u001B[1;33m.\u001B[0m\u001B[0m_validate_integer\u001B[0m\u001B[1;33m(\u001B[0m\u001B[0mkey\u001B[0m\u001B[1;33m,\u001B[0m \u001B[0maxis\u001B[0m\u001B[1;33m)\u001B[0m\u001B[1;33m\u001B[0m\u001B[1;33m\u001B[0m\u001B[0m\n\u001B[0m\u001B[0;32m   1567\u001B[0m \u001B[1;33m\u001B[0m\u001B[0m\n\u001B[0;32m   1568\u001B[0m             \u001B[1;32mreturn\u001B[0m \u001B[0mself\u001B[0m\u001B[1;33m.\u001B[0m\u001B[0mobj\u001B[0m\u001B[1;33m.\u001B[0m\u001B[0m_ixs\u001B[0m\u001B[1;33m(\u001B[0m\u001B[0mkey\u001B[0m\u001B[1;33m,\u001B[0m \u001B[0maxis\u001B[0m\u001B[1;33m=\u001B[0m\u001B[0maxis\u001B[0m\u001B[1;33m)\u001B[0m\u001B[1;33m\u001B[0m\u001B[1;33m\u001B[0m\u001B[0m\n",
      "\u001B[1;32mc:\\users\\tmozo\\documents\\master\\semester 3\\projekt deep learning\\code\\venv\\lib\\site-packages\\pandas\\core\\indexing.py\u001B[0m in \u001B[0;36m_validate_integer\u001B[1;34m(self, key, axis)\u001B[0m\n\u001B[0;32m   1498\u001B[0m         \u001B[0mlen_axis\u001B[0m \u001B[1;33m=\u001B[0m \u001B[0mlen\u001B[0m\u001B[1;33m(\u001B[0m\u001B[0mself\u001B[0m\u001B[1;33m.\u001B[0m\u001B[0mobj\u001B[0m\u001B[1;33m.\u001B[0m\u001B[0m_get_axis\u001B[0m\u001B[1;33m(\u001B[0m\u001B[0maxis\u001B[0m\u001B[1;33m)\u001B[0m\u001B[1;33m)\u001B[0m\u001B[1;33m\u001B[0m\u001B[1;33m\u001B[0m\u001B[0m\n\u001B[0;32m   1499\u001B[0m         \u001B[1;32mif\u001B[0m \u001B[0mkey\u001B[0m \u001B[1;33m>=\u001B[0m \u001B[0mlen_axis\u001B[0m \u001B[1;32mor\u001B[0m \u001B[0mkey\u001B[0m \u001B[1;33m<\u001B[0m \u001B[1;33m-\u001B[0m\u001B[0mlen_axis\u001B[0m\u001B[1;33m:\u001B[0m\u001B[1;33m\u001B[0m\u001B[1;33m\u001B[0m\u001B[0m\n\u001B[1;32m-> 1500\u001B[1;33m             \u001B[1;32mraise\u001B[0m \u001B[0mIndexError\u001B[0m\u001B[1;33m(\u001B[0m\u001B[1;34m\"single positional indexer is out-of-bounds\"\u001B[0m\u001B[1;33m)\u001B[0m\u001B[1;33m\u001B[0m\u001B[1;33m\u001B[0m\u001B[0m\n\u001B[0m\u001B[0;32m   1501\u001B[0m \u001B[1;33m\u001B[0m\u001B[0m\n\u001B[0;32m   1502\u001B[0m     \u001B[1;31m# -------------------------------------------------------------------\u001B[0m\u001B[1;33m\u001B[0m\u001B[1;33m\u001B[0m\u001B[1;33m\u001B[0m\u001B[0m\n",
      "\u001B[1;31mIndexError\u001B[0m: single positional indexer is out-of-bounds"
     ]
    }
   ],
   "source": [
    "for i in range(len(datasets_paths)):\n",
    "    ds_path = datasets_paths[i]\n",
    "    row = list()\n",
    "    row.append(datasets_names[i])\n",
    "    print(datasets_names[i])\n",
    "    for file_name in os.listdir(ds_path):\n",
    "        if \"TEST\" in file_name:\n",
    "            test_file = os.path.join(ds_path, file_name)\n",
    "        if \"TRAIN\" in file_name:\n",
    "            train_file = os.path.join(ds_path, file_name)\n",
    "    print(test_file, train_file)\n",
    "    x_test, y_test = load_numpy_array_from_ts(test_file)\n",
    "    x_train, y_train = load_numpy_array_from_ts(train_file)\n",
    "    row.append(x_train.shape[1])\n",
    "    row.append(x_train.shape[0])\n",
    "    row.append(x_test.shape[0])\n",
    "    row.append(str(dict(array_dist(y_train))))\n",
    "    row.append(str(dict(array_dist(y_test))))\n",
    "    data.append(row)"
   ],
   "metadata": {
    "collapsed": false,
    "pycharm": {
     "name": "#%%\n"
    }
   }
  },
  {
   "cell_type": "code",
   "execution_count": 24,
   "outputs": [
    {
     "data": {
      "text/plain": "{0.0: 0.17567645865925025, 1.0: 0.29381771829190567, 2.0: 0.5305058230488441}"
     },
     "execution_count": 24,
     "metadata": {},
     "output_type": "execute_result"
    }
   ],
   "source": [
    "dict(array_dist(y_test))"
   ],
   "metadata": {
    "collapsed": false,
    "pycharm": {
     "name": "#%%\n"
    }
   }
  },
  {
   "cell_type": "code",
   "execution_count": 20,
   "outputs": [],
   "source": [
    "df = pd.DataFrame(data, columns=columns)"
   ],
   "metadata": {
    "collapsed": false,
    "pycharm": {
     "name": "#%%\n"
    }
   }
  },
  {
   "cell_type": "code",
   "execution_count": 21,
   "outputs": [
    {
     "data": {
      "text/plain": "                      ds_name  length  train_size  test_size  \\\n0          abnormal_heartbeat   18530         204        205   \n1                  arrow_head     251          36        175   \n2                coffee_beans     286          28         28   \n3                    freezers     301         150       2850   \n4  pedestrian_count_chinatown      24          20        343   \n5            right_whale_call    4000       10934       1962   \n6        species_of_fruit_fly    5000       17259      17259   \n\n                                 train_classes_distr  \\\n0  defaultdict(<class 'int'>, {0.0: 0.73039215686...   \n1  defaultdict(<class 'int'>, {0.0: 0.33333333333...   \n2   defaultdict(<class 'int'>, {0.0: 0.5, 1.0: 0.5})   \n3   defaultdict(<class 'int'>, {1.0: 0.5, 2.0: 0.5})   \n4   defaultdict(<class 'int'>, {1.0: 0.5, 2.0: 0.5})   \n5   defaultdict(<class 'int'>, {1.0: 0.5, 0.0: 0.5})   \n6  defaultdict(<class 'int'>, {0.0: 0.17567645865...   \n\n                                  test_classes_distr  \n0  defaultdict(<class 'int'>, {0.0: 0.73170731707...  \n1  defaultdict(<class 'int'>, {0.0: 0.39428571428...  \n2  defaultdict(<class 'int'>, {0.0: 0.53571428571...  \n3   defaultdict(<class 'int'>, {1.0: 0.5, 2.0: 0.5})  \n4  defaultdict(<class 'int'>, {1.0: 0.27405247813...  \n5   defaultdict(<class 'int'>, {1.0: 0.5, 0.0: 0.5})  \n6  defaultdict(<class 'int'>, {0.0: 0.17567645865...  ",
      "text/html": "<div>\n<style scoped>\n    .dataframe tbody tr th:only-of-type {\n        vertical-align: middle;\n    }\n\n    .dataframe tbody tr th {\n        vertical-align: top;\n    }\n\n    .dataframe thead th {\n        text-align: right;\n    }\n</style>\n<table border=\"1\" class=\"dataframe\">\n  <thead>\n    <tr style=\"text-align: right;\">\n      <th></th>\n      <th>ds_name</th>\n      <th>length</th>\n      <th>train_size</th>\n      <th>test_size</th>\n      <th>train_classes_distr</th>\n      <th>test_classes_distr</th>\n    </tr>\n  </thead>\n  <tbody>\n    <tr>\n      <th>0</th>\n      <td>abnormal_heartbeat</td>\n      <td>18530</td>\n      <td>204</td>\n      <td>205</td>\n      <td>defaultdict(&lt;class 'int'&gt;, {0.0: 0.73039215686...</td>\n      <td>defaultdict(&lt;class 'int'&gt;, {0.0: 0.73170731707...</td>\n    </tr>\n    <tr>\n      <th>1</th>\n      <td>arrow_head</td>\n      <td>251</td>\n      <td>36</td>\n      <td>175</td>\n      <td>defaultdict(&lt;class 'int'&gt;, {0.0: 0.33333333333...</td>\n      <td>defaultdict(&lt;class 'int'&gt;, {0.0: 0.39428571428...</td>\n    </tr>\n    <tr>\n      <th>2</th>\n      <td>coffee_beans</td>\n      <td>286</td>\n      <td>28</td>\n      <td>28</td>\n      <td>defaultdict(&lt;class 'int'&gt;, {0.0: 0.5, 1.0: 0.5})</td>\n      <td>defaultdict(&lt;class 'int'&gt;, {0.0: 0.53571428571...</td>\n    </tr>\n    <tr>\n      <th>3</th>\n      <td>freezers</td>\n      <td>301</td>\n      <td>150</td>\n      <td>2850</td>\n      <td>defaultdict(&lt;class 'int'&gt;, {1.0: 0.5, 2.0: 0.5})</td>\n      <td>defaultdict(&lt;class 'int'&gt;, {1.0: 0.5, 2.0: 0.5})</td>\n    </tr>\n    <tr>\n      <th>4</th>\n      <td>pedestrian_count_chinatown</td>\n      <td>24</td>\n      <td>20</td>\n      <td>343</td>\n      <td>defaultdict(&lt;class 'int'&gt;, {1.0: 0.5, 2.0: 0.5})</td>\n      <td>defaultdict(&lt;class 'int'&gt;, {1.0: 0.27405247813...</td>\n    </tr>\n    <tr>\n      <th>5</th>\n      <td>right_whale_call</td>\n      <td>4000</td>\n      <td>10934</td>\n      <td>1962</td>\n      <td>defaultdict(&lt;class 'int'&gt;, {1.0: 0.5, 0.0: 0.5})</td>\n      <td>defaultdict(&lt;class 'int'&gt;, {1.0: 0.5, 0.0: 0.5})</td>\n    </tr>\n    <tr>\n      <th>6</th>\n      <td>species_of_fruit_fly</td>\n      <td>5000</td>\n      <td>17259</td>\n      <td>17259</td>\n      <td>defaultdict(&lt;class 'int'&gt;, {0.0: 0.17567645865...</td>\n      <td>defaultdict(&lt;class 'int'&gt;, {0.0: 0.17567645865...</td>\n    </tr>\n  </tbody>\n</table>\n</div>"
     },
     "execution_count": 21,
     "metadata": {},
     "output_type": "execute_result"
    }
   ],
   "source": [
    "df"
   ],
   "metadata": {
    "collapsed": false,
    "pycharm": {
     "name": "#%%\n"
    }
   }
  },
  {
   "cell_type": "code",
   "execution_count": 27,
   "outputs": [],
   "source": [
    "df.to_csv(\"./datasets_analysis.csv\", index=False)"
   ],
   "metadata": {
    "collapsed": false,
    "pycharm": {
     "name": "#%%\n"
    }
   }
  },
  {
   "cell_type": "markdown",
   "source": [
    "# Notes - to delete"
   ],
   "metadata": {
    "collapsed": false,
    "pycharm": {
     "name": "#%% md\n"
    }
   }
  },
  {
   "cell_type": "code",
   "execution_count": null,
   "outputs": [],
   "source": [],
   "metadata": {
    "collapsed": false,
    "pycharm": {
     "name": "#%%\n"
    }
   }
  }
 ],
 "metadata": {
  "kernelspec": {
   "display_name": "Python 3",
   "language": "python",
   "name": "python3"
  },
  "language_info": {
   "codemirror_mode": {
    "name": "ipython",
    "version": 2
   },
   "file_extension": ".py",
   "mimetype": "text/x-python",
   "name": "python",
   "nbconvert_exporter": "python",
   "pygments_lexer": "ipython2",
   "version": "2.7.6"
  }
 },
 "nbformat": 4,
 "nbformat_minor": 0
}