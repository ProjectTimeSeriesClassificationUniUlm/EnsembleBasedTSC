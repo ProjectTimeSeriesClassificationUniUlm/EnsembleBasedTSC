{
 "cells": [
  {
   "cell_type": "code",
   "execution_count": 1,
   "metadata": {
    "tags": []
   },
   "outputs": [],
   "source": [
    "import time\n",
    "import math\n",
    "import os\n",
    "import logging\n",
    "os.environ['TF_CPP_MIN_LOG_LEVEL'] = '2'\n",
    "import tensorflow as tf\n",
    "tf.get_logger().setLevel(logging.WARNING)\n",
    "\n",
    "import json\n",
    "import sys\n",
    "sys.path.append(\"../src\")\n",
    "from Helpers import visualize_confusion_matrix, create_confusion_matrix_plot_from_csv\n",
    "from Evaluation import plot_model_history\n",
    "from TrainProdecure import train\n",
    "from PreprocessData import preprocess_data\n",
    "from PreprocessData import preprocess_datasets\n",
    "from LoadData import get_all_datasets_test_train_np_arrays, DATASETS_MCDCNN\n",
    "from ModelBuilder import get_MLP, get_FCN, get_Resnet, get_MCDCNN, get_Encoder, get_Time_CNN"
   ]
  },
  {
   "cell_type": "code",
   "execution_count": 2,
   "metadata": {},
   "outputs": [],
   "source": [
    "from LoadData import CurrentDatasets\n",
    "\n",
    "datasets = get_all_datasets_test_train_np_arrays(\"../datasets\", ds_names=[model.value for model in CurrentDatasets])\n",
    "datasets = preprocess_datasets(datasets, batch_size=10, augmentation=False)"
   ]
  },
  {
   "cell_type": "code",
   "execution_count": 2,
   "outputs": [],
   "source": [],
   "metadata": {
    "collapsed": false
   }
  },
  {
   "cell_type": "code",
   "execution_count": null,
   "metadata": {
    "jupyter": {
     "outputs_hidden": false
    },
    "pycharm": {
     "is_executing": true
    }
   },
   "outputs": [
    {
     "name": "stdout",
     "output_type": "stream",
     "text": [
      "5/5 [==============================] - 3s 6ms/step - loss: 0.7981 - accuracy: 0.6835\n",
      "5/5 [==============================] - 3s 3ms/step\n",
      "Model name:  FCN-5\n"
     ]
    },
    {
     "data": {
      "text/plain": "FCN-5: 0epoch [00:00, ?epoch/s]",
      "application/vnd.jupyter.widget-view+json": {
       "version_major": 2,
       "version_minor": 0,
       "model_id": "fd6315a3dc194875b3c6899fbc6453a8"
      }
     },
     "metadata": {},
     "output_type": "display_data"
    },
    {
     "name": "stdout",
     "output_type": "stream",
     "text": [
      "5/5 [==============================] - 3s 5ms/step - loss: 1.2669 - accuracy: 0.5612\n",
      "5/5 [==============================] - 3s 3ms/step\n",
      "Model name:  FCN-6\n"
     ]
    },
    {
     "data": {
      "text/plain": "FCN-6: 0epoch [00:00, ?epoch/s]",
      "application/vnd.jupyter.widget-view+json": {
       "version_major": 2,
       "version_minor": 0,
       "model_id": "3952aeaa30594be7bf8151f7d7367004"
      }
     },
     "metadata": {},
     "output_type": "display_data"
    },
    {
     "name": "stdout",
     "output_type": "stream",
     "text": [
      "5/5 [==============================] - 3s 5ms/step - loss: 0.9560 - accuracy: 0.6259\n",
      "5/5 [==============================] - 3s 3ms/step\n",
      "Model name:  FCN-7\n"
     ]
    },
    {
     "data": {
      "text/plain": "FCN-7: 0epoch [00:00, ?epoch/s]",
      "application/vnd.jupyter.widget-view+json": {
       "version_major": 2,
       "version_minor": 0,
       "model_id": "06932e6f7e614268931590dbd7a28067"
      }
     },
     "metadata": {},
     "output_type": "display_data"
    },
    {
     "name": "stdout",
     "output_type": "stream",
     "text": [
      "5/5 [==============================] - 1s 6ms/step - loss: 0.8365 - accuracy: 0.6619\n",
      "5/5 [==============================] - 1s 5ms/step\n",
      "Model name:  FCN-8\n"
     ]
    },
    {
     "data": {
      "text/plain": "FCN-8: 0epoch [00:00, ?epoch/s]",
      "application/vnd.jupyter.widget-view+json": {
       "version_major": 2,
       "version_minor": 0,
       "model_id": "3ff6f578f34c49d08fb163653158996b"
      }
     },
     "metadata": {},
     "output_type": "display_data"
    },
    {
     "name": "stdout",
     "output_type": "stream",
     "text": [
      "5/5 [==============================] - 1s 7ms/step - loss: 0.8094 - accuracy: 0.6906\n",
      "5/5 [==============================] - 1s 5ms/step\n",
      "Model name:  FCN-9\n"
     ]
    },
    {
     "data": {
      "text/plain": "FCN-9: 0epoch [00:00, ?epoch/s]",
      "application/vnd.jupyter.widget-view+json": {
       "version_major": 2,
       "version_minor": 0,
       "model_id": "7032c4065434438fb1f57176499bc47c"
      }
     },
     "metadata": {},
     "output_type": "display_data"
    },
    {
     "name": "stdout",
     "output_type": "stream",
     "text": [
      "5/5 [==============================] - 1s 6ms/step - loss: 0.9819 - accuracy: 0.5971\n",
      "5/5 [==============================] - 1s 20ms/step\n",
      "Dataset name:  egg_five_days\n"
     ]
    },
    {
     "data": {
      "text/plain": "Train on \"egg_five_days\":   0%|          | 0/10 [00:00<?, ?model/s]",
      "application/vnd.jupyter.widget-view+json": {
       "version_major": 2,
       "version_minor": 0,
       "model_id": "1eee4329c69d46e6a029c8aaa0d5c00d"
      }
     },
     "metadata": {},
     "output_type": "display_data"
    },
    {
     "name": "stdout",
     "output_type": "stream",
     "text": [
      "Model name:  FCN-0\n"
     ]
    },
    {
     "data": {
      "text/plain": "FCN-0: 0epoch [00:00, ?epoch/s]",
      "application/vnd.jupyter.widget-view+json": {
       "version_major": 2,
       "version_minor": 0,
       "model_id": "8d5849901d4d4b90aaa57a360c3dfd15"
      }
     },
     "metadata": {},
     "output_type": "display_data"
    },
    {
     "name": "stdout",
     "output_type": "stream",
     "text": [
      "1/1 [==============================] - 2s 2s/step - loss: 0.6113 - accuracy: 0.7826\n",
      "1/1 [==============================] - 3s 3s/step\n",
      "Model name:  FCN-1\n"
     ]
    },
    {
     "data": {
      "text/plain": "FCN-1: 0epoch [00:00, ?epoch/s]",
      "application/vnd.jupyter.widget-view+json": {
       "version_major": 2,
       "version_minor": 0,
       "model_id": "fe9a8851a3444076807548a27d493da7"
      }
     },
     "metadata": {},
     "output_type": "display_data"
    },
    {
     "name": "stdout",
     "output_type": "stream",
     "text": [
      "1/1 [==============================] - 3s 3s/step - loss: 0.0774 - accuracy: 0.9565\n",
      "1/1 [==============================] - 3s 3s/step\n",
      "Model name:  FCN-2\n"
     ]
    },
    {
     "data": {
      "text/plain": "FCN-2: 0epoch [00:00, ?epoch/s]",
      "application/vnd.jupyter.widget-view+json": {
       "version_major": 2,
       "version_minor": 0,
       "model_id": "43b6e0def12449499bef6684ec202fe8"
      }
     },
     "metadata": {},
     "output_type": "display_data"
    },
    {
     "name": "stdout",
     "output_type": "stream",
     "text": [
      "1/1 [==============================] - 3s 3s/step - loss: 0.0731 - accuracy: 0.9565\n",
      "1/1 [==============================] - 3s 3s/step\n",
      "Model name:  FCN-3\n"
     ]
    },
    {
     "data": {
      "text/plain": "FCN-3: 0epoch [00:00, ?epoch/s]",
      "application/vnd.jupyter.widget-view+json": {
       "version_major": 2,
       "version_minor": 0,
       "model_id": "2ef1c3f1973a424294bc363ccb9ae7ae"
      }
     },
     "metadata": {},
     "output_type": "display_data"
    },
    {
     "name": "stdout",
     "output_type": "stream",
     "text": [
      "1/1 [==============================] - 3s 3s/step - loss: 0.0013 - accuracy: 1.0000\n",
      "1/1 [==============================] - 3s 3s/step\n",
      "Model name:  FCN-4\n"
     ]
    },
    {
     "data": {
      "text/plain": "FCN-4: 0epoch [00:00, ?epoch/s]",
      "application/vnd.jupyter.widget-view+json": {
       "version_major": 2,
       "version_minor": 0,
       "model_id": "77914e01f57944aa96ff0f5e82dcba3d"
      }
     },
     "metadata": {},
     "output_type": "display_data"
    },
    {
     "name": "stdout",
     "output_type": "stream",
     "text": [
      "1/1 [==============================] - 1s 1s/step - loss: 0.0064 - accuracy: 1.0000\n",
      "1/1 [==============================] - 1s 1s/step\n",
      "Model name:  FCN-5\n"
     ]
    },
    {
     "data": {
      "text/plain": "FCN-5: 0epoch [00:00, ?epoch/s]",
      "application/vnd.jupyter.widget-view+json": {
       "version_major": 2,
       "version_minor": 0,
       "model_id": "f1ed4ff1378748648db344aa4efe3388"
      }
     },
     "metadata": {},
     "output_type": "display_data"
    },
    {
     "name": "stdout",
     "output_type": "stream",
     "text": [
      "WARNING:tensorflow:Callback method `on_train_batch_end` is slow compared to the batch time (batch time: 0.0137s vs `on_train_batch_end` time: 0.0172s). Check your callbacks.\n",
      "1/1 [==============================] - 1s 1s/step - loss: 0.0046 - accuracy: 1.0000\n",
      "1/1 [==============================] - 1s 1s/step\n",
      "Model name:  FCN-6\n"
     ]
    },
    {
     "data": {
      "text/plain": "FCN-6: 0epoch [00:00, ?epoch/s]",
      "application/vnd.jupyter.widget-view+json": {
       "version_major": 2,
       "version_minor": 0,
       "model_id": "28be40e81f044e0aadf4db3665d541a4"
      }
     },
     "metadata": {},
     "output_type": "display_data"
    },
    {
     "name": "stdout",
     "output_type": "stream",
     "text": [
      "1/1 [==============================] - 1s 1s/step - loss: 0.0031 - accuracy: 1.0000\n",
      "1/1 [==============================] - 1s 1s/step\n",
      "Model name:  FCN-7\n"
     ]
    },
    {
     "data": {
      "text/plain": "FCN-7: 0epoch [00:00, ?epoch/s]",
      "application/vnd.jupyter.widget-view+json": {
       "version_major": 2,
       "version_minor": 0,
       "model_id": "8d65792c63eb400d9d843bf87f0222d9"
      }
     },
     "metadata": {},
     "output_type": "display_data"
    },
    {
     "name": "stdout",
     "output_type": "stream",
     "text": [
      "1/1 [==============================] - 1s 1s/step - loss: 4.6338e-04 - accuracy: 1.0000\n",
      "1/1 [==============================] - 1s 1s/step\n",
      "Model name:  FCN-8\n"
     ]
    },
    {
     "data": {
      "text/plain": "FCN-8: 0epoch [00:00, ?epoch/s]",
      "application/vnd.jupyter.widget-view+json": {
       "version_major": 2,
       "version_minor": 0,
       "model_id": "6b538d9333b947ce90f7b0099dc7168b"
      }
     },
     "metadata": {},
     "output_type": "display_data"
    },
    {
     "name": "stdout",
     "output_type": "stream",
     "text": [
      "1/1 [==============================] - 1s 1s/step - loss: 0.0433 - accuracy: 1.0000\n",
      "1/1 [==============================] - 1s 1s/step\n",
      "Model name:  FCN-9\n"
     ]
    },
    {
     "data": {
      "text/plain": "FCN-9: 0epoch [00:00, ?epoch/s]",
      "application/vnd.jupyter.widget-view+json": {
       "version_major": 2,
       "version_minor": 0,
       "model_id": "a60d7f4c38cb4af0a1779092b1b324e3"
      }
     },
     "metadata": {},
     "output_type": "display_data"
    },
    {
     "name": "stdout",
     "output_type": "stream",
     "text": [
      "1/1 [==============================] - 1s 1s/step - loss: 0.2505 - accuracy: 0.8696\n",
      "1/1 [==============================] - 1s 1s/step\n",
      "Dataset name:  electric_devices\n"
     ]
    },
    {
     "data": {
      "text/plain": "Train on \"electric_devices\":   0%|          | 0/10 [00:00<?, ?model/s]",
      "application/vnd.jupyter.widget-view+json": {
       "version_major": 2,
       "version_minor": 0,
       "model_id": "482d345b3042440c9e7174bcc989a20c"
      }
     },
     "metadata": {},
     "output_type": "display_data"
    },
    {
     "name": "stdout",
     "output_type": "stream",
     "text": [
      "Model name:  FCN-0\n"
     ]
    },
    {
     "data": {
      "text/plain": "FCN-0: 0epoch [00:00, ?epoch/s]",
      "application/vnd.jupyter.widget-view+json": {
       "version_major": 2,
       "version_minor": 0,
       "model_id": "e074e95f90d742c995f0828d28d22790"
      }
     },
     "metadata": {},
     "output_type": "display_data"
    },
    {
     "name": "stdout",
     "output_type": "stream",
     "text": [
      "241/241 [==============================] - 7s 15ms/step - loss: 4.9876 - accuracy: 0.3464\n",
      "241/241 [==============================] - 4s 3ms/step\n",
      "Model name:  FCN-1\n"
     ]
    },
    {
     "data": {
      "text/plain": "FCN-1: 0epoch [00:00, ?epoch/s]",
      "application/vnd.jupyter.widget-view+json": {
       "version_major": 2,
       "version_minor": 0,
       "model_id": "8458a6f9f8ee43a29e3ac78507425683"
      }
     },
     "metadata": {},
     "output_type": "display_data"
    },
    {
     "name": "stdout",
     "output_type": "stream",
     "text": [
      "241/241 [==============================] - 2s 5ms/step - loss: 4.6152 - accuracy: 0.3631\n",
      "241/241 [==============================] - 2s 3ms/step\n",
      "Model name:  FCN-2\n"
     ]
    },
    {
     "data": {
      "text/plain": "FCN-2: 0epoch [00:00, ?epoch/s]",
      "application/vnd.jupyter.widget-view+json": {
       "version_major": 2,
       "version_minor": 0,
       "model_id": "57d8456af754473c8b75325b59b856b8"
      }
     },
     "metadata": {},
     "output_type": "display_data"
    },
    {
     "name": "stdout",
     "output_type": "stream",
     "text": [
      "241/241 [==============================] - 3s 6ms/step - loss: 5.6171 - accuracy: 0.2424\n",
      "241/241 [==============================] - 2s 3ms/step\n",
      "Model name:  FCN-3\n"
     ]
    },
    {
     "data": {
      "text/plain": "FCN-3: 0epoch [00:00, ?epoch/s]",
      "application/vnd.jupyter.widget-view+json": {
       "version_major": 2,
       "version_minor": 0,
       "model_id": "161e7a14f20f4fd096ca987fabea0bda"
      }
     },
     "metadata": {},
     "output_type": "display_data"
    },
    {
     "name": "stdout",
     "output_type": "stream",
     "text": [
      "241/241 [==============================] - 3s 6ms/step - loss: 5.1695 - accuracy: 0.2831\n",
      "241/241 [==============================] - 2s 3ms/step\n",
      "Model name:  FCN-4\n"
     ]
    },
    {
     "data": {
      "text/plain": "FCN-4: 0epoch [00:00, ?epoch/s]",
      "application/vnd.jupyter.widget-view+json": {
       "version_major": 2,
       "version_minor": 0,
       "model_id": "3e1348a2b77d40b38d472bfaa4720cc9"
      }
     },
     "metadata": {},
     "output_type": "display_data"
    },
    {
     "name": "stdout",
     "output_type": "stream",
     "text": [
      "241/241 [==============================] - 3s 5ms/step - loss: 5.0169 - accuracy: 0.2429\n",
      "241/241 [==============================] - 2s 3ms/step\n",
      "Model name:  FCN-5\n"
     ]
    },
    {
     "data": {
      "text/plain": "FCN-5: 0epoch [00:00, ?epoch/s]",
      "application/vnd.jupyter.widget-view+json": {
       "version_major": 2,
       "version_minor": 0,
       "model_id": "0b3fba7f1bf14d909fd3b58e1108275b"
      }
     },
     "metadata": {},
     "output_type": "display_data"
    },
    {
     "name": "stdout",
     "output_type": "stream",
     "text": [
      "241/241 [==============================] - 3s 6ms/step - loss: 6.0391 - accuracy: 0.2437\n",
      "241/241 [==============================] - 2s 3ms/step\n",
      "Model name:  FCN-6\n"
     ]
    },
    {
     "data": {
      "text/plain": "FCN-6: 0epoch [00:00, ?epoch/s]",
      "application/vnd.jupyter.widget-view+json": {
       "version_major": 2,
       "version_minor": 0,
       "model_id": "bfcc66415660488fa6b57973e7293d1d"
      }
     },
     "metadata": {},
     "output_type": "display_data"
    },
    {
     "name": "stdout",
     "output_type": "stream",
     "text": [
      "241/241 [==============================] - 2s 5ms/step - loss: 6.2240 - accuracy: 0.2429\n",
      "241/241 [==============================] - 2s 3ms/step\n",
      "Model name:  FCN-7\n"
     ]
    },
    {
     "data": {
      "text/plain": "FCN-7: 0epoch [00:00, ?epoch/s]",
      "application/vnd.jupyter.widget-view+json": {
       "version_major": 2,
       "version_minor": 0,
       "model_id": "369c615f2ece4a96b685b4479bd78169"
      }
     },
     "metadata": {},
     "output_type": "display_data"
    },
    {
     "name": "stdout",
     "output_type": "stream",
     "text": [
      "WARNING:tensorflow:Callback method `on_train_batch_end` is slow compared to the batch time (batch time: 0.0071s vs `on_train_batch_end` time: 0.0369s). Check your callbacks.\n",
      "241/241 [==============================] - 2s 5ms/step - loss: 4.8988 - accuracy: 0.2611\n",
      "241/241 [==============================] - 2s 3ms/step\n",
      "Model name:  FCN-8\n"
     ]
    },
    {
     "data": {
      "text/plain": "FCN-8: 0epoch [00:00, ?epoch/s]",
      "application/vnd.jupyter.widget-view+json": {
       "version_major": 2,
       "version_minor": 0,
       "model_id": "6dbc8dab99054112818c49074cea95d2"
      }
     },
     "metadata": {},
     "output_type": "display_data"
    },
    {
     "name": "stdout",
     "output_type": "stream",
     "text": [
      "241/241 [==============================] - 2s 5ms/step - loss: 5.9668 - accuracy: 0.3639\n",
      "241/241 [==============================] - 2s 3ms/step\n",
      "Model name:  FCN-9\n"
     ]
    },
    {
     "data": {
      "text/plain": "FCN-9: 0epoch [00:00, ?epoch/s]",
      "application/vnd.jupyter.widget-view+json": {
       "version_major": 2,
       "version_minor": 0,
       "model_id": "ec4de3e2a040428385cc60c30f258c0e"
      }
     },
     "metadata": {},
     "output_type": "display_data"
    },
    {
     "name": "stdout",
     "output_type": "stream",
     "text": [
      "241/241 [==============================] - 2s 5ms/step - loss: 4.6469 - accuracy: 0.2710\n",
      "241/241 [==============================] - 2s 3ms/step\n",
      "Dataset name:  face_ucr\n"
     ]
    },
    {
     "data": {
      "text/plain": "Train on \"face_ucr\":   0%|          | 0/10 [00:00<?, ?model/s]",
      "application/vnd.jupyter.widget-view+json": {
       "version_major": 2,
       "version_minor": 0,
       "model_id": "5b54fda58dfb45f9968b3d5680a94bd7"
      }
     },
     "metadata": {},
     "output_type": "display_data"
    },
    {
     "name": "stdout",
     "output_type": "stream",
     "text": [
      "Model name:  FCN-0\n"
     ]
    },
    {
     "data": {
      "text/plain": "FCN-0: 0epoch [00:00, ?epoch/s]",
      "application/vnd.jupyter.widget-view+json": {
       "version_major": 2,
       "version_minor": 0,
       "model_id": "786b6587f69846a59fa469c5f38352ab"
      }
     },
     "metadata": {},
     "output_type": "display_data"
    },
    {
     "name": "stdout",
     "output_type": "stream",
     "text": [
      "65/65 [==============================] - 2s 6ms/step - loss: 0.6047 - accuracy: 0.8644\n",
      "65/65 [==============================] - 1s 3ms/step\n",
      "Model name:  FCN-1\n"
     ]
    },
    {
     "data": {
      "text/plain": "FCN-1: 0epoch [00:00, ?epoch/s]",
      "application/vnd.jupyter.widget-view+json": {
       "version_major": 2,
       "version_minor": 0,
       "model_id": "6968b3a2ea3d4c43ac16352dcf59e528"
      }
     },
     "metadata": {},
     "output_type": "display_data"
    },
    {
     "name": "stdout",
     "output_type": "stream",
     "text": [
      "65/65 [==============================] - 2s 7ms/step - loss: 0.5900 - accuracy: 0.8824\n",
      "65/65 [==============================] - 1s 3ms/step\n",
      "Model name:  FCN-2\n"
     ]
    },
    {
     "data": {
      "text/plain": "FCN-2: 0epoch [00:00, ?epoch/s]",
      "application/vnd.jupyter.widget-view+json": {
       "version_major": 2,
       "version_minor": 0,
       "model_id": "c7b5f8316a2a44e080a403a669206ac2"
      }
     },
     "metadata": {},
     "output_type": "display_data"
    },
    {
     "name": "stdout",
     "output_type": "stream",
     "text": [
      "65/65 [==============================] - 2s 6ms/step - loss: 0.5464 - accuracy: 0.9098\n",
      "65/65 [==============================] - 1s 3ms/step\n",
      "Model name:  FCN-3\n"
     ]
    },
    {
     "data": {
      "text/plain": "FCN-3: 0epoch [00:00, ?epoch/s]",
      "application/vnd.jupyter.widget-view+json": {
       "version_major": 2,
       "version_minor": 0,
       "model_id": "18f52ae2a90a4cff8931e3d6ef219f13"
      }
     },
     "metadata": {},
     "output_type": "display_data"
    },
    {
     "name": "stdout",
     "output_type": "stream",
     "text": [
      "65/65 [==============================] - 2s 7ms/step - loss: 0.7241 - accuracy: 0.8341\n",
      "65/65 [==============================] - 1s 3ms/step\n",
      "Model name:  FCN-4\n"
     ]
    },
    {
     "data": {
      "text/plain": "FCN-4: 0epoch [00:00, ?epoch/s]",
      "application/vnd.jupyter.widget-view+json": {
       "version_major": 2,
       "version_minor": 0,
       "model_id": "d3f5a080bbb64d50a1ccd58ee0033c13"
      }
     },
     "metadata": {},
     "output_type": "display_data"
    },
    {
     "name": "stdout",
     "output_type": "stream",
     "text": [
      "65/65 [==============================] - 2s 5ms/step - loss: 0.7631 - accuracy: 0.7985\n",
      "65/65 [==============================] - 1s 5ms/step\n",
      "Model name:  FCN-5\n"
     ]
    },
    {
     "data": {
      "text/plain": "FCN-5: 0epoch [00:00, ?epoch/s]",
      "application/vnd.jupyter.widget-view+json": {
       "version_major": 2,
       "version_minor": 0,
       "model_id": "3bae0952956346fc9a068b4d95dba293"
      }
     },
     "metadata": {},
     "output_type": "display_data"
    },
    {
     "name": "stdout",
     "output_type": "stream",
     "text": [
      "65/65 [==============================] - 2s 7ms/step - loss: 0.5380 - accuracy: 0.9015\n",
      "65/65 [==============================] - 1s 3ms/step\n",
      "Model name:  FCN-6\n"
     ]
    },
    {
     "data": {
      "text/plain": "FCN-6: 0epoch [00:00, ?epoch/s]",
      "application/vnd.jupyter.widget-view+json": {
       "version_major": 2,
       "version_minor": 0,
       "model_id": "46df5bdea10948b894981b6dc74f0d1a"
      }
     },
     "metadata": {},
     "output_type": "display_data"
    },
    {
     "name": "stdout",
     "output_type": "stream",
     "text": [
      "65/65 [==============================] - 2s 4ms/step - loss: 0.6259 - accuracy: 0.8668\n",
      "65/65 [==============================] - 1s 5ms/step\n",
      "Model name:  FCN-7\n"
     ]
    },
    {
     "data": {
      "text/plain": "FCN-7: 0epoch [00:00, ?epoch/s]",
      "application/vnd.jupyter.widget-view+json": {
       "version_major": 2,
       "version_minor": 0,
       "model_id": "4b8981c597d44b86ac6663bfd07f2be0"
      }
     },
     "metadata": {},
     "output_type": "display_data"
    },
    {
     "name": "stdout",
     "output_type": "stream",
     "text": [
      "65/65 [==============================] - 2s 8ms/step - loss: 0.6943 - accuracy: 0.8332\n",
      "65/65 [==============================] - 1s 3ms/step\n",
      "Model name:  FCN-8\n"
     ]
    },
    {
     "data": {
      "text/plain": "FCN-8: 0epoch [00:00, ?epoch/s]",
      "application/vnd.jupyter.widget-view+json": {
       "version_major": 2,
       "version_minor": 0,
       "model_id": "198612802480459aa84050f7eb15f6c2"
      }
     },
     "metadata": {},
     "output_type": "display_data"
    },
    {
     "name": "stdout",
     "output_type": "stream",
     "text": [
      "65/65 [==============================] - 2s 7ms/step - loss: 0.5999 - accuracy: 0.8751\n",
      "65/65 [==============================] - 1s 2ms/step\n",
      "Model name:  FCN-9\n"
     ]
    },
    {
     "data": {
      "text/plain": "FCN-9: 0epoch [00:00, ?epoch/s]",
      "application/vnd.jupyter.widget-view+json": {
       "version_major": 2,
       "version_minor": 0,
       "model_id": "b8e59d9b55ec4706ac7276e7de8d2e0f"
      }
     },
     "metadata": {},
     "output_type": "display_data"
    },
    {
     "name": "stdout",
     "output_type": "stream",
     "text": [
      "65/65 [==============================] - 2s 7ms/step - loss: 0.6189 - accuracy: 0.8805\n",
      "65/65 [==============================] - 1s 3ms/step\n",
      "Dataset name:  fifty_words\n"
     ]
    },
    {
     "data": {
      "text/plain": "Train on \"fifty_words\":   0%|          | 0/10 [00:00<?, ?model/s]",
      "application/vnd.jupyter.widget-view+json": {
       "version_major": 2,
       "version_minor": 0,
       "model_id": "85fed88be5784836a9332ddba2ba5417"
      }
     },
     "metadata": {},
     "output_type": "display_data"
    },
    {
     "name": "stdout",
     "output_type": "stream",
     "text": [
      "Model name:  FCN-0\n"
     ]
    },
    {
     "data": {
      "text/plain": "FCN-0: 0epoch [00:00, ?epoch/s]",
      "application/vnd.jupyter.widget-view+json": {
       "version_major": 2,
       "version_minor": 0,
       "model_id": "0bd3eb62a0f24b0bbdf29d1d8aea79c8"
      }
     },
     "metadata": {},
     "output_type": "display_data"
    },
    {
     "name": "stdout",
     "output_type": "stream",
     "text": [
      "15/15 [==============================] - 1s 15ms/step - loss: 1.9930 - accuracy: 0.4264\n",
      "15/15 [==============================] - 1s 4ms/step\n",
      "Model name:  FCN-1\n"
     ]
    },
    {
     "data": {
      "text/plain": "FCN-1: 0epoch [00:00, ?epoch/s]",
      "application/vnd.jupyter.widget-view+json": {
       "version_major": 2,
       "version_minor": 0,
       "model_id": "86e2247dcc1949a2800da9ca14169631"
      }
     },
     "metadata": {},
     "output_type": "display_data"
    },
    {
     "name": "stdout",
     "output_type": "stream",
     "text": [
      "WARNING:tensorflow:Callback method `on_train_batch_end` is slow compared to the batch time (batch time: 0.0122s vs `on_train_batch_end` time: 0.0155s). Check your callbacks.\n",
      "15/15 [==============================] - 1s 5ms/step - loss: 2.2057 - accuracy: 0.4000\n",
      "15/15 [==============================] - 0s 3ms/step\n",
      "Model name:  FCN-2\n"
     ]
    },
    {
     "data": {
      "text/plain": "FCN-2: 0epoch [00:00, ?epoch/s]",
      "application/vnd.jupyter.widget-view+json": {
       "version_major": 2,
       "version_minor": 0,
       "model_id": "83b8ac3dab404977a811c0fc450a852d"
      }
     },
     "metadata": {},
     "output_type": "display_data"
    },
    {
     "name": "stdout",
     "output_type": "stream",
     "text": [
      "15/15 [==============================] - 1s 5ms/step - loss: 2.1152 - accuracy: 0.4198\n",
      "15/15 [==============================] - 1s 13ms/step\n",
      "Model name:  FCN-3\n"
     ]
    },
    {
     "data": {
      "text/plain": "FCN-3: 0epoch [00:00, ?epoch/s]",
      "application/vnd.jupyter.widget-view+json": {
       "version_major": 2,
       "version_minor": 0,
       "model_id": "305d1deed1194972bb348fb9fd85aaa1"
      }
     },
     "metadata": {},
     "output_type": "display_data"
    },
    {
     "name": "stdout",
     "output_type": "stream",
     "text": [
      "WARNING:tensorflow:Callback method `on_train_batch_end` is slow compared to the batch time (batch time: 0.0119s vs `on_train_batch_end` time: 0.0151s). Check your callbacks.\n",
      "15/15 [==============================] - 1s 5ms/step - loss: 2.0933 - accuracy: 0.3868\n",
      "15/15 [==============================] - 1s 13ms/step\n",
      "Model name:  FCN-4\n"
     ]
    },
    {
     "data": {
      "text/plain": "FCN-4: 0epoch [00:00, ?epoch/s]",
      "application/vnd.jupyter.widget-view+json": {
       "version_major": 2,
       "version_minor": 0,
       "model_id": "50b2b450e3bb47519f0ff802046cbd75"
      }
     },
     "metadata": {},
     "output_type": "display_data"
    },
    {
     "name": "stdout",
     "output_type": "stream",
     "text": [
      "WARNING:tensorflow:Callback method `on_train_batch_end` is slow compared to the batch time (batch time: 0.0134s vs `on_train_batch_end` time: 0.0146s). Check your callbacks.\n",
      "15/15 [==============================] - 1s 15ms/step - loss: 2.2267 - accuracy: 0.4352\n",
      "15/15 [==============================] - 1s 11ms/step\n",
      "Model name:  FCN-5\n"
     ]
    },
    {
     "data": {
      "text/plain": "FCN-5: 0epoch [00:00, ?epoch/s]",
      "application/vnd.jupyter.widget-view+json": {
       "version_major": 2,
       "version_minor": 0,
       "model_id": "e1fb4fa5d953491caf4146996e19217d"
      }
     },
     "metadata": {},
     "output_type": "display_data"
    },
    {
     "name": "stdout",
     "output_type": "stream",
     "text": [
      "WARNING:tensorflow:Callback method `on_train_batch_end` is slow compared to the batch time (batch time: 0.0130s vs `on_train_batch_end` time: 0.0135s). Check your callbacks.\n",
      "15/15 [==============================] - 1s 16ms/step - loss: 2.1260 - accuracy: 0.3824\n",
      "15/15 [==============================] - 1s 4ms/step\n",
      "Model name:  FCN-6\n"
     ]
    },
    {
     "data": {
      "text/plain": "FCN-6: 0epoch [00:00, ?epoch/s]",
      "application/vnd.jupyter.widget-view+json": {
       "version_major": 2,
       "version_minor": 0,
       "model_id": "7b61d3d9776049b3a420be6912bc91d8"
      }
     },
     "metadata": {},
     "output_type": "display_data"
    },
    {
     "name": "stdout",
     "output_type": "stream",
     "text": [
      "WARNING:tensorflow:Callback method `on_train_batch_end` is slow compared to the batch time (batch time: 0.0115s vs `on_train_batch_end` time: 0.0117s). Check your callbacks.\n",
      "15/15 [==============================] - 1s 14ms/step - loss: 2.1229 - accuracy: 0.4242\n",
      "15/15 [==============================] - 1s 3ms/step\n",
      "Model name:  FCN-7\n"
     ]
    },
    {
     "data": {
      "text/plain": "FCN-7: 0epoch [00:00, ?epoch/s]",
      "application/vnd.jupyter.widget-view+json": {
       "version_major": 2,
       "version_minor": 0,
       "model_id": "bdfe081408ea4d1c935419aec2a98937"
      }
     },
     "metadata": {},
     "output_type": "display_data"
    },
    {
     "name": "stdout",
     "output_type": "stream",
     "text": [
      "WARNING:tensorflow:Callback method `on_train_batch_end` is slow compared to the batch time (batch time: 0.0123s vs `on_train_batch_end` time: 0.0137s). Check your callbacks.\n",
      "15/15 [==============================] - 1s 5ms/step - loss: 2.1794 - accuracy: 0.3758\n",
      "15/15 [==============================] - 1s 15ms/step\n",
      "Model name:  FCN-8\n"
     ]
    },
    {
     "data": {
      "text/plain": "FCN-8: 0epoch [00:00, ?epoch/s]",
      "application/vnd.jupyter.widget-view+json": {
       "version_major": 2,
       "version_minor": 0,
       "model_id": "b4e05cf01797405291e0954b4e719e0b"
      }
     },
     "metadata": {},
     "output_type": "display_data"
    },
    {
     "name": "stdout",
     "output_type": "stream",
     "text": [
      "15/15 [==============================] - 1s 6ms/step - loss: 2.7008 - accuracy: 0.2791\n",
      "15/15 [==============================] - 1s 15ms/step\n",
      "Model name:  FCN-9\n"
     ]
    },
    {
     "data": {
      "text/plain": "FCN-9: 0epoch [00:00, ?epoch/s]",
      "application/vnd.jupyter.widget-view+json": {
       "version_major": 2,
       "version_minor": 0,
       "model_id": "9ea4a7db04ce42a5bffe8d88d6362bdc"
      }
     },
     "metadata": {},
     "output_type": "display_data"
    },
    {
     "name": "stdout",
     "output_type": "stream",
     "text": [
      "WARNING:tensorflow:Callback method `on_train_batch_end` is slow compared to the batch time (batch time: 0.0136s vs `on_train_batch_end` time: 0.0141s). Check your callbacks.\n",
      "15/15 [==============================] - 1s 12ms/step - loss: 2.2768 - accuracy: 0.4022\n",
      "15/15 [==============================] - 1s 4ms/step\n",
      "Dataset name:  mote_strain\n"
     ]
    },
    {
     "data": {
      "text/plain": "Train on \"mote_strain\":   0%|          | 0/10 [00:00<?, ?model/s]",
      "application/vnd.jupyter.widget-view+json": {
       "version_major": 2,
       "version_minor": 0,
       "model_id": "7d1c5e0ff9a842c880206e3718b3bab3"
      }
     },
     "metadata": {},
     "output_type": "display_data"
    },
    {
     "name": "stdout",
     "output_type": "stream",
     "text": [
      "Model name:  FCN-0\n"
     ]
    },
    {
     "data": {
      "text/plain": "FCN-0: 0epoch [00:00, ?epoch/s]",
      "application/vnd.jupyter.widget-view+json": {
       "version_major": 2,
       "version_minor": 0,
       "model_id": "17a309a522084274882e4d5a34390f16"
      }
     },
     "metadata": {},
     "output_type": "display_data"
    },
    {
     "name": "stdout",
     "output_type": "stream",
     "text": [
      "1/1 [==============================] - 1s 1s/step - loss: 0.1316 - accuracy: 0.9000\n",
      "1/1 [==============================] - 1s 1s/step\n",
      "Model name:  FCN-1\n"
     ]
    },
    {
     "data": {
      "text/plain": "FCN-1: 0epoch [00:00, ?epoch/s]",
      "application/vnd.jupyter.widget-view+json": {
       "version_major": 2,
       "version_minor": 0,
       "model_id": "2ed9405a0dd54086bfb4601ce99fb09e"
      }
     },
     "metadata": {},
     "output_type": "display_data"
    },
    {
     "name": "stdout",
     "output_type": "stream",
     "text": [
      "1/1 [==============================] - 1s 1s/step - loss: 0.0750 - accuracy: 0.9500\n",
      "1/1 [==============================] - 1s 1s/step\n",
      "Model name:  FCN-2\n"
     ]
    },
    {
     "data": {
      "text/plain": "FCN-2: 0epoch [00:00, ?epoch/s]",
      "application/vnd.jupyter.widget-view+json": {
       "version_major": 2,
       "version_minor": 0,
       "model_id": "c402a79d788c470199ad73b4f72e817f"
      }
     },
     "metadata": {},
     "output_type": "display_data"
    },
    {
     "name": "stdout",
     "output_type": "stream",
     "text": [
      "1/1 [==============================] - 1s 1s/step - loss: 0.0335 - accuracy: 1.0000\n",
      "1/1 [==============================] - 1s 1s/step\n",
      "Model name:  FCN-3\n"
     ]
    },
    {
     "data": {
      "text/plain": "FCN-3: 0epoch [00:00, ?epoch/s]",
      "application/vnd.jupyter.widget-view+json": {
       "version_major": 2,
       "version_minor": 0,
       "model_id": "4ea5b01282034d719db2f4abd1507451"
      }
     },
     "metadata": {},
     "output_type": "display_data"
    },
    {
     "name": "stdout",
     "output_type": "stream",
     "text": [
      "1/1 [==============================] - 1s 1s/step - loss: 0.0449 - accuracy: 1.0000\n",
      "1/1 [==============================] - 1s 1s/step\n",
      "Model name:  FCN-4\n"
     ]
    },
    {
     "data": {
      "text/plain": "FCN-4: 0epoch [00:00, ?epoch/s]",
      "application/vnd.jupyter.widget-view+json": {
       "version_major": 2,
       "version_minor": 0,
       "model_id": "c2856541f78b4304833353b4963df2fe"
      }
     },
     "metadata": {},
     "output_type": "display_data"
    },
    {
     "name": "stdout",
     "output_type": "stream",
     "text": [
      "1/1 [==============================] - 1s 1s/step - loss: 0.3882 - accuracy: 0.9000\n",
      "1/1 [==============================] - 1s 1s/step\n",
      "Model name:  FCN-5\n"
     ]
    },
    {
     "data": {
      "text/plain": "FCN-5: 0epoch [00:00, ?epoch/s]",
      "application/vnd.jupyter.widget-view+json": {
       "version_major": 2,
       "version_minor": 0,
       "model_id": "7fe3bfa5277e42ae95e65a03ffb1550b"
      }
     },
     "metadata": {},
     "output_type": "display_data"
    },
    {
     "name": "stdout",
     "output_type": "stream",
     "text": [
      "1/1 [==============================] - 1s 1s/step - loss: 0.1389 - accuracy: 0.9000\n",
      "1/1 [==============================] - 1s 1s/step\n",
      "Model name:  FCN-6\n"
     ]
    },
    {
     "data": {
      "text/plain": "FCN-6: 0epoch [00:00, ?epoch/s]",
      "application/vnd.jupyter.widget-view+json": {
       "version_major": 2,
       "version_minor": 0,
       "model_id": "7600e6eba7d44689a66cec8701281a0b"
      }
     },
     "metadata": {},
     "output_type": "display_data"
    },
    {
     "name": "stdout",
     "output_type": "stream",
     "text": [
      "1/1 [==============================] - 1s 1s/step - loss: 0.1837 - accuracy: 0.9000\n",
      "1/1 [==============================] - 0s 139ms/step\n",
      "Model name:  FCN-7\n"
     ]
    },
    {
     "data": {
      "text/plain": "FCN-7: 0epoch [00:00, ?epoch/s]",
      "application/vnd.jupyter.widget-view+json": {
       "version_major": 2,
       "version_minor": 0,
       "model_id": "b447583a7fc640388d9b368a4f31a989"
      }
     },
     "metadata": {},
     "output_type": "display_data"
    },
    {
     "name": "stdout",
     "output_type": "stream",
     "text": [
      "1/1 [==============================] - 1s 1s/step - loss: 0.0736 - accuracy: 0.9500\n",
      "1/1 [==============================] - 1s 1s/step\n",
      "Model name:  FCN-8\n"
     ]
    },
    {
     "data": {
      "text/plain": "FCN-8: 0epoch [00:00, ?epoch/s]",
      "application/vnd.jupyter.widget-view+json": {
       "version_major": 2,
       "version_minor": 0,
       "model_id": "e40e4761d80449db8ce1574111f78afe"
      }
     },
     "metadata": {},
     "output_type": "display_data"
    },
    {
     "name": "stdout",
     "output_type": "stream",
     "text": [
      "1/1 [==============================] - 1s 1s/step - loss: 0.0366 - accuracy: 1.0000\n",
      "1/1 [==============================] - 1s 1s/step\n",
      "Model name:  FCN-9\n"
     ]
    },
    {
     "data": {
      "text/plain": "FCN-9: 0epoch [00:00, ?epoch/s]",
      "application/vnd.jupyter.widget-view+json": {
       "version_major": 2,
       "version_minor": 0,
       "model_id": "93ea3a57a073497b952d44c343a8de37"
      }
     },
     "metadata": {},
     "output_type": "display_data"
    },
    {
     "name": "stdout",
     "output_type": "stream",
     "text": [
      "1/1 [==============================] - 1s 1s/step - loss: 0.2218 - accuracy: 0.9000\n",
      "1/1 [==============================] - 1s 1s/step\n",
      "Dataset name:  power_cons\n"
     ]
    },
    {
     "data": {
      "text/plain": "Train on \"power_cons\":   0%|          | 0/10 [00:00<?, ?model/s]",
      "application/vnd.jupyter.widget-view+json": {
       "version_major": 2,
       "version_minor": 0,
       "model_id": "bc670f9c86664b3fa762137b71c70d24"
      }
     },
     "metadata": {},
     "output_type": "display_data"
    },
    {
     "name": "stdout",
     "output_type": "stream",
     "text": [
      "Model name:  FCN-0\n"
     ]
    },
    {
     "data": {
      "text/plain": "FCN-0: 0epoch [00:00, ?epoch/s]",
      "application/vnd.jupyter.widget-view+json": {
       "version_major": 2,
       "version_minor": 0,
       "model_id": "c086859892254e7f909b1d4371fc4904"
      }
     },
     "metadata": {},
     "output_type": "display_data"
    },
    {
     "name": "stdout",
     "output_type": "stream",
     "text": [
      "6/6 [==============================] - 1s 8ms/step - loss: 0.8980 - accuracy: 0.4944\n",
      "6/6 [==============================] - 1s 16ms/step\n",
      "Model name:  FCN-1\n"
     ]
    },
    {
     "data": {
      "text/plain": "FCN-1: 0epoch [00:00, ?epoch/s]",
      "application/vnd.jupyter.widget-view+json": {
       "version_major": 2,
       "version_minor": 0,
       "model_id": "e32830c9a4fd4787accda59d2fe6a23e"
      }
     },
     "metadata": {},
     "output_type": "display_data"
    },
    {
     "name": "stdout",
     "output_type": "stream",
     "text": [
      "6/6 [==============================] - 1s 5ms/step - loss: 0.6987 - accuracy: 0.5000\n",
      "6/6 [==============================] - 1s 17ms/step\n",
      "Model name:  FCN-2\n"
     ]
    },
    {
     "data": {
      "text/plain": "FCN-2: 0epoch [00:00, ?epoch/s]",
      "application/vnd.jupyter.widget-view+json": {
       "version_major": 2,
       "version_minor": 0,
       "model_id": "e5c1aee3d75c42838fab3226994f8699"
      }
     },
     "metadata": {},
     "output_type": "display_data"
    },
    {
     "name": "stdout",
     "output_type": "stream",
     "text": [
      "6/6 [==============================] - 1s 8ms/step - loss: 0.7666 - accuracy: 0.5111\n",
      "6/6 [==============================] - 1s 18ms/step\n",
      "Model name:  FCN-3\n"
     ]
    },
    {
     "data": {
      "text/plain": "FCN-3: 0epoch [00:00, ?epoch/s]",
      "application/vnd.jupyter.widget-view+json": {
       "version_major": 2,
       "version_minor": 0,
       "model_id": "b9c484dd17674f8fb265db997d2e14fb"
      }
     },
     "metadata": {},
     "output_type": "display_data"
    },
    {
     "name": "stdout",
     "output_type": "stream",
     "text": [
      "6/6 [==============================] - 1s 9ms/step - loss: 0.6388 - accuracy: 0.6111\n",
      "6/6 [==============================] - 1s 10ms/step\n",
      "Model name:  FCN-4\n"
     ]
    },
    {
     "data": {
      "text/plain": "FCN-4: 0epoch [00:00, ?epoch/s]",
      "application/vnd.jupyter.widget-view+json": {
       "version_major": 2,
       "version_minor": 0,
       "model_id": "9cad1133b35b4c9bb52df95b96583119"
      }
     },
     "metadata": {},
     "output_type": "display_data"
    },
    {
     "name": "stdout",
     "output_type": "stream",
     "text": [
      "6/6 [==============================] - 2s 10ms/step - loss: 0.8971 - accuracy: 0.4611\n",
      "6/6 [==============================] - 1s 14ms/step\n",
      "Model name:  FCN-5\n"
     ]
    },
    {
     "data": {
      "text/plain": "FCN-5: 0epoch [00:00, ?epoch/s]",
      "application/vnd.jupyter.widget-view+json": {
       "version_major": 2,
       "version_minor": 0,
       "model_id": "a25b92518a8740eba638011884594fee"
      }
     },
     "metadata": {},
     "output_type": "display_data"
    },
    {
     "name": "stdout",
     "output_type": "stream",
     "text": [
      "6/6 [==============================] - 1s 6ms/step - loss: 0.8102 - accuracy: 0.3444\n",
      "6/6 [==============================] - 1s 17ms/step\n",
      "Model name:  FCN-6\n"
     ]
    },
    {
     "data": {
      "text/plain": "FCN-6: 0epoch [00:00, ?epoch/s]",
      "application/vnd.jupyter.widget-view+json": {
       "version_major": 2,
       "version_minor": 0,
       "model_id": "d00bf78a3cb0412ea5b2d6b1892cb6e0"
      }
     },
     "metadata": {},
     "output_type": "display_data"
    },
    {
     "name": "stdout",
     "output_type": "stream",
     "text": [
      "6/6 [==============================] - 1s 9ms/step - loss: 0.6306 - accuracy: 0.5778\n",
      "6/6 [==============================] - 1s 19ms/step\n",
      "Model name:  FCN-7\n"
     ]
    },
    {
     "data": {
      "text/plain": "FCN-7: 0epoch [00:00, ?epoch/s]",
      "application/vnd.jupyter.widget-view+json": {
       "version_major": 2,
       "version_minor": 0,
       "model_id": "b3e88cba848c4ca8b5060c6bbf16411c"
      }
     },
     "metadata": {},
     "output_type": "display_data"
    },
    {
     "name": "stdout",
     "output_type": "stream",
     "text": [
      "6/6 [==============================] - 1s 5ms/step - loss: 0.6458 - accuracy: 0.6278\n",
      "6/6 [==============================] - 1s 8ms/step\n",
      "Model name:  FCN-8\n"
     ]
    },
    {
     "data": {
      "text/plain": "FCN-8: 0epoch [00:00, ?epoch/s]",
      "application/vnd.jupyter.widget-view+json": {
       "version_major": 2,
       "version_minor": 0,
       "model_id": "a22b92a505b0411ea4d42e518096c9ed"
      }
     },
     "metadata": {},
     "output_type": "display_data"
    },
    {
     "name": "stdout",
     "output_type": "stream",
     "text": [
      "6/6 [==============================] - 1s 9ms/step - loss: 0.5689 - accuracy: 0.6444\n",
      "6/6 [==============================] - 1s 18ms/step\n",
      "Model name:  FCN-9\n"
     ]
    },
    {
     "data": {
      "text/plain": "FCN-9: 0epoch [00:00, ?epoch/s]",
      "application/vnd.jupyter.widget-view+json": {
       "version_major": 2,
       "version_minor": 0,
       "model_id": "e3f4a4bb750642f79717452764e8adcf"
      }
     },
     "metadata": {},
     "output_type": "display_data"
    },
    {
     "name": "stdout",
     "output_type": "stream",
     "text": [
      "6/6 [==============================] - 1s 9ms/step - loss: 0.7719 - accuracy: 0.4333\n",
      "6/6 [==============================] - 1s 13ms/step\n",
      "Dataset name:  sony_robot\n"
     ]
    },
    {
     "data": {
      "text/plain": "Train on \"sony_robot\":   0%|          | 0/10 [00:00<?, ?model/s]",
      "application/vnd.jupyter.widget-view+json": {
       "version_major": 2,
       "version_minor": 0,
       "model_id": "939091d04ff940a597cdc687724de410"
      }
     },
     "metadata": {},
     "output_type": "display_data"
    },
    {
     "name": "stdout",
     "output_type": "stream",
     "text": [
      "Model name:  FCN-0\n"
     ]
    },
    {
     "data": {
      "text/plain": "FCN-0: 0epoch [00:00, ?epoch/s]",
      "application/vnd.jupyter.widget-view+json": {
       "version_major": 2,
       "version_minor": 0,
       "model_id": "7b92e66a41cc46c7a75737219ee96b25"
      }
     },
     "metadata": {},
     "output_type": "display_data"
    },
    {
     "name": "stdout",
     "output_type": "stream",
     "text": [
      "1/1 [==============================] - 1s 1s/step - loss: 0.3309 - accuracy: 0.9500\n",
      "1/1 [==============================] - 1s 1s/step\n",
      "Model name:  FCN-1\n"
     ]
    },
    {
     "data": {
      "text/plain": "FCN-1: 0epoch [00:00, ?epoch/s]",
      "application/vnd.jupyter.widget-view+json": {
       "version_major": 2,
       "version_minor": 0,
       "model_id": "5711a4a6e6ac42089511718205bb698a"
      }
     },
     "metadata": {},
     "output_type": "display_data"
    },
    {
     "name": "stdout",
     "output_type": "stream",
     "text": [
      "1/1 [==============================] - 1s 1s/step - loss: 0.3101 - accuracy: 0.9500\n",
      "1/1 [==============================] - 1s 1s/step\n",
      "Model name:  FCN-2\n"
     ]
    },
    {
     "data": {
      "text/plain": "FCN-2: 0epoch [00:00, ?epoch/s]",
      "application/vnd.jupyter.widget-view+json": {
       "version_major": 2,
       "version_minor": 0,
       "model_id": "b1fd960a249546f6af54cfa456957935"
      }
     },
     "metadata": {},
     "output_type": "display_data"
    },
    {
     "name": "stdout",
     "output_type": "stream",
     "text": [
      "1/1 [==============================] - 1s 1s/step - loss: 0.1619 - accuracy: 0.9500\n",
      "1/1 [==============================] - 2s 2s/step\n",
      "Model name:  FCN-3\n"
     ]
    },
    {
     "data": {
      "text/plain": "FCN-3: 0epoch [00:00, ?epoch/s]",
      "application/vnd.jupyter.widget-view+json": {
       "version_major": 2,
       "version_minor": 0,
       "model_id": "2833fbd740744b81b2742c208100d4df"
      }
     },
     "metadata": {},
     "output_type": "display_data"
    },
    {
     "name": "stdout",
     "output_type": "stream",
     "text": [
      "1/1 [==============================] - 1s 1s/step - loss: 0.0105 - accuracy: 1.0000\n",
      "1/1 [==============================] - 1s 1s/step\n",
      "Model name:  FCN-4\n"
     ]
    },
    {
     "data": {
      "text/plain": "FCN-4: 0epoch [00:00, ?epoch/s]",
      "application/vnd.jupyter.widget-view+json": {
       "version_major": 2,
       "version_minor": 0,
       "model_id": "2c5ab94ed89143d1b9ec15c41edf8b4b"
      }
     },
     "metadata": {},
     "output_type": "display_data"
    },
    {
     "name": "stdout",
     "output_type": "stream",
     "text": [
      "1/1 [==============================] - 1s 1s/step - loss: 1.2113 - accuracy: 0.8000\n",
      "1/1 [==============================] - 1s 1s/step\n",
      "Model name:  FCN-5\n"
     ]
    },
    {
     "data": {
      "text/plain": "FCN-5: 0epoch [00:00, ?epoch/s]",
      "application/vnd.jupyter.widget-view+json": {
       "version_major": 2,
       "version_minor": 0,
       "model_id": "04dddb6f6ef0493ca4d913defa66e8a6"
      }
     },
     "metadata": {},
     "output_type": "display_data"
    },
    {
     "name": "stdout",
     "output_type": "stream",
     "text": [
      "1/1 [==============================] - 1s 1s/step - loss: 0.2634 - accuracy: 0.9500\n",
      "1/1 [==============================] - 1s 1s/step\n",
      "Model name:  FCN-6\n"
     ]
    },
    {
     "data": {
      "text/plain": "FCN-6: 0epoch [00:00, ?epoch/s]",
      "application/vnd.jupyter.widget-view+json": {
       "version_major": 2,
       "version_minor": 0,
       "model_id": "c475b352bb1144a08b263872b80242f3"
      }
     },
     "metadata": {},
     "output_type": "display_data"
    },
    {
     "name": "stdout",
     "output_type": "stream",
     "text": [
      "1/1 [==============================] - 1s 1s/step - loss: 0.0715 - accuracy: 0.9500\n",
      "1/1 [==============================] - 1s 1s/step\n",
      "Model name:  FCN-7\n"
     ]
    },
    {
     "data": {
      "text/plain": "FCN-7: 0epoch [00:00, ?epoch/s]",
      "application/vnd.jupyter.widget-view+json": {
       "version_major": 2,
       "version_minor": 0,
       "model_id": "e9ceebe42e834e20952b9edc4efa998c"
      }
     },
     "metadata": {},
     "output_type": "display_data"
    },
    {
     "name": "stdout",
     "output_type": "stream",
     "text": [
      "1/1 [==============================] - 1s 1s/step - loss: 0.0242 - accuracy: 1.0000\n",
      "1/1 [==============================] - 1s 1s/step\n",
      "Model name:  FCN-8\n"
     ]
    },
    {
     "data": {
      "text/plain": "FCN-8: 0epoch [00:00, ?epoch/s]",
      "application/vnd.jupyter.widget-view+json": {
       "version_major": 2,
       "version_minor": 0,
       "model_id": "78f0e3292e5e4326a6c60b025986a2d9"
      }
     },
     "metadata": {},
     "output_type": "display_data"
    },
    {
     "name": "stdout",
     "output_type": "stream",
     "text": [
      "1/1 [==============================] - 1s 1s/step - loss: 0.0150 - accuracy: 1.0000\n",
      "1/1 [==============================] - 1s 1s/step\n",
      "Model name:  FCN-9\n"
     ]
    },
    {
     "data": {
      "text/plain": "FCN-9: 0epoch [00:00, ?epoch/s]",
      "application/vnd.jupyter.widget-view+json": {
       "version_major": 2,
       "version_minor": 0,
       "model_id": "ee30f61d7cdb40aebe28b7bef1514da0"
      }
     },
     "metadata": {},
     "output_type": "display_data"
    },
    {
     "name": "stdout",
     "output_type": "stream",
     "text": [
      "1/1 [==============================] - 1s 1s/step - loss: 0.6265 - accuracy: 0.8500\n",
      "1/1 [==============================] - 1s 1s/step\n",
      "Dataset name:  swedish_leaf\n"
     ]
    },
    {
     "data": {
      "text/plain": "Train on \"swedish_leaf\":   0%|          | 0/10 [00:00<?, ?model/s]",
      "application/vnd.jupyter.widget-view+json": {
       "version_major": 2,
       "version_minor": 0,
       "model_id": "e5bdeebd501c4020a8c51567bfec93c9"
      }
     },
     "metadata": {},
     "output_type": "display_data"
    },
    {
     "name": "stdout",
     "output_type": "stream",
     "text": [
      "Model name:  FCN-0\n"
     ]
    },
    {
     "data": {
      "text/plain": "FCN-0: 0epoch [00:00, ?epoch/s]",
      "application/vnd.jupyter.widget-view+json": {
       "version_major": 2,
       "version_minor": 0,
       "model_id": "86a203577b8f498b8d3570622ce20779"
      }
     },
     "metadata": {},
     "output_type": "display_data"
    },
    {
     "name": "stdout",
     "output_type": "stream",
     "text": [
      "20/20 [==============================] - 1s 8ms/step - loss: 0.3642 - accuracy: 0.8816\n",
      "20/20 [==============================] - 2s 5ms/step\n",
      "Model name:  FCN-1\n"
     ]
    },
    {
     "data": {
      "text/plain": "FCN-1: 0epoch [00:00, ?epoch/s]",
      "application/vnd.jupyter.widget-view+json": {
       "version_major": 2,
       "version_minor": 0,
       "model_id": "02845a809eb1442f87fa71953b541133"
      }
     },
     "metadata": {},
     "output_type": "display_data"
    },
    {
     "name": "stdout",
     "output_type": "stream",
     "text": [
      "20/20 [==============================] - 1s 7ms/step - loss: 0.2932 - accuracy: 0.8928\n",
      "20/20 [==============================] - 1s 11ms/step\n",
      "Model name:  FCN-2\n"
     ]
    },
    {
     "data": {
      "text/plain": "FCN-2: 0epoch [00:00, ?epoch/s]",
      "application/vnd.jupyter.widget-view+json": {
       "version_major": 2,
       "version_minor": 0,
       "model_id": "89c2182011574cd4bef41c70fb1fa384"
      }
     },
     "metadata": {},
     "output_type": "display_data"
    },
    {
     "name": "stdout",
     "output_type": "stream",
     "text": [
      "20/20 [==============================] - 1s 6ms/step - loss: 0.5044 - accuracy: 0.8032\n",
      "20/20 [==============================] - 1s 10ms/step\n",
      "Model name:  FCN-3\n"
     ]
    },
    {
     "data": {
      "text/plain": "FCN-3: 0epoch [00:00, ?epoch/s]",
      "application/vnd.jupyter.widget-view+json": {
       "version_major": 2,
       "version_minor": 0,
       "model_id": "17c3eb63ea9a4dbba0c0ccc84ad5dab0"
      }
     },
     "metadata": {},
     "output_type": "display_data"
    },
    {
     "name": "stdout",
     "output_type": "stream",
     "text": [
      "20/20 [==============================] - 1s 7ms/step - loss: 0.3863 - accuracy: 0.8640\n",
      "20/20 [==============================] - 1s 11ms/step\n",
      "Model name:  FCN-4\n"
     ]
    },
    {
     "data": {
      "text/plain": "FCN-4: 0epoch [00:00, ?epoch/s]",
      "application/vnd.jupyter.widget-view+json": {
       "version_major": 2,
       "version_minor": 0,
       "model_id": "7e000734196748d8ad35301f621390b7"
      }
     },
     "metadata": {},
     "output_type": "display_data"
    },
    {
     "name": "stdout",
     "output_type": "stream",
     "text": [
      "20/20 [==============================] - 1s 5ms/step - loss: 0.3699 - accuracy: 0.8608\n",
      "20/20 [==============================] - 1s 10ms/step\n",
      "Model name:  FCN-5\n"
     ]
    },
    {
     "data": {
      "text/plain": "FCN-5: 0epoch [00:00, ?epoch/s]",
      "application/vnd.jupyter.widget-view+json": {
       "version_major": 2,
       "version_minor": 0,
       "model_id": "404449589e304f0cabbaa99ebd1f25cb"
      }
     },
     "metadata": {},
     "output_type": "display_data"
    },
    {
     "name": "stdout",
     "output_type": "stream",
     "text": [
      "20/20 [==============================] - 1s 5ms/step - loss: 0.5878 - accuracy: 0.7488\n",
      "20/20 [==============================] - 1s 6ms/step\n",
      "Model name:  FCN-6\n"
     ]
    },
    {
     "data": {
      "text/plain": "FCN-6: 0epoch [00:00, ?epoch/s]",
      "application/vnd.jupyter.widget-view+json": {
       "version_major": 2,
       "version_minor": 0,
       "model_id": "d387c4252faa411293e8c897368ff839"
      }
     },
     "metadata": {},
     "output_type": "display_data"
    },
    {
     "name": "stdout",
     "output_type": "stream",
     "text": [
      "20/20 [==============================] - 1s 8ms/step - loss: 0.3939 - accuracy: 0.8640\n",
      "20/20 [==============================] - 1s 11ms/step\n",
      "Model name:  FCN-7\n"
     ]
    },
    {
     "data": {
      "text/plain": "FCN-7: 0epoch [00:00, ?epoch/s]",
      "application/vnd.jupyter.widget-view+json": {
       "version_major": 2,
       "version_minor": 0,
       "model_id": "b44b6703f79f4ec59e4bf550fb39162b"
      }
     },
     "metadata": {},
     "output_type": "display_data"
    },
    {
     "name": "stdout",
     "output_type": "stream",
     "text": [
      "20/20 [==============================] - 1s 8ms/step - loss: 3.1523 - accuracy: 0.3984\n",
      "20/20 [==============================] - 1s 6ms/step\n",
      "Model name:  FCN-8\n"
     ]
    },
    {
     "data": {
      "text/plain": "FCN-8: 0epoch [00:00, ?epoch/s]",
      "application/vnd.jupyter.widget-view+json": {
       "version_major": 2,
       "version_minor": 0,
       "model_id": "b0875670f9be41519b2b6307e94a804e"
      }
     },
     "metadata": {},
     "output_type": "display_data"
    },
    {
     "name": "stdout",
     "output_type": "stream",
     "text": [
      "20/20 [==============================] - 1s 5ms/step - loss: 1.4634 - accuracy: 0.5680\n",
      "20/20 [==============================] - 1s 6ms/step\n",
      "Model name:  FCN-9\n"
     ]
    },
    {
     "data": {
      "text/plain": "FCN-9: 0epoch [00:00, ?epoch/s]",
      "application/vnd.jupyter.widget-view+json": {
       "version_major": 2,
       "version_minor": 0,
       "model_id": "1c57aeb3ed1f43008220e37395b85925"
      }
     },
     "metadata": {},
     "output_type": "display_data"
    },
    {
     "name": "stdout",
     "output_type": "stream",
     "text": [
      "20/20 [==============================] - 1s 5ms/step - loss: 1.0098 - accuracy: 0.6144\n",
      "20/20 [==============================] - 1s 8ms/step\n",
      "Dataset name:  synthetic_control\n"
     ]
    },
    {
     "data": {
      "text/plain": "Train on \"synthetic_control\":   0%|          | 0/10 [00:00<?, ?model/s]",
      "application/vnd.jupyter.widget-view+json": {
       "version_major": 2,
       "version_minor": 0,
       "model_id": "c896b9b5d13142b48a51cc4d22a6715b"
      }
     },
     "metadata": {},
     "output_type": "display_data"
    },
    {
     "name": "stdout",
     "output_type": "stream",
     "text": [
      "Model name:  FCN-0\n"
     ]
    },
    {
     "data": {
      "text/plain": "FCN-0: 0epoch [00:00, ?epoch/s]",
      "application/vnd.jupyter.widget-view+json": {
       "version_major": 2,
       "version_minor": 0,
       "model_id": "2b7638f1ae1540c0ad0e14bbfd47b953"
      }
     },
     "metadata": {},
     "output_type": "display_data"
    },
    {
     "name": "stdout",
     "output_type": "stream",
     "text": [
      "10/10 [==============================] - 1s 5ms/step - loss: 2.1490 - accuracy: 0.0700\n",
      "10/10 [==============================] - 1s 7ms/step\n",
      "Model name:  FCN-1\n"
     ]
    },
    {
     "data": {
      "text/plain": "FCN-1: 0epoch [00:00, ?epoch/s]",
      "application/vnd.jupyter.widget-view+json": {
       "version_major": 2,
       "version_minor": 0,
       "model_id": "04113220d009472884d4ac25c92e728f"
      }
     },
     "metadata": {},
     "output_type": "display_data"
    },
    {
     "name": "stdout",
     "output_type": "stream",
     "text": [
      "10/10 [==============================] - 1s 8ms/step - loss: 1.8320 - accuracy: 0.1633\n",
      "10/10 [==============================] - 1s 7ms/step\n",
      "Model name:  FCN-2\n"
     ]
    },
    {
     "data": {
      "text/plain": "FCN-2: 0epoch [00:00, ?epoch/s]",
      "application/vnd.jupyter.widget-view+json": {
       "version_major": 2,
       "version_minor": 0,
       "model_id": "3f5518dcdcd04858b878bb622bb8e56a"
      }
     },
     "metadata": {},
     "output_type": "display_data"
    },
    {
     "name": "stdout",
     "output_type": "stream",
     "text": [
      "10/10 [==============================] - 2s 7ms/step - loss: 1.8342 - accuracy: 0.1100\n",
      "10/10 [==============================] - 1s 7ms/step\n",
      "Model name:  FCN-3\n"
     ]
    },
    {
     "data": {
      "text/plain": "FCN-3: 0epoch [00:00, ?epoch/s]",
      "application/vnd.jupyter.widget-view+json": {
       "version_major": 2,
       "version_minor": 0,
       "model_id": "df6ecb8112004d0b884b31ef1b07c274"
      }
     },
     "metadata": {},
     "output_type": "display_data"
    },
    {
     "name": "stdout",
     "output_type": "stream",
     "text": [
      "10/10 [==============================] - 1s 8ms/step - loss: 1.9670 - accuracy: 0.0333\n",
      "10/10 [==============================] - 1s 8ms/step\n",
      "Model name:  FCN-4\n"
     ]
    },
    {
     "data": {
      "text/plain": "FCN-4: 0epoch [00:00, ?epoch/s]",
      "application/vnd.jupyter.widget-view+json": {
       "version_major": 2,
       "version_minor": 0,
       "model_id": "e29e31d993c3403e85b44b32834d0d09"
      }
     },
     "metadata": {},
     "output_type": "display_data"
    },
    {
     "name": "stdout",
     "output_type": "stream",
     "text": [
      "10/10 [==============================] - 1s 4ms/step - loss: 1.9456 - accuracy: 0.1700 \n",
      "10/10 [==============================] - 1s 8ms/step\n",
      "Model name:  FCN-5\n"
     ]
    },
    {
     "data": {
      "text/plain": "FCN-5: 0epoch [00:00, ?epoch/s]",
      "application/vnd.jupyter.widget-view+json": {
       "version_major": 2,
       "version_minor": 0,
       "model_id": "b3a984b9228b48259b771df4dd8a7b0a"
      }
     },
     "metadata": {},
     "output_type": "display_data"
    },
    {
     "name": "stdout",
     "output_type": "stream",
     "text": [
      "10/10 [==============================] - 1s 4ms/step - loss: 2.0875 - accuracy: 0.2267\n",
      "10/10 [==============================] - 1s 3ms/step\n",
      "Model name:  FCN-6\n"
     ]
    },
    {
     "data": {
      "text/plain": "FCN-6: 0epoch [00:00, ?epoch/s]",
      "application/vnd.jupyter.widget-view+json": {
       "version_major": 2,
       "version_minor": 0,
       "model_id": "218559f8f2344b2ba9c3a0875db43c8d"
      }
     },
     "metadata": {},
     "output_type": "display_data"
    },
    {
     "name": "stdout",
     "output_type": "stream",
     "text": [
      "10/10 [==============================] - 1s 8ms/step - loss: 2.0112 - accuracy: 0.0667\n",
      "10/10 [==============================] - 1s 5ms/step\n",
      "Model name:  FCN-7\n"
     ]
    },
    {
     "data": {
      "text/plain": "FCN-7: 0epoch [00:00, ?epoch/s]",
      "application/vnd.jupyter.widget-view+json": {
       "version_major": 2,
       "version_minor": 0,
       "model_id": "8b954ae637eb4c30a66a72b7770ab49c"
      }
     },
     "metadata": {},
     "output_type": "display_data"
    }
   ],
   "source": [
    "epochs = 30\n",
    "tf.keras.utils.set_random_seed(math.floor(time.time()))\n",
    "df_training_res = train([get_MLP]*10,\\\n",
    "                        epochs=epochs,\\\n",
    "                        datasets = datasets,\n",
    "                        unique_model_name=True)\n",
    "df_training_res = train([get_Encoder]*10,\\\n",
    "                        epochs=epochs,\\\n",
    "                        datasets = datasets,\n",
    "                        unique_model_name=True)\n",
    "df_training_res = train([get_FCN]*10,\\\n",
    "                        epochs=epochs,\\\n",
    "                        datasets = datasets,\n",
    "                        unique_model_name=True)"
   ]
  },
  {
   "cell_type": "code",
   "execution_count": 6,
   "metadata": {
    "jupyter": {
     "outputs_hidden": false
    }
   },
   "outputs": [
    {
     "name": "stdout",
     "output_type": "stream",
     "text": [
      "cricket_y\n",
      "distal_phalanax_tw\n",
      "egg_five_days\n",
      "electric_devices\n",
      "face_ucr\n",
      "fifty_words\n",
      "mote_strain\n",
      "power_cons\n",
      "sony_robot\n",
      "swedish_leaf\n",
      "synthetic_control\n"
     ]
    }
   ],
   "source": [
    "\n",
    "\n",
    "create_confusion_matrix_plot_from_csv('../results/without_augmentation/train__FCN_FCN_FCN_FCN_FCN_FCN_FCN_FCN_FCN_FCN_11_datasets.csv', verbose=True)\n"
   ]
  },
  {
   "cell_type": "code",
   "execution_count": 3,
   "metadata": {
    "jupyter": {
     "outputs_hidden": false
    }
   },
   "outputs": [
    {
     "data": {
      "text/plain": "['cricket_y',\n 'distal_phalanax_tw',\n 'egg_five_days',\n 'electric_devices',\n 'face_ucr',\n 'fifty_words',\n 'mote_strain',\n 'power_cons',\n 'sony_robot',\n 'swedish_leaf',\n 'synthetic_control']"
     },
     "execution_count": 3,
     "metadata": {},
     "output_type": "execute_result"
    }
   ],
   "source": []
  },
  {
   "cell_type": "code",
   "execution_count": null,
   "metadata": {
    "jupyter": {
     "outputs_hidden": false
    }
   },
   "outputs": [],
   "source": []
  }
 ],
 "metadata": {
  "kernelspec": {
   "display_name": "Python 3 (ipykernel)",
   "language": "python",
   "name": "python3"
  },
  "language_info": {
   "codemirror_mode": {
    "name": "ipython",
    "version": 3
   },
   "file_extension": ".py",
   "mimetype": "text/x-python",
   "name": "python",
   "nbconvert_exporter": "python",
   "pygments_lexer": "ipython3",
   "version": "3.10.9"
  }
 },
 "nbformat": 4,
 "nbformat_minor": 4
}
