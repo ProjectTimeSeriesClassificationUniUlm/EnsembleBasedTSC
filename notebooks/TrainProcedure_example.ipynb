{
 "cells": [
  {
   "cell_type": "code",
   "execution_count": 1,
   "metadata": {
    "tags": []
   },
   "outputs": [],
   "source": [
    "import time\n",
    "import math\n",
    "import os\n",
    "import logging\n",
    "os.environ['TF_CPP_MIN_LOG_LEVEL'] = '2'\n",
    "import tensorflow as tf\n",
    "tf.get_logger().setLevel(logging.WARNING)\n",
    "\n",
    "import json\n",
    "import sys\n",
    "sys.path.append(\"../src\")\n",
    "from Helpers import visualize_confusion_matrix, create_confusion_matrix_plot_from_csv\n",
    "from Evaluation import plot_model_history\n",
    "from TrainProdecure import train\n",
    "from PreprocessData import preprocess_data\n",
    "from PreprocessData import preprocess_datasets\n",
    "from LoadData import get_all_datasets_test_train_np_arrays, DATASETS_MCDCNN\n",
    "from ModelBuilder import get_MLP, get_FCN, get_Resnet, get_MCDCNN, get_Encoder, get_Time_CNN"
   ]
  },
  {
   "cell_type": "code",
   "execution_count": 2,
   "metadata": {},
   "outputs": [],
   "source": [
    "from LoadData import CurrentDatasets\n",
    "\n",
    "datasets = get_all_datasets_test_train_np_arrays(\"../datasets\", ds_names=[model.value for model in CurrentDatasets])\n",
    "datasets = preprocess_datasets(datasets, batch_size=10, augmentation=False)"
   ]
  },
  {
   "cell_type": "code",
   "execution_count": 2,
   "outputs": [],
   "source": [],
   "metadata": {
    "collapsed": false
   }
  },
  {
   "cell_type": "code",
   "execution_count": null,
   "metadata": {
    "jupyter": {
     "outputs_hidden": false
    },
    "pycharm": {
     "is_executing": true
    }
   },
   "outputs": [
    {
     "name": "stdout",
     "output_type": "stream",
     "text": [
      "5/5 [==============================] - 3s 6ms/step - loss: 0.7981 - accuracy: 0.6835\n",
      "5/5 [==============================] - 3s 3ms/step\n",
      "Model name:  FCN-5\n"
     ]
    },
    {
     "data": {
      "text/plain": "FCN-5: 0epoch [00:00, ?epoch/s]",
      "application/vnd.jupyter.widget-view+json": {
       "version_major": 2,
       "version_minor": 0,
       "model_id": "fd6315a3dc194875b3c6899fbc6453a8"
      }
     },
     "metadata": {},
     "output_type": "display_data"
    },
    {
     "name": "stdout",
     "output_type": "stream",
     "text": [
      "5/5 [==============================] - 3s 5ms/step - loss: 1.2669 - accuracy: 0.5612\n",
      "5/5 [==============================] - 3s 3ms/step\n",
      "Model name:  FCN-6\n"
     ]
    },
    {
     "data": {
      "text/plain": "FCN-6: 0epoch [00:00, ?epoch/s]",
      "application/vnd.jupyter.widget-view+json": {
       "version_major": 2,
       "version_minor": 0,
       "model_id": "3952aeaa30594be7bf8151f7d7367004"
      }
     },
     "metadata": {},
     "output_type": "display_data"
    },
    {
     "name": "stdout",
     "output_type": "stream",
     "text": [
      "5/5 [==============================] - 3s 5ms/step - loss: 0.9560 - accuracy: 0.6259\n",
      "5/5 [==============================] - 3s 3ms/step\n",
      "Model name:  FCN-7\n"
     ]
    },
    {
     "data": {
      "text/plain": "FCN-7: 0epoch [00:00, ?epoch/s]",
      "application/vnd.jupyter.widget-view+json": {
       "version_major": 2,
       "version_minor": 0,
       "model_id": "06932e6f7e614268931590dbd7a28067"
      }
     },
     "metadata": {},
     "output_type": "display_data"
    },
    {
     "name": "stdout",
     "output_type": "stream",
     "text": [
      "5/5 [==============================] - 1s 6ms/step - loss: 0.8365 - accuracy: 0.6619\n",
      "5/5 [==============================] - 1s 5ms/step\n",
      "Model name:  FCN-8\n"
     ]
    },
    {
     "data": {
      "text/plain": "FCN-8: 0epoch [00:00, ?epoch/s]",
      "application/vnd.jupyter.widget-view+json": {
       "version_major": 2,
       "version_minor": 0,
       "model_id": "3ff6f578f34c49d08fb163653158996b"
      }
     },
     "metadata": {},
     "output_type": "display_data"
    },
    {
     "name": "stdout",
     "output_type": "stream",
     "text": [
      "5/5 [==============================] - 1s 7ms/step - loss: 0.8094 - accuracy: 0.6906\n",
      "5/5 [==============================] - 1s 5ms/step\n",
      "Model name:  FCN-9\n"
     ]
    },
    {
     "data": {
      "text/plain": "FCN-9: 0epoch [00:00, ?epoch/s]",
      "application/vnd.jupyter.widget-view+json": {
       "version_major": 2,
       "version_minor": 0,
       "model_id": "7032c4065434438fb1f57176499bc47c"
      }
     },
     "metadata": {},
     "output_type": "display_data"
    },
    {
     "name": "stdout",
     "output_type": "stream",
     "text": [
      "5/5 [==============================] - 1s 6ms/step - loss: 0.9819 - accuracy: 0.5971\n",
      "5/5 [==============================] - 1s 20ms/step\n",
      "Dataset name:  egg_five_days\n"
     ]
    },
    {
     "data": {
      "text/plain": "Train on \"egg_five_days\":   0%|          | 0/10 [00:00<?, ?model/s]",
      "application/vnd.jupyter.widget-view+json": {
       "version_major": 2,
       "version_minor": 0,
       "model_id": "1eee4329c69d46e6a029c8aaa0d5c00d"
      }
     },
     "metadata": {},
     "output_type": "display_data"
    },
    {
     "name": "stdout",
     "output_type": "stream",
     "text": [
      "Model name:  FCN-0\n"
     ]
    },
    {
     "data": {
      "text/plain": "FCN-0: 0epoch [00:00, ?epoch/s]",
      "application/vnd.jupyter.widget-view+json": {
       "version_major": 2,
       "version_minor": 0,
       "model_id": "8d5849901d4d4b90aaa57a360c3dfd15"
      }
     },
     "metadata": {},
     "output_type": "display_data"
    },
    {
     "name": "stdout",
     "output_type": "stream",
     "text": [
      "1/1 [==============================] - 2s 2s/step - loss: 0.6113 - accuracy: 0.7826\n",
      "1/1 [==============================] - 3s 3s/step\n",
      "Model name:  FCN-1\n"
     ]
    },
    {
     "data": {
      "text/plain": "FCN-1: 0epoch [00:00, ?epoch/s]",
      "application/vnd.jupyter.widget-view+json": {
       "version_major": 2,
       "version_minor": 0,
       "model_id": "fe9a8851a3444076807548a27d493da7"
      }
     },
     "metadata": {},
     "output_type": "display_data"
    },
    {
     "name": "stdout",
     "output_type": "stream",
     "text": [
      "1/1 [==============================] - 3s 3s/step - loss: 0.0774 - accuracy: 0.9565\n",
      "1/1 [==============================] - 3s 3s/step\n",
      "Model name:  FCN-2\n"
     ]
    },
    {
     "data": {
      "text/plain": "FCN-2: 0epoch [00:00, ?epoch/s]",
      "application/vnd.jupyter.widget-view+json": {
       "version_major": 2,
       "version_minor": 0,
       "model_id": "43b6e0def12449499bef6684ec202fe8"
      }
     },
     "metadata": {},
     "output_type": "display_data"
    },
    {
     "name": "stdout",
     "output_type": "stream",
     "text": [
      "1/1 [==============================] - 3s 3s/step - loss: 0.0731 - accuracy: 0.9565\n",
      "1/1 [==============================] - 3s 3s/step\n",
      "Model name:  FCN-3\n"
     ]
    },
    {
     "data": {
      "text/plain": "FCN-3: 0epoch [00:00, ?epoch/s]",
      "application/vnd.jupyter.widget-view+json": {
       "version_major": 2,
       "version_minor": 0,
       "model_id": "2ef1c3f1973a424294bc363ccb9ae7ae"
      }
     },
     "metadata": {},
     "output_type": "display_data"
    },
    {
     "name": "stdout",
     "output_type": "stream",
     "text": [
      "1/1 [==============================] - 3s 3s/step - loss: 0.0013 - accuracy: 1.0000\n",
      "1/1 [==============================] - 3s 3s/step\n",
      "Model name:  FCN-4\n"
     ]
    },
    {
     "data": {
      "text/plain": "FCN-4: 0epoch [00:00, ?epoch/s]",
      "application/vnd.jupyter.widget-view+json": {
       "version_major": 2,
       "version_minor": 0,
       "model_id": "77914e01f57944aa96ff0f5e82dcba3d"
      }
     },
     "metadata": {},
     "output_type": "display_data"
    },
    {
     "name": "stdout",
     "output_type": "stream",
     "text": [
      "1/1 [==============================] - 1s 1s/step - loss: 0.0064 - accuracy: 1.0000\n",
      "1/1 [==============================] - 1s 1s/step\n",
      "Model name:  FCN-5\n"
     ]
    },
    {
     "data": {
      "text/plain": "FCN-5: 0epoch [00:00, ?epoch/s]",
      "application/vnd.jupyter.widget-view+json": {
       "version_major": 2,
       "version_minor": 0,
       "model_id": "f1ed4ff1378748648db344aa4efe3388"
      }
     },
     "metadata": {},
     "output_type": "display_data"
    },
    {
     "name": "stdout",
     "output_type": "stream",
     "text": [
      "WARNING:tensorflow:Callback method `on_train_batch_end` is slow compared to the batch time (batch time: 0.0137s vs `on_train_batch_end` time: 0.0172s). Check your callbacks.\n",
      "1/1 [==============================] - 1s 1s/step - loss: 0.0046 - accuracy: 1.0000\n",
      "1/1 [==============================] - 1s 1s/step\n",
      "Model name:  FCN-6\n"
     ]
    },
    {
     "data": {
      "text/plain": "FCN-6: 0epoch [00:00, ?epoch/s]",
      "application/vnd.jupyter.widget-view+json": {
       "version_major": 2,
       "version_minor": 0,
       "model_id": "28be40e81f044e0aadf4db3665d541a4"
      }
     },
     "metadata": {},
     "output_type": "display_data"
    },
    {
     "name": "stdout",
     "output_type": "stream",
     "text": [
      "1/1 [==============================] - 1s 1s/step - loss: 0.0031 - accuracy: 1.0000\n",
      "1/1 [==============================] - 1s 1s/step\n",
      "Model name:  FCN-7\n"
     ]
    },
    {
     "data": {
      "text/plain": "FCN-7: 0epoch [00:00, ?epoch/s]",
      "application/vnd.jupyter.widget-view+json": {
       "version_major": 2,
       "version_minor": 0,
       "model_id": "8d65792c63eb400d9d843bf87f0222d9"
      }
     },
     "metadata": {},
     "output_type": "display_data"
    },
    {
     "name": "stdout",
     "output_type": "stream",
     "text": [
      "1/1 [==============================] - 1s 1s/step - loss: 4.6338e-04 - accuracy: 1.0000\n",
      "1/1 [==============================] - 1s 1s/step\n",
      "Model name:  FCN-8\n"
     ]
    },
    {
     "data": {
      "text/plain": "FCN-8: 0epoch [00:00, ?epoch/s]",
      "application/vnd.jupyter.widget-view+json": {
       "version_major": 2,
       "version_minor": 0,
       "model_id": "6b538d9333b947ce90f7b0099dc7168b"
      }
     },
     "metadata": {},
     "output_type": "display_data"
    },
    {
     "name": "stdout",
     "output_type": "stream",
     "text": [
      "1/1 [==============================] - 1s 1s/step - loss: 0.0433 - accuracy: 1.0000\n",
      "1/1 [==============================] - 1s 1s/step\n",
      "Model name:  FCN-9\n"
     ]
    },
    {
     "data": {
      "text/plain": "FCN-9: 0epoch [00:00, ?epoch/s]",
      "application/vnd.jupyter.widget-view+json": {
       "version_major": 2,
       "version_minor": 0,
       "model_id": "a60d7f4c38cb4af0a1779092b1b324e3"
      }
     },
     "metadata": {},
     "output_type": "display_data"
    },
    {
     "name": "stdout",
     "output_type": "stream",
     "text": [
      "1/1 [==============================] - 1s 1s/step - loss: 0.2505 - accuracy: 0.8696\n",
      "1/1 [==============================] - 1s 1s/step\n",
      "Dataset name:  electric_devices\n"
     ]
    },
    {
     "data": {
      "text/plain": "Train on \"electric_devices\":   0%|          | 0/10 [00:00<?, ?model/s]",
      "application/vnd.jupyter.widget-view+json": {
       "version_major": 2,
       "version_minor": 0,
       "model_id": "482d345b3042440c9e7174bcc989a20c"
      }
     },
     "metadata": {},
     "output_type": "display_data"
    },
    {
     "name": "stdout",
     "output_type": "stream",
     "text": [
      "Model name:  FCN-0\n"
     ]
    },
    {
     "data": {
      "text/plain": "FCN-0: 0epoch [00:00, ?epoch/s]",
      "application/vnd.jupyter.widget-view+json": {
       "version_major": 2,
       "version_minor": 0,
       "model_id": "e074e95f90d742c995f0828d28d22790"
      }
     },
     "metadata": {},
     "output_type": "display_data"
    },
    {
     "name": "stdout",
     "output_type": "stream",
     "text": [
      "241/241 [==============================] - 7s 15ms/step - loss: 4.9876 - accuracy: 0.3464\n",
      "241/241 [==============================] - 4s 3ms/step\n",
      "Model name:  FCN-1\n"
     ]
    },
    {
     "data": {
      "text/plain": "FCN-1: 0epoch [00:00, ?epoch/s]",
      "application/vnd.jupyter.widget-view+json": {
       "version_major": 2,
       "version_minor": 0,
       "model_id": "8458a6f9f8ee43a29e3ac78507425683"
      }
     },
     "metadata": {},
     "output_type": "display_data"
    }
   ],
   "source": [
    "epochs = 30\n",
    "tf.keras.utils.set_random_seed(math.floor(time.time()))\n",
    "df_training_res = train([get_MLP]*10,\\\n",
    "                        epochs=epochs,\\\n",
    "                        datasets = datasets,\n",
    "                        unique_model_name=True)\n",
    "df_training_res = train([get_Encoder]*10,\\\n",
    "                        epochs=epochs,\\\n",
    "                        datasets = datasets,\n",
    "                        unique_model_name=True)\n",
    "df_training_res = train([get_FCN]*10,\\\n",
    "                        epochs=epochs,\\\n",
    "                        datasets = datasets,\n",
    "                        unique_model_name=True)"
   ]
  },
  {
   "cell_type": "code",
   "execution_count": null,
   "metadata": {
    "jupyter": {
     "outputs_hidden": false
    }
   },
   "outputs": [],
   "source": [
    "\n",
    "\n",
    "create_confusion_matrix_plot_from_csv('../results/train__MLP_FCN_Resnet_MCDCNN_Encoder_Time_CNN_11_datasets.csv', verbose=True)\n"
   ]
  },
  {
   "cell_type": "code",
   "execution_count": 3,
   "metadata": {
    "jupyter": {
     "outputs_hidden": false
    }
   },
   "outputs": [
    {
     "data": {
      "text/plain": "['cricket_y',\n 'distal_phalanax_tw',\n 'egg_five_days',\n 'electric_devices',\n 'face_ucr',\n 'fifty_words',\n 'mote_strain',\n 'power_cons',\n 'sony_robot',\n 'swedish_leaf',\n 'synthetic_control']"
     },
     "execution_count": 3,
     "metadata": {},
     "output_type": "execute_result"
    }
   ],
   "source": []
  },
  {
   "cell_type": "code",
   "execution_count": null,
   "metadata": {
    "jupyter": {
     "outputs_hidden": false
    }
   },
   "outputs": [],
   "source": []
  }
 ],
 "metadata": {
  "kernelspec": {
   "display_name": "Python 3 (ipykernel)",
   "language": "python",
   "name": "python3"
  },
  "language_info": {
   "codemirror_mode": {
    "name": "ipython",
    "version": 3
   },
   "file_extension": ".py",
   "mimetype": "text/x-python",
   "name": "python",
   "nbconvert_exporter": "python",
   "pygments_lexer": "ipython3",
   "version": "3.10.9"
  }
 },
 "nbformat": 4,
 "nbformat_minor": 4
}
