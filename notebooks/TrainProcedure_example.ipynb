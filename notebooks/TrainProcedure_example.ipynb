{
 "cells": [
  {
   "cell_type": "code",
   "execution_count": 1,
   "metadata": {
    "pycharm": {
     "is_executing": true
    },
    "tags": []
   },
   "outputs": [],
   "source": [
    "import time\n",
    "import math\n",
    "import os\n",
    "import logging\n",
    "os.environ['TF_CPP_MIN_LOG_LEVEL'] = '2'\n",
    "import tensorflow as tf\n",
    "tf.get_logger().setLevel(logging.WARNING)\n",
    "\n",
    "import json\n",
    "import sys\n",
    "sys.path.append(\"../src\")\n",
    "from Helpers import visualize_confusion_matrix, create_confusion_matrix_plot_from_csv\n",
    "from Evaluation import plot_model_history\n",
    "from TrainProdecure import train\n",
    "from PreprocessData import preprocess_data\n",
    "from PreprocessData import preprocess_datasets\n",
    "from LoadData import get_all_datasets_test_train_np_arrays, DATASETS_MCDCNN\n",
    "from ModelBuilder import get_MLP, get_FCN, get_Resnet, get_MCDCNN, get_Encoder, get_Time_CNN"
   ]
  },
  {
   "cell_type": "code",
   "execution_count": 2,
   "metadata": {},
   "outputs": [
    {
     "name": "stdout",
     "output_type": "stream",
     "text": [
      "WARNING:tensorflow:From /opt/bwhpc/common/jupyter/tensorflow/2023-01-02/lib/python3.8/site-packages/tensorflow/python/autograph/pyct/static_analysis/liveness.py:83: Analyzer.lamba_check (from tensorflow.python.autograph.pyct.static_analysis.liveness) is deprecated and will be removed after 2023-09-23.\n",
      "Instructions for updating:\n",
      "Lambda fuctions will be no more assumed to be used in the statement where they are used, or at least in the same block. https://github.com/tensorflow/tensorflow/issues/56089\n"
     ]
    }
   ],
   "source": [
    "datasets = get_all_datasets_test_train_np_arrays(\"../datasets\", ds_names=DATASETS_MCDCNN)\n",
    "datasets = preprocess_datasets(datasets, batch_size=10, augmentation=False)"
   ]
  },
  {
   "cell_type": "code",
   "execution_count": 3,
   "metadata": {
    "collapsed": false,
    "jupyter": {
     "outputs_hidden": false
    },
    "pycharm": {
     "is_executing": true
    }
   },
   "outputs": [
    {
     "name": "stdout",
     "output_type": "stream",
     "text": [
      "WARNING:tensorflow:There are non-GPU devices in `tf.distribute.Strategy`, not using nccl allreduce.\n"
     ]
    },
    {
     "data": {
      "application/vnd.jupyter.widget-view+json": {
       "model_id": "1d08cc4ba2874bad8b81b0f31bbde208",
       "version_major": 2,
       "version_minor": 0
      },
      "text/plain": [
       "  0%|          | 0/3 [00:00<?, ?dataset/s]"
      ]
     },
     "metadata": {},
     "output_type": "display_data"
    },
    {
     "name": "stdout",
     "output_type": "stream",
     "text": [
      "Dataset name:  electric_devices\n"
     ]
    },
    {
     "data": {
      "application/vnd.jupyter.widget-view+json": {
       "model_id": "f22cbba1ebef403f93e6b105ce1c8226",
       "version_major": 2,
       "version_minor": 0
      },
      "text/plain": [
       "Train on \"electric_devices\":   0%|          | 0/6 [00:00<?, ?model/s]"
      ]
     },
     "metadata": {},
     "output_type": "display_data"
    },
    {
     "name": "stdout",
     "output_type": "stream",
     "text": [
      "Model name:  MLP\n"
     ]
    },
    {
     "data": {
      "application/vnd.jupyter.widget-view+json": {
       "model_id": "635344703f994f9a9cba18e31a05be99",
       "version_major": 2,
       "version_minor": 0
      },
      "text/plain": [
       "MLP: 0epoch [00:00, ?epoch/s]"
      ]
     },
     "metadata": {},
     "output_type": "display_data"
    },
    {
     "name": "stdout",
     "output_type": "stream",
     "text": [
      "241/241 [==============================] - 2s 3ms/step - loss: 1.8125 - accuracy: 0.5097\n",
      "241/241 [==============================] - 2s 3ms/step\n",
      "Model name:  FCN\n"
     ]
    },
    {
     "data": {
      "application/vnd.jupyter.widget-view+json": {
       "model_id": "2bab769c7dce4eb58d6e74c5877ebd45",
       "version_major": 2,
       "version_minor": 0
      },
      "text/plain": [
       "FCN: 0epoch [00:00, ?epoch/s]"
      ]
     },
     "metadata": {},
     "output_type": "display_data"
    },
    {
     "name": "stdout",
     "output_type": "stream",
     "text": [
      "241/241 [==============================] - 6s 19ms/step - loss: 2.2643 - accuracy: 0.2424\n",
      "241/241 [==============================] - 6s 19ms/step\n",
      "Model name:  Resnet\n"
     ]
    },
    {
     "data": {
      "application/vnd.jupyter.widget-view+json": {
       "model_id": "d52471d4127d40c6a5ff732598a06b6e",
       "version_major": 2,
       "version_minor": 0
      },
      "text/plain": [
       "Resnet: 0epoch [00:00, ?epoch/s]"
      ]
     },
     "metadata": {},
     "output_type": "display_data"
    },
    {
     "name": "stdout",
     "output_type": "stream",
     "text": [
      "241/241 [==============================] - 10s 36ms/step - loss: 2.7587 - accuracy: 0.2578\n",
      "241/241 [==============================] - 10s 36ms/step\n",
      "Model name:  MCDCNN\n"
     ]
    },
    {
     "data": {
      "application/vnd.jupyter.widget-view+json": {
       "model_id": "b65908f7403c496a88dd91b23757bfef",
       "version_major": 2,
       "version_minor": 0
      },
      "text/plain": [
       "MCDCNN: 0epoch [00:00, ?epoch/s]"
      ]
     },
     "metadata": {},
     "output_type": "display_data"
    },
    {
     "name": "stdout",
     "output_type": "stream",
     "text": [
      "241/241 [==============================] - 2s 3ms/step - loss: 1.8436 - accuracy: 0.2424\n",
      "241/241 [==============================] - 2s 2ms/step\n",
      "Model name:  Encoder\n"
     ]
    },
    {
     "data": {
      "application/vnd.jupyter.widget-view+json": {
       "model_id": "699c1271de28462b8b96d08aa8a34aff",
       "version_major": 2,
       "version_minor": 0
      },
      "text/plain": [
       "Encoder: 0epoch [00:00, ?epoch/s]"
      ]
     },
     "metadata": {},
     "output_type": "display_data"
    },
    {
     "name": "stdout",
     "output_type": "stream",
     "text": [
      "241/241 [==============================] - 16s 61ms/step - loss: 1.5759 - accuracy: 0.4520\n",
      "241/241 [==============================] - 16s 60ms/step\n",
      "Model name:  Time_CNN\n"
     ]
    },
    {
     "data": {
      "application/vnd.jupyter.widget-view+json": {
       "model_id": "b691879d656c4242b89bab47ba99070e",
       "version_major": 2,
       "version_minor": 0
      },
      "text/plain": [
       "Time_CNN: 0epoch [00:00, ?epoch/s]"
      ]
     },
     "metadata": {},
     "output_type": "display_data"
    },
    {
     "name": "stdout",
     "output_type": "stream",
     "text": [
      "241/241 [==============================] - 2s 2ms/step - loss: 1.6511 - accuracy: 0.4455\n",
      "241/241 [==============================] - 2s 2ms/step\n",
      "Dataset name:  freezers\n"
     ]
    },
    {
     "data": {
      "application/vnd.jupyter.widget-view+json": {
       "model_id": "ed303550a7b945328fa682db1e8618a6",
       "version_major": 2,
       "version_minor": 0
      },
      "text/plain": [
       "Train on \"freezers\":   0%|          | 0/6 [00:00<?, ?model/s]"
      ]
     },
     "metadata": {},
     "output_type": "display_data"
    },
    {
     "name": "stdout",
     "output_type": "stream",
     "text": [
      "Model name:  MLP\n"
     ]
    },
    {
     "data": {
      "application/vnd.jupyter.widget-view+json": {
       "model_id": "1370bacd83364e308adb5369826b4da9",
       "version_major": 2,
       "version_minor": 0
      },
      "text/plain": [
       "MLP: 0epoch [00:00, ?epoch/s]"
      ]
     },
     "metadata": {},
     "output_type": "display_data"
    },
    {
     "name": "stdout",
     "output_type": "stream",
     "text": [
      "90/90 [==============================] - 1s 3ms/step - loss: 0.5205 - accuracy: 0.7670\n",
      "90/90 [==============================] - 1s 3ms/step\n",
      "Model name:  FCN\n"
     ]
    },
    {
     "data": {
      "application/vnd.jupyter.widget-view+json": {
       "model_id": "7dba517818a940299c97ad02ab1bbe17",
       "version_major": 2,
       "version_minor": 0
      },
      "text/plain": [
       "FCN: 0epoch [00:00, ?epoch/s]"
      ]
     },
     "metadata": {},
     "output_type": "display_data"
    },
    {
     "name": "stdout",
     "output_type": "stream",
     "text": [
      "90/90 [==============================] - 6s 54ms/step - loss: 0.7329 - accuracy: 0.4996\n",
      "90/90 [==============================] - 6s 53ms/step\n",
      "Model name:  Resnet\n"
     ]
    },
    {
     "data": {
      "application/vnd.jupyter.widget-view+json": {
       "model_id": "1f1f168364fa417da08109334591e254",
       "version_major": 2,
       "version_minor": 0
      },
      "text/plain": [
       "Resnet: 0epoch [00:00, ?epoch/s]"
      ]
     },
     "metadata": {},
     "output_type": "display_data"
    },
    {
     "name": "stdout",
     "output_type": "stream",
     "text": [
      "90/90 [==============================] - 11s 100ms/step - loss: 1.1841 - accuracy: 0.4389\n",
      "90/90 [==============================] - 10s 101ms/step\n",
      "Model name:  MCDCNN\n"
     ]
    },
    {
     "data": {
      "application/vnd.jupyter.widget-view+json": {
       "model_id": "5e07d203690b489484616247bef16e37",
       "version_major": 2,
       "version_minor": 0
      },
      "text/plain": [
       "MCDCNN: 0epoch [00:00, ?epoch/s]"
      ]
     },
     "metadata": {},
     "output_type": "display_data"
    },
    {
     "name": "stdout",
     "output_type": "stream",
     "text": [
      "90/90 [==============================] - 2s 3ms/step - loss: 0.7684 - accuracy: 0.5000\n",
      "90/90 [==============================] - 1s 3ms/step\n",
      "Model name:  Encoder\n"
     ]
    },
    {
     "data": {
      "application/vnd.jupyter.widget-view+json": {
       "model_id": "677f2d7041934e358d7dfe1c421a3f5a",
       "version_major": 2,
       "version_minor": 0
      },
      "text/plain": [
       "Encoder: 0epoch [00:00, ?epoch/s]"
      ]
     },
     "metadata": {},
     "output_type": "display_data"
    },
    {
     "name": "stdout",
     "output_type": "stream",
     "text": [
      "90/90 [==============================] - 19s 197ms/step - loss: 0.5196 - accuracy: 0.7653\n",
      "90/90 [==============================] - 20s 209ms/step\n",
      "Model name:  Time_CNN\n"
     ]
    },
    {
     "data": {
      "application/vnd.jupyter.widget-view+json": {
       "model_id": "5c22a0d3ab9d467faadcd89876f036ed",
       "version_major": 2,
       "version_minor": 0
      },
      "text/plain": [
       "Time_CNN: 0epoch [00:00, ?epoch/s]"
      ]
     },
     "metadata": {},
     "output_type": "display_data"
    },
    {
     "name": "stdout",
     "output_type": "stream",
     "text": [
      "90/90 [==============================] - 1s 5ms/step - loss: 0.6914 - accuracy: 0.5000\n",
      "90/90 [==============================] - 1s 4ms/step\n",
      "Dataset name:  sony_robot\n"
     ]
    },
    {
     "data": {
      "application/vnd.jupyter.widget-view+json": {
       "model_id": "31d281466bcb44a398f6833f7f4b4c02",
       "version_major": 2,
       "version_minor": 0
      },
      "text/plain": [
       "Train on \"sony_robot\":   0%|          | 0/6 [00:00<?, ?model/s]"
      ]
     },
     "metadata": {},
     "output_type": "display_data"
    },
    {
     "name": "stdout",
     "output_type": "stream",
     "text": [
      "Model name:  MLP\n"
     ]
    },
    {
     "data": {
      "application/vnd.jupyter.widget-view+json": {
       "model_id": "d1436d2066094bc295353e33228156ca",
       "version_major": 2,
       "version_minor": 0
      },
      "text/plain": [
       "MLP: 0epoch [00:00, ?epoch/s]"
      ]
     },
     "metadata": {},
     "output_type": "display_data"
    },
    {
     "name": "stdout",
     "output_type": "stream",
     "text": [
      "1/1 [==============================] - 0s 379ms/step - loss: 0.3022 - accuracy: 0.9500\n",
      "1/1 [==============================] - 0s 212ms/step\n",
      "Model name:  FCN\n"
     ]
    },
    {
     "data": {
      "application/vnd.jupyter.widget-view+json": {
       "model_id": "078754ff88194340bd09379fb688202f",
       "version_major": 2,
       "version_minor": 0
      },
      "text/plain": [
       "FCN: 0epoch [00:00, ?epoch/s]"
      ]
     },
     "metadata": {},
     "output_type": "display_data"
    },
    {
     "name": "stdout",
     "output_type": "stream",
     "text": [
      "1/1 [==============================] - 1s 1s/step - loss: 1.0441 - accuracy: 0.7000\n",
      "1/1 [==============================] - 1s 1s/step\n",
      "Model name:  Resnet\n"
     ]
    },
    {
     "data": {
      "application/vnd.jupyter.widget-view+json": {
       "model_id": "43bd5e73e880416091d0f1b9c505a385",
       "version_major": 2,
       "version_minor": 0
      },
      "text/plain": [
       "Resnet: 0epoch [00:00, ?epoch/s]"
      ]
     },
     "metadata": {},
     "output_type": "display_data"
    },
    {
     "name": "stdout",
     "output_type": "stream",
     "text": [
      "1/1 [==============================] - 2s 2s/step - loss: 0.4813 - accuracy: 0.9000\n",
      "1/1 [==============================] - 1s 1s/step\n",
      "Model name:  MCDCNN\n"
     ]
    },
    {
     "data": {
      "application/vnd.jupyter.widget-view+json": {
       "model_id": "d58cc3dbcf2a4e2e91031ea44d86b8b0",
       "version_major": 2,
       "version_minor": 0
      },
      "text/plain": [
       "MCDCNN: 0epoch [00:00, ?epoch/s]"
      ]
     },
     "metadata": {},
     "output_type": "display_data"
    },
    {
     "name": "stdout",
     "output_type": "stream",
     "text": [
      "WARNING:tensorflow:5 out of the last 94 calls to <function Model.make_test_function.<locals>.test_function at 0x153033c798b0> triggered tf.function retracing. Tracing is expensive and the excessive number of tracings could be due to (1) creating @tf.function repeatedly in a loop, (2) passing tensors with different shapes, (3) passing Python objects instead of tensors. For (1), please define your @tf.function outside of the loop. For (2), @tf.function has reduce_retracing=True option that can avoid unnecessary retracing. For (3), please refer to https://www.tensorflow.org/guide/function#controlling_retracing and https://www.tensorflow.org/api_docs/python/tf/function for  more details.\n",
      "1/1 [==============================] - 1s 1s/step - loss: 0.6162 - accuracy: 0.9000\n",
      "WARNING:tensorflow:5 out of the last 94 calls to <function Model.make_predict_function.<locals>.predict_function at 0x153033c79280> triggered tf.function retracing. Tracing is expensive and the excessive number of tracings could be due to (1) creating @tf.function repeatedly in a loop, (2) passing tensors with different shapes, (3) passing Python objects instead of tensors. For (1), please define your @tf.function outside of the loop. For (2), @tf.function has reduce_retracing=True option that can avoid unnecessary retracing. For (3), please refer to https://www.tensorflow.org/guide/function#controlling_retracing and https://www.tensorflow.org/api_docs/python/tf/function for  more details.\n",
      "1/1 [==============================] - 1s 1s/step\n",
      "Model name:  Encoder\n"
     ]
    },
    {
     "data": {
      "application/vnd.jupyter.widget-view+json": {
       "model_id": "3ff956e24e4f40e7a6d55d0fd58e205b",
       "version_major": 2,
       "version_minor": 0
      },
      "text/plain": [
       "Encoder: 0epoch [00:00, ?epoch/s]"
      ]
     },
     "metadata": {},
     "output_type": "display_data"
    },
    {
     "name": "stdout",
     "output_type": "stream",
     "text": [
      "WARNING:tensorflow:6 out of the last 95 calls to <function Model.make_test_function.<locals>.test_function at 0x152fa3940700> triggered tf.function retracing. Tracing is expensive and the excessive number of tracings could be due to (1) creating @tf.function repeatedly in a loop, (2) passing tensors with different shapes, (3) passing Python objects instead of tensors. For (1), please define your @tf.function outside of the loop. For (2), @tf.function has reduce_retracing=True option that can avoid unnecessary retracing. For (3), please refer to https://www.tensorflow.org/guide/function#controlling_retracing and https://www.tensorflow.org/api_docs/python/tf/function for  more details.\n",
      "1/1 [==============================] - 1s 1s/step - loss: 0.3137 - accuracy: 0.9500\n",
      "WARNING:tensorflow:6 out of the last 95 calls to <function Model.make_predict_function.<locals>.predict_function at 0x152fb98e8ee0> triggered tf.function retracing. Tracing is expensive and the excessive number of tracings could be due to (1) creating @tf.function repeatedly in a loop, (2) passing tensors with different shapes, (3) passing Python objects instead of tensors. For (1), please define your @tf.function outside of the loop. For (2), @tf.function has reduce_retracing=True option that can avoid unnecessary retracing. For (3), please refer to https://www.tensorflow.org/guide/function#controlling_retracing and https://www.tensorflow.org/api_docs/python/tf/function for  more details.\n",
      "1/1 [==============================] - 1s 1s/step\n",
      "Model name:  Time_CNN\n"
     ]
    },
    {
     "data": {
      "application/vnd.jupyter.widget-view+json": {
       "model_id": "3c566e8308f641e394d0ded18589575f",
       "version_major": 2,
       "version_minor": 0
      },
      "text/plain": [
       "Time_CNN: 0epoch [00:00, ?epoch/s]"
      ]
     },
     "metadata": {},
     "output_type": "display_data"
    },
    {
     "name": "stdout",
     "output_type": "stream",
     "text": [
      "1/1 [==============================] - 1s 1s/step - loss: 0.6477 - accuracy: 0.8500\n",
      "1/1 [==============================] - 1s 1s/step\n"
     ]
    }
   ],
   "source": [
    "epochs = 5#30\n",
    "tf.keras.utils.set_random_seed(math.floor(time.time()))\n",
    "df_training_res = train([get_MLP, get_FCN, get_Resnet, get_MCDCNN, get_Encoder, get_Time_CNN],\\\n",
    "                        epochs=epochs,\\\n",
    "                        datasets = datasets,\\\n",
    "                        result_csv_path=\"example.csv\") "
   ]
  },
  {
   "cell_type": "code",
   "execution_count": null,
   "metadata": {
    "collapsed": false,
    "jupyter": {
     "outputs_hidden": false
    },
    "pycharm": {
     "is_executing": true
    }
   },
   "outputs": [],
   "source": [
    "history = df_training_res['history'][0]\n",
    "confusion_matrix = df_training_res['confusion_matrix'][0]\n",
    "plot_model_history(json.loads(history), epochs=epochs)\n",
    "visualize_confusion_matrix(json.loads(confusion_matrix), \"MLP\", \"First Dataset\")"
   ]
  },
  {
   "cell_type": "code",
   "execution_count": null,
   "metadata": {
    "collapsed": false,
    "jupyter": {
     "outputs_hidden": false
    },
    "pycharm": {
     "is_executing": true
    }
   },
   "outputs": [],
   "source": [
    "\n",
    "\n",
    "create_confusion_matrix_plot_from_csv('../results/train__MLP_FCN_Resnet_MCDCNN_Encoder_Time_CNN_39_datasets.csv', verbose=True)\n"
   ]
  },
  {
   "cell_type": "code",
   "execution_count": 14,
   "metadata": {
    "collapsed": false,
    "jupyter": {
     "outputs_hidden": false
    }
   },
   "outputs": [],
   "source": [
    "\n"
   ]
  },
  {
   "cell_type": "code",
   "execution_count": null,
   "metadata": {
    "collapsed": false,
    "jupyter": {
     "outputs_hidden": false
    }
   },
   "outputs": [],
   "source": []
  }
 ],
 "metadata": {
  "kernelspec": {
   "display_name": "ts_ensemble",
   "language": "python",
   "name": "ts_ensemble"
  },
  "language_info": {
   "codemirror_mode": {
    "name": "ipython",
    "version": 3
   },
   "file_extension": ".py",
   "mimetype": "text/x-python",
   "name": "python",
   "nbconvert_exporter": "python",
   "pygments_lexer": "ipython3",
   "version": "3.8.6"
  }
 },
 "nbformat": 4,
 "nbformat_minor": 4
}
