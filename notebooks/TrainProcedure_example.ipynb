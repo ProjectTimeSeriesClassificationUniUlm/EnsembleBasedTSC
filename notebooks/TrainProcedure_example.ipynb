{
 "cells": [
  {
   "cell_type": "code",
   "execution_count": 1,
   "metadata": {
    "tags": []
   },
   "outputs": [],
   "source": [
    "import time\n",
    "import math\n",
    "import os\n",
    "import logging\n",
    "os.environ['TF_CPP_MIN_LOG_LEVEL'] = '2'\n",
    "import tensorflow as tf\n",
    "tf.get_logger().setLevel(logging.WARNING)\n",
    "\n",
    "import json\n",
    "import sys\n",
    "sys.path.append(\"../src\")\n",
    "from Evaluation import create_confusion_matrix_plot_from_csv\n",
    "from TrainProdecure import train\n",
    "from PreprocessData import preprocess_data\n",
    "from PreprocessData import preprocess_datasets\n",
    "from LoadData import get_all_datasets_test_train_np_arrays, DATASETS_MCDCNN\n",
    "from ModelBuilder import get_MLP, get_FCN, get_Resnet, get_MCDCNN, get_Encoder, get_Time_CNN"
   ]
  },
  {
   "cell_type": "code",
   "execution_count": null,
   "metadata": {},
   "outputs": [],
   "source": [
    "from LoadData import CurrentDatasets\n",
    "\n",
    "datasets = get_all_datasets_test_train_np_arrays(\"../datasets\", ds_names=[model.value for model in CurrentDatasets])\n",
    "datasets = preprocess_datasets(datasets, batch_size=10, augmentation=False)"
   ]
  },
  {
   "cell_type": "code",
   "execution_count": null,
   "outputs": [],
   "source": [],
   "metadata": {
    "collapsed": false
   }
  },
  {
   "cell_type": "code",
   "execution_count": null,
   "metadata": {
    "jupyter": {
     "outputs_hidden": false
    },
    "pycharm": {
     "is_executing": true
    }
   },
   "outputs": [],
   "source": [
    "epochs = 30\n",
    "tf.keras.utils.set_random_seed(math.floor(time.time()))\n",
    "\n",
    "df_training_res = train([get_MLP]*10,\n",
    "                        epochs=epochs,\n",
    "                        datasets = datasets,\n",
    "                        unique_model_name=True)\n"
   ]
  },
  {
   "cell_type": "code",
   "execution_count": 3,
   "metadata": {
    "jupyter": {
     "outputs_hidden": false
    }
   },
   "outputs": [
    {
     "name": "stdout",
     "output_type": "stream",
     "text": [
      "cricket_y\n",
      "distal_phalanax_tw\n",
      "egg_five_days\n",
      "electric_devices\n",
      "face_ucr\n",
      "fifty_words\n",
      "mote_strain\n",
      "power_cons\n",
      "sony_robot\n",
      "swedish_leaf\n",
      "synthetic_control\n",
      "cricket_y\n",
      "distal_phalanax_tw\n",
      "egg_five_days\n",
      "electric_devices\n",
      "face_ucr\n",
      "fifty_words\n",
      "mote_strain\n",
      "power_cons\n",
      "sony_robot\n",
      "swedish_leaf\n",
      "synthetic_control\n"
     ]
    }
   ],
   "source": [
    "\n",
    "\n",
    "create_confusion_matrix_plot_from_csv('../results/without_augmentation/train__Time_CNN_Time_CNN_Time_CNN_Time_CNN_Time_CNN_Time_CNN_Time_CNN_Time_CNN_Time_CNN_Time_CNN_11_datasets.csv', verbose=True)\n",
    "create_confusion_matrix_plot_from_csv('../results/without_augmentation/train__MCDCNN_MCDCNN_MCDCNN_MCDCNN_MCDCNN_MCDCNN_MCDCNN_MCDCNN_MCDCNN_MCDCNN_11_datasets.csv', verbose=True)"
   ]
  },
  {
   "cell_type": "code",
   "execution_count": null,
   "metadata": {
    "jupyter": {
     "outputs_hidden": false
    }
   },
   "outputs": [],
   "source": []
  },
  {
   "cell_type": "code",
   "execution_count": 4,
   "metadata": {
    "jupyter": {
     "outputs_hidden": false
    }
   },
   "outputs": [
    {
     "name": "stdout",
     "output_type": "stream",
     "text": [
      "cricket_y\n",
      "distal_phalanax_tw\n",
      "egg_five_days\n",
      "electric_devices\n",
      "face_ucr\n",
      "fifty_words\n",
      "mote_strain\n",
      "power_cons\n",
      "sony_robot\n",
      "swedish_leaf\n",
      "synthetic_control\n",
      "cricket_y\n",
      "distal_phalanax_tw\n",
      "egg_five_days\n",
      "electric_devices\n",
      "face_ucr\n",
      "fifty_words\n",
      "mote_strain\n",
      "power_cons\n",
      "sony_robot\n",
      "swedish_leaf\n",
      "synthetic_control\n",
      "cricket_y\n",
      "distal_phalanax_tw\n",
      "egg_five_days\n",
      "electric_devices\n",
      "face_ucr\n",
      "fifty_words\n",
      "mote_strain\n",
      "power_cons\n",
      "sony_robot\n",
      "swedish_leaf\n",
      "synthetic_control\n",
      "cricket_y\n",
      "distal_phalanax_tw\n",
      "egg_five_days\n",
      "electric_devices\n",
      "face_ucr\n",
      "fifty_words\n",
      "mote_strain\n",
      "power_cons\n",
      "sony_robot\n",
      "swedish_leaf\n",
      "synthetic_control\n",
      "cricket_y\n",
      "distal_phalanax_tw\n",
      "egg_five_days\n",
      "electric_devices\n",
      "face_ucr\n",
      "fifty_words\n",
      "mote_strain\n",
      "power_cons\n",
      "sony_robot\n",
      "swedish_leaf\n",
      "synthetic_control\n",
      "cricket_y\n",
      "distal_phalanax_tw\n",
      "egg_five_days\n",
      "electric_devices\n",
      "face_ucr\n",
      "fifty_words\n",
      "mote_strain\n",
      "power_cons\n",
      "sony_robot\n",
      "swedish_leaf\n",
      "synthetic_control\n"
     ]
    }
   ],
   "source": [
    "create_confusion_matrix_plot_from_csv('../results/augmented/train__Encoder_Encoder_Encoder_Encoder_Encoder_Encoder_Encoder_Encoder_Encoder_Encoder_11_datasets.csv', verbose=True)\n",
    "create_confusion_matrix_plot_from_csv('../results/augmented/train__FCN_FCN_FCN_FCN_FCN_FCN_FCN_FCN_FCN_FCN_11_datasets.csv', verbose=True)\n",
    "create_confusion_matrix_plot_from_csv('../results/augmented/train__MCDCNN_MCDCNN_MCDCNN_MCDCNN_MCDCNN_MCDCNN_MCDCNN_MCDCNN_MCDCNN_MCDCNN_11_datasets.csv', verbose=True)\n",
    "create_confusion_matrix_plot_from_csv('../results/augmented/train__MLP_MLP_MLP_MLP_MLP_MLP_MLP_MLP_MLP_MLP_11_datasets.csv', verbose=True)\n",
    "create_confusion_matrix_plot_from_csv('../results/augmented/train__Resnet_Resnet_Resnet_Resnet_Resnet_Resnet_Resnet_Resnet_Resnet_Resnet_11_datasets.csv', verbose=True)\n",
    "create_confusion_matrix_plot_from_csv('../results/augmented/train__Time_CNN_Time_CNN_Time_CNN_Time_CNN_Time_CNN_Time_CNN_Time_CNN_Time_CNN_Time_CNN_Time_CNN_11_datasets.csv', verbose=True)"
   ]
  },
  {
   "cell_type": "code",
   "execution_count": null,
   "outputs": [],
   "source": [],
   "metadata": {
    "collapsed": false
   }
  }
 ],
 "metadata": {
  "kernelspec": {
   "display_name": "Python 3 (ipykernel)",
   "language": "python",
   "name": "python3"
  },
  "language_info": {
   "codemirror_mode": {
    "name": "ipython",
    "version": 3
   },
   "file_extension": ".py",
   "mimetype": "text/x-python",
   "name": "python",
   "nbconvert_exporter": "python",
   "pygments_lexer": "ipython3",
   "version": "3.10.9"
  }
 },
 "nbformat": 4,
 "nbformat_minor": 4
}
