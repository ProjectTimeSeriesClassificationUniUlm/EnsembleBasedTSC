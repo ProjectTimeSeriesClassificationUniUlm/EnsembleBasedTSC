{
 "cells": [
  {
   "cell_type": "code",
   "execution_count": 6,
   "metadata": {
    "tags": []
   },
   "outputs": [],
   "source": [
    "import time\n",
    "import math\n",
    "import os\n",
    "import logging\n",
    "os.environ['TF_CPP_MIN_LOG_LEVEL'] = '2'\n",
    "import tensorflow as tf\n",
    "tf.get_logger().setLevel(logging.WARNING)\n",
    "\n",
    "import json\n",
    "import sys\n",
    "sys.path.append(\"../src\")\n",
    "from Helpers import visualize_confusion_matrix, create_confusion_matrix_plot_from_csv\n",
    "from Evaluation import plot_model_history\n",
    "from TrainProdecure import train\n",
    "from ModelBuilder import get_MLP, get_FCN, get_Resnet, get_MCDCNN, get_Encoder, get_Time_CNN"
   ]
  },
  {
   "cell_type": "code",
   "execution_count": null,
   "metadata": {
    "jupyter": {
     "outputs_hidden": false
    },
    "pycharm": {
     "is_executing": true
    }
   },
   "outputs": [],
   "source": [
    "epochs = 30\n",
    "tf.keras.utils.set_random_seed(math.floor(time.time()))\n",
    "df_training_res = train([get_MLP, get_FCN, get_Resnet, get_MCDCNN, get_Encoder, get_Time_CNN], epochs=epochs)"
   ]
  },
  {
   "cell_type": "code",
   "execution_count": 3,
   "metadata": {
    "jupyter": {
     "outputs_hidden": false
    },
    "pycharm": {
     "is_executing": true
    }
   },
   "outputs": [
    {
     "ename": "NameError",
     "evalue": "name 'df_training_res' is not defined",
     "output_type": "error",
     "traceback": [
      "\u001B[0;31m---------------------------------------------------------------------------\u001B[0m",
      "\u001B[0;31mNameError\u001B[0m                                 Traceback (most recent call last)",
      "Cell \u001B[0;32mIn[3], line 1\u001B[0m\n\u001B[0;32m----> 1\u001B[0m history \u001B[38;5;241m=\u001B[39m \u001B[43mdf_training_res\u001B[49m[\u001B[38;5;124m'\u001B[39m\u001B[38;5;124mhistory\u001B[39m\u001B[38;5;124m'\u001B[39m][\u001B[38;5;241m0\u001B[39m]\n\u001B[1;32m      2\u001B[0m confusion_matrix \u001B[38;5;241m=\u001B[39m df_training_res[\u001B[38;5;124m'\u001B[39m\u001B[38;5;124mconfusion_matrix\u001B[39m\u001B[38;5;124m'\u001B[39m][\u001B[38;5;241m0\u001B[39m]\n\u001B[1;32m      3\u001B[0m plot_model_history(json\u001B[38;5;241m.\u001B[39mloads(history), epochs\u001B[38;5;241m=\u001B[39mepochs)\n",
      "\u001B[0;31mNameError\u001B[0m: name 'df_training_res' is not defined"
     ]
    }
   ],
   "source": [
    "history = df_training_res['history'][0]\n",
    "confusion_matrix = df_training_res['confusion_matrix'][0]\n",
    "plot_model_history(json.loads(history), epochs=epochs)\n",
    "visualize_confusion_matrix(json.loads(confusion_matrix), \"MLP\", \"First Dataset\")"
   ]
  },
  {
   "cell_type": "code",
   "execution_count": 5,
   "metadata": {
    "jupyter": {
     "outputs_hidden": false
    },
    "pycharm": {
     "is_executing": true
    }
   },
   "outputs": [
    {
     "name": "stdout",
     "output_type": "stream",
     "text": [
      "abnormal_heartbeat\n",
      "arrow_head\n",
      "bme\n",
      "car\n",
      "cbf\n",
      "chlorine_concentration\n",
      "coffee_beans\n",
      "colposcopy\n",
      "cricket_y\n",
      "distal_phalanax_tw\n",
      "distal_phalanx_outline\n",
      "dodger_loop_day\n",
      "earthquakes\n",
      "egg_five_days\n",
      "electric_devices\n",
      "face_ucr\n",
      "fifty_words\n",
      "fish\n",
      "freezers\n",
      "FruitFlies\n",
      "gun_point_age_span\n",
      "gun_point_male_female\n",
      "gun_point_old_young\n",
      "large_kitchen_appliances\n",
      "lightning_7\n",
      "medical_images\n",
      "middle_phalanx_age_group\n",
      "middle_phalanx_correct\n",
      "mote_strain\n",
      "phalanges_outlines_correct\n",
      "plane\n",
      "power_cons\n",
      "RightWhaleCalls\n",
      "share_price_increase\n",
      "sony_robot\n",
      "strawberry\n",
      "swedish_leaf\n",
      "synthetic_control\n",
      "trace\n"
     ]
    }
   ],
   "source": [
    "\n",
    "\n",
    "create_confusion_matrix_plot_from_csv('../results/train__MLP_FCN_Resnet_MCDCNN_Encoder_Time_CNN_39_datasets.csv', verbose=True)\n"
   ]
  },
  {
   "cell_type": "code",
   "execution_count": 14,
   "metadata": {
    "jupyter": {
     "outputs_hidden": false
    }
   },
   "outputs": [],
   "source": [
    "\n"
   ]
  },
  {
   "cell_type": "code",
   "execution_count": null,
   "metadata": {
    "jupyter": {
     "outputs_hidden": false
    }
   },
   "outputs": [],
   "source": []
  }
 ],
 "metadata": {
  "kernelspec": {
   "display_name": "Python 3 (ipykernel)",
   "language": "python",
   "name": "python3"
  },
  "language_info": {
   "codemirror_mode": {
    "name": "ipython",
    "version": 3
   },
   "file_extension": ".py",
   "mimetype": "text/x-python",
   "name": "python",
   "nbconvert_exporter": "python",
   "pygments_lexer": "ipython3",
   "version": "3.10.9"
  }
 },
 "nbformat": 4,
 "nbformat_minor": 4
}
