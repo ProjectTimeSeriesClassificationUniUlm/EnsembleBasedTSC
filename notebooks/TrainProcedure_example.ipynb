{
 "cells": [
  {
   "cell_type": "code",
   "execution_count": 5,
   "metadata": {
    "tags": []
   },
   "outputs": [],
   "source": [
    "import time\n",
    "import math\n",
    "import os\n",
    "import logging\n",
    "os.environ['TF_CPP_MIN_LOG_LEVEL'] = '2'\n",
    "import tensorflow as tf\n",
    "tf.get_logger().setLevel(logging.WARNING)\n",
    "\n",
    "import json\n",
    "import sys\n",
    "sys.path.append(\"../src\")\n",
    "from Helpers import visualize_confusion_matrix, create_confusion_matrix_plot_from_csv\n",
    "from Evaluation import plot_model_history\n",
    "from TrainProdecure import train\n",
    "from PreprocessData import preprocess_data\n",
    "from PreprocessData import preprocess_datasets\n",
    "from LoadData import get_all_datasets_test_train_np_arrays, DATASETS_MCDCNN\n",
    "from ModelBuilder import get_MLP, get_FCN, get_Resnet, get_MCDCNN, get_Encoder, get_Time_CNN"
   ]
  },
  {
   "cell_type": "code",
   "execution_count": 6,
   "metadata": {},
   "outputs": [],
   "source": [
    "from LoadData import CurrentDatasets\n",
    "\n",
    "datasets = get_all_datasets_test_train_np_arrays(\"../datasets\", ds_names=[model.value for model in CurrentDatasets])\n",
    "datasets = preprocess_datasets(datasets, batch_size=10, augmentation=True)"
   ]
  },
  {
   "cell_type": "code",
   "execution_count": 3,
   "outputs": [
    {
     "data": {
      "text/plain": "'MLP'"
     },
     "execution_count": 3,
     "metadata": {},
     "output_type": "execute_result"
    }
   ],
   "source": [],
   "metadata": {
    "collapsed": false
   }
  },
  {
   "cell_type": "code",
   "execution_count": null,
   "metadata": {
    "jupyter": {
     "outputs_hidden": false
    },
    "pycharm": {
     "is_executing": true
    }
   },
   "outputs": [],
   "source": [
    "epochs = 30\n",
    "tf.keras.utils.set_random_seed(math.floor(time.time()))\n",
    "df_training_res = train([get_MLP, get_FCN, get_Resnet, get_MCDCNN, get_Encoder, get_Time_CNN],\\\n",
    "                        epochs=epochs,\\\n",
    "                        datasets = datasets) "
   ]
  },
  {
   "cell_type": "code",
   "execution_count": null,
   "metadata": {
    "jupyter": {
     "outputs_hidden": false
    },
    "pycharm": {
     "is_executing": true
    }
   },
   "outputs": [],
   "source": [
    "history = df_training_res['history'][0]\n",
    "confusion_matrix = df_training_res['confusion_matrix'][0]\n",
    "plot_model_history(json.loads(history), epochs=epochs)\n",
    "visualize_confusion_matrix(json.loads(confusion_matrix), \"MLP\", \"First Dataset\")"
   ]
  },
  {
   "cell_type": "code",
   "execution_count": 9,
   "metadata": {
    "jupyter": {
     "outputs_hidden": false
    }
   },
   "outputs": [
    {
     "name": "stdout",
     "output_type": "stream",
     "text": [
      "cricket_y\n",
      "distal_phalanax_tw\n",
      "egg_five_days\n",
      "electric_devices\n",
      "face_ucr\n",
      "fifty_words\n",
      "mote_strain\n",
      "power_cons\n",
      "sony_robot\n",
      "swedish_leaf\n",
      "synthetic_control\n"
     ]
    }
   ],
   "source": [
    "\n",
    "\n",
    "create_confusion_matrix_plot_from_csv('../results/train__MLP_FCN_Resnet_MCDCNN_Encoder_Time_CNN_11_datasets.csv', verbose=True)\n"
   ]
  },
  {
   "cell_type": "code",
   "execution_count": 3,
   "metadata": {
    "jupyter": {
     "outputs_hidden": false
    }
   },
   "outputs": [
    {
     "data": {
      "text/plain": "['cricket_y',\n 'distal_phalanax_tw',\n 'egg_five_days',\n 'electric_devices',\n 'face_ucr',\n 'fifty_words',\n 'mote_strain',\n 'power_cons',\n 'sony_robot',\n 'swedish_leaf',\n 'synthetic_control']"
     },
     "execution_count": 3,
     "metadata": {},
     "output_type": "execute_result"
    }
   ],
   "source": []
  },
  {
   "cell_type": "code",
   "execution_count": null,
   "metadata": {
    "jupyter": {
     "outputs_hidden": false
    }
   },
   "outputs": [],
   "source": []
  }
 ],
 "metadata": {
  "kernelspec": {
   "display_name": "Python 3 (ipykernel)",
   "language": "python",
   "name": "python3"
  },
  "language_info": {
   "codemirror_mode": {
    "name": "ipython",
    "version": 3
   },
   "file_extension": ".py",
   "mimetype": "text/x-python",
   "name": "python",
   "nbconvert_exporter": "python",
   "pygments_lexer": "ipython3",
   "version": "3.10.9"
  }
 },
 "nbformat": 4,
 "nbformat_minor": 4
}
