{
 "cells": [
  {
   "cell_type": "code",
   "execution_count": 1,
   "metadata": {
    "collapsed": true
   },
   "outputs": [],
   "source": [
    "import numpy as np\n",
    "import skopt\n",
    "from tensorflow import keras\n",
    "from tqdm.auto import tqdm\n",
    "\n",
    "import src.LoadData as LoadData\n",
    "import src.ModelBuilder as ModelBuilder\n",
    "import src.TrainProdecure as TrainProdecure"
   ]
  },
  {
   "cell_type": "code",
   "execution_count": 2,
   "outputs": [],
   "source": [
    "class tqdm_skopt:\n",
    "    def __init__(self, **kwargs):\n",
    "        self._bar = tqdm(**kwargs)\n",
    "\n",
    "    def __call__(self, res):\n",
    "        self._bar.update()\n"
   ],
   "metadata": {
    "collapsed": false
   }
  },
  {
   "cell_type": "code",
   "execution_count": 3,
   "outputs": [
    {
     "data": {
      "text/plain": "['electric_devices', 'freezers', 'sony_robot']"
     },
     "execution_count": 3,
     "metadata": {},
     "output_type": "execute_result"
    }
   ],
   "source": [
    "# General Configurations:\n",
    "EPOCHS_PER_TRAINING = 15\n",
    "# DATASETS = LoadData.get_all_datasets_test_train_np_arrays('../datasets/')\n",
    "DATASETS = LoadData.get_mcdcnn_datasets_test_train_np_arrays('../datasets/')\n",
    "ds_names = list(DATASETS.keys())\n",
    "\n",
    "ds_names"
   ],
   "metadata": {
    "collapsed": false
   }
  },
  {
   "cell_type": "code",
   "execution_count": 5,
   "outputs": [],
   "source": [
    "def get_config_str(nr_conv_layers=2, nr_conv_filters=8, kernel_size=5, padding_method=\"same\",\n",
    "                 dense_size=732, nr_dense_layers=1,\n",
    "                 conv_activation=\"sigmoid\", dense_activation=\"sigmoid\",\n",
    "                 pooling_method=keras.layers.MaxPool1D, pooling_size=2,\n",
    "                 dropout_rate=0.5, use_batchnorm=False):\n",
    "    return f\"{nr_conv_layers}-conv-layers_{nr_conv_filters}-filters_{kernel_size}-kernel-size_{padding_method}-padding_({conv_activation})--{nr_dense_layers}-dense_layers_({dense_activation})--{pooling_method}_({pooling_size})_{dropout_rate if dropout_rate>0 else ''}{'_batchnorm' if use_batchnorm else ''}\""
   ],
   "metadata": {
    "collapsed": false
   }
  },
  {
   "cell_type": "code",
   "execution_count": 6,
   "outputs": [],
   "source": [
    "def train_and_evaluate_config(config):\n",
    "    config_string = get_config_str(*config)\n",
    "    print(f\"Training model with config: {config_string}\")\n",
    "\n",
    "    accuracies_per_dataset = []\n",
    "\n",
    "    try:\n",
    "        for ds_name in (t := tqdm(ds_names, unit=\"dataset\", desc=\"Training the model on each dataset...\")):\n",
    "            t.set_postfix_str(f\"Dataset: {ds_name}\")\n",
    "            train_x, train_y = DATASETS[ds_name][\"train_data\"]\n",
    "\n",
    "            input_size = train_x.shape[1]\n",
    "            output_size = len(np.unique(train_y))\n",
    "            model = ModelBuilder.build_MCDCNN(input_size, output_size, *config)\n",
    "\n",
    "            _, history = TrainProdecure.train_single_model(model, train_x, train_y, epochs=EPOCHS_PER_TRAINING, model_name=f\"{ds_name}_{config_string}\", dataset_name=ds_name)\n",
    "\n",
    "            val_acc = history.history[\"val_accuracy\"][-1]\n",
    "            accuracies_per_dataset.append(val_acc)\n",
    "    except Exception as e:\n",
    "        print(f\"Error while training model with config {config_string}: {e}\")\n",
    "        return 1\n",
    "\n",
    "    return 1 - np.average(accuracies_per_dataset)"
   ],
   "metadata": {
    "collapsed": false
   }
  },
  {
   "cell_type": "code",
   "execution_count": 7,
   "outputs": [
    {
     "data": {
      "text/plain": "Optimizing Hyperparameters:   0%|          | 0/500 [00:00<?, ?it/s]",
      "application/vnd.jupyter.widget-view+json": {
       "version_major": 2,
       "version_minor": 0,
       "model_id": "69838f392c52499980a81231f34781eb"
      }
     },
     "metadata": {},
     "output_type": "display_data"
    },
    {
     "name": "stdout",
     "output_type": "stream",
     "text": [
      "Iteration No: 1 started. Evaluating function at random point.\n",
      "Training model with config: 3-conv-layers_3-filters_6-kernel-size_same-padding_(relu)--1-dense_layers_(relu)--avg_pool_(3)_0.1_batchnorm\n"
     ]
    },
    {
     "data": {
      "text/plain": "Training the model on each dataset...:   0%|          | 0/3 [00:00<?, ?dataset/s]",
      "application/vnd.jupyter.widget-view+json": {
       "version_major": 2,
       "version_minor": 0,
       "model_id": "eeecc48edddc4f92b550c4b0e0e23eba"
      }
     },
     "metadata": {},
     "output_type": "display_data"
    },
    {
     "data": {
      "text/plain": "Training electric_devices_3-conv-layers_3-filters_6-kernel-size_same-padding_(relu)--1-dense_layers_(relu)--av…",
      "application/vnd.jupyter.widget-view+json": {
       "version_major": 2,
       "version_minor": 0,
       "model_id": "5691fe7dff484ed3bd6cab7fdc47f9a4"
      }
     },
     "metadata": {},
     "output_type": "display_data"
    },
    {
     "data": {
      "text/plain": "Training freezers_3-conv-layers_3-filters_6-kernel-size_same-padding_(relu)--1-dense_layers_(relu)--avg_pool_(…",
      "application/vnd.jupyter.widget-view+json": {
       "version_major": 2,
       "version_minor": 0,
       "model_id": "e8f5b707246047c9b1d94fcc93c39127"
      }
     },
     "metadata": {},
     "output_type": "display_data"
    },
    {
     "data": {
      "text/plain": "Training sony_robot_3-conv-layers_3-filters_6-kernel-size_same-padding_(relu)--1-dense_layers_(relu)--avg_pool…",
      "application/vnd.jupyter.widget-view+json": {
       "version_major": 2,
       "version_minor": 0,
       "model_id": "58955ad8fb054efdb2204ccf7bb2fc73"
      }
     },
     "metadata": {},
     "output_type": "display_data"
    },
    {
     "name": "stdout",
     "output_type": "stream",
     "text": [
      "Iteration No: 1 ended. Evaluation done at random point.\n",
      "Time taken: 66.2081\n",
      "Function value obtained: 0.1506\n",
      "Current minimum: 0.1506\n",
      "Iteration No: 2 started. Evaluating function at random point.\n",
      "Training model with config: 4-conv-layers_2-filters_7-kernel-size_same-padding_(relu)--1-dense_layers_(sigmoid)--avg_pool_(2)_0.9\n"
     ]
    },
    {
     "data": {
      "text/plain": "Training the model on each dataset...:   0%|          | 0/3 [00:00<?, ?dataset/s]",
      "application/vnd.jupyter.widget-view+json": {
       "version_major": 2,
       "version_minor": 0,
       "model_id": "a7e46e34eeef482faf87a4e2ddb6f419"
      }
     },
     "metadata": {},
     "output_type": "display_data"
    },
    {
     "data": {
      "text/plain": "Training electric_devices_4-conv-layers_2-filters_7-kernel-size_same-padding_(relu)--1-dense_layers_(sigmoid)-…",
      "application/vnd.jupyter.widget-view+json": {
       "version_major": 2,
       "version_minor": 0,
       "model_id": "5fb0031ee7294031bb32316f73fa939f"
      }
     },
     "metadata": {},
     "output_type": "display_data"
    },
    {
     "data": {
      "text/plain": "Training freezers_4-conv-layers_2-filters_7-kernel-size_same-padding_(relu)--1-dense_layers_(sigmoid)--avg_poo…",
      "application/vnd.jupyter.widget-view+json": {
       "version_major": 2,
       "version_minor": 0,
       "model_id": "f075bf650c834d8f9786002e4bd043be"
      }
     },
     "metadata": {},
     "output_type": "display_data"
    },
    {
     "data": {
      "text/plain": "Training sony_robot_4-conv-layers_2-filters_7-kernel-size_same-padding_(relu)--1-dense_layers_(sigmoid)--avg_p…",
      "application/vnd.jupyter.widget-view+json": {
       "version_major": 2,
       "version_minor": 0,
       "model_id": "2cce67cb10a7456784bfcb4e7f08be7f"
      }
     },
     "metadata": {},
     "output_type": "display_data"
    },
    {
     "name": "stdout",
     "output_type": "stream",
     "text": [
      "Iteration No: 2 ended. Evaluation done at random point.\n",
      "Time taken: 32.9037\n",
      "Function value obtained: 0.6633\n",
      "Current minimum: 0.1506\n",
      "Iteration No: 3 started. Evaluating function at random point.\n",
      "Training model with config: 1-conv-layers_7-filters_5-kernel-size_same-padding_(sigmoid)--4-dense_layers_(relu)--avg_pool_(4)_0.5\n"
     ]
    },
    {
     "data": {
      "text/plain": "Training the model on each dataset...:   0%|          | 0/3 [00:00<?, ?dataset/s]",
      "application/vnd.jupyter.widget-view+json": {
       "version_major": 2,
       "version_minor": 0,
       "model_id": "90aba6007e594bc691bd033cf5fc875a"
      }
     },
     "metadata": {},
     "output_type": "display_data"
    },
    {
     "data": {
      "text/plain": "Training electric_devices_1-conv-layers_7-filters_5-kernel-size_same-padding_(sigmoid)--4-dense_layers_(relu)-…",
      "application/vnd.jupyter.widget-view+json": {
       "version_major": 2,
       "version_minor": 0,
       "model_id": "5d9c1845aa1b470a989fb8b0db7145ac"
      }
     },
     "metadata": {},
     "output_type": "display_data"
    },
    {
     "data": {
      "text/plain": "Training freezers_1-conv-layers_7-filters_5-kernel-size_same-padding_(sigmoid)--4-dense_layers_(relu)--avg_poo…",
      "application/vnd.jupyter.widget-view+json": {
       "version_major": 2,
       "version_minor": 0,
       "model_id": "63cf3fbaf3444fa9ba8e375965eccf0c"
      }
     },
     "metadata": {},
     "output_type": "display_data"
    },
    {
     "data": {
      "text/plain": "Training sony_robot_1-conv-layers_7-filters_5-kernel-size_same-padding_(sigmoid)--4-dense_layers_(relu)--avg_p…",
      "application/vnd.jupyter.widget-view+json": {
       "version_major": 2,
       "version_minor": 0,
       "model_id": "97aff22693ca44cd90518c30e6cf71e8"
      }
     },
     "metadata": {},
     "output_type": "display_data"
    },
    {
     "name": "stdout",
     "output_type": "stream",
     "text": [
      "Iteration No: 3 ended. Evaluation done at random point.\n",
      "Time taken: 34.4565\n",
      "Function value obtained: 0.5092\n",
      "Current minimum: 0.1506\n",
      "Iteration No: 4 started. Evaluating function at random point.\n",
      "Training model with config: 1-conv-layers_4-filters_4-kernel-size_same-padding_(relu)--3-dense_layers_(relu)--avg_pool_(4)_0.4\n"
     ]
    },
    {
     "data": {
      "text/plain": "Training the model on each dataset...:   0%|          | 0/3 [00:00<?, ?dataset/s]",
      "application/vnd.jupyter.widget-view+json": {
       "version_major": 2,
       "version_minor": 0,
       "model_id": "cdb64fd6319549fcabbf74c9e2b9f133"
      }
     },
     "metadata": {},
     "output_type": "display_data"
    },
    {
     "data": {
      "text/plain": "Training electric_devices_1-conv-layers_4-filters_4-kernel-size_same-padding_(relu)--3-dense_layers_(relu)--av…",
      "application/vnd.jupyter.widget-view+json": {
       "version_major": 2,
       "version_minor": 0,
       "model_id": "a1e9018224ba42d5a58a34ff02ee61e5"
      }
     },
     "metadata": {},
     "output_type": "display_data"
    },
    {
     "data": {
      "text/plain": "Training freezers_1-conv-layers_4-filters_4-kernel-size_same-padding_(relu)--3-dense_layers_(relu)--avg_pool_(…",
      "application/vnd.jupyter.widget-view+json": {
       "version_major": 2,
       "version_minor": 0,
       "model_id": "644132d800f04ae1a41fb9f5db06566c"
      }
     },
     "metadata": {},
     "output_type": "display_data"
    },
    {
     "data": {
      "text/plain": "Training sony_robot_1-conv-layers_4-filters_4-kernel-size_same-padding_(relu)--3-dense_layers_(relu)--avg_pool…",
      "application/vnd.jupyter.widget-view+json": {
       "version_major": 2,
       "version_minor": 0,
       "model_id": "20f0d0b385bb41e6854bb68fe635ec9b"
      }
     },
     "metadata": {},
     "output_type": "display_data"
    },
    {
     "name": "stdout",
     "output_type": "stream",
     "text": [
      "Iteration No: 4 ended. Evaluation done at random point.\n",
      "Time taken: 31.0109\n",
      "Function value obtained: 0.1453\n",
      "Current minimum: 0.1453\n",
      "Iteration No: 5 started. Evaluating function at random point.\n",
      "Training model with config: 3-conv-layers_2-filters_6-kernel-size_causal-padding_(sigmoid)--4-dense_layers_(relu)--max_pool_(3)_0.9_batchnorm\n"
     ]
    },
    {
     "data": {
      "text/plain": "Training the model on each dataset...:   0%|          | 0/3 [00:00<?, ?dataset/s]",
      "application/vnd.jupyter.widget-view+json": {
       "version_major": 2,
       "version_minor": 0,
       "model_id": "4f767e94fd4e459ab4172a4659827d81"
      }
     },
     "metadata": {},
     "output_type": "display_data"
    },
    {
     "data": {
      "text/plain": "Training electric_devices_3-conv-layers_2-filters_6-kernel-size_causal-padding_(sigmoid)--4-dense_layers_(relu…",
      "application/vnd.jupyter.widget-view+json": {
       "version_major": 2,
       "version_minor": 0,
       "model_id": "f77082aa3ce34c5f89023be5ef07c626"
      }
     },
     "metadata": {},
     "output_type": "display_data"
    },
    {
     "data": {
      "text/plain": "Training freezers_3-conv-layers_2-filters_6-kernel-size_causal-padding_(sigmoid)--4-dense_layers_(relu)--max_p…",
      "application/vnd.jupyter.widget-view+json": {
       "version_major": 2,
       "version_minor": 0,
       "model_id": "12f8e24ff7954f9fac6b6ad2f10c2e61"
      }
     },
     "metadata": {},
     "output_type": "display_data"
    },
    {
     "data": {
      "text/plain": "Training sony_robot_3-conv-layers_2-filters_6-kernel-size_causal-padding_(sigmoid)--4-dense_layers_(relu)--max…",
      "application/vnd.jupyter.widget-view+json": {
       "version_major": 2,
       "version_minor": 0,
       "model_id": "c06c5779752c499fb2e1112f94a25e5b"
      }
     },
     "metadata": {},
     "output_type": "display_data"
    },
    {
     "name": "stdout",
     "output_type": "stream",
     "text": [
      "Iteration No: 5 ended. Evaluation done at random point.\n",
      "Time taken: 102.0933\n",
      "Function value obtained: 0.6633\n",
      "Current minimum: 0.1453\n",
      "Iteration No: 6 started. Searching for the next optimal point.\n",
      "Training model with config: 1-conv-layers_10-filters_3-kernel-size_causal-padding_(relu)--4-dense_layers_(relu)--max_pool_(4)_0.9\n"
     ]
    },
    {
     "data": {
      "text/plain": "Training the model on each dataset...:   0%|          | 0/3 [00:00<?, ?dataset/s]",
      "application/vnd.jupyter.widget-view+json": {
       "version_major": 2,
       "version_minor": 0,
       "model_id": "99e8efe631b14ceab1cb85394392c96e"
      }
     },
     "metadata": {},
     "output_type": "display_data"
    },
    {
     "data": {
      "text/plain": "Training electric_devices_1-conv-layers_10-filters_3-kernel-size_causal-padding_(relu)--4-dense_layers_(relu)-…",
      "application/vnd.jupyter.widget-view+json": {
       "version_major": 2,
       "version_minor": 0,
       "model_id": "e6a90cbc0eac4ade8926f0cab6be0fd4"
      }
     },
     "metadata": {},
     "output_type": "display_data"
    },
    {
     "data": {
      "text/plain": "Training freezers_1-conv-layers_10-filters_3-kernel-size_causal-padding_(relu)--4-dense_layers_(relu)--max_poo…",
      "application/vnd.jupyter.widget-view+json": {
       "version_major": 2,
       "version_minor": 0,
       "model_id": "e3deabaf1e494c99bf898dc35d9115cb"
      }
     },
     "metadata": {},
     "output_type": "display_data"
    },
    {
     "data": {
      "text/plain": "Training sony_robot_1-conv-layers_10-filters_3-kernel-size_causal-padding_(relu)--4-dense_layers_(relu)--max_p…",
      "application/vnd.jupyter.widget-view+json": {
       "version_major": 2,
       "version_minor": 0,
       "model_id": "4f5defacc38b4dada72cfb8283b9e13b"
      }
     },
     "metadata": {},
     "output_type": "display_data"
    },
    {
     "name": "stdout",
     "output_type": "stream",
     "text": [
      "Iteration No: 6 ended. Search finished for the next optimal point.\n",
      "Time taken: 32.3311\n",
      "Function value obtained: 0.8175\n",
      "Current minimum: 0.1453\n",
      "Iteration No: 7 started. Searching for the next optimal point.\n",
      "Training model with config: 1-conv-layers_4-filters_3-kernel-size_same-padding_(sigmoid)--4-dense_layers_(relu)--max_pool_(3)_0.4_batchnorm\n"
     ]
    },
    {
     "data": {
      "text/plain": "Training the model on each dataset...:   0%|          | 0/3 [00:00<?, ?dataset/s]",
      "application/vnd.jupyter.widget-view+json": {
       "version_major": 2,
       "version_minor": 0,
       "model_id": "9d76f0deadf247979f16d260e28ce113"
      }
     },
     "metadata": {},
     "output_type": "display_data"
    },
    {
     "data": {
      "text/plain": "Training electric_devices_1-conv-layers_4-filters_3-kernel-size_same-padding_(sigmoid)--4-dense_layers_(relu)-…",
      "application/vnd.jupyter.widget-view+json": {
       "version_major": 2,
       "version_minor": 0,
       "model_id": "9d38c570742642ff80553ac11e8f7c42"
      }
     },
     "metadata": {},
     "output_type": "display_data"
    },
    {
     "data": {
      "text/plain": "Training freezers_1-conv-layers_4-filters_3-kernel-size_same-padding_(sigmoid)--4-dense_layers_(relu)--max_poo…",
      "application/vnd.jupyter.widget-view+json": {
       "version_major": 2,
       "version_minor": 0,
       "model_id": "0a4e5e127cec4a8d89351c6c1e8ff71b"
      }
     },
     "metadata": {},
     "output_type": "display_data"
    },
    {
     "data": {
      "text/plain": "Training sony_robot_1-conv-layers_4-filters_3-kernel-size_same-padding_(sigmoid)--4-dense_layers_(relu)--max_p…",
      "application/vnd.jupyter.widget-view+json": {
       "version_major": 2,
       "version_minor": 0,
       "model_id": "8ac7274f998942d29f94d6212687d4ea"
      }
     },
     "metadata": {},
     "output_type": "display_data"
    },
    {
     "name": "stdout",
     "output_type": "stream",
     "text": [
      "Iteration No: 7 ended. Search finished for the next optimal point.\n",
      "Time taken: 77.6266\n",
      "Function value obtained: 0.3469\n",
      "Current minimum: 0.1453\n",
      "Iteration No: 8 started. Searching for the next optimal point.\n",
      "Training model with config: 1-conv-layers_10-filters_3-kernel-size_same-padding_(relu)--4-dense_layers_(relu)--max_pool_(4)_0.9\n"
     ]
    },
    {
     "data": {
      "text/plain": "Training the model on each dataset...:   0%|          | 0/3 [00:00<?, ?dataset/s]",
      "application/vnd.jupyter.widget-view+json": {
       "version_major": 2,
       "version_minor": 0,
       "model_id": "f4d534a9b985476c9aef1b735cf2813e"
      }
     },
     "metadata": {},
     "output_type": "display_data"
    },
    {
     "data": {
      "text/plain": "Training electric_devices_1-conv-layers_10-filters_3-kernel-size_same-padding_(relu)--4-dense_layers_(relu)--m…",
      "application/vnd.jupyter.widget-view+json": {
       "version_major": 2,
       "version_minor": 0,
       "model_id": "0260e45e21df47ce82a54c1ea9593fca"
      }
     },
     "metadata": {},
     "output_type": "display_data"
    },
    {
     "name": "stdout",
     "output_type": "stream",
     "text": [
      "WARNING:tensorflow:Callback method `on_train_batch_end` is slow compared to the batch time (batch time: 0.0065s vs `on_train_batch_end` time: 0.0135s). Check your callbacks.\n"
     ]
    },
    {
     "data": {
      "text/plain": "Training freezers_1-conv-layers_10-filters_3-kernel-size_same-padding_(relu)--4-dense_layers_(relu)--max_pool_…",
      "application/vnd.jupyter.widget-view+json": {
       "version_major": 2,
       "version_minor": 0,
       "model_id": "272ec0cf460b4ce982a0c8fcafd0533a"
      }
     },
     "metadata": {},
     "output_type": "display_data"
    },
    {
     "data": {
      "text/plain": "Training sony_robot_1-conv-layers_10-filters_3-kernel-size_same-padding_(relu)--4-dense_layers_(relu)--max_poo…",
      "application/vnd.jupyter.widget-view+json": {
       "version_major": 2,
       "version_minor": 0,
       "model_id": "cce407553d47438680d7613da848b411"
      }
     },
     "metadata": {},
     "output_type": "display_data"
    },
    {
     "name": "stdout",
     "output_type": "stream",
     "text": [
      "Iteration No: 8 ended. Search finished for the next optimal point.\n",
      "Time taken: 32.5277\n",
      "Function value obtained: 0.7902\n",
      "Current minimum: 0.1453\n",
      "Iteration No: 9 started. Searching for the next optimal point.\n",
      "Training model with config: 4-conv-layers_6-filters_7-kernel-size_causal-padding_(relu)--2-dense_layers_(relu)--avg_pool_(2)_0.2_batchnorm\n"
     ]
    },
    {
     "data": {
      "text/plain": "Training the model on each dataset...:   0%|          | 0/3 [00:00<?, ?dataset/s]",
      "application/vnd.jupyter.widget-view+json": {
       "version_major": 2,
       "version_minor": 0,
       "model_id": "a4848aca816f4fb495ec740228d6661c"
      }
     },
     "metadata": {},
     "output_type": "display_data"
    },
    {
     "data": {
      "text/plain": "Training electric_devices_4-conv-layers_6-filters_7-kernel-size_causal-padding_(relu)--2-dense_layers_(relu)--…",
      "application/vnd.jupyter.widget-view+json": {
       "version_major": 2,
       "version_minor": 0,
       "model_id": "54c6cdf450cf4cd4a1f191997bff0c9e"
      }
     },
     "metadata": {},
     "output_type": "display_data"
    },
    {
     "data": {
      "text/plain": "Training freezers_4-conv-layers_6-filters_7-kernel-size_causal-padding_(relu)--2-dense_layers_(relu)--avg_pool…",
      "application/vnd.jupyter.widget-view+json": {
       "version_major": 2,
       "version_minor": 0,
       "model_id": "ce93e2c02dfc437e8211b6b98d485f0c"
      }
     },
     "metadata": {},
     "output_type": "display_data"
    },
    {
     "data": {
      "text/plain": "Training sony_robot_4-conv-layers_6-filters_7-kernel-size_causal-padding_(relu)--2-dense_layers_(relu)--avg_po…",
      "application/vnd.jupyter.widget-view+json": {
       "version_major": 2,
       "version_minor": 0,
       "model_id": "6e9a738d22eb45a0931c84cf8d4a4f44"
      }
     },
     "metadata": {},
     "output_type": "display_data"
    },
    {
     "name": "stdout",
     "output_type": "stream",
     "text": [
      "Iteration No: 9 ended. Search finished for the next optimal point.\n",
      "Time taken: 90.5893\n",
      "Function value obtained: 0.1260\n",
      "Current minimum: 0.1260\n",
      "Iteration No: 10 started. Searching for the next optimal point.\n",
      "Training model with config: 1-conv-layers_10-filters_3-kernel-size_causal-padding_(relu)--1-dense_layers_(relu)--avg_pool_(4)_0.30000000000000004\n"
     ]
    },
    {
     "data": {
      "text/plain": "Training the model on each dataset...:   0%|          | 0/3 [00:00<?, ?dataset/s]",
      "application/vnd.jupyter.widget-view+json": {
       "version_major": 2,
       "version_minor": 0,
       "model_id": "0c66231cb70244b88df658cd4e1eedb8"
      }
     },
     "metadata": {},
     "output_type": "display_data"
    },
    {
     "data": {
      "text/plain": "Training electric_devices_1-conv-layers_10-filters_3-kernel-size_causal-padding_(relu)--1-dense_layers_(relu)-…",
      "application/vnd.jupyter.widget-view+json": {
       "version_major": 2,
       "version_minor": 0,
       "model_id": "27424e9c22494160b1e703689f489928"
      }
     },
     "metadata": {},
     "output_type": "display_data"
    },
    {
     "data": {
      "text/plain": "Training freezers_1-conv-layers_10-filters_3-kernel-size_causal-padding_(relu)--1-dense_layers_(relu)--avg_poo…",
      "application/vnd.jupyter.widget-view+json": {
       "version_major": 2,
       "version_minor": 0,
       "model_id": "8bf6aeeb040a4a6baca6af6c6e2188ac"
      }
     },
     "metadata": {},
     "output_type": "display_data"
    },
    {
     "data": {
      "text/plain": "Training sony_robot_1-conv-layers_10-filters_3-kernel-size_causal-padding_(relu)--1-dense_layers_(relu)--avg_p…",
      "application/vnd.jupyter.widget-view+json": {
       "version_major": 2,
       "version_minor": 0,
       "model_id": "92ad3d0193c5496ea6163b862f501b04"
      }
     },
     "metadata": {},
     "output_type": "display_data"
    },
    {
     "name": "stdout",
     "output_type": "stream",
     "text": [
      "Iteration No: 10 ended. Search finished for the next optimal point.\n",
      "Time taken: 25.2864\n",
      "Function value obtained: 0.1943\n",
      "Current minimum: 0.1260\n",
      "Iteration No: 11 started. Searching for the next optimal point.\n",
      "Training model with config: 2-conv-layers_5-filters_3-kernel-size_same-padding_(relu)--4-dense_layers_(sigmoid)--max_pool_(4)_0.7000000000000001\n"
     ]
    },
    {
     "data": {
      "text/plain": "Training the model on each dataset...:   0%|          | 0/3 [00:00<?, ?dataset/s]",
      "application/vnd.jupyter.widget-view+json": {
       "version_major": 2,
       "version_minor": 0,
       "model_id": "77eeaee36b814508a8e163b7fdcb12dc"
      }
     },
     "metadata": {},
     "output_type": "display_data"
    },
    {
     "data": {
      "text/plain": "Training electric_devices_2-conv-layers_5-filters_3-kernel-size_same-padding_(relu)--4-dense_layers_(sigmoid)-…",
      "application/vnd.jupyter.widget-view+json": {
       "version_major": 2,
       "version_minor": 0,
       "model_id": "eb01060393f64c7a9f5d85114d4d959f"
      }
     },
     "metadata": {},
     "output_type": "display_data"
    },
    {
     "data": {
      "text/plain": "Training freezers_2-conv-layers_5-filters_3-kernel-size_same-padding_(relu)--4-dense_layers_(sigmoid)--max_poo…",
      "application/vnd.jupyter.widget-view+json": {
       "version_major": 2,
       "version_minor": 0,
       "model_id": "77c1b7c7ac334e59bab30d7f65732a71"
      }
     },
     "metadata": {},
     "output_type": "display_data"
    },
    {
     "data": {
      "text/plain": "Training sony_robot_2-conv-layers_5-filters_3-kernel-size_same-padding_(relu)--4-dense_layers_(sigmoid)--max_p…",
      "application/vnd.jupyter.widget-view+json": {
       "version_major": 2,
       "version_minor": 0,
       "model_id": "24bc36a4624344aa89db513ab6862476"
      }
     },
     "metadata": {},
     "output_type": "display_data"
    },
    {
     "name": "stdout",
     "output_type": "stream",
     "text": [
      "Iteration No: 11 ended. Search finished for the next optimal point.\n",
      "Time taken: 39.2689\n",
      "Function value obtained: 0.6782\n",
      "Current minimum: 0.1260\n",
      "Iteration No: 12 started. Searching for the next optimal point.\n",
      "Training model with config: 4-conv-layers_3-filters_7-kernel-size_causal-padding_(relu)--3-dense_layers_(relu)--avg_pool_(2)_0.30000000000000004_batchnorm\n"
     ]
    },
    {
     "data": {
      "text/plain": "Training the model on each dataset...:   0%|          | 0/3 [00:00<?, ?dataset/s]",
      "application/vnd.jupyter.widget-view+json": {
       "version_major": 2,
       "version_minor": 0,
       "model_id": "71406ed55d4d4aac8fd6e9848af4f32f"
      }
     },
     "metadata": {},
     "output_type": "display_data"
    },
    {
     "data": {
      "text/plain": "Training electric_devices_4-conv-layers_3-filters_7-kernel-size_causal-padding_(relu)--3-dense_layers_(relu)--…",
      "application/vnd.jupyter.widget-view+json": {
       "version_major": 2,
       "version_minor": 0,
       "model_id": "2bff4c070d8443f59753d7169431fd3c"
      }
     },
     "metadata": {},
     "output_type": "display_data"
    },
    {
     "data": {
      "text/plain": "Training freezers_4-conv-layers_3-filters_7-kernel-size_causal-padding_(relu)--3-dense_layers_(relu)--avg_pool…",
      "application/vnd.jupyter.widget-view+json": {
       "version_major": 2,
       "version_minor": 0,
       "model_id": "50ace8a0147e4c2eb7de64e8b8107f21"
      }
     },
     "metadata": {},
     "output_type": "display_data"
    },
    {
     "data": {
      "text/plain": "Training sony_robot_4-conv-layers_3-filters_7-kernel-size_causal-padding_(relu)--3-dense_layers_(relu)--avg_po…",
      "application/vnd.jupyter.widget-view+json": {
       "version_major": 2,
       "version_minor": 0,
       "model_id": "1b8f84c4da00477ea6b402cbcbafc548"
      }
     },
     "metadata": {},
     "output_type": "display_data"
    },
    {
     "name": "stdout",
     "output_type": "stream",
     "text": [
      "Iteration No: 12 ended. Search finished for the next optimal point.\n",
      "Time taken: 106.1590\n",
      "Function value obtained: 0.6068\n",
      "Current minimum: 0.1260\n",
      "Iteration No: 13 started. Searching for the next optimal point.\n",
      "Training model with config: 1-conv-layers_2-filters_3-kernel-size_same-padding_(relu)--4-dense_layers_(relu)--avg_pool_(4)_0.9_batchnorm\n"
     ]
    },
    {
     "data": {
      "text/plain": "Training the model on each dataset...:   0%|          | 0/3 [00:00<?, ?dataset/s]",
      "application/vnd.jupyter.widget-view+json": {
       "version_major": 2,
       "version_minor": 0,
       "model_id": "83c07a8e1cf64b39b85b9936fa0d6ecd"
      }
     },
     "metadata": {},
     "output_type": "display_data"
    },
    {
     "data": {
      "text/plain": "Training electric_devices_1-conv-layers_2-filters_3-kernel-size_same-padding_(relu)--4-dense_layers_(relu)--av…",
      "application/vnd.jupyter.widget-view+json": {
       "version_major": 2,
       "version_minor": 0,
       "model_id": "f66810b9f74b44959134f83d8195e13c"
      }
     },
     "metadata": {},
     "output_type": "display_data"
    },
    {
     "data": {
      "text/plain": "Training freezers_1-conv-layers_2-filters_3-kernel-size_same-padding_(relu)--4-dense_layers_(relu)--avg_pool_(…",
      "application/vnd.jupyter.widget-view+json": {
       "version_major": 2,
       "version_minor": 0,
       "model_id": "12c1852ebfb2483ea598b308386e5523"
      }
     },
     "metadata": {},
     "output_type": "display_data"
    },
    {
     "data": {
      "text/plain": "Training sony_robot_1-conv-layers_2-filters_3-kernel-size_same-padding_(relu)--4-dense_layers_(relu)--avg_pool…",
      "application/vnd.jupyter.widget-view+json": {
       "version_major": 2,
       "version_minor": 0,
       "model_id": "409e2ff74a824a2eaa5598361e6a6823"
      }
     },
     "metadata": {},
     "output_type": "display_data"
    },
    {
     "name": "stdout",
     "output_type": "stream",
     "text": [
      "Iteration No: 13 ended. Search finished for the next optimal point.\n",
      "Time taken: 76.7064\n",
      "Function value obtained: 0.8175\n",
      "Current minimum: 0.1260\n",
      "Iteration No: 14 started. Searching for the next optimal point.\n",
      "Training model with config: 2-conv-layers_7-filters_5-kernel-size_same-padding_(relu)--2-dense_layers_(relu)--max_pool_(3)_0.2\n"
     ]
    },
    {
     "data": {
      "text/plain": "Training the model on each dataset...:   0%|          | 0/3 [00:00<?, ?dataset/s]",
      "application/vnd.jupyter.widget-view+json": {
       "version_major": 2,
       "version_minor": 0,
       "model_id": "5afbbf2dd30745a9aae2b6db42ac2d5d"
      }
     },
     "metadata": {},
     "output_type": "display_data"
    },
    {
     "data": {
      "text/plain": "Training electric_devices_2-conv-layers_7-filters_5-kernel-size_same-padding_(relu)--2-dense_layers_(relu)--ma…",
      "application/vnd.jupyter.widget-view+json": {
       "version_major": 2,
       "version_minor": 0,
       "model_id": "696b89dac1294bd4b05d20e14ab2bec9"
      }
     },
     "metadata": {},
     "output_type": "display_data"
    },
    {
     "data": {
      "text/plain": "Training freezers_2-conv-layers_7-filters_5-kernel-size_same-padding_(relu)--2-dense_layers_(relu)--max_pool_(…",
      "application/vnd.jupyter.widget-view+json": {
       "version_major": 2,
       "version_minor": 0,
       "model_id": "1a94e53032634387bcc4e59e0d2a8fab"
      }
     },
     "metadata": {},
     "output_type": "display_data"
    },
    {
     "data": {
      "text/plain": "Training sony_robot_2-conv-layers_7-filters_5-kernel-size_same-padding_(relu)--2-dense_layers_(relu)--max_pool…",
      "application/vnd.jupyter.widget-view+json": {
       "version_major": 2,
       "version_minor": 0,
       "model_id": "0c54e8c3a1fd4b25ad90a24b2e7abf21"
      }
     },
     "metadata": {},
     "output_type": "display_data"
    },
    {
     "name": "stdout",
     "output_type": "stream",
     "text": [
      "Iteration No: 14 ended. Search finished for the next optimal point.\n",
      "Time taken: 32.4292\n",
      "Function value obtained: 0.1256\n",
      "Current minimum: 0.1256\n",
      "Iteration No: 15 started. Searching for the next optimal point.\n",
      "Training model with config: 2-conv-layers_4-filters_3-kernel-size_same-padding_(sigmoid)--2-dense_layers_(relu)--max_pool_(4)_0.2\n"
     ]
    },
    {
     "data": {
      "text/plain": "Training the model on each dataset...:   0%|          | 0/3 [00:00<?, ?dataset/s]",
      "application/vnd.jupyter.widget-view+json": {
       "version_major": 2,
       "version_minor": 0,
       "model_id": "27da4be9291c417ca38e7e307d231a68"
      }
     },
     "metadata": {},
     "output_type": "display_data"
    },
    {
     "data": {
      "text/plain": "Training electric_devices_2-conv-layers_4-filters_3-kernel-size_same-padding_(sigmoid)--2-dense_layers_(relu)-…",
      "application/vnd.jupyter.widget-view+json": {
       "version_major": 2,
       "version_minor": 0,
       "model_id": "90a7638ba44c4918aa38b5ce0fd40278"
      }
     },
     "metadata": {},
     "output_type": "display_data"
    },
    {
     "data": {
      "text/plain": "Training freezers_2-conv-layers_4-filters_3-kernel-size_same-padding_(sigmoid)--2-dense_layers_(relu)--max_poo…",
      "application/vnd.jupyter.widget-view+json": {
       "version_major": 2,
       "version_minor": 0,
       "model_id": "d3395ca4996a4e2888f893f58a134252"
      }
     },
     "metadata": {},
     "output_type": "display_data"
    },
    {
     "data": {
      "text/plain": "Training sony_robot_2-conv-layers_4-filters_3-kernel-size_same-padding_(sigmoid)--2-dense_layers_(relu)--max_p…",
      "application/vnd.jupyter.widget-view+json": {
       "version_major": 2,
       "version_minor": 0,
       "model_id": "0ecb237968c64d619ca783474f3a0a66"
      }
     },
     "metadata": {},
     "output_type": "display_data"
    },
    {
     "name": "stdout",
     "output_type": "stream",
     "text": [
      "Iteration No: 15 ended. Search finished for the next optimal point.\n",
      "Time taken: 32.8162\n",
      "Function value obtained: 0.1745\n",
      "Current minimum: 0.1256\n",
      "Iteration No: 16 started. Searching for the next optimal point.\n",
      "Training model with config: 1-conv-layers_10-filters_6-kernel-size_same-padding_(relu)--2-dense_layers_(sigmoid)--max_pool_(4)_0.2\n"
     ]
    },
    {
     "data": {
      "text/plain": "Training the model on each dataset...:   0%|          | 0/3 [00:00<?, ?dataset/s]",
      "application/vnd.jupyter.widget-view+json": {
       "version_major": 2,
       "version_minor": 0,
       "model_id": "8c275efbac0c4459aa431ac91717c53a"
      }
     },
     "metadata": {},
     "output_type": "display_data"
    },
    {
     "data": {
      "text/plain": "Training electric_devices_1-conv-layers_10-filters_6-kernel-size_same-padding_(relu)--2-dense_layers_(sigmoid)…",
      "application/vnd.jupyter.widget-view+json": {
       "version_major": 2,
       "version_minor": 0,
       "model_id": "49ddd87727fa4c8595c372415e9401df"
      }
     },
     "metadata": {},
     "output_type": "display_data"
    },
    {
     "data": {
      "text/plain": "Training freezers_1-conv-layers_10-filters_6-kernel-size_same-padding_(relu)--2-dense_layers_(sigmoid)--max_po…",
      "application/vnd.jupyter.widget-view+json": {
       "version_major": 2,
       "version_minor": 0,
       "model_id": "1ee7a700091044aeae93d3f98ff84803"
      }
     },
     "metadata": {},
     "output_type": "display_data"
    },
    {
     "data": {
      "text/plain": "Training sony_robot_1-conv-layers_10-filters_6-kernel-size_same-padding_(relu)--2-dense_layers_(sigmoid)--max_…",
      "application/vnd.jupyter.widget-view+json": {
       "version_major": 2,
       "version_minor": 0,
       "model_id": "2a5efdd679ef42e19fe48e94315c24fa"
      }
     },
     "metadata": {},
     "output_type": "display_data"
    },
    {
     "name": "stdout",
     "output_type": "stream",
     "text": [
      "Iteration No: 16 ended. Search finished for the next optimal point.\n",
      "Time taken: 28.1879\n",
      "Function value obtained: 0.4459\n",
      "Current minimum: 0.1256\n",
      "Iteration No: 17 started. Searching for the next optimal point.\n",
      "Training model with config: 1-conv-layers_8-filters_6-kernel-size_causal-padding_(sigmoid)--2-dense_layers_(relu)--max_pool_(2)_0.2\n"
     ]
    },
    {
     "data": {
      "text/plain": "Training the model on each dataset...:   0%|          | 0/3 [00:00<?, ?dataset/s]",
      "application/vnd.jupyter.widget-view+json": {
       "version_major": 2,
       "version_minor": 0,
       "model_id": "ab14d0b3185a43d0bcf3b88293d9f5c7"
      }
     },
     "metadata": {},
     "output_type": "display_data"
    },
    {
     "data": {
      "text/plain": "Training electric_devices_1-conv-layers_8-filters_6-kernel-size_causal-padding_(sigmoid)--2-dense_layers_(relu…",
      "application/vnd.jupyter.widget-view+json": {
       "version_major": 2,
       "version_minor": 0,
       "model_id": "57f03da2702a487bbe0b562a28c931a4"
      }
     },
     "metadata": {},
     "output_type": "display_data"
    },
    {
     "data": {
      "text/plain": "Training freezers_1-conv-layers_8-filters_6-kernel-size_causal-padding_(sigmoid)--2-dense_layers_(relu)--max_p…",
      "application/vnd.jupyter.widget-view+json": {
       "version_major": 2,
       "version_minor": 0,
       "model_id": "b3b225780679400ab2ad1cb78c6b692e"
      }
     },
     "metadata": {},
     "output_type": "display_data"
    },
    {
     "data": {
      "text/plain": "Training sony_robot_1-conv-layers_8-filters_6-kernel-size_causal-padding_(sigmoid)--2-dense_layers_(relu)--max…",
      "application/vnd.jupyter.widget-view+json": {
       "version_major": 2,
       "version_minor": 0,
       "model_id": "d943a13a29d74562a712851ae732f732"
      }
     },
     "metadata": {},
     "output_type": "display_data"
    },
    {
     "name": "stdout",
     "output_type": "stream",
     "text": [
      "Iteration No: 17 ended. Search finished for the next optimal point.\n",
      "Time taken: 28.4960\n",
      "Function value obtained: 0.1721\n",
      "Current minimum: 0.1256\n",
      "Iteration No: 18 started. Searching for the next optimal point.\n",
      "Training model with config: 2-conv-layers_3-filters_7-kernel-size_causal-padding_(relu)--2-dense_layers_(relu)--max_pool_(2)_0.2_batchnorm\n"
     ]
    },
    {
     "data": {
      "text/plain": "Training the model on each dataset...:   0%|          | 0/3 [00:00<?, ?dataset/s]",
      "application/vnd.jupyter.widget-view+json": {
       "version_major": 2,
       "version_minor": 0,
       "model_id": "6d4d4063dd534a16b0bf0c69b33f3c56"
      }
     },
     "metadata": {},
     "output_type": "display_data"
    },
    {
     "data": {
      "text/plain": "Training electric_devices_2-conv-layers_3-filters_7-kernel-size_causal-padding_(relu)--2-dense_layers_(relu)--…",
      "application/vnd.jupyter.widget-view+json": {
       "version_major": 2,
       "version_minor": 0,
       "model_id": "a379e50c6b40496b96049c10715330ec"
      }
     },
     "metadata": {},
     "output_type": "display_data"
    },
    {
     "data": {
      "text/plain": "Training freezers_2-conv-layers_3-filters_7-kernel-size_causal-padding_(relu)--2-dense_layers_(relu)--max_pool…",
      "application/vnd.jupyter.widget-view+json": {
       "version_major": 2,
       "version_minor": 0,
       "model_id": "a2772735674242cf8e6e49248d587bb3"
      }
     },
     "metadata": {},
     "output_type": "display_data"
    },
    {
     "data": {
      "text/plain": "Training sony_robot_2-conv-layers_3-filters_7-kernel-size_causal-padding_(relu)--2-dense_layers_(relu)--max_po…",
      "application/vnd.jupyter.widget-view+json": {
       "version_major": 2,
       "version_minor": 0,
       "model_id": "4904d622c5f548eebbfdbd5b5c989ef6"
      }
     },
     "metadata": {},
     "output_type": "display_data"
    },
    {
     "name": "stdout",
     "output_type": "stream",
     "text": [
      "Iteration No: 18 ended. Search finished for the next optimal point.\n",
      "Time taken: 67.9619\n",
      "Function value obtained: 0.1106\n",
      "Current minimum: 0.1106\n",
      "Iteration No: 19 started. Searching for the next optimal point.\n",
      "Training model with config: 3-conv-layers_3-filters_7-kernel-size_causal-padding_(sigmoid)--3-dense_layers_(relu)--max_pool_(2)_0.4_batchnorm\n"
     ]
    },
    {
     "data": {
      "text/plain": "Training the model on each dataset...:   0%|          | 0/3 [00:00<?, ?dataset/s]",
      "application/vnd.jupyter.widget-view+json": {
       "version_major": 2,
       "version_minor": 0,
       "model_id": "04c2c5b81c16417ea42392597268ccc7"
      }
     },
     "metadata": {},
     "output_type": "display_data"
    },
    {
     "data": {
      "text/plain": "Training electric_devices_3-conv-layers_3-filters_7-kernel-size_causal-padding_(sigmoid)--3-dense_layers_(relu…",
      "application/vnd.jupyter.widget-view+json": {
       "version_major": 2,
       "version_minor": 0,
       "model_id": "d4bccc1063f8441280c37de540a7149a"
      }
     },
     "metadata": {},
     "output_type": "display_data"
    },
    {
     "data": {
      "text/plain": "Training freezers_3-conv-layers_3-filters_7-kernel-size_causal-padding_(sigmoid)--3-dense_layers_(relu)--max_p…",
      "application/vnd.jupyter.widget-view+json": {
       "version_major": 2,
       "version_minor": 0,
       "model_id": "454215d83b12463b9b25bb8edb483a0c"
      }
     },
     "metadata": {},
     "output_type": "display_data"
    },
    {
     "data": {
      "text/plain": "Training sony_robot_3-conv-layers_3-filters_7-kernel-size_causal-padding_(sigmoid)--3-dense_layers_(relu)--max…",
      "application/vnd.jupyter.widget-view+json": {
       "version_major": 2,
       "version_minor": 0,
       "model_id": "03f86de6eb8940a29423d075035dbf1e"
      }
     },
     "metadata": {},
     "output_type": "display_data"
    },
    {
     "name": "stdout",
     "output_type": "stream",
     "text": [
      "Iteration No: 19 ended. Search finished for the next optimal point.\n",
      "Time taken: 91.2724\n",
      "Function value obtained: 0.6289\n",
      "Current minimum: 0.1106\n",
      "Iteration No: 20 started. Searching for the next optimal point.\n",
      "Training model with config: 3-conv-layers_9-filters_6-kernel-size_same-padding_(relu)--1-dense_layers_(relu)--avg_pool_(4)_0.1_batchnorm\n"
     ]
    },
    {
     "data": {
      "text/plain": "Training the model on each dataset...:   0%|          | 0/3 [00:00<?, ?dataset/s]",
      "application/vnd.jupyter.widget-view+json": {
       "version_major": 2,
       "version_minor": 0,
       "model_id": "e47534e8e3824324908aff30dcbbe7c7"
      }
     },
     "metadata": {},
     "output_type": "display_data"
    },
    {
     "data": {
      "text/plain": "Training electric_devices_3-conv-layers_9-filters_6-kernel-size_same-padding_(relu)--1-dense_layers_(relu)--av…",
      "application/vnd.jupyter.widget-view+json": {
       "version_major": 2,
       "version_minor": 0,
       "model_id": "13c720433e324d7a932a10fcd8652f76"
      }
     },
     "metadata": {},
     "output_type": "display_data"
    },
    {
     "data": {
      "text/plain": "Training freezers_3-conv-layers_9-filters_6-kernel-size_same-padding_(relu)--1-dense_layers_(relu)--avg_pool_(…",
      "application/vnd.jupyter.widget-view+json": {
       "version_major": 2,
       "version_minor": 0,
       "model_id": "b8b8e608498d4f8991ca372bea7f3d11"
      }
     },
     "metadata": {},
     "output_type": "display_data"
    },
    {
     "data": {
      "text/plain": "Training sony_robot_3-conv-layers_9-filters_6-kernel-size_same-padding_(relu)--1-dense_layers_(relu)--avg_pool…",
      "application/vnd.jupyter.widget-view+json": {
       "version_major": 2,
       "version_minor": 0,
       "model_id": "8399c5b4bb374303b36b69488aab3832"
      }
     },
     "metadata": {},
     "output_type": "display_data"
    },
    {
     "name": "stdout",
     "output_type": "stream",
     "text": [
      "Iteration No: 20 ended. Search finished for the next optimal point.\n",
      "Time taken: 65.8755\n",
      "Function value obtained: 0.3372\n",
      "Current minimum: 0.1106\n",
      "Iteration No: 21 started. Searching for the next optimal point.\n",
      "Training model with config: 1-conv-layers_3-filters_4-kernel-size_causal-padding_(sigmoid)--1-dense_layers_(relu)--avg_pool_(2)_0.1\n"
     ]
    },
    {
     "data": {
      "text/plain": "Training the model on each dataset...:   0%|          | 0/3 [00:00<?, ?dataset/s]",
      "application/vnd.jupyter.widget-view+json": {
       "version_major": 2,
       "version_minor": 0,
       "model_id": "001a9cbf91af4370bab2b04209316d5f"
      }
     },
     "metadata": {},
     "output_type": "display_data"
    },
    {
     "data": {
      "text/plain": "Training electric_devices_1-conv-layers_3-filters_4-kernel-size_causal-padding_(sigmoid)--1-dense_layers_(relu…",
      "application/vnd.jupyter.widget-view+json": {
       "version_major": 2,
       "version_minor": 0,
       "model_id": "4509041d6e474a68bd6f986bb342eb61"
      }
     },
     "metadata": {},
     "output_type": "display_data"
    },
    {
     "data": {
      "text/plain": "Training freezers_1-conv-layers_3-filters_4-kernel-size_causal-padding_(sigmoid)--1-dense_layers_(relu)--avg_p…",
      "application/vnd.jupyter.widget-view+json": {
       "version_major": 2,
       "version_minor": 0,
       "model_id": "9d86284aacf54788a99b6173b1099829"
      }
     },
     "metadata": {},
     "output_type": "display_data"
    },
    {
     "data": {
      "text/plain": "Training sony_robot_1-conv-layers_3-filters_4-kernel-size_causal-padding_(sigmoid)--1-dense_layers_(relu)--avg…",
      "application/vnd.jupyter.widget-view+json": {
       "version_major": 2,
       "version_minor": 0,
       "model_id": "35ac16888d154985b8c2dadcb4381c57"
      }
     },
     "metadata": {},
     "output_type": "display_data"
    },
    {
     "name": "stdout",
     "output_type": "stream",
     "text": [
      "Iteration No: 21 ended. Search finished for the next optimal point.\n",
      "Time taken: 23.4796\n",
      "Function value obtained: 0.2017\n",
      "Current minimum: 0.1106\n",
      "Iteration No: 22 started. Searching for the next optimal point.\n",
      "Training model with config: 4-conv-layers_4-filters_4-kernel-size_same-padding_(sigmoid)--1-dense_layers_(relu)--max_pool_(3)_0.30000000000000004_batchnorm\n"
     ]
    },
    {
     "data": {
      "text/plain": "Training the model on each dataset...:   0%|          | 0/3 [00:00<?, ?dataset/s]",
      "application/vnd.jupyter.widget-view+json": {
       "version_major": 2,
       "version_minor": 0,
       "model_id": "a8e1e81b97e6465bb7c952ba89f9ccc2"
      }
     },
     "metadata": {},
     "output_type": "display_data"
    },
    {
     "data": {
      "text/plain": "Training electric_devices_4-conv-layers_4-filters_4-kernel-size_same-padding_(sigmoid)--1-dense_layers_(relu)-…",
      "application/vnd.jupyter.widget-view+json": {
       "version_major": 2,
       "version_minor": 0,
       "model_id": "b1f88a8da40f40afab9b2809d603c47d"
      }
     },
     "metadata": {},
     "output_type": "display_data"
    },
    {
     "data": {
      "text/plain": "Training freezers_4-conv-layers_4-filters_4-kernel-size_same-padding_(sigmoid)--1-dense_layers_(relu)--max_poo…",
      "application/vnd.jupyter.widget-view+json": {
       "version_major": 2,
       "version_minor": 0,
       "model_id": "9cb16dce41fe40b18da53c98e8a89f5d"
      }
     },
     "metadata": {},
     "output_type": "display_data"
    },
    {
     "name": "stdout",
     "output_type": "stream",
     "text": [
      "Error while training model with config 4-conv-layers_4-filters_4-kernel-size_same-padding_(sigmoid)--1-dense_layers_(relu)--max_pool_(3)_0.30000000000000004_batchnorm: Exception encountered when calling layer \"max_pooling1d_68\" (type MaxPooling1D).\n",
      "\n",
      "Negative dimension size caused by subtracting 3 from 2 for '{{node max_pooling1d_68/MaxPool}} = MaxPool[T=DT_FLOAT, data_format=\"NHWC\", explicit_paddings=[], ksize=[1, 3, 1, 1], padding=\"VALID\", strides=[1, 3, 1, 1]](max_pooling1d_68/ExpandDims)' with input shapes: [?,2,1,4].\n",
      "\n",
      "Call arguments received by layer \"max_pooling1d_68\" (type MaxPooling1D):\n",
      "  • inputs=tf.Tensor(shape=(None, 2, 4), dtype=float32)\n",
      "Iteration No: 22 ended. Search finished for the next optimal point.\n",
      "Time taken: 71.8946\n",
      "Function value obtained: 1.0000\n",
      "Current minimum: 0.1106\n",
      "Iteration No: 23 started. Searching for the next optimal point.\n",
      "Training model with config: 3-conv-layers_3-filters_5-kernel-size_causal-padding_(relu)--4-dense_layers_(relu)--avg_pool_(3)_0.1_batchnorm\n"
     ]
    },
    {
     "data": {
      "text/plain": "Training the model on each dataset...:   0%|          | 0/3 [00:00<?, ?dataset/s]",
      "application/vnd.jupyter.widget-view+json": {
       "version_major": 2,
       "version_minor": 0,
       "model_id": "8cf9ac2877c4422e8a67c25c7777e6ec"
      }
     },
     "metadata": {},
     "output_type": "display_data"
    },
    {
     "data": {
      "text/plain": "Training electric_devices_3-conv-layers_3-filters_5-kernel-size_causal-padding_(relu)--4-dense_layers_(relu)--…",
      "application/vnd.jupyter.widget-view+json": {
       "version_major": 2,
       "version_minor": 0,
       "model_id": "7aa95cd5a81848199bcfd12b332026cf"
      }
     },
     "metadata": {},
     "output_type": "display_data"
    },
    {
     "data": {
      "text/plain": "Training freezers_3-conv-layers_3-filters_5-kernel-size_causal-padding_(relu)--4-dense_layers_(relu)--avg_pool…",
      "application/vnd.jupyter.widget-view+json": {
       "version_major": 2,
       "version_minor": 0,
       "model_id": "2e1bc1199acc4a04bb94da5e945158fb"
      }
     },
     "metadata": {},
     "output_type": "display_data"
    },
    {
     "data": {
      "text/plain": "Training sony_robot_3-conv-layers_3-filters_5-kernel-size_causal-padding_(relu)--4-dense_layers_(relu)--avg_po…",
      "application/vnd.jupyter.widget-view+json": {
       "version_major": 2,
       "version_minor": 0,
       "model_id": "6e792718c21641ecb8ea2786923c0e84"
      }
     },
     "metadata": {},
     "output_type": "display_data"
    },
    {
     "name": "stdout",
     "output_type": "stream",
     "text": [
      "Iteration No: 23 ended. Search finished for the next optimal point.\n",
      "Time taken: 102.3484\n",
      "Function value obtained: 0.4911\n",
      "Current minimum: 0.1106\n",
      "Iteration No: 24 started. Searching for the next optimal point.\n",
      "Training model with config: 3-conv-layers_2-filters_6-kernel-size_same-padding_(sigmoid)--1-dense_layers_(relu)--avg_pool_(3)_0.1_batchnorm\n"
     ]
    },
    {
     "data": {
      "text/plain": "Training the model on each dataset...:   0%|          | 0/3 [00:00<?, ?dataset/s]",
      "application/vnd.jupyter.widget-view+json": {
       "version_major": 2,
       "version_minor": 0,
       "model_id": "3a5bc64d5ad348af9f4beb20cc1940bd"
      }
     },
     "metadata": {},
     "output_type": "display_data"
    },
    {
     "data": {
      "text/plain": "Training electric_devices_3-conv-layers_2-filters_6-kernel-size_same-padding_(sigmoid)--1-dense_layers_(relu)-…",
      "application/vnd.jupyter.widget-view+json": {
       "version_major": 2,
       "version_minor": 0,
       "model_id": "57cbf820a481429cb55884cfd9963e07"
      }
     },
     "metadata": {},
     "output_type": "display_data"
    },
    {
     "data": {
      "text/plain": "Training freezers_3-conv-layers_2-filters_6-kernel-size_same-padding_(sigmoid)--1-dense_layers_(relu)--avg_poo…",
      "application/vnd.jupyter.widget-view+json": {
       "version_major": 2,
       "version_minor": 0,
       "model_id": "b23b414c3840445e8c99c1e6868d4293"
      }
     },
     "metadata": {},
     "output_type": "display_data"
    },
    {
     "data": {
      "text/plain": "Training sony_robot_3-conv-layers_2-filters_6-kernel-size_same-padding_(sigmoid)--1-dense_layers_(relu)--avg_p…",
      "application/vnd.jupyter.widget-view+json": {
       "version_major": 2,
       "version_minor": 0,
       "model_id": "f13b6751020a49189617d3c691335cdf"
      }
     },
     "metadata": {},
     "output_type": "display_data"
    },
    {
     "name": "stdout",
     "output_type": "stream",
     "text": [
      "Iteration No: 24 ended. Search finished for the next optimal point.\n",
      "Time taken: 66.3721\n",
      "Function value obtained: 0.6151\n",
      "Current minimum: 0.1106\n",
      "Iteration No: 25 started. Searching for the next optimal point.\n",
      "Training model with config: 4-conv-layers_2-filters_7-kernel-size_causal-padding_(relu)--1-dense_layers_(relu)--avg_pool_(2)_0.2_batchnorm\n"
     ]
    },
    {
     "data": {
      "text/plain": "Training the model on each dataset...:   0%|          | 0/3 [00:00<?, ?dataset/s]",
      "application/vnd.jupyter.widget-view+json": {
       "version_major": 2,
       "version_minor": 0,
       "model_id": "48c7d5c0be2342c6b043e2b5697c0d46"
      }
     },
     "metadata": {},
     "output_type": "display_data"
    },
    {
     "data": {
      "text/plain": "Training electric_devices_4-conv-layers_2-filters_7-kernel-size_causal-padding_(relu)--1-dense_layers_(relu)--…",
      "application/vnd.jupyter.widget-view+json": {
       "version_major": 2,
       "version_minor": 0,
       "model_id": "fb3fc07d88234235b7b2346071574653"
      }
     },
     "metadata": {},
     "output_type": "display_data"
    },
    {
     "data": {
      "text/plain": "Training freezers_4-conv-layers_2-filters_7-kernel-size_causal-padding_(relu)--1-dense_layers_(relu)--avg_pool…",
      "application/vnd.jupyter.widget-view+json": {
       "version_major": 2,
       "version_minor": 0,
       "model_id": "a2c78a3dd7d4452685b65a5a7a5eadef"
      }
     },
     "metadata": {},
     "output_type": "display_data"
    },
    {
     "data": {
      "text/plain": "Training sony_robot_4-conv-layers_2-filters_7-kernel-size_causal-padding_(relu)--1-dense_layers_(relu)--avg_po…",
      "application/vnd.jupyter.widget-view+json": {
       "version_major": 2,
       "version_minor": 0,
       "model_id": "400c9c4f65e04d9a83cabe1ac2b4f0c6"
      }
     },
     "metadata": {},
     "output_type": "display_data"
    },
    {
     "name": "stdout",
     "output_type": "stream",
     "text": [
      "Iteration No: 25 ended. Search finished for the next optimal point.\n",
      "Time taken: 77.3865\n",
      "Function value obtained: 0.4758\n",
      "Current minimum: 0.1106\n",
      "Iteration No: 26 started. Searching for the next optimal point.\n",
      "Training model with config: 3-conv-layers_2-filters_6-kernel-size_same-padding_(relu)--1-dense_layers_(relu)--avg_pool_(3)_0.1_batchnorm\n"
     ]
    },
    {
     "data": {
      "text/plain": "Training the model on each dataset...:   0%|          | 0/3 [00:00<?, ?dataset/s]",
      "application/vnd.jupyter.widget-view+json": {
       "version_major": 2,
       "version_minor": 0,
       "model_id": "77bd3e6ac4c6444ab4037bdaaf58293b"
      }
     },
     "metadata": {},
     "output_type": "display_data"
    },
    {
     "data": {
      "text/plain": "Training electric_devices_3-conv-layers_2-filters_6-kernel-size_same-padding_(relu)--1-dense_layers_(relu)--av…",
      "application/vnd.jupyter.widget-view+json": {
       "version_major": 2,
       "version_minor": 0,
       "model_id": "89f771f86d584f20aabee163cc4a99cc"
      }
     },
     "metadata": {},
     "output_type": "display_data"
    },
    {
     "data": {
      "text/plain": "Training freezers_3-conv-layers_2-filters_6-kernel-size_same-padding_(relu)--1-dense_layers_(relu)--avg_pool_(…",
      "application/vnd.jupyter.widget-view+json": {
       "version_major": 2,
       "version_minor": 0,
       "model_id": "e201bf8a967845879f711d83440d0ba1"
      }
     },
     "metadata": {},
     "output_type": "display_data"
    },
    {
     "data": {
      "text/plain": "Training sony_robot_3-conv-layers_2-filters_6-kernel-size_same-padding_(relu)--1-dense_layers_(relu)--avg_pool…",
      "application/vnd.jupyter.widget-view+json": {
       "version_major": 2,
       "version_minor": 0,
       "model_id": "f8924a356f464efd80bf26d3c7d14184"
      }
     },
     "metadata": {},
     "output_type": "display_data"
    },
    {
     "name": "stdout",
     "output_type": "stream",
     "text": [
      "Iteration No: 26 ended. Search finished for the next optimal point.\n",
      "Time taken: 68.1979\n",
      "Function value obtained: 0.4574\n",
      "Current minimum: 0.1106\n",
      "Iteration No: 27 started. Searching for the next optimal point.\n",
      "Training model with config: 3-conv-layers_3-filters_6-kernel-size_causal-padding_(relu)--2-dense_layers_(relu)--avg_pool_(2)_0.4_batchnorm\n"
     ]
    },
    {
     "data": {
      "text/plain": "Training the model on each dataset...:   0%|          | 0/3 [00:00<?, ?dataset/s]",
      "application/vnd.jupyter.widget-view+json": {
       "version_major": 2,
       "version_minor": 0,
       "model_id": "567b7588a5f8455abc6caa96dc54c0f5"
      }
     },
     "metadata": {},
     "output_type": "display_data"
    },
    {
     "data": {
      "text/plain": "Training electric_devices_3-conv-layers_3-filters_6-kernel-size_causal-padding_(relu)--2-dense_layers_(relu)--…",
      "application/vnd.jupyter.widget-view+json": {
       "version_major": 2,
       "version_minor": 0,
       "model_id": "fb551e59df2c42c0b95d140442df0053"
      }
     },
     "metadata": {},
     "output_type": "display_data"
    },
    {
     "data": {
      "text/plain": "Training freezers_3-conv-layers_3-filters_6-kernel-size_causal-padding_(relu)--2-dense_layers_(relu)--avg_pool…",
      "application/vnd.jupyter.widget-view+json": {
       "version_major": 2,
       "version_minor": 0,
       "model_id": "657bc5ddf1e640ba84626da2cafb0c7c"
      }
     },
     "metadata": {},
     "output_type": "display_data"
    },
    {
     "data": {
      "text/plain": "Training sony_robot_3-conv-layers_3-filters_6-kernel-size_causal-padding_(relu)--2-dense_layers_(relu)--avg_po…",
      "application/vnd.jupyter.widget-view+json": {
       "version_major": 2,
       "version_minor": 0,
       "model_id": "6178733e32aa47cb9085d22634f83e9d"
      }
     },
     "metadata": {},
     "output_type": "display_data"
    },
    {
     "name": "stdout",
     "output_type": "stream",
     "text": [
      "Iteration No: 27 ended. Search finished for the next optimal point.\n",
      "Time taken: 77.0340\n",
      "Function value obtained: 0.1774\n",
      "Current minimum: 0.1106\n",
      "Iteration No: 28 started. Searching for the next optimal point.\n",
      "Training model with config: 3-conv-layers_10-filters_5-kernel-size_causal-padding_(relu)--2-dense_layers_(relu)--max_pool_(2)__batchnorm\n"
     ]
    },
    {
     "data": {
      "text/plain": "Training the model on each dataset...:   0%|          | 0/3 [00:00<?, ?dataset/s]",
      "application/vnd.jupyter.widget-view+json": {
       "version_major": 2,
       "version_minor": 0,
       "model_id": "1a4cd6405fa14ab78cc13b4e8b9b4df2"
      }
     },
     "metadata": {},
     "output_type": "display_data"
    },
    {
     "data": {
      "text/plain": "Training electric_devices_3-conv-layers_10-filters_5-kernel-size_causal-padding_(relu)--2-dense_layers_(relu)-…",
      "application/vnd.jupyter.widget-view+json": {
       "version_major": 2,
       "version_minor": 0,
       "model_id": "8370a1caed3442b69f5361c2cde2ffe6"
      }
     },
     "metadata": {},
     "output_type": "display_data"
    },
    {
     "data": {
      "text/plain": "Training freezers_3-conv-layers_10-filters_5-kernel-size_causal-padding_(relu)--2-dense_layers_(relu)--max_poo…",
      "application/vnd.jupyter.widget-view+json": {
       "version_major": 2,
       "version_minor": 0,
       "model_id": "2accbfb5cfb94110a979179e321dea27"
      }
     },
     "metadata": {},
     "output_type": "display_data"
    },
    {
     "data": {
      "text/plain": "Training sony_robot_3-conv-layers_10-filters_5-kernel-size_causal-padding_(relu)--2-dense_layers_(relu)--max_p…",
      "application/vnd.jupyter.widget-view+json": {
       "version_major": 2,
       "version_minor": 0,
       "model_id": "72d2081608bd45678d22a3c4aa8ffbb9"
      }
     },
     "metadata": {},
     "output_type": "display_data"
    },
    {
     "name": "stdout",
     "output_type": "stream",
     "text": [
      "Iteration No: 28 ended. Search finished for the next optimal point.\n",
      "Time taken: 71.4540\n",
      "Function value obtained: 0.1160\n",
      "Current minimum: 0.1106\n",
      "Iteration No: 29 started. Searching for the next optimal point.\n",
      "Training model with config: 1-conv-layers_5-filters_6-kernel-size_same-padding_(relu)--1-dense_layers_(sigmoid)--avg_pool_(2)__batchnorm\n"
     ]
    },
    {
     "data": {
      "text/plain": "Training the model on each dataset...:   0%|          | 0/3 [00:00<?, ?dataset/s]",
      "application/vnd.jupyter.widget-view+json": {
       "version_major": 2,
       "version_minor": 0,
       "model_id": "4b573f237196467d9fa5fc11380068d9"
      }
     },
     "metadata": {},
     "output_type": "display_data"
    },
    {
     "data": {
      "text/plain": "Training electric_devices_1-conv-layers_5-filters_6-kernel-size_same-padding_(relu)--1-dense_layers_(sigmoid)-…",
      "application/vnd.jupyter.widget-view+json": {
       "version_major": 2,
       "version_minor": 0,
       "model_id": "3f81d85247d04f019a5a0891639e6886"
      }
     },
     "metadata": {},
     "output_type": "display_data"
    },
    {
     "data": {
      "text/plain": "Training freezers_1-conv-layers_5-filters_6-kernel-size_same-padding_(relu)--1-dense_layers_(sigmoid)--avg_poo…",
      "application/vnd.jupyter.widget-view+json": {
       "version_major": 2,
       "version_minor": 0,
       "model_id": "b51977b3a1ea40349575026059fdbda6"
      }
     },
     "metadata": {},
     "output_type": "display_data"
    },
    {
     "data": {
      "text/plain": "Training sony_robot_1-conv-layers_5-filters_6-kernel-size_same-padding_(relu)--1-dense_layers_(sigmoid)--avg_p…",
      "application/vnd.jupyter.widget-view+json": {
       "version_major": 2,
       "version_minor": 0,
       "model_id": "3820d1040ce74020ba6e6c9ddec6b0ce"
      }
     },
     "metadata": {},
     "output_type": "display_data"
    },
    {
     "name": "stdout",
     "output_type": "stream",
     "text": [
      "Iteration No: 29 ended. Search finished for the next optimal point.\n",
      "Time taken: 39.7059\n",
      "Function value obtained: 0.1248\n",
      "Current minimum: 0.1106\n",
      "Iteration No: 30 started. Searching for the next optimal point.\n",
      "Training model with config: 4-conv-layers_10-filters_4-kernel-size_causal-padding_(sigmoid)--2-dense_layers_(relu)--avg_pool_(2)_\n"
     ]
    },
    {
     "data": {
      "text/plain": "Training the model on each dataset...:   0%|          | 0/3 [00:00<?, ?dataset/s]",
      "application/vnd.jupyter.widget-view+json": {
       "version_major": 2,
       "version_minor": 0,
       "model_id": "7b04809496bc4fe3b2890d763dca5463"
      }
     },
     "metadata": {},
     "output_type": "display_data"
    },
    {
     "data": {
      "text/plain": "Training electric_devices_4-conv-layers_10-filters_4-kernel-size_causal-padding_(sigmoid)--2-dense_layers_(rel…",
      "application/vnd.jupyter.widget-view+json": {
       "version_major": 2,
       "version_minor": 0,
       "model_id": "4f33b1379c0e4633956eb2fa30f6d536"
      }
     },
     "metadata": {},
     "output_type": "display_data"
    },
    {
     "data": {
      "text/plain": "Training freezers_4-conv-layers_10-filters_4-kernel-size_causal-padding_(sigmoid)--2-dense_layers_(relu)--avg_…",
      "application/vnd.jupyter.widget-view+json": {
       "version_major": 2,
       "version_minor": 0,
       "model_id": "fe41573288d649608446f6fc9bf4ccef"
      }
     },
     "metadata": {},
     "output_type": "display_data"
    },
    {
     "data": {
      "text/plain": "Training sony_robot_4-conv-layers_10-filters_4-kernel-size_causal-padding_(sigmoid)--2-dense_layers_(relu)--av…",
      "application/vnd.jupyter.widget-view+json": {
       "version_major": 2,
       "version_minor": 0,
       "model_id": "2c048c356e924e1ea05360d2d31265f2"
      }
     },
     "metadata": {},
     "output_type": "display_data"
    },
    {
     "name": "stdout",
     "output_type": "stream",
     "text": [
      "Iteration No: 30 ended. Search finished for the next optimal point.\n",
      "Time taken: 30.5808\n",
      "Function value obtained: 0.6136\n",
      "Current minimum: 0.1106\n",
      "Iteration No: 31 started. Searching for the next optimal point.\n",
      "Training model with config: 2-conv-layers_3-filters_4-kernel-size_same-padding_(relu)--2-dense_layers_(relu)--max_pool_(2)_\n"
     ]
    },
    {
     "data": {
      "text/plain": "Training the model on each dataset...:   0%|          | 0/3 [00:00<?, ?dataset/s]",
      "application/vnd.jupyter.widget-view+json": {
       "version_major": 2,
       "version_minor": 0,
       "model_id": "ca636df823834addacff49f17c3e4f64"
      }
     },
     "metadata": {},
     "output_type": "display_data"
    },
    {
     "data": {
      "text/plain": "Training electric_devices_2-conv-layers_3-filters_4-kernel-size_same-padding_(relu)--2-dense_layers_(relu)--ma…",
      "application/vnd.jupyter.widget-view+json": {
       "version_major": 2,
       "version_minor": 0,
       "model_id": "c6e04e14a778458ea5039379c616c8a0"
      }
     },
     "metadata": {},
     "output_type": "display_data"
    },
    {
     "data": {
      "text/plain": "Training freezers_2-conv-layers_3-filters_4-kernel-size_same-padding_(relu)--2-dense_layers_(relu)--max_pool_(…",
      "application/vnd.jupyter.widget-view+json": {
       "version_major": 2,
       "version_minor": 0,
       "model_id": "8b51cc54e1f442698b7ab17b0428e32f"
      }
     },
     "metadata": {},
     "output_type": "display_data"
    },
    {
     "data": {
      "text/plain": "Training sony_robot_2-conv-layers_3-filters_4-kernel-size_same-padding_(relu)--2-dense_layers_(relu)--max_pool…",
      "application/vnd.jupyter.widget-view+json": {
       "version_major": 2,
       "version_minor": 0,
       "model_id": "75f050c468904f73a3a418da046cc342"
      }
     },
     "metadata": {},
     "output_type": "display_data"
    },
    {
     "name": "stdout",
     "output_type": "stream",
     "text": [
      "Iteration No: 31 ended. Search finished for the next optimal point.\n",
      "Time taken: 24.4993\n",
      "Function value obtained: 0.1394\n",
      "Current minimum: 0.1106\n",
      "Iteration No: 32 started. Searching for the next optimal point.\n",
      "Training model with config: 2-conv-layers_8-filters_4-kernel-size_same-padding_(relu)--2-dense_layers_(relu)--max_pool_(2)_\n"
     ]
    },
    {
     "data": {
      "text/plain": "Training the model on each dataset...:   0%|          | 0/3 [00:00<?, ?dataset/s]",
      "application/vnd.jupyter.widget-view+json": {
       "version_major": 2,
       "version_minor": 0,
       "model_id": "55bfec09a4434a25b8793a68b4ced9f4"
      }
     },
     "metadata": {},
     "output_type": "display_data"
    },
    {
     "data": {
      "text/plain": "Training electric_devices_2-conv-layers_8-filters_4-kernel-size_same-padding_(relu)--2-dense_layers_(relu)--ma…",
      "application/vnd.jupyter.widget-view+json": {
       "version_major": 2,
       "version_minor": 0,
       "model_id": "381aef9cc382467cb684e822eec0bc9d"
      }
     },
     "metadata": {},
     "output_type": "display_data"
    },
    {
     "data": {
      "text/plain": "Training freezers_2-conv-layers_8-filters_4-kernel-size_same-padding_(relu)--2-dense_layers_(relu)--max_pool_(…",
      "application/vnd.jupyter.widget-view+json": {
       "version_major": 2,
       "version_minor": 0,
       "model_id": "fd2ee64ccbe54bfa9ba05ed1ab759e41"
      }
     },
     "metadata": {},
     "output_type": "display_data"
    },
    {
     "data": {
      "text/plain": "Training sony_robot_2-conv-layers_8-filters_4-kernel-size_same-padding_(relu)--2-dense_layers_(relu)--max_pool…",
      "application/vnd.jupyter.widget-view+json": {
       "version_major": 2,
       "version_minor": 0,
       "model_id": "2301374b58b44f7ea0946f32f8101876"
      }
     },
     "metadata": {},
     "output_type": "display_data"
    },
    {
     "name": "stdout",
     "output_type": "stream",
     "text": [
      "Iteration No: 32 ended. Search finished for the next optimal point.\n",
      "Time taken: 24.7768\n",
      "Function value obtained: 0.1568\n",
      "Current minimum: 0.1106\n",
      "Iteration No: 33 started. Searching for the next optimal point.\n",
      "Training model with config: 1-conv-layers_9-filters_4-kernel-size_causal-padding_(sigmoid)--3-dense_layers_(sigmoid)--avg_pool_(3)_0.9\n"
     ]
    },
    {
     "data": {
      "text/plain": "Training the model on each dataset...:   0%|          | 0/3 [00:00<?, ?dataset/s]",
      "application/vnd.jupyter.widget-view+json": {
       "version_major": 2,
       "version_minor": 0,
       "model_id": "27d328d4882742b0a6934f4e12d26dd9"
      }
     },
     "metadata": {},
     "output_type": "display_data"
    },
    {
     "data": {
      "text/plain": "Training electric_devices_1-conv-layers_9-filters_4-kernel-size_causal-padding_(sigmoid)--3-dense_layers_(sigm…",
      "application/vnd.jupyter.widget-view+json": {
       "version_major": 2,
       "version_minor": 0,
       "model_id": "87cf3e2fa466499583f7405864d14f03"
      }
     },
     "metadata": {},
     "output_type": "display_data"
    },
    {
     "data": {
      "text/plain": "Training freezers_1-conv-layers_9-filters_4-kernel-size_causal-padding_(sigmoid)--3-dense_layers_(sigmoid)--av…",
      "application/vnd.jupyter.widget-view+json": {
       "version_major": 2,
       "version_minor": 0,
       "model_id": "e2359e975f1245c2a07faf7475f34a0a"
      }
     },
     "metadata": {},
     "output_type": "display_data"
    },
    {
     "data": {
      "text/plain": "Training sony_robot_1-conv-layers_9-filters_4-kernel-size_causal-padding_(sigmoid)--3-dense_layers_(sigmoid)--…",
      "application/vnd.jupyter.widget-view+json": {
       "version_major": 2,
       "version_minor": 0,
       "model_id": "ea7c794a4573455588e5c13b749ba2de"
      }
     },
     "metadata": {},
     "output_type": "display_data"
    },
    {
     "name": "stdout",
     "output_type": "stream",
     "text": [
      "Iteration No: 33 ended. Search finished for the next optimal point.\n",
      "Time taken: 30.9054\n",
      "Function value obtained: 0.7476\n",
      "Current minimum: 0.1106\n",
      "Iteration No: 34 started. Searching for the next optimal point.\n",
      "Training model with config: 3-conv-layers_3-filters_5-kernel-size_same-padding_(relu)--2-dense_layers_(sigmoid)--max_pool_(2)__batchnorm\n"
     ]
    },
    {
     "data": {
      "text/plain": "Training the model on each dataset...:   0%|          | 0/3 [00:00<?, ?dataset/s]",
      "application/vnd.jupyter.widget-view+json": {
       "version_major": 2,
       "version_minor": 0,
       "model_id": "7fb29f35e87842f091538e14ce973bda"
      }
     },
     "metadata": {},
     "output_type": "display_data"
    },
    {
     "data": {
      "text/plain": "Training electric_devices_3-conv-layers_3-filters_5-kernel-size_same-padding_(relu)--2-dense_layers_(sigmoid)-…",
      "application/vnd.jupyter.widget-view+json": {
       "version_major": 2,
       "version_minor": 0,
       "model_id": "81af1c36305345679490efd49ae9bfb4"
      }
     },
     "metadata": {},
     "output_type": "display_data"
    },
    {
     "data": {
      "text/plain": "Training freezers_3-conv-layers_3-filters_5-kernel-size_same-padding_(relu)--2-dense_layers_(sigmoid)--max_poo…",
      "application/vnd.jupyter.widget-view+json": {
       "version_major": 2,
       "version_minor": 0,
       "model_id": "7a7e7fc9a1234fae9518908494071a1b"
      }
     },
     "metadata": {},
     "output_type": "display_data"
    },
    {
     "data": {
      "text/plain": "Training sony_robot_3-conv-layers_3-filters_5-kernel-size_same-padding_(relu)--2-dense_layers_(sigmoid)--max_p…",
      "application/vnd.jupyter.widget-view+json": {
       "version_major": 2,
       "version_minor": 0,
       "model_id": "a80339e1cfb24918a57fe8298b138c84"
      }
     },
     "metadata": {},
     "output_type": "display_data"
    },
    {
     "name": "stdout",
     "output_type": "stream",
     "text": [
      "Iteration No: 34 ended. Search finished for the next optimal point.\n",
      "Time taken: 72.7562\n",
      "Function value obtained: 0.1261\n",
      "Current minimum: 0.1106\n",
      "Iteration No: 35 started. Searching for the next optimal point.\n",
      "Training model with config: 3-conv-layers_2-filters_7-kernel-size_causal-padding_(relu)--2-dense_layers_(relu)--max_pool_(2)_\n"
     ]
    },
    {
     "data": {
      "text/plain": "Training the model on each dataset...:   0%|          | 0/3 [00:00<?, ?dataset/s]",
      "application/vnd.jupyter.widget-view+json": {
       "version_major": 2,
       "version_minor": 0,
       "model_id": "8e5b79f1b6124dd5854a3194ec3b06f4"
      }
     },
     "metadata": {},
     "output_type": "display_data"
    },
    {
     "data": {
      "text/plain": "Training electric_devices_3-conv-layers_2-filters_7-kernel-size_causal-padding_(relu)--2-dense_layers_(relu)--…",
      "application/vnd.jupyter.widget-view+json": {
       "version_major": 2,
       "version_minor": 0,
       "model_id": "64813bf56bc040058d7096ce354a9e6c"
      }
     },
     "metadata": {},
     "output_type": "display_data"
    },
    {
     "data": {
      "text/plain": "Training freezers_3-conv-layers_2-filters_7-kernel-size_causal-padding_(relu)--2-dense_layers_(relu)--max_pool…",
      "application/vnd.jupyter.widget-view+json": {
       "version_major": 2,
       "version_minor": 0,
       "model_id": "4c3be47f734b4419a9c222bb5644c7bb"
      }
     },
     "metadata": {},
     "output_type": "display_data"
    },
    {
     "data": {
      "text/plain": "Training sony_robot_3-conv-layers_2-filters_7-kernel-size_causal-padding_(relu)--2-dense_layers_(relu)--max_po…",
      "application/vnd.jupyter.widget-view+json": {
       "version_major": 2,
       "version_minor": 0,
       "model_id": "0dd2a11c85214d60af6c7f2e7d3215ea"
      }
     },
     "metadata": {},
     "output_type": "display_data"
    },
    {
     "name": "stdout",
     "output_type": "stream",
     "text": [
      "Iteration No: 35 ended. Search finished for the next optimal point.\n",
      "Time taken: 27.9449\n",
      "Function value obtained: 0.1480\n",
      "Current minimum: 0.1106\n",
      "Iteration No: 36 started. Searching for the next optimal point.\n",
      "Training model with config: 4-conv-layers_4-filters_4-kernel-size_same-padding_(relu)--2-dense_layers_(sigmoid)--max_pool_(3)_0.9\n"
     ]
    },
    {
     "data": {
      "text/plain": "Training the model on each dataset...:   0%|          | 0/3 [00:00<?, ?dataset/s]",
      "application/vnd.jupyter.widget-view+json": {
       "version_major": 2,
       "version_minor": 0,
       "model_id": "c2cefbd06bc14f6bac41e3840f395bd4"
      }
     },
     "metadata": {},
     "output_type": "display_data"
    },
    {
     "data": {
      "text/plain": "Training electric_devices_4-conv-layers_4-filters_4-kernel-size_same-padding_(relu)--2-dense_layers_(sigmoid)-…",
      "application/vnd.jupyter.widget-view+json": {
       "version_major": 2,
       "version_minor": 0,
       "model_id": "eadbd49d72e744cf9bdf28b1080408f6"
      }
     },
     "metadata": {},
     "output_type": "display_data"
    },
    {
     "data": {
      "text/plain": "Training freezers_4-conv-layers_4-filters_4-kernel-size_same-padding_(relu)--2-dense_layers_(sigmoid)--max_poo…",
      "application/vnd.jupyter.widget-view+json": {
       "version_major": 2,
       "version_minor": 0,
       "model_id": "a4c9f5ecca394bd39c703bccbf1b88a9"
      }
     },
     "metadata": {},
     "output_type": "display_data"
    },
    {
     "name": "stdout",
     "output_type": "stream",
     "text": [
      "Error while training model with config 4-conv-layers_4-filters_4-kernel-size_same-padding_(relu)--2-dense_layers_(sigmoid)--max_pool_(3)_0.9: Exception encountered when calling layer \"max_pooling1d_119\" (type MaxPooling1D).\n",
      "\n",
      "Negative dimension size caused by subtracting 3 from 2 for '{{node max_pooling1d_119/MaxPool}} = MaxPool[T=DT_FLOAT, data_format=\"NHWC\", explicit_paddings=[], ksize=[1, 3, 1, 1], padding=\"VALID\", strides=[1, 3, 1, 1]](max_pooling1d_119/ExpandDims)' with input shapes: [?,2,1,4].\n",
      "\n",
      "Call arguments received by layer \"max_pooling1d_119\" (type MaxPooling1D):\n",
      "  • inputs=tf.Tensor(shape=(None, 2, 4), dtype=float32)\n",
      "Iteration No: 36 ended. Search finished for the next optimal point.\n",
      "Time taken: 36.7284\n",
      "Function value obtained: 1.0000\n",
      "Current minimum: 0.1106\n",
      "Iteration No: 37 started. Searching for the next optimal point.\n",
      "Training model with config: 3-conv-layers_2-filters_6-kernel-size_causal-padding_(relu)--2-dense_layers_(relu)--avg_pool_(2)_0.2_batchnorm\n"
     ]
    },
    {
     "data": {
      "text/plain": "Training the model on each dataset...:   0%|          | 0/3 [00:00<?, ?dataset/s]",
      "application/vnd.jupyter.widget-view+json": {
       "version_major": 2,
       "version_minor": 0,
       "model_id": "26d74cd586b4486980d18be12b0c657e"
      }
     },
     "metadata": {},
     "output_type": "display_data"
    },
    {
     "data": {
      "text/plain": "Training electric_devices_3-conv-layers_2-filters_6-kernel-size_causal-padding_(relu)--2-dense_layers_(relu)--…",
      "application/vnd.jupyter.widget-view+json": {
       "version_major": 2,
       "version_minor": 0,
       "model_id": "d9d2c59deecf4aac87f60d985d374e98"
      }
     },
     "metadata": {},
     "output_type": "display_data"
    },
    {
     "data": {
      "text/plain": "Training freezers_3-conv-layers_2-filters_6-kernel-size_causal-padding_(relu)--2-dense_layers_(relu)--avg_pool…",
      "application/vnd.jupyter.widget-view+json": {
       "version_major": 2,
       "version_minor": 0,
       "model_id": "c17d5c0e6ccc453f8ba2ee4e411c4b03"
      }
     },
     "metadata": {},
     "output_type": "display_data"
    },
    {
     "data": {
      "text/plain": "Training sony_robot_3-conv-layers_2-filters_6-kernel-size_causal-padding_(relu)--2-dense_layers_(relu)--avg_po…",
      "application/vnd.jupyter.widget-view+json": {
       "version_major": 2,
       "version_minor": 0,
       "model_id": "acaae796e6f24fd8979f488f8bfa7bfc"
      }
     },
     "metadata": {},
     "output_type": "display_data"
    },
    {
     "name": "stdout",
     "output_type": "stream",
     "text": [
      "Iteration No: 37 ended. Search finished for the next optimal point.\n",
      "Time taken: 78.5407\n",
      "Function value obtained: 0.5227\n",
      "Current minimum: 0.1106\n",
      "Iteration No: 38 started. Searching for the next optimal point.\n",
      "Training model with config: 1-conv-layers_10-filters_3-kernel-size_causal-padding_(relu)--1-dense_layers_(relu)--max_pool_(2)_\n"
     ]
    },
    {
     "data": {
      "text/plain": "Training the model on each dataset...:   0%|          | 0/3 [00:00<?, ?dataset/s]",
      "application/vnd.jupyter.widget-view+json": {
       "version_major": 2,
       "version_minor": 0,
       "model_id": "c2f86bafb133413daad93ac695f1ec17"
      }
     },
     "metadata": {},
     "output_type": "display_data"
    },
    {
     "data": {
      "text/plain": "Training electric_devices_1-conv-layers_10-filters_3-kernel-size_causal-padding_(relu)--1-dense_layers_(relu)-…",
      "application/vnd.jupyter.widget-view+json": {
       "version_major": 2,
       "version_minor": 0,
       "model_id": "0a87b6e9fd784d2b9e1865a4f8614f12"
      }
     },
     "metadata": {},
     "output_type": "display_data"
    },
    {
     "data": {
      "text/plain": "Training freezers_1-conv-layers_10-filters_3-kernel-size_causal-padding_(relu)--1-dense_layers_(relu)--max_poo…",
      "application/vnd.jupyter.widget-view+json": {
       "version_major": 2,
       "version_minor": 0,
       "model_id": "548e7cfeaa454d93800b0ac861c8d50e"
      }
     },
     "metadata": {},
     "output_type": "display_data"
    },
    {
     "name": "stdout",
     "output_type": "stream",
     "text": [
      "WARNING:tensorflow:Callback method `on_train_batch_end` is slow compared to the batch time (batch time: 0.0022s vs `on_train_batch_end` time: 0.0030s). Check your callbacks.\n"
     ]
    },
    {
     "data": {
      "text/plain": "Training sony_robot_1-conv-layers_10-filters_3-kernel-size_causal-padding_(relu)--1-dense_layers_(relu)--max_p…",
      "application/vnd.jupyter.widget-view+json": {
       "version_major": 2,
       "version_minor": 0,
       "model_id": "3e0808ef77754c389e568975a083e9ab"
      }
     },
     "metadata": {},
     "output_type": "display_data"
    },
    {
     "name": "stdout",
     "output_type": "stream",
     "text": [
      "Iteration No: 38 ended. Search finished for the next optimal point.\n",
      "Time taken: 20.0995\n",
      "Function value obtained: 0.1226\n",
      "Current minimum: 0.1106\n",
      "Iteration No: 39 started. Searching for the next optimal point.\n",
      "Training model with config: 1-conv-layers_8-filters_4-kernel-size_causal-padding_(relu)--1-dense_layers_(relu)--max_pool_(2)_\n"
     ]
    },
    {
     "data": {
      "text/plain": "Training the model on each dataset...:   0%|          | 0/3 [00:00<?, ?dataset/s]",
      "application/vnd.jupyter.widget-view+json": {
       "version_major": 2,
       "version_minor": 0,
       "model_id": "b48f883388ef405186af006ac3910371"
      }
     },
     "metadata": {},
     "output_type": "display_data"
    },
    {
     "data": {
      "text/plain": "Training electric_devices_1-conv-layers_8-filters_4-kernel-size_causal-padding_(relu)--1-dense_layers_(relu)--…",
      "application/vnd.jupyter.widget-view+json": {
       "version_major": 2,
       "version_minor": 0,
       "model_id": "70da2ab22a2f48c49a67b68c5d9eb2f6"
      }
     },
     "metadata": {},
     "output_type": "display_data"
    },
    {
     "data": {
      "text/plain": "Training freezers_1-conv-layers_8-filters_4-kernel-size_causal-padding_(relu)--1-dense_layers_(relu)--max_pool…",
      "application/vnd.jupyter.widget-view+json": {
       "version_major": 2,
       "version_minor": 0,
       "model_id": "b5f9ead6c45040fd82b83572985fbefa"
      }
     },
     "metadata": {},
     "output_type": "display_data"
    },
    {
     "data": {
      "text/plain": "Training sony_robot_1-conv-layers_8-filters_4-kernel-size_causal-padding_(relu)--1-dense_layers_(relu)--max_po…",
      "application/vnd.jupyter.widget-view+json": {
       "version_major": 2,
       "version_minor": 0,
       "model_id": "8d8acb89957b405eaf7ae71aeda69973"
      }
     },
     "metadata": {},
     "output_type": "display_data"
    },
    {
     "name": "stdout",
     "output_type": "stream",
     "text": [
      "Iteration No: 39 ended. Search finished for the next optimal point.\n",
      "Time taken: 20.1535\n",
      "Function value obtained: 0.1417\n",
      "Current minimum: 0.1106\n",
      "Iteration No: 40 started. Searching for the next optimal point.\n",
      "Training model with config: 1-conv-layers_10-filters_3-kernel-size_causal-padding_(relu)--1-dense_layers_(relu)--max_pool_(2)_\n"
     ]
    },
    {
     "name": "stderr",
     "output_type": "stream",
     "text": [
      "C:\\Users\\timwi\\Documents\\Uni\\EnsembleBasedTSC\\venv\\lib\\site-packages\\skopt\\optimizer\\optimizer.py:449: UserWarning: The objective has been evaluated at this point before.\n",
      "  warnings.warn(\"The objective has been evaluated \"\n"
     ]
    },
    {
     "data": {
      "text/plain": "Training the model on each dataset...:   0%|          | 0/3 [00:00<?, ?dataset/s]",
      "application/vnd.jupyter.widget-view+json": {
       "version_major": 2,
       "version_minor": 0,
       "model_id": "d597962fdf33457eaccfeb72bae7f81d"
      }
     },
     "metadata": {},
     "output_type": "display_data"
    },
    {
     "data": {
      "text/plain": "Training electric_devices_1-conv-layers_10-filters_3-kernel-size_causal-padding_(relu)--1-dense_layers_(relu)-…",
      "application/vnd.jupyter.widget-view+json": {
       "version_major": 2,
       "version_minor": 0,
       "model_id": "5318a3f5c1854b2cba8fce38f18857e0"
      }
     },
     "metadata": {},
     "output_type": "display_data"
    },
    {
     "data": {
      "text/plain": "Training freezers_1-conv-layers_10-filters_3-kernel-size_causal-padding_(relu)--1-dense_layers_(relu)--max_poo…",
      "application/vnd.jupyter.widget-view+json": {
       "version_major": 2,
       "version_minor": 0,
       "model_id": "104821b25ca84edf8a713b3cb6b99c3c"
      }
     },
     "metadata": {},
     "output_type": "display_data"
    },
    {
     "name": "stdout",
     "output_type": "stream",
     "text": [
      "WARNING:tensorflow:Callback method `on_train_batch_end` is slow compared to the batch time (batch time: 0.0022s vs `on_train_batch_end` time: 0.0031s). Check your callbacks.\n"
     ]
    },
    {
     "data": {
      "text/plain": "Training sony_robot_1-conv-layers_10-filters_3-kernel-size_causal-padding_(relu)--1-dense_layers_(relu)--max_p…",
      "application/vnd.jupyter.widget-view+json": {
       "version_major": 2,
       "version_minor": 0,
       "model_id": "ab1a1fcf2e4548c89dbe53db900aaf7b"
      }
     },
     "metadata": {},
     "output_type": "display_data"
    },
    {
     "name": "stdout",
     "output_type": "stream",
     "text": [
      "Iteration No: 40 ended. Search finished for the next optimal point.\n",
      "Time taken: 20.6916\n",
      "Function value obtained: 0.1094\n",
      "Current minimum: 0.1094\n",
      "Iteration No: 41 started. Searching for the next optimal point.\n",
      "Training model with config: 2-conv-layers_4-filters_7-kernel-size_causal-padding_(relu)--3-dense_layers_(relu)--max_pool_(2)_0.2_batchnorm\n"
     ]
    },
    {
     "data": {
      "text/plain": "Training the model on each dataset...:   0%|          | 0/3 [00:00<?, ?dataset/s]",
      "application/vnd.jupyter.widget-view+json": {
       "version_major": 2,
       "version_minor": 0,
       "model_id": "f3f294718e8840cd923a407ddb4a4fb2"
      }
     },
     "metadata": {},
     "output_type": "display_data"
    },
    {
     "data": {
      "text/plain": "Training electric_devices_2-conv-layers_4-filters_7-kernel-size_causal-padding_(relu)--3-dense_layers_(relu)--…",
      "application/vnd.jupyter.widget-view+json": {
       "version_major": 2,
       "version_minor": 0,
       "model_id": "c732ca8765a44c958940845fe3a6fbc7"
      }
     },
     "metadata": {},
     "output_type": "display_data"
    },
    {
     "data": {
      "text/plain": "Training freezers_2-conv-layers_4-filters_7-kernel-size_causal-padding_(relu)--3-dense_layers_(relu)--max_pool…",
      "application/vnd.jupyter.widget-view+json": {
       "version_major": 2,
       "version_minor": 0,
       "model_id": "0b9bebf86437429db3ae775a246a6d02"
      }
     },
     "metadata": {},
     "output_type": "display_data"
    },
    {
     "data": {
      "text/plain": "Training sony_robot_2-conv-layers_4-filters_7-kernel-size_causal-padding_(relu)--3-dense_layers_(relu)--max_po…",
      "application/vnd.jupyter.widget-view+json": {
       "version_major": 2,
       "version_minor": 0,
       "model_id": "96b5c2ef4022476ea08434bee3bb8735"
      }
     },
     "metadata": {},
     "output_type": "display_data"
    },
    {
     "name": "stdout",
     "output_type": "stream",
     "text": [
      "Iteration No: 41 ended. Search finished for the next optimal point.\n",
      "Time taken: 76.0988\n",
      "Function value obtained: 0.4894\n",
      "Current minimum: 0.1094\n",
      "Iteration No: 42 started. Searching for the next optimal point.\n",
      "Training model with config: 1-conv-layers_2-filters_3-kernel-size_same-padding_(sigmoid)--2-dense_layers_(relu)--avg_pool_(2)__batchnorm\n"
     ]
    },
    {
     "data": {
      "text/plain": "Training the model on each dataset...:   0%|          | 0/3 [00:00<?, ?dataset/s]",
      "application/vnd.jupyter.widget-view+json": {
       "version_major": 2,
       "version_minor": 0,
       "model_id": "5a8fe98a04fc476582184cdf6a5a63c1"
      }
     },
     "metadata": {},
     "output_type": "display_data"
    },
    {
     "data": {
      "text/plain": "Training electric_devices_1-conv-layers_2-filters_3-kernel-size_same-padding_(sigmoid)--2-dense_layers_(relu)-…",
      "application/vnd.jupyter.widget-view+json": {
       "version_major": 2,
       "version_minor": 0,
       "model_id": "53af4d3447e8484187a5929666305fe2"
      }
     },
     "metadata": {},
     "output_type": "display_data"
    },
    {
     "data": {
      "text/plain": "Training freezers_1-conv-layers_2-filters_3-kernel-size_same-padding_(sigmoid)--2-dense_layers_(relu)--avg_poo…",
      "application/vnd.jupyter.widget-view+json": {
       "version_major": 2,
       "version_minor": 0,
       "model_id": "0993c38b39a343b8976a5dad5b0c1a10"
      }
     },
     "metadata": {},
     "output_type": "display_data"
    },
    {
     "data": {
      "text/plain": "Training sony_robot_1-conv-layers_2-filters_3-kernel-size_same-padding_(sigmoid)--2-dense_layers_(relu)--avg_p…",
      "application/vnd.jupyter.widget-view+json": {
       "version_major": 2,
       "version_minor": 0,
       "model_id": "d0e380ae210a4c01846d9de7c76f21bc"
      }
     },
     "metadata": {},
     "output_type": "display_data"
    },
    {
     "name": "stdout",
     "output_type": "stream",
     "text": [
      "Iteration No: 42 ended. Search finished for the next optimal point.\n",
      "Time taken: 45.8675\n",
      "Function value obtained: 0.1529\n",
      "Current minimum: 0.1094\n",
      "Iteration No: 43 started. Searching for the next optimal point.\n",
      "Training model with config: 1-conv-layers_2-filters_3-kernel-size_causal-padding_(relu)--2-dense_layers_(relu)--avg_pool_(2)_\n"
     ]
    },
    {
     "data": {
      "text/plain": "Training the model on each dataset...:   0%|          | 0/3 [00:00<?, ?dataset/s]",
      "application/vnd.jupyter.widget-view+json": {
       "version_major": 2,
       "version_minor": 0,
       "model_id": "25accfd6001048cdbc2afcb446b3b05d"
      }
     },
     "metadata": {},
     "output_type": "display_data"
    },
    {
     "data": {
      "text/plain": "Training electric_devices_1-conv-layers_2-filters_3-kernel-size_causal-padding_(relu)--2-dense_layers_(relu)--…",
      "application/vnd.jupyter.widget-view+json": {
       "version_major": 2,
       "version_minor": 0,
       "model_id": "8577d3b867aa421a9ca2eff3ffac0670"
      }
     },
     "metadata": {},
     "output_type": "display_data"
    },
    {
     "data": {
      "text/plain": "Training freezers_1-conv-layers_2-filters_3-kernel-size_causal-padding_(relu)--2-dense_layers_(relu)--avg_pool…",
      "application/vnd.jupyter.widget-view+json": {
       "version_major": 2,
       "version_minor": 0,
       "model_id": "c158f779285949ba86c3823fff7d52e9"
      }
     },
     "metadata": {},
     "output_type": "display_data"
    },
    {
     "data": {
      "text/plain": "Training sony_robot_1-conv-layers_2-filters_3-kernel-size_causal-padding_(relu)--2-dense_layers_(relu)--avg_po…",
      "application/vnd.jupyter.widget-view+json": {
       "version_major": 2,
       "version_minor": 0,
       "model_id": "15b04df572a94748bb0d777786aa44b8"
      }
     },
     "metadata": {},
     "output_type": "display_data"
    },
    {
     "name": "stdout",
     "output_type": "stream",
     "text": [
      "Iteration No: 43 ended. Search finished for the next optimal point.\n",
      "Time taken: 23.0215\n",
      "Function value obtained: 0.1639\n",
      "Current minimum: 0.1094\n",
      "Iteration No: 44 started. Searching for the next optimal point.\n",
      "Training model with config: 2-conv-layers_4-filters_6-kernel-size_causal-padding_(relu)--2-dense_layers_(relu)--avg_pool_(2)_0.1_batchnorm\n"
     ]
    },
    {
     "data": {
      "text/plain": "Training the model on each dataset...:   0%|          | 0/3 [00:00<?, ?dataset/s]",
      "application/vnd.jupyter.widget-view+json": {
       "version_major": 2,
       "version_minor": 0,
       "model_id": "63098fe8f590403cbdbe3ac9c3c29474"
      }
     },
     "metadata": {},
     "output_type": "display_data"
    },
    {
     "data": {
      "text/plain": "Training electric_devices_2-conv-layers_4-filters_6-kernel-size_causal-padding_(relu)--2-dense_layers_(relu)--…",
      "application/vnd.jupyter.widget-view+json": {
       "version_major": 2,
       "version_minor": 0,
       "model_id": "52c59d72d72e40e8b991b0616c6f0392"
      }
     },
     "metadata": {},
     "output_type": "display_data"
    },
    {
     "data": {
      "text/plain": "Training freezers_2-conv-layers_4-filters_6-kernel-size_causal-padding_(relu)--2-dense_layers_(relu)--avg_pool…",
      "application/vnd.jupyter.widget-view+json": {
       "version_major": 2,
       "version_minor": 0,
       "model_id": "f80cd545d80e47c99b80dedd4e63a0a7"
      }
     },
     "metadata": {},
     "output_type": "display_data"
    },
    {
     "data": {
      "text/plain": "Training sony_robot_2-conv-layers_4-filters_6-kernel-size_causal-padding_(relu)--2-dense_layers_(relu)--avg_po…",
      "application/vnd.jupyter.widget-view+json": {
       "version_major": 2,
       "version_minor": 0,
       "model_id": "ead3bec0bf1347ff9ea68187ce5f0a96"
      }
     },
     "metadata": {},
     "output_type": "display_data"
    },
    {
     "name": "stdout",
     "output_type": "stream",
     "text": [
      "Iteration No: 44 ended. Search finished for the next optimal point.\n",
      "Time taken: 63.7036\n",
      "Function value obtained: 0.1060\n",
      "Current minimum: 0.1060\n",
      "Iteration No: 45 started. Searching for the next optimal point.\n",
      "Training model with config: 2-conv-layers_5-filters_7-kernel-size_causal-padding_(relu)--2-dense_layers_(relu)--max_pool_(3)_0.1_batchnorm\n"
     ]
    },
    {
     "data": {
      "text/plain": "Training the model on each dataset...:   0%|          | 0/3 [00:00<?, ?dataset/s]",
      "application/vnd.jupyter.widget-view+json": {
       "version_major": 2,
       "version_minor": 0,
       "model_id": "417aea3f624c4d75ab338895d60d9693"
      }
     },
     "metadata": {},
     "output_type": "display_data"
    },
    {
     "data": {
      "text/plain": "Training electric_devices_2-conv-layers_5-filters_7-kernel-size_causal-padding_(relu)--2-dense_layers_(relu)--…",
      "application/vnd.jupyter.widget-view+json": {
       "version_major": 2,
       "version_minor": 0,
       "model_id": "1b21764dc29b4185b93414e543d40b72"
      }
     },
     "metadata": {},
     "output_type": "display_data"
    },
    {
     "data": {
      "text/plain": "Training freezers_2-conv-layers_5-filters_7-kernel-size_causal-padding_(relu)--2-dense_layers_(relu)--max_pool…",
      "application/vnd.jupyter.widget-view+json": {
       "version_major": 2,
       "version_minor": 0,
       "model_id": "dc888fdf0d9d4ec093d6d095d9ab8872"
      }
     },
     "metadata": {},
     "output_type": "display_data"
    },
    {
     "data": {
      "text/plain": "Training sony_robot_2-conv-layers_5-filters_7-kernel-size_causal-padding_(relu)--2-dense_layers_(relu)--max_po…",
      "application/vnd.jupyter.widget-view+json": {
       "version_major": 2,
       "version_minor": 0,
       "model_id": "9761077c5895456f9fa148d1cdf84538"
      }
     },
     "metadata": {},
     "output_type": "display_data"
    },
    {
     "name": "stdout",
     "output_type": "stream",
     "text": [
      "Iteration No: 45 ended. Search finished for the next optimal point.\n",
      "Time taken: 65.3184\n",
      "Function value obtained: 0.1070\n",
      "Current minimum: 0.1060\n",
      "Iteration No: 46 started. Searching for the next optimal point.\n",
      "Training model with config: 1-conv-layers_10-filters_3-kernel-size_same-padding_(relu)--2-dense_layers_(relu)--avg_pool_(3)_0.30000000000000004_batchnorm\n"
     ]
    },
    {
     "data": {
      "text/plain": "Training the model on each dataset...:   0%|          | 0/3 [00:00<?, ?dataset/s]",
      "application/vnd.jupyter.widget-view+json": {
       "version_major": 2,
       "version_minor": 0,
       "model_id": "568eed0d5f1f40f681829bb3e0c5f775"
      }
     },
     "metadata": {},
     "output_type": "display_data"
    },
    {
     "data": {
      "text/plain": "Training electric_devices_1-conv-layers_10-filters_3-kernel-size_same-padding_(relu)--2-dense_layers_(relu)--a…",
      "application/vnd.jupyter.widget-view+json": {
       "version_major": 2,
       "version_minor": 0,
       "model_id": "5cf6914d81724fe4a59ddb63f95b4c03"
      }
     },
     "metadata": {},
     "output_type": "display_data"
    },
    {
     "data": {
      "text/plain": "Training freezers_1-conv-layers_10-filters_3-kernel-size_same-padding_(relu)--2-dense_layers_(relu)--avg_pool_…",
      "application/vnd.jupyter.widget-view+json": {
       "version_major": 2,
       "version_minor": 0,
       "model_id": "f29f24d0077447fa9db5d3ce58261ab4"
      }
     },
     "metadata": {},
     "output_type": "display_data"
    },
    {
     "data": {
      "text/plain": "Training sony_robot_1-conv-layers_10-filters_3-kernel-size_same-padding_(relu)--2-dense_layers_(relu)--avg_poo…",
      "application/vnd.jupyter.widget-view+json": {
       "version_major": 2,
       "version_minor": 0,
       "model_id": "21cedda15320407aa59eb727872e23f8"
      }
     },
     "metadata": {},
     "output_type": "display_data"
    },
    {
     "name": "stdout",
     "output_type": "stream",
     "text": [
      "Iteration No: 46 ended. Search finished for the next optimal point.\n",
      "Time taken: 53.3793\n",
      "Function value obtained: 0.1118\n",
      "Current minimum: 0.1060\n",
      "Iteration No: 47 started. Searching for the next optimal point.\n",
      "Training model with config: 3-conv-layers_5-filters_7-kernel-size_causal-padding_(relu)--2-dense_layers_(relu)--avg_pool_(2)_0.1_batchnorm\n"
     ]
    },
    {
     "data": {
      "text/plain": "Training the model on each dataset...:   0%|          | 0/3 [00:00<?, ?dataset/s]",
      "application/vnd.jupyter.widget-view+json": {
       "version_major": 2,
       "version_minor": 0,
       "model_id": "3943b41b97a345bfbfa68c0bb0246153"
      }
     },
     "metadata": {},
     "output_type": "display_data"
    },
    {
     "data": {
      "text/plain": "Training electric_devices_3-conv-layers_5-filters_7-kernel-size_causal-padding_(relu)--2-dense_layers_(relu)--…",
      "application/vnd.jupyter.widget-view+json": {
       "version_major": 2,
       "version_minor": 0,
       "model_id": "909b64dc867e43639efe0f2b373bd9da"
      }
     },
     "metadata": {},
     "output_type": "display_data"
    },
    {
     "data": {
      "text/plain": "Training freezers_3-conv-layers_5-filters_7-kernel-size_causal-padding_(relu)--2-dense_layers_(relu)--avg_pool…",
      "application/vnd.jupyter.widget-view+json": {
       "version_major": 2,
       "version_minor": 0,
       "model_id": "291a7898fe904593822d6df5a03bc987"
      }
     },
     "metadata": {},
     "output_type": "display_data"
    },
    {
     "data": {
      "text/plain": "Training sony_robot_3-conv-layers_5-filters_7-kernel-size_causal-padding_(relu)--2-dense_layers_(relu)--avg_po…",
      "application/vnd.jupyter.widget-view+json": {
       "version_major": 2,
       "version_minor": 0,
       "model_id": "ce0a6ed55f6f49298298d519b080ad09"
      }
     },
     "metadata": {},
     "output_type": "display_data"
    },
    {
     "name": "stdout",
     "output_type": "stream",
     "text": [
      "Iteration No: 47 ended. Search finished for the next optimal point.\n",
      "Time taken: 77.6811\n",
      "Function value obtained: 0.4514\n",
      "Current minimum: 0.1060\n",
      "Iteration No: 48 started. Searching for the next optimal point.\n",
      "Training model with config: 1-conv-layers_2-filters_3-kernel-size_same-padding_(relu)--2-dense_layers_(relu)--max_pool_(2)__batchnorm\n"
     ]
    },
    {
     "data": {
      "text/plain": "Training the model on each dataset...:   0%|          | 0/3 [00:00<?, ?dataset/s]",
      "application/vnd.jupyter.widget-view+json": {
       "version_major": 2,
       "version_minor": 0,
       "model_id": "eb8a6fe96eb24b73a97f225504d1f426"
      }
     },
     "metadata": {},
     "output_type": "display_data"
    },
    {
     "data": {
      "text/plain": "Training electric_devices_1-conv-layers_2-filters_3-kernel-size_same-padding_(relu)--2-dense_layers_(relu)--ma…",
      "application/vnd.jupyter.widget-view+json": {
       "version_major": 2,
       "version_minor": 0,
       "model_id": "48db55dc9398493ab7af314300c1b921"
      }
     },
     "metadata": {},
     "output_type": "display_data"
    },
    {
     "data": {
      "text/plain": "Training freezers_1-conv-layers_2-filters_3-kernel-size_same-padding_(relu)--2-dense_layers_(relu)--max_pool_(…",
      "application/vnd.jupyter.widget-view+json": {
       "version_major": 2,
       "version_minor": 0,
       "model_id": "47409e27a99b4b1ca963714f510294cd"
      }
     },
     "metadata": {},
     "output_type": "display_data"
    },
    {
     "data": {
      "text/plain": "Training sony_robot_1-conv-layers_2-filters_3-kernel-size_same-padding_(relu)--2-dense_layers_(relu)--max_pool…",
      "application/vnd.jupyter.widget-view+json": {
       "version_major": 2,
       "version_minor": 0,
       "model_id": "e2df156d424b4f89a58070622804c566"
      }
     },
     "metadata": {},
     "output_type": "display_data"
    },
    {
     "name": "stdout",
     "output_type": "stream",
     "text": [
      "Iteration No: 48 ended. Search finished for the next optimal point.\n",
      "Time taken: 46.6261\n",
      "Function value obtained: 0.1405\n",
      "Current minimum: 0.1060\n",
      "Iteration No: 49 started. Searching for the next optimal point.\n",
      "Training model with config: 1-conv-layers_2-filters_3-kernel-size_same-padding_(relu)--2-dense_layers_(relu)--avg_pool_(4)_\n"
     ]
    },
    {
     "data": {
      "text/plain": "Training the model on each dataset...:   0%|          | 0/3 [00:00<?, ?dataset/s]",
      "application/vnd.jupyter.widget-view+json": {
       "version_major": 2,
       "version_minor": 0,
       "model_id": "30e005140df84cc98576cd30ca7ce757"
      }
     },
     "metadata": {},
     "output_type": "display_data"
    },
    {
     "data": {
      "text/plain": "Training electric_devices_1-conv-layers_2-filters_3-kernel-size_same-padding_(relu)--2-dense_layers_(relu)--av…",
      "application/vnd.jupyter.widget-view+json": {
       "version_major": 2,
       "version_minor": 0,
       "model_id": "e49494d1ce8e4db19dbc5032759ea0e9"
      }
     },
     "metadata": {},
     "output_type": "display_data"
    },
    {
     "data": {
      "text/plain": "Training freezers_1-conv-layers_2-filters_3-kernel-size_same-padding_(relu)--2-dense_layers_(relu)--avg_pool_(…",
      "application/vnd.jupyter.widget-view+json": {
       "version_major": 2,
       "version_minor": 0,
       "model_id": "b0b504fbc00a4000b09a90986170916e"
      }
     },
     "metadata": {},
     "output_type": "display_data"
    },
    {
     "data": {
      "text/plain": "Training sony_robot_1-conv-layers_2-filters_3-kernel-size_same-padding_(relu)--2-dense_layers_(relu)--avg_pool…",
      "application/vnd.jupyter.widget-view+json": {
       "version_major": 2,
       "version_minor": 0,
       "model_id": "da581aaf649e40f198fb83c96a9b94b1"
      }
     },
     "metadata": {},
     "output_type": "display_data"
    },
    {
     "name": "stdout",
     "output_type": "stream",
     "text": [
      "Iteration No: 49 ended. Search finished for the next optimal point.\n",
      "Time taken: 22.0158\n",
      "Function value obtained: 0.1750\n",
      "Current minimum: 0.1060\n",
      "Iteration No: 50 started. Searching for the next optimal point.\n",
      "Training model with config: 1-conv-layers_7-filters_3-kernel-size_same-padding_(relu)--2-dense_layers_(relu)--avg_pool_(2)_0.4_batchnorm\n"
     ]
    },
    {
     "data": {
      "text/plain": "Training the model on each dataset...:   0%|          | 0/3 [00:00<?, ?dataset/s]",
      "application/vnd.jupyter.widget-view+json": {
       "version_major": 2,
       "version_minor": 0,
       "model_id": "f7e36ac9e2ce45c4b55c9a1bc9737d7a"
      }
     },
     "metadata": {},
     "output_type": "display_data"
    },
    {
     "data": {
      "text/plain": "Training electric_devices_1-conv-layers_7-filters_3-kernel-size_same-padding_(relu)--2-dense_layers_(relu)--av…",
      "application/vnd.jupyter.widget-view+json": {
       "version_major": 2,
       "version_minor": 0,
       "model_id": "bb5f2ecc6b4842eab0cca3feab9fc9eb"
      }
     },
     "metadata": {},
     "output_type": "display_data"
    },
    {
     "data": {
      "text/plain": "Training freezers_1-conv-layers_7-filters_3-kernel-size_same-padding_(relu)--2-dense_layers_(relu)--avg_pool_(…",
      "application/vnd.jupyter.widget-view+json": {
       "version_major": 2,
       "version_minor": 0,
       "model_id": "b35645dfc2bf4b15b86920948de9682d"
      }
     },
     "metadata": {},
     "output_type": "display_data"
    },
    {
     "data": {
      "text/plain": "Training sony_robot_1-conv-layers_7-filters_3-kernel-size_same-padding_(relu)--2-dense_layers_(relu)--avg_pool…",
      "application/vnd.jupyter.widget-view+json": {
       "version_major": 2,
       "version_minor": 0,
       "model_id": "ce362afdf9864ae8a5fafa9e6f2514b2"
      }
     },
     "metadata": {},
     "output_type": "display_data"
    },
    {
     "name": "stdout",
     "output_type": "stream",
     "text": [
      "Iteration No: 50 ended. Search finished for the next optimal point.\n",
      "Time taken: 50.2858\n",
      "Function value obtained: 0.1202\n",
      "Current minimum: 0.1060\n",
      "Iteration No: 51 started. Searching for the next optimal point.\n",
      "Training model with config: 2-conv-layers_9-filters_5-kernel-size_causal-padding_(relu)--2-dense_layers_(relu)--max_pool_(3)_0.1_batchnorm\n"
     ]
    },
    {
     "data": {
      "text/plain": "Training the model on each dataset...:   0%|          | 0/3 [00:00<?, ?dataset/s]",
      "application/vnd.jupyter.widget-view+json": {
       "version_major": 2,
       "version_minor": 0,
       "model_id": "effa23b05ee64608be1d4b205486a661"
      }
     },
     "metadata": {},
     "output_type": "display_data"
    },
    {
     "data": {
      "text/plain": "Training electric_devices_2-conv-layers_9-filters_5-kernel-size_causal-padding_(relu)--2-dense_layers_(relu)--…",
      "application/vnd.jupyter.widget-view+json": {
       "version_major": 2,
       "version_minor": 0,
       "model_id": "7e4f591e8caf42eaa2ce9e6ccb026e13"
      }
     },
     "metadata": {},
     "output_type": "display_data"
    },
    {
     "data": {
      "text/plain": "Training freezers_2-conv-layers_9-filters_5-kernel-size_causal-padding_(relu)--2-dense_layers_(relu)--max_pool…",
      "application/vnd.jupyter.widget-view+json": {
       "version_major": 2,
       "version_minor": 0,
       "model_id": "c10d536e34b7465a81f1277547d5c9d9"
      }
     },
     "metadata": {},
     "output_type": "display_data"
    },
    {
     "data": {
      "text/plain": "Training sony_robot_2-conv-layers_9-filters_5-kernel-size_causal-padding_(relu)--2-dense_layers_(relu)--max_po…",
      "application/vnd.jupyter.widget-view+json": {
       "version_major": 2,
       "version_minor": 0,
       "model_id": "b7444e0a95614b9ba2805f836d4329ff"
      }
     },
     "metadata": {},
     "output_type": "display_data"
    },
    {
     "name": "stdout",
     "output_type": "stream",
     "text": [
      "Iteration No: 51 ended. Search finished for the next optimal point.\n",
      "Time taken: 64.5208\n",
      "Function value obtained: 0.1169\n",
      "Current minimum: 0.1060\n",
      "Iteration No: 52 started. Searching for the next optimal point.\n",
      "Training model with config: 2-conv-layers_8-filters_6-kernel-size_same-padding_(relu)--2-dense_layers_(relu)--max_pool_(2)_0.1_batchnorm\n"
     ]
    },
    {
     "data": {
      "text/plain": "Training the model on each dataset...:   0%|          | 0/3 [00:00<?, ?dataset/s]",
      "application/vnd.jupyter.widget-view+json": {
       "version_major": 2,
       "version_minor": 0,
       "model_id": "195bf1c37de84036be7c927265c38123"
      }
     },
     "metadata": {},
     "output_type": "display_data"
    },
    {
     "data": {
      "text/plain": "Training electric_devices_2-conv-layers_8-filters_6-kernel-size_same-padding_(relu)--2-dense_layers_(relu)--ma…",
      "application/vnd.jupyter.widget-view+json": {
       "version_major": 2,
       "version_minor": 0,
       "model_id": "d5b6cd06b71e406890090c3abc17123b"
      }
     },
     "metadata": {},
     "output_type": "display_data"
    },
    {
     "data": {
      "text/plain": "Training freezers_2-conv-layers_8-filters_6-kernel-size_same-padding_(relu)--2-dense_layers_(relu)--max_pool_(…",
      "application/vnd.jupyter.widget-view+json": {
       "version_major": 2,
       "version_minor": 0,
       "model_id": "bbaf8b8314c74eb29131ec7a745d22bc"
      }
     },
     "metadata": {},
     "output_type": "display_data"
    },
    {
     "data": {
      "text/plain": "Training sony_robot_2-conv-layers_8-filters_6-kernel-size_same-padding_(relu)--2-dense_layers_(relu)--max_pool…",
      "application/vnd.jupyter.widget-view+json": {
       "version_major": 2,
       "version_minor": 0,
       "model_id": "c2bbe8b60277421c9fb6bfb34821f25f"
      }
     },
     "metadata": {},
     "output_type": "display_data"
    },
    {
     "name": "stdout",
     "output_type": "stream",
     "text": [
      "Iteration No: 52 ended. Search finished for the next optimal point.\n",
      "Time taken: 63.7271\n",
      "Function value obtained: 0.1394\n",
      "Current minimum: 0.1060\n",
      "Iteration No: 53 started. Searching for the next optimal point.\n",
      "Training model with config: 2-conv-layers_6-filters_4-kernel-size_causal-padding_(relu)--2-dense_layers_(relu)--max_pool_(4)_0.2_batchnorm\n"
     ]
    },
    {
     "data": {
      "text/plain": "Training the model on each dataset...:   0%|          | 0/3 [00:00<?, ?dataset/s]",
      "application/vnd.jupyter.widget-view+json": {
       "version_major": 2,
       "version_minor": 0,
       "model_id": "25aebce9d5d449118b48b360a3afabfc"
      }
     },
     "metadata": {},
     "output_type": "display_data"
    },
    {
     "data": {
      "text/plain": "Training electric_devices_2-conv-layers_6-filters_4-kernel-size_causal-padding_(relu)--2-dense_layers_(relu)--…",
      "application/vnd.jupyter.widget-view+json": {
       "version_major": 2,
       "version_minor": 0,
       "model_id": "4f91d087aba445d9aeafaf8d51cac1a5"
      }
     },
     "metadata": {},
     "output_type": "display_data"
    },
    {
     "data": {
      "text/plain": "Training freezers_2-conv-layers_6-filters_4-kernel-size_causal-padding_(relu)--2-dense_layers_(relu)--max_pool…",
      "application/vnd.jupyter.widget-view+json": {
       "version_major": 2,
       "version_minor": 0,
       "model_id": "3cdd08b59eff4002a2fd73ae2e3e8d4e"
      }
     },
     "metadata": {},
     "output_type": "display_data"
    },
    {
     "data": {
      "text/plain": "Training sony_robot_2-conv-layers_6-filters_4-kernel-size_causal-padding_(relu)--2-dense_layers_(relu)--max_po…",
      "application/vnd.jupyter.widget-view+json": {
       "version_major": 2,
       "version_minor": 0,
       "model_id": "eba8ea7ae59c485a95df157d541b4452"
      }
     },
     "metadata": {},
     "output_type": "display_data"
    },
    {
     "name": "stdout",
     "output_type": "stream",
     "text": [
      "Iteration No: 53 ended. Search finished for the next optimal point.\n",
      "Time taken: 66.3826\n",
      "Function value obtained: 0.2595\n",
      "Current minimum: 0.1060\n",
      "Iteration No: 54 started. Searching for the next optimal point.\n",
      "Training model with config: 2-conv-layers_2-filters_7-kernel-size_causal-padding_(relu)--2-dense_layers_(relu)--avg_pool_(2)_0.1_batchnorm\n"
     ]
    },
    {
     "data": {
      "text/plain": "Training the model on each dataset...:   0%|          | 0/3 [00:00<?, ?dataset/s]",
      "application/vnd.jupyter.widget-view+json": {
       "version_major": 2,
       "version_minor": 0,
       "model_id": "16dbae3ad2e2464789ad45200a239f18"
      }
     },
     "metadata": {},
     "output_type": "display_data"
    },
    {
     "data": {
      "text/plain": "Training electric_devices_2-conv-layers_2-filters_7-kernel-size_causal-padding_(relu)--2-dense_layers_(relu)--…",
      "application/vnd.jupyter.widget-view+json": {
       "version_major": 2,
       "version_minor": 0,
       "model_id": "fbc2cea8b4394e9bb9cd2471005cefe5"
      }
     },
     "metadata": {},
     "output_type": "display_data"
    },
    {
     "data": {
      "text/plain": "Training freezers_2-conv-layers_2-filters_7-kernel-size_causal-padding_(relu)--2-dense_layers_(relu)--avg_pool…",
      "application/vnd.jupyter.widget-view+json": {
       "version_major": 2,
       "version_minor": 0,
       "model_id": "f3d91367981e49ff9a310d80c8251583"
      }
     },
     "metadata": {},
     "output_type": "display_data"
    },
    {
     "data": {
      "text/plain": "Training sony_robot_2-conv-layers_2-filters_7-kernel-size_causal-padding_(relu)--2-dense_layers_(relu)--avg_po…",
      "application/vnd.jupyter.widget-view+json": {
       "version_major": 2,
       "version_minor": 0,
       "model_id": "0904eddde4634313bff664c66bd83eee"
      }
     },
     "metadata": {},
     "output_type": "display_data"
    },
    {
     "name": "stdout",
     "output_type": "stream",
     "text": [
      "Iteration No: 54 ended. Search finished for the next optimal point.\n",
      "Time taken: 67.3023\n",
      "Function value obtained: 0.1353\n",
      "Current minimum: 0.1060\n",
      "Iteration No: 55 started. Searching for the next optimal point.\n",
      "Training model with config: 2-conv-layers_2-filters_7-kernel-size_causal-padding_(relu)--2-dense_layers_(relu)--max_pool_(2)_0.1_batchnorm\n"
     ]
    },
    {
     "data": {
      "text/plain": "Training the model on each dataset...:   0%|          | 0/3 [00:00<?, ?dataset/s]",
      "application/vnd.jupyter.widget-view+json": {
       "version_major": 2,
       "version_minor": 0,
       "model_id": "efea4e0a977b4a049cab42f6b6f04fbe"
      }
     },
     "metadata": {},
     "output_type": "display_data"
    },
    {
     "data": {
      "text/plain": "Training electric_devices_2-conv-layers_2-filters_7-kernel-size_causal-padding_(relu)--2-dense_layers_(relu)--…",
      "application/vnd.jupyter.widget-view+json": {
       "version_major": 2,
       "version_minor": 0,
       "model_id": "f82ec5652cad4a8a9633817a3859fff7"
      }
     },
     "metadata": {},
     "output_type": "display_data"
    },
    {
     "data": {
      "text/plain": "Training freezers_2-conv-layers_2-filters_7-kernel-size_causal-padding_(relu)--2-dense_layers_(relu)--max_pool…",
      "application/vnd.jupyter.widget-view+json": {
       "version_major": 2,
       "version_minor": 0,
       "model_id": "9063e541c6784d52a174896aa8e1ed7d"
      }
     },
     "metadata": {},
     "output_type": "display_data"
    },
    {
     "data": {
      "text/plain": "Training sony_robot_2-conv-layers_2-filters_7-kernel-size_causal-padding_(relu)--2-dense_layers_(relu)--max_po…",
      "application/vnd.jupyter.widget-view+json": {
       "version_major": 2,
       "version_minor": 0,
       "model_id": "9296cd9d84f24d9395dd4af1a87aa654"
      }
     },
     "metadata": {},
     "output_type": "display_data"
    },
    {
     "name": "stdout",
     "output_type": "stream",
     "text": [
      "Iteration No: 55 ended. Search finished for the next optimal point.\n",
      "Time taken: 67.4898\n",
      "Function value obtained: 0.1913\n",
      "Current minimum: 0.1060\n",
      "Iteration No: 56 started. Searching for the next optimal point.\n",
      "Training model with config: 2-conv-layers_8-filters_6-kernel-size_same-padding_(relu)--1-dense_layers_(relu)--avg_pool_(2)_0.1_batchnorm\n"
     ]
    },
    {
     "data": {
      "text/plain": "Training the model on each dataset...:   0%|          | 0/3 [00:00<?, ?dataset/s]",
      "application/vnd.jupyter.widget-view+json": {
       "version_major": 2,
       "version_minor": 0,
       "model_id": "dee47999ec324fe4bfd1f6127795e5da"
      }
     },
     "metadata": {},
     "output_type": "display_data"
    },
    {
     "data": {
      "text/plain": "Training electric_devices_2-conv-layers_8-filters_6-kernel-size_same-padding_(relu)--1-dense_layers_(relu)--av…",
      "application/vnd.jupyter.widget-view+json": {
       "version_major": 2,
       "version_minor": 0,
       "model_id": "686791a01dd74e75b09eec007d7abb63"
      }
     },
     "metadata": {},
     "output_type": "display_data"
    },
    {
     "data": {
      "text/plain": "Training freezers_2-conv-layers_8-filters_6-kernel-size_same-padding_(relu)--1-dense_layers_(relu)--avg_pool_(…",
      "application/vnd.jupyter.widget-view+json": {
       "version_major": 2,
       "version_minor": 0,
       "model_id": "da45660511e6473092553bb37e33e0c8"
      }
     },
     "metadata": {},
     "output_type": "display_data"
    },
    {
     "data": {
      "text/plain": "Training sony_robot_2-conv-layers_8-filters_6-kernel-size_same-padding_(relu)--1-dense_layers_(relu)--avg_pool…",
      "application/vnd.jupyter.widget-view+json": {
       "version_major": 2,
       "version_minor": 0,
       "model_id": "288594b68f824135a33e20d9b7f36cdc"
      }
     },
     "metadata": {},
     "output_type": "display_data"
    },
    {
     "name": "stdout",
     "output_type": "stream",
     "text": [
      "Iteration No: 56 ended. Search finished for the next optimal point.\n",
      "Time taken: 54.7386\n",
      "Function value obtained: 0.1446\n",
      "Current minimum: 0.1060\n",
      "Iteration No: 57 started. Searching for the next optimal point.\n",
      "Training model with config: 2-conv-layers_7-filters_7-kernel-size_same-padding_(relu)--2-dense_layers_(relu)--avg_pool_(2)_0.4\n"
     ]
    },
    {
     "data": {
      "text/plain": "Training the model on each dataset...:   0%|          | 0/3 [00:00<?, ?dataset/s]",
      "application/vnd.jupyter.widget-view+json": {
       "version_major": 2,
       "version_minor": 0,
       "model_id": "fcdd17a6a84949b49a72c817dfee826c"
      }
     },
     "metadata": {},
     "output_type": "display_data"
    },
    {
     "data": {
      "text/plain": "Training electric_devices_2-conv-layers_7-filters_7-kernel-size_same-padding_(relu)--2-dense_layers_(relu)--av…",
      "application/vnd.jupyter.widget-view+json": {
       "version_major": 2,
       "version_minor": 0,
       "model_id": "d2ef45a20ac24470a01f9daf3cc5b7db"
      }
     },
     "metadata": {},
     "output_type": "display_data"
    },
    {
     "data": {
      "text/plain": "Training freezers_2-conv-layers_7-filters_7-kernel-size_same-padding_(relu)--2-dense_layers_(relu)--avg_pool_(…",
      "application/vnd.jupyter.widget-view+json": {
       "version_major": 2,
       "version_minor": 0,
       "model_id": "a670c3425fef477ba100073a19ccb033"
      }
     },
     "metadata": {},
     "output_type": "display_data"
    },
    {
     "data": {
      "text/plain": "Training sony_robot_2-conv-layers_7-filters_7-kernel-size_same-padding_(relu)--2-dense_layers_(relu)--avg_pool…",
      "application/vnd.jupyter.widget-view+json": {
       "version_major": 2,
       "version_minor": 0,
       "model_id": "41bfa1c5fa5b405885bde21eb51b4562"
      }
     },
     "metadata": {},
     "output_type": "display_data"
    },
    {
     "name": "stdout",
     "output_type": "stream",
     "text": [
      "Iteration No: 57 ended. Search finished for the next optimal point.\n",
      "Time taken: 29.6537\n",
      "Function value obtained: 0.1613\n",
      "Current minimum: 0.1060\n",
      "Iteration No: 58 started. Searching for the next optimal point.\n",
      "Training model with config: 2-conv-layers_7-filters_7-kernel-size_same-padding_(relu)--2-dense_layers_(relu)--max_pool_(2)_0.1_batchnorm\n"
     ]
    },
    {
     "data": {
      "text/plain": "Training the model on each dataset...:   0%|          | 0/3 [00:00<?, ?dataset/s]",
      "application/vnd.jupyter.widget-view+json": {
       "version_major": 2,
       "version_minor": 0,
       "model_id": "c56d5700ae994de695cdb3da82ef8b24"
      }
     },
     "metadata": {},
     "output_type": "display_data"
    },
    {
     "data": {
      "text/plain": "Training electric_devices_2-conv-layers_7-filters_7-kernel-size_same-padding_(relu)--2-dense_layers_(relu)--ma…",
      "application/vnd.jupyter.widget-view+json": {
       "version_major": 2,
       "version_minor": 0,
       "model_id": "01ca6a02c68f4c48ae0cc57ef5a403f4"
      }
     },
     "metadata": {},
     "output_type": "display_data"
    },
    {
     "data": {
      "text/plain": "Training freezers_2-conv-layers_7-filters_7-kernel-size_same-padding_(relu)--2-dense_layers_(relu)--max_pool_(…",
      "application/vnd.jupyter.widget-view+json": {
       "version_major": 2,
       "version_minor": 0,
       "model_id": "d94b26d9010845f5a00ce9183168f53e"
      }
     },
     "metadata": {},
     "output_type": "display_data"
    },
    {
     "data": {
      "text/plain": "Training sony_robot_2-conv-layers_7-filters_7-kernel-size_same-padding_(relu)--2-dense_layers_(relu)--max_pool…",
      "application/vnd.jupyter.widget-view+json": {
       "version_major": 2,
       "version_minor": 0,
       "model_id": "2132b62fcefd4bbf8da701dad4b7fbfe"
      }
     },
     "metadata": {},
     "output_type": "display_data"
    },
    {
     "name": "stdout",
     "output_type": "stream",
     "text": [
      "Iteration No: 58 ended. Search finished for the next optimal point.\n",
      "Time taken: 66.0415\n",
      "Function value obtained: 0.1281\n",
      "Current minimum: 0.1060\n",
      "Iteration No: 59 started. Searching for the next optimal point.\n",
      "Training model with config: 2-conv-layers_8-filters_7-kernel-size_same-padding_(relu)--2-dense_layers_(relu)--max_pool_(2)_0.1_batchnorm\n"
     ]
    },
    {
     "data": {
      "text/plain": "Training the model on each dataset...:   0%|          | 0/3 [00:00<?, ?dataset/s]",
      "application/vnd.jupyter.widget-view+json": {
       "version_major": 2,
       "version_minor": 0,
       "model_id": "888bd984248c477f9cb19142a2ccbeb5"
      }
     },
     "metadata": {},
     "output_type": "display_data"
    },
    {
     "data": {
      "text/plain": "Training electric_devices_2-conv-layers_8-filters_7-kernel-size_same-padding_(relu)--2-dense_layers_(relu)--ma…",
      "application/vnd.jupyter.widget-view+json": {
       "version_major": 2,
       "version_minor": 0,
       "model_id": "fe52f845f5694c6290ee75d49b33b565"
      }
     },
     "metadata": {},
     "output_type": "display_data"
    },
    {
     "data": {
      "text/plain": "Training freezers_2-conv-layers_8-filters_7-kernel-size_same-padding_(relu)--2-dense_layers_(relu)--max_pool_(…",
      "application/vnd.jupyter.widget-view+json": {
       "version_major": 2,
       "version_minor": 0,
       "model_id": "755d7ab1a5f64aa1bf5266469bb4bb0a"
      }
     },
     "metadata": {},
     "output_type": "display_data"
    },
    {
     "data": {
      "text/plain": "Training sony_robot_2-conv-layers_8-filters_7-kernel-size_same-padding_(relu)--2-dense_layers_(relu)--max_pool…",
      "application/vnd.jupyter.widget-view+json": {
       "version_major": 2,
       "version_minor": 0,
       "model_id": "cc7856f0e6534620b0570702b3fef69b"
      }
     },
     "metadata": {},
     "output_type": "display_data"
    },
    {
     "name": "stdout",
     "output_type": "stream",
     "text": [
      "Iteration No: 59 ended. Search finished for the next optimal point.\n",
      "Time taken: 64.5543\n",
      "Function value obtained: 0.1097\n",
      "Current minimum: 0.1060\n",
      "Iteration No: 60 started. Searching for the next optimal point.\n",
      "Training model with config: 2-conv-layers_10-filters_7-kernel-size_same-padding_(relu)--2-dense_layers_(relu)--max_pool_(2)_0.1_batchnorm\n"
     ]
    },
    {
     "data": {
      "text/plain": "Training the model on each dataset...:   0%|          | 0/3 [00:00<?, ?dataset/s]",
      "application/vnd.jupyter.widget-view+json": {
       "version_major": 2,
       "version_minor": 0,
       "model_id": "e9c750efbf8a46fca00bf4d03df21414"
      }
     },
     "metadata": {},
     "output_type": "display_data"
    },
    {
     "data": {
      "text/plain": "Training electric_devices_2-conv-layers_10-filters_7-kernel-size_same-padding_(relu)--2-dense_layers_(relu)--m…",
      "application/vnd.jupyter.widget-view+json": {
       "version_major": 2,
       "version_minor": 0,
       "model_id": "91e6eef5f7d84e498dbc12e3db8ee6ed"
      }
     },
     "metadata": {},
     "output_type": "display_data"
    },
    {
     "data": {
      "text/plain": "Training freezers_2-conv-layers_10-filters_7-kernel-size_same-padding_(relu)--2-dense_layers_(relu)--max_pool_…",
      "application/vnd.jupyter.widget-view+json": {
       "version_major": 2,
       "version_minor": 0,
       "model_id": "65726d0b72bc49d3a35ce475e2d4e7ae"
      }
     },
     "metadata": {},
     "output_type": "display_data"
    },
    {
     "data": {
      "text/plain": "Training sony_robot_2-conv-layers_10-filters_7-kernel-size_same-padding_(relu)--2-dense_layers_(relu)--max_poo…",
      "application/vnd.jupyter.widget-view+json": {
       "version_major": 2,
       "version_minor": 0,
       "model_id": "db6de36802d5413297b2137ca2847ac2"
      }
     },
     "metadata": {},
     "output_type": "display_data"
    },
    {
     "name": "stdout",
     "output_type": "stream",
     "text": [
      "Iteration No: 60 ended. Search finished for the next optimal point.\n",
      "Time taken: 66.3636\n",
      "Function value obtained: 0.1188\n",
      "Current minimum: 0.1060\n",
      "Iteration No: 61 started. Searching for the next optimal point.\n",
      "Training model with config: 2-conv-layers_10-filters_6-kernel-size_same-padding_(relu)--2-dense_layers_(relu)--avg_pool_(2)_0.1_batchnorm\n"
     ]
    },
    {
     "data": {
      "text/plain": "Training the model on each dataset...:   0%|          | 0/3 [00:00<?, ?dataset/s]",
      "application/vnd.jupyter.widget-view+json": {
       "version_major": 2,
       "version_minor": 0,
       "model_id": "5190cccc15214834b994e2f243466ab1"
      }
     },
     "metadata": {},
     "output_type": "display_data"
    },
    {
     "data": {
      "text/plain": "Training electric_devices_2-conv-layers_10-filters_6-kernel-size_same-padding_(relu)--2-dense_layers_(relu)--a…",
      "application/vnd.jupyter.widget-view+json": {
       "version_major": 2,
       "version_minor": 0,
       "model_id": "5caac0256e1845c584944a68193db5e3"
      }
     },
     "metadata": {},
     "output_type": "display_data"
    },
    {
     "data": {
      "text/plain": "Training freezers_2-conv-layers_10-filters_6-kernel-size_same-padding_(relu)--2-dense_layers_(relu)--avg_pool_…",
      "application/vnd.jupyter.widget-view+json": {
       "version_major": 2,
       "version_minor": 0,
       "model_id": "7b4ebd1ac55d4701bfea4066fb8be007"
      }
     },
     "metadata": {},
     "output_type": "display_data"
    },
    {
     "data": {
      "text/plain": "Training sony_robot_2-conv-layers_10-filters_6-kernel-size_same-padding_(relu)--2-dense_layers_(relu)--avg_poo…",
      "application/vnd.jupyter.widget-view+json": {
       "version_major": 2,
       "version_minor": 0,
       "model_id": "dcdf5e4d925a4082bf4beb8cc8800bc9"
      }
     },
     "metadata": {},
     "output_type": "display_data"
    },
    {
     "name": "stdout",
     "output_type": "stream",
     "text": [
      "Iteration No: 61 ended. Search finished for the next optimal point.\n",
      "Time taken: 65.4369\n",
      "Function value obtained: 0.1554\n",
      "Current minimum: 0.1060\n",
      "Iteration No: 62 started. Searching for the next optimal point.\n",
      "Training model with config: 2-conv-layers_9-filters_7-kernel-size_same-padding_(relu)--2-dense_layers_(relu)--max_pool_(2)_0.1_batchnorm\n"
     ]
    },
    {
     "data": {
      "text/plain": "Training the model on each dataset...:   0%|          | 0/3 [00:00<?, ?dataset/s]",
      "application/vnd.jupyter.widget-view+json": {
       "version_major": 2,
       "version_minor": 0,
       "model_id": "ec6d6e8a015748b0905bee8dc0d42ffa"
      }
     },
     "metadata": {},
     "output_type": "display_data"
    },
    {
     "data": {
      "text/plain": "Training electric_devices_2-conv-layers_9-filters_7-kernel-size_same-padding_(relu)--2-dense_layers_(relu)--ma…",
      "application/vnd.jupyter.widget-view+json": {
       "version_major": 2,
       "version_minor": 0,
       "model_id": "4c41854e58ea4cb69043c3c12b111585"
      }
     },
     "metadata": {},
     "output_type": "display_data"
    },
    {
     "data": {
      "text/plain": "Training freezers_2-conv-layers_9-filters_7-kernel-size_same-padding_(relu)--2-dense_layers_(relu)--max_pool_(…",
      "application/vnd.jupyter.widget-view+json": {
       "version_major": 2,
       "version_minor": 0,
       "model_id": "76cc7a35e8b848168877ea716f23990a"
      }
     },
     "metadata": {},
     "output_type": "display_data"
    },
    {
     "data": {
      "text/plain": "Training sony_robot_2-conv-layers_9-filters_7-kernel-size_same-padding_(relu)--2-dense_layers_(relu)--max_pool…",
      "application/vnd.jupyter.widget-view+json": {
       "version_major": 2,
       "version_minor": 0,
       "model_id": "0bbf52636468424cb1359d1168ab0d76"
      }
     },
     "metadata": {},
     "output_type": "display_data"
    },
    {
     "name": "stdout",
     "output_type": "stream",
     "text": [
      "Iteration No: 62 ended. Search finished for the next optimal point.\n",
      "Time taken: 63.7681\n",
      "Function value obtained: 0.1137\n",
      "Current minimum: 0.1060\n",
      "Iteration No: 63 started. Searching for the next optimal point.\n",
      "Training model with config: 2-conv-layers_6-filters_6-kernel-size_same-padding_(relu)--2-dense_layers_(relu)--max_pool_(2)_0.1_batchnorm\n"
     ]
    },
    {
     "data": {
      "text/plain": "Training the model on each dataset...:   0%|          | 0/3 [00:00<?, ?dataset/s]",
      "application/vnd.jupyter.widget-view+json": {
       "version_major": 2,
       "version_minor": 0,
       "model_id": "f7f49ea156b6420397ed28992adcde20"
      }
     },
     "metadata": {},
     "output_type": "display_data"
    },
    {
     "data": {
      "text/plain": "Training electric_devices_2-conv-layers_6-filters_6-kernel-size_same-padding_(relu)--2-dense_layers_(relu)--ma…",
      "application/vnd.jupyter.widget-view+json": {
       "version_major": 2,
       "version_minor": 0,
       "model_id": "83be644034a64742a76c292b42639aa4"
      }
     },
     "metadata": {},
     "output_type": "display_data"
    },
    {
     "data": {
      "text/plain": "Training freezers_2-conv-layers_6-filters_6-kernel-size_same-padding_(relu)--2-dense_layers_(relu)--max_pool_(…",
      "application/vnd.jupyter.widget-view+json": {
       "version_major": 2,
       "version_minor": 0,
       "model_id": "c28c5339a86047a998a84268529e28ce"
      }
     },
     "metadata": {},
     "output_type": "display_data"
    },
    {
     "data": {
      "text/plain": "Training sony_robot_2-conv-layers_6-filters_6-kernel-size_same-padding_(relu)--2-dense_layers_(relu)--max_pool…",
      "application/vnd.jupyter.widget-view+json": {
       "version_major": 2,
       "version_minor": 0,
       "model_id": "efefb688fe0145e29fd8458c2b605c7e"
      }
     },
     "metadata": {},
     "output_type": "display_data"
    },
    {
     "name": "stdout",
     "output_type": "stream",
     "text": [
      "Iteration No: 63 ended. Search finished for the next optimal point.\n",
      "Time taken: 66.3836\n",
      "Function value obtained: 0.1318\n",
      "Current minimum: 0.1060\n",
      "Iteration No: 64 started. Searching for the next optimal point.\n",
      "Training model with config: 2-conv-layers_10-filters_7-kernel-size_same-padding_(relu)--2-dense_layers_(relu)--max_pool_(2)_0.1_batchnorm\n"
     ]
    },
    {
     "data": {
      "text/plain": "Training the model on each dataset...:   0%|          | 0/3 [00:00<?, ?dataset/s]",
      "application/vnd.jupyter.widget-view+json": {
       "version_major": 2,
       "version_minor": 0,
       "model_id": "5a16f1a3161d4d6f9c457582a27a685a"
      }
     },
     "metadata": {},
     "output_type": "display_data"
    },
    {
     "data": {
      "text/plain": "Training electric_devices_2-conv-layers_10-filters_7-kernel-size_same-padding_(relu)--2-dense_layers_(relu)--m…",
      "application/vnd.jupyter.widget-view+json": {
       "version_major": 2,
       "version_minor": 0,
       "model_id": "74818453e47e41c6a981b6fb69462571"
      }
     },
     "metadata": {},
     "output_type": "display_data"
    },
    {
     "data": {
      "text/plain": "Training freezers_2-conv-layers_10-filters_7-kernel-size_same-padding_(relu)--2-dense_layers_(relu)--max_pool_…",
      "application/vnd.jupyter.widget-view+json": {
       "version_major": 2,
       "version_minor": 0,
       "model_id": "680f4be9f1e84f6cb8ab0650d3b91009"
      }
     },
     "metadata": {},
     "output_type": "display_data"
    },
    {
     "data": {
      "text/plain": "Training sony_robot_2-conv-layers_10-filters_7-kernel-size_same-padding_(relu)--2-dense_layers_(relu)--max_poo…",
      "application/vnd.jupyter.widget-view+json": {
       "version_major": 2,
       "version_minor": 0,
       "model_id": "69d91243e7054d2897eed13d512de21e"
      }
     },
     "metadata": {},
     "output_type": "display_data"
    },
    {
     "name": "stdout",
     "output_type": "stream",
     "text": [
      "Iteration No: 64 ended. Search finished for the next optimal point.\n",
      "Time taken: 66.7667\n",
      "Function value obtained: 0.1173\n",
      "Current minimum: 0.1060\n",
      "Iteration No: 65 started. Searching for the next optimal point.\n",
      "Training model with config: 2-conv-layers_10-filters_7-kernel-size_same-padding_(relu)--2-dense_layers_(relu)--max_pool_(2)_0.1_batchnorm\n"
     ]
    },
    {
     "data": {
      "text/plain": "Training the model on each dataset...:   0%|          | 0/3 [00:00<?, ?dataset/s]",
      "application/vnd.jupyter.widget-view+json": {
       "version_major": 2,
       "version_minor": 0,
       "model_id": "1a2287f4418f4aa2b31a912b90920494"
      }
     },
     "metadata": {},
     "output_type": "display_data"
    },
    {
     "data": {
      "text/plain": "Training electric_devices_2-conv-layers_10-filters_7-kernel-size_same-padding_(relu)--2-dense_layers_(relu)--m…",
      "application/vnd.jupyter.widget-view+json": {
       "version_major": 2,
       "version_minor": 0,
       "model_id": "eb300d3fa7014f8dbbc84287f17d723b"
      }
     },
     "metadata": {},
     "output_type": "display_data"
    },
    {
     "data": {
      "text/plain": "Training freezers_2-conv-layers_10-filters_7-kernel-size_same-padding_(relu)--2-dense_layers_(relu)--max_pool_…",
      "application/vnd.jupyter.widget-view+json": {
       "version_major": 2,
       "version_minor": 0,
       "model_id": "e2b36efd6bd0496f8493e2074085f0d5"
      }
     },
     "metadata": {},
     "output_type": "display_data"
    },
    {
     "data": {
      "text/plain": "Training sony_robot_2-conv-layers_10-filters_7-kernel-size_same-padding_(relu)--2-dense_layers_(relu)--max_poo…",
      "application/vnd.jupyter.widget-view+json": {
       "version_major": 2,
       "version_minor": 0,
       "model_id": "6de10cf4833d4ebcb21351b6dabd957c"
      }
     },
     "metadata": {},
     "output_type": "display_data"
    },
    {
     "name": "stdout",
     "output_type": "stream",
     "text": [
      "Iteration No: 65 ended. Search finished for the next optimal point.\n",
      "Time taken: 66.3481\n",
      "Function value obtained: 0.1120\n",
      "Current minimum: 0.1060\n",
      "Iteration No: 66 started. Searching for the next optimal point.\n",
      "Training model with config: 2-conv-layers_10-filters_5-kernel-size_same-padding_(relu)--2-dense_layers_(relu)--max_pool_(2)_0.1_batchnorm\n"
     ]
    },
    {
     "data": {
      "text/plain": "Training the model on each dataset...:   0%|          | 0/3 [00:00<?, ?dataset/s]",
      "application/vnd.jupyter.widget-view+json": {
       "version_major": 2,
       "version_minor": 0,
       "model_id": "406bd368225c42c5892775bf4b271b7f"
      }
     },
     "metadata": {},
     "output_type": "display_data"
    },
    {
     "data": {
      "text/plain": "Training electric_devices_2-conv-layers_10-filters_5-kernel-size_same-padding_(relu)--2-dense_layers_(relu)--m…",
      "application/vnd.jupyter.widget-view+json": {
       "version_major": 2,
       "version_minor": 0,
       "model_id": "e764243edf4d42d7a8b6b7222d0fe02c"
      }
     },
     "metadata": {},
     "output_type": "display_data"
    },
    {
     "data": {
      "text/plain": "Training freezers_2-conv-layers_10-filters_5-kernel-size_same-padding_(relu)--2-dense_layers_(relu)--max_pool_…",
      "application/vnd.jupyter.widget-view+json": {
       "version_major": 2,
       "version_minor": 0,
       "model_id": "44e29fde753248da9e2ae67d1b7c4e74"
      }
     },
     "metadata": {},
     "output_type": "display_data"
    },
    {
     "data": {
      "text/plain": "Training sony_robot_2-conv-layers_10-filters_5-kernel-size_same-padding_(relu)--2-dense_layers_(relu)--max_poo…",
      "application/vnd.jupyter.widget-view+json": {
       "version_major": 2,
       "version_minor": 0,
       "model_id": "6446f155f8014ec28742853db65b7e1f"
      }
     },
     "metadata": {},
     "output_type": "display_data"
    },
    {
     "name": "stdout",
     "output_type": "stream",
     "text": [
      "Iteration No: 66 ended. Search finished for the next optimal point.\n",
      "Time taken: 66.0480\n",
      "Function value obtained: 0.1564\n",
      "Current minimum: 0.1060\n",
      "Iteration No: 67 started. Searching for the next optimal point.\n",
      "Training model with config: 2-conv-layers_10-filters_7-kernel-size_same-padding_(relu)--2-dense_layers_(relu)--max_pool_(2)_0.1_batchnorm\n"
     ]
    },
    {
     "data": {
      "text/plain": "Training the model on each dataset...:   0%|          | 0/3 [00:00<?, ?dataset/s]",
      "application/vnd.jupyter.widget-view+json": {
       "version_major": 2,
       "version_minor": 0,
       "model_id": "4e75569c870145cc95a9502b8744f672"
      }
     },
     "metadata": {},
     "output_type": "display_data"
    },
    {
     "data": {
      "text/plain": "Training electric_devices_2-conv-layers_10-filters_7-kernel-size_same-padding_(relu)--2-dense_layers_(relu)--m…",
      "application/vnd.jupyter.widget-view+json": {
       "version_major": 2,
       "version_minor": 0,
       "model_id": "dd903d2119d44d4294043d78cff6a468"
      }
     },
     "metadata": {},
     "output_type": "display_data"
    },
    {
     "data": {
      "text/plain": "Training freezers_2-conv-layers_10-filters_7-kernel-size_same-padding_(relu)--2-dense_layers_(relu)--max_pool_…",
      "application/vnd.jupyter.widget-view+json": {
       "version_major": 2,
       "version_minor": 0,
       "model_id": "67a6268d31194ff281134422c62bf759"
      }
     },
     "metadata": {},
     "output_type": "display_data"
    },
    {
     "data": {
      "text/plain": "Training sony_robot_2-conv-layers_10-filters_7-kernel-size_same-padding_(relu)--2-dense_layers_(relu)--max_poo…",
      "application/vnd.jupyter.widget-view+json": {
       "version_major": 2,
       "version_minor": 0,
       "model_id": "c200362544e14ff6abd52068c72265ea"
      }
     },
     "metadata": {},
     "output_type": "display_data"
    },
    {
     "name": "stdout",
     "output_type": "stream",
     "text": [
      "Iteration No: 67 ended. Search finished for the next optimal point.\n",
      "Time taken: 65.5339\n",
      "Function value obtained: 0.1633\n",
      "Current minimum: 0.1060\n",
      "Iteration No: 68 started. Searching for the next optimal point.\n",
      "Training model with config: 2-conv-layers_10-filters_7-kernel-size_same-padding_(relu)--2-dense_layers_(relu)--max_pool_(2)_0.1_batchnorm\n"
     ]
    },
    {
     "data": {
      "text/plain": "Training the model on each dataset...:   0%|          | 0/3 [00:00<?, ?dataset/s]",
      "application/vnd.jupyter.widget-view+json": {
       "version_major": 2,
       "version_minor": 0,
       "model_id": "3ad3f5e3f066484195c33ea0f1250d86"
      }
     },
     "metadata": {},
     "output_type": "display_data"
    },
    {
     "data": {
      "text/plain": "Training electric_devices_2-conv-layers_10-filters_7-kernel-size_same-padding_(relu)--2-dense_layers_(relu)--m…",
      "application/vnd.jupyter.widget-view+json": {
       "version_major": 2,
       "version_minor": 0,
       "model_id": "40c29cbbf69a4f2fa75a6e6dd3a1a73c"
      }
     },
     "metadata": {},
     "output_type": "display_data"
    },
    {
     "data": {
      "text/plain": "Training freezers_2-conv-layers_10-filters_7-kernel-size_same-padding_(relu)--2-dense_layers_(relu)--max_pool_…",
      "application/vnd.jupyter.widget-view+json": {
       "version_major": 2,
       "version_minor": 0,
       "model_id": "acf646a1e83c44f398d72ea5d061a590"
      }
     },
     "metadata": {},
     "output_type": "display_data"
    },
    {
     "data": {
      "text/plain": "Training sony_robot_2-conv-layers_10-filters_7-kernel-size_same-padding_(relu)--2-dense_layers_(relu)--max_poo…",
      "application/vnd.jupyter.widget-view+json": {
       "version_major": 2,
       "version_minor": 0,
       "model_id": "6f6b6fc38e974670b178c44803814e4c"
      }
     },
     "metadata": {},
     "output_type": "display_data"
    },
    {
     "name": "stdout",
     "output_type": "stream",
     "text": [
      "Iteration No: 68 ended. Search finished for the next optimal point.\n",
      "Time taken: 66.8462\n",
      "Function value obtained: 0.1085\n",
      "Current minimum: 0.1060\n",
      "Iteration No: 69 started. Searching for the next optimal point.\n",
      "Training model with config: 2-conv-layers_4-filters_7-kernel-size_same-padding_(relu)--2-dense_layers_(relu)--max_pool_(2)_0.1_batchnorm\n"
     ]
    },
    {
     "data": {
      "text/plain": "Training the model on each dataset...:   0%|          | 0/3 [00:00<?, ?dataset/s]",
      "application/vnd.jupyter.widget-view+json": {
       "version_major": 2,
       "version_minor": 0,
       "model_id": "a0f169f1b557422789806fc4b21eff66"
      }
     },
     "metadata": {},
     "output_type": "display_data"
    },
    {
     "data": {
      "text/plain": "Training electric_devices_2-conv-layers_4-filters_7-kernel-size_same-padding_(relu)--2-dense_layers_(relu)--ma…",
      "application/vnd.jupyter.widget-view+json": {
       "version_major": 2,
       "version_minor": 0,
       "model_id": "48cde7f2747341e4a978bf225a86a7e4"
      }
     },
     "metadata": {},
     "output_type": "display_data"
    },
    {
     "data": {
      "text/plain": "Training freezers_2-conv-layers_4-filters_7-kernel-size_same-padding_(relu)--2-dense_layers_(relu)--max_pool_(…",
      "application/vnd.jupyter.widget-view+json": {
       "version_major": 2,
       "version_minor": 0,
       "model_id": "73d2d189eab34831bc16cd6ac6e96583"
      }
     },
     "metadata": {},
     "output_type": "display_data"
    },
    {
     "data": {
      "text/plain": "Training sony_robot_2-conv-layers_4-filters_7-kernel-size_same-padding_(relu)--2-dense_layers_(relu)--max_pool…",
      "application/vnd.jupyter.widget-view+json": {
       "version_major": 2,
       "version_minor": 0,
       "model_id": "eed83cb457d04f208ecf8ff2621c090b"
      }
     },
     "metadata": {},
     "output_type": "display_data"
    },
    {
     "name": "stdout",
     "output_type": "stream",
     "text": [
      "Iteration No: 69 ended. Search finished for the next optimal point.\n",
      "Time taken: 65.1909\n",
      "Function value obtained: 0.1374\n",
      "Current minimum: 0.1060\n",
      "Iteration No: 70 started. Searching for the next optimal point.\n",
      "Training model with config: 2-conv-layers_10-filters_7-kernel-size_same-padding_(relu)--2-dense_layers_(relu)--max_pool_(2)_0.1_batchnorm\n"
     ]
    },
    {
     "data": {
      "text/plain": "Training the model on each dataset...:   0%|          | 0/3 [00:00<?, ?dataset/s]",
      "application/vnd.jupyter.widget-view+json": {
       "version_major": 2,
       "version_minor": 0,
       "model_id": "8ed89cd646874072b7b14a7d35840e3a"
      }
     },
     "metadata": {},
     "output_type": "display_data"
    },
    {
     "data": {
      "text/plain": "Training electric_devices_2-conv-layers_10-filters_7-kernel-size_same-padding_(relu)--2-dense_layers_(relu)--m…",
      "application/vnd.jupyter.widget-view+json": {
       "version_major": 2,
       "version_minor": 0,
       "model_id": "657cf219ffbb41e0b74963f6496a5786"
      }
     },
     "metadata": {},
     "output_type": "display_data"
    },
    {
     "data": {
      "text/plain": "Training freezers_2-conv-layers_10-filters_7-kernel-size_same-padding_(relu)--2-dense_layers_(relu)--max_pool_…",
      "application/vnd.jupyter.widget-view+json": {
       "version_major": 2,
       "version_minor": 0,
       "model_id": "bce1167004ff4446a74438938ed0551d"
      }
     },
     "metadata": {},
     "output_type": "display_data"
    },
    {
     "data": {
      "text/plain": "Training sony_robot_2-conv-layers_10-filters_7-kernel-size_same-padding_(relu)--2-dense_layers_(relu)--max_poo…",
      "application/vnd.jupyter.widget-view+json": {
       "version_major": 2,
       "version_minor": 0,
       "model_id": "f64189b4f4154de29ff0a6e2efcff63f"
      }
     },
     "metadata": {},
     "output_type": "display_data"
    },
    {
     "name": "stdout",
     "output_type": "stream",
     "text": [
      "Iteration No: 70 ended. Search finished for the next optimal point.\n",
      "Time taken: 66.3771\n",
      "Function value obtained: 0.1224\n",
      "Current minimum: 0.1060\n",
      "Iteration No: 71 started. Searching for the next optimal point.\n",
      "Training model with config: 2-conv-layers_10-filters_7-kernel-size_same-padding_(relu)--2-dense_layers_(relu)--max_pool_(2)_0.1_batchnorm\n"
     ]
    },
    {
     "data": {
      "text/plain": "Training the model on each dataset...:   0%|          | 0/3 [00:00<?, ?dataset/s]",
      "application/vnd.jupyter.widget-view+json": {
       "version_major": 2,
       "version_minor": 0,
       "model_id": "89cd4ad82be9422f9c5166688c381f09"
      }
     },
     "metadata": {},
     "output_type": "display_data"
    },
    {
     "data": {
      "text/plain": "Training electric_devices_2-conv-layers_10-filters_7-kernel-size_same-padding_(relu)--2-dense_layers_(relu)--m…",
      "application/vnd.jupyter.widget-view+json": {
       "version_major": 2,
       "version_minor": 0,
       "model_id": "0b578c0606ef4dbeac9cbfb7a6e156f4"
      }
     },
     "metadata": {},
     "output_type": "display_data"
    },
    {
     "data": {
      "text/plain": "Training freezers_2-conv-layers_10-filters_7-kernel-size_same-padding_(relu)--2-dense_layers_(relu)--max_pool_…",
      "application/vnd.jupyter.widget-view+json": {
       "version_major": 2,
       "version_minor": 0,
       "model_id": "6f4ec69d657c49a7bead00d7328f4ba3"
      }
     },
     "metadata": {},
     "output_type": "display_data"
    },
    {
     "data": {
      "text/plain": "Training sony_robot_2-conv-layers_10-filters_7-kernel-size_same-padding_(relu)--2-dense_layers_(relu)--max_poo…",
      "application/vnd.jupyter.widget-view+json": {
       "version_major": 2,
       "version_minor": 0,
       "model_id": "7432013b9f054ae783663eaf45862310"
      }
     },
     "metadata": {},
     "output_type": "display_data"
    },
    {
     "name": "stdout",
     "output_type": "stream",
     "text": [
      "Iteration No: 71 ended. Search finished for the next optimal point.\n",
      "Time taken: 66.4141\n",
      "Function value obtained: 0.1516\n",
      "Current minimum: 0.1060\n",
      "Iteration No: 72 started. Searching for the next optimal point.\n",
      "Training model with config: 2-conv-layers_10-filters_7-kernel-size_same-padding_(relu)--2-dense_layers_(relu)--max_pool_(2)_0.1_batchnorm\n"
     ]
    },
    {
     "data": {
      "text/plain": "Training the model on each dataset...:   0%|          | 0/3 [00:00<?, ?dataset/s]",
      "application/vnd.jupyter.widget-view+json": {
       "version_major": 2,
       "version_minor": 0,
       "model_id": "5c0d646a42f347a5919881ea9fac44a9"
      }
     },
     "metadata": {},
     "output_type": "display_data"
    },
    {
     "data": {
      "text/plain": "Training electric_devices_2-conv-layers_10-filters_7-kernel-size_same-padding_(relu)--2-dense_layers_(relu)--m…",
      "application/vnd.jupyter.widget-view+json": {
       "version_major": 2,
       "version_minor": 0,
       "model_id": "213c9151fcc14f0a9b4607b6eeb791a9"
      }
     },
     "metadata": {},
     "output_type": "display_data"
    },
    {
     "data": {
      "text/plain": "Training freezers_2-conv-layers_10-filters_7-kernel-size_same-padding_(relu)--2-dense_layers_(relu)--max_pool_…",
      "application/vnd.jupyter.widget-view+json": {
       "version_major": 2,
       "version_minor": 0,
       "model_id": "ae31ec2d9f704d109a77fa0b51c2b2ad"
      }
     },
     "metadata": {},
     "output_type": "display_data"
    },
    {
     "data": {
      "text/plain": "Training sony_robot_2-conv-layers_10-filters_7-kernel-size_same-padding_(relu)--2-dense_layers_(relu)--max_poo…",
      "application/vnd.jupyter.widget-view+json": {
       "version_major": 2,
       "version_minor": 0,
       "model_id": "c13057c3bf45492c8f1aaebc8335fdd3"
      }
     },
     "metadata": {},
     "output_type": "display_data"
    },
    {
     "name": "stdout",
     "output_type": "stream",
     "text": [
      "Iteration No: 72 ended. Search finished for the next optimal point.\n",
      "Time taken: 65.3799\n",
      "Function value obtained: 0.1350\n",
      "Current minimum: 0.1060\n",
      "Iteration No: 73 started. Searching for the next optimal point.\n",
      "Training model with config: 2-conv-layers_9-filters_7-kernel-size_same-padding_(relu)--2-dense_layers_(relu)--max_pool_(2)_0.1_batchnorm\n"
     ]
    },
    {
     "data": {
      "text/plain": "Training the model on each dataset...:   0%|          | 0/3 [00:00<?, ?dataset/s]",
      "application/vnd.jupyter.widget-view+json": {
       "version_major": 2,
       "version_minor": 0,
       "model_id": "1851d9f4ec934829ba44c089c091c89a"
      }
     },
     "metadata": {},
     "output_type": "display_data"
    },
    {
     "data": {
      "text/plain": "Training electric_devices_2-conv-layers_9-filters_7-kernel-size_same-padding_(relu)--2-dense_layers_(relu)--ma…",
      "application/vnd.jupyter.widget-view+json": {
       "version_major": 2,
       "version_minor": 0,
       "model_id": "3c72db4e81d1404680683abb655bc96b"
      }
     },
     "metadata": {},
     "output_type": "display_data"
    },
    {
     "data": {
      "text/plain": "Training freezers_2-conv-layers_9-filters_7-kernel-size_same-padding_(relu)--2-dense_layers_(relu)--max_pool_(…",
      "application/vnd.jupyter.widget-view+json": {
       "version_major": 2,
       "version_minor": 0,
       "model_id": "39877a5cca874ff88c5be8550333198b"
      }
     },
     "metadata": {},
     "output_type": "display_data"
    },
    {
     "data": {
      "text/plain": "Training sony_robot_2-conv-layers_9-filters_7-kernel-size_same-padding_(relu)--2-dense_layers_(relu)--max_pool…",
      "application/vnd.jupyter.widget-view+json": {
       "version_major": 2,
       "version_minor": 0,
       "model_id": "072e135b1a7646c7982f668c7471303c"
      }
     },
     "metadata": {},
     "output_type": "display_data"
    },
    {
     "name": "stdout",
     "output_type": "stream",
     "text": [
      "Iteration No: 73 ended. Search finished for the next optimal point.\n",
      "Time taken: 65.4119\n",
      "Function value obtained: 0.0963\n",
      "Current minimum: 0.0963\n",
      "Iteration No: 74 started. Searching for the next optimal point.\n",
      "Training model with config: 2-conv-layers_8-filters_6-kernel-size_same-padding_(relu)--2-dense_layers_(relu)--max_pool_(2)_0.1\n"
     ]
    },
    {
     "data": {
      "text/plain": "Training the model on each dataset...:   0%|          | 0/3 [00:00<?, ?dataset/s]",
      "application/vnd.jupyter.widget-view+json": {
       "version_major": 2,
       "version_minor": 0,
       "model_id": "12221044eff541099880fa6297401cd4"
      }
     },
     "metadata": {},
     "output_type": "display_data"
    },
    {
     "data": {
      "text/plain": "Training electric_devices_2-conv-layers_8-filters_6-kernel-size_same-padding_(relu)--2-dense_layers_(relu)--ma…",
      "application/vnd.jupyter.widget-view+json": {
       "version_major": 2,
       "version_minor": 0,
       "model_id": "a2bb0537b7cb4fcea1fbe2869c60e2ed"
      }
     },
     "metadata": {},
     "output_type": "display_data"
    },
    {
     "data": {
      "text/plain": "Training freezers_2-conv-layers_8-filters_6-kernel-size_same-padding_(relu)--2-dense_layers_(relu)--max_pool_(…",
      "application/vnd.jupyter.widget-view+json": {
       "version_major": 2,
       "version_minor": 0,
       "model_id": "0423fcef61b34ebcb74763e7faef6ee1"
      }
     },
     "metadata": {},
     "output_type": "display_data"
    },
    {
     "data": {
      "text/plain": "Training sony_robot_2-conv-layers_8-filters_6-kernel-size_same-padding_(relu)--2-dense_layers_(relu)--max_pool…",
      "application/vnd.jupyter.widget-view+json": {
       "version_major": 2,
       "version_minor": 0,
       "model_id": "b32b80874d854fdd83ce994775ecb957"
      }
     },
     "metadata": {},
     "output_type": "display_data"
    },
    {
     "name": "stdout",
     "output_type": "stream",
     "text": [
      "Iteration No: 74 ended. Search finished for the next optimal point.\n",
      "Time taken: 30.8439\n",
      "Function value obtained: 0.1286\n",
      "Current minimum: 0.0963\n",
      "Iteration No: 75 started. Searching for the next optimal point.\n",
      "Training model with config: 1-conv-layers_5-filters_6-kernel-size_causal-padding_(relu)--2-dense_layers_(relu)--avg_pool_(2)_0.30000000000000004_batchnorm\n"
     ]
    },
    {
     "data": {
      "text/plain": "Training the model on each dataset...:   0%|          | 0/3 [00:00<?, ?dataset/s]",
      "application/vnd.jupyter.widget-view+json": {
       "version_major": 2,
       "version_minor": 0,
       "model_id": "13dcf5bdebc64a6fb3da351067c82073"
      }
     },
     "metadata": {},
     "output_type": "display_data"
    },
    {
     "data": {
      "text/plain": "Training electric_devices_1-conv-layers_5-filters_6-kernel-size_causal-padding_(relu)--2-dense_layers_(relu)--…",
      "application/vnd.jupyter.widget-view+json": {
       "version_major": 2,
       "version_minor": 0,
       "model_id": "dca20f65b8034c0cb69131987ab16f82"
      }
     },
     "metadata": {},
     "output_type": "display_data"
    },
    {
     "data": {
      "text/plain": "Training freezers_1-conv-layers_5-filters_6-kernel-size_causal-padding_(relu)--2-dense_layers_(relu)--avg_pool…",
      "application/vnd.jupyter.widget-view+json": {
       "version_major": 2,
       "version_minor": 0,
       "model_id": "0d2ad4366916499788331d2ab28bfdb7"
      }
     },
     "metadata": {},
     "output_type": "display_data"
    },
    {
     "data": {
      "text/plain": "Training sony_robot_1-conv-layers_5-filters_6-kernel-size_causal-padding_(relu)--2-dense_layers_(relu)--avg_po…",
      "application/vnd.jupyter.widget-view+json": {
       "version_major": 2,
       "version_minor": 0,
       "model_id": "eacd596c6ab34d8bbe2d5c2074574da8"
      }
     },
     "metadata": {},
     "output_type": "display_data"
    },
    {
     "name": "stdout",
     "output_type": "stream",
     "text": [
      "Iteration No: 75 ended. Search finished for the next optimal point.\n",
      "Time taken: 53.3598\n",
      "Function value obtained: 0.1038\n",
      "Current minimum: 0.0963\n",
      "Iteration No: 76 started. Searching for the next optimal point.\n",
      "Training model with config: 2-conv-layers_9-filters_4-kernel-size_causal-padding_(relu)--2-dense_layers_(relu)--avg_pool_(2)_0.1_batchnorm\n"
     ]
    },
    {
     "data": {
      "text/plain": "Training the model on each dataset...:   0%|          | 0/3 [00:00<?, ?dataset/s]",
      "application/vnd.jupyter.widget-view+json": {
       "version_major": 2,
       "version_minor": 0,
       "model_id": "d37416a8aedf4bf49bbf184f0afdfca4"
      }
     },
     "metadata": {},
     "output_type": "display_data"
    },
    {
     "data": {
      "text/plain": "Training electric_devices_2-conv-layers_9-filters_4-kernel-size_causal-padding_(relu)--2-dense_layers_(relu)--…",
      "application/vnd.jupyter.widget-view+json": {
       "version_major": 2,
       "version_minor": 0,
       "model_id": "7bbd7d7425434cc1b6a7e48462e6635d"
      }
     },
     "metadata": {},
     "output_type": "display_data"
    },
    {
     "data": {
      "text/plain": "Training freezers_2-conv-layers_9-filters_4-kernel-size_causal-padding_(relu)--2-dense_layers_(relu)--avg_pool…",
      "application/vnd.jupyter.widget-view+json": {
       "version_major": 2,
       "version_minor": 0,
       "model_id": "a819b9f94a3842b59c99178143c03726"
      }
     },
     "metadata": {},
     "output_type": "display_data"
    },
    {
     "data": {
      "text/plain": "Training sony_robot_2-conv-layers_9-filters_4-kernel-size_causal-padding_(relu)--2-dense_layers_(relu)--avg_po…",
      "application/vnd.jupyter.widget-view+json": {
       "version_major": 2,
       "version_minor": 0,
       "model_id": "a0bee9464e0b4d4c8c14dd4ae40b35c1"
      }
     },
     "metadata": {},
     "output_type": "display_data"
    },
    {
     "name": "stdout",
     "output_type": "stream",
     "text": [
      "Iteration No: 76 ended. Search finished for the next optimal point.\n",
      "Time taken: 64.9343\n",
      "Function value obtained: 0.1427\n",
      "Current minimum: 0.0963\n",
      "Iteration No: 77 started. Searching for the next optimal point.\n",
      "Training model with config: 2-conv-layers_4-filters_7-kernel-size_causal-padding_(relu)--2-dense_layers_(relu)--avg_pool_(3)_0.1_batchnorm\n"
     ]
    },
    {
     "data": {
      "text/plain": "Training the model on each dataset...:   0%|          | 0/3 [00:00<?, ?dataset/s]",
      "application/vnd.jupyter.widget-view+json": {
       "version_major": 2,
       "version_minor": 0,
       "model_id": "f6af39c4d4a545f1a1081d0ef19781b7"
      }
     },
     "metadata": {},
     "output_type": "display_data"
    },
    {
     "data": {
      "text/plain": "Training electric_devices_2-conv-layers_4-filters_7-kernel-size_causal-padding_(relu)--2-dense_layers_(relu)--…",
      "application/vnd.jupyter.widget-view+json": {
       "version_major": 2,
       "version_minor": 0,
       "model_id": "ec879cdd88c647ac90ee336c0f9f0116"
      }
     },
     "metadata": {},
     "output_type": "display_data"
    },
    {
     "data": {
      "text/plain": "Training freezers_2-conv-layers_4-filters_7-kernel-size_causal-padding_(relu)--2-dense_layers_(relu)--avg_pool…",
      "application/vnd.jupyter.widget-view+json": {
       "version_major": 2,
       "version_minor": 0,
       "model_id": "6795d198a4434997bd128d36f45f6129"
      }
     },
     "metadata": {},
     "output_type": "display_data"
    },
    {
     "data": {
      "text/plain": "Training sony_robot_2-conv-layers_4-filters_7-kernel-size_causal-padding_(relu)--2-dense_layers_(relu)--avg_po…",
      "application/vnd.jupyter.widget-view+json": {
       "version_major": 2,
       "version_minor": 0,
       "model_id": "e83cb258f31a47bf9522f39904aacc2f"
      }
     },
     "metadata": {},
     "output_type": "display_data"
    },
    {
     "name": "stdout",
     "output_type": "stream",
     "text": [
      "Iteration No: 77 ended. Search finished for the next optimal point.\n",
      "Time taken: 66.2976\n",
      "Function value obtained: 0.1148\n",
      "Current minimum: 0.0963\n",
      "Iteration No: 78 started. Searching for the next optimal point.\n",
      "Training model with config: 2-conv-layers_3-filters_7-kernel-size_causal-padding_(relu)--2-dense_layers_(relu)--avg_pool_(4)_0.1_batchnorm\n"
     ]
    },
    {
     "data": {
      "text/plain": "Training the model on each dataset...:   0%|          | 0/3 [00:00<?, ?dataset/s]",
      "application/vnd.jupyter.widget-view+json": {
       "version_major": 2,
       "version_minor": 0,
       "model_id": "373aeaebdea94e6792caedc9bb94a643"
      }
     },
     "metadata": {},
     "output_type": "display_data"
    },
    {
     "data": {
      "text/plain": "Training electric_devices_2-conv-layers_3-filters_7-kernel-size_causal-padding_(relu)--2-dense_layers_(relu)--…",
      "application/vnd.jupyter.widget-view+json": {
       "version_major": 2,
       "version_minor": 0,
       "model_id": "50a7bc367c2c4251a4878395dbda24f4"
      }
     },
     "metadata": {},
     "output_type": "display_data"
    },
    {
     "data": {
      "text/plain": "Training freezers_2-conv-layers_3-filters_7-kernel-size_causal-padding_(relu)--2-dense_layers_(relu)--avg_pool…",
      "application/vnd.jupyter.widget-view+json": {
       "version_major": 2,
       "version_minor": 0,
       "model_id": "75a2ee615adc426cba90b667e1ec55fb"
      }
     },
     "metadata": {},
     "output_type": "display_data"
    },
    {
     "data": {
      "text/plain": "Training sony_robot_2-conv-layers_3-filters_7-kernel-size_causal-padding_(relu)--2-dense_layers_(relu)--avg_po…",
      "application/vnd.jupyter.widget-view+json": {
       "version_major": 2,
       "version_minor": 0,
       "model_id": "819625bc06014bdeb0bdaf765b0739b1"
      }
     },
     "metadata": {},
     "output_type": "display_data"
    },
    {
     "name": "stdout",
     "output_type": "stream",
     "text": [
      "Iteration No: 78 ended. Search finished for the next optimal point.\n",
      "Time taken: 67.3193\n",
      "Function value obtained: 0.1393\n",
      "Current minimum: 0.0963\n",
      "Iteration No: 79 started. Searching for the next optimal point.\n",
      "Training model with config: 2-conv-layers_2-filters_7-kernel-size_causal-padding_(relu)--1-dense_layers_(relu)--max_pool_(3)_0.1_batchnorm\n"
     ]
    },
    {
     "data": {
      "text/plain": "Training the model on each dataset...:   0%|          | 0/3 [00:00<?, ?dataset/s]",
      "application/vnd.jupyter.widget-view+json": {
       "version_major": 2,
       "version_minor": 0,
       "model_id": "e0961801051d4ccc8e520911b14ac3ef"
      }
     },
     "metadata": {},
     "output_type": "display_data"
    },
    {
     "data": {
      "text/plain": "Training electric_devices_2-conv-layers_2-filters_7-kernel-size_causal-padding_(relu)--1-dense_layers_(relu)--…",
      "application/vnd.jupyter.widget-view+json": {
       "version_major": 2,
       "version_minor": 0,
       "model_id": "dfb7920795b94c96b390fee1ce4c178c"
      }
     },
     "metadata": {},
     "output_type": "display_data"
    },
    {
     "data": {
      "text/plain": "Training freezers_2-conv-layers_2-filters_7-kernel-size_causal-padding_(relu)--1-dense_layers_(relu)--max_pool…",
      "application/vnd.jupyter.widget-view+json": {
       "version_major": 2,
       "version_minor": 0,
       "model_id": "af1e74128a8d48089078f5f881c7ac00"
      }
     },
     "metadata": {},
     "output_type": "display_data"
    },
    {
     "data": {
      "text/plain": "Training sony_robot_2-conv-layers_2-filters_7-kernel-size_causal-padding_(relu)--1-dense_layers_(relu)--max_po…",
      "application/vnd.jupyter.widget-view+json": {
       "version_major": 2,
       "version_minor": 0,
       "model_id": "07808fe7981e44a5b2b10340ee33e06e"
      }
     },
     "metadata": {},
     "output_type": "display_data"
    },
    {
     "name": "stdout",
     "output_type": "stream",
     "text": [
      "Iteration No: 79 ended. Search finished for the next optimal point.\n",
      "Time taken: 55.0346\n",
      "Function value obtained: 0.2579\n",
      "Current minimum: 0.0963\n",
      "Iteration No: 80 started. Searching for the next optimal point.\n",
      "Training model with config: 4-conv-layers_9-filters_7-kernel-size_causal-padding_(relu)--2-dense_layers_(relu)--max_pool_(4)_0.30000000000000004_batchnorm\n"
     ]
    },
    {
     "data": {
      "text/plain": "Training the model on each dataset...:   0%|          | 0/3 [00:00<?, ?dataset/s]",
      "application/vnd.jupyter.widget-view+json": {
       "version_major": 2,
       "version_minor": 0,
       "model_id": "f454d8688b2f4b449b7583990773cc14"
      }
     },
     "metadata": {},
     "output_type": "display_data"
    },
    {
     "name": "stdout",
     "output_type": "stream",
     "text": [
      "Error while training model with config 4-conv-layers_9-filters_7-kernel-size_causal-padding_(relu)--2-dense_layers_(relu)--max_pool_(4)_0.30000000000000004_batchnorm: Exception encountered when calling layer \"max_pooling1d_273\" (type MaxPooling1D).\n",
      "\n",
      "Negative dimension size caused by subtracting 4 from 1 for '{{node max_pooling1d_273/MaxPool}} = MaxPool[T=DT_FLOAT, data_format=\"NHWC\", explicit_paddings=[], ksize=[1, 4, 1, 1], padding=\"VALID\", strides=[1, 4, 1, 1]](max_pooling1d_273/ExpandDims)' with input shapes: [?,1,1,9].\n",
      "\n",
      "Call arguments received by layer \"max_pooling1d_273\" (type MaxPooling1D):\n",
      "  • inputs=tf.Tensor(shape=(None, 1, 9), dtype=float32)\n",
      "Iteration No: 80 ended. Search finished for the next optimal point.\n",
      "Time taken: 1.2947\n",
      "Function value obtained: 1.0000\n",
      "Current minimum: 0.0963\n",
      "Iteration No: 81 started. Searching for the next optimal point.\n",
      "Training model with config: 2-conv-layers_2-filters_7-kernel-size_same-padding_(sigmoid)--2-dense_layers_(sigmoid)--max_pool_(3)_0.2_batchnorm\n"
     ]
    },
    {
     "data": {
      "text/plain": "Training the model on each dataset...:   0%|          | 0/3 [00:00<?, ?dataset/s]",
      "application/vnd.jupyter.widget-view+json": {
       "version_major": 2,
       "version_minor": 0,
       "model_id": "475f4af5d5a243d39aed4ec46b6fb8db"
      }
     },
     "metadata": {},
     "output_type": "display_data"
    },
    {
     "data": {
      "text/plain": "Training electric_devices_2-conv-layers_2-filters_7-kernel-size_same-padding_(sigmoid)--2-dense_layers_(sigmoi…",
      "application/vnd.jupyter.widget-view+json": {
       "version_major": 2,
       "version_minor": 0,
       "model_id": "ca545794c1084bbc8dd82714d6b3ac06"
      }
     },
     "metadata": {},
     "output_type": "display_data"
    },
    {
     "data": {
      "text/plain": "Training freezers_2-conv-layers_2-filters_7-kernel-size_same-padding_(sigmoid)--2-dense_layers_(sigmoid)--max_…",
      "application/vnd.jupyter.widget-view+json": {
       "version_major": 2,
       "version_minor": 0,
       "model_id": "7460ca0ea44a4de7a91d75dfc63ce26b"
      }
     },
     "metadata": {},
     "output_type": "display_data"
    },
    {
     "data": {
      "text/plain": "Training sony_robot_2-conv-layers_2-filters_7-kernel-size_same-padding_(sigmoid)--2-dense_layers_(sigmoid)--ma…",
      "application/vnd.jupyter.widget-view+json": {
       "version_major": 2,
       "version_minor": 0,
       "model_id": "427463f51eff43f386f6c8302549099d"
      }
     },
     "metadata": {},
     "output_type": "display_data"
    },
    {
     "name": "stdout",
     "output_type": "stream",
     "text": [
      "Iteration No: 81 ended. Search finished for the next optimal point.\n",
      "Time taken: 68.0524\n",
      "Function value obtained: 0.6147\n",
      "Current minimum: 0.0963\n",
      "Iteration No: 82 started. Searching for the next optimal point.\n",
      "Training model with config: 3-conv-layers_6-filters_7-kernel-size_same-padding_(relu)--1-dense_layers_(relu)--avg_pool_(3)_0.4_batchnorm\n"
     ]
    },
    {
     "data": {
      "text/plain": "Training the model on each dataset...:   0%|          | 0/3 [00:00<?, ?dataset/s]",
      "application/vnd.jupyter.widget-view+json": {
       "version_major": 2,
       "version_minor": 0,
       "model_id": "81e4cd69e881479693e2af223d738860"
      }
     },
     "metadata": {},
     "output_type": "display_data"
    },
    {
     "data": {
      "text/plain": "Training electric_devices_3-conv-layers_6-filters_7-kernel-size_same-padding_(relu)--1-dense_layers_(relu)--av…",
      "application/vnd.jupyter.widget-view+json": {
       "version_major": 2,
       "version_minor": 0,
       "model_id": "37e963e61d354c24aea2707340a0066f"
      }
     },
     "metadata": {},
     "output_type": "display_data"
    },
    {
     "data": {
      "text/plain": "Training freezers_3-conv-layers_6-filters_7-kernel-size_same-padding_(relu)--1-dense_layers_(relu)--avg_pool_(…",
      "application/vnd.jupyter.widget-view+json": {
       "version_major": 2,
       "version_minor": 0,
       "model_id": "0baaa40fc94444df9281cbf189802dc5"
      }
     },
     "metadata": {},
     "output_type": "display_data"
    },
    {
     "data": {
      "text/plain": "Training sony_robot_3-conv-layers_6-filters_7-kernel-size_same-padding_(relu)--1-dense_layers_(relu)--avg_pool…",
      "application/vnd.jupyter.widget-view+json": {
       "version_major": 2,
       "version_minor": 0,
       "model_id": "7bb915347f3846338c674f56e8a5ad2a"
      }
     },
     "metadata": {},
     "output_type": "display_data"
    },
    {
     "name": "stdout",
     "output_type": "stream",
     "text": [
      "Iteration No: 82 ended. Search finished for the next optimal point.\n",
      "Time taken: 67.3338\n",
      "Function value obtained: 0.3266\n",
      "Current minimum: 0.0963\n",
      "Iteration No: 83 started. Searching for the next optimal point.\n",
      "Training model with config: 1-conv-layers_7-filters_4-kernel-size_causal-padding_(sigmoid)--2-dense_layers_(relu)--avg_pool_(2)_0.4\n"
     ]
    },
    {
     "data": {
      "text/plain": "Training the model on each dataset...:   0%|          | 0/3 [00:00<?, ?dataset/s]",
      "application/vnd.jupyter.widget-view+json": {
       "version_major": 2,
       "version_minor": 0,
       "model_id": "3d7ab10ca67346b8b67d763810a573a0"
      }
     },
     "metadata": {},
     "output_type": "display_data"
    },
    {
     "data": {
      "text/plain": "Training electric_devices_1-conv-layers_7-filters_4-kernel-size_causal-padding_(sigmoid)--2-dense_layers_(relu…",
      "application/vnd.jupyter.widget-view+json": {
       "version_major": 2,
       "version_minor": 0,
       "model_id": "1ea2df115ff54448a8acf82417ab7df1"
      }
     },
     "metadata": {},
     "output_type": "display_data"
    },
    {
     "data": {
      "text/plain": "Training freezers_1-conv-layers_7-filters_4-kernel-size_causal-padding_(sigmoid)--2-dense_layers_(relu)--avg_p…",
      "application/vnd.jupyter.widget-view+json": {
       "version_major": 2,
       "version_minor": 0,
       "model_id": "85e7d5715b5543dc8832f39befb3dc05"
      }
     },
     "metadata": {},
     "output_type": "display_data"
    },
    {
     "data": {
      "text/plain": "Training sony_robot_1-conv-layers_7-filters_4-kernel-size_causal-padding_(sigmoid)--2-dense_layers_(relu)--avg…",
      "application/vnd.jupyter.widget-view+json": {
       "version_major": 2,
       "version_minor": 0,
       "model_id": "2846368d788e488a89a7f56cb245e0ce"
      }
     },
     "metadata": {},
     "output_type": "display_data"
    },
    {
     "name": "stdout",
     "output_type": "stream",
     "text": [
      "Iteration No: 83 ended. Search finished for the next optimal point.\n",
      "Time taken: 26.8627\n",
      "Function value obtained: 0.2039\n",
      "Current minimum: 0.0963\n",
      "Iteration No: 84 started. Searching for the next optimal point.\n",
      "Training model with config: 3-conv-layers_5-filters_7-kernel-size_causal-padding_(relu)--2-dense_layers_(relu)--max_pool_(3)_\n"
     ]
    },
    {
     "data": {
      "text/plain": "Training the model on each dataset...:   0%|          | 0/3 [00:00<?, ?dataset/s]",
      "application/vnd.jupyter.widget-view+json": {
       "version_major": 2,
       "version_minor": 0,
       "model_id": "83232faaedd049cd959f0f9be55b1a1e"
      }
     },
     "metadata": {},
     "output_type": "display_data"
    },
    {
     "data": {
      "text/plain": "Training electric_devices_3-conv-layers_5-filters_7-kernel-size_causal-padding_(relu)--2-dense_layers_(relu)--…",
      "application/vnd.jupyter.widget-view+json": {
       "version_major": 2,
       "version_minor": 0,
       "model_id": "6be05726d99b4f6e9bf07a7394fa5cfb"
      }
     },
     "metadata": {},
     "output_type": "display_data"
    },
    {
     "data": {
      "text/plain": "Training freezers_3-conv-layers_5-filters_7-kernel-size_causal-padding_(relu)--2-dense_layers_(relu)--max_pool…",
      "application/vnd.jupyter.widget-view+json": {
       "version_major": 2,
       "version_minor": 0,
       "model_id": "c205c158bdae4ddd85e180a0199ea9ca"
      }
     },
     "metadata": {},
     "output_type": "display_data"
    },
    {
     "data": {
      "text/plain": "Training sony_robot_3-conv-layers_5-filters_7-kernel-size_causal-padding_(relu)--2-dense_layers_(relu)--max_po…",
      "application/vnd.jupyter.widget-view+json": {
       "version_major": 2,
       "version_minor": 0,
       "model_id": "ce7f21aaa5f240688c03cd98ee2725f7"
      }
     },
     "metadata": {},
     "output_type": "display_data"
    },
    {
     "name": "stdout",
     "output_type": "stream",
     "text": [
      "Iteration No: 84 ended. Search finished for the next optimal point.\n",
      "Time taken: 28.3565\n",
      "Function value obtained: 0.1643\n",
      "Current minimum: 0.0963\n",
      "Iteration No: 85 started. Searching for the next optimal point.\n",
      "Training model with config: 3-conv-layers_8-filters_3-kernel-size_same-padding_(sigmoid)--2-dense_layers_(relu)--max_pool_(2)__batchnorm\n"
     ]
    },
    {
     "data": {
      "text/plain": "Training the model on each dataset...:   0%|          | 0/3 [00:00<?, ?dataset/s]",
      "application/vnd.jupyter.widget-view+json": {
       "version_major": 2,
       "version_minor": 0,
       "model_id": "cbd2c05f4b994d2a88f20f9540ff9860"
      }
     },
     "metadata": {},
     "output_type": "display_data"
    },
    {
     "data": {
      "text/plain": "Training electric_devices_3-conv-layers_8-filters_3-kernel-size_same-padding_(sigmoid)--2-dense_layers_(relu)-…",
      "application/vnd.jupyter.widget-view+json": {
       "version_major": 2,
       "version_minor": 0,
       "model_id": "c243bd06283f475b975c1d735bdd41df"
      }
     },
     "metadata": {},
     "output_type": "display_data"
    },
    {
     "data": {
      "text/plain": "Training freezers_3-conv-layers_8-filters_3-kernel-size_same-padding_(sigmoid)--2-dense_layers_(relu)--max_poo…",
      "application/vnd.jupyter.widget-view+json": {
       "version_major": 2,
       "version_minor": 0,
       "model_id": "4383ac01bb0944cfb946a77f569217b7"
      }
     },
     "metadata": {},
     "output_type": "display_data"
    },
    {
     "data": {
      "text/plain": "Training sony_robot_3-conv-layers_8-filters_3-kernel-size_same-padding_(sigmoid)--2-dense_layers_(relu)--max_p…",
      "application/vnd.jupyter.widget-view+json": {
       "version_major": 2,
       "version_minor": 0,
       "model_id": "6d9bdc379f8040e89e6dcac2cba43a95"
      }
     },
     "metadata": {},
     "output_type": "display_data"
    },
    {
     "name": "stdout",
     "output_type": "stream",
     "text": [
      "Iteration No: 85 ended. Search finished for the next optimal point.\n",
      "Time taken: 72.2531\n",
      "Function value obtained: 0.5654\n",
      "Current minimum: 0.0963\n",
      "Iteration No: 86 started. Searching for the next optimal point.\n",
      "Training model with config: 3-conv-layers_2-filters_7-kernel-size_same-padding_(relu)--1-dense_layers_(relu)--avg_pool_(3)_0.1\n"
     ]
    },
    {
     "data": {
      "text/plain": "Training the model on each dataset...:   0%|          | 0/3 [00:00<?, ?dataset/s]",
      "application/vnd.jupyter.widget-view+json": {
       "version_major": 2,
       "version_minor": 0,
       "model_id": "1e124bb3536f4422aff7781d1d7878de"
      }
     },
     "metadata": {},
     "output_type": "display_data"
    },
    {
     "data": {
      "text/plain": "Training electric_devices_3-conv-layers_2-filters_7-kernel-size_same-padding_(relu)--1-dense_layers_(relu)--av…",
      "application/vnd.jupyter.widget-view+json": {
       "version_major": 2,
       "version_minor": 0,
       "model_id": "c9f3dbed278d49049208857601df06f4"
      }
     },
     "metadata": {},
     "output_type": "display_data"
    },
    {
     "data": {
      "text/plain": "Training freezers_3-conv-layers_2-filters_7-kernel-size_same-padding_(relu)--1-dense_layers_(relu)--avg_pool_(…",
      "application/vnd.jupyter.widget-view+json": {
       "version_major": 2,
       "version_minor": 0,
       "model_id": "31ae3946cb56452c8bb430f86f9d76da"
      }
     },
     "metadata": {},
     "output_type": "display_data"
    },
    {
     "data": {
      "text/plain": "Training sony_robot_3-conv-layers_2-filters_7-kernel-size_same-padding_(relu)--1-dense_layers_(relu)--avg_pool…",
      "application/vnd.jupyter.widget-view+json": {
       "version_major": 2,
       "version_minor": 0,
       "model_id": "49126207ce3844d38d5ef187b8628604"
      }
     },
     "metadata": {},
     "output_type": "display_data"
    },
    {
     "name": "stdout",
     "output_type": "stream",
     "text": [
      "Iteration No: 86 ended. Search finished for the next optimal point.\n",
      "Time taken: 31.2805\n",
      "Function value obtained: 0.2203\n",
      "Current minimum: 0.0963\n",
      "Iteration No: 87 started. Searching for the next optimal point.\n",
      "Training model with config: 2-conv-layers_4-filters_7-kernel-size_causal-padding_(relu)--2-dense_layers_(relu)--avg_pool_(3)_0.1_batchnorm\n"
     ]
    },
    {
     "data": {
      "text/plain": "Training the model on each dataset...:   0%|          | 0/3 [00:00<?, ?dataset/s]",
      "application/vnd.jupyter.widget-view+json": {
       "version_major": 2,
       "version_minor": 0,
       "model_id": "24facd7108504e59b29e51148bbc99a6"
      }
     },
     "metadata": {},
     "output_type": "display_data"
    },
    {
     "data": {
      "text/plain": "Training electric_devices_2-conv-layers_4-filters_7-kernel-size_causal-padding_(relu)--2-dense_layers_(relu)--…",
      "application/vnd.jupyter.widget-view+json": {
       "version_major": 2,
       "version_minor": 0,
       "model_id": "bbc07c88fa794c3f92f41bf35cf94186"
      }
     },
     "metadata": {},
     "output_type": "display_data"
    },
    {
     "data": {
      "text/plain": "Training freezers_2-conv-layers_4-filters_7-kernel-size_causal-padding_(relu)--2-dense_layers_(relu)--avg_pool…",
      "application/vnd.jupyter.widget-view+json": {
       "version_major": 2,
       "version_minor": 0,
       "model_id": "aa2b331d70724157afb258b1af590bda"
      }
     },
     "metadata": {},
     "output_type": "display_data"
    },
    {
     "data": {
      "text/plain": "Training sony_robot_2-conv-layers_4-filters_7-kernel-size_causal-padding_(relu)--2-dense_layers_(relu)--avg_po…",
      "application/vnd.jupyter.widget-view+json": {
       "version_major": 2,
       "version_minor": 0,
       "model_id": "bc0f0ddf522240f7a3ec02020f755bdf"
      }
     },
     "metadata": {},
     "output_type": "display_data"
    },
    {
     "name": "stdout",
     "output_type": "stream",
     "text": [
      "Iteration No: 87 ended. Search finished for the next optimal point.\n",
      "Time taken: 67.1092\n",
      "Function value obtained: 0.3755\n",
      "Current minimum: 0.0963\n",
      "Iteration No: 88 started. Searching for the next optimal point.\n",
      "Training model with config: 2-conv-layers_10-filters_5-kernel-size_same-padding_(relu)--2-dense_layers_(relu)--max_pool_(2)_0.2\n"
     ]
    },
    {
     "data": {
      "text/plain": "Training the model on each dataset...:   0%|          | 0/3 [00:00<?, ?dataset/s]",
      "application/vnd.jupyter.widget-view+json": {
       "version_major": 2,
       "version_minor": 0,
       "model_id": "655d1427ef7142c1936d76f632197a6b"
      }
     },
     "metadata": {},
     "output_type": "display_data"
    },
    {
     "data": {
      "text/plain": "Training electric_devices_2-conv-layers_10-filters_5-kernel-size_same-padding_(relu)--2-dense_layers_(relu)--m…",
      "application/vnd.jupyter.widget-view+json": {
       "version_major": 2,
       "version_minor": 0,
       "model_id": "bb818a50238e4d659122aa239cbb3e38"
      }
     },
     "metadata": {},
     "output_type": "display_data"
    },
    {
     "data": {
      "text/plain": "Training freezers_2-conv-layers_10-filters_5-kernel-size_same-padding_(relu)--2-dense_layers_(relu)--max_pool_…",
      "application/vnd.jupyter.widget-view+json": {
       "version_major": 2,
       "version_minor": 0,
       "model_id": "b627bd2350dc4f0ca15255b1bc6c65a2"
      }
     },
     "metadata": {},
     "output_type": "display_data"
    },
    {
     "data": {
      "text/plain": "Training sony_robot_2-conv-layers_10-filters_5-kernel-size_same-padding_(relu)--2-dense_layers_(relu)--max_poo…",
      "application/vnd.jupyter.widget-view+json": {
       "version_major": 2,
       "version_minor": 0,
       "model_id": "2940799d0b984ce6bd7c0eeb61c9f56f"
      }
     },
     "metadata": {},
     "output_type": "display_data"
    },
    {
     "name": "stdout",
     "output_type": "stream",
     "text": [
      "Iteration No: 88 ended. Search finished for the next optimal point.\n",
      "Time taken: 31.2310\n",
      "Function value obtained: 0.1215\n",
      "Current minimum: 0.0963\n",
      "Iteration No: 89 started. Searching for the next optimal point.\n",
      "Training model with config: 2-conv-layers_10-filters_4-kernel-size_same-padding_(relu)--2-dense_layers_(relu)--max_pool_(2)_0.2\n"
     ]
    },
    {
     "data": {
      "text/plain": "Training the model on each dataset...:   0%|          | 0/3 [00:00<?, ?dataset/s]",
      "application/vnd.jupyter.widget-view+json": {
       "version_major": 2,
       "version_minor": 0,
       "model_id": "a3f029e8dfa74c28b819bd531901b8b3"
      }
     },
     "metadata": {},
     "output_type": "display_data"
    },
    {
     "data": {
      "text/plain": "Training electric_devices_2-conv-layers_10-filters_4-kernel-size_same-padding_(relu)--2-dense_layers_(relu)--m…",
      "application/vnd.jupyter.widget-view+json": {
       "version_major": 2,
       "version_minor": 0,
       "model_id": "f298ea7e593e46a28dd732d2c39c163d"
      }
     },
     "metadata": {},
     "output_type": "display_data"
    },
    {
     "data": {
      "text/plain": "Training freezers_2-conv-layers_10-filters_4-kernel-size_same-padding_(relu)--2-dense_layers_(relu)--max_pool_…",
      "application/vnd.jupyter.widget-view+json": {
       "version_major": 2,
       "version_minor": 0,
       "model_id": "7c2064fbae4741e499aac2bddf0d27ba"
      }
     },
     "metadata": {},
     "output_type": "display_data"
    },
    {
     "data": {
      "text/plain": "Training sony_robot_2-conv-layers_10-filters_4-kernel-size_same-padding_(relu)--2-dense_layers_(relu)--max_poo…",
      "application/vnd.jupyter.widget-view+json": {
       "version_major": 2,
       "version_minor": 0,
       "model_id": "5d660aab50f64fa38d4af7dc48608d7e"
      }
     },
     "metadata": {},
     "output_type": "display_data"
    },
    {
     "name": "stdout",
     "output_type": "stream",
     "text": [
      "Iteration No: 89 ended. Search finished for the next optimal point.\n",
      "Time taken: 30.9094\n",
      "Function value obtained: 0.1623\n",
      "Current minimum: 0.0963\n",
      "Iteration No: 90 started. Searching for the next optimal point.\n",
      "Training model with config: 2-conv-layers_10-filters_5-kernel-size_same-padding_(relu)--2-dense_layers_(relu)--max_pool_(2)_0.2\n"
     ]
    },
    {
     "name": "stderr",
     "output_type": "stream",
     "text": [
      "C:\\Users\\timwi\\Documents\\Uni\\EnsembleBasedTSC\\venv\\lib\\site-packages\\skopt\\optimizer\\optimizer.py:449: UserWarning: The objective has been evaluated at this point before.\n",
      "  warnings.warn(\"The objective has been evaluated \"\n"
     ]
    },
    {
     "data": {
      "text/plain": "Training the model on each dataset...:   0%|          | 0/3 [00:00<?, ?dataset/s]",
      "application/vnd.jupyter.widget-view+json": {
       "version_major": 2,
       "version_minor": 0,
       "model_id": "9cb0ffaca7b5424aaeb8f625c0d3ce88"
      }
     },
     "metadata": {},
     "output_type": "display_data"
    },
    {
     "data": {
      "text/plain": "Training electric_devices_2-conv-layers_10-filters_5-kernel-size_same-padding_(relu)--2-dense_layers_(relu)--m…",
      "application/vnd.jupyter.widget-view+json": {
       "version_major": 2,
       "version_minor": 0,
       "model_id": "02cd307861864051a9c2a84807bb9f55"
      }
     },
     "metadata": {},
     "output_type": "display_data"
    },
    {
     "data": {
      "text/plain": "Training freezers_2-conv-layers_10-filters_5-kernel-size_same-padding_(relu)--2-dense_layers_(relu)--max_pool_…",
      "application/vnd.jupyter.widget-view+json": {
       "version_major": 2,
       "version_minor": 0,
       "model_id": "d697bac715574abdacb3468dfcb74271"
      }
     },
     "metadata": {},
     "output_type": "display_data"
    },
    {
     "data": {
      "text/plain": "Training sony_robot_2-conv-layers_10-filters_5-kernel-size_same-padding_(relu)--2-dense_layers_(relu)--max_poo…",
      "application/vnd.jupyter.widget-view+json": {
       "version_major": 2,
       "version_minor": 0,
       "model_id": "c73392b9a0754ae5b99e707cc727cbff"
      }
     },
     "metadata": {},
     "output_type": "display_data"
    },
    {
     "name": "stdout",
     "output_type": "stream",
     "text": [
      "Iteration No: 90 ended. Search finished for the next optimal point.\n",
      "Time taken: 30.8904\n",
      "Function value obtained: 0.1604\n",
      "Current minimum: 0.0963\n",
      "Iteration No: 91 started. Searching for the next optimal point.\n",
      "Training model with config: 2-conv-layers_10-filters_6-kernel-size_same-padding_(relu)--2-dense_layers_(relu)--max_pool_(2)_0.2\n"
     ]
    },
    {
     "data": {
      "text/plain": "Training the model on each dataset...:   0%|          | 0/3 [00:00<?, ?dataset/s]",
      "application/vnd.jupyter.widget-view+json": {
       "version_major": 2,
       "version_minor": 0,
       "model_id": "20275b73251942e9be750ca577a20b64"
      }
     },
     "metadata": {},
     "output_type": "display_data"
    },
    {
     "data": {
      "text/plain": "Training electric_devices_2-conv-layers_10-filters_6-kernel-size_same-padding_(relu)--2-dense_layers_(relu)--m…",
      "application/vnd.jupyter.widget-view+json": {
       "version_major": 2,
       "version_minor": 0,
       "model_id": "f2b48dff8f6f48ae96ca2b22042398da"
      }
     },
     "metadata": {},
     "output_type": "display_data"
    },
    {
     "data": {
      "text/plain": "Training freezers_2-conv-layers_10-filters_6-kernel-size_same-padding_(relu)--2-dense_layers_(relu)--max_pool_…",
      "application/vnd.jupyter.widget-view+json": {
       "version_major": 2,
       "version_minor": 0,
       "model_id": "01cce364a6514fb7b200540b4bfcfe41"
      }
     },
     "metadata": {},
     "output_type": "display_data"
    },
    {
     "data": {
      "text/plain": "Training sony_robot_2-conv-layers_10-filters_6-kernel-size_same-padding_(relu)--2-dense_layers_(relu)--max_poo…",
      "application/vnd.jupyter.widget-view+json": {
       "version_major": 2,
       "version_minor": 0,
       "model_id": "9f82d1227dd14039828b3593a061c5f1"
      }
     },
     "metadata": {},
     "output_type": "display_data"
    },
    {
     "name": "stdout",
     "output_type": "stream",
     "text": [
      "Iteration No: 91 ended. Search finished for the next optimal point.\n",
      "Time taken: 31.6485\n",
      "Function value obtained: 0.1962\n",
      "Current minimum: 0.0963\n",
      "Iteration No: 92 started. Searching for the next optimal point.\n",
      "Training model with config: 2-conv-layers_10-filters_4-kernel-size_same-padding_(relu)--2-dense_layers_(relu)--max_pool_(2)_0.2_batchnorm\n"
     ]
    },
    {
     "data": {
      "text/plain": "Training the model on each dataset...:   0%|          | 0/3 [00:00<?, ?dataset/s]",
      "application/vnd.jupyter.widget-view+json": {
       "version_major": 2,
       "version_minor": 0,
       "model_id": "b1745a4f40b74d46a88e0c80993abda9"
      }
     },
     "metadata": {},
     "output_type": "display_data"
    },
    {
     "data": {
      "text/plain": "Training electric_devices_2-conv-layers_10-filters_4-kernel-size_same-padding_(relu)--2-dense_layers_(relu)--m…",
      "application/vnd.jupyter.widget-view+json": {
       "version_major": 2,
       "version_minor": 0,
       "model_id": "912be5ec9d4f4987b954474fd6544d04"
      }
     },
     "metadata": {},
     "output_type": "display_data"
    },
    {
     "data": {
      "text/plain": "Training freezers_2-conv-layers_10-filters_4-kernel-size_same-padding_(relu)--2-dense_layers_(relu)--max_pool_…",
      "application/vnd.jupyter.widget-view+json": {
       "version_major": 2,
       "version_minor": 0,
       "model_id": "8f9436c275a94abea57f56a61aba8590"
      }
     },
     "metadata": {},
     "output_type": "display_data"
    },
    {
     "data": {
      "text/plain": "Training sony_robot_2-conv-layers_10-filters_4-kernel-size_same-padding_(relu)--2-dense_layers_(relu)--max_poo…",
      "application/vnd.jupyter.widget-view+json": {
       "version_major": 2,
       "version_minor": 0,
       "model_id": "ff1e12f0828347bdaf833a9466436868"
      }
     },
     "metadata": {},
     "output_type": "display_data"
    },
    {
     "name": "stdout",
     "output_type": "stream",
     "text": [
      "Iteration No: 92 ended. Search finished for the next optimal point.\n",
      "Time taken: 63.7326\n",
      "Function value obtained: 0.2076\n",
      "Current minimum: 0.0963\n",
      "Iteration No: 93 started. Searching for the next optimal point.\n",
      "Training model with config: 2-conv-layers_10-filters_7-kernel-size_same-padding_(relu)--1-dense_layers_(relu)--max_pool_(2)_0.5\n"
     ]
    },
    {
     "data": {
      "text/plain": "Training the model on each dataset...:   0%|          | 0/3 [00:00<?, ?dataset/s]",
      "application/vnd.jupyter.widget-view+json": {
       "version_major": 2,
       "version_minor": 0,
       "model_id": "f1c2fcd6ab7e415ba0a7d926067bb266"
      }
     },
     "metadata": {},
     "output_type": "display_data"
    },
    {
     "data": {
      "text/plain": "Training electric_devices_2-conv-layers_10-filters_7-kernel-size_same-padding_(relu)--1-dense_layers_(relu)--m…",
      "application/vnd.jupyter.widget-view+json": {
       "version_major": 2,
       "version_minor": 0,
       "model_id": "b9ddd6805c184867a3c4ef1416c88d0f"
      }
     },
     "metadata": {},
     "output_type": "display_data"
    },
    {
     "data": {
      "text/plain": "Training freezers_2-conv-layers_10-filters_7-kernel-size_same-padding_(relu)--1-dense_layers_(relu)--max_pool_…",
      "application/vnd.jupyter.widget-view+json": {
       "version_major": 2,
       "version_minor": 0,
       "model_id": "3b41aab0d6594abe8899bb174775afca"
      }
     },
     "metadata": {},
     "output_type": "display_data"
    },
    {
     "data": {
      "text/plain": "Training sony_robot_2-conv-layers_10-filters_7-kernel-size_same-padding_(relu)--1-dense_layers_(relu)--max_poo…",
      "application/vnd.jupyter.widget-view+json": {
       "version_major": 2,
       "version_minor": 0,
       "model_id": "0a7528a7c3cc4d429b6ad406c5d0fed9"
      }
     },
     "metadata": {},
     "output_type": "display_data"
    },
    {
     "name": "stdout",
     "output_type": "stream",
     "text": [
      "Iteration No: 93 ended. Search finished for the next optimal point.\n",
      "Time taken: 26.7452\n",
      "Function value obtained: 0.1987\n",
      "Current minimum: 0.0963\n",
      "Iteration No: 94 started. Searching for the next optimal point.\n",
      "Training model with config: 2-conv-layers_10-filters_7-kernel-size_same-padding_(relu)--2-dense_layers_(relu)--max_pool_(2)_0.2\n"
     ]
    },
    {
     "data": {
      "text/plain": "Training the model on each dataset...:   0%|          | 0/3 [00:00<?, ?dataset/s]",
      "application/vnd.jupyter.widget-view+json": {
       "version_major": 2,
       "version_minor": 0,
       "model_id": "58f385c157724137b9afa0e0e97ca247"
      }
     },
     "metadata": {},
     "output_type": "display_data"
    },
    {
     "data": {
      "text/plain": "Training electric_devices_2-conv-layers_10-filters_7-kernel-size_same-padding_(relu)--2-dense_layers_(relu)--m…",
      "application/vnd.jupyter.widget-view+json": {
       "version_major": 2,
       "version_minor": 0,
       "model_id": "3c5b6b43e96e4726ad729c177bb5618e"
      }
     },
     "metadata": {},
     "output_type": "display_data"
    },
    {
     "data": {
      "text/plain": "Training freezers_2-conv-layers_10-filters_7-kernel-size_same-padding_(relu)--2-dense_layers_(relu)--max_pool_…",
      "application/vnd.jupyter.widget-view+json": {
       "version_major": 2,
       "version_minor": 0,
       "model_id": "ffc1a7ec63eb4bd785c703cdbaae08ce"
      }
     },
     "metadata": {},
     "output_type": "display_data"
    },
    {
     "data": {
      "text/plain": "Training sony_robot_2-conv-layers_10-filters_7-kernel-size_same-padding_(relu)--2-dense_layers_(relu)--max_poo…",
      "application/vnd.jupyter.widget-view+json": {
       "version_major": 2,
       "version_minor": 0,
       "model_id": "169e351ea2c94ed89b390ca16e77644f"
      }
     },
     "metadata": {},
     "output_type": "display_data"
    },
    {
     "name": "stdout",
     "output_type": "stream",
     "text": [
      "Iteration No: 94 ended. Search finished for the next optimal point.\n",
      "Time taken: 33.4253\n",
      "Function value obtained: 0.1260\n",
      "Current minimum: 0.0963\n",
      "Iteration No: 95 started. Searching for the next optimal point.\n",
      "Training model with config: 2-conv-layers_10-filters_6-kernel-size_same-padding_(relu)--2-dense_layers_(relu)--max_pool_(2)_0.2\n"
     ]
    },
    {
     "name": "stderr",
     "output_type": "stream",
     "text": [
      "C:\\Users\\timwi\\Documents\\Uni\\EnsembleBasedTSC\\venv\\lib\\site-packages\\skopt\\optimizer\\optimizer.py:449: UserWarning: The objective has been evaluated at this point before.\n",
      "  warnings.warn(\"The objective has been evaluated \"\n"
     ]
    },
    {
     "data": {
      "text/plain": "Training the model on each dataset...:   0%|          | 0/3 [00:00<?, ?dataset/s]",
      "application/vnd.jupyter.widget-view+json": {
       "version_major": 2,
       "version_minor": 0,
       "model_id": "14501cce5c1442238806a0bf0f88991e"
      }
     },
     "metadata": {},
     "output_type": "display_data"
    },
    {
     "data": {
      "text/plain": "Training electric_devices_2-conv-layers_10-filters_6-kernel-size_same-padding_(relu)--2-dense_layers_(relu)--m…",
      "application/vnd.jupyter.widget-view+json": {
       "version_major": 2,
       "version_minor": 0,
       "model_id": "1dc82b2d4a8e46ffa9319de57d4547e4"
      }
     },
     "metadata": {},
     "output_type": "display_data"
    },
    {
     "data": {
      "text/plain": "Training freezers_2-conv-layers_10-filters_6-kernel-size_same-padding_(relu)--2-dense_layers_(relu)--max_pool_…",
      "application/vnd.jupyter.widget-view+json": {
       "version_major": 2,
       "version_minor": 0,
       "model_id": "043ff0996f6c4059bb217f5a4b2c6aed"
      }
     },
     "metadata": {},
     "output_type": "display_data"
    },
    {
     "data": {
      "text/plain": "Training sony_robot_2-conv-layers_10-filters_6-kernel-size_same-padding_(relu)--2-dense_layers_(relu)--max_poo…",
      "application/vnd.jupyter.widget-view+json": {
       "version_major": 2,
       "version_minor": 0,
       "model_id": "069742d13a474da6aeb3dd8a1b5cbad6"
      }
     },
     "metadata": {},
     "output_type": "display_data"
    },
    {
     "name": "stdout",
     "output_type": "stream",
     "text": [
      "Iteration No: 95 ended. Search finished for the next optimal point.\n",
      "Time taken: 30.2868\n",
      "Function value obtained: 0.2433\n",
      "Current minimum: 0.0963\n",
      "Iteration No: 96 started. Searching for the next optimal point.\n",
      "Training model with config: 4-conv-layers_10-filters_7-kernel-size_same-padding_(relu)--2-dense_layers_(sigmoid)--max_pool_(2)_\n"
     ]
    },
    {
     "data": {
      "text/plain": "Training the model on each dataset...:   0%|          | 0/3 [00:00<?, ?dataset/s]",
      "application/vnd.jupyter.widget-view+json": {
       "version_major": 2,
       "version_minor": 0,
       "model_id": "b57ce5149068494abda2f1032571b3d5"
      }
     },
     "metadata": {},
     "output_type": "display_data"
    },
    {
     "data": {
      "text/plain": "Training electric_devices_4-conv-layers_10-filters_7-kernel-size_same-padding_(relu)--2-dense_layers_(sigmoid)…",
      "application/vnd.jupyter.widget-view+json": {
       "version_major": 2,
       "version_minor": 0,
       "model_id": "6c41b63c8e5347db88d03f8e158bfcaa"
      }
     },
     "metadata": {},
     "output_type": "display_data"
    },
    {
     "data": {
      "text/plain": "Training freezers_4-conv-layers_10-filters_7-kernel-size_same-padding_(relu)--2-dense_layers_(sigmoid)--max_po…",
      "application/vnd.jupyter.widget-view+json": {
       "version_major": 2,
       "version_minor": 0,
       "model_id": "912741975b134aa7b9c633efe1347ed7"
      }
     },
     "metadata": {},
     "output_type": "display_data"
    },
    {
     "data": {
      "text/plain": "Training sony_robot_4-conv-layers_10-filters_7-kernel-size_same-padding_(relu)--2-dense_layers_(sigmoid)--max_…",
      "application/vnd.jupyter.widget-view+json": {
       "version_major": 2,
       "version_minor": 0,
       "model_id": "bc765bad46274fd094e7a53274c3ba17"
      }
     },
     "metadata": {},
     "output_type": "display_data"
    },
    {
     "name": "stdout",
     "output_type": "stream",
     "text": [
      "Iteration No: 96 ended. Search finished for the next optimal point.\n",
      "Time taken: 28.7705\n",
      "Function value obtained: 0.1290\n",
      "Current minimum: 0.0963\n",
      "Iteration No: 97 started. Searching for the next optimal point.\n",
      "Training model with config: 2-conv-layers_10-filters_7-kernel-size_same-padding_(relu)--2-dense_layers_(relu)--max_pool_(2)_0.1\n"
     ]
    },
    {
     "data": {
      "text/plain": "Training the model on each dataset...:   0%|          | 0/3 [00:00<?, ?dataset/s]",
      "application/vnd.jupyter.widget-view+json": {
       "version_major": 2,
       "version_minor": 0,
       "model_id": "279d127babb049bea4a7299541913d53"
      }
     },
     "metadata": {},
     "output_type": "display_data"
    },
    {
     "data": {
      "text/plain": "Training electric_devices_2-conv-layers_10-filters_7-kernel-size_same-padding_(relu)--2-dense_layers_(relu)--m…",
      "application/vnd.jupyter.widget-view+json": {
       "version_major": 2,
       "version_minor": 0,
       "model_id": "4df03779527d49f493cd64fcb6cb5fda"
      }
     },
     "metadata": {},
     "output_type": "display_data"
    },
    {
     "data": {
      "text/plain": "Training freezers_2-conv-layers_10-filters_7-kernel-size_same-padding_(relu)--2-dense_layers_(relu)--max_pool_…",
      "application/vnd.jupyter.widget-view+json": {
       "version_major": 2,
       "version_minor": 0,
       "model_id": "e5e85de33fc740afb4c32cb44d7f51f5"
      }
     },
     "metadata": {},
     "output_type": "display_data"
    },
    {
     "data": {
      "text/plain": "Training sony_robot_2-conv-layers_10-filters_7-kernel-size_same-padding_(relu)--2-dense_layers_(relu)--max_poo…",
      "application/vnd.jupyter.widget-view+json": {
       "version_major": 2,
       "version_minor": 0,
       "model_id": "cadd5bca1d334932829398d8a5186698"
      }
     },
     "metadata": {},
     "output_type": "display_data"
    },
    {
     "name": "stdout",
     "output_type": "stream",
     "text": [
      "Iteration No: 97 ended. Search finished for the next optimal point.\n",
      "Time taken: 30.0142\n",
      "Function value obtained: 0.1449\n",
      "Current minimum: 0.0963\n",
      "Iteration No: 98 started. Searching for the next optimal point.\n",
      "Training model with config: 2-conv-layers_10-filters_7-kernel-size_same-padding_(relu)--2-dense_layers_(relu)--max_pool_(2)_0.1\n"
     ]
    },
    {
     "data": {
      "text/plain": "Training the model on each dataset...:   0%|          | 0/3 [00:00<?, ?dataset/s]",
      "application/vnd.jupyter.widget-view+json": {
       "version_major": 2,
       "version_minor": 0,
       "model_id": "4b394379320e43a1bd70bb6823894164"
      }
     },
     "metadata": {},
     "output_type": "display_data"
    },
    {
     "data": {
      "text/plain": "Training electric_devices_2-conv-layers_10-filters_7-kernel-size_same-padding_(relu)--2-dense_layers_(relu)--m…",
      "application/vnd.jupyter.widget-view+json": {
       "version_major": 2,
       "version_minor": 0,
       "model_id": "739078c631b340ce9685f5b54d1fcacd"
      }
     },
     "metadata": {},
     "output_type": "display_data"
    },
    {
     "data": {
      "text/plain": "Training freezers_2-conv-layers_10-filters_7-kernel-size_same-padding_(relu)--2-dense_layers_(relu)--max_pool_…",
      "application/vnd.jupyter.widget-view+json": {
       "version_major": 2,
       "version_minor": 0,
       "model_id": "07c55a1e40b949b7aaf1a02964c313ba"
      }
     },
     "metadata": {},
     "output_type": "display_data"
    },
    {
     "data": {
      "text/plain": "Training sony_robot_2-conv-layers_10-filters_7-kernel-size_same-padding_(relu)--2-dense_layers_(relu)--max_poo…",
      "application/vnd.jupyter.widget-view+json": {
       "version_major": 2,
       "version_minor": 0,
       "model_id": "9ca41447399f43949b8e86963f7d7917"
      }
     },
     "metadata": {},
     "output_type": "display_data"
    },
    {
     "name": "stdout",
     "output_type": "stream",
     "text": [
      "Iteration No: 98 ended. Search finished for the next optimal point.\n",
      "Time taken: 29.1936\n",
      "Function value obtained: 0.1467\n",
      "Current minimum: 0.0963\n",
      "Iteration No: 99 started. Searching for the next optimal point.\n",
      "Training model with config: 2-conv-layers_10-filters_7-kernel-size_same-padding_(relu)--2-dense_layers_(relu)--max_pool_(2)_0.1\n"
     ]
    },
    {
     "data": {
      "text/plain": "Training the model on each dataset...:   0%|          | 0/3 [00:00<?, ?dataset/s]",
      "application/vnd.jupyter.widget-view+json": {
       "version_major": 2,
       "version_minor": 0,
       "model_id": "3b8b359d62ea4912aa6c0223ccf44b96"
      }
     },
     "metadata": {},
     "output_type": "display_data"
    },
    {
     "data": {
      "text/plain": "Training electric_devices_2-conv-layers_10-filters_7-kernel-size_same-padding_(relu)--2-dense_layers_(relu)--m…",
      "application/vnd.jupyter.widget-view+json": {
       "version_major": 2,
       "version_minor": 0,
       "model_id": "83e7c0d10fe248b286c9d845fea91bf8"
      }
     },
     "metadata": {},
     "output_type": "display_data"
    },
    {
     "data": {
      "text/plain": "Training freezers_2-conv-layers_10-filters_7-kernel-size_same-padding_(relu)--2-dense_layers_(relu)--max_pool_…",
      "application/vnd.jupyter.widget-view+json": {
       "version_major": 2,
       "version_minor": 0,
       "model_id": "428fc441a184486ca4772db41c2b2f0a"
      }
     },
     "metadata": {},
     "output_type": "display_data"
    },
    {
     "data": {
      "text/plain": "Training sony_robot_2-conv-layers_10-filters_7-kernel-size_same-padding_(relu)--2-dense_layers_(relu)--max_poo…",
      "application/vnd.jupyter.widget-view+json": {
       "version_major": 2,
       "version_minor": 0,
       "model_id": "5e205627ee5249c9bf983e29741d86f4"
      }
     },
     "metadata": {},
     "output_type": "display_data"
    },
    {
     "name": "stdout",
     "output_type": "stream",
     "text": [
      "Iteration No: 99 ended. Search finished for the next optimal point.\n",
      "Time taken: 30.0287\n",
      "Function value obtained: 0.1590\n",
      "Current minimum: 0.0963\n",
      "Iteration No: 100 started. Searching for the next optimal point.\n",
      "Training model with config: 2-conv-layers_10-filters_7-kernel-size_same-padding_(relu)--2-dense_layers_(relu)--max_pool_(2)_0.1_batchnorm\n"
     ]
    },
    {
     "data": {
      "text/plain": "Training the model on each dataset...:   0%|          | 0/3 [00:00<?, ?dataset/s]",
      "application/vnd.jupyter.widget-view+json": {
       "version_major": 2,
       "version_minor": 0,
       "model_id": "1c4097d42b624aee84440ac55c4fe505"
      }
     },
     "metadata": {},
     "output_type": "display_data"
    },
    {
     "data": {
      "text/plain": "Training electric_devices_2-conv-layers_10-filters_7-kernel-size_same-padding_(relu)--2-dense_layers_(relu)--m…",
      "application/vnd.jupyter.widget-view+json": {
       "version_major": 2,
       "version_minor": 0,
       "model_id": "15b2928ff63a44c7ba2f1f209dec4922"
      }
     },
     "metadata": {},
     "output_type": "display_data"
    },
    {
     "data": {
      "text/plain": "Training freezers_2-conv-layers_10-filters_7-kernel-size_same-padding_(relu)--2-dense_layers_(relu)--max_pool_…",
      "application/vnd.jupyter.widget-view+json": {
       "version_major": 2,
       "version_minor": 0,
       "model_id": "17d16df883de471093ce76351ea449ff"
      }
     },
     "metadata": {},
     "output_type": "display_data"
    },
    {
     "data": {
      "text/plain": "Training sony_robot_2-conv-layers_10-filters_7-kernel-size_same-padding_(relu)--2-dense_layers_(relu)--max_poo…",
      "application/vnd.jupyter.widget-view+json": {
       "version_major": 2,
       "version_minor": 0,
       "model_id": "128ac63f7f654aae8d0afdbf894ba6e7"
      }
     },
     "metadata": {},
     "output_type": "display_data"
    },
    {
     "name": "stdout",
     "output_type": "stream",
     "text": [
      "Iteration No: 100 ended. Search finished for the next optimal point.\n",
      "Time taken: 70.4898\n",
      "Function value obtained: 0.1148\n",
      "Current minimum: 0.0963\n"
     ]
    }
   ],
   "source": [
    "result = skopt.gp_minimize(\n",
    "    train_and_evaluate_config,\n",
    "    [\n",
    "        skopt.space.Integer(1, 4, name=\"nr_conv_layers\"),\n",
    "        skopt.space.Integer(2, 10, name=\"nr_conv_filters\"),\n",
    "        skopt.space.Integer(3, 7, name=\"kernel_size\"),\n",
    "        skopt.space.Categorical([\"same\", \"causal\"], name=\"padding_method\"),\n",
    "        skopt.space.Integer(10, 1000, prior=\"log-uniform\", name=\"dense_size\"),\n",
    "        skopt.space.Integer(1, 4, name=\"nr_dense_layers\"),\n",
    "        skopt.space.Categorical([\"sigmoid\", \"relu\"], name=\"conv_activation\"),\n",
    "        skopt.space.Categorical([\"sigmoid\", \"relu\"], name=\"dense_activation\"),\n",
    "        skopt.space.Categorical([\"max_pool\", \"avg_pool\"], name=\"pooling_method\"),\n",
    "        skopt.space.Integer(2, 4, name=\"pooling_size\"),\n",
    "        skopt.space.Categorical(list(np.arange(0, 1, 0.1)), name=\"dropout_rate\"),\n",
    "        skopt.space.Categorical([True, False], name=\"use_batchnorm\"),\n",
    "    ],\n",
    "    n_calls=100,\n",
    "    n_random_starts=5,\n",
    "    verbose=True,\n",
    "    random_state=42,\n",
    "    n_jobs=1,\n",
    "    callback=[tqdm_skopt(total=500, desc=\"Optimizing Hyperparameters\")]\n",
    "    # callback=[skopt.callbacks.CheckpointSaver(\"./checkpoints/checkpoint.pkl\")],\n",
    ")"
   ],
   "metadata": {
    "collapsed": false
   }
  },
  {
   "cell_type": "code",
   "execution_count": 8,
   "outputs": [
    {
     "data": {
      "text/plain": "          fun: 0.09630459547042847\n            x: [2, 9, 7, 'same', 196, 2, 'relu', 'relu', 'max_pool', 2, 0.1, True]\n    func_vals: [ 1.506e-01  6.633e-01 ...  1.590e-01  1.148e-01]\n      x_iters: [[3, 3, 6, 'same', 78, 1, 'relu', 'relu', 'avg_pool', 3, 0.1, True], [4, 2, 7, 'same', 167, 1, 'relu', 'sigmoid', 'avg_pool', 2, 0.9, False], [1, 7, 5, 'same', 86, 4, 'sigmoid', 'relu', 'avg_pool', 4, 0.5, False], [1, 4, 4, 'same', 166, 3, 'relu', 'relu', 'avg_pool', 4, 0.4, False], [3, 2, 6, 'causal', 62, 4, 'sigmoid', 'relu', 'max_pool', 3, 0.9, True], [1, 10, 3, 'causal', 1000, 4, 'relu', 'relu', 'max_pool', 4, 0.9, False], [1, 4, 3, 'same', 255, 4, 'sigmoid', 'relu', 'max_pool', 3, 0.4, True], [1, 10, 3, 'same', 1000, 4, 'relu', 'relu', 'max_pool', 4, 0.9, False], [4, 6, 7, 'causal', 109, 2, 'relu', 'relu', 'avg_pool', 2, 0.2, True], [1, 10, 3, 'causal', 10, 1, 'relu', 'relu', 'avg_pool', 4, 0.30000000000000004, False], [2, 5, 3, 'same', 79, 4, 'relu', 'sigmoid', 'max_pool', 4, 0.7000000000000001, False], [4, 3, 7, 'causal', 569, 3, 'relu', 'relu', 'avg_pool', 2, 0.30000000000000004, True], [1, 2, 3, 'same', 121, 4, 'relu', 'relu', 'avg_pool', 4, 0.9, True], [2, 7, 5, 'same', 36, 2, 'relu', 'relu', 'max_pool', 3, 0.2, False], [2, 4, 3, 'same', 301, 2, 'sigmoid', 'relu', 'max_pool', 4, 0.2, False], [1, 10, 6, 'same', 10, 2, 'relu', 'sigmoid', 'max_pool', 4, 0.2, False], [1, 8, 6, 'causal', 52, 2, 'sigmoid', 'relu', 'max_pool', 2, 0.2, False], [2, 3, 7, 'causal', 38, 2, 'relu', 'relu', 'max_pool', 2, 0.2, True], [3, 3, 7, 'causal', 106, 3, 'sigmoid', 'relu', 'max_pool', 2, 0.4, True], [3, 9, 6, 'same', 545, 1, 'relu', 'relu', 'avg_pool', 4, 0.1, True], [1, 3, 4, 'causal', 16, 1, 'sigmoid', 'relu', 'avg_pool', 2, 0.1, False], [4, 4, 4, 'same', 227, 1, 'sigmoid', 'relu', 'max_pool', 3, 0.30000000000000004, True], [3, 3, 5, 'causal', 18, 4, 'relu', 'relu', 'avg_pool', 3, 0.1, True], [3, 2, 6, 'same', 14, 1, 'sigmoid', 'relu', 'avg_pool', 3, 0.1, True], [4, 2, 7, 'causal', 14, 1, 'relu', 'relu', 'avg_pool', 2, 0.2, True], [3, 2, 6, 'same', 29, 1, 'relu', 'relu', 'avg_pool', 3, 0.1, True], [3, 3, 6, 'causal', 176, 2, 'relu', 'relu', 'avg_pool', 2, 0.4, True], [3, 10, 5, 'causal', 104, 2, 'relu', 'relu', 'max_pool', 2, 0.0, True], [1, 5, 6, 'same', 297, 1, 'relu', 'sigmoid', 'avg_pool', 2, 0.0, True], [4, 10, 4, 'causal', 39, 2, 'sigmoid', 'relu', 'avg_pool', 2, 0.0, False], [2, 3, 4, 'same', 20, 2, 'relu', 'relu', 'max_pool', 2, 0.0, False], [2, 8, 4, 'same', 532, 2, 'relu', 'relu', 'max_pool', 2, 0.0, False], [1, 9, 4, 'causal', 44, 3, 'sigmoid', 'sigmoid', 'avg_pool', 3, 0.9, False], [3, 3, 5, 'same', 647, 2, 'relu', 'sigmoid', 'max_pool', 2, 0.0, True], [3, 2, 7, 'causal', 10, 2, 'relu', 'relu', 'max_pool', 2, 0.0, False], [4, 4, 4, 'same', 37, 2, 'relu', 'sigmoid', 'max_pool', 3, 0.9, False], [3, 2, 6, 'causal', 1000, 2, 'relu', 'relu', 'avg_pool', 2, 0.2, True], [1, 10, 3, 'causal', 1000, 1, 'relu', 'relu', 'max_pool', 2, 0.0, False], [1, 8, 4, 'causal', 1000, 1, 'relu', 'relu', 'max_pool', 2, 0.0, False], [1, 10, 3, 'causal', 1000, 1, 'relu', 'relu', 'max_pool', 2, 0.0, False], [2, 4, 7, 'causal', 60, 3, 'relu', 'relu', 'max_pool', 2, 0.2, True], [1, 2, 3, 'same', 1000, 2, 'sigmoid', 'relu', 'avg_pool', 2, 0.0, True], [1, 2, 3, 'causal', 1000, 2, 'relu', 'relu', 'avg_pool', 2, 0.0, False], [2, 4, 6, 'causal', 116, 2, 'relu', 'relu', 'avg_pool', 2, 0.1, True], [2, 5, 7, 'causal', 119, 2, 'relu', 'relu', 'max_pool', 3, 0.1, True], [1, 10, 3, 'same', 213, 2, 'relu', 'relu', 'avg_pool', 3, 0.30000000000000004, True], [3, 5, 7, 'causal', 112, 2, 'relu', 'relu', 'avg_pool', 2, 0.1, True], [1, 2, 3, 'same', 1000, 2, 'relu', 'relu', 'max_pool', 2, 0.0, True], [1, 2, 3, 'same', 21, 2, 'relu', 'relu', 'avg_pool', 4, 0.0, False], [1, 7, 3, 'same', 1000, 2, 'relu', 'relu', 'avg_pool', 2, 0.4, True], [2, 9, 5, 'causal', 705, 2, 'relu', 'relu', 'max_pool', 3, 0.1, True], [2, 8, 6, 'same', 289, 2, 'relu', 'relu', 'max_pool', 2, 0.1, True], [2, 6, 4, 'causal', 634, 2, 'relu', 'relu', 'max_pool', 4, 0.2, True], [2, 2, 7, 'causal', 18, 2, 'relu', 'relu', 'avg_pool', 2, 0.1, True], [2, 2, 7, 'causal', 19, 2, 'relu', 'relu', 'max_pool', 2, 0.1, True], [2, 8, 6, 'same', 909, 1, 'relu', 'relu', 'avg_pool', 2, 0.1, True], [2, 7, 7, 'same', 27, 2, 'relu', 'relu', 'avg_pool', 2, 0.4, False], [2, 7, 7, 'same', 295, 2, 'relu', 'relu', 'max_pool', 2, 0.1, True], [2, 8, 7, 'same', 311, 2, 'relu', 'relu', 'max_pool', 2, 0.1, True], [2, 10, 7, 'same', 534, 2, 'relu', 'relu', 'max_pool', 2, 0.1, True], [2, 10, 6, 'same', 561, 2, 'relu', 'relu', 'avg_pool', 2, 0.1, True], [2, 9, 7, 'same', 447, 2, 'relu', 'relu', 'max_pool', 2, 0.1, True], [2, 6, 6, 'same', 41, 2, 'relu', 'relu', 'max_pool', 2, 0.1, True], [2, 10, 7, 'same', 610, 2, 'relu', 'relu', 'max_pool', 2, 0.1, True], [2, 10, 7, 'same', 593, 2, 'relu', 'relu', 'max_pool', 2, 0.1, True], [2, 10, 5, 'same', 198, 2, 'relu', 'relu', 'max_pool', 2, 0.1, True], [2, 10, 7, 'same', 586, 2, 'relu', 'relu', 'max_pool', 2, 0.1, True], [2, 10, 7, 'same', 58, 2, 'relu', 'relu', 'max_pool', 2, 0.1, True], [2, 4, 7, 'same', 119, 2, 'relu', 'relu', 'max_pool', 2, 0.1, True], [2, 10, 7, 'same', 211, 2, 'relu', 'relu', 'max_pool', 2, 0.1, True], [2, 10, 7, 'same', 106, 2, 'relu', 'relu', 'max_pool', 2, 0.1, True], [2, 10, 7, 'same', 521, 2, 'relu', 'relu', 'max_pool', 2, 0.1, True], [2, 9, 7, 'same', 196, 2, 'relu', 'relu', 'max_pool', 2, 0.1, True], [2, 8, 6, 'same', 83, 2, 'relu', 'relu', 'max_pool', 2, 0.1, False], [1, 5, 6, 'causal', 115, 2, 'relu', 'relu', 'avg_pool', 2, 0.30000000000000004, True], [2, 9, 4, 'causal', 254, 2, 'relu', 'relu', 'avg_pool', 2, 0.1, True], [2, 4, 7, 'causal', 74, 2, 'relu', 'relu', 'avg_pool', 3, 0.1, True], [2, 3, 7, 'causal', 113, 2, 'relu', 'relu', 'avg_pool', 4, 0.1, True], [2, 2, 7, 'causal', 152, 1, 'relu', 'relu', 'max_pool', 3, 0.1, True], [4, 9, 7, 'causal', 116, 2, 'relu', 'relu', 'max_pool', 4, 0.30000000000000004, True], [2, 2, 7, 'same', 75, 2, 'sigmoid', 'sigmoid', 'max_pool', 3, 0.2, True], [3, 6, 7, 'same', 212, 1, 'relu', 'relu', 'avg_pool', 3, 0.4, True], [1, 7, 4, 'causal', 192, 2, 'sigmoid', 'relu', 'avg_pool', 2, 0.4, False], [3, 5, 7, 'causal', 78, 2, 'relu', 'relu', 'max_pool', 3, 0.0, False], [3, 8, 3, 'same', 240, 2, 'sigmoid', 'relu', 'max_pool', 2, 0.0, True], [3, 2, 7, 'same', 202, 1, 'relu', 'relu', 'avg_pool', 3, 0.1, False], [2, 4, 7, 'causal', 68, 2, 'relu', 'relu', 'avg_pool', 3, 0.1, True], [2, 10, 5, 'same', 1000, 2, 'relu', 'relu', 'max_pool', 2, 0.2, False], [2, 10, 4, 'same', 1000, 2, 'relu', 'relu', 'max_pool', 2, 0.2, False], [2, 10, 5, 'same', 1000, 2, 'relu', 'relu', 'max_pool', 2, 0.2, False], [2, 10, 6, 'same', 1000, 2, 'relu', 'relu', 'max_pool', 2, 0.2, False], [2, 10, 4, 'same', 1000, 2, 'relu', 'relu', 'max_pool', 2, 0.2, True], [2, 10, 7, 'same', 1000, 1, 'relu', 'relu', 'max_pool', 2, 0.5, False], [2, 10, 7, 'same', 462, 2, 'relu', 'relu', 'max_pool', 2, 0.2, False], [2, 10, 6, 'same', 1000, 2, 'relu', 'relu', 'max_pool', 2, 0.2, False], [4, 10, 7, 'same', 1000, 2, 'relu', 'sigmoid', 'max_pool', 2, 0.0, False], [2, 10, 7, 'same', 1000, 2, 'relu', 'relu', 'max_pool', 2, 0.1, False], [2, 10, 7, 'same', 944, 2, 'relu', 'relu', 'max_pool', 2, 0.1, False], [2, 10, 7, 'same', 955, 2, 'relu', 'relu', 'max_pool', 2, 0.1, False], [2, 10, 7, 'same', 572, 2, 'relu', 'relu', 'max_pool', 2, 0.1, True]]\n       models: [GaussianProcessRegressor(kernel=1**2 * Matern(length_scale=[1, 1, 1, 1, 1, 1, 1, 1, 1, 1, 1, 1], nu=2.5) + WhiteKernel(noise_level=1),\n                                        n_restarts_optimizer=2, noise='gaussian',\n                                        normalize_y=True, random_state=1608637542), GaussianProcessRegressor(kernel=1**2 * Matern(length_scale=[1, 1, 1, 1, 1, 1, 1, 1, 1, 1, 1, 1], nu=2.5) + WhiteKernel(noise_level=1),\n                                        n_restarts_optimizer=2, noise='gaussian',\n                                        normalize_y=True, random_state=1608637542), GaussianProcessRegressor(kernel=1**2 * Matern(length_scale=[1, 1, 1, 1, 1, 1, 1, 1, 1, 1, 1, 1], nu=2.5) + WhiteKernel(noise_level=1),\n                                        n_restarts_optimizer=2, noise='gaussian',\n                                        normalize_y=True, random_state=1608637542), GaussianProcessRegressor(kernel=1**2 * Matern(length_scale=[1, 1, 1, 1, 1, 1, 1, 1, 1, 1, 1, 1], nu=2.5) + WhiteKernel(noise_level=1),\n                                        n_restarts_optimizer=2, noise='gaussian',\n                                        normalize_y=True, random_state=1608637542), GaussianProcessRegressor(kernel=1**2 * Matern(length_scale=[1, 1, 1, 1, 1, 1, 1, 1, 1, 1, 1, 1], nu=2.5) + WhiteKernel(noise_level=1),\n                                        n_restarts_optimizer=2, noise='gaussian',\n                                        normalize_y=True, random_state=1608637542), GaussianProcessRegressor(kernel=1**2 * Matern(length_scale=[1, 1, 1, 1, 1, 1, 1, 1, 1, 1, 1, 1], nu=2.5) + WhiteKernel(noise_level=1),\n                                        n_restarts_optimizer=2, noise='gaussian',\n                                        normalize_y=True, random_state=1608637542), GaussianProcessRegressor(kernel=1**2 * Matern(length_scale=[1, 1, 1, 1, 1, 1, 1, 1, 1, 1, 1, 1], nu=2.5) + WhiteKernel(noise_level=1),\n                                        n_restarts_optimizer=2, noise='gaussian',\n                                        normalize_y=True, random_state=1608637542), GaussianProcessRegressor(kernel=1**2 * Matern(length_scale=[1, 1, 1, 1, 1, 1, 1, 1, 1, 1, 1, 1], nu=2.5) + WhiteKernel(noise_level=1),\n                                        n_restarts_optimizer=2, noise='gaussian',\n                                        normalize_y=True, random_state=1608637542), GaussianProcessRegressor(kernel=1**2 * Matern(length_scale=[1, 1, 1, 1, 1, 1, 1, 1, 1, 1, 1, 1], nu=2.5) + WhiteKernel(noise_level=1),\n                                        n_restarts_optimizer=2, noise='gaussian',\n                                        normalize_y=True, random_state=1608637542), GaussianProcessRegressor(kernel=1**2 * Matern(length_scale=[1, 1, 1, 1, 1, 1, 1, 1, 1, 1, 1, 1], nu=2.5) + WhiteKernel(noise_level=1),\n                                        n_restarts_optimizer=2, noise='gaussian',\n                                        normalize_y=True, random_state=1608637542), GaussianProcessRegressor(kernel=1**2 * Matern(length_scale=[1, 1, 1, 1, 1, 1, 1, 1, 1, 1, 1, 1], nu=2.5) + WhiteKernel(noise_level=1),\n                                        n_restarts_optimizer=2, noise='gaussian',\n                                        normalize_y=True, random_state=1608637542), GaussianProcessRegressor(kernel=1**2 * Matern(length_scale=[1, 1, 1, 1, 1, 1, 1, 1, 1, 1, 1, 1], nu=2.5) + WhiteKernel(noise_level=1),\n                                        n_restarts_optimizer=2, noise='gaussian',\n                                        normalize_y=True, random_state=1608637542), GaussianProcessRegressor(kernel=1**2 * Matern(length_scale=[1, 1, 1, 1, 1, 1, 1, 1, 1, 1, 1, 1], nu=2.5) + WhiteKernel(noise_level=1),\n                                        n_restarts_optimizer=2, noise='gaussian',\n                                        normalize_y=True, random_state=1608637542), GaussianProcessRegressor(kernel=1**2 * Matern(length_scale=[1, 1, 1, 1, 1, 1, 1, 1, 1, 1, 1, 1], nu=2.5) + WhiteKernel(noise_level=1),\n                                        n_restarts_optimizer=2, noise='gaussian',\n                                        normalize_y=True, random_state=1608637542), GaussianProcessRegressor(kernel=1**2 * Matern(length_scale=[1, 1, 1, 1, 1, 1, 1, 1, 1, 1, 1, 1], nu=2.5) + WhiteKernel(noise_level=1),\n                                        n_restarts_optimizer=2, noise='gaussian',\n                                        normalize_y=True, random_state=1608637542), GaussianProcessRegressor(kernel=1**2 * Matern(length_scale=[1, 1, 1, 1, 1, 1, 1, 1, 1, 1, 1, 1], nu=2.5) + WhiteKernel(noise_level=1),\n                                        n_restarts_optimizer=2, noise='gaussian',\n                                        normalize_y=True, random_state=1608637542), GaussianProcessRegressor(kernel=1**2 * Matern(length_scale=[1, 1, 1, 1, 1, 1, 1, 1, 1, 1, 1, 1], nu=2.5) + WhiteKernel(noise_level=1),\n                                        n_restarts_optimizer=2, noise='gaussian',\n                                        normalize_y=True, random_state=1608637542), GaussianProcessRegressor(kernel=1**2 * Matern(length_scale=[1, 1, 1, 1, 1, 1, 1, 1, 1, 1, 1, 1], nu=2.5) + WhiteKernel(noise_level=1),\n                                        n_restarts_optimizer=2, noise='gaussian',\n                                        normalize_y=True, random_state=1608637542), GaussianProcessRegressor(kernel=1**2 * Matern(length_scale=[1, 1, 1, 1, 1, 1, 1, 1, 1, 1, 1, 1], nu=2.5) + WhiteKernel(noise_level=1),\n                                        n_restarts_optimizer=2, noise='gaussian',\n                                        normalize_y=True, random_state=1608637542), GaussianProcessRegressor(kernel=1**2 * Matern(length_scale=[1, 1, 1, 1, 1, 1, 1, 1, 1, 1, 1, 1], nu=2.5) + WhiteKernel(noise_level=1),\n                                        n_restarts_optimizer=2, noise='gaussian',\n                                        normalize_y=True, random_state=1608637542), GaussianProcessRegressor(kernel=1**2 * Matern(length_scale=[1, 1, 1, 1, 1, 1, 1, 1, 1, 1, 1, 1], nu=2.5) + WhiteKernel(noise_level=1),\n                                        n_restarts_optimizer=2, noise='gaussian',\n                                        normalize_y=True, random_state=1608637542), GaussianProcessRegressor(kernel=1**2 * Matern(length_scale=[1, 1, 1, 1, 1, 1, 1, 1, 1, 1, 1, 1], nu=2.5) + WhiteKernel(noise_level=1),\n                                        n_restarts_optimizer=2, noise='gaussian',\n                                        normalize_y=True, random_state=1608637542), GaussianProcessRegressor(kernel=1**2 * Matern(length_scale=[1, 1, 1, 1, 1, 1, 1, 1, 1, 1, 1, 1], nu=2.5) + WhiteKernel(noise_level=1),\n                                        n_restarts_optimizer=2, noise='gaussian',\n                                        normalize_y=True, random_state=1608637542), GaussianProcessRegressor(kernel=1**2 * Matern(length_scale=[1, 1, 1, 1, 1, 1, 1, 1, 1, 1, 1, 1], nu=2.5) + WhiteKernel(noise_level=1),\n                                        n_restarts_optimizer=2, noise='gaussian',\n                                        normalize_y=True, random_state=1608637542), GaussianProcessRegressor(kernel=1**2 * Matern(length_scale=[1, 1, 1, 1, 1, 1, 1, 1, 1, 1, 1, 1], nu=2.5) + WhiteKernel(noise_level=1),\n                                        n_restarts_optimizer=2, noise='gaussian',\n                                        normalize_y=True, random_state=1608637542), GaussianProcessRegressor(kernel=1**2 * Matern(length_scale=[1, 1, 1, 1, 1, 1, 1, 1, 1, 1, 1, 1], nu=2.5) + WhiteKernel(noise_level=1),\n                                        n_restarts_optimizer=2, noise='gaussian',\n                                        normalize_y=True, random_state=1608637542), GaussianProcessRegressor(kernel=1**2 * Matern(length_scale=[1, 1, 1, 1, 1, 1, 1, 1, 1, 1, 1, 1], nu=2.5) + WhiteKernel(noise_level=1),\n                                        n_restarts_optimizer=2, noise='gaussian',\n                                        normalize_y=True, random_state=1608637542), GaussianProcessRegressor(kernel=1**2 * Matern(length_scale=[1, 1, 1, 1, 1, 1, 1, 1, 1, 1, 1, 1], nu=2.5) + WhiteKernel(noise_level=1),\n                                        n_restarts_optimizer=2, noise='gaussian',\n                                        normalize_y=True, random_state=1608637542), GaussianProcessRegressor(kernel=1**2 * Matern(length_scale=[1, 1, 1, 1, 1, 1, 1, 1, 1, 1, 1, 1], nu=2.5) + WhiteKernel(noise_level=1),\n                                        n_restarts_optimizer=2, noise='gaussian',\n                                        normalize_y=True, random_state=1608637542), GaussianProcessRegressor(kernel=1**2 * Matern(length_scale=[1, 1, 1, 1, 1, 1, 1, 1, 1, 1, 1, 1], nu=2.5) + WhiteKernel(noise_level=1),\n                                        n_restarts_optimizer=2, noise='gaussian',\n                                        normalize_y=True, random_state=1608637542), GaussianProcessRegressor(kernel=1**2 * Matern(length_scale=[1, 1, 1, 1, 1, 1, 1, 1, 1, 1, 1, 1], nu=2.5) + WhiteKernel(noise_level=1),\n                                        n_restarts_optimizer=2, noise='gaussian',\n                                        normalize_y=True, random_state=1608637542), GaussianProcessRegressor(kernel=1**2 * Matern(length_scale=[1, 1, 1, 1, 1, 1, 1, 1, 1, 1, 1, 1], nu=2.5) + WhiteKernel(noise_level=1),\n                                        n_restarts_optimizer=2, noise='gaussian',\n                                        normalize_y=True, random_state=1608637542), GaussianProcessRegressor(kernel=1**2 * Matern(length_scale=[1, 1, 1, 1, 1, 1, 1, 1, 1, 1, 1, 1], nu=2.5) + WhiteKernel(noise_level=1),\n                                        n_restarts_optimizer=2, noise='gaussian',\n                                        normalize_y=True, random_state=1608637542), GaussianProcessRegressor(kernel=1**2 * Matern(length_scale=[1, 1, 1, 1, 1, 1, 1, 1, 1, 1, 1, 1], nu=2.5) + WhiteKernel(noise_level=1),\n                                        n_restarts_optimizer=2, noise='gaussian',\n                                        normalize_y=True, random_state=1608637542), GaussianProcessRegressor(kernel=1**2 * Matern(length_scale=[1, 1, 1, 1, 1, 1, 1, 1, 1, 1, 1, 1], nu=2.5) + WhiteKernel(noise_level=1),\n                                        n_restarts_optimizer=2, noise='gaussian',\n                                        normalize_y=True, random_state=1608637542), GaussianProcessRegressor(kernel=1**2 * Matern(length_scale=[1, 1, 1, 1, 1, 1, 1, 1, 1, 1, 1, 1], nu=2.5) + WhiteKernel(noise_level=1),\n                                        n_restarts_optimizer=2, noise='gaussian',\n                                        normalize_y=True, random_state=1608637542), GaussianProcessRegressor(kernel=1**2 * Matern(length_scale=[1, 1, 1, 1, 1, 1, 1, 1, 1, 1, 1, 1], nu=2.5) + WhiteKernel(noise_level=1),\n                                        n_restarts_optimizer=2, noise='gaussian',\n                                        normalize_y=True, random_state=1608637542), GaussianProcessRegressor(kernel=1**2 * Matern(length_scale=[1, 1, 1, 1, 1, 1, 1, 1, 1, 1, 1, 1], nu=2.5) + WhiteKernel(noise_level=1),\n                                        n_restarts_optimizer=2, noise='gaussian',\n                                        normalize_y=True, random_state=1608637542), GaussianProcessRegressor(kernel=1**2 * Matern(length_scale=[1, 1, 1, 1, 1, 1, 1, 1, 1, 1, 1, 1], nu=2.5) + WhiteKernel(noise_level=1),\n                                        n_restarts_optimizer=2, noise='gaussian',\n                                        normalize_y=True, random_state=1608637542), GaussianProcessRegressor(kernel=1**2 * Matern(length_scale=[1, 1, 1, 1, 1, 1, 1, 1, 1, 1, 1, 1], nu=2.5) + WhiteKernel(noise_level=1),\n                                        n_restarts_optimizer=2, noise='gaussian',\n                                        normalize_y=True, random_state=1608637542), GaussianProcessRegressor(kernel=1**2 * Matern(length_scale=[1, 1, 1, 1, 1, 1, 1, 1, 1, 1, 1, 1], nu=2.5) + WhiteKernel(noise_level=1),\n                                        n_restarts_optimizer=2, noise='gaussian',\n                                        normalize_y=True, random_state=1608637542), GaussianProcessRegressor(kernel=1**2 * Matern(length_scale=[1, 1, 1, 1, 1, 1, 1, 1, 1, 1, 1, 1], nu=2.5) + WhiteKernel(noise_level=1),\n                                        n_restarts_optimizer=2, noise='gaussian',\n                                        normalize_y=True, random_state=1608637542), GaussianProcessRegressor(kernel=1**2 * Matern(length_scale=[1, 1, 1, 1, 1, 1, 1, 1, 1, 1, 1, 1], nu=2.5) + WhiteKernel(noise_level=1),\n                                        n_restarts_optimizer=2, noise='gaussian',\n                                        normalize_y=True, random_state=1608637542), GaussianProcessRegressor(kernel=1**2 * Matern(length_scale=[1, 1, 1, 1, 1, 1, 1, 1, 1, 1, 1, 1], nu=2.5) + WhiteKernel(noise_level=1),\n                                        n_restarts_optimizer=2, noise='gaussian',\n                                        normalize_y=True, random_state=1608637542), GaussianProcessRegressor(kernel=1**2 * Matern(length_scale=[1, 1, 1, 1, 1, 1, 1, 1, 1, 1, 1, 1], nu=2.5) + WhiteKernel(noise_level=1),\n                                        n_restarts_optimizer=2, noise='gaussian',\n                                        normalize_y=True, random_state=1608637542), GaussianProcessRegressor(kernel=1**2 * Matern(length_scale=[1, 1, 1, 1, 1, 1, 1, 1, 1, 1, 1, 1], nu=2.5) + WhiteKernel(noise_level=1),\n                                        n_restarts_optimizer=2, noise='gaussian',\n                                        normalize_y=True, random_state=1608637542), GaussianProcessRegressor(kernel=1**2 * Matern(length_scale=[1, 1, 1, 1, 1, 1, 1, 1, 1, 1, 1, 1], nu=2.5) + WhiteKernel(noise_level=1),\n                                        n_restarts_optimizer=2, noise='gaussian',\n                                        normalize_y=True, random_state=1608637542), GaussianProcessRegressor(kernel=1**2 * Matern(length_scale=[1, 1, 1, 1, 1, 1, 1, 1, 1, 1, 1, 1], nu=2.5) + WhiteKernel(noise_level=1),\n                                        n_restarts_optimizer=2, noise='gaussian',\n                                        normalize_y=True, random_state=1608637542), GaussianProcessRegressor(kernel=1**2 * Matern(length_scale=[1, 1, 1, 1, 1, 1, 1, 1, 1, 1, 1, 1], nu=2.5) + WhiteKernel(noise_level=1),\n                                        n_restarts_optimizer=2, noise='gaussian',\n                                        normalize_y=True, random_state=1608637542), GaussianProcessRegressor(kernel=1**2 * Matern(length_scale=[1, 1, 1, 1, 1, 1, 1, 1, 1, 1, 1, 1], nu=2.5) + WhiteKernel(noise_level=1),\n                                        n_restarts_optimizer=2, noise='gaussian',\n                                        normalize_y=True, random_state=1608637542), GaussianProcessRegressor(kernel=1**2 * Matern(length_scale=[1, 1, 1, 1, 1, 1, 1, 1, 1, 1, 1, 1], nu=2.5) + WhiteKernel(noise_level=1),\n                                        n_restarts_optimizer=2, noise='gaussian',\n                                        normalize_y=True, random_state=1608637542), GaussianProcessRegressor(kernel=1**2 * Matern(length_scale=[1, 1, 1, 1, 1, 1, 1, 1, 1, 1, 1, 1], nu=2.5) + WhiteKernel(noise_level=1),\n                                        n_restarts_optimizer=2, noise='gaussian',\n                                        normalize_y=True, random_state=1608637542), GaussianProcessRegressor(kernel=1**2 * Matern(length_scale=[1, 1, 1, 1, 1, 1, 1, 1, 1, 1, 1, 1], nu=2.5) + WhiteKernel(noise_level=1),\n                                        n_restarts_optimizer=2, noise='gaussian',\n                                        normalize_y=True, random_state=1608637542), GaussianProcessRegressor(kernel=1**2 * Matern(length_scale=[1, 1, 1, 1, 1, 1, 1, 1, 1, 1, 1, 1], nu=2.5) + WhiteKernel(noise_level=1),\n                                        n_restarts_optimizer=2, noise='gaussian',\n                                        normalize_y=True, random_state=1608637542), GaussianProcessRegressor(kernel=1**2 * Matern(length_scale=[1, 1, 1, 1, 1, 1, 1, 1, 1, 1, 1, 1], nu=2.5) + WhiteKernel(noise_level=1),\n                                        n_restarts_optimizer=2, noise='gaussian',\n                                        normalize_y=True, random_state=1608637542), GaussianProcessRegressor(kernel=1**2 * Matern(length_scale=[1, 1, 1, 1, 1, 1, 1, 1, 1, 1, 1, 1], nu=2.5) + WhiteKernel(noise_level=1),\n                                        n_restarts_optimizer=2, noise='gaussian',\n                                        normalize_y=True, random_state=1608637542), GaussianProcessRegressor(kernel=1**2 * Matern(length_scale=[1, 1, 1, 1, 1, 1, 1, 1, 1, 1, 1, 1], nu=2.5) + WhiteKernel(noise_level=1),\n                                        n_restarts_optimizer=2, noise='gaussian',\n                                        normalize_y=True, random_state=1608637542), GaussianProcessRegressor(kernel=1**2 * Matern(length_scale=[1, 1, 1, 1, 1, 1, 1, 1, 1, 1, 1, 1], nu=2.5) + WhiteKernel(noise_level=1),\n                                        n_restarts_optimizer=2, noise='gaussian',\n                                        normalize_y=True, random_state=1608637542), GaussianProcessRegressor(kernel=1**2 * Matern(length_scale=[1, 1, 1, 1, 1, 1, 1, 1, 1, 1, 1, 1], nu=2.5) + WhiteKernel(noise_level=1),\n                                        n_restarts_optimizer=2, noise='gaussian',\n                                        normalize_y=True, random_state=1608637542), GaussianProcessRegressor(kernel=1**2 * Matern(length_scale=[1, 1, 1, 1, 1, 1, 1, 1, 1, 1, 1, 1], nu=2.5) + WhiteKernel(noise_level=1),\n                                        n_restarts_optimizer=2, noise='gaussian',\n                                        normalize_y=True, random_state=1608637542), GaussianProcessRegressor(kernel=1**2 * Matern(length_scale=[1, 1, 1, 1, 1, 1, 1, 1, 1, 1, 1, 1], nu=2.5) + WhiteKernel(noise_level=1),\n                                        n_restarts_optimizer=2, noise='gaussian',\n                                        normalize_y=True, random_state=1608637542), GaussianProcessRegressor(kernel=1**2 * Matern(length_scale=[1, 1, 1, 1, 1, 1, 1, 1, 1, 1, 1, 1], nu=2.5) + WhiteKernel(noise_level=1),\n                                        n_restarts_optimizer=2, noise='gaussian',\n                                        normalize_y=True, random_state=1608637542), GaussianProcessRegressor(kernel=1**2 * Matern(length_scale=[1, 1, 1, 1, 1, 1, 1, 1, 1, 1, 1, 1], nu=2.5) + WhiteKernel(noise_level=1),\n                                        n_restarts_optimizer=2, noise='gaussian',\n                                        normalize_y=True, random_state=1608637542), GaussianProcessRegressor(kernel=1**2 * Matern(length_scale=[1, 1, 1, 1, 1, 1, 1, 1, 1, 1, 1, 1], nu=2.5) + WhiteKernel(noise_level=1),\n                                        n_restarts_optimizer=2, noise='gaussian',\n                                        normalize_y=True, random_state=1608637542), GaussianProcessRegressor(kernel=1**2 * Matern(length_scale=[1, 1, 1, 1, 1, 1, 1, 1, 1, 1, 1, 1], nu=2.5) + WhiteKernel(noise_level=1),\n                                        n_restarts_optimizer=2, noise='gaussian',\n                                        normalize_y=True, random_state=1608637542), GaussianProcessRegressor(kernel=1**2 * Matern(length_scale=[1, 1, 1, 1, 1, 1, 1, 1, 1, 1, 1, 1], nu=2.5) + WhiteKernel(noise_level=1),\n                                        n_restarts_optimizer=2, noise='gaussian',\n                                        normalize_y=True, random_state=1608637542), GaussianProcessRegressor(kernel=1**2 * Matern(length_scale=[1, 1, 1, 1, 1, 1, 1, 1, 1, 1, 1, 1], nu=2.5) + WhiteKernel(noise_level=1),\n                                        n_restarts_optimizer=2, noise='gaussian',\n                                        normalize_y=True, random_state=1608637542), GaussianProcessRegressor(kernel=1**2 * Matern(length_scale=[1, 1, 1, 1, 1, 1, 1, 1, 1, 1, 1, 1], nu=2.5) + WhiteKernel(noise_level=1),\n                                        n_restarts_optimizer=2, noise='gaussian',\n                                        normalize_y=True, random_state=1608637542), GaussianProcessRegressor(kernel=1**2 * Matern(length_scale=[1, 1, 1, 1, 1, 1, 1, 1, 1, 1, 1, 1], nu=2.5) + WhiteKernel(noise_level=1),\n                                        n_restarts_optimizer=2, noise='gaussian',\n                                        normalize_y=True, random_state=1608637542), GaussianProcessRegressor(kernel=1**2 * Matern(length_scale=[1, 1, 1, 1, 1, 1, 1, 1, 1, 1, 1, 1], nu=2.5) + WhiteKernel(noise_level=1),\n                                        n_restarts_optimizer=2, noise='gaussian',\n                                        normalize_y=True, random_state=1608637542), GaussianProcessRegressor(kernel=1**2 * Matern(length_scale=[1, 1, 1, 1, 1, 1, 1, 1, 1, 1, 1, 1], nu=2.5) + WhiteKernel(noise_level=1),\n                                        n_restarts_optimizer=2, noise='gaussian',\n                                        normalize_y=True, random_state=1608637542), GaussianProcessRegressor(kernel=1**2 * Matern(length_scale=[1, 1, 1, 1, 1, 1, 1, 1, 1, 1, 1, 1], nu=2.5) + WhiteKernel(noise_level=1),\n                                        n_restarts_optimizer=2, noise='gaussian',\n                                        normalize_y=True, random_state=1608637542), GaussianProcessRegressor(kernel=1**2 * Matern(length_scale=[1, 1, 1, 1, 1, 1, 1, 1, 1, 1, 1, 1], nu=2.5) + WhiteKernel(noise_level=1),\n                                        n_restarts_optimizer=2, noise='gaussian',\n                                        normalize_y=True, random_state=1608637542), GaussianProcessRegressor(kernel=1**2 * Matern(length_scale=[1, 1, 1, 1, 1, 1, 1, 1, 1, 1, 1, 1], nu=2.5) + WhiteKernel(noise_level=1),\n                                        n_restarts_optimizer=2, noise='gaussian',\n                                        normalize_y=True, random_state=1608637542), GaussianProcessRegressor(kernel=1**2 * Matern(length_scale=[1, 1, 1, 1, 1, 1, 1, 1, 1, 1, 1, 1], nu=2.5) + WhiteKernel(noise_level=1),\n                                        n_restarts_optimizer=2, noise='gaussian',\n                                        normalize_y=True, random_state=1608637542), GaussianProcessRegressor(kernel=1**2 * Matern(length_scale=[1, 1, 1, 1, 1, 1, 1, 1, 1, 1, 1, 1], nu=2.5) + WhiteKernel(noise_level=1),\n                                        n_restarts_optimizer=2, noise='gaussian',\n                                        normalize_y=True, random_state=1608637542), GaussianProcessRegressor(kernel=1**2 * Matern(length_scale=[1, 1, 1, 1, 1, 1, 1, 1, 1, 1, 1, 1], nu=2.5) + WhiteKernel(noise_level=1),\n                                        n_restarts_optimizer=2, noise='gaussian',\n                                        normalize_y=True, random_state=1608637542), GaussianProcessRegressor(kernel=1**2 * Matern(length_scale=[1, 1, 1, 1, 1, 1, 1, 1, 1, 1, 1, 1], nu=2.5) + WhiteKernel(noise_level=1),\n                                        n_restarts_optimizer=2, noise='gaussian',\n                                        normalize_y=True, random_state=1608637542), GaussianProcessRegressor(kernel=1**2 * Matern(length_scale=[1, 1, 1, 1, 1, 1, 1, 1, 1, 1, 1, 1], nu=2.5) + WhiteKernel(noise_level=1),\n                                        n_restarts_optimizer=2, noise='gaussian',\n                                        normalize_y=True, random_state=1608637542), GaussianProcessRegressor(kernel=1**2 * Matern(length_scale=[1, 1, 1, 1, 1, 1, 1, 1, 1, 1, 1, 1], nu=2.5) + WhiteKernel(noise_level=1),\n                                        n_restarts_optimizer=2, noise='gaussian',\n                                        normalize_y=True, random_state=1608637542), GaussianProcessRegressor(kernel=1**2 * Matern(length_scale=[1, 1, 1, 1, 1, 1, 1, 1, 1, 1, 1, 1], nu=2.5) + WhiteKernel(noise_level=1),\n                                        n_restarts_optimizer=2, noise='gaussian',\n                                        normalize_y=True, random_state=1608637542), GaussianProcessRegressor(kernel=1**2 * Matern(length_scale=[1, 1, 1, 1, 1, 1, 1, 1, 1, 1, 1, 1], nu=2.5) + WhiteKernel(noise_level=1),\n                                        n_restarts_optimizer=2, noise='gaussian',\n                                        normalize_y=True, random_state=1608637542), GaussianProcessRegressor(kernel=1**2 * Matern(length_scale=[1, 1, 1, 1, 1, 1, 1, 1, 1, 1, 1, 1], nu=2.5) + WhiteKernel(noise_level=1),\n                                        n_restarts_optimizer=2, noise='gaussian',\n                                        normalize_y=True, random_state=1608637542), GaussianProcessRegressor(kernel=1**2 * Matern(length_scale=[1, 1, 1, 1, 1, 1, 1, 1, 1, 1, 1, 1], nu=2.5) + WhiteKernel(noise_level=1),\n                                        n_restarts_optimizer=2, noise='gaussian',\n                                        normalize_y=True, random_state=1608637542), GaussianProcessRegressor(kernel=1**2 * Matern(length_scale=[1, 1, 1, 1, 1, 1, 1, 1, 1, 1, 1, 1], nu=2.5) + WhiteKernel(noise_level=1),\n                                        n_restarts_optimizer=2, noise='gaussian',\n                                        normalize_y=True, random_state=1608637542), GaussianProcessRegressor(kernel=1**2 * Matern(length_scale=[1, 1, 1, 1, 1, 1, 1, 1, 1, 1, 1, 1], nu=2.5) + WhiteKernel(noise_level=1),\n                                        n_restarts_optimizer=2, noise='gaussian',\n                                        normalize_y=True, random_state=1608637542), GaussianProcessRegressor(kernel=1**2 * Matern(length_scale=[1, 1, 1, 1, 1, 1, 1, 1, 1, 1, 1, 1], nu=2.5) + WhiteKernel(noise_level=1),\n                                        n_restarts_optimizer=2, noise='gaussian',\n                                        normalize_y=True, random_state=1608637542), GaussianProcessRegressor(kernel=1**2 * Matern(length_scale=[1, 1, 1, 1, 1, 1, 1, 1, 1, 1, 1, 1], nu=2.5) + WhiteKernel(noise_level=1),\n                                        n_restarts_optimizer=2, noise='gaussian',\n                                        normalize_y=True, random_state=1608637542), GaussianProcessRegressor(kernel=1**2 * Matern(length_scale=[1, 1, 1, 1, 1, 1, 1, 1, 1, 1, 1, 1], nu=2.5) + WhiteKernel(noise_level=1),\n                                        n_restarts_optimizer=2, noise='gaussian',\n                                        normalize_y=True, random_state=1608637542), GaussianProcessRegressor(kernel=1**2 * Matern(length_scale=[1, 1, 1, 1, 1, 1, 1, 1, 1, 1, 1, 1], nu=2.5) + WhiteKernel(noise_level=1),\n                                        n_restarts_optimizer=2, noise='gaussian',\n                                        normalize_y=True, random_state=1608637542), GaussianProcessRegressor(kernel=1**2 * Matern(length_scale=[1, 1, 1, 1, 1, 1, 1, 1, 1, 1, 1, 1], nu=2.5) + WhiteKernel(noise_level=1),\n                                        n_restarts_optimizer=2, noise='gaussian',\n                                        normalize_y=True, random_state=1608637542), GaussianProcessRegressor(kernel=1**2 * Matern(length_scale=[1, 1, 1, 1, 1, 1, 1, 1, 1, 1, 1, 1], nu=2.5) + WhiteKernel(noise_level=1),\n                                        n_restarts_optimizer=2, noise='gaussian',\n                                        normalize_y=True, random_state=1608637542), GaussianProcessRegressor(kernel=1**2 * Matern(length_scale=[1, 1, 1, 1, 1, 1, 1, 1, 1, 1, 1, 1], nu=2.5) + WhiteKernel(noise_level=1),\n                                        n_restarts_optimizer=2, noise='gaussian',\n                                        normalize_y=True, random_state=1608637542), GaussianProcessRegressor(kernel=1**2 * Matern(length_scale=[1, 1, 1, 1, 1, 1, 1, 1, 1, 1, 1, 1], nu=2.5) + WhiteKernel(noise_level=1),\n                                        n_restarts_optimizer=2, noise='gaussian',\n                                        normalize_y=True, random_state=1608637542), GaussianProcessRegressor(kernel=1**2 * Matern(length_scale=[1, 1, 1, 1, 1, 1, 1, 1, 1, 1, 1, 1], nu=2.5) + WhiteKernel(noise_level=1),\n                                        n_restarts_optimizer=2, noise='gaussian',\n                                        normalize_y=True, random_state=1608637542), GaussianProcessRegressor(kernel=1**2 * Matern(length_scale=[1, 1, 1, 1, 1, 1, 1, 1, 1, 1, 1, 1], nu=2.5) + WhiteKernel(noise_level=1),\n                                        n_restarts_optimizer=2, noise='gaussian',\n                                        normalize_y=True, random_state=1608637542)]\n        space: Space([Integer(low=1, high=4, prior='uniform', transform='normalize'),\n                      Integer(low=2, high=10, prior='uniform', transform='normalize'),\n                      Integer(low=3, high=7, prior='uniform', transform='normalize'),\n                      Categorical(categories=('same', 'causal'), prior=None),\n                      Integer(low=10, high=1000, prior='log-uniform', transform='normalize'),\n                      Integer(low=1, high=4, prior='uniform', transform='normalize'),\n                      Categorical(categories=('sigmoid', 'relu'), prior=None),\n                      Categorical(categories=('sigmoid', 'relu'), prior=None),\n                      Categorical(categories=('max_pool', 'avg_pool'), prior=None),\n                      Integer(low=2, high=4, prior='uniform', transform='normalize'),\n                      Categorical(categories=(0.0, 0.1, 0.2, ..., 0.7000000000000001, 0.8, 0.9), prior=None),\n                      Categorical(categories=(True, False), prior=None)])\n random_state: RandomState(MT19937)\n        specs:     args:                    func: <function train_and_evaluate_config at 0x00000258D014BA30>\n                                      dimensions: Space([Integer(low=1, high=4, prior='uniform', transform='normalize'),\n                                                         Integer(low=2, high=10, prior='uniform', transform='normalize'),\n                                                         Integer(low=3, high=7, prior='uniform', transform='normalize'),\n                                                         Categorical(categories=('same', 'causal'), prior=None),\n                                                         Integer(low=10, high=1000, prior='log-uniform', transform='normalize'),\n                                                         Integer(low=1, high=4, prior='uniform', transform='normalize'),\n                                                         Categorical(categories=('sigmoid', 'relu'), prior=None),\n                                                         Categorical(categories=('sigmoid', 'relu'), prior=None),\n                                                         Categorical(categories=('max_pool', 'avg_pool'), prior=None),\n                                                         Integer(low=2, high=4, prior='uniform', transform='normalize'),\n                                                         Categorical(categories=(0.0, 0.1, 0.2, ..., 0.7000000000000001, 0.8, 0.9), prior=None),\n                                                         Categorical(categories=(True, False), prior=None)])\n                                  base_estimator: GaussianProcessRegressor(kernel=1**2 * Matern(length_scale=[1, 1, 1, 1, 1, 1, 1, 1, 1, 1, 1, 1], nu=2.5),\n                                                                           n_restarts_optimizer=2, noise='gaussian',\n                                                                           normalize_y=True, random_state=1608637542)\n                                         n_calls: 100\n                                 n_random_starts: 5\n                                n_initial_points: 10\n                         initial_point_generator: random\n                                        acq_func: gp_hedge\n                                   acq_optimizer: auto\n                                              x0: None\n                                              y0: None\n                                    random_state: RandomState(MT19937)\n                                         verbose: True\n                                        callback: [<__main__.tqdm_skopt object at 0x00000258D05E7640>, <skopt.callbacks.VerboseCallback object at 0x00000258D05E6D70>]\n                                        n_points: 10000\n                            n_restarts_optimizer: 5\n                                              xi: 0.01\n                                           kappa: 1.96\n                                          n_jobs: 1\n                                model_queue_size: None\n               function: base_minimize"
     },
     "execution_count": 8,
     "metadata": {},
     "output_type": "execute_result"
    }
   ],
   "source": [
    "result"
   ],
   "metadata": {
    "collapsed": false
   }
  },
  {
   "cell_type": "code",
   "execution_count": 28,
   "outputs": [
    {
     "name": "stdout",
     "output_type": "stream",
     "text": [
      "Best configuration: {'nr_conv_layers': 2, 'nr_conv_filters': 9, 'kernel_size': 7, 'padding_method': 'same', 'dense_size': 196, 'nr_dense_layers': 2, 'conv_activation': 'relu', 'dense_activation': 'relu', 'pooling_method': 'max_pool', 'pooling_size': 2, 'dropout_rate': 0.1, 'use_batchnorm': True} \n",
      "results in 90.36954% accuracy\n"
     ]
    }
   ],
   "source": [
    "# name=\"nr_conv_layers\"),\n",
    "#  name=\"nr_conv_filters\"),\n",
    "# name=\"kernel_size\"),\n",
    "# same\", \"causal\"], name=\"padding_method\"),\n",
    "# 00, prior=\"log-uniform\", name=\"dense_size\"),\n",
    "# name=\"nr_dense_layers\"),\n",
    "# sigmoid\", \"relu\"], name=\"conv_activation\"),\n",
    "# sigmoid\", \"relu\"], name=\"dense_activation\"),\n",
    "# max_pool\", \"avg_pool\"], name=\"pooling_method\"),\n",
    "# name=\"pooling_size\"),\n",
    "# st(np.arange(0, 1, 0.1)), name=\"dropout_rate\"),\n",
    "# rue, False], name=\"use_batchnorm\"),\n",
    "def convert_np(x):\n",
    "    if isinstance(x, np.integer):\n",
    "        return int(x)\n",
    "    elif isinstance(x, np.floating):\n",
    "        return float(x)\n",
    "    elif isinstance(x, np.bool_):\n",
    "        return bool(x)\n",
    "    else:\n",
    "        return x\n",
    "\n",
    "key_list = [\"nr_conv_layers\", \"nr_conv_filters\", \"kernel_size\", \"padding_method\", \"dense_size\", \"nr_dense_layers\", \"conv_activation\", \"dense_activation\", \"pooling_method\", \"pooling_size\", \"dropout_rate\", \"use_batchnorm\"]\n",
    "values = [convert_np(a) for a in result.x]\n",
    "result_dict = dict(zip(key_list, values))\n",
    "\n",
    "print(f\"Best configuration: {result_dict} \\nresults in {(1-result.fun)*100:.5f}% accuracy\")"
   ],
   "metadata": {
    "collapsed": false
   }
  },
  {
   "cell_type": "markdown",
   "source": [
    "[2, 9, 7, 'same', 196, 2, 'relu', 'relu', 'max_pool', 2, 0.1, True]"
   ],
   "metadata": {
    "collapsed": false
   }
  },
  {
   "cell_type": "code",
   "execution_count": 29,
   "outputs": [],
   "source": [
    "import json\n",
    "json.dump(result_dict, open(\"../results/best_config_for_mcdcnn.json\", \"w\"))"
   ],
   "metadata": {
    "collapsed": false
   }
  }
 ],
 "metadata": {
  "kernelspec": {
   "display_name": "Python 3",
   "language": "python",
   "name": "python3"
  },
  "language_info": {
   "codemirror_mode": {
    "name": "ipython",
    "version": 2
   },
   "file_extension": ".py",
   "mimetype": "text/x-python",
   "name": "python",
   "nbconvert_exporter": "python",
   "pygments_lexer": "ipython2",
   "version": "2.7.6"
  }
 },
 "nbformat": 4,
 "nbformat_minor": 0
}
