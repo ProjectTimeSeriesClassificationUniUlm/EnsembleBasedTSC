{
 "cells": [
  {
   "cell_type": "code",
   "execution_count": 3,
   "id": "a5db3362-c529-45d2-871f-9a24460975fe",
   "metadata": {},
   "outputs": [],
   "source": [
    "import sys\n",
    "sys.path.append(\"../../src\")\n",
    "from LoadData import DATASETS_MCDCNN, DATASETS_TIME_CNN, DATASETS_FCN, DATASETS_ENCODER, DATASETS_RESNET, \\\n",
    "                    get_all_datasets_test_train_np_arrays, get_all_datasets_info, get_all_datasets_names_paths \n",
    "\n",
    "path_to_datasets = \"../../datasets\"\n",
    "\n"
   ]
  },
  {
   "cell_type": "code",
   "execution_count": 4,
   "id": "741a61dc-b634-4361-ac2c-20a37a861036",
   "metadata": {},
   "outputs": [],
   "source": [
    "datasets_test_train_data = get_all_datasets_test_train_np_arrays(path_to_datasets)"
   ]
  },
  {
   "cell_type": "code",
   "execution_count": 5,
   "id": "18286889-ca1c-401d-be12-7b6a922a5a8c",
   "metadata": {},
   "outputs": [
    {
     "name": "stdout",
     "output_type": "stream",
     "text": [
      "Len all datasets 37\n"
     ]
    }
   ],
   "source": [
    "print(\"Len all datasets\", len(datasets_test_train_data))"
   ]
  },
  {
   "cell_type": "code",
   "execution_count": 23,
   "id": "914e4b2f-9bdb-4ec4-8849-0f3e163a7eca",
   "metadata": {},
   "outputs": [],
   "source": [
    "ds_names = DATASETS_RESNET"
   ]
  },
  {
   "cell_type": "code",
   "execution_count": 24,
   "id": "9f9bfe54-685b-400b-a1c1-b66d1b36e656",
   "metadata": {},
   "outputs": [
    {
     "name": "stdout",
     "output_type": "stream",
     "text": [
      "Len all datasets filtered 18\n"
     ]
    }
   ],
   "source": [
    "print(\"Len all datasets filtered\", len(ds_names))"
   ]
  },
  {
   "cell_type": "code",
   "execution_count": 25,
   "id": "51af1c90-2ce4-48a1-833c-8aa5a83fedbb",
   "metadata": {},
   "outputs": [
    {
     "name": "stdout",
     "output_type": "stream",
     "text": [
      "Len all datasets filtered 18\n"
     ]
    }
   ],
   "source": [
    "print(\"Len all datasets filtered\", len(get_all_datasets_test_train_np_arrays(path_to_datasets, ds_names=ds_names)))"
   ]
  },
  {
   "cell_type": "code",
   "execution_count": 26,
   "id": "214125b9-e964-42ca-b729-1240004b15a1",
   "metadata": {},
   "outputs": [
    {
     "name": "stdout",
     "output_type": "stream",
     "text": [
      "Len all datasets filtered 18\n"
     ]
    }
   ],
   "source": [
    "print(\"Len all datasets filtered\", len(get_all_datasets_info(path_to_datasets, ds_names=ds_names)))"
   ]
  },
  {
   "cell_type": "code",
   "execution_count": 27,
   "id": "7fe707ab-2f95-4dfe-81c4-b447d6b8c075",
   "metadata": {},
   "outputs": [
    {
     "name": "stdout",
     "output_type": "stream",
     "text": [
      "Len all datasets filtered 18\n"
     ]
    }
   ],
   "source": [
    "print(\"Len all datasets filtered\", len(get_all_datasets_names_paths(path_to_datasets, ds_names=ds_names)[0]))"
   ]
  },
  {
   "cell_type": "code",
   "execution_count": null,
   "id": "f9bf90eb-c542-409f-b202-8597e6e78be7",
   "metadata": {},
   "outputs": [],
   "source": []
  },
  {
   "cell_type": "code",
   "execution_count": null,
   "id": "266ae25d-9e95-4850-ac6f-bb756160625a",
   "metadata": {},
   "outputs": [],
   "source": []
  }
 ],
 "metadata": {
  "kernelspec": {
   "display_name": "ts_ensemble",
   "language": "python",
   "name": "ts_ensemble"
  },
  "language_info": {
   "codemirror_mode": {
    "name": "ipython",
    "version": 3
   },
   "file_extension": ".py",
   "mimetype": "text/x-python",
   "name": "python",
   "nbconvert_exporter": "python",
   "pygments_lexer": "ipython3",
   "version": "3.8.6"
  }
 },
 "nbformat": 4,
 "nbformat_minor": 5
}
