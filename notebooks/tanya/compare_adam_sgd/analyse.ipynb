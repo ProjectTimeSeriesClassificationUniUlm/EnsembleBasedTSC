{
 "cells": [
  {
   "cell_type": "code",
   "execution_count": 51,
   "id": "87ab945b-9bf0-4208-bd46-8b9b8fa7d648",
   "metadata": {},
   "outputs": [],
   "source": [
    "import pandas as pd\n",
    "import numpy as np"
   ]
  },
  {
   "cell_type": "code",
   "execution_count": 52,
   "id": "2cdbeb46-1aa3-47a2-81e8-7e56f4e308b3",
   "metadata": {},
   "outputs": [],
   "source": [
    "df_adam_lr_001 = pd.read_csv('opt_adam_lr_0.001.csv')\n",
    "df_adam_lr_01 = pd.read_csv('opt_adam_lr_0.01.csv')\n",
    "df_adam_sgd_001 = pd.read_csv('opt_sgd_lr_0.001.csv')\n",
    "df_adam_sgd_01 = pd.read_csv('opt_sgd_lr_0.01.csv')\n",
    "df_to_analyse = [df_adam_lr_001, df_adam_lr_01, df_adam_sgd_001, df_adam_sgd_01]\n",
    "names = [\"adam_lr_001\", \"adam_lr_01\", \"adam_lr_001\", \"adam_lr_01\"]\n"
   ]
  },
  {
   "cell_type": "code",
   "execution_count": 53,
   "id": "b958d300-be4e-4ef9-8eac-a18a57924315",
   "metadata": {},
   "outputs": [],
   "source": [
    "def group_df(df, name):\n",
    "    return df.groupby('model_name')\\\n",
    "                .agg({'test_acc':'mean'})\\\n",
    "                .reset_index()\\\n",
    "                .rename(columns={'test_acc':f'test_acc_avg_{name}'})"
   ]
  },
  {
   "cell_type": "code",
   "execution_count": 54,
   "id": "87e58035-fbcf-4140-a5ab-dd9ac2a68dfd",
   "metadata": {},
   "outputs": [],
   "source": [
    "df_grouped = group_df(df_to_analyse[0], names[0])"
   ]
  },
  {
   "cell_type": "code",
   "execution_count": 55,
   "id": "f4255400-d627-4b16-b67c-fc970e93953a",
   "metadata": {},
   "outputs": [],
   "source": [
    "for i in range(1, len(df_to_analyse)):\n",
    "    df_grouped = group_df(df_to_analyse[i], names[i])\\\n",
    "                    .merge(df_grouped, on='model_name')"
   ]
  },
  {
   "cell_type": "code",
   "execution_count": 56,
   "id": "6f192427-3844-4898-9b0e-e364a2cb4385",
   "metadata": {},
   "outputs": [
    {
     "data": {
      "text/html": [
       "<div>\n",
       "<style scoped>\n",
       "    .dataframe tbody tr th:only-of-type {\n",
       "        vertical-align: middle;\n",
       "    }\n",
       "\n",
       "    .dataframe tbody tr th {\n",
       "        vertical-align: top;\n",
       "    }\n",
       "\n",
       "    .dataframe thead th {\n",
       "        text-align: right;\n",
       "    }\n",
       "</style>\n",
       "<table border=\"1\" class=\"dataframe\">\n",
       "  <thead>\n",
       "    <tr style=\"text-align: right;\">\n",
       "      <th></th>\n",
       "      <th>model_name</th>\n",
       "      <th>test_acc_avg_adam_lr_01_x</th>\n",
       "      <th>test_acc_avg_adam_lr_001_x</th>\n",
       "      <th>test_acc_avg_adam_lr_01_y</th>\n",
       "      <th>test_acc_avg_adam_lr_001_y</th>\n",
       "    </tr>\n",
       "  </thead>\n",
       "  <tbody>\n",
       "    <tr>\n",
       "      <th>0</th>\n",
       "      <td>FCN</td>\n",
       "      <td>0.703896</td>\n",
       "      <td>0.335556</td>\n",
       "      <td>0.747568</td>\n",
       "      <td>0.716871</td>\n",
       "    </tr>\n",
       "    <tr>\n",
       "      <th>1</th>\n",
       "      <td>MCDCNN</td>\n",
       "      <td>0.588691</td>\n",
       "      <td>0.347460</td>\n",
       "      <td>0.872252</td>\n",
       "      <td>0.771532</td>\n",
       "    </tr>\n",
       "    <tr>\n",
       "      <th>2</th>\n",
       "      <td>MLP</td>\n",
       "      <td>0.717282</td>\n",
       "      <td>0.581311</td>\n",
       "      <td>0.573929</td>\n",
       "      <td>0.764616</td>\n",
       "    </tr>\n",
       "    <tr>\n",
       "      <th>3</th>\n",
       "      <td>Resnet</td>\n",
       "      <td>0.819783</td>\n",
       "      <td>0.788642</td>\n",
       "      <td>0.663389</td>\n",
       "      <td>0.793257</td>\n",
       "    </tr>\n",
       "    <tr>\n",
       "      <th>4</th>\n",
       "      <td>Time_CNN</td>\n",
       "      <td>0.759781</td>\n",
       "      <td>0.505477</td>\n",
       "      <td>0.855959</td>\n",
       "      <td>0.775875</td>\n",
       "    </tr>\n",
       "  </tbody>\n",
       "</table>\n",
       "</div>"
      ],
      "text/plain": [
       "  model_name  test_acc_avg_adam_lr_01_x  test_acc_avg_adam_lr_001_x  \\\n",
       "0        FCN                   0.703896                    0.335556   \n",
       "1     MCDCNN                   0.588691                    0.347460   \n",
       "2        MLP                   0.717282                    0.581311   \n",
       "3     Resnet                   0.819783                    0.788642   \n",
       "4   Time_CNN                   0.759781                    0.505477   \n",
       "\n",
       "   test_acc_avg_adam_lr_01_y  test_acc_avg_adam_lr_001_y  \n",
       "0                   0.747568                    0.716871  \n",
       "1                   0.872252                    0.771532  \n",
       "2                   0.573929                    0.764616  \n",
       "3                   0.663389                    0.793257  \n",
       "4                   0.855959                    0.775875  "
      ]
     },
     "execution_count": 56,
     "metadata": {},
     "output_type": "execute_result"
    }
   ],
   "source": [
    "df_grouped"
   ]
  },
  {
   "cell_type": "code",
   "execution_count": 57,
   "id": "0847c6e5-d298-42bc-8258-fc9af347517b",
   "metadata": {},
   "outputs": [
    {
     "name": "stdout",
     "output_type": "stream",
     "text": [
      "Max values of row are at following columns :\n"
     ]
    },
    {
     "data": {
      "text/html": [
       "<div>\n",
       "<style scoped>\n",
       "    .dataframe tbody tr th:only-of-type {\n",
       "        vertical-align: middle;\n",
       "    }\n",
       "\n",
       "    .dataframe tbody tr th {\n",
       "        vertical-align: top;\n",
       "    }\n",
       "\n",
       "    .dataframe thead th {\n",
       "        text-align: right;\n",
       "    }\n",
       "</style>\n",
       "<table border=\"1\" class=\"dataframe\">\n",
       "  <thead>\n",
       "    <tr style=\"text-align: right;\">\n",
       "      <th></th>\n",
       "      <th>model_name</th>\n",
       "      <th>max_avg_test_acc</th>\n",
       "    </tr>\n",
       "  </thead>\n",
       "  <tbody>\n",
       "    <tr>\n",
       "      <th>0</th>\n",
       "      <td>FCN</td>\n",
       "      <td>test_acc_avg_adam_lr_01_y</td>\n",
       "    </tr>\n",
       "    <tr>\n",
       "      <th>1</th>\n",
       "      <td>MCDCNN</td>\n",
       "      <td>test_acc_avg_adam_lr_01_y</td>\n",
       "    </tr>\n",
       "    <tr>\n",
       "      <th>2</th>\n",
       "      <td>MLP</td>\n",
       "      <td>test_acc_avg_adam_lr_001_y</td>\n",
       "    </tr>\n",
       "    <tr>\n",
       "      <th>3</th>\n",
       "      <td>Resnet</td>\n",
       "      <td>test_acc_avg_adam_lr_01_x</td>\n",
       "    </tr>\n",
       "    <tr>\n",
       "      <th>4</th>\n",
       "      <td>Time_CNN</td>\n",
       "      <td>test_acc_avg_adam_lr_01_y</td>\n",
       "    </tr>\n",
       "  </tbody>\n",
       "</table>\n",
       "</div>"
      ],
      "text/plain": [
       "  model_name            max_avg_test_acc\n",
       "0        FCN   test_acc_avg_adam_lr_01_y\n",
       "1     MCDCNN   test_acc_avg_adam_lr_01_y\n",
       "2        MLP  test_acc_avg_adam_lr_001_y\n",
       "3     Resnet   test_acc_avg_adam_lr_01_x\n",
       "4   Time_CNN   test_acc_avg_adam_lr_01_y"
      ]
     },
     "execution_count": 57,
     "metadata": {},
     "output_type": "execute_result"
    }
   ],
   "source": [
    "maxValueIndex = df_grouped.set_index('model_name').idxmax(axis=1)\n",
    "print(\"Max values of row are at following columns :\")\n",
    "maxValueIndex.reset_index().rename(columns={0:f'max_avg_test_acc'})"
   ]
  },
  {
   "cell_type": "code",
   "execution_count": null,
   "id": "1658ecce-7ce4-4822-acd5-f63e55c68691",
   "metadata": {},
   "outputs": [],
   "source": []
  },
  {
   "cell_type": "code",
   "execution_count": null,
   "id": "b078e2b6-0446-427c-9e8c-8e43829f9dee",
   "metadata": {},
   "outputs": [],
   "source": []
  }
 ],
 "metadata": {
  "kernelspec": {
   "display_name": "ts_ensemble",
   "language": "python",
   "name": "ts_ensemble"
  },
  "language_info": {
   "codemirror_mode": {
    "name": "ipython",
    "version": 3
   },
   "file_extension": ".py",
   "mimetype": "text/x-python",
   "name": "python",
   "nbconvert_exporter": "python",
   "pygments_lexer": "ipython3",
   "version": "3.8.6"
  }
 },
 "nbformat": 4,
 "nbformat_minor": 5
}
