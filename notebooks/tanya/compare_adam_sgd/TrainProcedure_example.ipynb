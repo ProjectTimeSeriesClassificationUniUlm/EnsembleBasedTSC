{
 "cells": [
  {
   "cell_type": "code",
   "execution_count": 1,
   "metadata": {
    "tags": []
   },
   "outputs": [],
   "source": [
    "import time\n",
    "import math\n",
    "import os\n",
    "import logging\n",
    "os.environ['TF_CPP_MIN_LOG_LEVEL'] = '2'\n",
    "import tensorflow as tf\n",
    "tf.get_logger().setLevel(logging.WARNING)\n",
    "import sys\n",
    "import json\n",
    "sys.path.append(\"../../../src\")\n",
    "from Helpers import visualize_confusion_matrix, create_confusion_matrix_plot_from_csv\n",
    "from Evaluation import plot_model_history\n",
    "from TrainProdecure import train\n",
    "from ModelBuilder import get_MLP, get_FCN, get_Resnet, get_MCDCNN, get_Encoder, get_Time_CNN\n",
    "from LoadData import DATASETS_RESNET, get_all_datasets_test_train_np_arrays"
   ]
  },
  {
   "cell_type": "code",
   "execution_count": 2,
   "metadata": {},
   "outputs": [],
   "source": [
    "datasets_path = \"../../../datasets\"\n",
    "datasets=get_all_datasets_test_train_np_arrays(datasets_path)"
   ]
  },
  {
   "cell_type": "code",
   "execution_count": null,
   "metadata": {
    "collapsed": false,
    "jupyter": {
     "outputs_hidden": false
    },
    "pycharm": {
     "is_executing": true
    }
   },
   "outputs": [],
   "source": [
    "epochs = 30\n",
    "tf.keras.utils.set_random_seed(math.floor(time.time()))\n",
    "df_training_res = train([get_MLP, get_FCN, get_Resnet, get_MCDCNN, get_Encoder, get_Time_CNN], epochs=epochs)"
   ]
  },
  {
   "cell_type": "code",
   "execution_count": null,
   "metadata": {
    "collapsed": false,
    "jupyter": {
     "outputs_hidden": false
    },
    "pycharm": {
     "is_executing": true
    }
   },
   "outputs": [],
   "source": [
    "history = df_training_res['history'][0]\n",
    "confusion_matrix = df_training_res['confusion_matrix'][0]\n",
    "plot_model_history(json.loads(history), epochs=epochs)\n",
    "visualize_confusion_matrix(json.loads(confusion_matrix), \"MLP\", \"First Dataset\")"
   ]
  },
  {
   "cell_type": "code",
   "execution_count": 2,
   "metadata": {
    "collapsed": false,
    "jupyter": {
     "outputs_hidden": false
    }
   },
   "outputs": [
    {
     "name": "stdout",
     "output_type": "stream",
     "text": [
      "abnormal_heartbeat\n",
      "arrow_head\n",
      "bme\n",
      "car\n",
      "cbf\n",
      "chlorine_concentration\n",
      "coffee_beans\n",
      "colposcopy\n",
      "cricket_y\n",
      "distal_phalanax_tw\n",
      "distal_phalanx_outline\n",
      "dodger_loop_day\n",
      "earthquakes\n",
      "egg_five_days\n",
      "electric_devices\n",
      "face_ucr\n",
      "fifty_words\n",
      "fish\n",
      "freezers\n",
      "gun_point_age_span\n",
      "gun_point_male_female\n",
      "gun_point_old_young\n",
      "large_kitchen_appliances\n",
      "lightning_7\n",
      "medical_images\n",
      "middle_phalanx_age_group\n",
      "middle_phalanx_correct\n",
      "mote_strain\n",
      "phalanges_outlines_correct\n",
      "plane\n",
      "power_cons\n",
      "share_price_increase\n",
      "sony_robot\n",
      "strawberry\n",
      "swedish_leaf\n",
      "synthetic_control\n",
      "trace\n"
     ]
    }
   ],
   "source": [
    "\n",
    "\n",
    "create_confusion_matrix_plot_from_csv('../results/train__MLP_FCN_Resnet_MCDCNN_Encoder_Time_CNN_37_datasets.csv', verbose=True)\n"
   ]
  },
  {
   "cell_type": "code",
   "execution_count": 14,
   "metadata": {
    "collapsed": false,
    "jupyter": {
     "outputs_hidden": false
    }
   },
   "outputs": [],
   "source": [
    "\n"
   ]
  },
  {
   "cell_type": "code",
   "execution_count": null,
   "metadata": {
    "collapsed": false,
    "jupyter": {
     "outputs_hidden": false
    }
   },
   "outputs": [],
   "source": []
  }
 ],
 "metadata": {
  "kernelspec": {
   "display_name": "ts_ensemble",
   "language": "python",
   "name": "ts_ensemble"
  },
  "language_info": {
   "codemirror_mode": {
    "name": "ipython",
    "version": 3
   },
   "file_extension": ".py",
   "mimetype": "text/x-python",
   "name": "python",
   "nbconvert_exporter": "python",
   "pygments_lexer": "ipython3",
   "version": "3.8.6"
  }
 },
 "nbformat": 4,
 "nbformat_minor": 4
}
