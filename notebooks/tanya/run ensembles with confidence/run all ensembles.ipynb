{
 "cells": [
  {
   "cell_type": "code",
   "execution_count": 1,
   "id": "2b3d5f53-24ef-4846-90f8-931715873387",
   "metadata": {},
   "outputs": [],
   "source": [
    "import logging\n",
    "import os\n",
    "\n",
    "import numpy as np\n",
    "\n",
    "os.environ['TF_CPP_MIN_LOG_LEVEL'] = '3'\n",
    "logging.getLogger().setLevel(logging.ERROR)\n",
    "import tensorflow as tf\n",
    "tf.get_logger().setLevel(logging.ERROR)\n",
    "\n",
    "import sys\n",
    "sys.path.append(\"../../../src\")\n",
    "\n",
    "from toolz import keyfilter\n",
    "\n",
    "from Evaluation import create_confusion_matrix_plot_from_csv\n",
    "from LoadData import CurrentDatasets\n",
    "from EnsembleBuilder import EnsembleBuilder\n"
   ]
  },
  {
   "cell_type": "code",
   "execution_count": 2,
   "id": "b9027a1b-be74-4d5e-9f53-b6f1bc82a19f",
   "metadata": {},
   "outputs": [],
   "source": [
    "dataset_names = [dataset.value for dataset in CurrentDatasets][:2]\n",
    "\n",
    "# in a nested list all elements on the same level get equal weights\n",
    "# eg [foo, [bar, bar, bar, [baz, baz]]] is weighted [1/2, [1/8, 1/8, 1/8, [1/16, 1/16]]]\n",
    "\n",
    "ensembles = {\"All\": [\"MLP\", \"Encoder\", \"FCN\"]}\n",
    "model_paths = '../../../models'\n",
    "datasets_path = '../../../datasets'\n",
    "\n",
    "used_ensembles=ensembles\n"
   ]
  },
  {
   "cell_type": "code",
   "execution_count": 3,
   "id": "8a78ae6c-a32e-40cf-9a69-a0fe1ce165ae",
   "metadata": {},
   "outputs": [],
   "source": [
    "ens_builder = EnsembleBuilder(dataset_names=dataset_names, \n",
    "                              ensembles=used_ensembles, \n",
    "                              verbose=True, \n",
    "                              models_path=model_paths, \n",
    "                              datasets_path=datasets_path)"
   ]
  },
  {
   "cell_type": "code",
   "execution_count": 4,
   "id": "8f2b7048-68e9-481b-90c2-3ec54a4395c7",
   "metadata": {},
   "outputs": [
    {
     "name": "stdout",
     "output_type": "stream",
     "text": [
      "1/2:\tcricket_y\n"
     ]
    },
    {
     "name": "stderr",
     "output_type": "stream",
     "text": [
      "/opt/bwhpc/common/jupyter/tensorflow/2023-01-02/lib/python3.8/site-packages/keras/layers/core/lambda_layer.py:324: UserWarning: ModelBuilder is not loaded, but a Lambda layer uses it. It may cause errors.\n",
      "  function = cls._parse_function_from_config(\n"
     ]
    },
    {
     "name": "stdout",
     "output_type": "stream",
     "text": [
      "2/2:\tdistal_phalanax_tw\n"
     ]
    },
    {
     "name": "stderr",
     "output_type": "stream",
     "text": [
      "/opt/bwhpc/common/jupyter/tensorflow/2023-01-02/lib/python3.8/site-packages/keras/layers/core/lambda_layer.py:324: UserWarning: ModelBuilder is not loaded, but a Lambda layer uses it. It may cause errors.\n",
      "  function = cls._parse_function_from_config(\n"
     ]
    },
    {
     "name": "stdout",
     "output_type": "stream",
     "text": [
      "cricket_y\n",
      "distal_phalanax_tw\n"
     ]
    }
   ],
   "source": [
    "csv_name = './ensembles_with_confidence.csv'\n",
    "ens_builder.run_ensembles().to_csv(csv_name)\n",
    "create_confusion_matrix_plot_from_csv(csv_name, verbose=True)"
   ]
  },
  {
   "cell_type": "code",
   "execution_count": null,
   "id": "b05ce91c-b4cc-4932-bb89-ff4abfb32a65",
   "metadata": {},
   "outputs": [],
   "source": []
  },
  {
   "cell_type": "code",
   "execution_count": 6,
   "id": "9dae4b2d-d77c-4f25-a92b-ca88c9b3cb79",
   "metadata": {},
   "outputs": [
    {
     "name": "stdout",
     "output_type": "stream",
     "text": [
      "1/2:\tcricket_y\n"
     ]
    },
    {
     "name": "stderr",
     "output_type": "stream",
     "text": [
      "/opt/bwhpc/common/jupyter/tensorflow/2023-01-02/lib/python3.8/site-packages/keras/layers/core/lambda_layer.py:324: UserWarning: ModelBuilder is not loaded, but a Lambda layer uses it. It may cause errors.\n",
      "  function = cls._parse_function_from_config(\n"
     ]
    },
    {
     "name": "stdout",
     "output_type": "stream",
     "text": [
      "2/2:\tdistal_phalanax_tw\n"
     ]
    },
    {
     "name": "stderr",
     "output_type": "stream",
     "text": [
      "/opt/bwhpc/common/jupyter/tensorflow/2023-01-02/lib/python3.8/site-packages/keras/layers/core/lambda_layer.py:324: UserWarning: ModelBuilder is not loaded, but a Lambda layer uses it. It may cause errors.\n",
      "  function = cls._parse_function_from_config(\n"
     ]
    },
    {
     "name": "stdout",
     "output_type": "stream",
     "text": [
      "cricket_y\n",
      "distal_phalanax_tw\n"
     ]
    }
   ],
   "source": [
    "csv_name = './ensembles_augumented_data_with_confidence.csv'\n",
    "ens_builder.run_ensembles(augmentation=True).to_csv(csv_name)\n",
    "create_confusion_matrix_plot_from_csv(csv_name, verbose=True)"
   ]
  },
  {
   "cell_type": "code",
   "execution_count": null,
   "id": "17c36984-7ff3-4f0a-be55-8ad46fcc13c0",
   "metadata": {},
   "outputs": [],
   "source": []
  },
  {
   "cell_type": "code",
   "execution_count": null,
   "id": "62272560-fb21-4e7a-8ee9-e08c7603bfad",
   "metadata": {},
   "outputs": [],
   "source": []
  }
 ],
 "metadata": {
  "kernelspec": {
   "display_name": "ts_ensemble",
   "language": "python",
   "name": "ts_ensemble"
  },
  "language_info": {
   "codemirror_mode": {
    "name": "ipython",
    "version": 3
   },
   "file_extension": ".py",
   "mimetype": "text/x-python",
   "name": "python",
   "nbconvert_exporter": "python",
   "pygments_lexer": "ipython3",
   "version": "3.8.6"
  }
 },
 "nbformat": 4,
 "nbformat_minor": 5
}
