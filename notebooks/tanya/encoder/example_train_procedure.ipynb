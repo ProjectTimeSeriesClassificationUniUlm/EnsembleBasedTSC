{
 "cells": [
  {
   "cell_type": "code",
   "execution_count": 1,
   "metadata": {
    "tags": []
   },
   "outputs": [
    {
     "name": "stderr",
     "output_type": "stream",
     "text": [
      "2023-01-18 18:04:33.457751: I tensorflow/core/platform/cpu_feature_guard.cc:193] This TensorFlow binary is optimized with oneAPI Deep Neural Network Library (oneDNN) to use the following CPU instructions in performance-critical operations:  AVX2 AVX512F AVX512_VNNI FMA\n",
      "To enable them in other operations, rebuild TensorFlow with the appropriate compiler flags.\n",
      "2023-01-18 18:04:33.588527: I tensorflow/core/util/port.cc:104] oneDNN custom operations are on. You may see slightly different numerical results due to floating-point round-off errors from different computation orders. To turn them off, set the environment variable `TF_ENABLE_ONEDNN_OPTS=0`.\n",
      "2023-01-18 18:04:34.456175: W tensorflow/compiler/xla/stream_executor/platform/default/dso_loader.cc:64] Could not load dynamic library 'libnvinfer.so.7'; dlerror: libnvinfer.so.7: cannot open shared object file: No such file or directory; LD_LIBRARY_PATH: /opt/bwhpc/common/devel/cuda/11.8/lib64\n",
      "2023-01-18 18:04:34.456246: W tensorflow/compiler/xla/stream_executor/platform/default/dso_loader.cc:64] Could not load dynamic library 'libnvinfer_plugin.so.7'; dlerror: libnvinfer_plugin.so.7: cannot open shared object file: No such file or directory; LD_LIBRARY_PATH: /opt/bwhpc/common/devel/cuda/11.8/lib64\n",
      "2023-01-18 18:04:34.456252: W tensorflow/compiler/tf2tensorrt/utils/py_utils.cc:38] TF-TRT Warning: Cannot dlopen some TensorRT libraries. If you would like to use Nvidia GPU with TensorRT, please make sure the missing libraries mentioned above are installed properly.\n"
     ]
    }
   ],
   "source": [
    "import sys\n",
    "import json\n",
    "from pathlib import Path\n",
    "\n",
    "import numpy as np\n",
    "import pandas as pd\n",
    "import tensorflow as tf\n",
    "from tqdm.auto import tqdm\n",
    "from tqdm.keras import TqdmCallback\n",
    "sys.path.append(\"../../../\")\n",
    "from src.Evaluation import plot_model_history\n",
    "from src.ModelBuilder import get_MLP, get_MCDCNN, get_Time_CNN, get_FCN, get_Encoder\n",
    "from src.LoadData import get_all_datasets_test_train_np_arrays\n",
    "from src.Helpers import append_to_csv"
   ]
  },
  {
   "cell_type": "code",
   "execution_count": 2,
   "metadata": {},
   "outputs": [
    {
     "name": "stdout",
     "output_type": "stream",
     "text": [
      "env: XLA_FLAGS=--xla_gpu_cuda_data_dir=/opt/bwhpc/common/devel/cuda/11.8\n"
     ]
    }
   ],
   "source": [
    "%env XLA_FLAGS=--xla_gpu_cuda_data_dir=/opt/bwhpc/common/devel/cuda/11.8"
   ]
  },
  {
   "cell_type": "code",
   "execution_count": 3,
   "metadata": {
    "collapsed": false,
    "jupyter": {
     "outputs_hidden": false
    }
   },
   "outputs": [],
   "source": [
    "path_to_datasets = \"../../../datasets\""
   ]
  },
  {
   "cell_type": "code",
   "execution_count": 4,
   "metadata": {
    "collapsed": false,
    "jupyter": {
     "outputs_hidden": false
    }
   },
   "outputs": [],
   "source": [
    "datasets_test_train_data = get_all_datasets_test_train_np_arrays(path_to_datasets)"
   ]
  },
  {
   "cell_type": "code",
   "execution_count": 5,
   "metadata": {
    "collapsed": false,
    "jupyter": {
     "outputs_hidden": false
    }
   },
   "outputs": [],
   "source": [
    "models_getter = [get_Encoder, ]\n",
    "models_names = [\"Encoder\", ]"
   ]
  },
  {
   "cell_type": "code",
   "execution_count": 6,
   "metadata": {
    "collapsed": false,
    "jupyter": {
     "outputs_hidden": false
    }
   },
   "outputs": [
    {
     "name": "stderr",
     "output_type": "stream",
     "text": [
      "2023-01-18 18:04:43.990256: I tensorflow/core/platform/cpu_feature_guard.cc:193] This TensorFlow binary is optimized with oneAPI Deep Neural Network Library (oneDNN) to use the following CPU instructions in performance-critical operations:  AVX2 AVX512F AVX512_VNNI FMA\n",
      "To enable them in other operations, rebuild TensorFlow with the appropriate compiler flags.\n",
      "2023-01-18 18:04:45.140098: I tensorflow/core/common_runtime/gpu/gpu_device.cc:1613] Created device /job:localhost/replica:0/task:0/device:GPU:0 with 30952 MB memory:  -> device: 0, name: Tesla V100-SXM2-32GB, pci bus id: 0000:89:00.0, compute capability: 7.0\n",
      "2023-01-18 18:04:45.140998: I tensorflow/core/common_runtime/gpu/gpu_device.cc:1613] Created device /job:localhost/replica:0/task:0/device:GPU:1 with 30952 MB memory:  -> device: 1, name: Tesla V100-SXM2-32GB, pci bus id: 0000:8a:00.0, compute capability: 7.0\n"
     ]
    },
    {
     "name": "stdout",
     "output_type": "stream",
     "text": [
      "INFO:tensorflow:Using MirroredStrategy with devices ('/job:localhost/replica:0/task:0/device:GPU:0', '/job:localhost/replica:0/task:0/device:GPU:1')\n"
     ]
    }
   ],
   "source": [
    "# tf.debugging.set_log_device_placement(True)\n",
    "devices = tf.config.list_logical_devices('GPU') # Use this to run training just on GPUs\n",
    "#devices = tf.config.list_logical_devices()\n",
    "strategy = tf.distribute.MirroredStrategy(devices)"
   ]
  },
  {
   "cell_type": "code",
   "execution_count": 7,
   "metadata": {
    "collapsed": false,
    "jupyter": {
     "outputs_hidden": false
    }
   },
   "outputs": [
    {
     "data": {
      "text/plain": [
       "[LogicalDevice(name='/device:GPU:0', device_type='GPU'),\n",
       " LogicalDevice(name='/device:GPU:1', device_type='GPU')]"
      ]
     },
     "execution_count": 7,
     "metadata": {},
     "output_type": "execute_result"
    }
   ],
   "source": [
    "devices"
   ]
  },
  {
   "cell_type": "code",
   "execution_count": 8,
   "metadata": {
    "collapsed": false,
    "jupyter": {
     "outputs_hidden": false
    }
   },
   "outputs": [],
   "source": [
    "path_persist_results = \"./training_res.csv\"\n",
    "if not (csv_path := Path(path_persist_results)).exists():\n",
    "    csv_path.touch()\n",
    "if len(csv_path.read_text()) == 0:\n",
    "    # Only write if the file is empty\n",
    "    columns = [\"dataset_name\", \"model_name\", \"test_loss\", \"test_acc\", \"confusion_matrix\", \"history\"]\n",
    "    append_to_csv(path_persist_results, columns)"
   ]
  },
  {
   "cell_type": "code",
   "execution_count": 9,
   "metadata": {
    "collapsed": false,
    "jupyter": {
     "outputs_hidden": false
    }
   },
   "outputs": [],
   "source": [
    "epochs = 30\n",
    "batch_size = 10\n",
    "validation_split = 0.2"
   ]
  },
  {
   "cell_type": "code",
   "execution_count": 10,
   "metadata": {
    "collapsed": false,
    "jupyter": {
     "outputs_hidden": false
    },
    "pycharm": {
     "is_executing": true
    }
   },
   "outputs": [
    {
     "data": {
      "application/vnd.jupyter.widget-view+json": {
       "model_id": "b8ecafca61414aca92ca56468a03fe12",
       "version_major": 2,
       "version_minor": 0
      },
      "text/plain": [
       "  0%|          | 0/11 [00:00<?, ?dataset/s]"
      ]
     },
     "metadata": {},
     "output_type": "display_data"
    },
    {
     "name": "stdout",
     "output_type": "stream",
     "text": [
      "Dataset name:  abnormal_heartbeat\n"
     ]
    },
    {
     "data": {
      "application/vnd.jupyter.widget-view+json": {
       "model_id": "eca289107f7f45f78f6b69632e3f142f",
       "version_major": 2,
       "version_minor": 0
      },
      "text/plain": [
       "Train on \"abnormal_heartbeat\":   0%|          | 0/1 [00:00<?, ?model/s]"
      ]
     },
     "metadata": {},
     "output_type": "display_data"
    },
    {
     "name": "stdout",
     "output_type": "stream",
     "text": [
      "Model name:  Encoder\n",
      "INFO:tensorflow:Reduce to /job:localhost/replica:0/task:0/device:CPU:0 then broadcast to ('/job:localhost/replica:0/task:0/device:CPU:0',).\n",
      "INFO:tensorflow:Reduce to /job:localhost/replica:0/task:0/device:CPU:0 then broadcast to ('/job:localhost/replica:0/task:0/device:CPU:0',).\n",
      "INFO:tensorflow:Reduce to /job:localhost/replica:0/task:0/device:CPU:0 then broadcast to ('/job:localhost/replica:0/task:0/device:CPU:0',).\n",
      "INFO:tensorflow:Reduce to /job:localhost/replica:0/task:0/device:CPU:0 then broadcast to ('/job:localhost/replica:0/task:0/device:CPU:0',).\n"
     ]
    },
    {
     "data": {
      "application/vnd.jupyter.widget-view+json": {
       "model_id": "38b318f93e9a418da9c97a160b334010",
       "version_major": 2,
       "version_minor": 0
      },
      "text/plain": [
       "Encoder: 0epoch [00:00, ?epoch/s]"
      ]
     },
     "metadata": {},
     "output_type": "display_data"
    },
    {
     "name": "stdout",
     "output_type": "stream",
     "text": [
      "INFO:tensorflow:batch_all_reduce: 21 all-reduces with algorithm = nccl, num_packs = 1\n",
      "INFO:tensorflow:Reduce to /job:localhost/replica:0/task:0/device:CPU:0 then broadcast to ('/job:localhost/replica:0/task:0/device:CPU:0',).\n",
      "INFO:tensorflow:Reduce to /job:localhost/replica:0/task:0/device:CPU:0 then broadcast to ('/job:localhost/replica:0/task:0/device:CPU:0',).\n",
      "INFO:tensorflow:Reduce to /job:localhost/replica:0/task:0/device:CPU:0 then broadcast to ('/job:localhost/replica:0/task:0/device:CPU:0',).\n",
      "INFO:tensorflow:Reduce to /job:localhost/replica:0/task:0/device:CPU:0 then broadcast to ('/job:localhost/replica:0/task:0/device:CPU:0',).\n",
      "INFO:tensorflow:Reduce to /job:localhost/replica:0/task:0/device:CPU:0 then broadcast to ('/job:localhost/replica:0/task:0/device:CPU:0',).\n",
      "INFO:tensorflow:batch_all_reduce: 21 all-reduces with algorithm = nccl, num_packs = 1\n",
      "INFO:tensorflow:Reduce to /job:localhost/replica:0/task:0/device:CPU:0 then broadcast to ('/job:localhost/replica:0/task:0/device:CPU:0',).\n"
     ]
    },
    {
     "name": "stderr",
     "output_type": "stream",
     "text": [
      "2023-01-18 18:04:53.212307: I tensorflow/compiler/xla/stream_executor/cuda/cuda_dnn.cc:428] Loaded cuDNN version 8700\n",
      "2023-01-18 18:04:53.412351: I tensorflow/compiler/xla/stream_executor/cuda/cuda_dnn.cc:428] Loaded cuDNN version 8700\n",
      "2023-01-18 18:04:57.329007: I tensorflow/compiler/xla/service/service.cc:173] XLA service 0x145c9ec5b3c0 initialized for platform CUDA (this does not guarantee that XLA will be used). Devices:\n",
      "2023-01-18 18:04:57.329044: I tensorflow/compiler/xla/service/service.cc:181]   StreamExecutor device (0): Tesla V100-SXM2-32GB, Compute Capability 7.0\n",
      "2023-01-18 18:04:57.329049: I tensorflow/compiler/xla/service/service.cc:181]   StreamExecutor device (1): Tesla V100-SXM2-32GB, Compute Capability 7.0\n",
      "2023-01-18 18:04:57.379475: I tensorflow/compiler/jit/xla_compilation_cache.cc:477] Compiled cluster using XLA!  This line is logged at most once for the lifetime of the process.\n"
     ]
    },
    {
     "name": "stdout",
     "output_type": "stream",
     "text": [
      "7/7 [==============================] - 1s 60ms/step - loss: 1.2602 - accuracy: 0.7268\n",
      "Dataset name:  phalanges_outlines_correct\n"
     ]
    },
    {
     "data": {
      "application/vnd.jupyter.widget-view+json": {
       "model_id": "4a52737e9d1a4b00bf6f1ad8b0628667",
       "version_major": 2,
       "version_minor": 0
      },
      "text/plain": [
       "Train on \"phalanges_outlines_correct\":   0%|          | 0/1 [00:00<?, ?model/s]"
      ]
     },
     "metadata": {},
     "output_type": "display_data"
    },
    {
     "name": "stdout",
     "output_type": "stream",
     "text": [
      "Model name:  Encoder\n"
     ]
    },
    {
     "data": {
      "application/vnd.jupyter.widget-view+json": {
       "model_id": "16e7ef96857a4e009e6c1649474efffe",
       "version_major": 2,
       "version_minor": 0
      },
      "text/plain": [
       "Encoder: 0epoch [00:00, ?epoch/s]"
      ]
     },
     "metadata": {},
     "output_type": "display_data"
    },
    {
     "name": "stdout",
     "output_type": "stream",
     "text": [
      "INFO:tensorflow:batch_all_reduce: 21 all-reduces with algorithm = nccl, num_packs = 1\n",
      "INFO:tensorflow:batch_all_reduce: 21 all-reduces with algorithm = nccl, num_packs = 1\n",
      "27/27 [==============================] - 2s 7ms/step - loss: 0.5085 - accuracy: 0.7552\n",
      "Dataset name:  swedish_leaf\n"
     ]
    },
    {
     "data": {
      "application/vnd.jupyter.widget-view+json": {
       "model_id": "f9c0a513175944caac84c3927b848aac",
       "version_major": 2,
       "version_minor": 0
      },
      "text/plain": [
       "Train on \"swedish_leaf\":   0%|          | 0/1 [00:00<?, ?model/s]"
      ]
     },
     "metadata": {},
     "output_type": "display_data"
    },
    {
     "name": "stdout",
     "output_type": "stream",
     "text": [
      "Model name:  Encoder\n"
     ]
    },
    {
     "data": {
      "application/vnd.jupyter.widget-view+json": {
       "model_id": "2c38b329558145e19e55070d730ba630",
       "version_major": 2,
       "version_minor": 0
      },
      "text/plain": [
       "Encoder: 0epoch [00:00, ?epoch/s]"
      ]
     },
     "metadata": {},
     "output_type": "display_data"
    },
    {
     "name": "stdout",
     "output_type": "stream",
     "text": [
      "INFO:tensorflow:batch_all_reduce: 21 all-reduces with algorithm = nccl, num_packs = 1\n",
      "INFO:tensorflow:batch_all_reduce: 21 all-reduces with algorithm = nccl, num_packs = 1\n",
      "20/20 [==============================] - 2s 15ms/step - loss: 0.2866 - accuracy: 0.9152\n",
      "Dataset name:  share_price_increase\n"
     ]
    },
    {
     "data": {
      "application/vnd.jupyter.widget-view+json": {
       "model_id": "596a648addf041e8b5ef4b2a99b7e76e",
       "version_major": 2,
       "version_minor": 0
      },
      "text/plain": [
       "Train on \"share_price_increase\":   0%|          | 0/1 [00:00<?, ?model/s]"
      ]
     },
     "metadata": {},
     "output_type": "display_data"
    },
    {
     "name": "stdout",
     "output_type": "stream",
     "text": [
      "Model name:  Encoder\n"
     ]
    },
    {
     "data": {
      "application/vnd.jupyter.widget-view+json": {
       "model_id": "dc6aea91daee4754a4e063526780633d",
       "version_major": 2,
       "version_minor": 0
      },
      "text/plain": [
       "Encoder: 0epoch [00:00, ?epoch/s]"
      ]
     },
     "metadata": {},
     "output_type": "display_data"
    },
    {
     "name": "stdout",
     "output_type": "stream",
     "text": [
      "INFO:tensorflow:batch_all_reduce: 21 all-reduces with algorithm = nccl, num_packs = 1\n",
      "INFO:tensorflow:batch_all_reduce: 21 all-reduces with algorithm = nccl, num_packs = 1\n",
      "31/31 [==============================] - 0s 5ms/step - loss: 1.2906 - accuracy: 0.6874\n",
      "Dataset name:  distal_phalanx_outline\n"
     ]
    },
    {
     "data": {
      "application/vnd.jupyter.widget-view+json": {
       "model_id": "d135bd01d55b4773a9a7b5f5c244e6fa",
       "version_major": 2,
       "version_minor": 0
      },
      "text/plain": [
       "Train on \"distal_phalanx_outline\":   0%|          | 0/1 [00:00<?, ?model/s]"
      ]
     },
     "metadata": {},
     "output_type": "display_data"
    },
    {
     "name": "stdout",
     "output_type": "stream",
     "text": [
      "Model name:  Encoder\n"
     ]
    },
    {
     "data": {
      "application/vnd.jupyter.widget-view+json": {
       "model_id": "9d9579fe31544ffbb47cf6926f5e5a64",
       "version_major": 2,
       "version_minor": 0
      },
      "text/plain": [
       "Encoder: 0epoch [00:00, ?epoch/s]"
      ]
     },
     "metadata": {},
     "output_type": "display_data"
    },
    {
     "name": "stdout",
     "output_type": "stream",
     "text": [
      "INFO:tensorflow:batch_all_reduce: 21 all-reduces with algorithm = nccl, num_packs = 1\n",
      "INFO:tensorflow:batch_all_reduce: 21 all-reduces with algorithm = nccl, num_packs = 1\n",
      "9/9 [==============================] - 2s 15ms/step - loss: 0.5501 - accuracy: 0.7355\n",
      "Dataset name:  electric_devices\n"
     ]
    },
    {
     "data": {
      "application/vnd.jupyter.widget-view+json": {
       "model_id": "56da2409ffc44d20af714b489e0914ff",
       "version_major": 2,
       "version_minor": 0
      },
      "text/plain": [
       "Train on \"electric_devices\":   0%|          | 0/1 [00:00<?, ?model/s]"
      ]
     },
     "metadata": {},
     "output_type": "display_data"
    },
    {
     "name": "stdout",
     "output_type": "stream",
     "text": [
      "Model name:  Encoder\n"
     ]
    },
    {
     "data": {
      "application/vnd.jupyter.widget-view+json": {
       "model_id": "b83d66f8775c4423a8876e2f12ac303e",
       "version_major": 2,
       "version_minor": 0
      },
      "text/plain": [
       "Encoder: 0epoch [00:00, ?epoch/s]"
      ]
     },
     "metadata": {},
     "output_type": "display_data"
    },
    {
     "name": "stdout",
     "output_type": "stream",
     "text": [
      "241/241 [==============================] - 1s 4ms/step - loss: 1.4706 - accuracy: 0.6917\n",
      "Dataset name:  freezers\n"
     ]
    },
    {
     "data": {
      "application/vnd.jupyter.widget-view+json": {
       "model_id": "893b17a9422247f2865a46af6852a455",
       "version_major": 2,
       "version_minor": 0
      },
      "text/plain": [
       "Train on \"freezers\":   0%|          | 0/1 [00:00<?, ?model/s]"
      ]
     },
     "metadata": {},
     "output_type": "display_data"
    },
    {
     "name": "stdout",
     "output_type": "stream",
     "text": [
      "Model name:  Encoder\n"
     ]
    },
    {
     "data": {
      "application/vnd.jupyter.widget-view+json": {
       "model_id": "5f057ae880d64c2b8f6de0f4435160ac",
       "version_major": 2,
       "version_minor": 0
      },
      "text/plain": [
       "Encoder: 0epoch [00:00, ?epoch/s]"
      ]
     },
     "metadata": {},
     "output_type": "display_data"
    },
    {
     "name": "stdout",
     "output_type": "stream",
     "text": [
      "90/90 [==============================] - 3s 4ms/step - loss: 0.1331 - accuracy: 0.9407\n",
      "Dataset name:  cricket_y\n"
     ]
    },
    {
     "data": {
      "application/vnd.jupyter.widget-view+json": {
       "model_id": "5b08cde505dc475787fc897bbee3750d",
       "version_major": 2,
       "version_minor": 0
      },
      "text/plain": [
       "Train on \"cricket_y\":   0%|          | 0/1 [00:00<?, ?model/s]"
      ]
     },
     "metadata": {},
     "output_type": "display_data"
    },
    {
     "name": "stdout",
     "output_type": "stream",
     "text": [
      "Model name:  Encoder\n"
     ]
    },
    {
     "data": {
      "application/vnd.jupyter.widget-view+json": {
       "model_id": "a62c56ef27e9495cb1b70164889b487b",
       "version_major": 2,
       "version_minor": 0
      },
      "text/plain": [
       "Encoder: 0epoch [00:00, ?epoch/s]"
      ]
     },
     "metadata": {},
     "output_type": "display_data"
    },
    {
     "name": "stdout",
     "output_type": "stream",
     "text": [
      "13/13 [==============================] - 0s 5ms/step - loss: 1.7220 - accuracy: 0.5026\n",
      "Dataset name:  coffee_beans\n"
     ]
    },
    {
     "data": {
      "application/vnd.jupyter.widget-view+json": {
       "model_id": "547cdba10439414793f24c55385c61f1",
       "version_major": 2,
       "version_minor": 0
      },
      "text/plain": [
       "Train on \"coffee_beans\":   0%|          | 0/1 [00:00<?, ?model/s]"
      ]
     },
     "metadata": {},
     "output_type": "display_data"
    },
    {
     "name": "stdout",
     "output_type": "stream",
     "text": [
      "Model name:  Encoder\n"
     ]
    },
    {
     "data": {
      "application/vnd.jupyter.widget-view+json": {
       "model_id": "5ecd16dc1dba4841a5940cb646fc26c9",
       "version_major": 2,
       "version_minor": 0
      },
      "text/plain": [
       "Encoder: 0epoch [00:00, ?epoch/s]"
      ]
     },
     "metadata": {},
     "output_type": "display_data"
    },
    {
     "name": "stdout",
     "output_type": "stream",
     "text": [
      "1/1 [==============================] - 0s 125ms/step - loss: 0.4858 - accuracy: 0.6429\n",
      "Dataset name:  arrow_head\n"
     ]
    },
    {
     "data": {
      "application/vnd.jupyter.widget-view+json": {
       "model_id": "6e1cf397a26440039595bbaf235fe5d2",
       "version_major": 2,
       "version_minor": 0
      },
      "text/plain": [
       "Train on \"arrow_head\":   0%|          | 0/1 [00:00<?, ?model/s]"
      ]
     },
     "metadata": {},
     "output_type": "display_data"
    },
    {
     "name": "stdout",
     "output_type": "stream",
     "text": [
      "Model name:  Encoder\n"
     ]
    },
    {
     "data": {
      "application/vnd.jupyter.widget-view+json": {
       "model_id": "4a819fcf01924400a132efc24289e614",
       "version_major": 2,
       "version_minor": 0
      },
      "text/plain": [
       "Encoder: 0epoch [00:00, ?epoch/s]"
      ]
     },
     "metadata": {},
     "output_type": "display_data"
    },
    {
     "name": "stdout",
     "output_type": "stream",
     "text": [
      "6/6 [==============================] - 0s 9ms/step - loss: 0.6915 - accuracy: 0.6400\n",
      "Dataset name:  wafer\n"
     ]
    },
    {
     "data": {
      "application/vnd.jupyter.widget-view+json": {
       "model_id": "b132388f60d445309db6f832a038e296",
       "version_major": 2,
       "version_minor": 0
      },
      "text/plain": [
       "Train on \"wafer\":   0%|          | 0/1 [00:00<?, ?model/s]"
      ]
     },
     "metadata": {},
     "output_type": "display_data"
    },
    {
     "name": "stdout",
     "output_type": "stream",
     "text": [
      "Model name:  Encoder\n"
     ]
    },
    {
     "data": {
      "application/vnd.jupyter.widget-view+json": {
       "model_id": "bcb7545d586843b182f9f0ea1b456a8d",
       "version_major": 2,
       "version_minor": 0
      },
      "text/plain": [
       "Encoder: 0epoch [00:00, ?epoch/s]"
      ]
     },
     "metadata": {},
     "output_type": "display_data"
    },
    {
     "name": "stdout",
     "output_type": "stream",
     "text": [
      "193/193 [==============================] - 3s 5ms/step - loss: 0.0222 - accuracy: 0.9933\n"
     ]
    }
   ],
   "source": [
    "with strategy.scope():\n",
    "    for ds_name, ds_data in tqdm(datasets_test_train_data.items(), unit='dataset'):\n",
    "        print(\"Dataset name: \", ds_name)\n",
    "        x_test, y_test = ds_data[\"test_data\"]\n",
    "        x_train, y_train = ds_data[\"train_data\"]\n",
    "\n",
    "        input_size = x_train.shape[1]\n",
    "        output_size = len(np.unique(y_train))\n",
    "\n",
    "        for get_model, model_name in tqdm(list(zip(models_getter, models_names)), unit='model', desc=f'Train on \"{ds_name}\"'):\n",
    "            print(\"Model name: \", model_name)\n",
    "            model = get_model(input_size, output_size)\n",
    "            model.compile(optimizer='SGD',\n",
    "                          loss='sparse_categorical_crossentropy',\n",
    "                          metrics=['accuracy'])\n",
    "            history = model.fit(x_train, y_train, batch_size=batch_size, epochs=epochs, validation_split=validation_split, callbacks=[TqdmCallback(verbose=0, desc=model_name)], verbose=0)\n",
    "            test_loss, test_acc = model.evaluate(x_test, y_test)\n",
    "            # TODO: add confusion matrix\n",
    "\n",
    "            row = [ds_name,\n",
    "                  model_name,\n",
    "                  test_loss,\n",
    "                  test_acc,\n",
    "                  None, # TODO: persist confusion matrix to further analysis\n",
    "                  json.dumps(history.history)]\n",
    "            append_to_csv(path_persist_results, row)"
   ]
  },
  {
   "cell_type": "markdown",
   "metadata": {},
   "source": [
    "# Example load training results and display evaluation results"
   ]
  },
  {
   "cell_type": "code",
   "execution_count": 11,
   "metadata": {
    "collapsed": false,
    "jupyter": {
     "outputs_hidden": false
    },
    "pycharm": {
     "is_executing": true
    }
   },
   "outputs": [],
   "source": [
    "df_training_res = pd.read_csv(path_persist_results)"
   ]
  },
  {
   "cell_type": "code",
   "execution_count": 12,
   "metadata": {
    "collapsed": false,
    "jupyter": {
     "outputs_hidden": false
    },
    "pycharm": {
     "is_executing": true
    }
   },
   "outputs": [
    {
     "data": {
      "text/html": [
       "<div>\n",
       "<style scoped>\n",
       "    .dataframe tbody tr th:only-of-type {\n",
       "        vertical-align: middle;\n",
       "    }\n",
       "\n",
       "    .dataframe tbody tr th {\n",
       "        vertical-align: top;\n",
       "    }\n",
       "\n",
       "    .dataframe thead th {\n",
       "        text-align: right;\n",
       "    }\n",
       "</style>\n",
       "<table border=\"1\" class=\"dataframe\">\n",
       "  <thead>\n",
       "    <tr style=\"text-align: right;\">\n",
       "      <th></th>\n",
       "      <th>dataset_name</th>\n",
       "      <th>model_name</th>\n",
       "      <th>test_loss</th>\n",
       "      <th>test_acc</th>\n",
       "      <th>confusion_matrix</th>\n",
       "      <th>history</th>\n",
       "    </tr>\n",
       "  </thead>\n",
       "  <tbody>\n",
       "    <tr>\n",
       "      <th>0</th>\n",
       "      <td>abnormal_heartbeat</td>\n",
       "      <td>Encoder</td>\n",
       "      <td>1.260185</td>\n",
       "      <td>0.726829</td>\n",
       "      <td>NaN</td>\n",
       "      <td>{\"loss\": [0.5163329243659973, 0.05385819450020...</td>\n",
       "    </tr>\n",
       "    <tr>\n",
       "      <th>1</th>\n",
       "      <td>phalanges_outlines_correct</td>\n",
       "      <td>Encoder</td>\n",
       "      <td>0.508525</td>\n",
       "      <td>0.755245</td>\n",
       "      <td>NaN</td>\n",
       "      <td>{\"loss\": [0.6279335021972656, 0.61735367774963...</td>\n",
       "    </tr>\n",
       "    <tr>\n",
       "      <th>2</th>\n",
       "      <td>swedish_leaf</td>\n",
       "      <td>Encoder</td>\n",
       "      <td>0.286636</td>\n",
       "      <td>0.915200</td>\n",
       "      <td>NaN</td>\n",
       "      <td>{\"loss\": [2.610792875289917, 2.172828912734985...</td>\n",
       "    </tr>\n",
       "    <tr>\n",
       "      <th>3</th>\n",
       "      <td>share_price_increase</td>\n",
       "      <td>Encoder</td>\n",
       "      <td>1.290622</td>\n",
       "      <td>0.687371</td>\n",
       "      <td>NaN</td>\n",
       "      <td>{\"loss\": [0.4948023557662964, 0.40449222922325...</td>\n",
       "    </tr>\n",
       "    <tr>\n",
       "      <th>4</th>\n",
       "      <td>distal_phalanx_outline</td>\n",
       "      <td>Encoder</td>\n",
       "      <td>0.550073</td>\n",
       "      <td>0.735507</td>\n",
       "      <td>NaN</td>\n",
       "      <td>{\"loss\": [0.6747336983680725, 0.62875455617904...</td>\n",
       "    </tr>\n",
       "    <tr>\n",
       "      <th>5</th>\n",
       "      <td>electric_devices</td>\n",
       "      <td>Encoder</td>\n",
       "      <td>1.470596</td>\n",
       "      <td>0.691739</td>\n",
       "      <td>NaN</td>\n",
       "      <td>{\"loss\": [1.189337134361267, 0.798384010791778...</td>\n",
       "    </tr>\n",
       "    <tr>\n",
       "      <th>6</th>\n",
       "      <td>freezers</td>\n",
       "      <td>Encoder</td>\n",
       "      <td>0.133145</td>\n",
       "      <td>0.940702</td>\n",
       "      <td>NaN</td>\n",
       "      <td>{\"loss\": [0.6313468813896179, 0.61874383687973...</td>\n",
       "    </tr>\n",
       "    <tr>\n",
       "      <th>7</th>\n",
       "      <td>cricket_y</td>\n",
       "      <td>Encoder</td>\n",
       "      <td>1.721979</td>\n",
       "      <td>0.502564</td>\n",
       "      <td>NaN</td>\n",
       "      <td>{\"loss\": [2.460876226425171, 2.235610485076904...</td>\n",
       "    </tr>\n",
       "    <tr>\n",
       "      <th>8</th>\n",
       "      <td>coffee_beans</td>\n",
       "      <td>Encoder</td>\n",
       "      <td>0.485757</td>\n",
       "      <td>0.642857</td>\n",
       "      <td>NaN</td>\n",
       "      <td>{\"loss\": [0.7004410028457642, 0.66082811355590...</td>\n",
       "    </tr>\n",
       "    <tr>\n",
       "      <th>9</th>\n",
       "      <td>arrow_head</td>\n",
       "      <td>Encoder</td>\n",
       "      <td>0.691487</td>\n",
       "      <td>0.640000</td>\n",
       "      <td>NaN</td>\n",
       "      <td>{\"loss\": [1.1015182733535767, 1.06762242317199...</td>\n",
       "    </tr>\n",
       "    <tr>\n",
       "      <th>10</th>\n",
       "      <td>wafer</td>\n",
       "      <td>Encoder</td>\n",
       "      <td>0.022243</td>\n",
       "      <td>0.993348</td>\n",
       "      <td>NaN</td>\n",
       "      <td>{\"loss\": [0.2153843343257904, 0.05197807401418...</td>\n",
       "    </tr>\n",
       "  </tbody>\n",
       "</table>\n",
       "</div>"
      ],
      "text/plain": [
       "                  dataset_name model_name  test_loss  test_acc  \\\n",
       "0           abnormal_heartbeat    Encoder   1.260185  0.726829   \n",
       "1   phalanges_outlines_correct    Encoder   0.508525  0.755245   \n",
       "2                 swedish_leaf    Encoder   0.286636  0.915200   \n",
       "3         share_price_increase    Encoder   1.290622  0.687371   \n",
       "4       distal_phalanx_outline    Encoder   0.550073  0.735507   \n",
       "5             electric_devices    Encoder   1.470596  0.691739   \n",
       "6                     freezers    Encoder   0.133145  0.940702   \n",
       "7                    cricket_y    Encoder   1.721979  0.502564   \n",
       "8                 coffee_beans    Encoder   0.485757  0.642857   \n",
       "9                   arrow_head    Encoder   0.691487  0.640000   \n",
       "10                       wafer    Encoder   0.022243  0.993348   \n",
       "\n",
       "    confusion_matrix                                            history  \n",
       "0                NaN  {\"loss\": [0.5163329243659973, 0.05385819450020...  \n",
       "1                NaN  {\"loss\": [0.6279335021972656, 0.61735367774963...  \n",
       "2                NaN  {\"loss\": [2.610792875289917, 2.172828912734985...  \n",
       "3                NaN  {\"loss\": [0.4948023557662964, 0.40449222922325...  \n",
       "4                NaN  {\"loss\": [0.6747336983680725, 0.62875455617904...  \n",
       "5                NaN  {\"loss\": [1.189337134361267, 0.798384010791778...  \n",
       "6                NaN  {\"loss\": [0.6313468813896179, 0.61874383687973...  \n",
       "7                NaN  {\"loss\": [2.460876226425171, 2.235610485076904...  \n",
       "8                NaN  {\"loss\": [0.7004410028457642, 0.66082811355590...  \n",
       "9                NaN  {\"loss\": [1.1015182733535767, 1.06762242317199...  \n",
       "10               NaN  {\"loss\": [0.2153843343257904, 0.05197807401418...  "
      ]
     },
     "execution_count": 12,
     "metadata": {},
     "output_type": "execute_result"
    }
   ],
   "source": [
    "df_training_res"
   ]
  },
  {
   "cell_type": "code",
   "execution_count": 14,
   "metadata": {
    "collapsed": false,
    "jupyter": {
     "outputs_hidden": false
    },
    "pycharm": {
     "is_executing": true
    }
   },
   "outputs": [],
   "source": [
    "history = df_training_res['history'][0]"
   ]
  },
  {
   "cell_type": "code",
   "execution_count": 15,
   "metadata": {
    "collapsed": false,
    "jupyter": {
     "outputs_hidden": false
    },
    "pycharm": {
     "is_executing": true
    }
   },
   "outputs": [
    {
     "data": {
      "text/plain": [
       "{'loss': [0.5163329243659973,\n",
       "  0.0538581945002079,\n",
       "  0.00482696108520031,\n",
       "  0.001751854782924056,\n",
       "  0.0016706426395103335,\n",
       "  0.0007307759369723499,\n",
       "  0.0006830706843174994,\n",
       "  0.0004944929969497025,\n",
       "  0.0004373743140604347,\n",
       "  0.0009648362174630165,\n",
       "  0.0005137254483997822,\n",
       "  0.00031668427982367575,\n",
       "  0.00028367075719870627,\n",
       "  0.00027524339384399354,\n",
       "  0.00031098644831217825,\n",
       "  0.00021740842203143984,\n",
       "  0.00024244197993539274,\n",
       "  0.00027552287792786956,\n",
       "  0.00020925352873746306,\n",
       "  0.0001911270956043154,\n",
       "  0.0002227224176749587,\n",
       "  0.00016026344383135438,\n",
       "  0.00018987749353982508,\n",
       "  0.00026405006065033376,\n",
       "  0.00015174208965618163,\n",
       "  9.252057498088107e-05,\n",
       "  0.0001497379707871005,\n",
       "  0.0001423564535798505,\n",
       "  0.0001247290929313749,\n",
       "  0.0001800397876650095],\n",
       " 'accuracy': [0.7361963391304016,\n",
       "  0.9815950989723206,\n",
       "  1.0,\n",
       "  1.0,\n",
       "  1.0,\n",
       "  1.0,\n",
       "  1.0,\n",
       "  1.0,\n",
       "  1.0,\n",
       "  1.0,\n",
       "  1.0,\n",
       "  1.0,\n",
       "  1.0,\n",
       "  1.0,\n",
       "  1.0,\n",
       "  1.0,\n",
       "  1.0,\n",
       "  1.0,\n",
       "  1.0,\n",
       "  1.0,\n",
       "  1.0,\n",
       "  1.0,\n",
       "  1.0,\n",
       "  1.0,\n",
       "  1.0,\n",
       "  1.0,\n",
       "  1.0,\n",
       "  1.0,\n",
       "  1.0,\n",
       "  1.0],\n",
       " 'val_loss': [2.7783117294311523,\n",
       "  2.690664529800415,\n",
       "  3.111830949783325,\n",
       "  3.2476747035980225,\n",
       "  3.36368465423584,\n",
       "  3.439643621444702,\n",
       "  3.509641647338867,\n",
       "  3.5626132488250732,\n",
       "  3.6079258918762207,\n",
       "  3.6323025226593018,\n",
       "  3.6827821731567383,\n",
       "  3.7292978763580322,\n",
       "  3.765165090560913,\n",
       "  3.797935724258423,\n",
       "  3.830075979232788,\n",
       "  3.8494114875793457,\n",
       "  3.8816440105438232,\n",
       "  3.8964829444885254,\n",
       "  3.9236598014831543,\n",
       "  3.945096969604492,\n",
       "  3.9732584953308105,\n",
       "  3.992297649383545,\n",
       "  4.012461185455322,\n",
       "  4.0204901695251465,\n",
       "  4.038192272186279,\n",
       "  4.050290584564209,\n",
       "  4.067935943603516,\n",
       "  4.0852251052856445,\n",
       "  4.101475238800049,\n",
       "  4.114882469177246],\n",
       " 'val_accuracy': [0.0,\n",
       "  0.04878048598766327,\n",
       "  0.024390242993831635,\n",
       "  0.024390242993831635,\n",
       "  0.024390242993831635,\n",
       "  0.04878048598766327,\n",
       "  0.04878048598766327,\n",
       "  0.04878048598766327,\n",
       "  0.04878048598766327,\n",
       "  0.024390242993831635,\n",
       "  0.024390242993831635,\n",
       "  0.024390242993831635,\n",
       "  0.024390242993831635,\n",
       "  0.024390242993831635,\n",
       "  0.024390242993831635,\n",
       "  0.024390242993831635,\n",
       "  0.024390242993831635,\n",
       "  0.024390242993831635,\n",
       "  0.024390242993831635,\n",
       "  0.024390242993831635,\n",
       "  0.024390242993831635,\n",
       "  0.024390242993831635,\n",
       "  0.024390242993831635,\n",
       "  0.024390242993831635,\n",
       "  0.024390242993831635,\n",
       "  0.024390242993831635,\n",
       "  0.024390242993831635,\n",
       "  0.024390242993831635,\n",
       "  0.024390242993831635,\n",
       "  0.024390242993831635]}"
      ]
     },
     "execution_count": 15,
     "metadata": {},
     "output_type": "execute_result"
    }
   ],
   "source": [
    "json.loads(history)"
   ]
  },
  {
   "cell_type": "code",
   "execution_count": null,
   "metadata": {
    "collapsed": false,
    "jupyter": {
     "outputs_hidden": false
    },
    "pycharm": {
     "is_executing": true
    }
   },
   "outputs": [],
   "source": [
    "plot_model_history(json.loads(history), epochs=epochs)"
   ]
  },
  {
   "cell_type": "code",
   "execution_count": null,
   "metadata": {
    "collapsed": false,
    "jupyter": {
     "outputs_hidden": false
    },
    "pycharm": {
     "is_executing": true
    }
   },
   "outputs": [],
   "source": []
  },
  {
   "cell_type": "code",
   "execution_count": null,
   "metadata": {
    "collapsed": false,
    "jupyter": {
     "outputs_hidden": false
    },
    "pycharm": {
     "is_executing": true
    }
   },
   "outputs": [],
   "source": []
  },
  {
   "cell_type": "code",
   "execution_count": null,
   "metadata": {
    "collapsed": false,
    "jupyter": {
     "outputs_hidden": false
    },
    "pycharm": {
     "is_executing": true
    }
   },
   "outputs": [],
   "source": []
  },
  {
   "cell_type": "code",
   "execution_count": null,
   "metadata": {},
   "outputs": [],
   "source": []
  }
 ],
 "metadata": {
  "kernelspec": {
   "display_name": "ts_ensemble",
   "language": "python",
   "name": "ts_ensemble"
  },
  "language_info": {
   "codemirror_mode": {
    "name": "ipython",
    "version": 3
   },
   "file_extension": ".py",
   "mimetype": "text/x-python",
   "name": "python",
   "nbconvert_exporter": "python",
   "pygments_lexer": "ipython3",
   "version": "3.8.6"
  }
 },
 "nbformat": 4,
 "nbformat_minor": 4
}
