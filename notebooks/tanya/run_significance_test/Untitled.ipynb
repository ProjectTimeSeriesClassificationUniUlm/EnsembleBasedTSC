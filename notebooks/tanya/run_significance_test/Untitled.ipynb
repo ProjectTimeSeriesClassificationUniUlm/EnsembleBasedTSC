{
 "cells": [
  {
   "cell_type": "code",
   "execution_count": 1,
   "id": "910d7946-b40f-4920-8d82-599b5093844e",
   "metadata": {},
   "outputs": [
    {
     "ename": "SyntaxError",
     "evalue": "invalid syntax (750927713.py, line 1)",
     "output_type": "error",
     "traceback": [
      "\u001b[0;36m  Cell \u001b[0;32mIn[1], line 1\u001b[0;36m\u001b[0m\n\u001b[0;31m    print [name for name in os.listdir(\".\") if os.path.isdir(name)]\u001b[0m\n\u001b[0m                ^\u001b[0m\n\u001b[0;31mSyntaxError\u001b[0m\u001b[0;31m:\u001b[0m invalid syntax\n"
     ]
    }
   ],
   "source": []
  },
  {
   "cell_type": "code",
   "execution_count": null,
   "id": "b8b9bbf5-be93-43aa-b3bf-a86cdcc25507",
   "metadata": {},
   "outputs": [],
   "source": []
  },
  {
   "cell_type": "code",
   "execution_count": 4,
   "id": "2f3302ad-10fe-4d99-959e-6a979354f8be",
   "metadata": {},
   "outputs": [],
   "source": [
    "import os"
   ]
  },
  {
   "cell_type": "code",
   "execution_count": 5,
   "id": "f3f8f606-ba9d-47c7-8d38-7a406a56699a",
   "metadata": {},
   "outputs": [],
   "source": [
    "path_to_datasets = \"../../../datasets\""
   ]
  },
  {
   "cell_type": "code",
   "execution_count": 8,
   "id": "ca2f490d-f16e-40bd-94d6-9f4db17cb311",
   "metadata": {},
   "outputs": [
    {
     "data": {
      "text/plain": [
       "['cbf',\n",
       " 'gun_point_male_female',\n",
       " 'car',\n",
       " 'abnormal_heartbeat',\n",
       " 'distal_phalanax_tw',\n",
       " 'phalanges_outlines_correct',\n",
       " 'swedish_leaf',\n",
       " 'mote_strain',\n",
       " 'share_price_increase',\n",
       " 'large_kitchen_appliances',\n",
       " 'distal_phalanx_outline',\n",
       " 'strawberry',\n",
       " 'egg_five_days',\n",
       " 'earthquakes',\n",
       " 'electric_devices',\n",
       " 'fifty_words',\n",
       " 'freezers',\n",
       " 'synthetic_control',\n",
       " 'gun_point_age_span',\n",
       " 'trace',\n",
       " 'fish',\n",
       " 'middle_phalanx_age_group',\n",
       " 'lightning_7',\n",
       " 'colposcopy',\n",
       " 'cricket_y',\n",
       " 'coffee_beans',\n",
       " 'gun_point_old_young',\n",
       " 'middle_phalanx_correct',\n",
       " 'bme',\n",
       " 'plane',\n",
       " 'power_cons',\n",
       " 'face_ucr',\n",
       " 'medical_images',\n",
       " 'chlorine_concentration',\n",
       " 'dodger_loop_day',\n",
       " '.ipynb_checkpoints',\n",
       " 'arrow_head',\n",
       " 'sony_robot']"
      ]
     },
     "execution_count": 8,
     "metadata": {},
     "output_type": "execute_result"
    }
   ],
   "source": [
    "os.listdir(path_to_datasets)"
   ]
  },
  {
   "cell_type": "code",
   "execution_count": 10,
   "id": "aaa74e00-c1b7-48f4-b2b0-aa735095ed8b",
   "metadata": {},
   "outputs": [
    {
     "name": "stdout",
     "output_type": "stream",
     "text": [
      "['cbf', 'gun_point_male_female', 'car', 'abnormal_heartbeat', 'distal_phalanax_tw', 'phalanges_outlines_correct', 'swedish_leaf', 'mote_strain', 'share_price_increase', 'large_kitchen_appliances', 'distal_phalanx_outline', 'strawberry', 'egg_five_days', 'earthquakes', 'electric_devices', 'fifty_words', 'freezers', 'synthetic_control', 'gun_point_age_span', 'trace', 'fish', 'middle_phalanx_age_group', 'lightning_7', 'colposcopy', 'cricket_y', 'coffee_beans', 'gun_point_old_young', 'middle_phalanx_correct', 'bme', 'plane', 'power_cons', 'face_ucr', 'medical_images', 'chlorine_concentration', 'dodger_loop_day', 'arrow_head', 'sony_robot']\n"
     ]
    }
   ],
   "source": [
    "print ([name for name in os.listdir(path_to_datasets) if not os.path.isdir(name)])"
   ]
  },
  {
   "cell_type": "code",
   "execution_count": null,
   "id": "a780e1ba-cef7-4945-9a96-4ae1a5071b22",
   "metadata": {},
   "outputs": [],
   "source": []
  }
 ],
 "metadata": {
  "kernelspec": {
   "display_name": "ts_ensemble",
   "language": "python",
   "name": "ts_ensemble"
  },
  "language_info": {
   "codemirror_mode": {
    "name": "ipython",
    "version": 3
   },
   "file_extension": ".py",
   "mimetype": "text/x-python",
   "name": "python",
   "nbconvert_exporter": "python",
   "pygments_lexer": "ipython3",
   "version": "3.8.6"
  }
 },
 "nbformat": 4,
 "nbformat_minor": 5
}
