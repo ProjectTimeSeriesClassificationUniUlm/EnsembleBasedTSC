{
 "cells": [
  {
   "cell_type": "code",
   "execution_count": 1,
   "metadata": {
    "tags": []
   },
   "outputs": [
    {
     "name": "stderr",
     "output_type": "stream",
     "text": [
      "2023-01-18 17:54:44.196996: I tensorflow/core/platform/cpu_feature_guard.cc:193] This TensorFlow binary is optimized with oneAPI Deep Neural Network Library (oneDNN) to use the following CPU instructions in performance-critical operations:  AVX2 AVX512F AVX512_VNNI FMA\n",
      "To enable them in other operations, rebuild TensorFlow with the appropriate compiler flags.\n",
      "2023-01-18 17:54:44.326434: I tensorflow/core/util/port.cc:104] oneDNN custom operations are on. You may see slightly different numerical results due to floating-point round-off errors from different computation orders. To turn them off, set the environment variable `TF_ENABLE_ONEDNN_OPTS=0`.\n",
      "2023-01-18 17:54:45.194439: W tensorflow/compiler/xla/stream_executor/platform/default/dso_loader.cc:64] Could not load dynamic library 'libnvinfer.so.7'; dlerror: libnvinfer.so.7: cannot open shared object file: No such file or directory; LD_LIBRARY_PATH: /opt/bwhpc/common/devel/cuda/11.8/lib64\n",
      "2023-01-18 17:54:45.194516: W tensorflow/compiler/xla/stream_executor/platform/default/dso_loader.cc:64] Could not load dynamic library 'libnvinfer_plugin.so.7'; dlerror: libnvinfer_plugin.so.7: cannot open shared object file: No such file or directory; LD_LIBRARY_PATH: /opt/bwhpc/common/devel/cuda/11.8/lib64\n",
      "2023-01-18 17:54:45.194523: W tensorflow/compiler/tf2tensorrt/utils/py_utils.cc:38] TF-TRT Warning: Cannot dlopen some TensorRT libraries. If you would like to use Nvidia GPU with TensorRT, please make sure the missing libraries mentioned above are installed properly.\n"
     ]
    }
   ],
   "source": [
    "import sys\n",
    "import json\n",
    "from pathlib import Path\n",
    "\n",
    "import numpy as np\n",
    "import pandas as pd\n",
    "import tensorflow as tf\n",
    "from tqdm.auto import tqdm\n",
    "from tqdm.keras import TqdmCallback\n",
    "sys.path.append(\"../../../\")\n",
    "from src.Evaluation import plot_model_history\n",
    "from src.ModelBuilder import get_MLP, get_MCDCNN, get_Time_CNN, get_FCN, get_Encoder\n",
    "from src.LoadData import get_all_datasets_test_train_np_arrays\n",
    "from src.Helpers import append_to_csv"
   ]
  },
  {
   "cell_type": "code",
   "execution_count": null,
   "metadata": {},
   "outputs": [],
   "source": [
    "%env XLA_FLAGS=--xla_gpu_cuda_data_dir=/opt/bwhpc/common/devel/cuda/11.8"
   ]
  },
  {
   "cell_type": "code",
   "execution_count": 2,
   "metadata": {
    "collapsed": false,
    "jupyter": {
     "outputs_hidden": false
    }
   },
   "outputs": [],
   "source": [
    "path_to_datasets = \"../../../datasets\""
   ]
  },
  {
   "cell_type": "code",
   "execution_count": 3,
   "metadata": {
    "collapsed": false,
    "jupyter": {
     "outputs_hidden": false
    }
   },
   "outputs": [],
   "source": [
    "datasets_test_train_data = get_all_datasets_test_train_np_arrays(path_to_datasets)"
   ]
  },
  {
   "cell_type": "code",
   "execution_count": 4,
   "metadata": {
    "collapsed": false,
    "jupyter": {
     "outputs_hidden": false
    }
   },
   "outputs": [],
   "source": [
    "models_getter = [get_MLP, ]\n",
    "models_names = [\"MLP\", ]"
   ]
  },
  {
   "cell_type": "code",
   "execution_count": 5,
   "metadata": {
    "collapsed": false,
    "jupyter": {
     "outputs_hidden": false
    }
   },
   "outputs": [
    {
     "name": "stderr",
     "output_type": "stream",
     "text": [
      "2023-01-18 17:54:55.233968: I tensorflow/core/platform/cpu_feature_guard.cc:193] This TensorFlow binary is optimized with oneAPI Deep Neural Network Library (oneDNN) to use the following CPU instructions in performance-critical operations:  AVX2 AVX512F AVX512_VNNI FMA\n",
      "To enable them in other operations, rebuild TensorFlow with the appropriate compiler flags.\n",
      "2023-01-18 17:54:56.398005: I tensorflow/core/common_runtime/gpu/gpu_device.cc:1613] Created device /job:localhost/replica:0/task:0/device:GPU:0 with 30952 MB memory:  -> device: 0, name: Tesla V100-SXM2-32GB, pci bus id: 0000:89:00.0, compute capability: 7.0\n",
      "2023-01-18 17:54:56.398802: I tensorflow/core/common_runtime/gpu/gpu_device.cc:1613] Created device /job:localhost/replica:0/task:0/device:GPU:1 with 30952 MB memory:  -> device: 1, name: Tesla V100-SXM2-32GB, pci bus id: 0000:8a:00.0, compute capability: 7.0\n"
     ]
    },
    {
     "name": "stdout",
     "output_type": "stream",
     "text": [
      "INFO:tensorflow:Using MirroredStrategy with devices ('/job:localhost/replica:0/task:0/device:GPU:0', '/job:localhost/replica:0/task:0/device:GPU:1')\n"
     ]
    }
   ],
   "source": [
    "# tf.debugging.set_log_device_placement(True)\n",
    "devices = tf.config.list_logical_devices('GPU') # Use this to run training just on GPUs\n",
    "#devices = tf.config.list_logical_devices()\n",
    "strategy = tf.distribute.MirroredStrategy(devices)"
   ]
  },
  {
   "cell_type": "code",
   "execution_count": 6,
   "metadata": {
    "collapsed": false,
    "jupyter": {
     "outputs_hidden": false
    }
   },
   "outputs": [
    {
     "data": {
      "text/plain": [
       "[LogicalDevice(name='/device:GPU:0', device_type='GPU'),\n",
       " LogicalDevice(name='/device:GPU:1', device_type='GPU')]"
      ]
     },
     "execution_count": 6,
     "metadata": {},
     "output_type": "execute_result"
    }
   ],
   "source": [
    "devices"
   ]
  },
  {
   "cell_type": "code",
   "execution_count": 7,
   "metadata": {
    "collapsed": false,
    "jupyter": {
     "outputs_hidden": false
    }
   },
   "outputs": [],
   "source": [
    "path_persist_results = \"./training_res.csv\"\n",
    "if not (csv_path := Path(path_persist_results)).exists():\n",
    "    csv_path.touch()\n",
    "if len(csv_path.read_text()) == 0:\n",
    "    # Only write if the file is empty\n",
    "    columns = [\"dataset_name\", \"model_name\", \"test_loss\", \"test_acc\", \"confusion_matrix\", \"history\"]\n",
    "    append_to_csv(path_persist_results, columns)"
   ]
  },
  {
   "cell_type": "code",
   "execution_count": 8,
   "metadata": {
    "collapsed": false,
    "jupyter": {
     "outputs_hidden": false
    }
   },
   "outputs": [],
   "source": [
    "epochs = 30\n",
    "batch_size = 10\n",
    "validation_split = 0.2"
   ]
  },
  {
   "cell_type": "code",
   "execution_count": 9,
   "metadata": {
    "collapsed": false,
    "jupyter": {
     "outputs_hidden": false
    },
    "pycharm": {
     "is_executing": true
    }
   },
   "outputs": [
    {
     "data": {
      "application/vnd.jupyter.widget-view+json": {
       "model_id": "2c32a71ae0c24f6a85f94f709258923c",
       "version_major": 2,
       "version_minor": 0
      },
      "text/plain": [
       "  0%|          | 0/11 [00:00<?, ?dataset/s]"
      ]
     },
     "metadata": {},
     "output_type": "display_data"
    },
    {
     "name": "stdout",
     "output_type": "stream",
     "text": [
      "Dataset name:  abnormal_heartbeat\n"
     ]
    },
    {
     "data": {
      "application/vnd.jupyter.widget-view+json": {
       "model_id": "273b14b06cd546f9b8c12b8d53d7ee53",
       "version_major": 2,
       "version_minor": 0
      },
      "text/plain": [
       "Train on \"abnormal_heartbeat\":   0%|          | 0/1 [00:00<?, ?model/s]"
      ]
     },
     "metadata": {},
     "output_type": "display_data"
    },
    {
     "name": "stdout",
     "output_type": "stream",
     "text": [
      "Model name:  MLP\n",
      "INFO:tensorflow:Reduce to /job:localhost/replica:0/task:0/device:CPU:0 then broadcast to ('/job:localhost/replica:0/task:0/device:CPU:0',).\n",
      "INFO:tensorflow:Reduce to /job:localhost/replica:0/task:0/device:CPU:0 then broadcast to ('/job:localhost/replica:0/task:0/device:CPU:0',).\n",
      "INFO:tensorflow:Reduce to /job:localhost/replica:0/task:0/device:CPU:0 then broadcast to ('/job:localhost/replica:0/task:0/device:CPU:0',).\n",
      "INFO:tensorflow:Reduce to /job:localhost/replica:0/task:0/device:CPU:0 then broadcast to ('/job:localhost/replica:0/task:0/device:CPU:0',).\n"
     ]
    },
    {
     "data": {
      "application/vnd.jupyter.widget-view+json": {
       "model_id": "f43500e821174311b0936111b792f2fa",
       "version_major": 2,
       "version_minor": 0
      },
      "text/plain": [
       "MLP: 0epoch [00:00, ?epoch/s]"
      ]
     },
     "metadata": {},
     "output_type": "display_data"
    },
    {
     "name": "stdout",
     "output_type": "stream",
     "text": [
      "INFO:tensorflow:batch_all_reduce: 8 all-reduces with algorithm = nccl, num_packs = 1\n",
      "INFO:tensorflow:Reduce to /job:localhost/replica:0/task:0/device:CPU:0 then broadcast to ('/job:localhost/replica:0/task:0/device:CPU:0',).\n",
      "INFO:tensorflow:Reduce to /job:localhost/replica:0/task:0/device:CPU:0 then broadcast to ('/job:localhost/replica:0/task:0/device:CPU:0',).\n",
      "INFO:tensorflow:Reduce to /job:localhost/replica:0/task:0/device:CPU:0 then broadcast to ('/job:localhost/replica:0/task:0/device:CPU:0',).\n",
      "INFO:tensorflow:Reduce to /job:localhost/replica:0/task:0/device:CPU:0 then broadcast to ('/job:localhost/replica:0/task:0/device:CPU:0',).\n",
      "INFO:tensorflow:Reduce to /job:localhost/replica:0/task:0/device:CPU:0 then broadcast to ('/job:localhost/replica:0/task:0/device:CPU:0',).\n",
      "INFO:tensorflow:batch_all_reduce: 8 all-reduces with algorithm = nccl, num_packs = 1\n",
      "INFO:tensorflow:Reduce to /job:localhost/replica:0/task:0/device:CPU:0 then broadcast to ('/job:localhost/replica:0/task:0/device:CPU:0',).\n"
     ]
    },
    {
     "name": "stderr",
     "output_type": "stream",
     "text": [
      "2023-01-18 17:55:01.745315: I tensorflow/compiler/xla/service/service.cc:173] XLA service 0x559cf123d600 initialized for platform CUDA (this does not guarantee that XLA will be used). Devices:\n",
      "2023-01-18 17:55:01.745352: I tensorflow/compiler/xla/service/service.cc:181]   StreamExecutor device (0): Tesla V100-SXM2-32GB, Compute Capability 7.0\n",
      "2023-01-18 17:55:01.745357: I tensorflow/compiler/xla/service/service.cc:181]   StreamExecutor device (1): Tesla V100-SXM2-32GB, Compute Capability 7.0\n",
      "2023-01-18 17:55:01.798811: I tensorflow/compiler/jit/xla_compilation_cache.cc:477] Compiled cluster using XLA!  This line is logged at most once for the lifetime of the process.\n"
     ]
    },
    {
     "name": "stdout",
     "output_type": "stream",
     "text": [
      "7/7 [==============================] - 0s 3ms/step - loss: 0.7799 - accuracy: 0.7317\n",
      "Dataset name:  phalanges_outlines_correct\n"
     ]
    },
    {
     "data": {
      "application/vnd.jupyter.widget-view+json": {
       "model_id": "9cbe446a2f104bb0b53454d3da26d21e",
       "version_major": 2,
       "version_minor": 0
      },
      "text/plain": [
       "Train on \"phalanges_outlines_correct\":   0%|          | 0/1 [00:00<?, ?model/s]"
      ]
     },
     "metadata": {},
     "output_type": "display_data"
    },
    {
     "name": "stdout",
     "output_type": "stream",
     "text": [
      "Model name:  MLP\n"
     ]
    },
    {
     "data": {
      "application/vnd.jupyter.widget-view+json": {
       "model_id": "6aac4355da4e4f3c9f654dc6766ca1fc",
       "version_major": 2,
       "version_minor": 0
      },
      "text/plain": [
       "MLP: 0epoch [00:00, ?epoch/s]"
      ]
     },
     "metadata": {},
     "output_type": "display_data"
    },
    {
     "name": "stdout",
     "output_type": "stream",
     "text": [
      "INFO:tensorflow:batch_all_reduce: 8 all-reduces with algorithm = nccl, num_packs = 1\n",
      "INFO:tensorflow:batch_all_reduce: 8 all-reduces with algorithm = nccl, num_packs = 1\n",
      "27/27 [==============================] - 1s 2ms/step - loss: 0.6375 - accuracy: 0.6434\n",
      "Dataset name:  swedish_leaf\n"
     ]
    },
    {
     "data": {
      "application/vnd.jupyter.widget-view+json": {
       "model_id": "15f846f5f0974c4e9b171a4297989f93",
       "version_major": 2,
       "version_minor": 0
      },
      "text/plain": [
       "Train on \"swedish_leaf\":   0%|          | 0/1 [00:00<?, ?model/s]"
      ]
     },
     "metadata": {},
     "output_type": "display_data"
    },
    {
     "name": "stdout",
     "output_type": "stream",
     "text": [
      "Model name:  MLP\n"
     ]
    },
    {
     "data": {
      "application/vnd.jupyter.widget-view+json": {
       "model_id": "6b305bafca564afcba6a3ad28803e18f",
       "version_major": 2,
       "version_minor": 0
      },
      "text/plain": [
       "MLP: 0epoch [00:00, ?epoch/s]"
      ]
     },
     "metadata": {},
     "output_type": "display_data"
    },
    {
     "name": "stdout",
     "output_type": "stream",
     "text": [
      "INFO:tensorflow:batch_all_reduce: 8 all-reduces with algorithm = nccl, num_packs = 1\n",
      "INFO:tensorflow:batch_all_reduce: 8 all-reduces with algorithm = nccl, num_packs = 1\n",
      "20/20 [==============================] - 1s 2ms/step - loss: 0.6988 - accuracy: 0.7840\n",
      "Dataset name:  share_price_increase\n"
     ]
    },
    {
     "data": {
      "application/vnd.jupyter.widget-view+json": {
       "model_id": "adbf2e97419f4f76be3cdabe7e7b9dc6",
       "version_major": 2,
       "version_minor": 0
      },
      "text/plain": [
       "Train on \"share_price_increase\":   0%|          | 0/1 [00:00<?, ?model/s]"
      ]
     },
     "metadata": {},
     "output_type": "display_data"
    },
    {
     "name": "stdout",
     "output_type": "stream",
     "text": [
      "Model name:  MLP\n"
     ]
    },
    {
     "data": {
      "application/vnd.jupyter.widget-view+json": {
       "model_id": "ce01116fad10468cb08aa1cbac23fca2",
       "version_major": 2,
       "version_minor": 0
      },
      "text/plain": [
       "MLP: 0epoch [00:00, ?epoch/s]"
      ]
     },
     "metadata": {},
     "output_type": "display_data"
    },
    {
     "name": "stdout",
     "output_type": "stream",
     "text": [
      "INFO:tensorflow:batch_all_reduce: 8 all-reduces with algorithm = nccl, num_packs = 1\n",
      "INFO:tensorflow:batch_all_reduce: 8 all-reduces with algorithm = nccl, num_packs = 1\n",
      "31/31 [==============================] - 0s 2ms/step - loss: 1.1688 - accuracy: 0.7019\n",
      "Dataset name:  distal_phalanx_outline\n"
     ]
    },
    {
     "data": {
      "application/vnd.jupyter.widget-view+json": {
       "model_id": "ba3e4b5de2c142feb42db4bba3ebbed3",
       "version_major": 2,
       "version_minor": 0
      },
      "text/plain": [
       "Train on \"distal_phalanx_outline\":   0%|          | 0/1 [00:00<?, ?model/s]"
      ]
     },
     "metadata": {},
     "output_type": "display_data"
    },
    {
     "name": "stdout",
     "output_type": "stream",
     "text": [
      "Model name:  MLP\n"
     ]
    },
    {
     "data": {
      "application/vnd.jupyter.widget-view+json": {
       "model_id": "4404be76dda64cb48dbb248596fd11b8",
       "version_major": 2,
       "version_minor": 0
      },
      "text/plain": [
       "MLP: 0epoch [00:00, ?epoch/s]"
      ]
     },
     "metadata": {},
     "output_type": "display_data"
    },
    {
     "name": "stdout",
     "output_type": "stream",
     "text": [
      "INFO:tensorflow:batch_all_reduce: 8 all-reduces with algorithm = nccl, num_packs = 1\n",
      "INFO:tensorflow:batch_all_reduce: 8 all-reduces with algorithm = nccl, num_packs = 1\n",
      "9/9 [==============================] - 1s 3ms/step - loss: 0.5603 - accuracy: 0.7391\n",
      "Dataset name:  electric_devices\n"
     ]
    },
    {
     "data": {
      "application/vnd.jupyter.widget-view+json": {
       "model_id": "c287a6b99eb9423f8194677c81af24e0",
       "version_major": 2,
       "version_minor": 0
      },
      "text/plain": [
       "Train on \"electric_devices\":   0%|          | 0/1 [00:00<?, ?model/s]"
      ]
     },
     "metadata": {},
     "output_type": "display_data"
    },
    {
     "name": "stdout",
     "output_type": "stream",
     "text": [
      "Model name:  MLP\n"
     ]
    },
    {
     "data": {
      "application/vnd.jupyter.widget-view+json": {
       "model_id": "2baf1b182d1340c4bb4f91cf8235c1ed",
       "version_major": 2,
       "version_minor": 0
      },
      "text/plain": [
       "MLP: 0epoch [00:00, ?epoch/s]"
      ]
     },
     "metadata": {},
     "output_type": "display_data"
    },
    {
     "name": "stdout",
     "output_type": "stream",
     "text": [
      "241/241 [==============================] - 1s 2ms/step - loss: 1.8956 - accuracy: 0.5860\n",
      "Dataset name:  freezers\n"
     ]
    },
    {
     "data": {
      "application/vnd.jupyter.widget-view+json": {
       "model_id": "bcf9cd401d7c4d6aae96bb2725344dc7",
       "version_major": 2,
       "version_minor": 0
      },
      "text/plain": [
       "Train on \"freezers\":   0%|          | 0/1 [00:00<?, ?model/s]"
      ]
     },
     "metadata": {},
     "output_type": "display_data"
    },
    {
     "name": "stdout",
     "output_type": "stream",
     "text": [
      "Model name:  MLP\n"
     ]
    },
    {
     "data": {
      "application/vnd.jupyter.widget-view+json": {
       "model_id": "ad48645b88b64becb3c944f070445d38",
       "version_major": 2,
       "version_minor": 0
      },
      "text/plain": [
       "MLP: 0epoch [00:00, ?epoch/s]"
      ]
     },
     "metadata": {},
     "output_type": "display_data"
    },
    {
     "name": "stdout",
     "output_type": "stream",
     "text": [
      "90/90 [==============================] - 2s 2ms/step - loss: 0.5393 - accuracy: 0.8095\n",
      "Dataset name:  cricket_y\n"
     ]
    },
    {
     "data": {
      "application/vnd.jupyter.widget-view+json": {
       "model_id": "8d88fecea9d5406b93ca6658244953c0",
       "version_major": 2,
       "version_minor": 0
      },
      "text/plain": [
       "Train on \"cricket_y\":   0%|          | 0/1 [00:00<?, ?model/s]"
      ]
     },
     "metadata": {},
     "output_type": "display_data"
    },
    {
     "name": "stdout",
     "output_type": "stream",
     "text": [
      "Model name:  MLP\n"
     ]
    },
    {
     "data": {
      "application/vnd.jupyter.widget-view+json": {
       "model_id": "e3fcd5551fe8426d9d371ad85cb49fbc",
       "version_major": 2,
       "version_minor": 0
      },
      "text/plain": [
       "MLP: 0epoch [00:00, ?epoch/s]"
      ]
     },
     "metadata": {},
     "output_type": "display_data"
    },
    {
     "name": "stdout",
     "output_type": "stream",
     "text": [
      "13/13 [==============================] - 0s 2ms/step - loss: 1.4732 - accuracy: 0.5333\n",
      "Dataset name:  coffee_beans\n"
     ]
    },
    {
     "data": {
      "application/vnd.jupyter.widget-view+json": {
       "model_id": "045a56089b51470a9d4d36a42039adce",
       "version_major": 2,
       "version_minor": 0
      },
      "text/plain": [
       "Train on \"coffee_beans\":   0%|          | 0/1 [00:00<?, ?model/s]"
      ]
     },
     "metadata": {},
     "output_type": "display_data"
    },
    {
     "name": "stdout",
     "output_type": "stream",
     "text": [
      "Model name:  MLP\n"
     ]
    },
    {
     "data": {
      "application/vnd.jupyter.widget-view+json": {
       "model_id": "dafacd11157b4b74bfdd476225698bd1",
       "version_major": 2,
       "version_minor": 0
      },
      "text/plain": [
       "MLP: 0epoch [00:00, ?epoch/s]"
      ]
     },
     "metadata": {},
     "output_type": "display_data"
    },
    {
     "name": "stdout",
     "output_type": "stream",
     "text": [
      "1/1 [==============================] - 0s 113ms/step - loss: 0.7610 - accuracy: 0.5357\n",
      "Dataset name:  arrow_head\n"
     ]
    },
    {
     "data": {
      "application/vnd.jupyter.widget-view+json": {
       "model_id": "d478627bb72f488498543474d2b6ed7d",
       "version_major": 2,
       "version_minor": 0
      },
      "text/plain": [
       "Train on \"arrow_head\":   0%|          | 0/1 [00:00<?, ?model/s]"
      ]
     },
     "metadata": {},
     "output_type": "display_data"
    },
    {
     "name": "stdout",
     "output_type": "stream",
     "text": [
      "Model name:  MLP\n"
     ]
    },
    {
     "data": {
      "application/vnd.jupyter.widget-view+json": {
       "model_id": "ea142c2b9ab645da8f28e4248b921b85",
       "version_major": 2,
       "version_minor": 0
      },
      "text/plain": [
       "MLP: 0epoch [00:00, ?epoch/s]"
      ]
     },
     "metadata": {},
     "output_type": "display_data"
    },
    {
     "name": "stdout",
     "output_type": "stream",
     "text": [
      "6/6 [==============================] - 0s 3ms/step - loss: 0.8519 - accuracy: 0.6000\n",
      "Dataset name:  wafer\n"
     ]
    },
    {
     "data": {
      "application/vnd.jupyter.widget-view+json": {
       "model_id": "321afc1b1fcb407a92b6fd596c0f6798",
       "version_major": 2,
       "version_minor": 0
      },
      "text/plain": [
       "Train on \"wafer\":   0%|          | 0/1 [00:00<?, ?model/s]"
      ]
     },
     "metadata": {},
     "output_type": "display_data"
    },
    {
     "name": "stdout",
     "output_type": "stream",
     "text": [
      "Model name:  MLP\n"
     ]
    },
    {
     "data": {
      "application/vnd.jupyter.widget-view+json": {
       "model_id": "6fe8d62d1f9b46ec97219ffca65f4921",
       "version_major": 2,
       "version_minor": 0
      },
      "text/plain": [
       "MLP: 0epoch [00:00, ?epoch/s]"
      ]
     },
     "metadata": {},
     "output_type": "display_data"
    },
    {
     "name": "stdout",
     "output_type": "stream",
     "text": [
      "193/193 [==============================] - 2s 2ms/step - loss: 0.0272 - accuracy: 0.9919\n"
     ]
    }
   ],
   "source": [
    "with strategy.scope():\n",
    "    for ds_name, ds_data in tqdm(datasets_test_train_data.items(), unit='dataset'):\n",
    "        print(\"Dataset name: \", ds_name)\n",
    "        x_test, y_test = ds_data[\"test_data\"]\n",
    "        x_train, y_train = ds_data[\"train_data\"]\n",
    "\n",
    "        input_size = x_train.shape[1]\n",
    "        output_size = len(np.unique(y_train))\n",
    "\n",
    "        for get_model, model_name in tqdm(list(zip(models_getter, models_names)), unit='model', desc=f'Train on \"{ds_name}\"'):\n",
    "            print(\"Model name: \", model_name)\n",
    "            model = get_model(input_size, output_size)\n",
    "            model.compile(optimizer='SGD',\n",
    "                          loss='sparse_categorical_crossentropy',\n",
    "                          metrics=['accuracy'])\n",
    "            history = model.fit(x_train, y_train, batch_size=batch_size, epochs=epochs, validation_split=validation_split, callbacks=[TqdmCallback(verbose=0, desc=model_name)], verbose=0)\n",
    "            test_loss, test_acc = model.evaluate(x_test, y_test)\n",
    "            # TODO: add confusion matrix\n",
    "\n",
    "            row = [ds_name,\n",
    "                  model_name,\n",
    "                  test_loss,\n",
    "                  test_acc,\n",
    "                  None, # TODO: persist confusion matrix to further analysis\n",
    "                  json.dumps(history.history)]\n",
    "            append_to_csv(path_persist_results, row)"
   ]
  },
  {
   "cell_type": "markdown",
   "metadata": {},
   "source": [
    "# Example load training results and display evaluation results"
   ]
  },
  {
   "cell_type": "code",
   "execution_count": 10,
   "metadata": {
    "collapsed": false,
    "jupyter": {
     "outputs_hidden": false
    },
    "pycharm": {
     "is_executing": true
    }
   },
   "outputs": [],
   "source": [
    "df_training_res = pd.read_csv(path_persist_results)"
   ]
  },
  {
   "cell_type": "code",
   "execution_count": 11,
   "metadata": {
    "collapsed": false,
    "jupyter": {
     "outputs_hidden": false
    },
    "pycharm": {
     "is_executing": true
    }
   },
   "outputs": [
    {
     "data": {
      "text/html": [
       "<div>\n",
       "<style scoped>\n",
       "    .dataframe tbody tr th:only-of-type {\n",
       "        vertical-align: middle;\n",
       "    }\n",
       "\n",
       "    .dataframe tbody tr th {\n",
       "        vertical-align: top;\n",
       "    }\n",
       "\n",
       "    .dataframe thead th {\n",
       "        text-align: right;\n",
       "    }\n",
       "</style>\n",
       "<table border=\"1\" class=\"dataframe\">\n",
       "  <thead>\n",
       "    <tr style=\"text-align: right;\">\n",
       "      <th></th>\n",
       "      <th>dataset_name</th>\n",
       "      <th>model_name</th>\n",
       "      <th>test_loss</th>\n",
       "      <th>test_acc</th>\n",
       "      <th>confusion_matrix</th>\n",
       "      <th>history</th>\n",
       "    </tr>\n",
       "  </thead>\n",
       "  <tbody>\n",
       "    <tr>\n",
       "      <th>0</th>\n",
       "      <td>abnormal_heartbeat</td>\n",
       "      <td>MLP</td>\n",
       "      <td>0.779899</td>\n",
       "      <td>0.731707</td>\n",
       "      <td>NaN</td>\n",
       "      <td>{\"loss\": [0.6390953660011292, 0.54119127988815...</td>\n",
       "    </tr>\n",
       "    <tr>\n",
       "      <th>1</th>\n",
       "      <td>phalanges_outlines_correct</td>\n",
       "      <td>MLP</td>\n",
       "      <td>0.637458</td>\n",
       "      <td>0.643357</td>\n",
       "      <td>NaN</td>\n",
       "      <td>{\"loss\": [0.6679225564002991, 0.64569669961929...</td>\n",
       "    </tr>\n",
       "    <tr>\n",
       "      <th>2</th>\n",
       "      <td>swedish_leaf</td>\n",
       "      <td>MLP</td>\n",
       "      <td>0.698804</td>\n",
       "      <td>0.784000</td>\n",
       "      <td>NaN</td>\n",
       "      <td>{\"loss\": [2.653488874435425, 2.433038234710693...</td>\n",
       "    </tr>\n",
       "    <tr>\n",
       "      <th>3</th>\n",
       "      <td>share_price_increase</td>\n",
       "      <td>MLP</td>\n",
       "      <td>1.168756</td>\n",
       "      <td>0.701863</td>\n",
       "      <td>NaN</td>\n",
       "      <td>{\"loss\": [0.4914316236972809, 0.44991609454154...</td>\n",
       "    </tr>\n",
       "    <tr>\n",
       "      <th>4</th>\n",
       "      <td>distal_phalanx_outline</td>\n",
       "      <td>MLP</td>\n",
       "      <td>0.560262</td>\n",
       "      <td>0.739130</td>\n",
       "      <td>NaN</td>\n",
       "      <td>{\"loss\": [0.6983198523521423, 0.69319468736648...</td>\n",
       "    </tr>\n",
       "    <tr>\n",
       "      <th>5</th>\n",
       "      <td>electric_devices</td>\n",
       "      <td>MLP</td>\n",
       "      <td>1.895621</td>\n",
       "      <td>0.586046</td>\n",
       "      <td>NaN</td>\n",
       "      <td>{\"loss\": [1.532529354095459, 1.288466930389404...</td>\n",
       "    </tr>\n",
       "    <tr>\n",
       "      <th>6</th>\n",
       "      <td>freezers</td>\n",
       "      <td>MLP</td>\n",
       "      <td>0.539330</td>\n",
       "      <td>0.809474</td>\n",
       "      <td>NaN</td>\n",
       "      <td>{\"loss\": [0.6914803981781006, 0.59172272682189...</td>\n",
       "    </tr>\n",
       "    <tr>\n",
       "      <th>7</th>\n",
       "      <td>cricket_y</td>\n",
       "      <td>MLP</td>\n",
       "      <td>1.473178</td>\n",
       "      <td>0.533333</td>\n",
       "      <td>NaN</td>\n",
       "      <td>{\"loss\": [2.543464183807373, 2.228128671646118...</td>\n",
       "    </tr>\n",
       "    <tr>\n",
       "      <th>8</th>\n",
       "      <td>coffee_beans</td>\n",
       "      <td>MLP</td>\n",
       "      <td>0.760960</td>\n",
       "      <td>0.535714</td>\n",
       "      <td>NaN</td>\n",
       "      <td>{\"loss\": [0.6985465884208679, 0.80913585424423...</td>\n",
       "    </tr>\n",
       "    <tr>\n",
       "      <th>9</th>\n",
       "      <td>arrow_head</td>\n",
       "      <td>MLP</td>\n",
       "      <td>0.851944</td>\n",
       "      <td>0.600000</td>\n",
       "      <td>NaN</td>\n",
       "      <td>{\"loss\": [1.0495268106460571, 1.13665223121643...</td>\n",
       "    </tr>\n",
       "    <tr>\n",
       "      <th>10</th>\n",
       "      <td>wafer</td>\n",
       "      <td>MLP</td>\n",
       "      <td>0.027190</td>\n",
       "      <td>0.991888</td>\n",
       "      <td>NaN</td>\n",
       "      <td>{\"loss\": [0.22914893925189972, 0.1228675246238...</td>\n",
       "    </tr>\n",
       "  </tbody>\n",
       "</table>\n",
       "</div>"
      ],
      "text/plain": [
       "                  dataset_name model_name  test_loss  test_acc  \\\n",
       "0           abnormal_heartbeat        MLP   0.779899  0.731707   \n",
       "1   phalanges_outlines_correct        MLP   0.637458  0.643357   \n",
       "2                 swedish_leaf        MLP   0.698804  0.784000   \n",
       "3         share_price_increase        MLP   1.168756  0.701863   \n",
       "4       distal_phalanx_outline        MLP   0.560262  0.739130   \n",
       "5             electric_devices        MLP   1.895621  0.586046   \n",
       "6                     freezers        MLP   0.539330  0.809474   \n",
       "7                    cricket_y        MLP   1.473178  0.533333   \n",
       "8                 coffee_beans        MLP   0.760960  0.535714   \n",
       "9                   arrow_head        MLP   0.851944  0.600000   \n",
       "10                       wafer        MLP   0.027190  0.991888   \n",
       "\n",
       "    confusion_matrix                                            history  \n",
       "0                NaN  {\"loss\": [0.6390953660011292, 0.54119127988815...  \n",
       "1                NaN  {\"loss\": [0.6679225564002991, 0.64569669961929...  \n",
       "2                NaN  {\"loss\": [2.653488874435425, 2.433038234710693...  \n",
       "3                NaN  {\"loss\": [0.4914316236972809, 0.44991609454154...  \n",
       "4                NaN  {\"loss\": [0.6983198523521423, 0.69319468736648...  \n",
       "5                NaN  {\"loss\": [1.532529354095459, 1.288466930389404...  \n",
       "6                NaN  {\"loss\": [0.6914803981781006, 0.59172272682189...  \n",
       "7                NaN  {\"loss\": [2.543464183807373, 2.228128671646118...  \n",
       "8                NaN  {\"loss\": [0.6985465884208679, 0.80913585424423...  \n",
       "9                NaN  {\"loss\": [1.0495268106460571, 1.13665223121643...  \n",
       "10               NaN  {\"loss\": [0.22914893925189972, 0.1228675246238...  "
      ]
     },
     "execution_count": 11,
     "metadata": {},
     "output_type": "execute_result"
    }
   ],
   "source": [
    "df_training_res"
   ]
  },
  {
   "cell_type": "code",
   "execution_count": 12,
   "metadata": {
    "collapsed": false,
    "jupyter": {
     "outputs_hidden": false
    },
    "pycharm": {
     "is_executing": true
    }
   },
   "outputs": [],
   "source": [
    "history = df_training_res['history'][0]"
   ]
  },
  {
   "cell_type": "code",
   "execution_count": null,
   "metadata": {
    "collapsed": false,
    "jupyter": {
     "outputs_hidden": false
    },
    "pycharm": {
     "is_executing": true
    }
   },
   "outputs": [],
   "source": []
  },
  {
   "cell_type": "code",
   "execution_count": 13,
   "metadata": {
    "collapsed": false,
    "jupyter": {
     "outputs_hidden": false
    },
    "pycharm": {
     "is_executing": true
    }
   },
   "outputs": [
    {
     "name": "stdout",
     "output_type": "stream",
     "text": [
      "Highest Validation Accuracy: 0.0\n"
     ]
    },
    {
     "data": {
      "image/png": "[encoded data removed]",
      "text/plain": [
       "<Figure size 640x480 with 1 Axes>"
      ]
     },
     "metadata": {},
     "output_type": "display_data"
    },
    {
     "data": {
      "image/png": "[encoded data removed]",
      "text/plain": [
       "<Figure size 640x480 with 1 Axes>"
      ]
     },
     "metadata": {},
     "output_type": "display_data"
    }
   ],
   "source": [
    "plot_model_history(json.loads(history), epochs=epochs)"
   ]
  },
  {
   "cell_type": "code",
   "execution_count": null,
   "metadata": {
    "collapsed": false,
    "jupyter": {
     "outputs_hidden": false
    },
    "pycharm": {
     "is_executing": true
    }
   },
   "outputs": [],
   "source": []
  },
  {
   "cell_type": "code",
   "execution_count": null,
   "metadata": {
    "collapsed": false,
    "jupyter": {
     "outputs_hidden": false
    },
    "pycharm": {
     "is_executing": true
    }
   },
   "outputs": [],
   "source": []
  },
  {
   "cell_type": "code",
   "execution_count": null,
   "metadata": {
    "collapsed": false,
    "jupyter": {
     "outputs_hidden": false
    },
    "pycharm": {
     "is_executing": true
    }
   },
   "outputs": [],
   "source": []
  }
 ],
 "metadata": {
  "kernelspec": {
   "display_name": "ts_ensemble",
   "language": "python",
   "name": "ts_ensemble"
  },
  "language_info": {
   "codemirror_mode": {
    "name": "ipython",
    "version": 3
   },
   "file_extension": ".py",
   "mimetype": "text/x-python",
   "name": "python",
   "nbconvert_exporter": "python",
   "pygments_lexer": "ipython3",
   "version": "3.8.6"
  }
 },
 "nbformat": 4,
 "nbformat_minor": 4
}
