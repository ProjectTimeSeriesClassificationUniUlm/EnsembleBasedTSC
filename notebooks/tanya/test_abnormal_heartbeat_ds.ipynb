{
 "cells": [
  {
   "cell_type": "code",
   "execution_count": 1,
   "metadata": {
    "collapsed": true
   },
   "outputs": [],
   "source": [
    "import os\n",
    "import sktime\n",
    "from sktime.datasets import load_from_tsfile_to_dataframe\n",
    "import tensorflow as tf\n",
    "from tensorflow import keras\n",
    "import numpy as np\n",
    "import pandas as pd\n",
    "from matplotlib import pyplot as plt\n",
    "import sys\n",
    "sys.path.append(\"../../\")\n",
    "from src.Helpers import append_to_csv\n",
    "\n",
    "def plot_model_history(history, epochs, path=None):\n",
    "  loss = history.history['loss']\n",
    "  val_loss = history.history['val_loss']\n",
    "\n",
    "  accuracy = history.history['accuracy']\n",
    "  val_accuracy = history.history['val_accuracy']\n",
    "  print(f'Highest Validation Accuracy: {np.max(val_accuracy)}')\n",
    "  eps = range(epochs)\n",
    "\n",
    "  plt.figure()\n",
    "  plt.plot(eps, loss, 'r', label='Training loss')\n",
    "  plt.plot(eps, val_loss, 'b', label='Validation loss')\n",
    "  plt.title('Training and Validation Loss')\n",
    "  plt.xlabel('Epoch')\n",
    "  plt.ylabel('Loss Value')\n",
    "  plt.ylim([0, 2])\n",
    "  plt.legend()\n",
    "  if path:\n",
    "      plt.savefig(os.path.join(path, 'train_and_valid_loss.png'))\n",
    "  plt.show()\n",
    "\n",
    "  plt.figure()\n",
    "  plt.plot(eps, accuracy, 'r', label='Training accuracy')\n",
    "  plt.plot(eps, val_accuracy, 'b', label='Validation accuracy')\n",
    "  plt.title('Training and Validation accuracy')\n",
    "  plt.xlabel('Epoch')\n",
    "  plt.ylabel('Accuracy Value')\n",
    "  plt.ylim([0, 1])\n",
    "  plt.legend()\n",
    "  if path:\n",
    "      plt.savefig(os.path.join(path, 'train_and_valid_accuracy.png'))\n",
    "  plt.show()"
   ]
  },
  {
   "cell_type": "code",
   "execution_count": 1,
   "outputs": [],
   "source": [],
   "metadata": {
    "collapsed": false,
    "pycharm": {
     "name": "#%%\n"
    }
   }
  },
  {
   "cell_type": "code",
   "execution_count": 4,
   "outputs": [],
   "source": [
    "path_persist_results = \"./training_res.csv\"\n",
    "columns = [\"dataset_name\", \"model_name\", \"test_loss\", \"test_acc\", \"confusion_matrix\", \"history\"]\n",
    "append_to_csv(path_persist_results, columns)"
   ],
   "metadata": {
    "collapsed": false,
    "pycharm": {
     "name": "#%%\n"
    }
   }
  },
  {
   "cell_type": "markdown",
   "source": [
    "# Load data"
   ],
   "metadata": {
    "collapsed": false,
    "pycharm": {
     "name": "#%% md\n"
    }
   }
  },
  {
   "cell_type": "code",
   "execution_count": 2,
   "outputs": [],
   "source": [
    "dataset_path = \"../../datasets/abnormal_heartbeat\"\n",
    "path_test_ds = os.path.join(dataset_path, \"AbnormalHeartbeat_TEST.ts\")\n",
    "path_train_ds = os.path.join(dataset_path, \"AbnormalHeartbeat_TRAIN.ts\")"
   ],
   "metadata": {
    "collapsed": false,
    "pycharm": {
     "name": "#%%\n"
    }
   }
  },
  {
   "cell_type": "code",
   "execution_count": 3,
   "outputs": [],
   "source": [
    "def prepare_train_data(df):\n",
    "    prepared = list()\n",
    "    for i in range(df.size):\n",
    "        prepared.append(df.iloc[i].to_numpy()[0].to_numpy())\n",
    "    return np.array(prepared, dtype=np.float64)\n",
    "\n",
    "def load_numpy_array_from_ts(path_to_file):\n",
    "    x, y = load_from_tsfile_to_dataframe(path_to_file)\n",
    "    return prepare_train_data(x), np.array(y, dtype=np.float64)"
   ],
   "metadata": {
    "collapsed": false,
    "pycharm": {
     "name": "#%%\n"
    }
   }
  },
  {
   "cell_type": "code",
   "execution_count": 4,
   "outputs": [],
   "source": [
    "x_test, y_test = load_numpy_array_from_ts(path_test_ds)\n",
    "x_train, y_train = load_numpy_array_from_ts(path_train_ds)"
   ],
   "metadata": {
    "collapsed": false,
    "pycharm": {
     "name": "#%%\n"
    }
   }
  },
  {
   "cell_type": "code",
   "execution_count": 5,
   "outputs": [
    {
     "data": {
      "text/plain": "array([[-0.00048828, -0.00247192, -0.00375366, ..., -0.01000977,\n        -0.0098877 , -0.00970459],\n       [ 0.01397705,  0.02963257,  0.02502441, ...,  0.04724121,\n         0.04833984,  0.04873657],\n       [ 0.06552124,  0.1074524 ,  0.05529785, ...,  0.03118896,\n         0.02786255,  0.02401733],\n       ...,\n       [ 0.01196289,  0.03741455,  0.05322266, ...,  0.03417969,\n         0.03375244,  0.03338623],\n       [ 0.00045776,  0.02279663,  0.04455566, ...,  0.00469971,\n         0.00289917,  0.00213623],\n       [ 0.05514526,  0.1166687 ,  0.1042175 , ..., -0.04534912,\n        -0.0453186 , -0.04568481]])"
     },
     "execution_count": 5,
     "metadata": {},
     "output_type": "execute_result"
    }
   ],
   "source": [
    "x_test"
   ],
   "metadata": {
    "collapsed": false,
    "pycharm": {
     "name": "#%%\n"
    }
   }
  },
  {
   "cell_type": "code",
   "execution_count": 6,
   "outputs": [
    {
     "data": {
      "text/plain": "array([0., 0., 0., 0., 0., 0., 0., 0., 0., 0., 0., 0., 0., 0., 0., 0., 0.,\n       0., 0., 0., 0., 0., 0., 0., 0., 0., 0., 0., 0., 0., 0., 0., 0., 0.,\n       0., 0., 0., 0., 0., 0., 0., 0., 0., 0., 0., 0., 0., 0., 0., 0., 0.,\n       0., 0., 0., 0., 0., 0., 0., 0., 0., 0., 0., 0., 0., 0., 0., 0., 0.,\n       0., 0., 0., 0., 0., 0., 0., 0., 0., 0., 0., 0., 0., 0., 0., 0., 0.,\n       0., 0., 0., 0., 0., 0., 0., 0., 0., 0., 0., 0., 0., 0., 0., 0., 0.,\n       0., 0., 0., 0., 0., 0., 0., 0., 0., 0., 0., 0., 0., 0., 0., 0., 0.,\n       0., 0., 0., 0., 0., 0., 0., 0., 0., 0., 0., 0., 0., 0., 0., 0., 0.,\n       0., 0., 0., 0., 0., 0., 0., 0., 0., 0., 0., 0., 0., 0., 1., 1., 1.,\n       1., 1., 1., 1., 1., 1., 1., 1., 1., 1., 1., 1., 1., 1., 1., 1., 1.,\n       1., 1., 1., 1., 1., 1., 1., 1., 1., 1., 1., 1., 1., 1., 1., 1., 1.,\n       1., 1., 1., 1., 1., 1., 1., 1., 1., 1., 1., 1., 1., 1., 1., 1., 1.,\n       1.])"
     },
     "execution_count": 6,
     "metadata": {},
     "output_type": "execute_result"
    }
   ],
   "source": [
    "y_test"
   ],
   "metadata": {
    "collapsed": false,
    "pycharm": {
     "name": "#%%\n"
    }
   }
  },
  {
   "cell_type": "markdown",
   "source": [
    "# Prepare data"
   ],
   "metadata": {
    "collapsed": false,
    "pycharm": {
     "name": "#%% md\n"
    }
   }
  },
  {
   "cell_type": "markdown",
   "source": [
    "# Train models"
   ],
   "metadata": {
    "collapsed": false,
    "pycharm": {
     "name": "#%% md\n"
    }
   }
  },
  {
   "cell_type": "code",
   "execution_count": 7,
   "outputs": [],
   "source": [],
   "metadata": {
    "collapsed": false,
    "pycharm": {
     "name": "#%%\n"
    }
   }
  },
  {
   "cell_type": "code",
   "execution_count": 8,
   "outputs": [],
   "source": [
    "from src.ModelBuilder import get_MLP, get_MCDCNN, get_Time_CNN, get_FCN"
   ],
   "metadata": {
    "collapsed": false,
    "pycharm": {
     "name": "#%%\n"
    }
   }
  },
  {
   "cell_type": "code",
   "execution_count": 9,
   "outputs": [
    {
     "data": {
      "text/plain": "(204, 18530)"
     },
     "execution_count": 9,
     "metadata": {},
     "output_type": "execute_result"
    }
   ],
   "source": [
    "x_train.shape"
   ],
   "metadata": {
    "collapsed": false,
    "pycharm": {
     "name": "#%%\n"
    }
   }
  },
  {
   "cell_type": "code",
   "execution_count": 10,
   "outputs": [
    {
     "data": {
      "text/plain": "(204,)"
     },
     "execution_count": 10,
     "metadata": {},
     "output_type": "execute_result"
    }
   ],
   "source": [
    "y_train.shape"
   ],
   "metadata": {
    "collapsed": false,
    "pycharm": {
     "name": "#%%\n"
    }
   }
  },
  {
   "cell_type": "code",
   "execution_count": 11,
   "outputs": [],
   "source": [
    "input_size = x_train.shape\n",
    "num_columns = input_size[1]\n",
    "output_size = 2"
   ],
   "metadata": {
    "collapsed": false,
    "pycharm": {
     "name": "#%%\n"
    }
   }
  },
  {
   "cell_type": "code",
   "execution_count": 12,
   "outputs": [],
   "source": [
    "model_eval_results = dict()\n",
    "training_history = dict()"
   ],
   "metadata": {
    "collapsed": false,
    "pycharm": {
     "name": "#%%\n"
    }
   }
  },
  {
   "cell_type": "code",
   "execution_count": null,
   "outputs": [
    {
     "name": "stdout",
     "output_type": "stream",
     "text": [
      "Epoch 1/30\n",
      "17/17 [==============================] - 124s 7s/step - loss: 0.3746 - accuracy: 0.8957 - val_loss: 0.8531 - val_accuracy: 0.0000e+00\n",
      "Epoch 2/30\n",
      "17/17 [==============================] - 94s 5s/step - loss: 0.2923 - accuracy: 0.9141 - val_loss: 0.9809 - val_accuracy: 0.0000e+00\n",
      "Epoch 3/30\n",
      "17/17 [==============================] - 109s 6s/step - loss: 0.2783 - accuracy: 0.9080 - val_loss: 1.1485 - val_accuracy: 0.0000e+00\n",
      "Epoch 4/30\n",
      "17/17 [==============================] - 113s 7s/step - loss: 0.2979 - accuracy: 0.9141 - val_loss: 1.1230 - val_accuracy: 0.0000e+00\n",
      "Epoch 5/30\n",
      "17/17 [==============================] - 97s 6s/step - loss: 0.2914 - accuracy: 0.9141 - val_loss: 1.3680 - val_accuracy: 0.0000e+00\n",
      "Epoch 6/30\n",
      "17/17 [==============================] - 85s 5s/step - loss: 0.2877 - accuracy: 0.9141 - val_loss: 1.4106 - val_accuracy: 0.0000e+00\n",
      "Epoch 7/30\n",
      "17/17 [==============================] - 86s 5s/step - loss: 0.2688 - accuracy: 0.9141 - val_loss: 1.4232 - val_accuracy: 0.0000e+00\n",
      "Epoch 8/30\n",
      "17/17 [==============================] - 87s 5s/step - loss: 0.2748 - accuracy: 0.9141 - val_loss: 1.3353 - val_accuracy: 0.0000e+00\n",
      "Epoch 9/30\n",
      "17/17 [==============================] - 91s 5s/step - loss: 0.2678 - accuracy: 0.9141 - val_loss: 1.4107 - val_accuracy: 0.0000e+00\n",
      "Epoch 10/30\n",
      "17/17 [==============================] - 90s 5s/step - loss: 0.2891 - accuracy: 0.9141 - val_loss: 1.2154 - val_accuracy: 0.0000e+00\n",
      "Epoch 11/30\n",
      "17/17 [==============================] - 88s 5s/step - loss: 0.2751 - accuracy: 0.9141 - val_loss: 1.4682 - val_accuracy: 0.0000e+00\n",
      "Epoch 12/30\n",
      "17/17 [==============================] - 99s 6s/step - loss: 0.2646 - accuracy: 0.9141 - val_loss: 1.7276 - val_accuracy: 0.0000e+00\n",
      "Epoch 13/30\n",
      "17/17 [==============================] - 96s 6s/step - loss: 0.2720 - accuracy: 0.9141 - val_loss: 1.3404 - val_accuracy: 0.0000e+00\n",
      "Epoch 14/30\n",
      "17/17 [==============================] - 94s 6s/step - loss: 0.2691 - accuracy: 0.9141 - val_loss: 1.1389 - val_accuracy: 0.0000e+00\n",
      "Epoch 15/30\n",
      "17/17 [==============================] - 82s 5s/step - loss: 0.2692 - accuracy: 0.9080 - val_loss: 0.9699 - val_accuracy: 0.0000e+00\n",
      "Epoch 16/30\n",
      "17/17 [==============================] - 89s 5s/step - loss: 0.2735 - accuracy: 0.9141 - val_loss: 0.8554 - val_accuracy: 0.0000e+00\n",
      "Epoch 17/30\n"
     ]
    },
    {
     "name": "stderr",
     "output_type": "stream",
     "text": [
      "ERROR:root:Internal Python error in the inspect module.\n",
      "Below is the traceback from this internal error.\n",
      "\n",
      "ERROR:root:Internal Python error in the inspect module.\n",
      "Below is the traceback from this internal error.\n",
      "\n"
     ]
    },
    {
     "name": "stdout",
     "output_type": "stream",
     "text": [
      "Traceback (most recent call last):\n",
      "  File \"c:\\users\\tmozo\\documents\\master\\semester 3\\projekt deep learning\\code\\venv\\lib\\site-packages\\IPython\\core\\interactiveshell.py\", line 3553, in run_code\n",
      "    exec(code_obj, self.user_global_ns, self.user_ns)\n",
      "  File \"C:\\Users\\tmozo\\AppData\\Local\\Temp\\ipykernel_21480\\2937934318.py\", line 7, in <module>\n",
      "    history = model.fit(x_train, y_train, batch_size=10, epochs=30, validation_split=0.2)\n",
      "  File \"c:\\users\\tmozo\\documents\\master\\semester 3\\projekt deep learning\\code\\venv\\lib\\site-packages\\keras\\utils\\traceback_utils.py\", line 65, in error_handler\n",
      "    return fn(*args, **kwargs)\n",
      "  File \"c:\\users\\tmozo\\documents\\master\\semester 3\\projekt deep learning\\code\\venv\\lib\\site-packages\\keras\\engine\\training.py\", line 1650, in fit\n",
      "    tmp_logs = self.train_function(iterator)\n",
      "  File \"c:\\users\\tmozo\\documents\\master\\semester 3\\projekt deep learning\\code\\venv\\lib\\site-packages\\tensorflow\\python\\util\\traceback_utils.py\", line 150, in error_handler\n",
      "    return fn(*args, **kwargs)\n",
      "  File \"c:\\users\\tmozo\\documents\\master\\semester 3\\projekt deep learning\\code\\venv\\lib\\site-packages\\tensorflow\\python\\eager\\polymorphic_function\\polymorphic_function.py\", line 880, in __call__\n",
      "    result = self._call(*args, **kwds)\n",
      "  File \"c:\\users\\tmozo\\documents\\master\\semester 3\\projekt deep learning\\code\\venv\\lib\\site-packages\\tensorflow\\python\\eager\\polymorphic_function\\polymorphic_function.py\", line 912, in _call\n",
      "    return self._no_variable_creation_fn(*args, **kwds)  # pylint: disable=not-callable\n",
      "  File \"c:\\users\\tmozo\\documents\\master\\semester 3\\projekt deep learning\\code\\venv\\lib\\site-packages\\tensorflow\\python\\eager\\polymorphic_function\\tracing_compiler.py\", line 135, in __call__\n",
      "    filtered_flat_args, captured_inputs=concrete_function.captured_inputs)  # pylint: disable=protected-access\n",
      "  File \"c:\\users\\tmozo\\documents\\master\\semester 3\\projekt deep learning\\code\\venv\\lib\\site-packages\\tensorflow\\python\\eager\\polymorphic_function\\monomorphic_function.py\", line 1746, in _call_flat\n",
      "    ctx, args, cancellation_manager=cancellation_manager))\n",
      "  File \"c:\\users\\tmozo\\documents\\master\\semester 3\\projekt deep learning\\code\\venv\\lib\\site-packages\\tensorflow\\python\\eager\\polymorphic_function\\monomorphic_function.py\", line 383, in call\n",
      "    ctx=ctx)\n",
      "  File \"c:\\users\\tmozo\\documents\\master\\semester 3\\projekt deep learning\\code\\venv\\lib\\site-packages\\tensorflow\\python\\eager\\execute.py\", line 53, in quick_execute\n",
      "    inputs, attrs, num_outputs)\n",
      "KeyboardInterrupt\n",
      "\n",
      "During handling of the above exception, another exception occurred:\n",
      "\n",
      "Traceback (most recent call last):\n",
      "  File \"c:\\users\\tmozo\\documents\\master\\semester 3\\projekt deep learning\\code\\venv\\lib\\site-packages\\IPython\\core\\interactiveshell.py\", line 2099, in showtraceback\n",
      "    stb = value._render_traceback_()\n",
      "AttributeError: 'KeyboardInterrupt' object has no attribute '_render_traceback_'\n",
      "\n",
      "During handling of the above exception, another exception occurred:\n",
      "\n",
      "Traceback (most recent call last):\n",
      "  File \"c:\\users\\tmozo\\documents\\master\\semester 3\\projekt deep learning\\code\\venv\\lib\\site-packages\\IPython\\core\\ultratb.py\", line 1101, in get_records\n",
      "    return _fixed_getinnerframes(etb, number_of_lines_of_context, tb_offset)\n",
      "  File \"c:\\users\\tmozo\\documents\\master\\semester 3\\projekt deep learning\\code\\venv\\lib\\site-packages\\IPython\\core\\ultratb.py\", line 248, in wrapped\n",
      "    return f(*args, **kwargs)\n",
      "  File \"c:\\users\\tmozo\\documents\\master\\semester 3\\projekt deep learning\\code\\venv\\lib\\site-packages\\IPython\\core\\ultratb.py\", line 281, in _fixed_getinnerframes\n",
      "    records = fix_frame_records_filenames(inspect.getinnerframes(etb, context))\n",
      "  File \"C:\\Users\\tmozo\\AppData\\Local\\Programs\\Python\\Python37\\lib\\inspect.py\", line 1502, in getinnerframes\n",
      "    frameinfo = (tb.tb_frame,) + getframeinfo(tb, context)\n",
      "  File \"C:\\Users\\tmozo\\AppData\\Local\\Programs\\Python\\Python37\\lib\\inspect.py\", line 1460, in getframeinfo\n",
      "    filename = getsourcefile(frame) or getfile(frame)\n",
      "  File \"C:\\Users\\tmozo\\AppData\\Local\\Programs\\Python\\Python37\\lib\\inspect.py\", line 696, in getsourcefile\n",
      "    if getattr(getmodule(object, filename), '__loader__', None) is not None:\n",
      "  File \"C:\\Users\\tmozo\\AppData\\Local\\Programs\\Python\\Python37\\lib\\inspect.py\", line 732, in getmodule\n",
      "    for modname, module in list(sys.modules.items()):\n",
      "KeyboardInterrupt\n",
      "Traceback (most recent call last):\n",
      "  File \"c:\\users\\tmozo\\documents\\master\\semester 3\\projekt deep learning\\code\\venv\\lib\\site-packages\\IPython\\core\\interactiveshell.py\", line 3553, in run_code\n",
      "    exec(code_obj, self.user_global_ns, self.user_ns)\n",
      "  File \"C:\\Users\\tmozo\\AppData\\Local\\Temp\\ipykernel_21480\\2937934318.py\", line 7, in <module>\n",
      "    history = model.fit(x_train, y_train, batch_size=10, epochs=30, validation_split=0.2)\n",
      "  File \"c:\\users\\tmozo\\documents\\master\\semester 3\\projekt deep learning\\code\\venv\\lib\\site-packages\\keras\\utils\\traceback_utils.py\", line 65, in error_handler\n",
      "    return fn(*args, **kwargs)\n",
      "  File \"c:\\users\\tmozo\\documents\\master\\semester 3\\projekt deep learning\\code\\venv\\lib\\site-packages\\keras\\engine\\training.py\", line 1650, in fit\n",
      "    tmp_logs = self.train_function(iterator)\n",
      "  File \"c:\\users\\tmozo\\documents\\master\\semester 3\\projekt deep learning\\code\\venv\\lib\\site-packages\\tensorflow\\python\\util\\traceback_utils.py\", line 150, in error_handler\n",
      "    return fn(*args, **kwargs)\n",
      "  File \"c:\\users\\tmozo\\documents\\master\\semester 3\\projekt deep learning\\code\\venv\\lib\\site-packages\\tensorflow\\python\\eager\\polymorphic_function\\polymorphic_function.py\", line 880, in __call__\n",
      "    result = self._call(*args, **kwds)\n",
      "  File \"c:\\users\\tmozo\\documents\\master\\semester 3\\projekt deep learning\\code\\venv\\lib\\site-packages\\tensorflow\\python\\eager\\polymorphic_function\\polymorphic_function.py\", line 912, in _call\n",
      "    return self._no_variable_creation_fn(*args, **kwds)  # pylint: disable=not-callable\n",
      "  File \"c:\\users\\tmozo\\documents\\master\\semester 3\\projekt deep learning\\code\\venv\\lib\\site-packages\\tensorflow\\python\\eager\\polymorphic_function\\tracing_compiler.py\", line 135, in __call__\n",
      "    filtered_flat_args, captured_inputs=concrete_function.captured_inputs)  # pylint: disable=protected-access\n",
      "  File \"c:\\users\\tmozo\\documents\\master\\semester 3\\projekt deep learning\\code\\venv\\lib\\site-packages\\tensorflow\\python\\eager\\polymorphic_function\\monomorphic_function.py\", line 1746, in _call_flat\n",
      "    ctx, args, cancellation_manager=cancellation_manager))\n",
      "  File \"c:\\users\\tmozo\\documents\\master\\semester 3\\projekt deep learning\\code\\venv\\lib\\site-packages\\tensorflow\\python\\eager\\polymorphic_function\\monomorphic_function.py\", line 383, in call\n",
      "    ctx=ctx)\n",
      "  File \"c:\\users\\tmozo\\documents\\master\\semester 3\\projekt deep learning\\code\\venv\\lib\\site-packages\\tensorflow\\python\\eager\\execute.py\", line 53, in quick_execute\n",
      "    inputs, attrs, num_outputs)\n",
      "KeyboardInterrupt\n",
      "\n",
      "During handling of the above exception, another exception occurred:\n",
      "\n",
      "Traceback (most recent call last):\n",
      "  File \"c:\\users\\tmozo\\documents\\master\\semester 3\\projekt deep learning\\code\\venv\\lib\\site-packages\\IPython\\core\\interactiveshell.py\", line 2099, in showtraceback\n",
      "    stb = value._render_traceback_()\n",
      "AttributeError: 'KeyboardInterrupt' object has no attribute '_render_traceback_'\n",
      "\n",
      "During handling of the above exception, another exception occurred:\n",
      "\n",
      "Traceback (most recent call last):\n",
      "  File \"c:\\users\\tmozo\\documents\\master\\semester 3\\projekt deep learning\\code\\venv\\lib\\site-packages\\IPython\\core\\interactiveshell.py\", line 3473, in run_ast_nodes\n",
      "    if (await self.run_code(code, result,  async_=asy)):\n",
      "  File \"c:\\users\\tmozo\\documents\\master\\semester 3\\projekt deep learning\\code\\venv\\lib\\site-packages\\IPython\\core\\interactiveshell.py\", line 3575, in run_code\n",
      "    self.showtraceback(running_compiled_code=True)\n",
      "  File \"c:\\users\\tmozo\\documents\\master\\semester 3\\projekt deep learning\\code\\venv\\lib\\site-packages\\IPython\\core\\interactiveshell.py\", line 2102, in showtraceback\n",
      "    value, tb, tb_offset=tb_offset)\n",
      "  File \"c:\\users\\tmozo\\documents\\master\\semester 3\\projekt deep learning\\code\\venv\\lib\\site-packages\\IPython\\core\\ultratb.py\", line 1368, in structured_traceback\n",
      "    self, etype, value, tb, tb_offset, number_of_lines_of_context)\n",
      "  File \"c:\\users\\tmozo\\documents\\master\\semester 3\\projekt deep learning\\code\\venv\\lib\\site-packages\\IPython\\core\\ultratb.py\", line 1268, in structured_traceback\n",
      "    self, etype, value, tb, tb_offset, number_of_lines_of_context\n",
      "  File \"c:\\users\\tmozo\\documents\\master\\semester 3\\projekt deep learning\\code\\venv\\lib\\site-packages\\IPython\\core\\ultratb.py\", line 1125, in structured_traceback\n",
      "    tb_offset)\n",
      "  File \"c:\\users\\tmozo\\documents\\master\\semester 3\\projekt deep learning\\code\\venv\\lib\\site-packages\\IPython\\core\\ultratb.py\", line 1082, in format_exception_as_a_whole\n",
      "    last_unique, recursion_repeat = find_recursion(orig_etype, evalue, records)\n",
      "  File \"c:\\users\\tmozo\\documents\\master\\semester 3\\projekt deep learning\\code\\venv\\lib\\site-packages\\IPython\\core\\ultratb.py\", line 382, in find_recursion\n",
      "    return len(records), 0\n",
      "TypeError: object of type 'NoneType' has no len()\n",
      "\n",
      "During handling of the above exception, another exception occurred:\n",
      "\n",
      "Traceback (most recent call last):\n",
      "  File \"c:\\users\\tmozo\\documents\\master\\semester 3\\projekt deep learning\\code\\venv\\lib\\site-packages\\IPython\\core\\interactiveshell.py\", line 2099, in showtraceback\n",
      "    stb = value._render_traceback_()\n",
      "AttributeError: 'TypeError' object has no attribute '_render_traceback_'\n",
      "\n",
      "During handling of the above exception, another exception occurred:\n",
      "\n",
      "Traceback (most recent call last):\n",
      "  File \"c:\\users\\tmozo\\documents\\master\\semester 3\\projekt deep learning\\code\\venv\\lib\\site-packages\\IPython\\core\\ultratb.py\", line 1101, in get_records\n",
      "    return _fixed_getinnerframes(etb, number_of_lines_of_context, tb_offset)\n",
      "  File \"c:\\users\\tmozo\\documents\\master\\semester 3\\projekt deep learning\\code\\venv\\lib\\site-packages\\IPython\\core\\ultratb.py\", line 248, in wrapped\n",
      "    return f(*args, **kwargs)\n",
      "  File \"c:\\users\\tmozo\\documents\\master\\semester 3\\projekt deep learning\\code\\venv\\lib\\site-packages\\IPython\\core\\ultratb.py\", line 281, in _fixed_getinnerframes\n",
      "    records = fix_frame_records_filenames(inspect.getinnerframes(etb, context))\n",
      "  File \"C:\\Users\\tmozo\\AppData\\Local\\Programs\\Python\\Python37\\lib\\inspect.py\", line 1502, in getinnerframes\n",
      "    frameinfo = (tb.tb_frame,) + getframeinfo(tb, context)\n",
      "  File \"C:\\Users\\tmozo\\AppData\\Local\\Programs\\Python\\Python37\\lib\\inspect.py\", line 1460, in getframeinfo\n",
      "    filename = getsourcefile(frame) or getfile(frame)\n",
      "  File \"C:\\Users\\tmozo\\AppData\\Local\\Programs\\Python\\Python37\\lib\\inspect.py\", line 696, in getsourcefile\n",
      "    if getattr(getmodule(object, filename), '__loader__', None) is not None:\n",
      "  File \"C:\\Users\\tmozo\\AppData\\Local\\Programs\\Python\\Python37\\lib\\inspect.py\", line 739, in getmodule\n",
      "    f = getabsfile(module)\n",
      "  File \"C:\\Users\\tmozo\\AppData\\Local\\Programs\\Python\\Python37\\lib\\inspect.py\", line 708, in getabsfile\n",
      "    _filename = getsourcefile(object) or getfile(object)\n",
      "  File \"C:\\Users\\tmozo\\AppData\\Local\\Programs\\Python\\Python37\\lib\\inspect.py\", line 693, in getsourcefile\n",
      "    if os.path.exists(filename):\n",
      "  File \"C:\\Users\\tmozo\\AppData\\Local\\Programs\\Python\\Python37\\lib\\genericpath.py\", line 19, in exists\n",
      "    os.stat(path)\n",
      "KeyboardInterrupt\n"
     ]
    },
    {
     "name": "stderr",
     "output_type": "stream",
     "text": [
      "ERROR:root:Internal Python error in the inspect module.\n",
      "Below is the traceback from this internal error.\n",
      "\n"
     ]
    },
    {
     "name": "stdout",
     "output_type": "stream",
     "text": [
      "Traceback (most recent call last):\n",
      "  File \"c:\\users\\tmozo\\documents\\master\\semester 3\\projekt deep learning\\code\\venv\\lib\\site-packages\\IPython\\core\\interactiveshell.py\", line 3553, in run_code\n",
      "    exec(code_obj, self.user_global_ns, self.user_ns)\n",
      "  File \"C:\\Users\\tmozo\\AppData\\Local\\Temp\\ipykernel_21480\\2937934318.py\", line 7, in <module>\n",
      "    history = model.fit(x_train, y_train, batch_size=10, epochs=30, validation_split=0.2)\n",
      "  File \"c:\\users\\tmozo\\documents\\master\\semester 3\\projekt deep learning\\code\\venv\\lib\\site-packages\\keras\\utils\\traceback_utils.py\", line 65, in error_handler\n",
      "    return fn(*args, **kwargs)\n",
      "  File \"c:\\users\\tmozo\\documents\\master\\semester 3\\projekt deep learning\\code\\venv\\lib\\site-packages\\keras\\engine\\training.py\", line 1650, in fit\n",
      "    tmp_logs = self.train_function(iterator)\n",
      "  File \"c:\\users\\tmozo\\documents\\master\\semester 3\\projekt deep learning\\code\\venv\\lib\\site-packages\\tensorflow\\python\\util\\traceback_utils.py\", line 150, in error_handler\n",
      "    return fn(*args, **kwargs)\n",
      "  File \"c:\\users\\tmozo\\documents\\master\\semester 3\\projekt deep learning\\code\\venv\\lib\\site-packages\\tensorflow\\python\\eager\\polymorphic_function\\polymorphic_function.py\", line 880, in __call__\n",
      "    result = self._call(*args, **kwds)\n",
      "  File \"c:\\users\\tmozo\\documents\\master\\semester 3\\projekt deep learning\\code\\venv\\lib\\site-packages\\tensorflow\\python\\eager\\polymorphic_function\\polymorphic_function.py\", line 912, in _call\n",
      "    return self._no_variable_creation_fn(*args, **kwds)  # pylint: disable=not-callable\n",
      "  File \"c:\\users\\tmozo\\documents\\master\\semester 3\\projekt deep learning\\code\\venv\\lib\\site-packages\\tensorflow\\python\\eager\\polymorphic_function\\tracing_compiler.py\", line 135, in __call__\n",
      "    filtered_flat_args, captured_inputs=concrete_function.captured_inputs)  # pylint: disable=protected-access\n",
      "  File \"c:\\users\\tmozo\\documents\\master\\semester 3\\projekt deep learning\\code\\venv\\lib\\site-packages\\tensorflow\\python\\eager\\polymorphic_function\\monomorphic_function.py\", line 1746, in _call_flat\n",
      "    ctx, args, cancellation_manager=cancellation_manager))\n",
      "  File \"c:\\users\\tmozo\\documents\\master\\semester 3\\projekt deep learning\\code\\venv\\lib\\site-packages\\tensorflow\\python\\eager\\polymorphic_function\\monomorphic_function.py\", line 383, in call\n",
      "    ctx=ctx)\n",
      "  File \"c:\\users\\tmozo\\documents\\master\\semester 3\\projekt deep learning\\code\\venv\\lib\\site-packages\\tensorflow\\python\\eager\\execute.py\", line 53, in quick_execute\n",
      "    inputs, attrs, num_outputs)\n",
      "KeyboardInterrupt\n",
      "\n",
      "During handling of the above exception, another exception occurred:\n",
      "\n",
      "Traceback (most recent call last):\n",
      "  File \"c:\\users\\tmozo\\documents\\master\\semester 3\\projekt deep learning\\code\\venv\\lib\\site-packages\\IPython\\core\\interactiveshell.py\", line 2099, in showtraceback\n",
      "    stb = value._render_traceback_()\n",
      "AttributeError: 'KeyboardInterrupt' object has no attribute '_render_traceback_'\n",
      "\n",
      "During handling of the above exception, another exception occurred:\n",
      "\n",
      "Traceback (most recent call last):\n",
      "  File \"c:\\users\\tmozo\\documents\\master\\semester 3\\projekt deep learning\\code\\venv\\lib\\site-packages\\IPython\\core\\interactiveshell.py\", line 3473, in run_ast_nodes\n",
      "    if (await self.run_code(code, result,  async_=asy)):\n",
      "  File \"c:\\users\\tmozo\\documents\\master\\semester 3\\projekt deep learning\\code\\venv\\lib\\site-packages\\IPython\\core\\interactiveshell.py\", line 3575, in run_code\n",
      "    self.showtraceback(running_compiled_code=True)\n",
      "  File \"c:\\users\\tmozo\\documents\\master\\semester 3\\projekt deep learning\\code\\venv\\lib\\site-packages\\IPython\\core\\interactiveshell.py\", line 2102, in showtraceback\n",
      "    value, tb, tb_offset=tb_offset)\n",
      "  File \"c:\\users\\tmozo\\documents\\master\\semester 3\\projekt deep learning\\code\\venv\\lib\\site-packages\\IPython\\core\\ultratb.py\", line 1368, in structured_traceback\n",
      "    self, etype, value, tb, tb_offset, number_of_lines_of_context)\n",
      "  File \"c:\\users\\tmozo\\documents\\master\\semester 3\\projekt deep learning\\code\\venv\\lib\\site-packages\\IPython\\core\\ultratb.py\", line 1268, in structured_traceback\n",
      "    self, etype, value, tb, tb_offset, number_of_lines_of_context\n",
      "  File \"c:\\users\\tmozo\\documents\\master\\semester 3\\projekt deep learning\\code\\venv\\lib\\site-packages\\IPython\\core\\ultratb.py\", line 1125, in structured_traceback\n",
      "    tb_offset)\n",
      "  File \"c:\\users\\tmozo\\documents\\master\\semester 3\\projekt deep learning\\code\\venv\\lib\\site-packages\\IPython\\core\\ultratb.py\", line 1082, in format_exception_as_a_whole\n",
      "    last_unique, recursion_repeat = find_recursion(orig_etype, evalue, records)\n",
      "  File \"c:\\users\\tmozo\\documents\\master\\semester 3\\projekt deep learning\\code\\venv\\lib\\site-packages\\IPython\\core\\ultratb.py\", line 382, in find_recursion\n",
      "    return len(records), 0\n",
      "TypeError: object of type 'NoneType' has no len()\n",
      "\n",
      "During handling of the above exception, another exception occurred:\n",
      "\n",
      "Traceback (most recent call last):\n",
      "  File \"c:\\users\\tmozo\\documents\\master\\semester 3\\projekt deep learning\\code\\venv\\lib\\site-packages\\IPython\\core\\interactiveshell.py\", line 2099, in showtraceback\n",
      "    stb = value._render_traceback_()\n",
      "AttributeError: 'TypeError' object has no attribute '_render_traceback_'\n",
      "\n",
      "During handling of the above exception, another exception occurred:\n",
      "\n",
      "Traceback (most recent call last):\n",
      "  File \"c:\\users\\tmozo\\documents\\master\\semester 3\\projekt deep learning\\code\\venv\\lib\\site-packages\\IPython\\core\\interactiveshell.py\", line 3030, in _run_cell\n",
      "    return runner(coro)\n",
      "  File \"c:\\users\\tmozo\\documents\\master\\semester 3\\projekt deep learning\\code\\venv\\lib\\site-packages\\IPython\\core\\async_helpers.py\", line 78, in _pseudo_sync_runner\n",
      "    coro.send(None)\n",
      "  File \"c:\\users\\tmozo\\documents\\master\\semester 3\\projekt deep learning\\code\\venv\\lib\\site-packages\\IPython\\core\\interactiveshell.py\", line 3258, in run_cell_async\n",
      "    interactivity=interactivity, compiler=compiler, result=result)\n",
      "  File \"c:\\users\\tmozo\\documents\\master\\semester 3\\projekt deep learning\\code\\venv\\lib\\site-packages\\IPython\\core\\interactiveshell.py\", line 3492, in run_ast_nodes\n",
      "    self.showtraceback()\n",
      "  File \"c:\\users\\tmozo\\documents\\master\\semester 3\\projekt deep learning\\code\\venv\\lib\\site-packages\\IPython\\core\\interactiveshell.py\", line 2102, in showtraceback\n",
      "    value, tb, tb_offset=tb_offset)\n",
      "  File \"c:\\users\\tmozo\\documents\\master\\semester 3\\projekt deep learning\\code\\venv\\lib\\site-packages\\IPython\\core\\ultratb.py\", line 1368, in structured_traceback\n",
      "    self, etype, value, tb, tb_offset, number_of_lines_of_context)\n",
      "  File \"c:\\users\\tmozo\\documents\\master\\semester 3\\projekt deep learning\\code\\venv\\lib\\site-packages\\IPython\\core\\ultratb.py\", line 1268, in structured_traceback\n",
      "    self, etype, value, tb, tb_offset, number_of_lines_of_context\n",
      "  File \"c:\\users\\tmozo\\documents\\master\\semester 3\\projekt deep learning\\code\\venv\\lib\\site-packages\\IPython\\core\\ultratb.py\", line 1143, in structured_traceback\n",
      "    chained_exceptions_tb_offset)\n",
      "  File \"c:\\users\\tmozo\\documents\\master\\semester 3\\projekt deep learning\\code\\venv\\lib\\site-packages\\IPython\\core\\ultratb.py\", line 1082, in format_exception_as_a_whole\n",
      "    last_unique, recursion_repeat = find_recursion(orig_etype, evalue, records)\n",
      "  File \"c:\\users\\tmozo\\documents\\master\\semester 3\\projekt deep learning\\code\\venv\\lib\\site-packages\\IPython\\core\\ultratb.py\", line 382, in find_recursion\n",
      "    return len(records), 0\n",
      "TypeError: object of type 'NoneType' has no len()\n",
      "\n",
      "During handling of the above exception, another exception occurred:\n",
      "\n",
      "Traceback (most recent call last):\n",
      "  File \"c:\\users\\tmozo\\documents\\master\\semester 3\\projekt deep learning\\code\\venv\\lib\\site-packages\\IPython\\core\\interactiveshell.py\", line 2099, in showtraceback\n",
      "    stb = value._render_traceback_()\n",
      "AttributeError: 'TypeError' object has no attribute '_render_traceback_'\n",
      "\n",
      "During handling of the above exception, another exception occurred:\n",
      "\n",
      "Traceback (most recent call last):\n",
      "  File \"c:\\users\\tmozo\\documents\\master\\semester 3\\projekt deep learning\\code\\venv\\lib\\site-packages\\IPython\\core\\ultratb.py\", line 1101, in get_records\n",
      "    return _fixed_getinnerframes(etb, number_of_lines_of_context, tb_offset)\n",
      "  File \"c:\\users\\tmozo\\documents\\master\\semester 3\\projekt deep learning\\code\\venv\\lib\\site-packages\\IPython\\core\\ultratb.py\", line 248, in wrapped\n",
      "    return f(*args, **kwargs)\n",
      "  File \"c:\\users\\tmozo\\documents\\master\\semester 3\\projekt deep learning\\code\\venv\\lib\\site-packages\\IPython\\core\\ultratb.py\", line 281, in _fixed_getinnerframes\n",
      "    records = fix_frame_records_filenames(inspect.getinnerframes(etb, context))\n",
      "  File \"C:\\Users\\tmozo\\AppData\\Local\\Programs\\Python\\Python37\\lib\\inspect.py\", line 1502, in getinnerframes\n",
      "    frameinfo = (tb.tb_frame,) + getframeinfo(tb, context)\n",
      "  File \"C:\\Users\\tmozo\\AppData\\Local\\Programs\\Python\\Python37\\lib\\inspect.py\", line 1460, in getframeinfo\n",
      "    filename = getsourcefile(frame) or getfile(frame)\n",
      "  File \"C:\\Users\\tmozo\\AppData\\Local\\Programs\\Python\\Python37\\lib\\inspect.py\", line 696, in getsourcefile\n",
      "    if getattr(getmodule(object, filename), '__loader__', None) is not None:\n",
      "  File \"C:\\Users\\tmozo\\AppData\\Local\\Programs\\Python\\Python37\\lib\\inspect.py\", line 739, in getmodule\n",
      "    f = getabsfile(module)\n",
      "  File \"C:\\Users\\tmozo\\AppData\\Local\\Programs\\Python\\Python37\\lib\\inspect.py\", line 708, in getabsfile\n",
      "    _filename = getsourcefile(object) or getfile(object)\n",
      "  File \"C:\\Users\\tmozo\\AppData\\Local\\Programs\\Python\\Python37\\lib\\inspect.py\", line 693, in getsourcefile\n",
      "    if os.path.exists(filename):\n",
      "  File \"C:\\Users\\tmozo\\AppData\\Local\\Programs\\Python\\Python37\\lib\\genericpath.py\", line 19, in exists\n",
      "    os.stat(path)\n",
      "KeyboardInterrupt\n"
     ]
    }
   ],
   "source": [
    "for get_model, model_name in zip([get_FCN, get_MCDCNN, get_Time_CNN, get_MLP], [\"FCN\", \"MLP\", \"MCDCNN\", \"Time_CNN\"]):\n",
    "#for get_model, model_name in zip([get_MCDCNN, get_Time_CNN], [\"MLP\", \"MCDCNN\", \"Time_CNN\"]):\n",
    "    model = get_model(num_columns, output_size)\n",
    "    model.compile(optimizer='adam',\n",
    "                  loss='sparse_categorical_crossentropy',\n",
    "                  metrics=['accuracy'])\n",
    "    history = model.fit(x_train, y_train, batch_size=10, epochs=30, validation_split=0.2)\n",
    "    test_loss, test_acc = model.evaluate(x_test, y_test)\n",
    "    model_eval_results[model_name] = (test_loss, test_acc)\n",
    "    training_history[model_name] = history"
   ],
   "metadata": {
    "collapsed": false,
    "pycharm": {
     "name": "#%%\n",
     "is_executing": true
    }
   }
  },
  {
   "cell_type": "code",
   "execution_count": 13,
   "outputs": [
    {
     "name": "stdout",
     "output_type": "stream",
     "text": [
      "ERROR! Session/line number was not unique in database. History logging moved to new session 123\n"
     ]
    },
    {
     "data": {
      "text/plain": "Empty DataFrame\nColumns: [test_loss, test_acc]\nIndex: []",
      "text/html": "<div>\n<style scoped>\n    .dataframe tbody tr th:only-of-type {\n        vertical-align: middle;\n    }\n\n    .dataframe tbody tr th {\n        vertical-align: top;\n    }\n\n    .dataframe thead th {\n        text-align: right;\n    }\n</style>\n<table border=\"1\" class=\"dataframe\">\n  <thead>\n    <tr style=\"text-align: right;\">\n      <th></th>\n      <th>test_loss</th>\n      <th>test_acc</th>\n    </tr>\n  </thead>\n  <tbody>\n  </tbody>\n</table>\n</div>"
     },
     "execution_count": 13,
     "metadata": {},
     "output_type": "execute_result"
    }
   ],
   "source": [
    "pd.DataFrame.from_dict(model_eval_results, orient='index',\n",
    "                       columns=[\"test_loss\", \"test_acc\"])"
   ],
   "metadata": {
    "collapsed": false,
    "pycharm": {
     "name": "#%%\n"
    }
   }
  },
  {
   "cell_type": "markdown",
   "source": [
    "| |test_loss|\ttest_acc|\n",
    "-----------|-----|-----------------|-----------------|\n",
    "| FCN\t      |0.671740|\t0.721951|\n",
    "| MLP\t      |1.067936|\t0.731707|\n",
    "| MCDCNN\t   |0.667893|\t0.731707|\n",
    "| Time_CNN\t |5.187996|\t0.721951|"
   ],
   "metadata": {
    "collapsed": false,
    "pycharm": {
     "name": "#%% md\n"
    }
   }
  },
  {
   "cell_type": "code",
   "execution_count": null,
   "outputs": [],
   "source": [],
   "metadata": {
    "collapsed": false,
    "pycharm": {
     "name": "#%%\n"
    }
   }
  }
 ],
 "metadata": {
  "kernelspec": {
   "display_name": "Python 3",
   "language": "python",
   "name": "python3"
  },
  "language_info": {
   "codemirror_mode": {
    "name": "ipython",
    "version": 2
   },
   "file_extension": ".py",
   "mimetype": "text/x-python",
   "name": "python",
   "nbconvert_exporter": "python",
   "pygments_lexer": "ipython2",
   "version": "2.7.6"
  }
 },
 "nbformat": 4,
 "nbformat_minor": 0
}