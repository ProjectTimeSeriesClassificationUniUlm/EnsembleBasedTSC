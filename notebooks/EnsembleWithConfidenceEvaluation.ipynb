{
 "cells": [
  {
   "cell_type": "code",
   "execution_count": 1,
   "metadata": {
    "tags": []
   },
   "outputs": [
    {
     "ename": "ModuleNotFoundError",
     "evalue": "No module named 'tensorflow_addons'",
     "output_type": "error",
     "traceback": [
      "\u001b[0;31m---------------------------------------------------------------------------\u001b[0m",
      "\u001b[0;31mModuleNotFoundError\u001b[0m                       Traceback (most recent call last)",
      "Cell \u001b[0;32mIn[1], line 16\u001b[0m\n\u001b[1;32m     12\u001b[0m sys\u001b[38;5;241m.\u001b[39mpath\u001b[38;5;241m.\u001b[39mappend(\u001b[38;5;124m\"\u001b[39m\u001b[38;5;124m../src\u001b[39m\u001b[38;5;124m\"\u001b[39m)\n\u001b[1;32m     14\u001b[0m \u001b[38;5;28;01mfrom\u001b[39;00m \u001b[38;5;21;01mtoolz\u001b[39;00m \u001b[38;5;28;01mimport\u001b[39;00m keyfilter\n\u001b[0;32m---> 16\u001b[0m \u001b[38;5;28;01mfrom\u001b[39;00m \u001b[38;5;21;01mEvaluation\u001b[39;00m \u001b[38;5;28;01mimport\u001b[39;00m run_ensembles, load_models\n\u001b[1;32m     17\u001b[0m \u001b[38;5;28;01mfrom\u001b[39;00m \u001b[38;5;21;01mLoadData\u001b[39;00m \u001b[38;5;28;01mimport\u001b[39;00m CurrentDatasets\n\u001b[1;32m     18\u001b[0m \u001b[38;5;28;01mfrom\u001b[39;00m \u001b[38;5;21;01mHelpers\u001b[39;00m \u001b[38;5;28;01mimport\u001b[39;00m create_confusion_matrix_plot_from_csv\n",
      "File \u001b[0;32m/pfs/data5/home/ul/ul_student/ul_dgb62/project deep learning/EnsembleBasedTSC/src/Evaluation.py:7\u001b[0m\n\u001b[1;32m      5\u001b[0m \u001b[38;5;28;01mimport\u001b[39;00m \u001b[38;5;21;01mnumpy\u001b[39;00m \u001b[38;5;28;01mas\u001b[39;00m \u001b[38;5;21;01mnp\u001b[39;00m\n\u001b[1;32m      6\u001b[0m \u001b[38;5;28;01mfrom\u001b[39;00m \u001b[38;5;21;01mitertools\u001b[39;00m \u001b[38;5;28;01mimport\u001b[39;00m combinations\n\u001b[0;32m----> 7\u001b[0m \u001b[38;5;28;01mimport\u001b[39;00m \u001b[38;5;21;01mtensorflow_addons\u001b[39;00m  \u001b[38;5;66;03m# needed for model import, do not remove\u001b[39;00m\n\u001b[1;32m      8\u001b[0m \u001b[38;5;28;01mimport\u001b[39;00m \u001b[38;5;21;01mpandas\u001b[39;00m\n\u001b[1;32m      9\u001b[0m \u001b[38;5;28;01mfrom\u001b[39;00m \u001b[38;5;21;01mkeras\u001b[39;00m\u001b[38;5;21;01m.\u001b[39;00m\u001b[38;5;21;01mcallbacks\u001b[39;00m \u001b[38;5;28;01mimport\u001b[39;00m LambdaCallback\n",
      "\u001b[0;31mModuleNotFoundError\u001b[0m: No module named 'tensorflow_addons'"
     ]
    }
   ],
   "source": [
    "import logging\n",
    "import os\n",
    "\n",
    "import numpy as np\n",
    "\n",
    "os.environ['TF_CPP_MIN_LOG_LEVEL'] = '3'\n",
    "logging.getLogger().setLevel(logging.ERROR)\n",
    "import tensorflow as tf\n",
    "tf.get_logger().setLevel(logging.ERROR)\n",
    "\n",
    "import sys\n",
    "sys.path.append(\"../src\")\n",
    "\n",
    "from toolz import keyfilter\n",
    "\n",
    "from Evaluation import run_ensembles, load_models\n",
    "from LoadData import CurrentDatasets\n",
    "from Helpers import create_confusion_matrix_plot_from_csv"
   ]
  },
  {
   "cell_type": "code",
   "execution_count": null,
   "metadata": {
    "collapsed": false,
    "jupyter": {
     "outputs_hidden": false
    }
   },
   "outputs": [],
   "source": [
    "dataset_names = [dataset.value for dataset in CurrentDatasets]\n",
    "\n",
    "# in a nested list all elements on the same level get equal weights\n",
    "# eg [foo, [bar, bar, bar, [baz, baz]]] is weighted [1/2, [1/8, 1/8, 1/8, [1/16, 1/16]]]\n",
    "\n",
    "ensembles = {\"All\": [[f\"MLP-{number}\" for number in range(0,10)],\n",
    "                     #[f\"FCN-{number}\" for number in range(0,10)],\n",
    "                     #[f\"MCDCNN-{number}\" for number in range(0,10)],\n",
    "                     #[f\"Time-CNN-{number}\" for number in range(0,10)],\n",
    "                     [f\"Encoder-{number}\" for number in range(0,10)],\n",
    "                     [f\"Resnet-{number}\" for number in range(0,10)]],\n",
    "             \"MLP10\": [f\"MLP-{number}\" for number in range(0,10)],\n",
    "             #\"FCN10\": [f\"FCN-{number}\" for number in range(0,10)],\n",
    "             #\"MCDCNN10\": [f\"MCDCNN-{number}\" for number in range(0,10)],\n",
    "             #\"Time-CNN10\": [f\"Time-CNN-{number}\" for number in range(0,10)],\n",
    "             \"Encoder10\": [f\"Encoder-{number}\" for number in range(0,10)],\n",
    "             \"Resnet10\": [f\"Resnet-{number}\" for number in range(0,10)],\n",
    "             \"NNE\": [[f\"Resnet-{number}\" for number in range(0,10)],\n",
    "                     #[f\"FCN-{number}\" for number in range(0,10)],\n",
    "                     [f\"Encoder-{number}\" for number in range(0,10)]]}\n",
    "csv_name = '../results/without_augmentation/ensembles_with_confidence.csv'"
   ]
  },
  {
   "cell_type": "code",
   "execution_count": null,
   "metadata": {
    "collapsed": false,
    "jupyter": {
     "outputs_hidden": false
    }
   },
   "outputs": [],
   "source": [
    "used_ensembles=ensembles\n",
    "#used_ensembles=keyfilter(lambda ensemble: ensemble in [\"NNE\"], ensembles)\n",
    "used_ensembles"
   ]
  },
  {
   "cell_type": "code",
   "execution_count": null,
   "metadata": {
    "collapsed": false,
    "jupyter": {
     "outputs_hidden": false
    },
    "pycharm": {
     "is_executing": true
    }
   },
   "outputs": [
    {
     "name": "stdout",
     "output_type": "stream",
     "text": [
      "1/11:\tcricket_y\n",
      "('Resnet-0', 'Resnet-1', 'Resnet-2', 'Resnet-3', 'Resnet-4', 'Resnet-5', 'Resnet-6', 'Resnet-7', 'Resnet-8', 'Resnet-9', 'Encoder-0', 'Encoder-1', 'Encoder-2', 'Encoder-3', 'Encoder-4', 'Encoder-5', 'Encoder-6', 'Encoder-7', 'Encoder-8', 'Encoder-9')\n",
      "(0.05, 0.05, 0.05, 0.05, 0.05, 0.05, 0.05, 0.05, 0.05, 0.05, 0.05, 0.05, 0.05, 0.05, 0.05, 0.05, 0.05, 0.05, 0.05, 0.05)\n"
     ]
    },
    {
     "name": "stderr",
     "output_type": "stream",
     "text": [
      "/home/felix/miniconda3/envs/tf/lib/python3.10/site-packages/keras/layers/core/lambda_layer.py:324: UserWarning: ModelBuilder is not loaded, but a Lambda layer uses it. It may cause errors.\n",
      "  function = cls._parse_function_from_config(\n"
     ]
    },
    {
     "name": "stdout",
     "output_type": "stream",
     "text": [
      "2/11:\tdistal_phalanax_tw\n",
      "('Resnet-0', 'Resnet-1', 'Resnet-2', 'Resnet-3', 'Resnet-4', 'Resnet-5', 'Resnet-6', 'Resnet-7', 'Resnet-8', 'Resnet-9', 'Encoder-0', 'Encoder-1', 'Encoder-2', 'Encoder-3', 'Encoder-4', 'Encoder-5', 'Encoder-6', 'Encoder-7', 'Encoder-8', 'Encoder-9')\n",
      "(0.05, 0.05, 0.05, 0.05, 0.05, 0.05, 0.05, 0.05, 0.05, 0.05, 0.05, 0.05, 0.05, 0.05, 0.05, 0.05, 0.05, 0.05, 0.05, 0.05)\n"
     ]
    },
    {
     "name": "stderr",
     "output_type": "stream",
     "text": [
      "/home/felix/miniconda3/envs/tf/lib/python3.10/site-packages/keras/layers/core/lambda_layer.py:324: UserWarning: ModelBuilder is not loaded, but a Lambda layer uses it. It may cause errors.\n",
      "  function = cls._parse_function_from_config(\n"
     ]
    },
    {
     "name": "stdout",
     "output_type": "stream",
     "text": [
      "3/11:\tegg_five_days\n",
      "('Resnet-0', 'Resnet-1', 'Resnet-2', 'Resnet-3', 'Resnet-4', 'Resnet-5', 'Resnet-6', 'Resnet-7', 'Resnet-8', 'Resnet-9', 'Encoder-0', 'Encoder-1', 'Encoder-2', 'Encoder-3', 'Encoder-4', 'Encoder-5', 'Encoder-6', 'Encoder-7', 'Encoder-8', 'Encoder-9')\n",
      "(0.05, 0.05, 0.05, 0.05, 0.05, 0.05, 0.05, 0.05, 0.05, 0.05, 0.05, 0.05, 0.05, 0.05, 0.05, 0.05, 0.05, 0.05, 0.05, 0.05)\n"
     ]
    },
    {
     "name": "stderr",
     "output_type": "stream",
     "text": [
      "/home/felix/miniconda3/envs/tf/lib/python3.10/site-packages/keras/layers/core/lambda_layer.py:324: UserWarning: ModelBuilder is not loaded, but a Lambda layer uses it. It may cause errors.\n",
      "  function = cls._parse_function_from_config(\n"
     ]
    },
    {
     "name": "stdout",
     "output_type": "stream",
     "text": [
      "4/11:\telectric_devices\n",
      "('Resnet-0', 'Resnet-1', 'Resnet-2', 'Resnet-3', 'Resnet-4', 'Resnet-5', 'Resnet-6', 'Resnet-7', 'Resnet-8', 'Resnet-9', 'Encoder-0', 'Encoder-1', 'Encoder-2', 'Encoder-3', 'Encoder-4', 'Encoder-5', 'Encoder-6', 'Encoder-7', 'Encoder-8', 'Encoder-9')\n",
      "(0.05, 0.05, 0.05, 0.05, 0.05, 0.05, 0.05, 0.05, 0.05, 0.05, 0.05, 0.05, 0.05, 0.05, 0.05, 0.05, 0.05, 0.05, 0.05, 0.05)\n"
     ]
    },
    {
     "name": "stderr",
     "output_type": "stream",
     "text": [
      "/home/felix/miniconda3/envs/tf/lib/python3.10/site-packages/keras/layers/core/lambda_layer.py:324: UserWarning: ModelBuilder is not loaded, but a Lambda layer uses it. It may cause errors.\n",
      "  function = cls._parse_function_from_config(\n"
     ]
    },
    {
     "name": "stdout",
     "output_type": "stream",
     "text": [
      "5/11:\tface_ucr\n",
      "('Resnet-0', 'Resnet-1', 'Resnet-2', 'Resnet-3', 'Resnet-4', 'Resnet-5', 'Resnet-6', 'Resnet-7', 'Resnet-8', 'Resnet-9', 'Encoder-0', 'Encoder-1', 'Encoder-2', 'Encoder-3', 'Encoder-4', 'Encoder-5', 'Encoder-6', 'Encoder-7', 'Encoder-8', 'Encoder-9')\n",
      "(0.05, 0.05, 0.05, 0.05, 0.05, 0.05, 0.05, 0.05, 0.05, 0.05, 0.05, 0.05, 0.05, 0.05, 0.05, 0.05, 0.05, 0.05, 0.05, 0.05)\n"
     ]
    },
    {
     "name": "stderr",
     "output_type": "stream",
     "text": [
      "/home/felix/miniconda3/envs/tf/lib/python3.10/site-packages/keras/layers/core/lambda_layer.py:324: UserWarning: ModelBuilder is not loaded, but a Lambda layer uses it. It may cause errors.\n",
      "  function = cls._parse_function_from_config(\n"
     ]
    },
    {
     "name": "stdout",
     "output_type": "stream",
     "text": [
      "6/11:\tfifty_words\n",
      "('Resnet-0', 'Resnet-1', 'Resnet-2', 'Resnet-3', 'Resnet-4', 'Resnet-5', 'Resnet-6', 'Resnet-7', 'Resnet-8', 'Resnet-9', 'Encoder-0', 'Encoder-1', 'Encoder-2', 'Encoder-3', 'Encoder-4', 'Encoder-5', 'Encoder-6', 'Encoder-7', 'Encoder-8', 'Encoder-9')\n",
      "(0.05, 0.05, 0.05, 0.05, 0.05, 0.05, 0.05, 0.05, 0.05, 0.05, 0.05, 0.05, 0.05, 0.05, 0.05, 0.05, 0.05, 0.05, 0.05, 0.05)\n"
     ]
    },
    {
     "name": "stderr",
     "output_type": "stream",
     "text": [
      "/home/felix/miniconda3/envs/tf/lib/python3.10/site-packages/keras/layers/core/lambda_layer.py:324: UserWarning: ModelBuilder is not loaded, but a Lambda layer uses it. It may cause errors.\n",
      "  function = cls._parse_function_from_config(\n"
     ]
    },
    {
     "name": "stdout",
     "output_type": "stream",
     "text": [
      "7/11:\tmote_strain\n",
      "('Resnet-0', 'Resnet-1', 'Resnet-2', 'Resnet-3', 'Resnet-4', 'Resnet-5', 'Resnet-6', 'Resnet-7', 'Resnet-8', 'Resnet-9', 'Encoder-0', 'Encoder-1', 'Encoder-2', 'Encoder-3', 'Encoder-4', 'Encoder-5', 'Encoder-6', 'Encoder-7', 'Encoder-8', 'Encoder-9')\n",
      "(0.05, 0.05, 0.05, 0.05, 0.05, 0.05, 0.05, 0.05, 0.05, 0.05, 0.05, 0.05, 0.05, 0.05, 0.05, 0.05, 0.05, 0.05, 0.05, 0.05)\n"
     ]
    },
    {
     "name": "stderr",
     "output_type": "stream",
     "text": [
      "/home/felix/miniconda3/envs/tf/lib/python3.10/site-packages/keras/layers/core/lambda_layer.py:324: UserWarning: ModelBuilder is not loaded, but a Lambda layer uses it. It may cause errors.\n",
      "  function = cls._parse_function_from_config(\n"
     ]
    },
    {
     "name": "stdout",
     "output_type": "stream",
     "text": [
      "8/11:\tpower_cons\n",
      "('Resnet-0', 'Resnet-1', 'Resnet-2', 'Resnet-3', 'Resnet-4', 'Resnet-5', 'Resnet-6', 'Resnet-7', 'Resnet-8', 'Resnet-9', 'Encoder-0', 'Encoder-1', 'Encoder-2', 'Encoder-3', 'Encoder-4', 'Encoder-5', 'Encoder-6', 'Encoder-7', 'Encoder-8', 'Encoder-9')\n",
      "(0.05, 0.05, 0.05, 0.05, 0.05, 0.05, 0.05, 0.05, 0.05, 0.05, 0.05, 0.05, 0.05, 0.05, 0.05, 0.05, 0.05, 0.05, 0.05, 0.05)\n"
     ]
    },
    {
     "name": "stderr",
     "output_type": "stream",
     "text": [
      "/home/felix/miniconda3/envs/tf/lib/python3.10/site-packages/keras/layers/core/lambda_layer.py:324: UserWarning: ModelBuilder is not loaded, but a Lambda layer uses it. It may cause errors.\n",
      "  function = cls._parse_function_from_config(\n"
     ]
    },
    {
     "name": "stdout",
     "output_type": "stream",
     "text": [
      "9/11:\tsony_robot\n",
      "('Resnet-0', 'Resnet-1', 'Resnet-2', 'Resnet-3', 'Resnet-4', 'Resnet-5', 'Resnet-6', 'Resnet-7', 'Resnet-8', 'Resnet-9', 'Encoder-0', 'Encoder-1', 'Encoder-2', 'Encoder-3', 'Encoder-4', 'Encoder-5', 'Encoder-6', 'Encoder-7', 'Encoder-8', 'Encoder-9')\n",
      "(0.05, 0.05, 0.05, 0.05, 0.05, 0.05, 0.05, 0.05, 0.05, 0.05, 0.05, 0.05, 0.05, 0.05, 0.05, 0.05, 0.05, 0.05, 0.05, 0.05)\n"
     ]
    },
    {
     "name": "stderr",
     "output_type": "stream",
     "text": [
      "/home/felix/miniconda3/envs/tf/lib/python3.10/site-packages/keras/layers/core/lambda_layer.py:324: UserWarning: ModelBuilder is not loaded, but a Lambda layer uses it. It may cause errors.\n",
      "  function = cls._parse_function_from_config(\n"
     ]
    },
    {
     "name": "stdout",
     "output_type": "stream",
     "text": [
      "10/11:\tswedish_leaf\n",
      "('Resnet-0', 'Resnet-1', 'Resnet-2', 'Resnet-3', 'Resnet-4', 'Resnet-5', 'Resnet-6', 'Resnet-7', 'Resnet-8', 'Resnet-9', 'Encoder-0', 'Encoder-1', 'Encoder-2', 'Encoder-3', 'Encoder-4', 'Encoder-5', 'Encoder-6', 'Encoder-7', 'Encoder-8', 'Encoder-9')\n",
      "(0.05, 0.05, 0.05, 0.05, 0.05, 0.05, 0.05, 0.05, 0.05, 0.05, 0.05, 0.05, 0.05, 0.05, 0.05, 0.05, 0.05, 0.05, 0.05, 0.05)\n"
     ]
    },
    {
     "name": "stderr",
     "output_type": "stream",
     "text": [
      "/home/felix/miniconda3/envs/tf/lib/python3.10/site-packages/keras/layers/core/lambda_layer.py:324: UserWarning: ModelBuilder is not loaded, but a Lambda layer uses it. It may cause errors.\n",
      "  function = cls._parse_function_from_config(\n"
     ]
    },
    {
     "name": "stdout",
     "output_type": "stream",
     "text": [
      "11/11:\tsynthetic_control\n",
      "('Resnet-0', 'Resnet-1', 'Resnet-2', 'Resnet-3', 'Resnet-4', 'Resnet-5', 'Resnet-6', 'Resnet-7', 'Resnet-8', 'Resnet-9', 'Encoder-0', 'Encoder-1', 'Encoder-2', 'Encoder-3', 'Encoder-4', 'Encoder-5', 'Encoder-6', 'Encoder-7', 'Encoder-8', 'Encoder-9')\n",
      "(0.05, 0.05, 0.05, 0.05, 0.05, 0.05, 0.05, 0.05, 0.05, 0.05, 0.05, 0.05, 0.05, 0.05, 0.05, 0.05, 0.05, 0.05, 0.05, 0.05)\n"
     ]
    },
    {
     "name": "stderr",
     "output_type": "stream",
     "text": [
      "/home/felix/miniconda3/envs/tf/lib/python3.10/site-packages/keras/layers/core/lambda_layer.py:324: UserWarning: ModelBuilder is not loaded, but a Lambda layer uses it. It may cause errors.\n",
      "  function = cls._parse_function_from_config(\n"
     ]
    }
   ],
   "source": [
    "run_ensembles(dataset_names=dataset_names, ensembles=used_ensembles, verbose=True).to_csv(csv_name)"
   ]
  },
  {
   "cell_type": "code",
   "execution_count": null,
   "metadata": {
    "collapsed": false,
    "jupyter": {
     "outputs_hidden": false
    },
    "pycharm": {
     "is_executing": true
    }
   },
   "outputs": [],
   "source": [
    "create_confusion_matrix_plot_from_csv(csv_name, verbose=True)"
   ]
  },
  {
   "cell_type": "code",
   "execution_count": 13,
   "metadata": {
    "collapsed": false,
    "jupyter": {
     "outputs_hidden": false
    }
   },
   "outputs": [
    {
     "name": "stdout",
     "output_type": "stream",
     "text": [
      "cricket_y\n",
      "distal_phalanax_tw\n",
      "egg_five_days\n",
      "electric_devices\n",
      "face_ucr\n",
      "fifty_words\n",
      "mote_strain\n",
      "power_cons\n",
      "sony_robot\n",
      "swedish_leaf\n",
      "synthetic_control\n"
     ]
    }
   ],
   "source": [
    "create_confusion_matrix_plot_from_csv(\"../results/train__Encoder_Encoder_Encoder_Encoder_Encoder_Encoder_Encoder_Encoder_Encoder_Encoder_11_datasets.csv\", verbose=True)"
   ]
  },
  {
   "cell_type": "code",
   "execution_count": null,
   "metadata": {
    "collapsed": false,
    "jupyter": {
     "outputs_hidden": false
    }
   },
   "outputs": [],
   "source": []
  }
 ],
 "metadata": {
  "kernelspec": {
   "display_name": "Python 3 (ipykernel)",
   "language": "python",
   "name": "python3"
  },
  "language_info": {
   "codemirror_mode": {
    "name": "ipython",
    "version": 3
   },
   "file_extension": ".py",
   "mimetype": "text/x-python",
   "name": "python",
   "nbconvert_exporter": "python",
   "pygments_lexer": "ipython3",
   "version": "3.8.6"
  }
 },
 "nbformat": 4,
 "nbformat_minor": 4
}
