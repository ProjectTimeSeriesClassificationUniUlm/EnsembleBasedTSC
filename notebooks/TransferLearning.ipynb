{
 "cells": [
  {
   "cell_type": "markdown",
   "metadata": {},
   "source": [
    "# Transfer Learning"
   ]
  },
  {
   "cell_type": "code",
   "execution_count": 1,
   "metadata": {
    "collapsed": false,
    "jupyter": {
     "outputs_hidden": false
    }
   },
   "outputs": [
    {
     "name": "stderr",
     "output_type": "stream",
     "text": [
      "2023-01-31 13:32:58.922300: I tensorflow/core/platform/cpu_feature_guard.cc:193] This TensorFlow binary is optimized with oneAPI Deep Neural Network Library (oneDNN) to use the following CPU instructions in performance-critical operations:  AVX2 AVX512F AVX512_VNNI FMA\n",
      "To enable them in other operations, rebuild TensorFlow with the appropriate compiler flags.\n",
      "2023-01-31 13:32:59.046979: I tensorflow/core/util/port.cc:104] oneDNN custom operations are on. You may see slightly different numerical results due to floating-point round-off errors from different computation orders. To turn them off, set the environment variable `TF_ENABLE_ONEDNN_OPTS=0`.\n",
      "2023-01-31 13:33:00.039335: W tensorflow/compiler/xla/stream_executor/platform/default/dso_loader.cc:64] Could not load dynamic library 'libnvinfer.so.7'; dlerror: libnvinfer.so.7: cannot open shared object file: No such file or directory; LD_LIBRARY_PATH: /opt/bwhpc/common/devel/cuda/11.8/lib64\n",
      "2023-01-31 13:33:00.039402: W tensorflow/compiler/xla/stream_executor/platform/default/dso_loader.cc:64] Could not load dynamic library 'libnvinfer_plugin.so.7'; dlerror: libnvinfer_plugin.so.7: cannot open shared object file: No such file or directory; LD_LIBRARY_PATH: /opt/bwhpc/common/devel/cuda/11.8/lib64\n",
      "2023-01-31 13:33:00.039409: W tensorflow/compiler/tf2tensorrt/utils/py_utils.cc:38] TF-TRT Warning: Cannot dlopen some TensorRT libraries. If you would like to use Nvidia GPU with TensorRT, please make sure the missing libraries mentioned above are installed properly.\n"
     ]
    },
    {
     "ename": "ModuleNotFoundError",
     "evalue": "No module named 'PyPDF2'",
     "output_type": "error",
     "traceback": [
      "\u001b[0;31m---------------------------------------------------------------------------\u001b[0m",
      "\u001b[0;31mModuleNotFoundError\u001b[0m                       Traceback (most recent call last)",
      "Cell \u001b[0;32mIn[1], line 12\u001b[0m\n\u001b[1;32m      9\u001b[0m \u001b[38;5;28;01mimport\u001b[39;00m \u001b[38;5;21;01mtensorflow\u001b[39;00m \u001b[38;5;28;01mas\u001b[39;00m \u001b[38;5;21;01mtf\u001b[39;00m\n\u001b[1;32m     10\u001b[0m \u001b[38;5;28;01mimport\u001b[39;00m \u001b[38;5;21;01mnumpy\u001b[39;00m \u001b[38;5;28;01mas\u001b[39;00m \u001b[38;5;21;01mnp\u001b[39;00m\n\u001b[0;32m---> 12\u001b[0m \u001b[38;5;28;01mfrom\u001b[39;00m \u001b[38;5;21;01mTrainProdecure\u001b[39;00m \u001b[38;5;28;01mimport\u001b[39;00m train_single_model\n\u001b[1;32m     13\u001b[0m \u001b[38;5;28;01mfrom\u001b[39;00m \u001b[38;5;21;01mModelBuilder\u001b[39;00m \u001b[38;5;28;01mimport\u001b[39;00m get_FCN\n\u001b[1;32m     14\u001b[0m \u001b[38;5;28;01mfrom\u001b[39;00m \u001b[38;5;21;01mLoadData\u001b[39;00m \u001b[38;5;28;01mimport\u001b[39;00m get_all_datasets_names_paths, get_all_datasets_test_train_np_arrays, CurrentDatasets\n",
      "File \u001b[0;32m/pfs/data5/home/ul/ul_student/ul_dgb62/project deep learning/EnsembleBasedTSC/src/TrainProdecure.py:15\u001b[0m\n\u001b[1;32m     12\u001b[0m \u001b[38;5;28;01mfrom\u001b[39;00m \u001b[38;5;21;01mtqdm\u001b[39;00m\u001b[38;5;21;01m.\u001b[39;00m\u001b[38;5;21;01mauto\u001b[39;00m \u001b[38;5;28;01mimport\u001b[39;00m tqdm\n\u001b[1;32m     13\u001b[0m \u001b[38;5;28;01mfrom\u001b[39;00m \u001b[38;5;21;01mtqdm\u001b[39;00m\u001b[38;5;21;01m.\u001b[39;00m\u001b[38;5;21;01mkeras\u001b[39;00m \u001b[38;5;28;01mimport\u001b[39;00m TqdmCallback\n\u001b[0;32m---> 15\u001b[0m \u001b[38;5;28;01mfrom\u001b[39;00m \u001b[38;5;21;01mHelpers\u001b[39;00m \u001b[38;5;28;01mimport\u001b[39;00m append_to_csv, get_project_root, get_confusion_matrix_for_model_and_data\n\u001b[1;32m     16\u001b[0m \u001b[38;5;28;01mfrom\u001b[39;00m \u001b[38;5;21;01mLoadData\u001b[39;00m \u001b[38;5;28;01mimport\u001b[39;00m get_all_datasets_test_train_np_arrays\n\u001b[1;32m     17\u001b[0m \u001b[38;5;28;01mfrom\u001b[39;00m \u001b[38;5;21;01mModelBuilder\u001b[39;00m \u001b[38;5;28;01mimport\u001b[39;00m get_model_name\n",
      "File \u001b[0;32m/pfs/data5/home/ul/ul_student/ul_dgb62/project deep learning/EnsembleBasedTSC/src/Helpers.py:8\u001b[0m\n\u001b[1;32m      6\u001b[0m \u001b[38;5;28;01mimport\u001b[39;00m \u001b[38;5;21;01mnumpy\u001b[39;00m \u001b[38;5;28;01mas\u001b[39;00m \u001b[38;5;21;01mnp\u001b[39;00m\n\u001b[1;32m      7\u001b[0m \u001b[38;5;28;01mimport\u001b[39;00m \u001b[38;5;21;01mpandas\u001b[39;00m \u001b[38;5;28;01mas\u001b[39;00m \u001b[38;5;21;01mpd\u001b[39;00m\n\u001b[0;32m----> 8\u001b[0m \u001b[38;5;28;01mfrom\u001b[39;00m \u001b[38;5;21;01mPyPDF2\u001b[39;00m \u001b[38;5;28;01mimport\u001b[39;00m PdfMerger\n\u001b[1;32m      9\u001b[0m \u001b[38;5;28;01mfrom\u001b[39;00m \u001b[38;5;21;01msklearn\u001b[39;00m\u001b[38;5;21;01m.\u001b[39;00m\u001b[38;5;21;01mmetrics\u001b[39;00m \u001b[38;5;28;01mimport\u001b[39;00m confusion_matrix\n\u001b[1;32m     10\u001b[0m \u001b[38;5;28;01mfrom\u001b[39;00m \u001b[38;5;21;01mpathlib\u001b[39;00m \u001b[38;5;28;01mimport\u001b[39;00m Path\n",
      "\u001b[0;31mModuleNotFoundError\u001b[0m: No module named 'PyPDF2'"
     ]
    }
   ],
   "source": [
    "import sys\n",
    "\n",
    "from tqdm.auto import tqdm\n",
    "\n",
    "import sys\n",
    "sys.path.append(\"../src\")\n",
    "\n",
    "import keras\n",
    "import tensorflow as tf\n",
    "import numpy as np\n",
    "\n",
    "from TrainProdecure import train_single_model\n",
    "from ModelBuilder import get_FCN\n",
    "from LoadData import get_all_datasets_names_paths, get_all_datasets_test_train_np_arrays, CurrentDatasets\n",
    "\n",
    "tf.config.list_physical_devices('GPU')"
   ]
  },
  {
   "cell_type": "code",
   "execution_count": 2,
   "metadata": {
    "collapsed": false,
    "jupyter": {
     "outputs_hidden": false
    }
   },
   "outputs": [],
   "source": [
    "EPOCHS_PER_TRAINING = 20\n",
    "FINE_TUNE_DATASETS = CurrentDatasets.electric_devices.value, CurrentDatasets.coffee_beans.value, CurrentDatasets.share_price_increase.value\n",
    "EVALUATION_DATASET = CurrentDatasets.freezers.value\n",
    "GENERATE_MODEL = get_FCN"
   ]
  },
  {
   "cell_type": "code",
   "execution_count": 3,
   "metadata": {
    "collapsed": false,
    "jupyter": {
     "outputs_hidden": false
    }
   },
   "outputs": [],
   "source": [
    "def headless(model):\n",
    "    return model.layers[1:-1]"
   ]
  },
  {
   "cell_type": "code",
   "execution_count": 4,
   "metadata": {
    "collapsed": false,
    "jupyter": {
     "outputs_hidden": false
    }
   },
   "outputs": [],
   "source": [
    "def freeze_layers(list_of_layers):\n",
    "    for layer in list_of_layers:\n",
    "        layer.trainable = False"
   ]
  },
  {
   "cell_type": "code",
   "execution_count": 5,
   "metadata": {
    "collapsed": false,
    "jupyter": {
     "outputs_hidden": false
    }
   },
   "outputs": [],
   "source": [
    "def unfreeze_model(model):\n",
    "    for layer in model.layers:\n",
    "        layer.trainable = True"
   ]
  },
  {
   "cell_type": "code",
   "execution_count": 6,
   "metadata": {
    "collapsed": false,
    "jupyter": {
     "outputs_hidden": false
    }
   },
   "outputs": [],
   "source": [
    "ds = get_all_datasets_test_train_np_arrays('../datasets/')"
   ]
  },
  {
   "cell_type": "markdown",
   "metadata": {},
   "source": [
    "## Train a model from scratch\n",
    "\n",
    "This is the baseline for comparison with fine-tuned training"
   ]
  },
  {
   "cell_type": "code",
   "execution_count": 7,
   "metadata": {
    "collapsed": false,
    "jupyter": {
     "outputs_hidden": false
    }
   },
   "outputs": [
    {
     "name": "stdout",
     "output_type": "stream",
     "text": [
      "Model: \"sequential\"\n",
      "_________________________________________________________________\n",
      " Layer (type)                Output Shape              Param #   \n",
      "=================================================================\n",
      " conv1d (Conv1D)             (None, 301, 128)          1152      \n",
      "                                                                 \n",
      " batch_normalization (BatchN  (None, 301, 128)         512       \n",
      " ormalization)                                                   \n",
      "                                                                 \n",
      " activation (Activation)     (None, 301, 128)          0         \n",
      "                                                                 \n",
      " conv1d_1 (Conv1D)           (None, 301, 256)          164096    \n",
      "                                                                 \n",
      " batch_normalization_1 (Batc  (None, 301, 256)         1024      \n",
      " hNormalization)                                                 \n",
      "                                                                 \n",
      " activation_1 (Activation)   (None, 301, 256)          0         \n",
      "                                                                 \n",
      " conv1d_2 (Conv1D)           (None, 301, 128)          98432     \n",
      "                                                                 \n",
      " batch_normalization_2 (Batc  (None, 301, 128)         512       \n",
      " hNormalization)                                                 \n",
      "                                                                 \n",
      " activation_2 (Activation)   (None, 301, 128)          0         \n",
      "                                                                 \n",
      " global_average_pooling1d (G  (None, 128)              0         \n",
      " lobalAveragePooling1D)                                          \n",
      "                                                                 \n",
      " dense (Dense)               (None, 2)                 258       \n",
      "                                                                 \n",
      "=================================================================\n",
      "Total params: 265,986\n",
      "Trainable params: 264,962\n",
      "Non-trainable params: 1,024\n",
      "_________________________________________________________________\n"
     ]
    }
   ],
   "source": [
    "x_train, y_train = ds[EVALUATION_DATASET]['train_data']\n",
    "x_test, y_test = ds[EVALUATION_DATASET]['test_data']\n",
    "\n",
    "input_size = x_train.shape[1]\n",
    "output_size = len(np.unique(y_train))\n",
    "\n",
    "scratch_model = GENERATE_MODEL(input_size, output_size)\n",
    "scratch_model.summary()"
   ]
  },
  {
   "cell_type": "code",
   "execution_count": 8,
   "metadata": {
    "collapsed": false,
    "jupyter": {
     "outputs_hidden": false
    }
   },
   "outputs": [
    {
     "data": {
      "application/vnd.jupyter.widget-view+json": {
       "model_id": "01cff96f4b3444a697ed11c87f3e83d6",
       "version_major": 2,
       "version_minor": 0
      },
      "text/plain": [
       "Training FCN on freezers dataset: 0epoch [00:00, ?epoch/s]"
      ]
     },
     "metadata": {},
     "output_type": "display_data"
    },
    {
     "name": "stdout",
     "output_type": "stream",
     "text": [
      "90/90 [==============================] - 3s 35ms/step - loss: 0.9161 - accuracy: 0.5000\n"
     ]
    }
   ],
   "source": [
    "_, loss, acc, from_scratch_history = train_single_model(\n",
    "    scratch_model, x_train, y_train, x_test, y_test,\n",
    "    epochs=EPOCHS_PER_TRAINING, batch_size=None, model_name='FCN', dataset_name=EVALUATION_DATASET\n",
    ")\n",
    "# CPU 11s\n",
    "# GPU 12s"
   ]
  },
  {
   "cell_type": "markdown",
   "metadata": {},
   "source": [
    "## Train the model completely on each dataset"
   ]
  },
  {
   "cell_type": "code",
   "execution_count": 9,
   "metadata": {
    "collapsed": false,
    "jupyter": {
     "outputs_hidden": false
    }
   },
   "outputs": [],
   "source": [
    "fine_tuning_model = GENERATE_MODEL(1, 1)\n",
    "headless_model_layers = headless(fine_tuning_model)"
   ]
  },
  {
   "cell_type": "code",
   "execution_count": 10,
   "metadata": {
    "collapsed": false,
    "jupyter": {
     "outputs_hidden": false
    }
   },
   "outputs": [
    {
     "data": {
      "application/vnd.jupyter.widget-view+json": {
       "model_id": "d2cbd9e7e7de44c5aad3e63d67a0f6e1",
       "version_major": 2,
       "version_minor": 0
      },
      "text/plain": [
       "Training one model on several datasets:   0%|          | 0/3 [00:00<?, ?Dataset/s]"
      ]
     },
     "metadata": {},
     "output_type": "display_data"
    },
    {
     "data": {
      "application/vnd.jupyter.widget-view+json": {
       "model_id": "c23341f8da8d4951bc4d5b0fc0f044b4",
       "version_major": 2,
       "version_minor": 0
      },
      "text/plain": [
       "Training FCN on electric_devices dataset: 0epoch [00:00, ?epoch/s]"
      ]
     },
     "metadata": {},
     "output_type": "display_data"
    },
    {
     "name": "stdout",
     "output_type": "stream",
     "text": [
      "241/241 [==============================] - 5s 21ms/step - loss: 1.3009 - accuracy: 0.6877\n"
     ]
    },
    {
     "data": {
      "application/vnd.jupyter.widget-view+json": {
       "model_id": "092ffcf1ea174a69be0713edac521415",
       "version_major": 2,
       "version_minor": 0
      },
      "text/plain": [
       "Training FCN on coffee_beans dataset: 0epoch [00:00, ?epoch/s]"
      ]
     },
     "metadata": {},
     "output_type": "display_data"
    },
    {
     "name": "stdout",
     "output_type": "stream",
     "text": [
      "1/1 [==============================] - 0s 243ms/step - loss: 0.8074 - accuracy: 0.4643\n"
     ]
    },
    {
     "data": {
      "application/vnd.jupyter.widget-view+json": {
       "model_id": "2ce285d55f9144f09a8e0a86e52bdbb7",
       "version_major": 2,
       "version_minor": 0
      },
      "text/plain": [
       "Training FCN on share_price_increase dataset: 0epoch [00:00, ?epoch/s]"
      ]
     },
     "metadata": {},
     "output_type": "display_data"
    },
    {
     "name": "stdout",
     "output_type": "stream",
     "text": [
      "31/31 [==============================] - 1s 22ms/step - loss: 1.3186 - accuracy: 0.6843\n"
     ]
    }
   ],
   "source": [
    "# First round with full training\n",
    "for dataset_name in tqdm(FINE_TUNE_DATASETS, desc='Training one model on several datasets', unit='Dataset'):\n",
    "    x_train, y_train = ds[dataset_name]['train_data']\n",
    "    x_test, y_test = ds[dataset_name]['test_data']\n",
    "\n",
    "    input_size = x_train.shape[1]\n",
    "    output_size = len(np.unique(y_train))\n",
    "\n",
    "    # print(fine_tuning_model.summary())\n",
    "\n",
    "    extended_model = keras.Sequential([\n",
    "        keras.layers.Conv1D(filters=128, kernel_size=8, input_shape=(input_size, 1), padding='same'),\n",
    "        *headless_model_layers,\n",
    "        keras.layers.Dense(output_size, activation='softmax'),\n",
    "    ])\n",
    "\n",
    "    _, loss, acc, history = train_single_model(\n",
    "        extended_model, x_train, y_train, x_test, y_test,\n",
    "        epochs=EPOCHS_PER_TRAINING, batch_size=25, model_name='FCN',\n",
    "        dataset_name=dataset_name\n",
    "    )\n",
    "\n",
    "# Duration CPU: 5:06\n",
    "# GPU: 5:50"
   ]
  },
  {
   "cell_type": "markdown",
   "metadata": {},
   "source": [
    "## Fine-tuning on the same datasets"
   ]
  },
  {
   "cell_type": "code",
   "execution_count": 11,
   "metadata": {
    "collapsed": false,
    "jupyter": {
     "outputs_hidden": false
    }
   },
   "outputs": [
    {
     "data": {
      "application/vnd.jupyter.widget-view+json": {
       "model_id": "5c3b0f53dd9c4e04b085d264e2f7ace9",
       "version_major": 2,
       "version_minor": 0
      },
      "text/plain": [
       "Training one model on several datasets:   0%|          | 0/3 [00:00<?, ?Dataset/s]"
      ]
     },
     "metadata": {},
     "output_type": "display_data"
    },
    {
     "data": {
      "application/vnd.jupyter.widget-view+json": {
       "model_id": "de2ba68fab6d4de6966a81ed6c81be86",
       "version_major": 2,
       "version_minor": 0
      },
      "text/plain": [
       "Training FCN on electric_devices dataset: 0epoch [00:00, ?epoch/s]"
      ]
     },
     "metadata": {},
     "output_type": "display_data"
    },
    {
     "name": "stdout",
     "output_type": "stream",
     "text": [
      "241/241 [==============================] - 5s 22ms/step - loss: 1.2953 - accuracy: 0.6950\n"
     ]
    },
    {
     "data": {
      "application/vnd.jupyter.widget-view+json": {
       "model_id": "b0312fa02eb64ee1888d7e07523344ef",
       "version_major": 2,
       "version_minor": 0
      },
      "text/plain": [
       "Training FCN on coffee_beans dataset: 0epoch [00:00, ?epoch/s]"
      ]
     },
     "metadata": {},
     "output_type": "display_data"
    },
    {
     "name": "stdout",
     "output_type": "stream",
     "text": [
      "1/1 [==============================] - 0s 211ms/step - loss: 0.7249 - accuracy: 0.4643\n"
     ]
    },
    {
     "data": {
      "application/vnd.jupyter.widget-view+json": {
       "model_id": "aad92b6a5ab543139d8b5260a036a77d",
       "version_major": 2,
       "version_minor": 0
      },
      "text/plain": [
       "Training FCN on share_price_increase dataset: 0epoch [00:00, ?epoch/s]"
      ]
     },
     "metadata": {},
     "output_type": "display_data"
    },
    {
     "name": "stdout",
     "output_type": "stream",
     "text": [
      "31/31 [==============================] - 1s 21ms/step - loss: 1.2964 - accuracy: 0.6832\n"
     ]
    }
   ],
   "source": [
    "for dataset_name in tqdm(FINE_TUNE_DATASETS, desc='Training one model on several datasets', unit='Dataset'):\n",
    "    x_train, y_train = ds[dataset_name]['train_data']\n",
    "    x_test, y_test = ds[dataset_name]['test_data']\n",
    "\n",
    "    input_size = x_train.shape[1]\n",
    "    output_size = len(np.unique(y_train))\n",
    "\n",
    "    # print(fine_tuning_model.summary())\n",
    "\n",
    "    extended_model = keras.Sequential([\n",
    "        keras.layers.Conv1D(filters=128, kernel_size=8, input_shape=(input_size, 1), padding='same'),\n",
    "        *headless_model_layers,\n",
    "        keras.layers.Dense(output_size, activation='softmax'),\n",
    "    ])\n",
    "\n",
    "    _, loss, acc, history = train_single_model(\n",
    "        extended_model, x_train, y_train, x_test, y_test, learning_rate=10e-4,\n",
    "        epochs=EPOCHS_PER_TRAINING, batch_size=None, model_name='FCN',\n",
    "        dataset_name=dataset_name\n",
    "    )\n",
    "# CPU: 4:17"
   ]
  },
  {
   "cell_type": "markdown",
   "metadata": {},
   "source": [
    "## Fine-tune on new dataset"
   ]
  },
  {
   "cell_type": "code",
   "execution_count": 12,
   "metadata": {
    "collapsed": false,
    "jupyter": {
     "outputs_hidden": false
    }
   },
   "outputs": [
    {
     "data": {
      "application/vnd.jupyter.widget-view+json": {
       "model_id": "6e5c9ca2b6004c72bfba207e91599973",
       "version_major": 2,
       "version_minor": 0
      },
      "text/plain": [
       "Training FCN on freezers dataset: 0epoch [00:00, ?epoch/s]"
      ]
     },
     "metadata": {},
     "output_type": "display_data"
    },
    {
     "name": "stdout",
     "output_type": "stream",
     "text": [
      "WARNING:tensorflow:Callback method `on_train_batch_end` is slow compared to the batch time (batch time: 0.0579s vs `on_train_batch_end` time: 0.0747s). Check your callbacks.\n",
      "90/90 [==============================] - 3s 35ms/step - loss: 0.8359 - accuracy: 0.5000\n"
     ]
    }
   ],
   "source": [
    "x_train, y_train = ds[EVALUATION_DATASET]['train_data']\n",
    "x_test, y_test = ds[EVALUATION_DATASET]['test_data']\n",
    "\n",
    "input_size = x_train.shape[1]\n",
    "output_size = len(np.unique(y_train))\n",
    "\n",
    "# print(fine_tuning_model.summary())\n",
    "\n",
    "extended_model = keras.Sequential([\n",
    "    keras.layers.Conv1D(filters=128, kernel_size=8, input_shape=(input_size, 1), padding='same'),\n",
    "    *headless_model_layers,\n",
    "    keras.layers.Dense(output_size, activation='softmax'),\n",
    "])\n",
    "\n",
    "_, loss, acc, fine_tuned_history = train_single_model(\n",
    "    extended_model, x_train, y_train, x_test, y_test, learning_rate=10e-4,\n",
    "    epochs=EPOCHS_PER_TRAINING, batch_size=None, model_name='FCN',\n",
    "    dataset_name=EVALUATION_DATASET\n",
    ")"
   ]
  },
  {
   "cell_type": "markdown",
   "metadata": {},
   "source": [
    "## Compare fine-tuned model with training from scratch"
   ]
  },
  {
   "cell_type": "code",
   "execution_count": 13,
   "metadata": {
    "collapsed": false,
    "jupyter": {
     "outputs_hidden": false
    }
   },
   "outputs": [
    {
     "name": "stdout",
     "output_type": "stream",
     "text": [
      "Model trained from scratch:\n",
      "90/90 [==============================] - 3s 36ms/step - loss: 0.9161 - accuracy: 0.5000\n",
      "Fine-tuned Model:\n",
      "90/90 [==============================] - 3s 38ms/step - loss: 0.8359 - accuracy: 0.5000\n"
     ]
    },
    {
     "data": {
      "text/plain": [
       "[0.8359113335609436, 0.4999999701976776]"
      ]
     },
     "execution_count": 13,
     "metadata": {},
     "output_type": "execute_result"
    }
   ],
   "source": [
    "x_test, y_test = ds[EVALUATION_DATASET]['test_data']\n",
    "\n",
    "print('Model trained from scratch:')\n",
    "scratch_model.evaluate(x_test, y_test)\n",
    "\n",
    "print('Fine-tuned Model:')\n",
    "extended_model.evaluate(x_test, y_test)"
   ]
  },
  {
   "cell_type": "code",
   "execution_count": 14,
   "metadata": {
    "collapsed": false,
    "jupyter": {
     "outputs_hidden": false
    }
   },
   "outputs": [
    {
     "name": "stdout",
     "output_type": "stream",
     "text": [
      "Model trained from scratch:\n",
      "Using 20 epochs. You can ignore the epochs parameter if you want to use all epochs.\n",
      "Highest Validation Accuracy: 0.9999999403953552\n"
     ]
    },
    {
     "data": {
      "image/png": "[encoded data removed]",
      "text/plain": [
       "<Figure size 640x480 with 2 Axes>"
      ]
     },
     "metadata": {},
     "output_type": "display_data"
    },
    {
     "name": "stdout",
     "output_type": "stream",
     "text": [
      "Fine-tuned Model:\n",
      "Using 20 epochs. You can ignore the epochs parameter if you want to use all epochs.\n",
      "Highest Validation Accuracy: 0.9999999403953552\n"
     ]
    },
    {
     "data": {
      "image/png": "[encoded data removed]",
      "text/plain": [
       "<Figure size 640x480 with 2 Axes>"
      ]
     },
     "metadata": {},
     "output_type": "display_data"
    }
   ],
   "source": [
    "from src.Evaluation import plot_model_history\n",
    "\n",
    "print('Model trained from scratch:')\n",
    "plot_model_history(from_scratch_history.history, epochs=EPOCHS_PER_TRAINING)\n",
    "\n",
    "print('Fine-tuned Model:')\n",
    "plot_model_history(fine_tuned_history.history, epochs=EPOCHS_PER_TRAINING)"
   ]
  },
  {
   "cell_type": "code",
   "execution_count": 14,
   "metadata": {
    "collapsed": false,
    "jupyter": {
     "outputs_hidden": false
    }
   },
   "outputs": [],
   "source": []
  }
 ],
 "metadata": {
  "kernelspec": {
   "display_name": "Python 3 (ipykernel)",
   "language": "python",
   "name": "python3"
  },
  "language_info": {
   "codemirror_mode": {
    "name": "ipython",
    "version": 3
   },
   "file_extension": ".py",
   "mimetype": "text/x-python",
   "name": "python",
   "nbconvert_exporter": "python",
   "pygments_lexer": "ipython3",
   "version": "3.8.6"
  }
 },
 "nbformat": 4,
 "nbformat_minor": 4
}
