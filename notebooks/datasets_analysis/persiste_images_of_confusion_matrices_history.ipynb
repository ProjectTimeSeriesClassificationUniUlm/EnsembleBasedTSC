{
 "cells": [
  {
   "cell_type": "code",
   "execution_count": null,
   "id": "0a37711c-bef8-469b-be2e-756572ee1a2b",
   "metadata": {},
   "outputs": [],
   "source": []
  },
  {
   "cell_type": "code",
   "execution_count": 1,
   "id": "3b2e9b00-bab5-4763-92a8-68c4e4a34580",
   "metadata": {},
   "outputs": [
    {
     "name": "stderr",
     "output_type": "stream",
     "text": [
      "2023-01-24 11:44:45.047275: I tensorflow/core/platform/cpu_feature_guard.cc:193] This TensorFlow binary is optimized with oneAPI Deep Neural Network Library (oneDNN) to use the following CPU instructions in performance-critical operations:  AVX2 AVX512F AVX512_VNNI FMA\n",
      "To enable them in other operations, rebuild TensorFlow with the appropriate compiler flags.\n",
      "2023-01-24 11:44:45.169502: I tensorflow/core/util/port.cc:104] oneDNN custom operations are on. You may see slightly different numerical results due to floating-point round-off errors from different computation orders. To turn them off, set the environment variable `TF_ENABLE_ONEDNN_OPTS=0`.\n",
      "2023-01-24 11:44:46.095433: W tensorflow/compiler/xla/stream_executor/platform/default/dso_loader.cc:64] Could not load dynamic library 'libnvinfer.so.7'; dlerror: libnvinfer.so.7: cannot open shared object file: No such file or directory; LD_LIBRARY_PATH: /opt/bwhpc/common/devel/cuda/11.8/lib64\n",
      "2023-01-24 11:44:46.095500: W tensorflow/compiler/xla/stream_executor/platform/default/dso_loader.cc:64] Could not load dynamic library 'libnvinfer_plugin.so.7'; dlerror: libnvinfer_plugin.so.7: cannot open shared object file: No such file or directory; LD_LIBRARY_PATH: /opt/bwhpc/common/devel/cuda/11.8/lib64\n",
      "2023-01-24 11:44:46.095507: W tensorflow/compiler/tf2tensorrt/utils/py_utils.cc:38] TF-TRT Warning: Cannot dlopen some TensorRT libraries. If you would like to use Nvidia GPU with TensorRT, please make sure the missing libraries mentioned above are installed properly.\n"
     ]
    }
   ],
   "source": [
    "import sys\n",
    "sys.path.append('../..')\n",
    "import os\n",
    "import json\n",
    "from pathlib import Path\n",
    "import shutil\n",
    "\n",
    "\n",
    "import numpy as np\n",
    "import math\n",
    "import pandas as pd\n",
    "import tensorflow as tf\n",
    "import seaborn as sns\n",
    "from tqdm.auto import tqdm\n",
    "import matplotlib.pyplot as plt\n",
    "from tqdm.keras import TqdmCallback\n",
    "\n",
    "from src.Evaluation import plot_model_history\n",
    "from src.ModelBuilder import get_MLP, get_MCDCNN, get_Time_CNN, get_FCN, get_Encoder, get_Resnet\n",
    "from src.LoadData import get_all_datasets_test_train_np_arrays, get_all_datasets_names_paths\n",
    "from src.Helpers import append_to_csv, get_confusion_matrix_for_model_and_data, visualize_confusion_matrix"
   ]
  },
  {
   "cell_type": "code",
   "execution_count": 2,
   "id": "a52912b7-8c6c-476a-ad8a-417fc8431735",
   "metadata": {},
   "outputs": [],
   "source": [
    "path_to_ds_analysis_file = \"../training_res.csv\"\n",
    "path_to_datasets = \"../../datasets\"\n",
    "path_to_persiste = \"./ds_confusion_matrices_history\"\n",
    "persist_history = True"
   ]
  },
  {
   "cell_type": "code",
   "execution_count": 3,
   "id": "4749b01c-cb76-476f-9f91-780813109743",
   "metadata": {},
   "outputs": [],
   "source": [
    "training_res_df = pd.read_csv(path_to_ds_analysis_file)"
   ]
  },
  {
   "cell_type": "code",
   "execution_count": 4,
   "id": "ec787f96-2aa1-40bd-b06a-3dea87905074",
   "metadata": {},
   "outputs": [],
   "source": [
    "datasets_names, _ = get_all_datasets_names_paths(path_to_datasets)"
   ]
  },
  {
   "cell_type": "code",
   "execution_count": 5,
   "id": "4fa7d954-38e4-43e2-be95-89f59d39991d",
   "metadata": {},
   "outputs": [
    {
     "name": "stdout",
     "output_type": "stream",
     "text": [
      "Dataset name cbf\n"
     ]
    },
    {
     "name": "stderr",
     "output_type": "stream",
     "text": [
      "/scratch/slurm_tmpdir/job_21679853/ipykernel_152942/2969229585.py:20: FutureWarning: iteritems is deprecated and will be removed in a future version. Use .items instead.\n",
      "  conf_matrices = [json.loads(mtr) for i, mtr in df_dataset[\"confusion_matrix\"].iteritems()]\n",
      "/scratch/slurm_tmpdir/job_21679853/ipykernel_152942/2969229585.py:21: FutureWarning: iteritems is deprecated and will be removed in a future version. Use .items instead.\n",
      "  test_acc = [round(acc, 2) for i, acc in df_dataset[\"test_acc\"].iteritems()]\n"
     ]
    },
    {
     "name": "stdout",
     "output_type": "stream",
     "text": [
      "Dataset name gun_point_male_female\n",
      "Dataset name car\n",
      "Dataset name abnormal_heartbeat\n",
      "Dataset name distal_phalanax_tw\n",
      "Dataset name phalanges_outlines_correct\n",
      "Dataset name swedish_leaf\n",
      "Dataset name share_price_increase\n",
      "Dataset name distal_phalanx_outline\n",
      "Dataset name strawberry\n",
      "Dataset name earthquakes\n",
      "Dataset name electric_devices\n",
      "Dataset name fifty_words\n",
      "Dataset name freezers\n",
      "Dataset name synthetic_control\n",
      "Dataset name gun_point_age_span\n",
      "Dataset name trace\n",
      "Dataset name fish\n",
      "Dataset name middle_phalanx_age_group\n",
      "Dataset name lightning_7\n"
     ]
    },
    {
     "name": "stderr",
     "output_type": "stream",
     "text": [
      "/scratch/slurm_tmpdir/job_21679853/ipykernel_152942/2969229585.py:18: RuntimeWarning: More than 20 figures have been opened. Figures created through the pyplot interface (`matplotlib.pyplot.figure`) are retained until explicitly closed and may consume too much memory. (To control this warning, see the rcParam `figure.max_open_warning`). Consider using `matplotlib.pyplot.close()`.\n",
      "  plt.figure(figsize=(15, 15))\n",
      "../../src/Evaluation.py:14: RuntimeWarning: More than 20 figures have been opened. Figures created through the pyplot interface (`matplotlib.pyplot.figure`) are retained until explicitly closed and may consume too much memory. (To control this warning, see the rcParam `figure.max_open_warning`). Consider using `matplotlib.pyplot.close()`.\n",
      "  figure, axis = plt.subplots(2, 1)\n"
     ]
    },
    {
     "name": "stdout",
     "output_type": "stream",
     "text": [
      "Dataset name colposcopy\n"
     ]
    },
    {
     "name": "stderr",
     "output_type": "stream",
     "text": [
      "/scratch/slurm_tmpdir/job_21679853/ipykernel_152942/2969229585.py:16: RuntimeWarning: More than 20 figures have been opened. Figures created through the pyplot interface (`matplotlib.pyplot.figure`) are retained until explicitly closed and may consume too much memory. (To control this warning, see the rcParam `figure.max_open_warning`). Consider using `matplotlib.pyplot.close()`.\n",
      "  figure, axis = plt.subplots(num_horizontal, num_vertical)\n"
     ]
    },
    {
     "name": "stdout",
     "output_type": "stream",
     "text": [
      "Dataset name cricket_y\n",
      "Dataset name coffee_beans\n",
      "Dataset name gun_point_old_young\n",
      "Dataset name middle_phalanx_correct\n",
      "Dataset name bme\n",
      "Dataset name plane\n",
      "Dataset name power_cons\n",
      "Dataset name face_ucr\n",
      "Dataset name medical_images\n",
      "Dataset name chlorine_concentration\n",
      "Dataset name dodger_loop_day\n",
      "Dataset name arrow_head\n"
     ]
    },
    {
     "data": {
      "text/plain": [
       "<Figure size 1500x1500 with 0 Axes>"
      ]
     },
     "metadata": {},
     "output_type": "display_data"
    },
    {
     "data": {
      "text/plain": [
       "<Figure size 1500x1500 with 0 Axes>"
      ]
     },
     "metadata": {},
     "output_type": "display_data"
    },
    {
     "data": {
      "text/plain": [
       "<Figure size 1500x1500 with 0 Axes>"
      ]
     },
     "metadata": {},
     "output_type": "display_data"
    },
    {
     "data": {
      "text/plain": [
       "<Figure size 1500x1500 with 0 Axes>"
      ]
     },
     "metadata": {},
     "output_type": "display_data"
    },
    {
     "data": {
      "text/plain": [
       "<Figure size 1500x1500 with 0 Axes>"
      ]
     },
     "metadata": {},
     "output_type": "display_data"
    },
    {
     "data": {
      "text/plain": [
       "<Figure size 1500x1500 with 0 Axes>"
      ]
     },
     "metadata": {},
     "output_type": "display_data"
    },
    {
     "data": {
      "text/plain": [
       "<Figure size 1500x1500 with 0 Axes>"
      ]
     },
     "metadata": {},
     "output_type": "display_data"
    },
    {
     "data": {
      "text/plain": [
       "<Figure size 1500x1500 with 0 Axes>"
      ]
     },
     "metadata": {},
     "output_type": "display_data"
    },
    {
     "data": {
      "text/plain": [
       "<Figure size 1500x1500 with 0 Axes>"
      ]
     },
     "metadata": {},
     "output_type": "display_data"
    },
    {
     "data": {
      "text/plain": [
       "<Figure size 1500x1500 with 0 Axes>"
      ]
     },
     "metadata": {},
     "output_type": "display_data"
    },
    {
     "data": {
      "text/plain": [
       "<Figure size 1500x1500 with 0 Axes>"
      ]
     },
     "metadata": {},
     "output_type": "display_data"
    },
    {
     "data": {
      "text/plain": [
       "<Figure size 1500x1500 with 0 Axes>"
      ]
     },
     "metadata": {},
     "output_type": "display_data"
    },
    {
     "data": {
      "text/plain": [
       "<Figure size 1500x1500 with 0 Axes>"
      ]
     },
     "metadata": {},
     "output_type": "display_data"
    },
    {
     "data": {
      "text/plain": [
       "<Figure size 1500x1500 with 0 Axes>"
      ]
     },
     "metadata": {},
     "output_type": "display_data"
    },
    {
     "data": {
      "text/plain": [
       "<Figure size 1500x1500 with 0 Axes>"
      ]
     },
     "metadata": {},
     "output_type": "display_data"
    },
    {
     "data": {
      "text/plain": [
       "<Figure size 1500x1500 with 0 Axes>"
      ]
     },
     "metadata": {},
     "output_type": "display_data"
    },
    {
     "data": {
      "text/plain": [
       "<Figure size 1500x1500 with 0 Axes>"
      ]
     },
     "metadata": {},
     "output_type": "display_data"
    },
    {
     "data": {
      "text/plain": [
       "<Figure size 1500x1500 with 0 Axes>"
      ]
     },
     "metadata": {},
     "output_type": "display_data"
    },
    {
     "data": {
      "text/plain": [
       "<Figure size 1500x1500 with 0 Axes>"
      ]
     },
     "metadata": {},
     "output_type": "display_data"
    },
    {
     "data": {
      "text/plain": [
       "<Figure size 1500x1500 with 0 Axes>"
      ]
     },
     "metadata": {},
     "output_type": "display_data"
    },
    {
     "data": {
      "text/plain": [
       "<Figure size 1500x1500 with 0 Axes>"
      ]
     },
     "metadata": {},
     "output_type": "display_data"
    },
    {
     "data": {
      "text/plain": [
       "<Figure size 1500x1500 with 0 Axes>"
      ]
     },
     "metadata": {},
     "output_type": "display_data"
    },
    {
     "data": {
      "text/plain": [
       "<Figure size 1500x1500 with 0 Axes>"
      ]
     },
     "metadata": {},
     "output_type": "display_data"
    },
    {
     "data": {
      "text/plain": [
       "<Figure size 1500x1500 with 0 Axes>"
      ]
     },
     "metadata": {},
     "output_type": "display_data"
    },
    {
     "data": {
      "text/plain": [
       "<Figure size 1500x1500 with 0 Axes>"
      ]
     },
     "metadata": {},
     "output_type": "display_data"
    },
    {
     "data": {
      "text/plain": [
       "<Figure size 1500x1500 with 0 Axes>"
      ]
     },
     "metadata": {},
     "output_type": "display_data"
    },
    {
     "data": {
      "text/plain": [
       "<Figure size 1500x1500 with 0 Axes>"
      ]
     },
     "metadata": {},
     "output_type": "display_data"
    },
    {
     "data": {
      "text/plain": [
       "<Figure size 1500x1500 with 0 Axes>"
      ]
     },
     "metadata": {},
     "output_type": "display_data"
    },
    {
     "data": {
      "text/plain": [
       "<Figure size 1500x1500 with 0 Axes>"
      ]
     },
     "metadata": {},
     "output_type": "display_data"
    },
    {
     "data": {
      "text/plain": [
       "<Figure size 1500x1500 with 0 Axes>"
      ]
     },
     "metadata": {},
     "output_type": "display_data"
    },
    {
     "data": {
      "text/plain": [
       "<Figure size 1500x1500 with 0 Axes>"
      ]
     },
     "metadata": {},
     "output_type": "display_data"
    },
    {
     "data": {
      "text/plain": [
       "<Figure size 1500x1500 with 0 Axes>"
      ]
     },
     "metadata": {},
     "output_type": "display_data"
    },
    {
     "data": {
      "text/plain": [
       "<Figure size 1500x1500 with 0 Axes>"
      ]
     },
     "metadata": {},
     "output_type": "display_data"
    }
   ],
   "source": [
    "for dataset_name in datasets_names:\n",
    "    print(\"Dataset name\", dataset_name)\n",
    "    df_dataset = training_res_df[training_res_df[\"dataset_name\"] == dataset_name]\n",
    "    num_conf_matr = len(df_dataset)\n",
    "    if num_conf_matr > 0:\n",
    "        \n",
    "        curr_persist_dir = Path(path_to_persiste) / dataset_name\n",
    "        #curr_persist_dir = os.path.join(path_to_persiste, dataset_name)\n",
    "        if curr_persist_dir.exists() and curr_persist_dir.is_dir():\n",
    "            shutil.rmtree(curr_persist_dir)\n",
    "        os.mkdir(curr_persist_dir)\n",
    "        \n",
    "        num_horizontal = 2 \n",
    "        num_vertical = math.ceil(num_conf_matr/num_horizontal)\n",
    "\n",
    "        figure, axis = plt.subplots(num_horizontal, num_vertical)\n",
    "        figure.suptitle(f\"Dataset {dataset_name}\", fontsize=16)\n",
    "        plt.figure(figsize=(15, 15))\n",
    "\n",
    "        conf_matrices = [json.loads(mtr) for i, mtr in df_dataset[\"confusion_matrix\"].iteritems()]\n",
    "        test_acc = [round(acc, 2) for i, acc in df_dataset[\"test_acc\"].iteritems()]\n",
    "        model_names = df_dataset[\"model_name\"].values.tolist()\n",
    "        curr_matr = 0\n",
    "\n",
    "        for i in range(num_horizontal):\n",
    "            for j in range(num_vertical):\n",
    "                curr_axis = axis[i, j]\n",
    "                if curr_matr < len(conf_matrices):\n",
    "                    sns.heatmap(conf_matrices[curr_matr], annot=True, fmt=\"d\", ax=curr_axis)\n",
    "                    curr_axis.set_title(f\"{model_names[curr_matr]}; \\n Test accuracy: {test_acc[curr_matr]}\")\n",
    "                    curr_axis.set_ylabel('True label')\n",
    "                    curr_axis.set_xlabel('Predicted label')\n",
    "                curr_matr += 1\n",
    "\n",
    "        figure.tight_layout()            \n",
    "        figure.savefig(os.path.join(curr_persist_dir, \"confusion_matrix.png\"))\n",
    "        plt.close(figure)\n",
    "        \n",
    "        if persist_history:\n",
    "            for _, row in df_dataset.iterrows():\n",
    "                history = json.loads(row[\"history\"])\n",
    "                epochs = len(history[\"loss\"])\n",
    "                model_name = row[\"model_name\"]\n",
    "                plot_model_history(history=history, epochs=epochs, path_to_persist=os.path.join(curr_persist_dir, f\"history_{model_name}.png\"))\n",
    "        "
   ]
  },
  {
   "cell_type": "code",
   "execution_count": null,
   "id": "0a28fa4f-ea49-4aed-b73e-fad58c7a3027",
   "metadata": {},
   "outputs": [],
   "source": []
  },
  {
   "cell_type": "code",
   "execution_count": null,
   "id": "c6cc6c95-46fb-45e0-8344-01917cb16ecc",
   "metadata": {},
   "outputs": [],
   "source": []
  }
 ],
 "metadata": {
  "kernelspec": {
   "display_name": "ts_ensemble",
   "language": "python",
   "name": "ts_ensemble"
  },
  "language_info": {
   "codemirror_mode": {
    "name": "ipython",
    "version": 3
   },
   "file_extension": ".py",
   "mimetype": "text/x-python",
   "name": "python",
   "nbconvert_exporter": "python",
   "pygments_lexer": "ipython3",
   "version": "3.8.6"
  }
 },
 "nbformat": 4,
 "nbformat_minor": 5
}
