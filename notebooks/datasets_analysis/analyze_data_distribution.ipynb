{
 "cells": [
  {
   "cell_type": "code",
   "execution_count": 58,
   "metadata": {
    "collapsed": false,
    "jupyter": {
     "outputs_hidden": false
    },
    "pycharm": {
     "name": "#%%\n"
    }
   },
   "outputs": [],
   "source": [
    "import os\n",
    "import pandas as pd\n",
    "from collections import defaultdict\n",
    "import sys\n",
    "import json\n",
    "sys.path.append(\"./../..\")\n",
    "from src.LoadData import load_numpy_array_from_ts, get_all_datasets_info, get_all_datasets_test_train_np_arrays"
   ]
  },
  {
   "cell_type": "code",
   "execution_count": 59,
   "metadata": {
    "collapsed": false,
    "jupyter": {
     "outputs_hidden": false
    },
    "pycharm": {
     "name": "#%%\n"
    }
   },
   "outputs": [],
   "source": [
    "path_to_datasets = \"../../datasets\"\n",
    "datasets_names = list()\n",
    "datasets_paths = list()"
   ]
  },
  {
   "cell_type": "markdown",
   "metadata": {
    "pycharm": {
     "name": "#%% md\n"
    }
   },
   "source": [
    "# Print datasets' sizes"
   ]
  },
  {
   "cell_type": "code",
   "execution_count": 60,
   "metadata": {
    "tags": []
   },
   "outputs": [
    {
     "name": "stdout",
     "output_type": "stream",
     "text": [
      "cbf\n",
      "gun_point_male_female\n",
      "car\n",
      "abnormal_heartbeat\n",
      "distal_phalanax_tw\n",
      "phalanges_outlines_correct\n",
      "swedish_leaf\n",
      "mote_strain\n",
      "share_price_increase\n",
      "large_kitchen_appliances\n",
      "distal_phalanx_outline\n",
      "strawberry\n",
      "egg_five_days\n",
      "earthquakes\n",
      "electric_devices\n",
      "fifty_words\n",
      "freezers\n",
      "synthetic_control\n",
      "gun_point_age_span\n",
      "trace\n",
      "fish\n",
      "middle_phalanx_age_group\n",
      "lightning_7\n",
      "colposcopy\n",
      "cricket_y\n",
      "coffee_beans\n",
      "gun_point_old_young\n",
      "middle_phalanx_correct\n",
      "bme\n",
      "plane\n",
      "power_cons\n",
      "face_ucr\n",
      "medical_images\n",
      "chlorine_concentration\n",
      "dodger_loop_day\n",
      ".ipynb_checkpoints\n",
      "arrow_head\n",
      "sony_robot\n"
     ]
    }
   ],
   "source": [
    "for name in os.listdir(path_to_datasets):\n",
    "    print(name)\n",
    "    datasets_names.append(name)\n",
    "    datasets_paths.append(os.path.join(path_to_datasets, name))\n",
    "    for path, dirs, files in os.walk(os.path.join(\"../datasets\", name)):\n",
    "        size = 0\n",
    "        for f in files:\n",
    "            fp = os.path.join(path, f)\n",
    "            size += os.path.getsize(fp)\n",
    "        print(size  >> 20, \"Mb\")"
   ]
  },
  {
   "cell_type": "markdown",
   "metadata": {
    "pycharm": {
     "name": "#%% md\n"
    }
   },
   "source": [
    "# Print num of test, train samples and classes' distribution"
   ]
  },
  {
   "cell_type": "markdown",
   "metadata": {
    "pycharm": {
     "name": "#%% md\n"
    }
   },
   "source": [
    "### Use function get_all_datasets_info"
   ]
  },
  {
   "cell_type": "code",
   "execution_count": 61,
   "metadata": {
    "collapsed": false,
    "jupyter": {
     "outputs_hidden": false
    },
    "pycharm": {
     "name": "#%%\n"
    }
   },
   "outputs": [],
   "source": [
    "columns = [\"ds_name\", \"length\",  \"train_size\", \"test_size\", \"train_classes_dist\", \"test_classes_dist\", \"max_train_dist\", \"max_test_dist\"]\n",
    "data = list()"
   ]
  },
  {
   "cell_type": "code",
   "execution_count": 62,
   "metadata": {
    "collapsed": false,
    "jupyter": {
     "outputs_hidden": false
    },
    "pycharm": {
     "name": "#%%\n"
    }
   },
   "outputs": [],
   "source": [
    "def array_dist(arr):\n",
    "    len_arr = len(arr)\n",
    "    res = defaultdict(int)\n",
    "    for v in arr:\n",
    "        res[v] += 1\n",
    "    for k in res.keys():\n",
    "        res[k] /= len_arr\n",
    "    return dict(res)"
   ]
  },
  {
   "cell_type": "code",
   "execution_count": 63,
   "metadata": {
    "collapsed": false,
    "jupyter": {
     "outputs_hidden": false
    },
    "pycharm": {
     "name": "#%%\n"
    }
   },
   "outputs": [],
   "source": [
    "datasets_test_path_train_path = get_all_datasets_info(path_to_datasets)"
   ]
  },
  {
   "cell_type": "code",
   "execution_count": 64,
   "metadata": {},
   "outputs": [],
   "source": [
    "#datasets_test_path_train_path = {k:v for k,v in datasets_test_path_train_path.items() if k=='sony_robot' or k=='wafer'}"
   ]
  },
  {
   "cell_type": "code",
   "execution_count": 65,
   "metadata": {
    "collapsed": false,
    "jupyter": {
     "outputs_hidden": false
    },
    "pycharm": {
     "name": "#%%\n"
    }
   },
   "outputs": [
    {
     "name": "stdout",
     "output_type": "stream",
     "text": [
      "cbf\n",
      "../../datasets/cbf/CBF_TEST.ts ../../datasets/cbf/CBF_TRAIN.ts\n",
      "gun_point_male_female\n",
      "../../datasets/gun_point_male_female/GunPointMaleVersusFemale_TEST.ts ../../datasets/gun_point_male_female/GunPointMaleVersusFemale_TRAIN.ts\n",
      "car\n",
      "../../datasets/car/Car_TEST.ts ../../datasets/car/Car_TRAIN.ts\n",
      "abnormal_heartbeat\n",
      "../../datasets/abnormal_heartbeat/AbnormalHeartbeat_TEST.ts ../../datasets/abnormal_heartbeat/AbnormalHeartbeat_TRAIN.ts\n",
      "distal_phalanax_tw\n",
      "../../datasets/distal_phalanax_tw/DistalPhalanxTW_TEST.ts ../../datasets/distal_phalanax_tw/DistalPhalanxTW_TRAIN.ts\n",
      "phalanges_outlines_correct\n",
      "../../datasets/phalanges_outlines_correct/PhalangesOutlinesCorrect_TEST.ts ../../datasets/phalanges_outlines_correct/PhalangesOutlinesCorrect_TRAIN.ts\n",
      "swedish_leaf\n",
      "../../datasets/swedish_leaf/SwedishLeaf_TEST.ts ../../datasets/swedish_leaf/SwedishLeaf_TRAIN.ts\n",
      "mote_strain\n",
      "../../datasets/mote_strain/MoteStrain_TEST.ts ../../datasets/mote_strain/MoteStrain_TRAIN.ts\n",
      "share_price_increase\n",
      "../../datasets/share_price_increase/SharePriceIncrease_TEST.ts ../../datasets/share_price_increase/SharePriceIncrease_TRAIN.ts\n",
      "large_kitchen_appliances\n",
      "../../datasets/large_kitchen_appliances/LargeKitchenAppliances_TEST.ts ../../datasets/large_kitchen_appliances/LargeKitchenAppliances_TRAIN.ts\n",
      "distal_phalanx_outline\n",
      "../../datasets/distal_phalanx_outline/DistalPhalanxOutlineCorrect_TEST.ts ../../datasets/distal_phalanx_outline/DistalPhalanxOutlineCorrect_TRAIN.ts\n",
      "strawberry\n",
      "../../datasets/strawberry/Strawberry_TEST.ts ../../datasets/strawberry/Strawberry_TRAIN.ts\n",
      "egg_five_days\n",
      "../../datasets/egg_five_days/ECGFiveDays_TEST.ts ../../datasets/egg_five_days/ECGFiveDays_TRAIN.ts\n",
      "earthquakes\n",
      "../../datasets/earthquakes/Earthquakes_TEST.ts ../../datasets/earthquakes/Earthquakes_TRAIN.ts\n",
      "electric_devices\n",
      "../../datasets/electric_devices/ElectricDevices_TEST.ts ../../datasets/electric_devices/ElectricDevices_TRAIN.ts\n",
      "fifty_words\n",
      "../../datasets/fifty_words/FiftyWords_TEST.ts ../../datasets/fifty_words/FiftyWords_TRAIN.ts\n",
      "freezers\n",
      "../../datasets/freezers/FreezerRegularTrain_TEST.ts ../../datasets/freezers/FreezerRegularTrain_TRAIN.ts\n",
      "synthetic_control\n",
      "../../datasets/synthetic_control/SyntheticControl_TEST.ts ../../datasets/synthetic_control/SyntheticControl_TRAIN.ts\n",
      "gun_point_age_span\n",
      "../../datasets/gun_point_age_span/GunPointAgeSpan_TEST.ts ../../datasets/gun_point_age_span/GunPointAgeSpan_TRAIN.ts\n",
      "trace\n",
      "../../datasets/trace/Trace_TEST.ts ../../datasets/trace/Trace_TRAIN.ts\n",
      "fish\n",
      "../../datasets/fish/Fish_TEST.ts ../../datasets/fish/Fish_TRAIN.ts\n",
      "middle_phalanx_age_group\n",
      "../../datasets/middle_phalanx_age_group/MiddlePhalanxOutlineAgeGroup_TEST.ts ../../datasets/middle_phalanx_age_group/MiddlePhalanxOutlineAgeGroup_TRAIN.ts\n",
      "lightning_7\n",
      "../../datasets/lightning_7/Lightning7_TEST.ts ../../datasets/lightning_7/Lightning7_TRAIN.ts\n",
      "colposcopy\n",
      "../../datasets/colposcopy/Colposcopy_TEST.ts ../../datasets/colposcopy/Colposcopy_TRAIN.ts\n",
      "cricket_y\n",
      "../../datasets/cricket_y/CricketY_TEST.ts ../../datasets/cricket_y/CricketY_TRAIN.ts\n",
      "coffee_beans\n",
      "../../datasets/coffee_beans/Coffee_TEST.ts ../../datasets/coffee_beans/Coffee_TRAIN.ts\n",
      "gun_point_old_young\n",
      "../../datasets/gun_point_old_young/GunPointOldVersusYoung_TEST.ts ../../datasets/gun_point_old_young/GunPointOldVersusYoung_TRAIN.ts\n",
      "middle_phalanx_correct\n",
      "../../datasets/middle_phalanx_correct/MiddlePhalanxOutlineCorrect_TEST.ts ../../datasets/middle_phalanx_correct/MiddlePhalanxOutlineCorrect_TRAIN.ts\n",
      "bme\n",
      "../../datasets/bme/BME_TEST.ts ../../datasets/bme/BME_TRAIN.ts\n",
      "plane\n",
      "../../datasets/plane/Plane_TEST.ts ../../datasets/plane/Plane_TRAIN.ts\n",
      "power_cons\n",
      "../../datasets/power_cons/PowerCons_TEST.ts ../../datasets/power_cons/PowerCons_TRAIN.ts\n",
      "face_ucr\n",
      "../../datasets/face_ucr/FacesUCR_TEST.ts ../../datasets/face_ucr/FacesUCR_TRAIN.ts\n",
      "medical_images\n",
      "../../datasets/medical_images/MedicalImages_TEST.ts ../../datasets/medical_images/MedicalImages_TRAIN.ts\n",
      "chlorine_concentration\n",
      "../../datasets/chlorine_concentration/ChlorineConcentration_TEST.ts ../../datasets/chlorine_concentration/ChlorineConcentration_TRAIN.ts\n",
      "dodger_loop_day\n",
      "../../datasets/dodger_loop_day/DodgerLoopDay_TEST.ts ../../datasets/dodger_loop_day/DodgerLoopDay_TRAIN.ts\n",
      "arrow_head\n",
      "../../datasets/arrow_head/ArrowHead_TEST.ts ../../datasets/arrow_head/ArrowHead_TRAIN.ts\n",
      "sony_robot\n",
      "../../datasets/sony_robot/SonyAIBORobotSurface1_TEST.ts ../../datasets/sony_robot/SonyAIBORobotSurface1_TRAIN.ts\n"
     ]
    }
   ],
   "source": [
    "for ds_name, (test_file, train_file) in datasets_test_path_train_path.items():\n",
    "    row = list()\n",
    "    row.append(ds_name)\n",
    "    print(ds_name)\n",
    "    print(test_file, train_file)\n",
    "    x_test, y_test = load_numpy_array_from_ts(test_file)\n",
    "    x_train, y_train = load_numpy_array_from_ts(train_file)\n",
    "    row.append(x_train.shape[1])\n",
    "    row.append(x_train.shape[0])\n",
    "    row.append(x_test.shape[0])\n",
    "    train_dist = array_dist(y_train)\n",
    "    row.append(json.dumps(train_dist))\n",
    "    test_dist = array_dist(y_test)\n",
    "    row.append(json.dumps(test_dist))\n",
    "    row.append(max(train_dist.values()))\n",
    "    row.append(max(test_dist.values()))\n",
    "    data.append(row)"
   ]
  },
  {
   "cell_type": "code",
   "execution_count": 66,
   "metadata": {
    "collapsed": false,
    "jupyter": {
     "outputs_hidden": false
    },
    "pycharm": {
     "name": "#%%\n"
    }
   },
   "outputs": [
    {
     "data": {
      "text/plain": [
       "{2.0: 0.7, 1.0: 0.3}"
      ]
     },
     "execution_count": 66,
     "metadata": {},
     "output_type": "execute_result"
    }
   ],
   "source": [
    "dict(array_dist(y_test))"
   ]
  },
  {
   "cell_type": "code",
   "execution_count": 67,
   "metadata": {
    "collapsed": false,
    "jupyter": {
     "outputs_hidden": false
    },
    "pycharm": {
     "name": "#%%\n"
    }
   },
   "outputs": [],
   "source": [
    "df = pd.DataFrame(data, columns=columns)"
   ]
  },
  {
   "cell_type": "code",
   "execution_count": 68,
   "metadata": {
    "collapsed": false,
    "jupyter": {
     "outputs_hidden": false
    },
    "pycharm": {
     "name": "#%%\n"
    }
   },
   "outputs": [
    {
     "data": {
      "text/html": [
       "<div>\n",
       "<style scoped>\n",
       "    .dataframe tbody tr th:only-of-type {\n",
       "        vertical-align: middle;\n",
       "    }\n",
       "\n",
       "    .dataframe tbody tr th {\n",
       "        vertical-align: top;\n",
       "    }\n",
       "\n",
       "    .dataframe thead th {\n",
       "        text-align: right;\n",
       "    }\n",
       "</style>\n",
       "<table border=\"1\" class=\"dataframe\">\n",
       "  <thead>\n",
       "    <tr style=\"text-align: right;\">\n",
       "      <th></th>\n",
       "      <th>ds_name</th>\n",
       "      <th>length</th>\n",
       "      <th>train_size</th>\n",
       "      <th>test_size</th>\n",
       "      <th>train_classes_dist</th>\n",
       "      <th>test_classes_dist</th>\n",
       "      <th>max_train_dist</th>\n",
       "      <th>max_test_dist</th>\n",
       "    </tr>\n",
       "  </thead>\n",
       "  <tbody>\n",
       "    <tr>\n",
       "      <th>0</th>\n",
       "      <td>cbf</td>\n",
       "      <td>128</td>\n",
       "      <td>30</td>\n",
       "      <td>900</td>\n",
       "      <td>{\"1.0\": 0.3333333333333333, \"3.0\": 0.266666666...</td>\n",
       "      <td>{\"2.0\": 0.33111111111111113, \"1.0\": 0.33333333...</td>\n",
       "      <td>0.400000</td>\n",
       "      <td>0.335556</td>\n",
       "    </tr>\n",
       "    <tr>\n",
       "      <th>1</th>\n",
       "      <td>gun_point_male_female</td>\n",
       "      <td>150</td>\n",
       "      <td>135</td>\n",
       "      <td>316</td>\n",
       "      <td>{\"1.0\": 0.5259259259259259, \"2.0\": 0.474074074...</td>\n",
       "      <td>{\"1.0\": 0.5253164556962026, \"2.0\": 0.474683544...</td>\n",
       "      <td>0.525926</td>\n",
       "      <td>0.525316</td>\n",
       "    </tr>\n",
       "    <tr>\n",
       "      <th>2</th>\n",
       "      <td>car</td>\n",
       "      <td>577</td>\n",
       "      <td>60</td>\n",
       "      <td>60</td>\n",
       "      <td>{\"1.0\": 0.26666666666666666, \"4.0\": 0.28333333...</td>\n",
       "      <td>{\"4.0\": 0.21666666666666667, \"3.0\": 0.31666666...</td>\n",
       "      <td>0.283333</td>\n",
       "      <td>0.316667</td>\n",
       "    </tr>\n",
       "    <tr>\n",
       "      <th>3</th>\n",
       "      <td>abnormal_heartbeat</td>\n",
       "      <td>18530</td>\n",
       "      <td>204</td>\n",
       "      <td>205</td>\n",
       "      <td>{\"0.0\": 0.7303921568627451, \"1.0\": 0.269607843...</td>\n",
       "      <td>{\"0.0\": 0.7317073170731707, \"1.0\": 0.268292682...</td>\n",
       "      <td>0.730392</td>\n",
       "      <td>0.731707</td>\n",
       "    </tr>\n",
       "    <tr>\n",
       "      <th>4</th>\n",
       "      <td>distal_phalanax_tw</td>\n",
       "      <td>80</td>\n",
       "      <td>400</td>\n",
       "      <td>139</td>\n",
       "      <td>{\"8.0\": 0.5325, \"5.0\": 0.205, \"6.0\": 0.075, \"4...</td>\n",
       "      <td>{\"4.0\": 0.1366906474820144, \"6.0\": 0.093525179...</td>\n",
       "      <td>0.532500</td>\n",
       "      <td>0.302158</td>\n",
       "    </tr>\n",
       "    <tr>\n",
       "      <th>5</th>\n",
       "      <td>phalanges_outlines_correct</td>\n",
       "      <td>80</td>\n",
       "      <td>1800</td>\n",
       "      <td>858</td>\n",
       "      <td>{\"1.0\": 0.6511111111111111, \"0.0\": 0.348888888...</td>\n",
       "      <td>{\"1.0\": 0.6130536130536131, \"0.0\": 0.386946386...</td>\n",
       "      <td>0.651111</td>\n",
       "      <td>0.613054</td>\n",
       "    </tr>\n",
       "    <tr>\n",
       "      <th>6</th>\n",
       "      <td>swedish_leaf</td>\n",
       "      <td>128</td>\n",
       "      <td>500</td>\n",
       "      <td>625</td>\n",
       "      <td>{\"4.0\": 0.072, \"11.0\": 0.07, \"13.0\": 0.066, \"8...</td>\n",
       "      <td>{\"10.0\": 0.0784, \"11.0\": 0.064, \"8.0\": 0.0704,...</td>\n",
       "      <td>0.084000</td>\n",
       "      <td>0.078400</td>\n",
       "    </tr>\n",
       "    <tr>\n",
       "      <th>7</th>\n",
       "      <td>mote_strain</td>\n",
       "      <td>84</td>\n",
       "      <td>1252</td>\n",
       "      <td>20</td>\n",
       "      <td>{\"2.0\": 0.46086261980830673, \"1.0\": 0.53913738...</td>\n",
       "      <td>{\"2.0\": 0.5, \"1.0\": 0.5}</td>\n",
       "      <td>0.539137</td>\n",
       "      <td>0.500000</td>\n",
       "    </tr>\n",
       "    <tr>\n",
       "      <th>8</th>\n",
       "      <td>share_price_increase</td>\n",
       "      <td>60</td>\n",
       "      <td>965</td>\n",
       "      <td>966</td>\n",
       "      <td>{\"0.0\": 0.6870466321243524, \"1.0\": 0.312953367...</td>\n",
       "      <td>{\"0.0\": 0.6863354037267081, \"1.0\": 0.313664596...</td>\n",
       "      <td>0.687047</td>\n",
       "      <td>0.686335</td>\n",
       "    </tr>\n",
       "    <tr>\n",
       "      <th>9</th>\n",
       "      <td>large_kitchen_appliances</td>\n",
       "      <td>720</td>\n",
       "      <td>375</td>\n",
       "      <td>375</td>\n",
       "      <td>{\"1.0\": 0.3333333333333333, \"2.0\": 0.333333333...</td>\n",
       "      <td>{\"1.0\": 0.3333333333333333, \"2.0\": 0.333333333...</td>\n",
       "      <td>0.333333</td>\n",
       "      <td>0.333333</td>\n",
       "    </tr>\n",
       "    <tr>\n",
       "      <th>10</th>\n",
       "      <td>distal_phalanx_outline</td>\n",
       "      <td>80</td>\n",
       "      <td>600</td>\n",
       "      <td>276</td>\n",
       "      <td>{\"1.0\": 0.63, \"0.0\": 0.37}</td>\n",
       "      <td>{\"1.0\": 0.5833333333333334, \"0.0\": 0.416666666...</td>\n",
       "      <td>0.630000</td>\n",
       "      <td>0.583333</td>\n",
       "    </tr>\n",
       "    <tr>\n",
       "      <th>11</th>\n",
       "      <td>strawberry</td>\n",
       "      <td>235</td>\n",
       "      <td>613</td>\n",
       "      <td>370</td>\n",
       "      <td>{\"2.0\": 0.6427406199021207, \"1.0\": 0.357259380...</td>\n",
       "      <td>{\"1.0\": 0.3567567567567568, \"2.0\": 0.643243243...</td>\n",
       "      <td>0.642741</td>\n",
       "      <td>0.643243</td>\n",
       "    </tr>\n",
       "    <tr>\n",
       "      <th>12</th>\n",
       "      <td>egg_five_days</td>\n",
       "      <td>136</td>\n",
       "      <td>861</td>\n",
       "      <td>23</td>\n",
       "      <td>{\"2.0\": 0.502903600464576, \"1.0\": 0.4970963995...</td>\n",
       "      <td>{\"1.0\": 0.6086956521739131, \"2.0\": 0.391304347...</td>\n",
       "      <td>0.502904</td>\n",
       "      <td>0.608696</td>\n",
       "    </tr>\n",
       "    <tr>\n",
       "      <th>13</th>\n",
       "      <td>earthquakes</td>\n",
       "      <td>512</td>\n",
       "      <td>322</td>\n",
       "      <td>139</td>\n",
       "      <td>{\"1.0\": 0.18012422360248448, \"0.0\": 0.81987577...</td>\n",
       "      <td>{\"0.0\": 0.7482014388489209, \"1.0\": 0.251798561...</td>\n",
       "      <td>0.819876</td>\n",
       "      <td>0.748201</td>\n",
       "    </tr>\n",
       "    <tr>\n",
       "      <th>14</th>\n",
       "      <td>electric_devices</td>\n",
       "      <td>96</td>\n",
       "      <td>8926</td>\n",
       "      <td>7711</td>\n",
       "      <td>{\"1.0\": 0.08144745686757786, \"2.0\": 0.24994398...</td>\n",
       "      <td>{\"6.0\": 0.0963558552716898, \"5.0\": 0.242381014...</td>\n",
       "      <td>0.269550</td>\n",
       "      <td>0.253664</td>\n",
       "    </tr>\n",
       "    <tr>\n",
       "      <th>15</th>\n",
       "      <td>fifty_words</td>\n",
       "      <td>270</td>\n",
       "      <td>450</td>\n",
       "      <td>455</td>\n",
       "      <td>{\"9.0\": 0.024444444444444446, \"18.0\": 0.017777...</td>\n",
       "      <td>{\"4.0\": 0.07472527472527472, \"12.0\": 0.0197802...</td>\n",
       "      <td>0.115556</td>\n",
       "      <td>0.125275</td>\n",
       "    </tr>\n",
       "    <tr>\n",
       "      <th>16</th>\n",
       "      <td>freezers</td>\n",
       "      <td>301</td>\n",
       "      <td>150</td>\n",
       "      <td>2850</td>\n",
       "      <td>{\"1.0\": 0.5, \"2.0\": 0.5}</td>\n",
       "      <td>{\"1.0\": 0.5, \"2.0\": 0.5}</td>\n",
       "      <td>0.500000</td>\n",
       "      <td>0.500000</td>\n",
       "    </tr>\n",
       "    <tr>\n",
       "      <th>17</th>\n",
       "      <td>synthetic_control</td>\n",
       "      <td>60</td>\n",
       "      <td>300</td>\n",
       "      <td>300</td>\n",
       "      <td>{\"1.0\": 0.16666666666666666, \"2.0\": 0.16666666...</td>\n",
       "      <td>{\"1.0\": 0.16666666666666666, \"2.0\": 0.16666666...</td>\n",
       "      <td>0.166667</td>\n",
       "      <td>0.166667</td>\n",
       "    </tr>\n",
       "    <tr>\n",
       "      <th>18</th>\n",
       "      <td>gun_point_age_span</td>\n",
       "      <td>150</td>\n",
       "      <td>135</td>\n",
       "      <td>316</td>\n",
       "      <td>{\"1.0\": 0.5037037037037037, \"2.0\": 0.496296296...</td>\n",
       "      <td>{\"1.0\": 0.5063291139240507, \"2.0\": 0.493670886...</td>\n",
       "      <td>0.503704</td>\n",
       "      <td>0.506329</td>\n",
       "    </tr>\n",
       "    <tr>\n",
       "      <th>19</th>\n",
       "      <td>trace</td>\n",
       "      <td>275</td>\n",
       "      <td>100</td>\n",
       "      <td>100</td>\n",
       "      <td>{\"1.0\": 0.26, \"2.0\": 0.21, \"4.0\": 0.31, \"3.0\":...</td>\n",
       "      <td>{\"3.0\": 0.28, \"1.0\": 0.24, \"2.0\": 0.29, \"4.0\":...</td>\n",
       "      <td>0.310000</td>\n",
       "      <td>0.290000</td>\n",
       "    </tr>\n",
       "    <tr>\n",
       "      <th>20</th>\n",
       "      <td>fish</td>\n",
       "      <td>463</td>\n",
       "      <td>175</td>\n",
       "      <td>175</td>\n",
       "      <td>{\"7.0\": 0.16, \"4.0\": 0.12, \"6.0\": 0.1428571428...</td>\n",
       "      <td>{\"5.0\": 0.16, \"4.0\": 0.1657142857142857, \"2.0\"...</td>\n",
       "      <td>0.160000</td>\n",
       "      <td>0.165714</td>\n",
       "    </tr>\n",
       "    <tr>\n",
       "      <th>21</th>\n",
       "      <td>middle_phalanx_age_group</td>\n",
       "      <td>80</td>\n",
       "      <td>400</td>\n",
       "      <td>154</td>\n",
       "      <td>{\"2.0\": 0.27, \"3.0\": 0.5925, \"1.0\": 0.1375}</td>\n",
       "      <td>{\"2.0\": 0.5714285714285714, \"1.0\": 0.240259740...</td>\n",
       "      <td>0.592500</td>\n",
       "      <td>0.571429</td>\n",
       "    </tr>\n",
       "    <tr>\n",
       "      <th>22</th>\n",
       "      <td>lightning_7</td>\n",
       "      <td>319</td>\n",
       "      <td>70</td>\n",
       "      <td>73</td>\n",
       "      <td>{\"5.0\": 0.2714285714285714, \"0.0\": 0.114285714...</td>\n",
       "      <td>{\"2.0\": 0.0821917808219178, \"5.0\": 0.260273972...</td>\n",
       "      <td>0.271429</td>\n",
       "      <td>0.260274</td>\n",
       "    </tr>\n",
       "    <tr>\n",
       "      <th>23</th>\n",
       "      <td>colposcopy</td>\n",
       "      <td>180</td>\n",
       "      <td>99</td>\n",
       "      <td>101</td>\n",
       "      <td>{\"0.0\": 0.0707070707070707, \"1.0\": 0.121212121...</td>\n",
       "      <td>{\"0.0\": 0.07920792079207921, \"1.0\": 0.11881188...</td>\n",
       "      <td>0.282828</td>\n",
       "      <td>0.277228</td>\n",
       "    </tr>\n",
       "    <tr>\n",
       "      <th>24</th>\n",
       "      <td>cricket_y</td>\n",
       "      <td>300</td>\n",
       "      <td>390</td>\n",
       "      <td>390</td>\n",
       "      <td>{\"2.0\": 0.08717948717948718, \"4.0\": 0.07692307...</td>\n",
       "      <td>{\"7.0\": 0.08461538461538462, \"9.0\": 0.08717948...</td>\n",
       "      <td>0.092308</td>\n",
       "      <td>0.094872</td>\n",
       "    </tr>\n",
       "    <tr>\n",
       "      <th>25</th>\n",
       "      <td>coffee_beans</td>\n",
       "      <td>286</td>\n",
       "      <td>28</td>\n",
       "      <td>28</td>\n",
       "      <td>{\"0.0\": 0.5, \"1.0\": 0.5}</td>\n",
       "      <td>{\"0.0\": 0.5357142857142857, \"1.0\": 0.464285714...</td>\n",
       "      <td>0.500000</td>\n",
       "      <td>0.535714</td>\n",
       "    </tr>\n",
       "    <tr>\n",
       "      <th>26</th>\n",
       "      <td>gun_point_old_young</td>\n",
       "      <td>150</td>\n",
       "      <td>136</td>\n",
       "      <td>315</td>\n",
       "      <td>{\"1.0\": 0.47794117647058826, \"2.0\": 0.52205882...</td>\n",
       "      <td>{\"1.0\": 0.47619047619047616, \"2.0\": 0.52380952...</td>\n",
       "      <td>0.522059</td>\n",
       "      <td>0.523810</td>\n",
       "    </tr>\n",
       "    <tr>\n",
       "      <th>27</th>\n",
       "      <td>middle_phalanx_correct</td>\n",
       "      <td>80</td>\n",
       "      <td>600</td>\n",
       "      <td>291</td>\n",
       "      <td>{\"1.0\": 0.6466666666666666, \"0.0\": 0.353333333...</td>\n",
       "      <td>{\"0.0\": 0.42955326460481097, \"1.0\": 0.57044673...</td>\n",
       "      <td>0.646667</td>\n",
       "      <td>0.570447</td>\n",
       "    </tr>\n",
       "    <tr>\n",
       "      <th>28</th>\n",
       "      <td>bme</td>\n",
       "      <td>128</td>\n",
       "      <td>30</td>\n",
       "      <td>150</td>\n",
       "      <td>{\"1.0\": 0.3333333333333333, \"2.0\": 0.333333333...</td>\n",
       "      <td>{\"1.0\": 0.3333333333333333, \"2.0\": 0.333333333...</td>\n",
       "      <td>0.333333</td>\n",
       "      <td>0.333333</td>\n",
       "    </tr>\n",
       "    <tr>\n",
       "      <th>29</th>\n",
       "      <td>plane</td>\n",
       "      <td>144</td>\n",
       "      <td>105</td>\n",
       "      <td>105</td>\n",
       "      <td>{\"1.0\": 0.14285714285714285, \"4.0\": 0.15238095...</td>\n",
       "      <td>{\"6.0\": 0.11428571428571428, \"1.0\": 0.14285714...</td>\n",
       "      <td>0.190476</td>\n",
       "      <td>0.200000</td>\n",
       "    </tr>\n",
       "    <tr>\n",
       "      <th>30</th>\n",
       "      <td>power_cons</td>\n",
       "      <td>144</td>\n",
       "      <td>180</td>\n",
       "      <td>180</td>\n",
       "      <td>{\"1.0\": 0.5, \"2.0\": 0.5}</td>\n",
       "      <td>{\"1.0\": 0.5, \"2.0\": 0.5}</td>\n",
       "      <td>0.500000</td>\n",
       "      <td>0.500000</td>\n",
       "    </tr>\n",
       "    <tr>\n",
       "      <th>31</th>\n",
       "      <td>face_ucr</td>\n",
       "      <td>131</td>\n",
       "      <td>200</td>\n",
       "      <td>2050</td>\n",
       "      <td>{\"12.0\": 0.055, \"5.0\": 0.075, \"8.0\": 0.135, \"1...</td>\n",
       "      <td>{\"8.0\": 0.12, \"7.0\": 0.06585365853658537, \"6.0...</td>\n",
       "      <td>0.165000</td>\n",
       "      <td>0.143415</td>\n",
       "    </tr>\n",
       "    <tr>\n",
       "      <th>32</th>\n",
       "      <td>medical_images</td>\n",
       "      <td>99</td>\n",
       "      <td>381</td>\n",
       "      <td>760</td>\n",
       "      <td>{\"10.0\": 0.5328083989501312, \"4.0\": 0.04199475...</td>\n",
       "      <td>{\"10.0\": 0.5144736842105263, \"9.0\": 0.07894736...</td>\n",
       "      <td>0.532808</td>\n",
       "      <td>0.514474</td>\n",
       "    </tr>\n",
       "    <tr>\n",
       "      <th>33</th>\n",
       "      <td>chlorine_concentration</td>\n",
       "      <td>166</td>\n",
       "      <td>467</td>\n",
       "      <td>3840</td>\n",
       "      <td>{\"1.0\": 0.24411134903640258, \"3.0\": 0.56102783...</td>\n",
       "      <td>{\"2.0\": 0.23671875, \"1.0\": 0.23072916666666668...</td>\n",
       "      <td>0.561028</td>\n",
       "      <td>0.532552</td>\n",
       "    </tr>\n",
       "    <tr>\n",
       "      <th>34</th>\n",
       "      <td>dodger_loop_day</td>\n",
       "      <td>288</td>\n",
       "      <td>78</td>\n",
       "      <td>80</td>\n",
       "      <td>{\"1.0\": 0.15384615384615385, \"2.0\": 0.12820512...</td>\n",
       "      <td>{\"1.0\": 0.15, \"2.0\": 0.1375, \"3.0\": 0.125, \"4....</td>\n",
       "      <td>0.153846</td>\n",
       "      <td>0.162500</td>\n",
       "    </tr>\n",
       "    <tr>\n",
       "      <th>35</th>\n",
       "      <td>arrow_head</td>\n",
       "      <td>251</td>\n",
       "      <td>36</td>\n",
       "      <td>175</td>\n",
       "      <td>{\"0.0\": 0.3333333333333333, \"1.0\": 0.333333333...</td>\n",
       "      <td>{\"0.0\": 0.3942857142857143, \"1.0\": 0.302857142...</td>\n",
       "      <td>0.333333</td>\n",
       "      <td>0.394286</td>\n",
       "    </tr>\n",
       "    <tr>\n",
       "      <th>36</th>\n",
       "      <td>sony_robot</td>\n",
       "      <td>70</td>\n",
       "      <td>601</td>\n",
       "      <td>20</td>\n",
       "      <td>{\"1.0\": 0.5707154742096506, \"2.0\": 0.429284525...</td>\n",
       "      <td>{\"2.0\": 0.7, \"1.0\": 0.3}</td>\n",
       "      <td>0.570715</td>\n",
       "      <td>0.700000</td>\n",
       "    </tr>\n",
       "  </tbody>\n",
       "</table>\n",
       "</div>"
      ],
      "text/plain": [
       "                       ds_name  length  train_size  test_size  \\\n",
       "0                          cbf     128          30        900   \n",
       "1        gun_point_male_female     150         135        316   \n",
       "2                          car     577          60         60   \n",
       "3           abnormal_heartbeat   18530         204        205   \n",
       "4           distal_phalanax_tw      80         400        139   \n",
       "5   phalanges_outlines_correct      80        1800        858   \n",
       "6                 swedish_leaf     128         500        625   \n",
       "7                  mote_strain      84        1252         20   \n",
       "8         share_price_increase      60         965        966   \n",
       "9     large_kitchen_appliances     720         375        375   \n",
       "10      distal_phalanx_outline      80         600        276   \n",
       "11                  strawberry     235         613        370   \n",
       "12               egg_five_days     136         861         23   \n",
       "13                 earthquakes     512         322        139   \n",
       "14            electric_devices      96        8926       7711   \n",
       "15                 fifty_words     270         450        455   \n",
       "16                    freezers     301         150       2850   \n",
       "17           synthetic_control      60         300        300   \n",
       "18          gun_point_age_span     150         135        316   \n",
       "19                       trace     275         100        100   \n",
       "20                        fish     463         175        175   \n",
       "21    middle_phalanx_age_group      80         400        154   \n",
       "22                 lightning_7     319          70         73   \n",
       "23                  colposcopy     180          99        101   \n",
       "24                   cricket_y     300         390        390   \n",
       "25                coffee_beans     286          28         28   \n",
       "26         gun_point_old_young     150         136        315   \n",
       "27      middle_phalanx_correct      80         600        291   \n",
       "28                         bme     128          30        150   \n",
       "29                       plane     144         105        105   \n",
       "30                  power_cons     144         180        180   \n",
       "31                    face_ucr     131         200       2050   \n",
       "32              medical_images      99         381        760   \n",
       "33      chlorine_concentration     166         467       3840   \n",
       "34             dodger_loop_day     288          78         80   \n",
       "35                  arrow_head     251          36        175   \n",
       "36                  sony_robot      70         601         20   \n",
       "\n",
       "                                   train_classes_dist  \\\n",
       "0   {\"1.0\": 0.3333333333333333, \"3.0\": 0.266666666...   \n",
       "1   {\"1.0\": 0.5259259259259259, \"2.0\": 0.474074074...   \n",
       "2   {\"1.0\": 0.26666666666666666, \"4.0\": 0.28333333...   \n",
       "3   {\"0.0\": 0.7303921568627451, \"1.0\": 0.269607843...   \n",
       "4   {\"8.0\": 0.5325, \"5.0\": 0.205, \"6.0\": 0.075, \"4...   \n",
       "5   {\"1.0\": 0.6511111111111111, \"0.0\": 0.348888888...   \n",
       "6   {\"4.0\": 0.072, \"11.0\": 0.07, \"13.0\": 0.066, \"8...   \n",
       "7   {\"2.0\": 0.46086261980830673, \"1.0\": 0.53913738...   \n",
       "8   {\"0.0\": 0.6870466321243524, \"1.0\": 0.312953367...   \n",
       "9   {\"1.0\": 0.3333333333333333, \"2.0\": 0.333333333...   \n",
       "10                         {\"1.0\": 0.63, \"0.0\": 0.37}   \n",
       "11  {\"2.0\": 0.6427406199021207, \"1.0\": 0.357259380...   \n",
       "12  {\"2.0\": 0.502903600464576, \"1.0\": 0.4970963995...   \n",
       "13  {\"1.0\": 0.18012422360248448, \"0.0\": 0.81987577...   \n",
       "14  {\"1.0\": 0.08144745686757786, \"2.0\": 0.24994398...   \n",
       "15  {\"9.0\": 0.024444444444444446, \"18.0\": 0.017777...   \n",
       "16                           {\"1.0\": 0.5, \"2.0\": 0.5}   \n",
       "17  {\"1.0\": 0.16666666666666666, \"2.0\": 0.16666666...   \n",
       "18  {\"1.0\": 0.5037037037037037, \"2.0\": 0.496296296...   \n",
       "19  {\"1.0\": 0.26, \"2.0\": 0.21, \"4.0\": 0.31, \"3.0\":...   \n",
       "20  {\"7.0\": 0.16, \"4.0\": 0.12, \"6.0\": 0.1428571428...   \n",
       "21        {\"2.0\": 0.27, \"3.0\": 0.5925, \"1.0\": 0.1375}   \n",
       "22  {\"5.0\": 0.2714285714285714, \"0.0\": 0.114285714...   \n",
       "23  {\"0.0\": 0.0707070707070707, \"1.0\": 0.121212121...   \n",
       "24  {\"2.0\": 0.08717948717948718, \"4.0\": 0.07692307...   \n",
       "25                           {\"0.0\": 0.5, \"1.0\": 0.5}   \n",
       "26  {\"1.0\": 0.47794117647058826, \"2.0\": 0.52205882...   \n",
       "27  {\"1.0\": 0.6466666666666666, \"0.0\": 0.353333333...   \n",
       "28  {\"1.0\": 0.3333333333333333, \"2.0\": 0.333333333...   \n",
       "29  {\"1.0\": 0.14285714285714285, \"4.0\": 0.15238095...   \n",
       "30                           {\"1.0\": 0.5, \"2.0\": 0.5}   \n",
       "31  {\"12.0\": 0.055, \"5.0\": 0.075, \"8.0\": 0.135, \"1...   \n",
       "32  {\"10.0\": 0.5328083989501312, \"4.0\": 0.04199475...   \n",
       "33  {\"1.0\": 0.24411134903640258, \"3.0\": 0.56102783...   \n",
       "34  {\"1.0\": 0.15384615384615385, \"2.0\": 0.12820512...   \n",
       "35  {\"0.0\": 0.3333333333333333, \"1.0\": 0.333333333...   \n",
       "36  {\"1.0\": 0.5707154742096506, \"2.0\": 0.429284525...   \n",
       "\n",
       "                                    test_classes_dist  max_train_dist  \\\n",
       "0   {\"2.0\": 0.33111111111111113, \"1.0\": 0.33333333...        0.400000   \n",
       "1   {\"1.0\": 0.5253164556962026, \"2.0\": 0.474683544...        0.525926   \n",
       "2   {\"4.0\": 0.21666666666666667, \"3.0\": 0.31666666...        0.283333   \n",
       "3   {\"0.0\": 0.7317073170731707, \"1.0\": 0.268292682...        0.730392   \n",
       "4   {\"4.0\": 0.1366906474820144, \"6.0\": 0.093525179...        0.532500   \n",
       "5   {\"1.0\": 0.6130536130536131, \"0.0\": 0.386946386...        0.651111   \n",
       "6   {\"10.0\": 0.0784, \"11.0\": 0.064, \"8.0\": 0.0704,...        0.084000   \n",
       "7                            {\"2.0\": 0.5, \"1.0\": 0.5}        0.539137   \n",
       "8   {\"0.0\": 0.6863354037267081, \"1.0\": 0.313664596...        0.687047   \n",
       "9   {\"1.0\": 0.3333333333333333, \"2.0\": 0.333333333...        0.333333   \n",
       "10  {\"1.0\": 0.5833333333333334, \"0.0\": 0.416666666...        0.630000   \n",
       "11  {\"1.0\": 0.3567567567567568, \"2.0\": 0.643243243...        0.642741   \n",
       "12  {\"1.0\": 0.6086956521739131, \"2.0\": 0.391304347...        0.502904   \n",
       "13  {\"0.0\": 0.7482014388489209, \"1.0\": 0.251798561...        0.819876   \n",
       "14  {\"6.0\": 0.0963558552716898, \"5.0\": 0.242381014...        0.269550   \n",
       "15  {\"4.0\": 0.07472527472527472, \"12.0\": 0.0197802...        0.115556   \n",
       "16                           {\"1.0\": 0.5, \"2.0\": 0.5}        0.500000   \n",
       "17  {\"1.0\": 0.16666666666666666, \"2.0\": 0.16666666...        0.166667   \n",
       "18  {\"1.0\": 0.5063291139240507, \"2.0\": 0.493670886...        0.503704   \n",
       "19  {\"3.0\": 0.28, \"1.0\": 0.24, \"2.0\": 0.29, \"4.0\":...        0.310000   \n",
       "20  {\"5.0\": 0.16, \"4.0\": 0.1657142857142857, \"2.0\"...        0.160000   \n",
       "21  {\"2.0\": 0.5714285714285714, \"1.0\": 0.240259740...        0.592500   \n",
       "22  {\"2.0\": 0.0821917808219178, \"5.0\": 0.260273972...        0.271429   \n",
       "23  {\"0.0\": 0.07920792079207921, \"1.0\": 0.11881188...        0.282828   \n",
       "24  {\"7.0\": 0.08461538461538462, \"9.0\": 0.08717948...        0.092308   \n",
       "25  {\"0.0\": 0.5357142857142857, \"1.0\": 0.464285714...        0.500000   \n",
       "26  {\"1.0\": 0.47619047619047616, \"2.0\": 0.52380952...        0.522059   \n",
       "27  {\"0.0\": 0.42955326460481097, \"1.0\": 0.57044673...        0.646667   \n",
       "28  {\"1.0\": 0.3333333333333333, \"2.0\": 0.333333333...        0.333333   \n",
       "29  {\"6.0\": 0.11428571428571428, \"1.0\": 0.14285714...        0.190476   \n",
       "30                           {\"1.0\": 0.5, \"2.0\": 0.5}        0.500000   \n",
       "31  {\"8.0\": 0.12, \"7.0\": 0.06585365853658537, \"6.0...        0.165000   \n",
       "32  {\"10.0\": 0.5144736842105263, \"9.0\": 0.07894736...        0.532808   \n",
       "33  {\"2.0\": 0.23671875, \"1.0\": 0.23072916666666668...        0.561028   \n",
       "34  {\"1.0\": 0.15, \"2.0\": 0.1375, \"3.0\": 0.125, \"4....        0.153846   \n",
       "35  {\"0.0\": 0.3942857142857143, \"1.0\": 0.302857142...        0.333333   \n",
       "36                           {\"2.0\": 0.7, \"1.0\": 0.3}        0.570715   \n",
       "\n",
       "    max_test_dist  \n",
       "0        0.335556  \n",
       "1        0.525316  \n",
       "2        0.316667  \n",
       "3        0.731707  \n",
       "4        0.302158  \n",
       "5        0.613054  \n",
       "6        0.078400  \n",
       "7        0.500000  \n",
       "8        0.686335  \n",
       "9        0.333333  \n",
       "10       0.583333  \n",
       "11       0.643243  \n",
       "12       0.608696  \n",
       "13       0.748201  \n",
       "14       0.253664  \n",
       "15       0.125275  \n",
       "16       0.500000  \n",
       "17       0.166667  \n",
       "18       0.506329  \n",
       "19       0.290000  \n",
       "20       0.165714  \n",
       "21       0.571429  \n",
       "22       0.260274  \n",
       "23       0.277228  \n",
       "24       0.094872  \n",
       "25       0.535714  \n",
       "26       0.523810  \n",
       "27       0.570447  \n",
       "28       0.333333  \n",
       "29       0.200000  \n",
       "30       0.500000  \n",
       "31       0.143415  \n",
       "32       0.514474  \n",
       "33       0.532552  \n",
       "34       0.162500  \n",
       "35       0.394286  \n",
       "36       0.700000  "
      ]
     },
     "execution_count": 68,
     "metadata": {},
     "output_type": "execute_result"
    }
   ],
   "source": [
    "df"
   ]
  },
  {
   "cell_type": "code",
   "execution_count": 69,
   "metadata": {
    "collapsed": false,
    "jupyter": {
     "outputs_hidden": false
    },
    "pycharm": {
     "name": "#%%\n"
    }
   },
   "outputs": [],
   "source": [
    "df.to_csv(\"./data_dist.csv\", index=False)"
   ]
  },
  {
   "cell_type": "markdown",
   "metadata": {
    "pycharm": {
     "name": "#%% md\n"
    }
   },
   "source": [
    "### Use function get_all_datasets_test_train_np_arrays"
   ]
  },
  {
   "cell_type": "code",
   "execution_count": 54,
   "metadata": {
    "collapsed": false,
    "jupyter": {
     "outputs_hidden": false
    },
    "pycharm": {
     "name": "#%%\n"
    }
   },
   "outputs": [],
   "source": [
    "data = list()"
   ]
  },
  {
   "cell_type": "code",
   "execution_count": 55,
   "metadata": {
    "collapsed": false,
    "jupyter": {
     "outputs_hidden": false
    },
    "pycharm": {
     "name": "#%%\n"
    }
   },
   "outputs": [],
   "source": [
    "datasets_test_path_train_path = get_all_datasets_test_train_np_arrays(path_to_datasets)"
   ]
  },
  {
   "cell_type": "code",
   "execution_count": 56,
   "metadata": {
    "collapsed": false,
    "jupyter": {
     "outputs_hidden": false
    },
    "pycharm": {
     "name": "#%%\n"
    }
   },
   "outputs": [
    {
     "name": "stdout",
     "output_type": "stream",
     "text": [
      "cbf\n",
      "gun_point_male_female\n",
      "car\n",
      "abnormal_heartbeat\n",
      "distal_phalanax_tw\n",
      "phalanges_outlines_correct\n",
      "swedish_leaf\n",
      "mote_strain\n",
      "share_price_increase\n",
      "large_kitchen_appliances\n",
      "distal_phalanx_outline\n",
      "strawberry\n",
      "egg_five_days\n",
      "earthquakes\n",
      "electric_devices\n",
      "fifty_words\n",
      "freezers\n",
      "synthetic_control\n",
      "gun_point_age_span\n",
      "trace\n",
      "fish\n",
      "middle_phalanx_age_group\n",
      "lightning_7\n",
      "colposcopy\n",
      "cricket_y\n",
      "coffee_beans\n",
      "gun_point_old_young\n",
      "middle_phalanx_correct\n",
      "bme\n",
      "plane\n",
      "power_cons\n",
      "face_ucr\n",
      "medical_images\n",
      "chlorine_concentration\n",
      "dodger_loop_day\n",
      "arrow_head\n",
      "sony_robot\n"
     ]
    }
   ],
   "source": [
    "for ds_name, ds_data in datasets_test_path_train_path.items():\n",
    "    row = list()\n",
    "    row.append(ds_name)\n",
    "    print(ds_name)\n",
    "    x_test, y_test = ds_data[\"test_data\"]\n",
    "    x_train, y_train = ds_data[\"train_data\"]\n",
    "    row.append(x_train.shape[1])\n",
    "    row.append(x_train.shape[0])\n",
    "    row.append(x_test.shape[0])\n",
    "    row.append(str(array_dist(y_train)))\n",
    "    row.append(str(array_dist(y_test)))\n",
    "    data.append(row)"
   ]
  },
  {
   "cell_type": "code",
   "execution_count": 57,
   "metadata": {
    "collapsed": false,
    "jupyter": {
     "outputs_hidden": false
    },
    "pycharm": {
     "name": "#%%\n"
    }
   },
   "outputs": [
    {
     "ename": "ValueError",
     "evalue": "8 columns passed, passed data had 6 columns",
     "output_type": "error",
     "traceback": [
      "\u001b[0;31m---------------------------------------------------------------------------\u001b[0m",
      "\u001b[0;31mAssertionError\u001b[0m                            Traceback (most recent call last)",
      "File \u001b[0;32m/opt/bwhpc/common/jupyter/tensorflow/2023-01-02/lib/python3.8/site-packages/pandas/core/internals/construction.py:969\u001b[0m, in \u001b[0;36m_finalize_columns_and_data\u001b[0;34m(content, columns, dtype)\u001b[0m\n\u001b[1;32m    968\u001b[0m \u001b[38;5;28;01mtry\u001b[39;00m:\n\u001b[0;32m--> 969\u001b[0m     columns \u001b[38;5;241m=\u001b[39m \u001b[43m_validate_or_indexify_columns\u001b[49m\u001b[43m(\u001b[49m\u001b[43mcontents\u001b[49m\u001b[43m,\u001b[49m\u001b[43m \u001b[49m\u001b[43mcolumns\u001b[49m\u001b[43m)\u001b[49m\n\u001b[1;32m    970\u001b[0m \u001b[38;5;28;01mexcept\u001b[39;00m \u001b[38;5;167;01mAssertionError\u001b[39;00m \u001b[38;5;28;01mas\u001b[39;00m err:\n\u001b[1;32m    971\u001b[0m     \u001b[38;5;66;03m# GH#26429 do not raise user-facing AssertionError\u001b[39;00m\n",
      "File \u001b[0;32m/opt/bwhpc/common/jupyter/tensorflow/2023-01-02/lib/python3.8/site-packages/pandas/core/internals/construction.py:1017\u001b[0m, in \u001b[0;36m_validate_or_indexify_columns\u001b[0;34m(content, columns)\u001b[0m\n\u001b[1;32m   1015\u001b[0m \u001b[38;5;28;01mif\u001b[39;00m \u001b[38;5;129;01mnot\u001b[39;00m is_mi_list \u001b[38;5;129;01mand\u001b[39;00m \u001b[38;5;28mlen\u001b[39m(columns) \u001b[38;5;241m!=\u001b[39m \u001b[38;5;28mlen\u001b[39m(content):  \u001b[38;5;66;03m# pragma: no cover\u001b[39;00m\n\u001b[1;32m   1016\u001b[0m     \u001b[38;5;66;03m# caller's responsibility to check for this...\u001b[39;00m\n\u001b[0;32m-> 1017\u001b[0m     \u001b[38;5;28;01mraise\u001b[39;00m \u001b[38;5;167;01mAssertionError\u001b[39;00m(\n\u001b[1;32m   1018\u001b[0m         \u001b[38;5;124mf\u001b[39m\u001b[38;5;124m\"\u001b[39m\u001b[38;5;132;01m{\u001b[39;00m\u001b[38;5;28mlen\u001b[39m(columns)\u001b[38;5;132;01m}\u001b[39;00m\u001b[38;5;124m columns passed, passed data had \u001b[39m\u001b[38;5;124m\"\u001b[39m\n\u001b[1;32m   1019\u001b[0m         \u001b[38;5;124mf\u001b[39m\u001b[38;5;124m\"\u001b[39m\u001b[38;5;132;01m{\u001b[39;00m\u001b[38;5;28mlen\u001b[39m(content)\u001b[38;5;132;01m}\u001b[39;00m\u001b[38;5;124m columns\u001b[39m\u001b[38;5;124m\"\u001b[39m\n\u001b[1;32m   1020\u001b[0m     )\n\u001b[1;32m   1021\u001b[0m \u001b[38;5;28;01melif\u001b[39;00m is_mi_list:\n\u001b[1;32m   1022\u001b[0m \n\u001b[1;32m   1023\u001b[0m     \u001b[38;5;66;03m# check if nested list column, length of each sub-list should be equal\u001b[39;00m\n",
      "\u001b[0;31mAssertionError\u001b[0m: 8 columns passed, passed data had 6 columns",
      "\nThe above exception was the direct cause of the following exception:\n",
      "\u001b[0;31mValueError\u001b[0m                                Traceback (most recent call last)",
      "Cell \u001b[0;32mIn[57], line 1\u001b[0m\n\u001b[0;32m----> 1\u001b[0m df \u001b[38;5;241m=\u001b[39m \u001b[43mpd\u001b[49m\u001b[38;5;241;43m.\u001b[39;49m\u001b[43mDataFrame\u001b[49m\u001b[43m(\u001b[49m\u001b[43mdata\u001b[49m\u001b[43m,\u001b[49m\u001b[43m \u001b[49m\u001b[43mcolumns\u001b[49m\u001b[38;5;241;43m=\u001b[39;49m\u001b[43mcolumns\u001b[49m\u001b[43m)\u001b[49m\n",
      "File \u001b[0;32m/opt/bwhpc/common/jupyter/tensorflow/2023-01-02/lib/python3.8/site-packages/pandas/core/frame.py:745\u001b[0m, in \u001b[0;36mDataFrame.__init__\u001b[0;34m(self, data, index, columns, dtype, copy)\u001b[0m\n\u001b[1;32m    743\u001b[0m     \u001b[38;5;28;01mif\u001b[39;00m columns \u001b[38;5;129;01mis\u001b[39;00m \u001b[38;5;129;01mnot\u001b[39;00m \u001b[38;5;28;01mNone\u001b[39;00m:\n\u001b[1;32m    744\u001b[0m         columns \u001b[38;5;241m=\u001b[39m ensure_index(columns)\n\u001b[0;32m--> 745\u001b[0m     arrays, columns, index \u001b[38;5;241m=\u001b[39m \u001b[43mnested_data_to_arrays\u001b[49m\u001b[43m(\u001b[49m\n\u001b[1;32m    746\u001b[0m \u001b[43m        \u001b[49m\u001b[38;5;66;43;03m# error: Argument 3 to \"nested_data_to_arrays\" has incompatible\u001b[39;49;00m\n\u001b[1;32m    747\u001b[0m \u001b[43m        \u001b[49m\u001b[38;5;66;43;03m# type \"Optional[Collection[Any]]\"; expected \"Optional[Index]\"\u001b[39;49;00m\n\u001b[1;32m    748\u001b[0m \u001b[43m        \u001b[49m\u001b[43mdata\u001b[49m\u001b[43m,\u001b[49m\n\u001b[1;32m    749\u001b[0m \u001b[43m        \u001b[49m\u001b[43mcolumns\u001b[49m\u001b[43m,\u001b[49m\n\u001b[1;32m    750\u001b[0m \u001b[43m        \u001b[49m\u001b[43mindex\u001b[49m\u001b[43m,\u001b[49m\u001b[43m  \u001b[49m\u001b[38;5;66;43;03m# type: ignore[arg-type]\u001b[39;49;00m\n\u001b[1;32m    751\u001b[0m \u001b[43m        \u001b[49m\u001b[43mdtype\u001b[49m\u001b[43m,\u001b[49m\n\u001b[1;32m    752\u001b[0m \u001b[43m    \u001b[49m\u001b[43m)\u001b[49m\n\u001b[1;32m    753\u001b[0m     mgr \u001b[38;5;241m=\u001b[39m arrays_to_mgr(\n\u001b[1;32m    754\u001b[0m         arrays,\n\u001b[1;32m    755\u001b[0m         columns,\n\u001b[0;32m   (...)\u001b[0m\n\u001b[1;32m    758\u001b[0m         typ\u001b[38;5;241m=\u001b[39mmanager,\n\u001b[1;32m    759\u001b[0m     )\n\u001b[1;32m    760\u001b[0m \u001b[38;5;28;01melse\u001b[39;00m:\n",
      "File \u001b[0;32m/opt/bwhpc/common/jupyter/tensorflow/2023-01-02/lib/python3.8/site-packages/pandas/core/internals/construction.py:510\u001b[0m, in \u001b[0;36mnested_data_to_arrays\u001b[0;34m(data, columns, index, dtype)\u001b[0m\n\u001b[1;32m    507\u001b[0m \u001b[38;5;28;01mif\u001b[39;00m is_named_tuple(data[\u001b[38;5;241m0\u001b[39m]) \u001b[38;5;129;01mand\u001b[39;00m columns \u001b[38;5;129;01mis\u001b[39;00m \u001b[38;5;28;01mNone\u001b[39;00m:\n\u001b[1;32m    508\u001b[0m     columns \u001b[38;5;241m=\u001b[39m ensure_index(data[\u001b[38;5;241m0\u001b[39m]\u001b[38;5;241m.\u001b[39m_fields)\n\u001b[0;32m--> 510\u001b[0m arrays, columns \u001b[38;5;241m=\u001b[39m \u001b[43mto_arrays\u001b[49m\u001b[43m(\u001b[49m\u001b[43mdata\u001b[49m\u001b[43m,\u001b[49m\u001b[43m \u001b[49m\u001b[43mcolumns\u001b[49m\u001b[43m,\u001b[49m\u001b[43m \u001b[49m\u001b[43mdtype\u001b[49m\u001b[38;5;241;43m=\u001b[39;49m\u001b[43mdtype\u001b[49m\u001b[43m)\u001b[49m\n\u001b[1;32m    511\u001b[0m columns \u001b[38;5;241m=\u001b[39m ensure_index(columns)\n\u001b[1;32m    513\u001b[0m \u001b[38;5;28;01mif\u001b[39;00m index \u001b[38;5;129;01mis\u001b[39;00m \u001b[38;5;28;01mNone\u001b[39;00m:\n",
      "File \u001b[0;32m/opt/bwhpc/common/jupyter/tensorflow/2023-01-02/lib/python3.8/site-packages/pandas/core/internals/construction.py:875\u001b[0m, in \u001b[0;36mto_arrays\u001b[0;34m(data, columns, dtype)\u001b[0m\n\u001b[1;32m    872\u001b[0m     data \u001b[38;5;241m=\u001b[39m [\u001b[38;5;28mtuple\u001b[39m(x) \u001b[38;5;28;01mfor\u001b[39;00m x \u001b[38;5;129;01min\u001b[39;00m data]\n\u001b[1;32m    873\u001b[0m     arr \u001b[38;5;241m=\u001b[39m _list_to_arrays(data)\n\u001b[0;32m--> 875\u001b[0m content, columns \u001b[38;5;241m=\u001b[39m \u001b[43m_finalize_columns_and_data\u001b[49m\u001b[43m(\u001b[49m\u001b[43marr\u001b[49m\u001b[43m,\u001b[49m\u001b[43m \u001b[49m\u001b[43mcolumns\u001b[49m\u001b[43m,\u001b[49m\u001b[43m \u001b[49m\u001b[43mdtype\u001b[49m\u001b[43m)\u001b[49m\n\u001b[1;32m    876\u001b[0m \u001b[38;5;28;01mreturn\u001b[39;00m content, columns\n",
      "File \u001b[0;32m/opt/bwhpc/common/jupyter/tensorflow/2023-01-02/lib/python3.8/site-packages/pandas/core/internals/construction.py:972\u001b[0m, in \u001b[0;36m_finalize_columns_and_data\u001b[0;34m(content, columns, dtype)\u001b[0m\n\u001b[1;32m    969\u001b[0m     columns \u001b[38;5;241m=\u001b[39m _validate_or_indexify_columns(contents, columns)\n\u001b[1;32m    970\u001b[0m \u001b[38;5;28;01mexcept\u001b[39;00m \u001b[38;5;167;01mAssertionError\u001b[39;00m \u001b[38;5;28;01mas\u001b[39;00m err:\n\u001b[1;32m    971\u001b[0m     \u001b[38;5;66;03m# GH#26429 do not raise user-facing AssertionError\u001b[39;00m\n\u001b[0;32m--> 972\u001b[0m     \u001b[38;5;28;01mraise\u001b[39;00m \u001b[38;5;167;01mValueError\u001b[39;00m(err) \u001b[38;5;28;01mfrom\u001b[39;00m \u001b[38;5;21;01merr\u001b[39;00m\n\u001b[1;32m    974\u001b[0m \u001b[38;5;28;01mif\u001b[39;00m \u001b[38;5;28mlen\u001b[39m(contents) \u001b[38;5;129;01mand\u001b[39;00m contents[\u001b[38;5;241m0\u001b[39m]\u001b[38;5;241m.\u001b[39mdtype \u001b[38;5;241m==\u001b[39m np\u001b[38;5;241m.\u001b[39mobject_:\n\u001b[1;32m    975\u001b[0m     contents \u001b[38;5;241m=\u001b[39m _convert_object_array(contents, dtype\u001b[38;5;241m=\u001b[39mdtype)\n",
      "\u001b[0;31mValueError\u001b[0m: 8 columns passed, passed data had 6 columns"
     ]
    }
   ],
   "source": [
    "df = pd.DataFrame(data, columns=columns)"
   ]
  },
  {
   "cell_type": "code",
   "execution_count": null,
   "metadata": {
    "collapsed": false,
    "jupyter": {
     "outputs_hidden": false
    },
    "pycharm": {
     "name": "#%%\n"
    }
   },
   "outputs": [],
   "source": [
    "df"
   ]
  },
  {
   "cell_type": "markdown",
   "metadata": {
    "pycharm": {
     "name": "#%% md\n"
    }
   },
   "source": [
    "# Notes - to delete"
   ]
  },
  {
   "cell_type": "code",
   "execution_count": null,
   "metadata": {
    "collapsed": false,
    "jupyter": {
     "outputs_hidden": false
    },
    "pycharm": {
     "name": "#%%\n"
    }
   },
   "outputs": [],
   "source": []
  },
  {
   "cell_type": "code",
   "execution_count": null,
   "metadata": {},
   "outputs": [],
   "source": []
  }
 ],
 "metadata": {
  "kernelspec": {
   "display_name": "ts_ensemble",
   "language": "python",
   "name": "ts_ensemble"
  },
  "language_info": {
   "codemirror_mode": {
    "name": "ipython",
    "version": 3
   },
   "file_extension": ".py",
   "mimetype": "text/x-python",
   "name": "python",
   "nbconvert_exporter": "python",
   "pygments_lexer": "ipython3",
   "version": "3.8.6"
  }
 },
 "nbformat": 4,
 "nbformat_minor": 4
}
