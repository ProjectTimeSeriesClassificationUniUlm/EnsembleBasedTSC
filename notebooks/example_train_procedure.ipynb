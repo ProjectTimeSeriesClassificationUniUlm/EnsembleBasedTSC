{
 "cells": [
  {
   "cell_type": "code",
   "execution_count": 21,
   "metadata": {
    "tags": []
   },
   "outputs": [],
   "source": [
    "import sys\n",
    "import json\n",
    "from pathlib import Path\n",
    "\n",
    "import numpy as np\n",
    "import pandas as pd\n",
    "import tensorflow as tf\n",
    "from tqdm.auto import tqdm\n",
    "from tqdm.keras import TqdmCallback\n",
    "sys.path.append(\"../\")\n",
    "from src.Evaluation import plot_model_history\n",
    "from sktime.datasets import load_from_tsfile_to_dataframe\n",
    "from src.ModelBuilder import get_MLP, get_MCDCNN, get_Time_CNN, get_FCN, get_Encoder, get_Resnet\n",
    "from src.LoadData import get_all_datasets_test_train_np_arrays, get_all_datasets_info, load_numpy_array_from_ts\n",
    "from src.Helpers import append_to_csv\n",
    "from src.Helpers import append_to_csv, get_confusion_matrix_for_model_and_data, visualize_confusion_matrix"
   ]
  },
  {
   "cell_type": "code",
   "execution_count": 22,
   "metadata": {
    "collapsed": false,
    "jupyter": {
     "outputs_hidden": false
    }
   },
   "outputs": [],
   "source": [
    "path_to_datasets = \"./../datasets\""
   ]
  },
  {
   "cell_type": "code",
   "execution_count": 23,
   "metadata": {
    "collapsed": false,
    "jupyter": {
     "outputs_hidden": false
    }
   },
   "outputs": [],
   "source": [
    "datasets_test_train_data = get_all_datasets_test_train_np_arrays(path_to_datasets)"
   ]
  },
  {
   "cell_type": "code",
   "execution_count": 24,
   "metadata": {},
   "outputs": [],
   "source": [
    "datasets_test_train_data = {k:v for k,v in datasets_test_train_data.items() if k=='large_kitchen_appliances' }"
   ]
  },
  {
   "cell_type": "code",
   "execution_count": 25,
   "metadata": {
    "collapsed": false,
    "jupyter": {
     "outputs_hidden": false
    }
   },
   "outputs": [],
   "source": [
    "models_getter = [get_MLP, get_MCDCNN, get_Time_CNN, get_FCN, get_Encoder, get_Resnet]\n",
    "models_names = [\"MLP\", \"MCDCNN\", \"Time_CNN\", \"FCN\", \"Encoder\", \"Resnet\"]"
   ]
  },
  {
   "cell_type": "code",
   "execution_count": 26,
   "metadata": {
    "collapsed": false,
    "jupyter": {
     "outputs_hidden": false
    }
   },
   "outputs": [
    {
     "name": "stdout",
     "output_type": "stream",
     "text": [
      "WARNING:tensorflow:There are non-GPU devices in `tf.distribute.Strategy`, not using nccl allreduce.\n",
      "INFO:tensorflow:Using MirroredStrategy with devices ('/job:localhost/replica:0/task:0/device:CPU:0',)\n"
     ]
    }
   ],
   "source": [
    "# tf.debugging.set_log_device_placement(True)\n",
    "# devices = tf.config.list_logical_devices('GPU') # Use this to run training just on GPUs\n",
    "devices = tf.config.list_logical_devices()\n",
    "strategy = tf.distribute.MirroredStrategy(devices)"
   ]
  },
  {
   "cell_type": "code",
   "execution_count": 27,
   "metadata": {
    "collapsed": false,
    "jupyter": {
     "outputs_hidden": false
    }
   },
   "outputs": [
    {
     "data": {
      "text/plain": [
       "[LogicalDevice(name='/device:CPU:0', device_type='CPU')]"
      ]
     },
     "execution_count": 27,
     "metadata": {},
     "output_type": "execute_result"
    }
   ],
   "source": [
    "devices"
   ]
  },
  {
   "cell_type": "code",
   "execution_count": 28,
   "metadata": {
    "collapsed": false,
    "jupyter": {
     "outputs_hidden": false
    }
   },
   "outputs": [],
   "source": [
    "path_persist_results = \"./training_res.csv\"\n",
    "if not (csv_path := Path(path_persist_results)).exists():\n",
    "    csv_path.touch()\n",
    "if len(csv_path.read_text()) == 0:\n",
    "    # Only write if the file is empty\n",
    "    columns = [\"dataset_name\", \"model_name\", \"test_loss\", \"test_acc\", \"confusion_matrix\", \"history\"]\n",
    "    append_to_csv(path_persist_results, columns)"
   ]
  },
  {
   "cell_type": "code",
   "execution_count": 29,
   "metadata": {
    "collapsed": false,
    "jupyter": {
     "outputs_hidden": false
    }
   },
   "outputs": [],
   "source": [
    "epochs = 30\n",
    "batch_size = 10\n",
    "validation_split = 0.2"
   ]
  },
  {
   "cell_type": "code",
   "execution_count": 30,
   "metadata": {
    "collapsed": false,
    "jupyter": {
     "outputs_hidden": false
    }
   },
   "outputs": [
    {
     "data": {
      "application/vnd.jupyter.widget-view+json": {
       "model_id": "542fe1d33b484eaabb4aa3b2e80001f7",
       "version_major": 2,
       "version_minor": 0
      },
      "text/plain": [
       "  0%|          | 0/1 [00:00<?, ?dataset/s]"
      ]
     },
     "metadata": {},
     "output_type": "display_data"
    },
    {
     "name": "stdout",
     "output_type": "stream",
     "text": [
      "Dataset name:  large_kitchen_appliances\n"
     ]
    },
    {
     "data": {
      "application/vnd.jupyter.widget-view+json": {
       "model_id": "4c65cac1bc724da8ba31f55eb3556d27",
       "version_major": 2,
       "version_minor": 0
      },
      "text/plain": [
       "Train on \"large_kitchen_appliances\":   0%|          | 0/6 [00:00<?, ?model/s]"
      ]
     },
     "metadata": {},
     "output_type": "display_data"
    },
    {
     "name": "stdout",
     "output_type": "stream",
     "text": [
      "Model name:  MLP\n"
     ]
    },
    {
     "data": {
      "application/vnd.jupyter.widget-view+json": {
       "model_id": "0e37896a04eb4b698bdf8228a4adc4f7",
       "version_major": 2,
       "version_minor": 0
      },
      "text/plain": [
       "MLP: 0epoch [00:00, ?epoch/s]"
      ]
     },
     "metadata": {},
     "output_type": "display_data"
    },
    {
     "name": "stdout",
     "output_type": "stream",
     "text": [
      "12/12 [==============================] - 0s 2ms/step - loss: 2.6179 - accuracy: 0.4133\n",
      "12/12 [==============================] - 0s 2ms/step\n",
      "Model name:  MCDCNN\n"
     ]
    },
    {
     "data": {
      "application/vnd.jupyter.widget-view+json": {
       "model_id": "f1b65e7193a34af1b8b1efa31604eb45",
       "version_major": 2,
       "version_minor": 0
      },
      "text/plain": [
       "MCDCNN: 0epoch [00:00, ?epoch/s]"
      ]
     },
     "metadata": {},
     "output_type": "display_data"
    },
    {
     "name": "stdout",
     "output_type": "stream",
     "text": [
      "12/12 [==============================] - 0s 4ms/step - loss: 1.3581 - accuracy: 0.3333\n",
      "12/12 [==============================] - 0s 3ms/step\n",
      "Model name:  Time_CNN\n"
     ]
    },
    {
     "data": {
      "application/vnd.jupyter.widget-view+json": {
       "model_id": "eaf0435868dc4d8a883a14b604e2a6f8",
       "version_major": 2,
       "version_minor": 0
      },
      "text/plain": [
       "Time_CNN: 0epoch [00:00, ?epoch/s]"
      ]
     },
     "metadata": {},
     "output_type": "display_data"
    },
    {
     "name": "stdout",
     "output_type": "stream",
     "text": [
      "12/12 [==============================] - 0s 3ms/step - loss: 1.1640 - accuracy: 0.3333\n",
      "12/12 [==============================] - 0s 3ms/step\n",
      "Model name:  FCN\n"
     ]
    },
    {
     "data": {
      "application/vnd.jupyter.widget-view+json": {
       "model_id": "b6f56b97468047ed9be416c5937cf518",
       "version_major": 2,
       "version_minor": 0
      },
      "text/plain": [
       "FCN: 0epoch [00:00, ?epoch/s]"
      ]
     },
     "metadata": {},
     "output_type": "display_data"
    },
    {
     "name": "stdout",
     "output_type": "stream",
     "text": [
      "12/12 [==============================] - 1s 92ms/step - loss: 0.7556 - accuracy: 0.7013\n",
      "12/12 [==============================] - 1s 111ms/step\n",
      "Model name:  Encoder\n"
     ]
    },
    {
     "data": {
      "application/vnd.jupyter.widget-view+json": {
       "model_id": "a8e4c2a87e0c41efa04be6514998b1db",
       "version_major": 2,
       "version_minor": 0
      },
      "text/plain": [
       "Encoder: 0epoch [00:00, ?epoch/s]"
      ]
     },
     "metadata": {},
     "output_type": "display_data"
    },
    {
     "name": "stdout",
     "output_type": "stream",
     "text": [
      "12/12 [==============================] - 4s 341ms/step - loss: 2.6078 - accuracy: 0.4027\n",
      "12/12 [==============================] - 5s 385ms/step\n",
      "Model name:  Resnet\n"
     ]
    },
    {
     "data": {
      "application/vnd.jupyter.widget-view+json": {
       "model_id": "06706dbf2da14681b574e83fafcab4bb",
       "version_major": 2,
       "version_minor": 0
      },
      "text/plain": [
       "Resnet: 0epoch [00:00, ?epoch/s]"
      ]
     },
     "metadata": {},
     "output_type": "display_data"
    },
    {
     "name": "stdout",
     "output_type": "stream",
     "text": [
      "12/12 [==============================] - 3s 219ms/step - loss: 0.4385 - accuracy: 0.8480\n",
      "12/12 [==============================] - 3s 234ms/step\n"
     ]
    }
   ],
   "source": [
    "# with strategy.scope():\n",
    "for ds_name, ds_data in tqdm(datasets_test_train_data.items(), unit='dataset'):\n",
    "    print(\"Dataset name: \", ds_name)\n",
    "    x_test, y_test = ds_data[\"test_data\"]\n",
    "    x_train, y_train = ds_data[\"train_data\"]\n",
    "\n",
    "    input_size = x_train.shape[1]\n",
    "    output_size = len(np.unique(y_train))\n",
    "\n",
    "    for get_model, model_name in tqdm(list(zip(models_getter, models_names)), unit='model', desc=f'Train on \"{ds_name}\"'):\n",
    "        print(\"Model name: \", model_name)\n",
    "        model = get_model(input_size, output_size)\n",
    "        model.compile(optimizer='SGD',\n",
    "                      loss='sparse_categorical_crossentropy',\n",
    "                      metrics=['accuracy'])\n",
    "        history = model.fit(x_train, y_train, batch_size=batch_size, epochs=epochs, validation_split=validation_split, callbacks=[TqdmCallback(verbose=0, desc=model_name)], verbose=0)\n",
    "        test_loss, test_acc = model.evaluate(x_test, y_test)\n",
    "        \n",
    "        confusion_matrix = get_confusion_matrix_for_model_and_data(model, x_test, y_test)\n",
    "        #visualize_confusion_matrix(confusion_matrix, model_name, ds_name)\n",
    "\n",
    "        row = [ds_name,\n",
    "              model_name,\n",
    "              test_loss,\n",
    "              test_acc,\n",
    "              json.dumps(confusion_matrix.tolist()), \n",
    "              json.dumps(history.history)]\n",
    "        append_to_csv(path_persist_results, row)"
   ]
  },
  {
   "cell_type": "code",
   "execution_count": null,
   "metadata": {},
   "outputs": [],
   "source": []
  },
  {
   "cell_type": "code",
   "execution_count": null,
   "metadata": {},
   "outputs": [],
   "source": []
  },
  {
   "cell_type": "markdown",
   "metadata": {},
   "source": [
    "# Example load training results and display evaluation results"
   ]
  },
  {
   "cell_type": "code",
   "execution_count": null,
   "metadata": {
    "collapsed": false,
    "jupyter": {
     "outputs_hidden": false
    }
   },
   "outputs": [],
   "source": [
    "df_training_res = pd.read_csv(path_persist_results)"
   ]
  },
  {
   "cell_type": "code",
   "execution_count": null,
   "metadata": {
    "collapsed": false,
    "jupyter": {
     "outputs_hidden": false
    }
   },
   "outputs": [],
   "source": [
    "df_training_res"
   ]
  },
  {
   "cell_type": "code",
   "execution_count": null,
   "metadata": {
    "collapsed": false,
    "jupyter": {
     "outputs_hidden": false
    }
   },
   "outputs": [],
   "source": [
    "history = df_training_res['history'][0]"
   ]
  },
  {
   "cell_type": "code",
   "execution_count": null,
   "metadata": {
    "collapsed": false,
    "jupyter": {
     "outputs_hidden": false
    }
   },
   "outputs": [],
   "source": []
  },
  {
   "cell_type": "code",
   "execution_count": null,
   "metadata": {
    "collapsed": false,
    "jupyter": {
     "outputs_hidden": false
    }
   },
   "outputs": [],
   "source": [
    "plot_model_history(json.loads(history), epochs=epochs)"
   ]
  },
  {
   "cell_type": "code",
   "execution_count": null,
   "metadata": {
    "collapsed": false,
    "jupyter": {
     "outputs_hidden": false
    }
   },
   "outputs": [],
   "source": []
  },
  {
   "cell_type": "code",
   "execution_count": null,
   "metadata": {
    "collapsed": false,
    "jupyter": {
     "outputs_hidden": false
    }
   },
   "outputs": [],
   "source": []
  },
  {
   "cell_type": "code",
   "execution_count": null,
   "metadata": {
    "collapsed": false,
    "jupyter": {
     "outputs_hidden": false
    }
   },
   "outputs": [],
   "source": []
  }
 ],
 "metadata": {
  "kernelspec": {
   "display_name": "ts_ensemble",
   "language": "python",
   "name": "ts_ensemble"
  },
  "language_info": {
   "codemirror_mode": {
    "name": "ipython",
    "version": 3
   },
   "file_extension": ".py",
   "mimetype": "text/x-python",
   "name": "python",
   "nbconvert_exporter": "python",
   "pygments_lexer": "ipython3",
   "version": "3.8.6"
  }
 },
 "nbformat": 4,
 "nbformat_minor": 4
}
