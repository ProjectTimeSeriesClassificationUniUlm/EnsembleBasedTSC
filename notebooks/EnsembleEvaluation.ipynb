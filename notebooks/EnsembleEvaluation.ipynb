{
 "cells": [
  {
   "cell_type": "code",
   "execution_count": 1,
   "metadata": {
    "collapsed": true,
    "jupyter": {
     "outputs_hidden": true
    }
   },
   "outputs": [],
   "source": [
    "import logging\n",
    "import os\n",
    "\n",
    "import numpy as np\n",
    "\n",
    "os.environ['TF_CPP_MIN_LOG_LEVEL'] = '3'\n",
    "logging.getLogger().setLevel(logging.ERROR)\n",
    "import tensorflow as tf\n",
    "tf.get_logger().setLevel(logging.ERROR)\n",
    "\n",
    "import sys\n",
    "sys.path.append(\"../src\")\n",
    "\n",
    "from toolz import keyfilter\n",
    "\n",
    "from Evaluation import create_confusion_matrix_plot_from_csv\n",
    "from LoadData import CurrentDatasets\n",
    "from EnsembleBuilder import EnsembleBuilder"
   ]
  },
  {
   "cell_type": "code",
   "execution_count": 2,
   "metadata": {
    "collapsed": false,
    "jupyter": {
     "outputs_hidden": false
    }
   },
   "outputs": [
    {
     "data": {
      "text/plain": "['cbf',\n 'cricket_y',\n 'distal_phalanax_tw',\n 'distal_phalanx_outline',\n 'egg_five_days',\n 'electric_devices',\n 'face_ucr',\n 'fifty_words',\n 'gun_point_male_female',\n 'gun_point_old_young',\n 'large_kitchen_appliances',\n 'mote_strain',\n 'power_cons',\n 'sony_robot',\n 'strawberry',\n 'swedish_leaf',\n 'synthetic_control']"
     },
     "execution_count": 2,
     "metadata": {},
     "output_type": "execute_result"
    }
   ],
   "source": [
    "dataset_names = [dataset.value for dataset in CurrentDatasets]\n",
    "\n",
    "# in a nested list all elements on the same level get equal weights\n",
    "# eg [foo, [bar, bar, bar, [baz, baz]]] is weighted [1/2, [1/8, 1/8, 1/8, [1/16, 1/16]]]\n",
    "\n",
    "\n",
    "\n",
    "FCN_dataset_names = [\"cbf\",\"cricket_y\",\"distal_phalanax_tw\",\"distal_phalanx_outline\",\"egg_five_days\",\"electric_devices\",\"face_ucr\",\"fifty_words\",\"gun_point_male_female\",\"gun_point_old_young\",\"large_kitchen_appliances\",\"mote_strain\",\"power_cons\",\"sony_robot\",\"strawberry\",\"swedish_leaf\",\"synthetic_control\"]\n",
    "\n",
    "FCN_ensemble_names = list(map(lambda dataset_name: f\"FCN pretrain-{dataset_name}\", FCN_dataset_names))\n",
    "\n",
    "ensembles = {\"All\": [[f\"MLP-{number}\" for number in range(0,10)],\n",
    "                     [f\"FCN-{number}\" for number in range(0,10)],\n",
    "                     [f\"MCDCNN_improved-{number}\" for number in range(0,10)],\n",
    "                     [f\"Encoder-{number}\" for number in range(0,10)],\n",
    "                     [f\"Resnet-{number}\" for number in range(0,10)]],\n",
    "             \"MLP10\": [f\"MLP-{number}\" for number in range(0,10)],\n",
    "             \"FCN10\": [f\"FCN-{number}\" for number in range(0,10)],\n",
    "             \"MCDCNN_improved10\": [f\"MCDCNN_improved-{number}\" for number in range(0,10)],\n",
    "             \"Encoder10\": [f\"Encoder-{number}\" for number in range(0,10)],\n",
    "             \"Resnet10\": [f\"Resnet-{number}\" for number in range(0,10)],\n",
    "             \"NNE\": [[f\"Resnet-{number}\" for number in range(0,10)],\n",
    "                     [f\"FCN-{number}\" for number in range(0,10)],\n",
    "                     [f\"Encoder-{number}\" for number in range(0,10)]],\n",
    "             \"Best4\": [[f\"Resnet-{number}\" for number in range(0,10)],\n",
    "                       [f\"FCN-{number}\" for number in range(0,10)],\n",
    "                       [f\"MLP-{number}\" for number in range(0,10)],\n",
    "                       [f\"Encoder-{number}\" for number in range(0,10)]],\n",
    "             \"FCN pretrain\": FCN_ensemble_names}\n",
    "csv_name = '../results/FCN pretrain ensemble.csv'\n",
    "dataset_names = list(filter(lambda n: n not in [], dataset_names)) # remove electric devices\n",
    "dataset_names = FCN_dataset_names\n",
    "\n",
    "FCN_dataset_names"
   ]
  },
  {
   "cell_type": "code",
   "execution_count": 3,
   "metadata": {
    "collapsed": false,
    "jupyter": {
     "outputs_hidden": false
    }
   },
   "outputs": [
    {
     "data": {
      "text/plain": "{'FCN pretrain': ['FCN pretrain-cbf',\n  'FCN pretrain-cricket_y',\n  'FCN pretrain-distal_phalanax_tw',\n  'FCN pretrain-distal_phalanx_outline',\n  'FCN pretrain-egg_five_days',\n  'FCN pretrain-electric_devices',\n  'FCN pretrain-face_ucr',\n  'FCN pretrain-fifty_words',\n  'FCN pretrain-gun_point_male_female',\n  'FCN pretrain-gun_point_old_young',\n  'FCN pretrain-large_kitchen_appliances',\n  'FCN pretrain-mote_strain',\n  'FCN pretrain-power_cons',\n  'FCN pretrain-sony_robot',\n  'FCN pretrain-strawberry',\n  'FCN pretrain-swedish_leaf',\n  'FCN pretrain-synthetic_control']}"
     },
     "execution_count": 3,
     "metadata": {},
     "output_type": "execute_result"
    }
   ],
   "source": [
    "used_ensembles=ensembles\n",
    "used_ensembles=keyfilter(lambda ensemble: ensemble in [\"FCN pretrain\"], ensembles)\n",
    "used_ensembles"
   ]
  },
  {
   "cell_type": "code",
   "execution_count": 4,
   "metadata": {
    "collapsed": false,
    "jupyter": {
     "outputs_hidden": false
    }
   },
   "outputs": [
    {
     "name": "stdout",
     "output_type": "stream",
     "text": [
      "1/17:\tcbf\n",
      "\tFCN pretrain\n",
      "2/17:\tcricket_y\n",
      "\tFCN pretrain\n",
      "3/17:\tdistal_phalanax_tw\n",
      "\tFCN pretrain\n",
      "4/17:\tdistal_phalanx_outline\n",
      "\tFCN pretrain\n",
      "5/17:\tegg_five_days\n",
      "\tFCN pretrain\n",
      "6/17:\telectric_devices\n",
      "\tFCN pretrain\n",
      "7/17:\tface_ucr\n",
      "\tFCN pretrain\n",
      "8/17:\tfifty_words\n",
      "\tFCN pretrain\n",
      "9/17:\tgun_point_male_female\n",
      "\tFCN pretrain\n",
      "10/17:\tgun_point_old_young\n",
      "\tFCN pretrain\n",
      "11/17:\tlarge_kitchen_appliances\n",
      "\tFCN pretrain\n",
      "12/17:\tmote_strain\n",
      "\tFCN pretrain\n",
      "13/17:\tpower_cons\n",
      "\tFCN pretrain\n",
      "14/17:\tsony_robot\n",
      "\tFCN pretrain\n",
      "15/17:\tstrawberry\n",
      "\tFCN pretrain\n",
      "16/17:\tswedish_leaf\n",
      "\tFCN pretrain\n",
      "17/17:\tsynthetic_control\n",
      "\tFCN pretrain\n"
     ]
    }
   ],
   "source": [
    "ens_builder = EnsembleBuilder(dataset_names=dataset_names, \n",
    "                              ensembles=used_ensembles, \n",
    "                              verbose=True,\n",
    "                              models_path=\"../models/FCN transfer_learning/\",\n",
    "                              datasets_path=\"../datasets/\")\n",
    "ens_builder.run_ensembles(augmentation=False).to_csv(csv_name)"
   ]
  },
  {
   "cell_type": "code",
   "execution_count": null,
   "metadata": {
    "collapsed": false,
    "jupyter": {
     "outputs_hidden": false
    },
    "pycharm": {
     "is_executing": true
    }
   },
   "outputs": [
    {
     "name": "stdout",
     "output_type": "stream",
     "text": [
      "cbf\n",
      "cricket_y\n",
      "distal_phalanax_tw\n"
     ]
    }
   ],
   "source": [
    "create_confusion_matrix_plot_from_csv(csv_name, verbose=True)"
   ]
  },
  {
   "cell_type": "code",
   "execution_count": null,
   "metadata": {
    "collapsed": false,
    "jupyter": {
     "outputs_hidden": false
    }
   },
   "outputs": [],
   "source": [
    "create_confusion_matrix_plot_from_csv(\"../results/train__Encoder_Encoder_Encoder_Encoder_Encoder_Encoder_Encoder_Encoder_Encoder_Encoder_11_datasets.csv\", verbose=True)"
   ]
  },
  {
   "cell_type": "code",
   "execution_count": null,
   "metadata": {
    "collapsed": false,
    "jupyter": {
     "outputs_hidden": false
    }
   },
   "outputs": [],
   "source": []
  }
 ],
 "metadata": {
  "kernelspec": {
   "display_name": "Python 3 (ipykernel)",
   "language": "python",
   "name": "python3"
  },
  "language_info": {
   "codemirror_mode": {
    "name": "ipython",
    "version": 3
   },
   "file_extension": ".py",
   "mimetype": "text/x-python",
   "name": "python",
   "nbconvert_exporter": "python",
   "pygments_lexer": "ipython3",
   "version": "3.8.6"
  }
 },
 "nbformat": 4,
 "nbformat_minor": 4
}
