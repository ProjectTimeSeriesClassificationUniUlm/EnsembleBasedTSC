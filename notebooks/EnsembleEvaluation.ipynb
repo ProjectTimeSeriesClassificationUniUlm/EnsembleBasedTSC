{
 "cells": [
  {
   "cell_type": "code",
   "execution_count": 4,
   "metadata": {
    "tags": []
   },
   "outputs": [],
   "source": [
    "import logging\n",
    "import os\n",
    "\n",
    "import numpy as np\n",
    "\n",
    "os.environ['TF_CPP_MIN_LOG_LEVEL'] = '3'\n",
    "logging.getLogger().setLevel(logging.ERROR)\n",
    "import tensorflow as tf\n",
    "tf.get_logger().setLevel(logging.ERROR)\n",
    "\n",
    "import sys\n",
    "sys.path.append(\"../src\")\n",
    "\n",
    "from toolz import keyfilter\n",
    "\n",
    "from Evaluation import create_confusion_matrix_plot_from_csv\n",
    "from LoadData import CurrentDatasets\n",
    "from EnsembleBuilder import EnsembleBuilder"
   ]
  },
  {
   "cell_type": "code",
   "execution_count": 6,
   "metadata": {},
   "outputs": [],
   "source": [
    "dataset_names = [dataset.value for dataset in CurrentDatasets]\n",
    "ensembles = {\"NNE\": [[f\"MLP-{number}\" for number in range(0,10)],\n",
    "                     [f\"FCN-{number}\" for number in range(0,10)],\n",
    "                     [f\"Encoder-{number}\" for number in range(0,10)],\n",
    "                     [f\"Resnet-{number}\" for number in range(0,10)]],\n",
    "             \"MLP10\": [f\"MLP-{number}\" for number in range(0,10)],\n",
    "             \"FCN10\": [f\"FCN-{number}\" for number in range(0,10)],\n",
    "             \"Encoder10\": [f\"Encoder-{number}\" for number in range(0,10)],\n",
    "             \"Resnet10\": [f\"Resnet-{number}\" for number in range(0,10)],}\n",
    "csv_name = './test.csv'"
   ]
  },
  {
   "cell_type": "code",
   "execution_count": 3,
   "metadata": {
    "collapsed": false,
    "jupyter": {
     "outputs_hidden": false
    }
   },
   "outputs": [
    {
     "data": {
      "text/plain": [
       "['cricket_y',\n",
       " 'distal_phalanax_tw',\n",
       " 'egg_five_days',\n",
       " 'face_ucr',\n",
       " 'mote_strain',\n",
       " 'power_cons',\n",
       " 'sony_robot',\n",
       " 'synthetic_control']"
      ]
     },
     "execution_count": 3,
     "metadata": {},
     "output_type": "execute_result"
    }
   ],
   "source": [
    "dataset_names = [dataset.value for dataset in CurrentDatasets]\n",
    "\n",
    "# in a nested list all elements on the same level get equal weights\n",
    "# eg [foo, [bar, bar, bar, [baz, baz]]] is weighted [1/2, [1/8, 1/8, 1/8, [1/16, 1/16]]]\n",
    "\n",
    "ensembles = {\"All\": [[f\"MLP-{number}\" for number in range(0,10)],\n",
    "                     [f\"FCN-{number}\" for number in range(0,10)],\n",
    "                     #[f\"MCDCNN-{number}\" for number in range(0,10)],\n",
    "                     #[f\"Time-CNN-{number}\" for number in range(0,10)],\n",
    "                     [f\"Encoder-{number}\" for number in range(0,10)],\n",
    "                     [f\"Resnet-{number}\" for number in range(0,10)]],\n",
    "             \"MLP10\": [f\"MLP-{number}\" for number in range(0,10)],\n",
    "             \"FCN10\": [f\"FCN-{number}\" for number in range(0,10)],\n",
    "             \"MCDCNN10\": [f\"MCDCNN-{number}\" for number in range(0,10)],\n",
    "             #\"Time-CNN10\": [f\"Time-CNN-{number}\" for number in range(0,10)],\n",
    "             \"Encoder10\": [f\"Encoder-{number}\" for number in range(0,10)],\n",
    "             \"Resnet10\": [f\"Resnet-{number}\" for number in range(0,10)],\n",
    "             \"NNE\": [[f\"Resnet-{number}\" for number in range(0,10)],\n",
    "                     [f\"FCN-{number}\" for number in range(0,10)],\n",
    "                     [f\"Encoder-{number}\" for number in range(0,10)]]}\n",
    "csv_name = '../results/all_ensembles_augmented.csv'\n",
    "dataset_names = list(filter(lambda n: n not in ['electric_devices', 'swedish_leaf'], dataset_names)) # remove electric devices\n",
    "dataset_names"
   ]
  },
  {
   "cell_type": "code",
   "execution_count": 8,
   "metadata": {
    "collapsed": false,
    "jupyter": {
     "outputs_hidden": false
    }
   },
   "outputs": [
    {
     "data": {
      "text/plain": [
       "{'NNE': [['MLP-0',\n",
       "   'MLP-1',\n",
       "   'MLP-2',\n",
       "   'MLP-3',\n",
       "   'MLP-4',\n",
       "   'MLP-5',\n",
       "   'MLP-6',\n",
       "   'MLP-7',\n",
       "   'MLP-8',\n",
       "   'MLP-9'],\n",
       "  ['FCN-0',\n",
       "   'FCN-1',\n",
       "   'FCN-2',\n",
       "   'FCN-3',\n",
       "   'FCN-4',\n",
       "   'FCN-5',\n",
       "   'FCN-6',\n",
       "   'FCN-7',\n",
       "   'FCN-8',\n",
       "   'FCN-9'],\n",
       "  ['Encoder-0',\n",
       "   'Encoder-1',\n",
       "   'Encoder-2',\n",
       "   'Encoder-3',\n",
       "   'Encoder-4',\n",
       "   'Encoder-5',\n",
       "   'Encoder-6',\n",
       "   'Encoder-7',\n",
       "   'Encoder-8',\n",
       "   'Encoder-9'],\n",
       "  ['Resnet-0',\n",
       "   'Resnet-1',\n",
       "   'Resnet-2',\n",
       "   'Resnet-3',\n",
       "   'Resnet-4',\n",
       "   'Resnet-5',\n",
       "   'Resnet-6',\n",
       "   'Resnet-7',\n",
       "   'Resnet-8',\n",
       "   'Resnet-9']],\n",
       " 'MLP10': ['MLP-0',\n",
       "  'MLP-1',\n",
       "  'MLP-2',\n",
       "  'MLP-3',\n",
       "  'MLP-4',\n",
       "  'MLP-5',\n",
       "  'MLP-6',\n",
       "  'MLP-7',\n",
       "  'MLP-8',\n",
       "  'MLP-9'],\n",
       " 'FCN10': ['FCN-0',\n",
       "  'FCN-1',\n",
       "  'FCN-2',\n",
       "  'FCN-3',\n",
       "  'FCN-4',\n",
       "  'FCN-5',\n",
       "  'FCN-6',\n",
       "  'FCN-7',\n",
       "  'FCN-8',\n",
       "  'FCN-9'],\n",
       " 'Encoder10': ['Encoder-0',\n",
       "  'Encoder-1',\n",
       "  'Encoder-2',\n",
       "  'Encoder-3',\n",
       "  'Encoder-4',\n",
       "  'Encoder-5',\n",
       "  'Encoder-6',\n",
       "  'Encoder-7',\n",
       "  'Encoder-8',\n",
       "  'Encoder-9'],\n",
       " 'Resnet10': ['Resnet-0',\n",
       "  'Resnet-1',\n",
       "  'Resnet-2',\n",
       "  'Resnet-3',\n",
       "  'Resnet-4',\n",
       "  'Resnet-5',\n",
       "  'Resnet-6',\n",
       "  'Resnet-7',\n",
       "  'Resnet-8',\n",
       "  'Resnet-9']}"
      ]
     },
     "execution_count": 8,
     "metadata": {},
     "output_type": "execute_result"
    }
   ],
   "source": [
    "used_ensembles=ensembles\n",
    "#used_ensembles=keyfilter(lambda ensemble: ensemble in [\"MLP10\"], ensembles)\n",
    "used_ensembles"
   ]
  },
  {
   "cell_type": "code",
   "execution_count": 9,
   "metadata": {
    "collapsed": false,
    "jupyter": {
     "outputs_hidden": false
    },
    "pycharm": {
     "is_executing": true
    }
   },
   "outputs": [
    {
     "name": "stdout",
     "output_type": "stream",
     "text": [
      "1/10:\tcricket_y\n",
      "\tNNE\n"
     ]
    },
    {
     "ename": "FileNotFoundError",
     "evalue": "[Errno 2] No such file or directory: '../models/augmented/cricket_y'",
     "output_type": "error",
     "traceback": [
      "\u001b[0;31m---------------------------------------------------------------------------\u001b[0m",
      "\u001b[0;31mFileNotFoundError\u001b[0m                         Traceback (most recent call last)",
      "Cell \u001b[0;32mIn[9], line 6\u001b[0m\n\u001b[1;32m      1\u001b[0m ens_builder \u001b[38;5;241m=\u001b[39m EnsembleBuilder(dataset_names\u001b[38;5;241m=\u001b[39mdataset_names, \n\u001b[1;32m      2\u001b[0m                               ensembles\u001b[38;5;241m=\u001b[39mused_ensembles, \n\u001b[1;32m      3\u001b[0m                               verbose\u001b[38;5;241m=\u001b[39m\u001b[38;5;28;01mTrue\u001b[39;00m,\n\u001b[1;32m      4\u001b[0m                               models_path\u001b[38;5;241m=\u001b[39m\u001b[38;5;124m\"\u001b[39m\u001b[38;5;124m../models/augmented/\u001b[39m\u001b[38;5;124m\"\u001b[39m,\n\u001b[1;32m      5\u001b[0m                               datasets_path\u001b[38;5;241m=\u001b[39m\u001b[38;5;124m\"\u001b[39m\u001b[38;5;124m../datasets/\u001b[39m\u001b[38;5;124m\"\u001b[39m)\n\u001b[0;32m----> 6\u001b[0m \u001b[43mens_builder\u001b[49m\u001b[38;5;241;43m.\u001b[39;49m\u001b[43mrun_ensembles\u001b[49m\u001b[43m(\u001b[49m\u001b[43maugmentation\u001b[49m\u001b[38;5;241;43m=\u001b[39;49m\u001b[38;5;28;43;01mFalse\u001b[39;49;00m\u001b[43m)\u001b[49m\u001b[38;5;241m.\u001b[39mto_csv(csv_name)\n",
      "File \u001b[0;32m/pfs/data5/home/ul/ul_student/ul_dgb62/project deep learning/EnsembleBasedTSC/src/EnsembleBuilder.py:61\u001b[0m, in \u001b[0;36mEnsembleBuilder.run_ensembles\u001b[0;34m(self, augmentation)\u001b[0m\n\u001b[1;32m     59\u001b[0m     \u001b[38;5;28;01mif\u001b[39;00m \u001b[38;5;28mself\u001b[39m\u001b[38;5;241m.\u001b[39mverbose:\n\u001b[1;32m     60\u001b[0m         \u001b[38;5;28mprint\u001b[39m(\u001b[38;5;124mf\u001b[39m\u001b[38;5;124m\"\u001b[39m\u001b[38;5;130;01m\\t\u001b[39;00m\u001b[38;5;132;01m{\u001b[39;00mensemble_name\u001b[38;5;132;01m}\u001b[39;00m\u001b[38;5;124m\"\u001b[39m)\n\u001b[0;32m---> 61\u001b[0m     \u001b[38;5;28;01mfor\u001b[39;00m row \u001b[38;5;129;01min\u001b[39;00m \u001b[38;5;28;43mself\u001b[39;49m\u001b[38;5;241;43m.\u001b[39;49m\u001b[43m_run_ensemble\u001b[49m\u001b[43m(\u001b[49m\n\u001b[1;32m     62\u001b[0m \u001b[43m        \u001b[49m\u001b[43mensemble_name\u001b[49m\u001b[43m,\u001b[49m\u001b[43m \u001b[49m\u001b[43mmodel_names\u001b[49m\u001b[43m,\u001b[49m\u001b[43m \u001b[49m\u001b[43mdataset_name\u001b[49m\u001b[43m,\u001b[49m\u001b[43m \u001b[49m\u001b[43maugmentation\u001b[49m\n\u001b[1;32m     63\u001b[0m \u001b[43m    \u001b[49m\u001b[43m)\u001b[49m:\n\u001b[1;32m     64\u001b[0m         result\u001b[38;5;241m.\u001b[39mloc[\u001b[38;5;28mlen\u001b[39m(result)] \u001b[38;5;241m=\u001b[39m row\n\u001b[1;32m     65\u001b[0m i \u001b[38;5;241m=\u001b[39m i \u001b[38;5;241m+\u001b[39m \u001b[38;5;241m1\u001b[39m\n",
      "File \u001b[0;32m/pfs/data5/home/ul/ul_student/ul_dgb62/project deep learning/EnsembleBasedTSC/src/EnsembleBuilder.py:91\u001b[0m, in \u001b[0;36mEnsembleBuilder._run_ensemble\u001b[0;34m(self, ensemble_name, model_names, evaluation_dataset, augmentation)\u001b[0m\n\u001b[1;32m     88\u001b[0m \u001b[38;5;28;01mif\u001b[39;00m augmentation:\n\u001b[1;32m     89\u001b[0m     x_test \u001b[38;5;241m=\u001b[39m np\u001b[38;5;241m.\u001b[39marray(\u001b[38;5;28mlist\u001b[39m(\u001b[38;5;28mmap\u001b[39m(add_additive_white_gaussian_noise, x_test)))\n\u001b[0;32m---> 91\u001b[0m predicted_classes \u001b[38;5;241m=\u001b[39m \u001b[38;5;28;43mself\u001b[39;49m\u001b[38;5;241;43m.\u001b[39;49m\u001b[43m_get_ensemble_predictions\u001b[49m\u001b[43m(\u001b[49m\n\u001b[1;32m     92\u001b[0m \u001b[43m    \u001b[49m\u001b[43mx_test\u001b[49m\u001b[43m,\u001b[49m\u001b[43m \u001b[49m\u001b[43mevaluation_dataset\u001b[49m\u001b[43m,\u001b[49m\u001b[43m \u001b[49m\u001b[43mmodel_names\u001b[49m\n\u001b[1;32m     93\u001b[0m \u001b[43m\u001b[49m\u001b[43m)\u001b[49m\n\u001b[1;32m     95\u001b[0m dataset_names \u001b[38;5;241m=\u001b[39m [evaluation_dataset \u001b[38;5;28;01mfor\u001b[39;00m _ \u001b[38;5;129;01min\u001b[39;00m \u001b[38;5;28mself\u001b[39m\u001b[38;5;241m.\u001b[39mensemble_methods]\n\u001b[1;32m     96\u001b[0m display_names \u001b[38;5;241m=\u001b[39m [\n\u001b[1;32m     97\u001b[0m     \u001b[38;5;124mf\u001b[39m\u001b[38;5;124m\"\u001b[39m\u001b[38;5;132;01m{\u001b[39;00mensemble_name\u001b[38;5;132;01m}\u001b[39;00m\u001b[38;5;124m-\u001b[39m\u001b[38;5;132;01m{\u001b[39;00mmethod_name\u001b[38;5;132;01m}\u001b[39;00m\u001b[38;5;124m\"\u001b[39m \u001b[38;5;28;01mfor\u001b[39;00m method_name \u001b[38;5;129;01min\u001b[39;00m \u001b[38;5;28mself\u001b[39m\u001b[38;5;241m.\u001b[39mensemble_methods\n\u001b[1;32m     98\u001b[0m ]\n",
      "File \u001b[0;32m/pfs/data5/home/ul/ul_student/ul_dgb62/project deep learning/EnsembleBasedTSC/src/EnsembleBuilder.py:122\u001b[0m, in \u001b[0;36mEnsembleBuilder._get_ensemble_predictions\u001b[0;34m(self, x, evaluation_dataset, model_names, check_identical)\u001b[0m\n\u001b[1;32m    113\u001b[0m \u001b[38;5;250m\u001b[39m\u001b[38;5;124;03m\"\"\"\u001b[39;00m\n\u001b[1;32m    114\u001b[0m \u001b[38;5;124;03mCreate an ensemble of given models and dataset\u001b[39;00m\n\u001b[1;32m    115\u001b[0m \n\u001b[0;32m   (...)\u001b[0m\n\u001b[1;32m    118\u001b[0m \u001b[38;5;124;03m:return: ensemble methods used and class predictions\u001b[39;00m\n\u001b[1;32m    119\u001b[0m \u001b[38;5;124;03m\"\"\"\u001b[39;00m\n\u001b[1;32m    120\u001b[0m models, weights \u001b[38;5;241m=\u001b[39m \u001b[38;5;28mlist\u001b[39m(\u001b[38;5;28mzip\u001b[39m(\u001b[38;5;241m*\u001b[39m\u001b[38;5;28mself\u001b[39m\u001b[38;5;241m.\u001b[39m_flatten_models(model_names)))\n\u001b[0;32m--> 122\u001b[0m models \u001b[38;5;241m=\u001b[39m \u001b[38;5;28;43mself\u001b[39;49m\u001b[38;5;241;43m.\u001b[39;49m\u001b[43m_load_models\u001b[49m\u001b[43m(\u001b[49m\u001b[43mevaluation_dataset\u001b[49m\u001b[43m,\u001b[49m\u001b[43m \u001b[49m\u001b[43mmodels\u001b[49m\u001b[43m)\u001b[49m\n\u001b[1;32m    123\u001b[0m ensembles \u001b[38;5;241m=\u001b[39m \u001b[38;5;28mlist\u001b[39m(\n\u001b[1;32m    124\u001b[0m     \u001b[38;5;28mmap\u001b[39m(\n\u001b[1;32m    125\u001b[0m         \u001b[38;5;28;01mlambda\u001b[39;00m ensemble_type: Ensemble(\n\u001b[0;32m   (...)\u001b[0m\n\u001b[1;32m    129\u001b[0m     )\n\u001b[1;32m    130\u001b[0m )\n\u001b[1;32m    131\u001b[0m predictions \u001b[38;5;241m=\u001b[39m \u001b[38;5;28mlist\u001b[39m(\n\u001b[1;32m    132\u001b[0m     \u001b[38;5;28mmap\u001b[39m(\n\u001b[1;32m    133\u001b[0m         \u001b[38;5;28;01mlambda\u001b[39;00m ensemble: np\u001b[38;5;241m.\u001b[39marray(ensemble\u001b[38;5;241m.\u001b[39m__ensemble_method__(x, verbose\u001b[38;5;241m=\u001b[39m\u001b[38;5;241m0\u001b[39m)),\n\u001b[1;32m    134\u001b[0m         ensembles,\n\u001b[1;32m    135\u001b[0m     )\n\u001b[1;32m    136\u001b[0m )\n",
      "File \u001b[0;32m/pfs/data5/home/ul/ul_student/ul_dgb62/project deep learning/EnsembleBasedTSC/src/EnsembleBuilder.py:157\u001b[0m, in \u001b[0;36mEnsembleBuilder._load_models\u001b[0;34m(self, dataset_name, model_names)\u001b[0m\n\u001b[1;32m    152\u001b[0m     \u001b[38;5;28mself\u001b[39m\u001b[38;5;241m.\u001b[39mmodels_path \u001b[38;5;241m=\u001b[39m \u001b[38;5;124mf\u001b[39m\u001b[38;5;124m\"\u001b[39m\u001b[38;5;124m../models/\u001b[39m\u001b[38;5;124m\"\u001b[39m\n\u001b[1;32m    153\u001b[0m curr_models_path \u001b[38;5;241m=\u001b[39m os\u001b[38;5;241m.\u001b[39mpath\u001b[38;5;241m.\u001b[39mjoin(\u001b[38;5;28mself\u001b[39m\u001b[38;5;241m.\u001b[39mmodels_path, dataset_name)\n\u001b[1;32m    154\u001b[0m models_to_load \u001b[38;5;241m=\u001b[39m \u001b[38;5;28mlist\u001b[39m(\n\u001b[1;32m    155\u001b[0m     \u001b[38;5;28mfilter\u001b[39m(\n\u001b[1;32m    156\u001b[0m         \u001b[38;5;28;01mlambda\u001b[39;00m model_name: remove_suffix(model_name, \u001b[38;5;124m\"\u001b[39m\u001b[38;5;124m.h5\u001b[39m\u001b[38;5;124m\"\u001b[39m) \u001b[38;5;129;01min\u001b[39;00m model_names,\n\u001b[0;32m--> 157\u001b[0m         \u001b[43mos\u001b[49m\u001b[38;5;241;43m.\u001b[39;49m\u001b[43mlistdir\u001b[49m\u001b[43m(\u001b[49m\u001b[43mcurr_models_path\u001b[49m\u001b[43m)\u001b[49m,\n\u001b[1;32m    158\u001b[0m     )\n\u001b[1;32m    159\u001b[0m )\n\u001b[1;32m    160\u001b[0m models \u001b[38;5;241m=\u001b[39m \u001b[38;5;28mlist\u001b[39m(\n\u001b[1;32m    161\u001b[0m     \u001b[38;5;28mmap\u001b[39m(\n\u001b[1;32m    162\u001b[0m         \u001b[38;5;28;01mlambda\u001b[39;00m filename: keras\u001b[38;5;241m.\u001b[39mmodels\u001b[38;5;241m.\u001b[39mload_model(\n\u001b[0;32m   (...)\u001b[0m\n\u001b[1;32m    166\u001b[0m     )\n\u001b[1;32m    167\u001b[0m )\n\u001b[1;32m    168\u001b[0m \u001b[38;5;28;01mreturn\u001b[39;00m models\n",
      "\u001b[0;31mFileNotFoundError\u001b[0m: [Errno 2] No such file or directory: '../models/augmented/cricket_y'"
     ]
    }
   ],
   "source": [
    "ens_builder = EnsembleBuilder(dataset_names=dataset_names, \n",
    "                              ensembles=used_ensembles, \n",
    "                              verbose=True,\n",
    "                              models_path=\"../models/augmented/\",\n",
    "                              datasets_path=\"../datasets/\")\n",
    "ens_builder.run_ensembles(augmentation=False).to_csv(csv_name)"
   ]
  },
  {
   "cell_type": "code",
   "execution_count": null,
   "metadata": {
    "collapsed": false,
    "jupyter": {
     "outputs_hidden": false
    }
   },
   "outputs": [],
   "source": [
    "create_confusion_matrix_plot_from_csv(csv_name, verbose=True)"
   ]
  },
  {
   "cell_type": "code",
   "execution_count": null,
   "metadata": {
    "collapsed": false,
    "jupyter": {
     "outputs_hidden": false
    }
   },
   "outputs": [],
   "source": [
    "create_confusion_matrix_plot_from_csv(\"../results/train__Encoder_Encoder_Encoder_Encoder_Encoder_Encoder_Encoder_Encoder_Encoder_Encoder_11_datasets.csv\", verbose=True)"
   ]
  },
  {
   "cell_type": "code",
   "execution_count": null,
   "metadata": {
    "collapsed": false,
    "jupyter": {
     "outputs_hidden": false
    }
   },
   "outputs": [],
   "source": []
  }
 ],
 "metadata": {
  "kernelspec": {
   "display_name": "ts_ensemble",
   "language": "python",
   "name": "ts_ensemble"
  },
  "language_info": {
   "codemirror_mode": {
    "name": "ipython",
    "version": 3
   },
   "file_extension": ".py",
   "mimetype": "text/x-python",
   "name": "python",
   "nbconvert_exporter": "python",
   "pygments_lexer": "ipython3",
   "version": "3.8.6"
  }
 },
 "nbformat": 4,
 "nbformat_minor": 4
}
