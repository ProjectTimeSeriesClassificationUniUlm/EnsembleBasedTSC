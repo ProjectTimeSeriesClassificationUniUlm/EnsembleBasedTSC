{
 "cells": [
  {
   "cell_type": "code",
   "execution_count": 2,
   "metadata": {
    "tags": []
   },
   "outputs": [],
   "source": [
    "import logging\n",
    "import os\n",
    "\n",
    "import numpy as np\n",
    "\n",
    "os.environ['TF_CPP_MIN_LOG_LEVEL'] = '3'\n",
    "logging.getLogger().setLevel(logging.ERROR)\n",
    "import tensorflow as tf\n",
    "tf.get_logger().setLevel(logging.ERROR)\n",
    "\n",
    "import sys\n",
    "sys.path.append(\"../src\")\n",
    "\n",
    "from toolz import keyfilter\n",
    "\n",
    "from Evaluation import create_confusion_matrix_plot_from_csv\n",
    "from LoadData import CurrentDatasets\n",
    "from EnsembleBuilder import EnsembleBuilder"
   ]
  },
  {
   "cell_type": "code",
   "execution_count": 3,
   "metadata": {
    "collapsed": false,
    "jupyter": {
     "outputs_hidden": false
    }
   },
   "outputs": [
    {
     "data": {
      "text/plain": [
       "['cbf',\n",
       " 'gun_point_male_female',\n",
       " 'car',\n",
       " 'abnormal_heartbeat',\n",
       " 'distal_phalanax_tw',\n",
       " 'phalanges_outlines_correct',\n",
       " 'swedish_leaf',\n",
       " 'mote_strain',\n",
       " 'share_price_increase',\n",
       " 'large_kitchen_appliances',\n",
       " 'distal_phalanx_outline',\n",
       " 'strawberry',\n",
       " 'egg_five_days',\n",
       " 'earthquakes',\n",
       " 'electric_devices',\n",
       " 'fifty_words',\n",
       " 'freezers',\n",
       " 'synthetic_control',\n",
       " 'gun_point_age_span',\n",
       " 'trace',\n",
       " 'fish',\n",
       " 'middle_phalanx_age_group',\n",
       " 'lightning_7',\n",
       " 'colposcopy',\n",
       " 'cricket_y',\n",
       " 'coffee_beans',\n",
       " 'gun_point_old_young',\n",
       " 'middle_phalanx_correct',\n",
       " 'bme',\n",
       " 'plane',\n",
       " 'power_cons',\n",
       " 'face_ucr',\n",
       " 'medical_images',\n",
       " 'chlorine_concentration',\n",
       " 'dodger_loop_day',\n",
       " 'arrow_head',\n",
       " 'sony_robot']"
      ]
     },
     "execution_count": 3,
     "metadata": {},
     "output_type": "execute_result"
    }
   ],
   "source": [
    "dataset_names = [dataset.value for dataset in CurrentDatasets]\n",
    "dataset_names = [name for name in os.listdir(\"../datasets\") if not os.path.isdir(name)] # all datasets\n",
    "# in a nested list all elements on the same level get equal weights\n",
    "# eg [foo, [bar, bar, bar, [baz, baz]]] is weighted [1/2, [1/8, 1/8, 1/8, [1/16, 1/16]]]\n",
    "\n",
    "ensembles = {\"All\": [[f\"MLP-{number}\" for number in range(0,10)],\n",
    "                     [f\"FCN-{number}\" for number in range(0,10)],\n",
    "                     [f\"MCDCNN_improved-{number}\" for number in range(0,10)],\n",
    "                     [f\"Encoder-{number}\" for number in range(0,10)],\n",
    "                     [f\"Resnet-{number}\" for number in range(0,10)]],\n",
    "             \"MLP10\": [f\"MLP-{number}\" for number in range(0,10)],\n",
    "             \"FCN10\": [f\"FCN-{number}\" for number in range(0,10)],\n",
    "             \"MCDCNN_improved10\": [f\"MCDCNN_improved-{number}\" for number in range(0,10)],\n",
    "             \"Encoder10\": [f\"Encoder-{number}\" for number in range(0,10)],\n",
    "             \"Resnet10\": [f\"Resnet-{number}\" for number in range(0,10)],\n",
    "             \"NNE\": [[f\"Resnet-{number}\" for number in range(0,10)],\n",
    "                     [f\"FCN-{number}\" for number in range(0,10)],\n",
    "                     [f\"Encoder-{number}\" for number in range(0,10)]],\n",
    "             \"Best4\": [[f\"Resnet-{number}\" for number in range(0,10)],\n",
    "                       [f\"FCN-{number}\" for number in range(0,10)],\n",
    "                       [f\"MLP-{number}\" for number in range(0,10)],\n",
    "                       [f\"Encoder-{number}\" for number in range(0,10)]]}\n",
    "csv_name = '../results/ensembles_without_augmentation_all_datasets.csv'\n",
    "dataset_names"
   ]
  },
  {
   "cell_type": "code",
   "execution_count": 4,
   "metadata": {
    "collapsed": false,
    "jupyter": {
     "outputs_hidden": false
    }
   },
   "outputs": [
    {
     "data": {
      "text/plain": [
       "{'All': [['MLP-0',\n",
       "   'MLP-1',\n",
       "   'MLP-2',\n",
       "   'MLP-3',\n",
       "   'MLP-4',\n",
       "   'MLP-5',\n",
       "   'MLP-6',\n",
       "   'MLP-7',\n",
       "   'MLP-8',\n",
       "   'MLP-9'],\n",
       "  ['FCN-0',\n",
       "   'FCN-1',\n",
       "   'FCN-2',\n",
       "   'FCN-3',\n",
       "   'FCN-4',\n",
       "   'FCN-5',\n",
       "   'FCN-6',\n",
       "   'FCN-7',\n",
       "   'FCN-8',\n",
       "   'FCN-9'],\n",
       "  ['MCDCNN_improved-0',\n",
       "   'MCDCNN_improved-1',\n",
       "   'MCDCNN_improved-2',\n",
       "   'MCDCNN_improved-3',\n",
       "   'MCDCNN_improved-4',\n",
       "   'MCDCNN_improved-5',\n",
       "   'MCDCNN_improved-6',\n",
       "   'MCDCNN_improved-7',\n",
       "   'MCDCNN_improved-8',\n",
       "   'MCDCNN_improved-9'],\n",
       "  ['Encoder-0',\n",
       "   'Encoder-1',\n",
       "   'Encoder-2',\n",
       "   'Encoder-3',\n",
       "   'Encoder-4',\n",
       "   'Encoder-5',\n",
       "   'Encoder-6',\n",
       "   'Encoder-7',\n",
       "   'Encoder-8',\n",
       "   'Encoder-9'],\n",
       "  ['Resnet-0',\n",
       "   'Resnet-1',\n",
       "   'Resnet-2',\n",
       "   'Resnet-3',\n",
       "   'Resnet-4',\n",
       "   'Resnet-5',\n",
       "   'Resnet-6',\n",
       "   'Resnet-7',\n",
       "   'Resnet-8',\n",
       "   'Resnet-9']],\n",
       " 'MLP10': ['MLP-0',\n",
       "  'MLP-1',\n",
       "  'MLP-2',\n",
       "  'MLP-3',\n",
       "  'MLP-4',\n",
       "  'MLP-5',\n",
       "  'MLP-6',\n",
       "  'MLP-7',\n",
       "  'MLP-8',\n",
       "  'MLP-9'],\n",
       " 'FCN10': ['FCN-0',\n",
       "  'FCN-1',\n",
       "  'FCN-2',\n",
       "  'FCN-3',\n",
       "  'FCN-4',\n",
       "  'FCN-5',\n",
       "  'FCN-6',\n",
       "  'FCN-7',\n",
       "  'FCN-8',\n",
       "  'FCN-9'],\n",
       " 'MCDCNN_improved10': ['MCDCNN_improved-0',\n",
       "  'MCDCNN_improved-1',\n",
       "  'MCDCNN_improved-2',\n",
       "  'MCDCNN_improved-3',\n",
       "  'MCDCNN_improved-4',\n",
       "  'MCDCNN_improved-5',\n",
       "  'MCDCNN_improved-6',\n",
       "  'MCDCNN_improved-7',\n",
       "  'MCDCNN_improved-8',\n",
       "  'MCDCNN_improved-9'],\n",
       " 'Encoder10': ['Encoder-0',\n",
       "  'Encoder-1',\n",
       "  'Encoder-2',\n",
       "  'Encoder-3',\n",
       "  'Encoder-4',\n",
       "  'Encoder-5',\n",
       "  'Encoder-6',\n",
       "  'Encoder-7',\n",
       "  'Encoder-8',\n",
       "  'Encoder-9'],\n",
       " 'Resnet10': ['Resnet-0',\n",
       "  'Resnet-1',\n",
       "  'Resnet-2',\n",
       "  'Resnet-3',\n",
       "  'Resnet-4',\n",
       "  'Resnet-5',\n",
       "  'Resnet-6',\n",
       "  'Resnet-7',\n",
       "  'Resnet-8',\n",
       "  'Resnet-9'],\n",
       " 'NNE': [['Resnet-0',\n",
       "   'Resnet-1',\n",
       "   'Resnet-2',\n",
       "   'Resnet-3',\n",
       "   'Resnet-4',\n",
       "   'Resnet-5',\n",
       "   'Resnet-6',\n",
       "   'Resnet-7',\n",
       "   'Resnet-8',\n",
       "   'Resnet-9'],\n",
       "  ['FCN-0',\n",
       "   'FCN-1',\n",
       "   'FCN-2',\n",
       "   'FCN-3',\n",
       "   'FCN-4',\n",
       "   'FCN-5',\n",
       "   'FCN-6',\n",
       "   'FCN-7',\n",
       "   'FCN-8',\n",
       "   'FCN-9'],\n",
       "  ['Encoder-0',\n",
       "   'Encoder-1',\n",
       "   'Encoder-2',\n",
       "   'Encoder-3',\n",
       "   'Encoder-4',\n",
       "   'Encoder-5',\n",
       "   'Encoder-6',\n",
       "   'Encoder-7',\n",
       "   'Encoder-8',\n",
       "   'Encoder-9']],\n",
       " 'Best4': [['Resnet-0',\n",
       "   'Resnet-1',\n",
       "   'Resnet-2',\n",
       "   'Resnet-3',\n",
       "   'Resnet-4',\n",
       "   'Resnet-5',\n",
       "   'Resnet-6',\n",
       "   'Resnet-7',\n",
       "   'Resnet-8',\n",
       "   'Resnet-9'],\n",
       "  ['FCN-0',\n",
       "   'FCN-1',\n",
       "   'FCN-2',\n",
       "   'FCN-3',\n",
       "   'FCN-4',\n",
       "   'FCN-5',\n",
       "   'FCN-6',\n",
       "   'FCN-7',\n",
       "   'FCN-8',\n",
       "   'FCN-9'],\n",
       "  ['MLP-0',\n",
       "   'MLP-1',\n",
       "   'MLP-2',\n",
       "   'MLP-3',\n",
       "   'MLP-4',\n",
       "   'MLP-5',\n",
       "   'MLP-6',\n",
       "   'MLP-7',\n",
       "   'MLP-8',\n",
       "   'MLP-9'],\n",
       "  ['Encoder-0',\n",
       "   'Encoder-1',\n",
       "   'Encoder-2',\n",
       "   'Encoder-3',\n",
       "   'Encoder-4',\n",
       "   'Encoder-5',\n",
       "   'Encoder-6',\n",
       "   'Encoder-7',\n",
       "   'Encoder-8',\n",
       "   'Encoder-9']]}"
      ]
     },
     "execution_count": 4,
     "metadata": {},
     "output_type": "execute_result"
    }
   ],
   "source": [
    "used_ensembles=ensembles\n",
    "#used_ensembles=keyfilter(lambda ensemble: ensemble in [\"MLP10\"], ensembles)\n",
    "used_ensembles"
   ]
  },
  {
   "cell_type": "code",
   "execution_count": 6,
   "metadata": {
    "collapsed": false,
    "jupyter": {
     "outputs_hidden": false
    }
   },
   "outputs": [
    {
     "name": "stdout",
     "output_type": "stream",
     "text": [
      "1/37:\tcbf\n",
      "\tAll\n"
     ]
    },
    {
     "name": "stderr",
     "output_type": "stream",
     "text": [
      "/opt/bwhpc/common/jupyter/tensorflow/2023-01-02/lib/python3.8/site-packages/keras/layers/core/lambda_layer.py:324: UserWarning: ModelBuilder is not loaded, but a Lambda layer uses it. It may cause errors.\n",
      "  function = cls._parse_function_from_config(\n"
     ]
    },
    {
     "ename": "ValueError",
     "evalue": "Length of weights not compatible with specified axis.",
     "output_type": "error",
     "traceback": [
      "\u001b[0;31m---------------------------------------------------------------------------\u001b[0m",
      "\u001b[0;31mValueError\u001b[0m                                Traceback (most recent call last)",
      "Cell \u001b[0;32mIn[6], line 6\u001b[0m\n\u001b[1;32m      1\u001b[0m ens_builder \u001b[38;5;241m=\u001b[39m EnsembleBuilder(dataset_names\u001b[38;5;241m=\u001b[39mdataset_names, \n\u001b[1;32m      2\u001b[0m                               ensembles\u001b[38;5;241m=\u001b[39mused_ensembles, \n\u001b[1;32m      3\u001b[0m                               verbose\u001b[38;5;241m=\u001b[39m\u001b[38;5;28;01mTrue\u001b[39;00m,\n\u001b[1;32m      4\u001b[0m                               models_path\u001b[38;5;241m=\u001b[39m\u001b[38;5;124m\"\u001b[39m\u001b[38;5;124m../models/\u001b[39m\u001b[38;5;124m\"\u001b[39m,\n\u001b[1;32m      5\u001b[0m                               datasets_path\u001b[38;5;241m=\u001b[39m\u001b[38;5;124m\"\u001b[39m\u001b[38;5;124m../datasets/\u001b[39m\u001b[38;5;124m\"\u001b[39m)\n\u001b[0;32m----> 6\u001b[0m \u001b[43mens_builder\u001b[49m\u001b[38;5;241;43m.\u001b[39;49m\u001b[43mrun_ensembles\u001b[49m\u001b[43m(\u001b[49m\u001b[43maugmentation\u001b[49m\u001b[38;5;241;43m=\u001b[39;49m\u001b[38;5;28;43;01mFalse\u001b[39;49;00m\u001b[43m)\u001b[49m\u001b[38;5;241m.\u001b[39mto_csv(csv_name)\n",
      "File \u001b[0;32m/pfs/data5/home/ul/ul_student/ul_dgb62/project deep learning/EnsembleBasedTSC/src/EnsembleBuilder.py:61\u001b[0m, in \u001b[0;36mEnsembleBuilder.run_ensembles\u001b[0;34m(self, augmentation)\u001b[0m\n\u001b[1;32m     59\u001b[0m     \u001b[38;5;28;01mif\u001b[39;00m \u001b[38;5;28mself\u001b[39m\u001b[38;5;241m.\u001b[39mverbose:\n\u001b[1;32m     60\u001b[0m         \u001b[38;5;28mprint\u001b[39m(\u001b[38;5;124mf\u001b[39m\u001b[38;5;124m\"\u001b[39m\u001b[38;5;130;01m\\t\u001b[39;00m\u001b[38;5;132;01m{\u001b[39;00mensemble_name\u001b[38;5;132;01m}\u001b[39;00m\u001b[38;5;124m\"\u001b[39m)\n\u001b[0;32m---> 61\u001b[0m     \u001b[38;5;28;01mfor\u001b[39;00m row \u001b[38;5;129;01min\u001b[39;00m \u001b[38;5;28;43mself\u001b[39;49m\u001b[38;5;241;43m.\u001b[39;49m\u001b[43m_run_ensemble\u001b[49m\u001b[43m(\u001b[49m\n\u001b[1;32m     62\u001b[0m \u001b[43m        \u001b[49m\u001b[43mensemble_name\u001b[49m\u001b[43m,\u001b[49m\u001b[43m \u001b[49m\u001b[43mmodel_names\u001b[49m\u001b[43m,\u001b[49m\u001b[43m \u001b[49m\u001b[43mdataset_name\u001b[49m\u001b[43m,\u001b[49m\u001b[43m \u001b[49m\u001b[43maugmentation\u001b[49m\n\u001b[1;32m     63\u001b[0m \u001b[43m    \u001b[49m\u001b[43m)\u001b[49m:\n\u001b[1;32m     64\u001b[0m         result\u001b[38;5;241m.\u001b[39mloc[\u001b[38;5;28mlen\u001b[39m(result)] \u001b[38;5;241m=\u001b[39m row\n\u001b[1;32m     65\u001b[0m i \u001b[38;5;241m=\u001b[39m i \u001b[38;5;241m+\u001b[39m \u001b[38;5;241m1\u001b[39m\n",
      "File \u001b[0;32m/pfs/data5/home/ul/ul_student/ul_dgb62/project deep learning/EnsembleBasedTSC/src/EnsembleBuilder.py:91\u001b[0m, in \u001b[0;36mEnsembleBuilder._run_ensemble\u001b[0;34m(self, ensemble_name, model_names, evaluation_dataset, augmentation)\u001b[0m\n\u001b[1;32m     88\u001b[0m \u001b[38;5;28;01mif\u001b[39;00m augmentation:\n\u001b[1;32m     89\u001b[0m     x_test \u001b[38;5;241m=\u001b[39m np\u001b[38;5;241m.\u001b[39marray(\u001b[38;5;28mlist\u001b[39m(\u001b[38;5;28mmap\u001b[39m(add_additive_white_gaussian_noise, x_test)))\n\u001b[0;32m---> 91\u001b[0m predicted_classes \u001b[38;5;241m=\u001b[39m \u001b[38;5;28;43mself\u001b[39;49m\u001b[38;5;241;43m.\u001b[39;49m\u001b[43m_get_ensemble_predictions\u001b[49m\u001b[43m(\u001b[49m\n\u001b[1;32m     92\u001b[0m \u001b[43m    \u001b[49m\u001b[43mx_test\u001b[49m\u001b[43m,\u001b[49m\u001b[43m \u001b[49m\u001b[43mevaluation_dataset\u001b[49m\u001b[43m,\u001b[49m\u001b[43m \u001b[49m\u001b[43mmodel_names\u001b[49m\n\u001b[1;32m     93\u001b[0m \u001b[43m\u001b[49m\u001b[43m)\u001b[49m\n\u001b[1;32m     95\u001b[0m dataset_names \u001b[38;5;241m=\u001b[39m [evaluation_dataset \u001b[38;5;28;01mfor\u001b[39;00m _ \u001b[38;5;129;01min\u001b[39;00m \u001b[38;5;28mself\u001b[39m\u001b[38;5;241m.\u001b[39mensemble_methods]\n\u001b[1;32m     96\u001b[0m display_names \u001b[38;5;241m=\u001b[39m [\n\u001b[1;32m     97\u001b[0m     \u001b[38;5;124mf\u001b[39m\u001b[38;5;124m\"\u001b[39m\u001b[38;5;132;01m{\u001b[39;00mensemble_name\u001b[38;5;132;01m}\u001b[39;00m\u001b[38;5;124m-\u001b[39m\u001b[38;5;132;01m{\u001b[39;00mmethod_name\u001b[38;5;132;01m}\u001b[39;00m\u001b[38;5;124m\"\u001b[39m \u001b[38;5;28;01mfor\u001b[39;00m method_name \u001b[38;5;129;01min\u001b[39;00m \u001b[38;5;28mself\u001b[39m\u001b[38;5;241m.\u001b[39mensemble_methods\n\u001b[1;32m     98\u001b[0m ]\n",
      "File \u001b[0;32m/pfs/data5/home/ul/ul_student/ul_dgb62/project deep learning/EnsembleBasedTSC/src/EnsembleBuilder.py:131\u001b[0m, in \u001b[0;36mEnsembleBuilder._get_ensemble_predictions\u001b[0;34m(self, x, evaluation_dataset, model_names, check_identical)\u001b[0m\n\u001b[1;32m    122\u001b[0m models \u001b[38;5;241m=\u001b[39m \u001b[38;5;28mself\u001b[39m\u001b[38;5;241m.\u001b[39m_load_models(evaluation_dataset, models)\n\u001b[1;32m    123\u001b[0m ensembles \u001b[38;5;241m=\u001b[39m \u001b[38;5;28mlist\u001b[39m(\n\u001b[1;32m    124\u001b[0m     \u001b[38;5;28mmap\u001b[39m(\n\u001b[1;32m    125\u001b[0m         \u001b[38;5;28;01mlambda\u001b[39;00m ensemble_type: Ensemble(\n\u001b[0;32m   (...)\u001b[0m\n\u001b[1;32m    129\u001b[0m     )\n\u001b[1;32m    130\u001b[0m )\n\u001b[0;32m--> 131\u001b[0m predictions \u001b[38;5;241m=\u001b[39m \u001b[38;5;28;43mlist\u001b[39;49m\u001b[43m(\u001b[49m\n\u001b[1;32m    132\u001b[0m \u001b[43m    \u001b[49m\u001b[38;5;28;43mmap\u001b[39;49m\u001b[43m(\u001b[49m\n\u001b[1;32m    133\u001b[0m \u001b[43m        \u001b[49m\u001b[38;5;28;43;01mlambda\u001b[39;49;00m\u001b[43m \u001b[49m\u001b[43mensemble\u001b[49m\u001b[43m:\u001b[49m\u001b[43m \u001b[49m\u001b[43mnp\u001b[49m\u001b[38;5;241;43m.\u001b[39;49m\u001b[43marray\u001b[49m\u001b[43m(\u001b[49m\u001b[43mensemble\u001b[49m\u001b[38;5;241;43m.\u001b[39;49m\u001b[43m__ensemble_method__\u001b[49m\u001b[43m(\u001b[49m\u001b[43mx\u001b[49m\u001b[43m,\u001b[49m\u001b[43m \u001b[49m\u001b[43mverbose\u001b[49m\u001b[38;5;241;43m=\u001b[39;49m\u001b[38;5;241;43m0\u001b[39;49m\u001b[43m)\u001b[49m\u001b[43m)\u001b[49m\u001b[43m,\u001b[49m\n\u001b[1;32m    134\u001b[0m \u001b[43m        \u001b[49m\u001b[43mensembles\u001b[49m\u001b[43m,\u001b[49m\n\u001b[1;32m    135\u001b[0m \u001b[43m    \u001b[49m\u001b[43m)\u001b[49m\n\u001b[1;32m    136\u001b[0m \u001b[43m\u001b[49m\u001b[43m)\u001b[49m\n\u001b[1;32m    137\u001b[0m \u001b[38;5;66;03m# check for identical predictions\u001b[39;00m\n\u001b[1;32m    138\u001b[0m \u001b[38;5;28;01mif\u001b[39;00m check_identical:\n",
      "File \u001b[0;32m/pfs/data5/home/ul/ul_student/ul_dgb62/project deep learning/EnsembleBasedTSC/src/EnsembleBuilder.py:133\u001b[0m, in \u001b[0;36mEnsembleBuilder._get_ensemble_predictions.<locals>.<lambda>\u001b[0;34m(ensemble)\u001b[0m\n\u001b[1;32m    122\u001b[0m models \u001b[38;5;241m=\u001b[39m \u001b[38;5;28mself\u001b[39m\u001b[38;5;241m.\u001b[39m_load_models(evaluation_dataset, models)\n\u001b[1;32m    123\u001b[0m ensembles \u001b[38;5;241m=\u001b[39m \u001b[38;5;28mlist\u001b[39m(\n\u001b[1;32m    124\u001b[0m     \u001b[38;5;28mmap\u001b[39m(\n\u001b[1;32m    125\u001b[0m         \u001b[38;5;28;01mlambda\u001b[39;00m ensemble_type: Ensemble(\n\u001b[0;32m   (...)\u001b[0m\n\u001b[1;32m    129\u001b[0m     )\n\u001b[1;32m    130\u001b[0m )\n\u001b[1;32m    131\u001b[0m predictions \u001b[38;5;241m=\u001b[39m \u001b[38;5;28mlist\u001b[39m(\n\u001b[1;32m    132\u001b[0m     \u001b[38;5;28mmap\u001b[39m(\n\u001b[0;32m--> 133\u001b[0m         \u001b[38;5;28;01mlambda\u001b[39;00m ensemble: np\u001b[38;5;241m.\u001b[39marray(\u001b[43mensemble\u001b[49m\u001b[38;5;241;43m.\u001b[39;49m\u001b[43m__ensemble_method__\u001b[49m\u001b[43m(\u001b[49m\u001b[43mx\u001b[49m\u001b[43m,\u001b[49m\u001b[43m \u001b[49m\u001b[43mverbose\u001b[49m\u001b[38;5;241;43m=\u001b[39;49m\u001b[38;5;241;43m0\u001b[39;49m\u001b[43m)\u001b[49m),\n\u001b[1;32m    134\u001b[0m         ensembles,\n\u001b[1;32m    135\u001b[0m     )\n\u001b[1;32m    136\u001b[0m )\n\u001b[1;32m    137\u001b[0m \u001b[38;5;66;03m# check for identical predictions\u001b[39;00m\n\u001b[1;32m    138\u001b[0m \u001b[38;5;28;01mif\u001b[39;00m check_identical:\n",
      "File \u001b[0;32m/pfs/data5/home/ul/ul_student/ul_dgb62/project deep learning/EnsembleBasedTSC/src/Ensemble.py:64\u001b[0m, in \u001b[0;36mEnsemble.__average__\u001b[0;34m(self, x, verbose)\u001b[0m\n\u001b[1;32m     62\u001b[0m \u001b[38;5;28;01mdef\u001b[39;00m \u001b[38;5;21m__average__\u001b[39m(\u001b[38;5;28mself\u001b[39m, x, verbose\u001b[38;5;241m=\u001b[39m\u001b[38;5;124m\"\u001b[39m\u001b[38;5;124mauto\u001b[39m\u001b[38;5;124m\"\u001b[39m):\n\u001b[1;32m     63\u001b[0m     pred \u001b[38;5;241m=\u001b[39m \u001b[38;5;28mself\u001b[39m\u001b[38;5;241m.\u001b[39mget_all_predictions(x, verbose)\n\u001b[0;32m---> 64\u001b[0m     \u001b[38;5;28;01mreturn\u001b[39;00m tf\u001b[38;5;241m.\u001b[39margmax(\u001b[43mnp\u001b[49m\u001b[38;5;241;43m.\u001b[39;49m\u001b[43maverage\u001b[49m\u001b[43m(\u001b[49m\u001b[43mpred\u001b[49m\u001b[43m,\u001b[49m\u001b[43m \u001b[49m\u001b[43maxis\u001b[49m\u001b[38;5;241;43m=\u001b[39;49m\u001b[38;5;241;43m0\u001b[39;49m\u001b[43m,\u001b[49m\u001b[43m \u001b[49m\u001b[43mweights\u001b[49m\u001b[38;5;241;43m=\u001b[39;49m\u001b[38;5;28;43mself\u001b[39;49m\u001b[38;5;241;43m.\u001b[39;49m\u001b[43mmodel_weights\u001b[49m\u001b[43m)\u001b[49m, axis\u001b[38;5;241m=\u001b[39m\u001b[38;5;241m-\u001b[39m\u001b[38;5;241m1\u001b[39m)\n",
      "File \u001b[0;32m<__array_function__ internals>:200\u001b[0m, in \u001b[0;36maverage\u001b[0;34m(*args, **kwargs)\u001b[0m\n",
      "File \u001b[0;32m/opt/bwhpc/common/jupyter/tensorflow/2023-01-02/lib/python3.8/site-packages/numpy/lib/function_base.py:539\u001b[0m, in \u001b[0;36maverage\u001b[0;34m(a, axis, weights, returned, keepdims)\u001b[0m\n\u001b[1;32m    536\u001b[0m     \u001b[38;5;28;01mraise\u001b[39;00m \u001b[38;5;167;01mTypeError\u001b[39;00m(\n\u001b[1;32m    537\u001b[0m         \u001b[38;5;124m\"\u001b[39m\u001b[38;5;124m1D weights expected when shapes of a and weights differ.\u001b[39m\u001b[38;5;124m\"\u001b[39m)\n\u001b[1;32m    538\u001b[0m \u001b[38;5;28;01mif\u001b[39;00m wgt\u001b[38;5;241m.\u001b[39mshape[\u001b[38;5;241m0\u001b[39m] \u001b[38;5;241m!=\u001b[39m a\u001b[38;5;241m.\u001b[39mshape[axis]:\n\u001b[0;32m--> 539\u001b[0m     \u001b[38;5;28;01mraise\u001b[39;00m \u001b[38;5;167;01mValueError\u001b[39;00m(\n\u001b[1;32m    540\u001b[0m         \u001b[38;5;124m\"\u001b[39m\u001b[38;5;124mLength of weights not compatible with specified axis.\u001b[39m\u001b[38;5;124m\"\u001b[39m)\n\u001b[1;32m    542\u001b[0m \u001b[38;5;66;03m# setup wgt to broadcast along axis\u001b[39;00m\n\u001b[1;32m    543\u001b[0m wgt \u001b[38;5;241m=\u001b[39m np\u001b[38;5;241m.\u001b[39mbroadcast_to(wgt, (a\u001b[38;5;241m.\u001b[39mndim\u001b[38;5;241m-\u001b[39m\u001b[38;5;241m1\u001b[39m)\u001b[38;5;241m*\u001b[39m(\u001b[38;5;241m1\u001b[39m,) \u001b[38;5;241m+\u001b[39m wgt\u001b[38;5;241m.\u001b[39mshape)\n",
      "\u001b[0;31mValueError\u001b[0m: Length of weights not compatible with specified axis."
     ]
    }
   ],
   "source": [
    "ens_builder = EnsembleBuilder(dataset_names=dataset_names, \n",
    "                              ensembles=used_ensembles, \n",
    "                              verbose=True,\n",
    "                              models_path=\"../models/\",\n",
    "                              datasets_path=\"../datasets/\")\n",
    "ens_builder.run_ensembles(augmentation=False).to_csv(csv_name)"
   ]
  },
  {
   "cell_type": "code",
   "execution_count": null,
   "metadata": {
    "collapsed": false,
    "jupyter": {
     "outputs_hidden": false
    }
   },
   "outputs": [],
   "source": [
    "create_confusion_matrix_plot_from_csv(csv_name, verbose=True)"
   ]
  },
  {
   "cell_type": "code",
   "execution_count": null,
   "metadata": {
    "collapsed": false,
    "jupyter": {
     "outputs_hidden": false
    }
   },
   "outputs": [],
   "source": [
    "create_confusion_matrix_plot_from_csv(\"../results/train__Encoder_Encoder_Encoder_Encoder_Encoder_Encoder_Encoder_Encoder_Encoder_Encoder_11_datasets.csv\", verbose=True)"
   ]
  },
  {
   "cell_type": "code",
   "execution_count": null,
   "metadata": {
    "collapsed": false,
    "jupyter": {
     "outputs_hidden": false
    }
   },
   "outputs": [],
   "source": []
  }
 ],
 "metadata": {
  "kernelspec": {
   "display_name": "ts_ensemble",
   "language": "python",
   "name": "ts_ensemble"
  },
  "language_info": {
   "codemirror_mode": {
    "name": "ipython",
    "version": 3
   },
   "file_extension": ".py",
   "mimetype": "text/x-python",
   "name": "python",
   "nbconvert_exporter": "python",
   "pygments_lexer": "ipython3",
   "version": "3.8.6"
  }
 },
 "nbformat": 4,
 "nbformat_minor": 4
}
