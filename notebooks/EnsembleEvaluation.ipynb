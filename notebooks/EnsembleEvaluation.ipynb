{
 "cells": [
  {
   "cell_type": "code",
   "execution_count": 5,
   "metadata": {
    "collapsed": true,
    "jupyter": {
     "outputs_hidden": true
    }
   },
   "outputs": [],
   "source": [
    "import logging\n",
    "import os\n",
    "\n",
    "import numpy as np\n",
    "\n",
    "os.environ['TF_CPP_MIN_LOG_LEVEL'] = '3'\n",
    "logging.getLogger().setLevel(logging.ERROR)\n",
    "import tensorflow as tf\n",
    "tf.get_logger().setLevel(logging.ERROR)\n",
    "\n",
    "import sys\n",
    "sys.path.append(\"../src\")\n",
    "\n",
    "from toolz import keyfilter\n",
    "\n",
    "from Evaluation import create_confusion_matrix_plot_from_csv\n",
    "from LoadData import CurrentDatasets\n",
    "from EnsembleBuilder import EnsembleBuilder"
   ]
  },
  {
   "cell_type": "code",
   "execution_count": 37,
   "metadata": {
    "collapsed": false,
    "jupyter": {
     "outputs_hidden": false
    }
   },
   "outputs": [],
   "source": [
    "dataset_names = [dataset.value for dataset in CurrentDatasets]\n",
    "\n",
    "# in a nested list all elements on the same level get equal weights\n",
    "# eg [foo, [bar, bar, bar, [baz, baz]]] is weighted [1/2, [1/8, 1/8, 1/8, [1/16, 1/16]]]\n",
    "\n",
    "ensembles = {\"All\": [[f\"MLP-{number}\" for number in range(0,10)],\n",
    "                     [f\"FCN-{number}\" for number in range(0,10)],\n",
    "                     #[f\"MCDCNN-{number}\" for number in range(0,10)],\n",
    "                     #[f\"Time-CNN-{number}\" for number in range(0,10)],\n",
    "                     [f\"Encoder-{number}\" for number in range(0,10)],\n",
    "                     [f\"Resnet-{number}\" for number in range(0,10)]],\n",
    "             \"MLP10\": [f\"MLP-{number}\" for number in range(0,10)],\n",
    "             \"FCN10\": [f\"FCN-{number}\" for number in range(0,10)],\n",
    "             #\"MCDCNN10\": [f\"MCDCNN-{number}\" for number in range(0,10)],\n",
    "             #\"Time-CNN10\": [f\"Time-CNN-{number}\" for number in range(0,10)],\n",
    "             \"Encoder10\": [f\"Encoder-{number}\" for number in range(0,10)],\n",
    "             \"Resnet10\": [f\"Resnet-{number}\" for number in range(0,10)],\n",
    "             \"NNE\": [[f\"Resnet-{number}\" for number in range(0,10)],\n",
    "                     [f\"FCN-{number}\" for number in range(0,10)],\n",
    "                     [f\"Encoder-{number}\" for number in range(0,10)]]}\n",
    "csv_name = '../results/test_FCN10.csv'"
   ]
  },
  {
   "cell_type": "code",
   "execution_count": 38,
   "metadata": {
    "collapsed": false,
    "jupyter": {
     "outputs_hidden": false
    }
   },
   "outputs": [
    {
     "data": {
      "text/plain": [
       "{'FCN10': ['FCN-0',\n",
       "  'FCN-1',\n",
       "  'FCN-2',\n",
       "  'FCN-3',\n",
       "  'FCN-4',\n",
       "  'FCN-5',\n",
       "  'FCN-6',\n",
       "  'FCN-7',\n",
       "  'FCN-8',\n",
       "  'FCN-9']}"
      ]
     },
     "execution_count": 38,
     "metadata": {},
     "output_type": "execute_result"
    }
   ],
   "source": [
    "used_ensembles=ensembles\n",
    "used_ensembles=keyfilter(lambda ensemble: ensemble in [\"FCN10\"], ensembles)\n",
    "used_ensembles"
   ]
  },
  {
   "cell_type": "code",
   "execution_count": 39,
   "metadata": {
    "collapsed": false,
    "jupyter": {
     "outputs_hidden": false
    }
   },
   "outputs": [
    {
     "name": "stdout",
     "output_type": "stream",
     "text": [
      "1/11:\tcricket_y\n",
      "('FCN-0', 'FCN-1', 'FCN-2', 'FCN-3', 'FCN-4', 'FCN-5', 'FCN-6', 'FCN-7', 'FCN-8', 'FCN-9')\n",
      "(0.1, 0.1, 0.1, 0.1, 0.1, 0.1, 0.1, 0.1, 0.1, 0.1)\n",
      "2/11:\tdistal_phalanax_tw\n",
      "('FCN-0', 'FCN-1', 'FCN-2', 'FCN-3', 'FCN-4', 'FCN-5', 'FCN-6', 'FCN-7', 'FCN-8', 'FCN-9')\n",
      "(0.1, 0.1, 0.1, 0.1, 0.1, 0.1, 0.1, 0.1, 0.1, 0.1)\n",
      "3/11:\tegg_five_days\n",
      "('FCN-0', 'FCN-1', 'FCN-2', 'FCN-3', 'FCN-4', 'FCN-5', 'FCN-6', 'FCN-7', 'FCN-8', 'FCN-9')\n",
      "(0.1, 0.1, 0.1, 0.1, 0.1, 0.1, 0.1, 0.1, 0.1, 0.1)\n",
      "4/11:\telectric_devices\n",
      "('FCN-0', 'FCN-1', 'FCN-2', 'FCN-3', 'FCN-4', 'FCN-5', 'FCN-6', 'FCN-7', 'FCN-8', 'FCN-9')\n",
      "(0.1, 0.1, 0.1, 0.1, 0.1, 0.1, 0.1, 0.1, 0.1, 0.1)\n",
      "5/11:\tface_ucr\n",
      "('FCN-0', 'FCN-1', 'FCN-2', 'FCN-3', 'FCN-4', 'FCN-5', 'FCN-6', 'FCN-7', 'FCN-8', 'FCN-9')\n",
      "(0.1, 0.1, 0.1, 0.1, 0.1, 0.1, 0.1, 0.1, 0.1, 0.1)\n",
      "6/11:\tfifty_words\n",
      "('FCN-0', 'FCN-1', 'FCN-2', 'FCN-3', 'FCN-4', 'FCN-5', 'FCN-6', 'FCN-7', 'FCN-8', 'FCN-9')\n",
      "(0.1, 0.1, 0.1, 0.1, 0.1, 0.1, 0.1, 0.1, 0.1, 0.1)\n",
      "7/11:\tmote_strain\n",
      "('FCN-0', 'FCN-1', 'FCN-2', 'FCN-3', 'FCN-4', 'FCN-5', 'FCN-6', 'FCN-7', 'FCN-8', 'FCN-9')\n",
      "(0.1, 0.1, 0.1, 0.1, 0.1, 0.1, 0.1, 0.1, 0.1, 0.1)\n",
      "8/11:\tpower_cons\n",
      "('FCN-0', 'FCN-1', 'FCN-2', 'FCN-3', 'FCN-4', 'FCN-5', 'FCN-6', 'FCN-7', 'FCN-8', 'FCN-9')\n",
      "(0.1, 0.1, 0.1, 0.1, 0.1, 0.1, 0.1, 0.1, 0.1, 0.1)\n",
      "9/11:\tsony_robot\n",
      "('FCN-0', 'FCN-1', 'FCN-2', 'FCN-3', 'FCN-4', 'FCN-5', 'FCN-6', 'FCN-7', 'FCN-8', 'FCN-9')\n",
      "(0.1, 0.1, 0.1, 0.1, 0.1, 0.1, 0.1, 0.1, 0.1, 0.1)\n",
      "10/11:\tswedish_leaf\n",
      "('FCN-0', 'FCN-1', 'FCN-2', 'FCN-3', 'FCN-4', 'FCN-5', 'FCN-6', 'FCN-7', 'FCN-8', 'FCN-9')\n",
      "(0.1, 0.1, 0.1, 0.1, 0.1, 0.1, 0.1, 0.1, 0.1, 0.1)\n",
      "11/11:\tsynthetic_control\n",
      "('FCN-0', 'FCN-1', 'FCN-2', 'FCN-3', 'FCN-4', 'FCN-5', 'FCN-6', 'FCN-7', 'FCN-8', 'FCN-9')\n",
      "(0.1, 0.1, 0.1, 0.1, 0.1, 0.1, 0.1, 0.1, 0.1, 0.1)\n"
     ]
    }
   ],
   "source": [
    "ens_builder = EnsembleBuilder(dataset_names=dataset_names, \n",
    "                              ensembles=used_ensembles, \n",
    "                              verbose=True, \n",
    "                              models_path=\"../models\", \n",
    "                              datasets_path=\"../datasets\")\n",
    "ens_builder.run_ensembles(augmentation=False).to_csv(csv_name)\n",
    "create_confusion_matrix_plot_from_csv(csv_name, verbose=True)"
   ]
  },
  {
   "cell_type": "code",
   "execution_count": 40,
   "metadata": {
    "collapsed": false,
    "jupyter": {
     "outputs_hidden": false
    }
   },
   "outputs": [
    {
     "name": "stdout",
     "output_type": "stream",
     "text": [
      "cricket_y\n",
      "distal_phalanax_tw\n",
      "egg_five_days\n",
      "electric_devices\n",
      "face_ucr\n",
      "fifty_words\n",
      "mote_strain\n",
      "power_cons\n",
      "sony_robot\n",
      "swedish_leaf\n",
      "synthetic_control\n"
     ]
    }
   ],
   "source": [
    "create_confusion_matrix_plot_from_csv(csv_name, verbose=True)"
   ]
  },
  {
   "cell_type": "code",
   "execution_count": 13,
   "metadata": {
    "collapsed": false,
    "jupyter": {
     "outputs_hidden": false
    }
   },
   "outputs": [
    {
     "name": "stdout",
     "output_type": "stream",
     "text": [
      "cricket_y\n",
      "distal_phalanax_tw\n",
      "egg_five_days\n",
      "electric_devices\n",
      "face_ucr\n",
      "fifty_words\n",
      "mote_strain\n",
      "power_cons\n",
      "sony_robot\n",
      "swedish_leaf\n",
      "synthetic_control\n"
     ]
    }
   ],
   "source": [
    "create_confusion_matrix_plot_from_csv(\"../results/train__Encoder_Encoder_Encoder_Encoder_Encoder_Encoder_Encoder_Encoder_Encoder_Encoder_11_datasets.csv\", verbose=True)"
   ]
  },
  {
   "cell_type": "code",
   "execution_count": null,
   "metadata": {
    "collapsed": false,
    "jupyter": {
     "outputs_hidden": false
    }
   },
   "outputs": [],
   "source": []
  }
 ],
 "metadata": {
  "kernelspec": {
   "display_name": "Python 3 (ipykernel)",
   "language": "python",
   "name": "python3"
  },
  "language_info": {
   "codemirror_mode": {
    "name": "ipython",
    "version": 3
   },
   "file_extension": ".py",
   "mimetype": "text/x-python",
   "name": "python",
   "nbconvert_exporter": "python",
   "pygments_lexer": "ipython3",
   "version": "3.8.6"
  }
 },
 "nbformat": 4,
 "nbformat_minor": 4
}
