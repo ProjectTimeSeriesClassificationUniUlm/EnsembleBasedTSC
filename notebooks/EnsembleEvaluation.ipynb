{
 "cells": [
  {
   "cell_type": "code",
   "execution_count": 1,
   "metadata": {
    "tags": []
   },
   "outputs": [],
   "source": [
    "import logging\n",
    "import os\n",
    "\n",
    "import numpy as np\n",
    "\n",
    "os.environ['TF_CPP_MIN_LOG_LEVEL'] = '3'\n",
    "logging.getLogger().setLevel(logging.ERROR)\n",
    "import tensorflow as tf\n",
    "tf.get_logger().setLevel(logging.ERROR)\n",
    "\n",
    "import sys\n",
    "sys.path.append(\"../src\")\n",
    "\n",
    "from toolz import keyfilter\n",
    "\n",
    "from Evaluation import run_ensembles, load_models\n",
    "from LoadData import CurrentDatasets\n",
    "from Helpers import create_confusion_matrix_plot_from_csv"
   ]
  },
  {
   "cell_type": "code",
   "execution_count": 2,
   "metadata": {
    "collapsed": false,
    "jupyter": {
     "outputs_hidden": false
    }
   },
   "outputs": [],
   "source": [
    "dataset_names = [dataset.value for dataset in CurrentDatasets]\n",
    "\n",
    "# in a nested list all elements on the same level get equal weights\n",
    "# eg [foo, [bar, bar, bar, [baz, baz]]] is weighted [1/2, [1/8, 1/8, 1/8, [1/16, 1/16]]]\n",
    "\n",
    "ensembles = {\"All\": [\"Encoder\", \"FCN\", \"MCDCNN\", \"MLP\", \"Resnet\", \"Time_CNN\"],\n",
    "             \"Best3\": [\"Encoder\", \"Resnet\", \"MLP\"],\n",
    "             \"Resnet10\": [f\"Resnet-{number}\" for number in range(0,10)],\n",
    "             \"NNE\": [[f\"Resnet-{number}\" for number in range(0,10)], \"FCN\", \"Encoder\"]}\n",
    "csv_name = '../results/test_Ensembles.csv'"
   ]
  },
  {
   "cell_type": "code",
   "execution_count": 3,
   "metadata": {
    "collapsed": false,
    "jupyter": {
     "outputs_hidden": false
    }
   },
   "outputs": [],
   "source": [
    "used_ensembles=ensembles #keyfilter(lambda ensemble: ensemble in [\"Resnet10\"], ensembles)"
   ]
  },
  {
   "cell_type": "code",
   "execution_count": 4,
   "metadata": {
    "collapsed": false,
    "jupyter": {
     "outputs_hidden": false
    }
   },
   "outputs": [
    {
     "name": "stdout",
     "output_type": "stream",
     "text": [
      "1/11:\tcricket_y\n",
      "('Encoder', 'FCN', 'MCDCNN', 'MLP', 'Resnet', 'Time_CNN')\n",
      "(0.16666666666666666, 0.16666666666666666, 0.16666666666666666, 0.16666666666666666, 0.16666666666666666, 0.16666666666666666)\n"
     ]
    },
    {
     "ename": "AttributeError",
     "evalue": "'str' object has no attribute 'removesuffix'",
     "output_type": "error",
     "traceback": [
      "\u001b[0;31m---------------------------------------------------------------------------\u001b[0m",
      "\u001b[0;31mAttributeError\u001b[0m                            Traceback (most recent call last)",
      "Cell \u001b[0;32mIn[4], line 1\u001b[0m\n\u001b[0;32m----> 1\u001b[0m \u001b[43mrun_ensembles\u001b[49m\u001b[43m(\u001b[49m\u001b[43mdataset_names\u001b[49m\u001b[38;5;241;43m=\u001b[39;49m\u001b[43mdataset_names\u001b[49m\u001b[43m,\u001b[49m\u001b[43m \u001b[49m\u001b[43mensembles\u001b[49m\u001b[38;5;241;43m=\u001b[39;49m\u001b[43mused_ensembles\u001b[49m\u001b[43m,\u001b[49m\u001b[43m \u001b[49m\u001b[43mverbose\u001b[49m\u001b[38;5;241;43m=\u001b[39;49m\u001b[38;5;28;43;01mTrue\u001b[39;49;00m\u001b[43m)\u001b[49m\u001b[38;5;241m.\u001b[39mto_csv(csv_name)\n",
      "File \u001b[0;32m/pfs/data5/home/ul/ul_student/ul_dgb62/project deep learning/EnsembleBasedTSC/src/Evaluation.py:150\u001b[0m, in \u001b[0;36mrun_ensembles\u001b[0;34m(dataset_names, ensembles, verbose)\u001b[0m\n\u001b[1;32m    148\u001b[0m     \u001b[38;5;28mprint\u001b[39m(\u001b[38;5;124mf\u001b[39m\u001b[38;5;124m\"\u001b[39m\u001b[38;5;132;01m{\u001b[39;00mi\u001b[38;5;132;01m}\u001b[39;00m\u001b[38;5;124m/\u001b[39m\u001b[38;5;132;01m{\u001b[39;00m\u001b[38;5;28mlen\u001b[39m(dataset_names)\u001b[38;5;132;01m}\u001b[39;00m\u001b[38;5;124m:\u001b[39m\u001b[38;5;130;01m\\t\u001b[39;00m\u001b[38;5;132;01m{\u001b[39;00mdataset_name\u001b[38;5;132;01m}\u001b[39;00m\u001b[38;5;124m\"\u001b[39m)\n\u001b[1;32m    149\u001b[0m \u001b[38;5;28;01mfor\u001b[39;00m ensemble_name, model_names \u001b[38;5;129;01min\u001b[39;00m ensembles\u001b[38;5;241m.\u001b[39mitems():\n\u001b[0;32m--> 150\u001b[0m     \u001b[38;5;28;01mfor\u001b[39;00m row \u001b[38;5;129;01min\u001b[39;00m \u001b[43mrun_ensemble\u001b[49m\u001b[43m(\u001b[49m\u001b[43mdataset_name\u001b[49m\u001b[43m,\u001b[49m\u001b[43m \u001b[49m\u001b[43mmodel_names\u001b[49m\u001b[43m,\u001b[49m\u001b[43m \u001b[49m\u001b[43mensemble_name\u001b[49m\u001b[43m)\u001b[49m:\n\u001b[1;32m    151\u001b[0m         result\u001b[38;5;241m.\u001b[39mloc[\u001b[38;5;28mlen\u001b[39m(result)] \u001b[38;5;241m=\u001b[39m row\n\u001b[1;32m    152\u001b[0m i \u001b[38;5;241m=\u001b[39m i \u001b[38;5;241m+\u001b[39m \u001b[38;5;241m1\u001b[39m\n",
      "File \u001b[0;32m/pfs/data5/home/ul/ul_student/ul_dgb62/project deep learning/EnsembleBasedTSC/src/Evaluation.py:123\u001b[0m, in \u001b[0;36mrun_ensemble\u001b[0;34m(evaluation_dataset, model_names, ensemble_name)\u001b[0m\n\u001b[1;32m    118\u001b[0m     ensemble_name \u001b[38;5;241m=\u001b[39m \u001b[38;5;28mstr\u001b[39m(model_names)\n\u001b[1;32m    120\u001b[0m x_test, y_test \u001b[38;5;241m=\u001b[39m get_all_datasets_test_train_np_arrays(\u001b[38;5;124m'\u001b[39m\u001b[38;5;124m../datasets/\u001b[39m\u001b[38;5;124m'\u001b[39m, [evaluation_dataset])[evaluation_dataset][\n\u001b[1;32m    121\u001b[0m     \u001b[38;5;124m'\u001b[39m\u001b[38;5;124mtest_data\u001b[39m\u001b[38;5;124m'\u001b[39m]\n\u001b[0;32m--> 123\u001b[0m method_names, predicted_classes \u001b[38;5;241m=\u001b[39m \u001b[43mget_ensemble_predictions\u001b[49m\u001b[43m(\u001b[49m\u001b[43mx_test\u001b[49m\u001b[43m,\u001b[49m\u001b[43m \u001b[49m\u001b[43mmodel_names\u001b[49m\u001b[43m,\u001b[49m\u001b[43m \u001b[49m\u001b[43mevaluation_dataset\u001b[49m\u001b[43m)\u001b[49m\n\u001b[1;32m    125\u001b[0m dataset_names \u001b[38;5;241m=\u001b[39m [evaluation_dataset \u001b[38;5;28;01mfor\u001b[39;00m _ \u001b[38;5;129;01min\u001b[39;00m method_names]\n\u001b[1;32m    126\u001b[0m display_names \u001b[38;5;241m=\u001b[39m [\u001b[38;5;124mf\u001b[39m\u001b[38;5;124m\"\u001b[39m\u001b[38;5;132;01m{\u001b[39;00mensemble_name\u001b[38;5;132;01m}\u001b[39;00m\u001b[38;5;124m-\u001b[39m\u001b[38;5;132;01m{\u001b[39;00mmethod_name\u001b[38;5;132;01m}\u001b[39;00m\u001b[38;5;124m\"\u001b[39m \u001b[38;5;28;01mfor\u001b[39;00m method_name \u001b[38;5;129;01min\u001b[39;00m method_names]\n",
      "File \u001b[0;32m/pfs/data5/home/ul/ul_student/ul_dgb62/project deep learning/EnsembleBasedTSC/src/Evaluation.py:92\u001b[0m, in \u001b[0;36mget_ensemble_predictions\u001b[0;34m(x, models, evaluation_dataset, check_identical)\u001b[0m\n\u001b[1;32m     90\u001b[0m \u001b[38;5;28mprint\u001b[39m(models)\n\u001b[1;32m     91\u001b[0m \u001b[38;5;28mprint\u001b[39m(weights)\n\u001b[0;32m---> 92\u001b[0m models \u001b[38;5;241m=\u001b[39m \u001b[43mload_models\u001b[49m\u001b[43m(\u001b[49m\u001b[43mevaluation_dataset\u001b[49m\u001b[43m,\u001b[49m\u001b[43m \u001b[49m\u001b[43mmodels\u001b[49m\u001b[43m)\u001b[49m\n\u001b[1;32m     93\u001b[0m ensemble_methods \u001b[38;5;241m=\u001b[39m [method\u001b[38;5;241m.\u001b[39mvalue \u001b[38;5;28;01mfor\u001b[39;00m method \u001b[38;5;129;01min\u001b[39;00m EnsembleMethods]\n\u001b[1;32m     94\u001b[0m ensembles \u001b[38;5;241m=\u001b[39m \u001b[38;5;28mlist\u001b[39m(\u001b[38;5;28mmap\u001b[39m(\u001b[38;5;28;01mlambda\u001b[39;00m ensemble_type: Ensemble(models\u001b[38;5;241m=\u001b[39mmodels, weights\u001b[38;5;241m=\u001b[39mweights, ensemble_type\u001b[38;5;241m=\u001b[39mensemble_type),\n\u001b[1;32m     95\u001b[0m                      ensemble_methods))\n",
      "File \u001b[0;32m/pfs/data5/home/ul/ul_student/ul_dgb62/project deep learning/EnsembleBasedTSC/src/Evaluation.py:75\u001b[0m, in \u001b[0;36mload_models\u001b[0;34m(dataset_name, model_names, model_path)\u001b[0m\n\u001b[1;32m     73\u001b[0m \u001b[38;5;28;01mif\u001b[39;00m model_path \u001b[38;5;129;01mis\u001b[39;00m \u001b[38;5;28;01mNone\u001b[39;00m:\n\u001b[1;32m     74\u001b[0m     model_path \u001b[38;5;241m=\u001b[39m \u001b[38;5;124mf\u001b[39m\u001b[38;5;124m'\u001b[39m\u001b[38;5;124m../models/\u001b[39m\u001b[38;5;132;01m{\u001b[39;00mdataset_name\u001b[38;5;132;01m}\u001b[39;00m\u001b[38;5;124m'\u001b[39m\n\u001b[0;32m---> 75\u001b[0m models_to_load \u001b[38;5;241m=\u001b[39m \u001b[38;5;28;43mlist\u001b[39;49m\u001b[43m(\u001b[49m\n\u001b[1;32m     76\u001b[0m \u001b[43m    \u001b[49m\u001b[38;5;28;43mfilter\u001b[39;49m\u001b[43m(\u001b[49m\u001b[38;5;28;43;01mlambda\u001b[39;49;00m\u001b[43m \u001b[49m\u001b[43mmodel_name\u001b[49m\u001b[43m:\u001b[49m\u001b[43m \u001b[49m\u001b[43mmodel_name\u001b[49m\u001b[38;5;241;43m.\u001b[39;49m\u001b[43mremovesuffix\u001b[49m\u001b[43m(\u001b[49m\u001b[38;5;124;43m'\u001b[39;49m\u001b[38;5;124;43m.h5\u001b[39;49m\u001b[38;5;124;43m'\u001b[39;49m\u001b[43m)\u001b[49m\u001b[43m \u001b[49m\u001b[38;5;129;43;01min\u001b[39;49;00m\u001b[43m \u001b[49m\u001b[43mmodel_names\u001b[49m\u001b[43m,\u001b[49m\u001b[43m \u001b[49m\u001b[43mos\u001b[49m\u001b[38;5;241;43m.\u001b[39;49m\u001b[43mlistdir\u001b[49m\u001b[43m(\u001b[49m\u001b[43mmodel_path\u001b[49m\u001b[43m)\u001b[49m\u001b[43m)\u001b[49m\u001b[43m)\u001b[49m\n\u001b[1;32m     77\u001b[0m models \u001b[38;5;241m=\u001b[39m \u001b[38;5;28mlist\u001b[39m(\u001b[38;5;28mmap\u001b[39m(\u001b[38;5;28;01mlambda\u001b[39;00m filename: keras\u001b[38;5;241m.\u001b[39mmodels\u001b[38;5;241m.\u001b[39mload_model(model_path \u001b[38;5;241m+\u001b[39m \u001b[38;5;124m\"\u001b[39m\u001b[38;5;124m/\u001b[39m\u001b[38;5;124m\"\u001b[39m \u001b[38;5;241m+\u001b[39m filename), models_to_load))\n\u001b[1;32m     78\u001b[0m \u001b[38;5;28;01mreturn\u001b[39;00m models\n",
      "File \u001b[0;32m/pfs/data5/home/ul/ul_student/ul_dgb62/project deep learning/EnsembleBasedTSC/src/Evaluation.py:76\u001b[0m, in \u001b[0;36mload_models.<locals>.<lambda>\u001b[0;34m(model_name)\u001b[0m\n\u001b[1;32m     73\u001b[0m \u001b[38;5;28;01mif\u001b[39;00m model_path \u001b[38;5;129;01mis\u001b[39;00m \u001b[38;5;28;01mNone\u001b[39;00m:\n\u001b[1;32m     74\u001b[0m     model_path \u001b[38;5;241m=\u001b[39m \u001b[38;5;124mf\u001b[39m\u001b[38;5;124m'\u001b[39m\u001b[38;5;124m../models/\u001b[39m\u001b[38;5;132;01m{\u001b[39;00mdataset_name\u001b[38;5;132;01m}\u001b[39;00m\u001b[38;5;124m'\u001b[39m\n\u001b[1;32m     75\u001b[0m models_to_load \u001b[38;5;241m=\u001b[39m \u001b[38;5;28mlist\u001b[39m(\n\u001b[0;32m---> 76\u001b[0m     \u001b[38;5;28mfilter\u001b[39m(\u001b[38;5;28;01mlambda\u001b[39;00m model_name: \u001b[43mmodel_name\u001b[49m\u001b[38;5;241;43m.\u001b[39;49m\u001b[43mremovesuffix\u001b[49m(\u001b[38;5;124m'\u001b[39m\u001b[38;5;124m.h5\u001b[39m\u001b[38;5;124m'\u001b[39m) \u001b[38;5;129;01min\u001b[39;00m model_names, os\u001b[38;5;241m.\u001b[39mlistdir(model_path)))\n\u001b[1;32m     77\u001b[0m models \u001b[38;5;241m=\u001b[39m \u001b[38;5;28mlist\u001b[39m(\u001b[38;5;28mmap\u001b[39m(\u001b[38;5;28;01mlambda\u001b[39;00m filename: keras\u001b[38;5;241m.\u001b[39mmodels\u001b[38;5;241m.\u001b[39mload_model(model_path \u001b[38;5;241m+\u001b[39m \u001b[38;5;124m\"\u001b[39m\u001b[38;5;124m/\u001b[39m\u001b[38;5;124m\"\u001b[39m \u001b[38;5;241m+\u001b[39m filename), models_to_load))\n\u001b[1;32m     78\u001b[0m \u001b[38;5;28;01mreturn\u001b[39;00m models\n",
      "\u001b[0;31mAttributeError\u001b[0m: 'str' object has no attribute 'removesuffix'"
     ]
    }
   ],
   "source": [
    "run_ensembles(dataset_names=dataset_names, ensembles=used_ensembles, verbose=True).to_csv(csv_name)"
   ]
  },
  {
   "cell_type": "code",
   "execution_count": null,
   "metadata": {
    "collapsed": false,
    "jupyter": {
     "outputs_hidden": false
    }
   },
   "outputs": [],
   "source": [
    "create_confusion_matrix_plot_from_csv(csv_name, verbose=True)"
   ]
  },
  {
   "cell_type": "code",
   "execution_count": null,
   "metadata": {},
   "outputs": [],
   "source": []
  }
 ],
 "metadata": {
  "kernelspec": {
   "display_name": "ts_ensemble",
   "language": "python",
   "name": "ts_ensemble"
  },
  "language_info": {
   "codemirror_mode": {
    "name": "ipython",
    "version": 3
   },
   "file_extension": ".py",
   "mimetype": "text/x-python",
   "name": "python",
   "nbconvert_exporter": "python",
   "pygments_lexer": "ipython3",
   "version": "3.8.6"
  }
 },
 "nbformat": 4,
 "nbformat_minor": 4
}
