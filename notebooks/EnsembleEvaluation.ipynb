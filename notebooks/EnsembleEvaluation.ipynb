{
 "cells": [
  {
   "cell_type": "code",
   "execution_count": null,
   "metadata": {
    "collapsed": true,
    "jupyter": {
     "outputs_hidden": true
    }
   },
   "outputs": [],
   "source": [
    "import logging\n",
    "import os\n",
    "\n",
    "import numpy as np\n",
    "\n",
    "os.environ['TF_CPP_MIN_LOG_LEVEL'] = '3'\n",
    "logging.getLogger().setLevel(logging.ERROR)\n",
    "import tensorflow as tf\n",
    "tf.get_logger().setLevel(logging.ERROR)\n",
    "\n",
    "import sys\n",
    "sys.path.append(\"../src\")\n",
    "\n",
    "from toolz import keyfilter\n",
    "\n",
    "from Evaluation import create_confusion_matrix_plot_from_csv\n",
    "from LoadData import CurrentDatasets\n",
    "from EnsembleBuilder import EnsembleBuilder"
   ]
  },
  {
   "cell_type": "code",
   "execution_count": null,
   "metadata": {
    "collapsed": false,
    "jupyter": {
     "outputs_hidden": false
    }
   },
   "outputs": [],
   "source": [
    "dataset_names = [dataset.value for dataset in CurrentDatasets]\n",
    "\n",
    "# in a nested list all elements on the same level get equal weights\n",
    "# eg [foo, [bar, bar, bar, [baz, baz]]] is weighted [1/2, [1/8, 1/8, 1/8, [1/16, 1/16]]]\n",
    "\n",
    "ensembles = {\"All\": [[f\"MLP-{number}\" for number in range(0,10)],\n",
    "                     [f\"FCN-{number}\" for number in range(0,10)],\n",
    "                     [f\"MCDCNN_improved-{number}\" for number in range(0,10)],\n",
    "                     [f\"Encoder-{number}\" for number in range(0,10)],\n",
    "                     [f\"Resnet-{number}\" for number in range(0,10)]],\n",
    "             \"MLP10\": [f\"MLP-{number}\" for number in range(0,10)],\n",
    "             \"FCN10\": [f\"FCN-{number}\" for number in range(0,10)],\n",
    "             \"MCDCNN_improved10\": [f\"MCDCNN_improved-{number}\" for number in range(0,10)],\n",
    "             \"Encoder10\": [f\"Encoder-{number}\" for number in range(0,10)],\n",
    "             \"Resnet10\": [f\"Resnet-{number}\" for number in range(0,10)],\n",
    "             \"NNE\": [[f\"Resnet-{number}\" for number in range(0,10)],\n",
    "                     [f\"FCN-{number}\" for number in range(0,10)],\n",
    "                     [f\"Encoder-{number}\" for number in range(0,10)]],\n",
    "             \"Best4\": [[f\"Resnet-{number}\" for number in range(0,10)],\n",
    "                       [f\"FCN-{number}\" for number in range(0,10)],\n",
    "                       [f\"MLP-{number}\" for number in range(0,10)],\n",
    "                       [f\"Encoder-{number}\" for number in range(0,10)]]}\n",
    "csv_name = '../results/ensembles_without_augmentation.csv'\n",
    "dataset_names = list(filter(lambda n: n not in [], dataset_names)) # remove electric devices\n",
    "dataset_names"
   ]
  },
  {
   "cell_type": "code",
   "execution_count": null,
   "metadata": {
    "collapsed": false,
    "jupyter": {
     "outputs_hidden": false
    }
   },
   "outputs": [],
   "source": [
    "used_ensembles=ensembles\n",
    "#used_ensembles=keyfilter(lambda ensemble: ensemble in [\"MLP10\"], ensembles)\n",
    "used_ensembles"
   ]
  },
  {
   "cell_type": "code",
   "execution_count": null,
   "metadata": {
    "collapsed": false,
    "jupyter": {
     "outputs_hidden": false
    }
   },
   "outputs": [],
   "source": [
    "ens_builder = EnsembleBuilder(dataset_names=dataset_names, \n",
    "                              ensembles=used_ensembles, \n",
    "                              verbose=True,\n",
    "                              models_path=\"../models/augmented/\",\n",
    "                              datasets_path=\"../datasets/\")\n",
    "ens_builder.run_ensembles(augmentation=False).to_csv(csv_name)"
   ]
  },
  {
   "cell_type": "code",
   "execution_count": null,
   "metadata": {
    "collapsed": false,
    "jupyter": {
     "outputs_hidden": false
    }
   },
   "outputs": [],
   "source": [
    "create_confusion_matrix_plot_from_csv(csv_name, verbose=True)"
   ]
  },
  {
   "cell_type": "code",
   "execution_count": null,
   "metadata": {
    "collapsed": false,
    "jupyter": {
     "outputs_hidden": false
    }
   },
   "outputs": [],
   "source": [
    "create_confusion_matrix_plot_from_csv(\"../results/train__Encoder_Encoder_Encoder_Encoder_Encoder_Encoder_Encoder_Encoder_Encoder_Encoder_11_datasets.csv\", verbose=True)"
   ]
  },
  {
   "cell_type": "code",
   "execution_count": null,
   "metadata": {
    "collapsed": false,
    "jupyter": {
     "outputs_hidden": false
    }
   },
   "outputs": [],
   "source": []
  }
 ],
 "metadata": {
  "kernelspec": {
   "display_name": "Python 3 (ipykernel)",
   "language": "python",
   "name": "python3"
  },
  "language_info": {
   "codemirror_mode": {
    "name": "ipython",
    "version": 3
   },
   "file_extension": ".py",
   "mimetype": "text/x-python",
   "name": "python",
   "nbconvert_exporter": "python",
   "pygments_lexer": "ipython3",
   "version": "3.8.6"
  }
 },
 "nbformat": 4,
 "nbformat_minor": 4
}
