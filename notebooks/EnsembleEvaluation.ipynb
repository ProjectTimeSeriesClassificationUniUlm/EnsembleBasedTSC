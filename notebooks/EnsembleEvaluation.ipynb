{
 "cells": [
  {
   "cell_type": "code",
   "execution_count": 1,
   "metadata": {
    "collapsed": true
   },
   "outputs": [],
   "source": [
    "import logging\n",
    "import os\n",
    "\n",
    "import numpy as np\n",
    "\n",
    "os.environ['TF_CPP_MIN_LOG_LEVEL'] = '3'\n",
    "logging.getLogger().setLevel(logging.ERROR)\n",
    "import tensorflow as tf\n",
    "tf.get_logger().setLevel(logging.ERROR)\n",
    "\n",
    "import sys\n",
    "sys.path.append(\"../src\")\n",
    "\n",
    "from toolz import keyfilter\n",
    "\n",
    "from Evaluation import run_ensembles, load_models\n",
    "from LoadData import CurrentDatasets\n",
    "from Helpers import create_confusion_matrix_plot_from_csv"
   ]
  },
  {
   "cell_type": "code",
   "execution_count": 2,
   "outputs": [],
   "source": [
    "dataset_names = [dataset.value for dataset in CurrentDatasets]\n",
    "\n",
    "# in a nested list all elements on the same level get equal weights\n",
    "# eg [foo, [bar, bar, bar, [baz, baz]]] is weighted [1/2, [1/8, 1/8, 1/8, [1/16, 1/16]]]\n",
    "\n",
    "ensembles = {\"All\": [\"Encoder\", \"FCN\", \"MCDCNN\", \"MLP\", \"Resnet\", \"Time_CNN\"],\n",
    "             \"Best3\": [\"Encoder\", \"Resnet\", \"MLP\"],\n",
    "             \"Resnet10\": [f\"Resnet-{number}\" for number in range(0,10)],\n",
    "             \"NNE\": [[f\"Resnet-{number}\" for number in range(0,10)], \"FCN\", \"Encoder\"]}\n",
    "csv_name = '../results/test_Ensembles.csv'"
   ],
   "metadata": {
    "collapsed": false
   }
  },
  {
   "cell_type": "code",
   "execution_count": null,
   "outputs": [],
   "source": [
    "used_ensembles=ensembles #keyfilter(lambda ensemble: ensemble in [\"Resnet10\"], ensembles)"
   ],
   "metadata": {
    "collapsed": false
   }
  },
  {
   "cell_type": "code",
   "execution_count": null,
   "outputs": [],
   "source": [
    "run_ensembles(dataset_names=dataset_names, ensembles=used_ensembles, verbose=True).to_csv(csv_name)"
   ],
   "metadata": {
    "collapsed": false
   }
  },
  {
   "cell_type": "code",
   "execution_count": null,
   "outputs": [],
   "source": [
    "create_confusion_matrix_plot_from_csv(csv_name, verbose=True)"
   ],
   "metadata": {
    "collapsed": false
   }
  }
 ],
 "metadata": {
  "kernelspec": {
   "display_name": "Python 3",
   "language": "python",
   "name": "python3"
  },
  "language_info": {
   "codemirror_mode": {
    "name": "ipython",
    "version": 2
   },
   "file_extension": ".py",
   "mimetype": "text/x-python",
   "name": "python",
   "nbconvert_exporter": "python",
   "pygments_lexer": "ipython2",
   "version": "2.7.6"
  }
 },
 "nbformat": 4,
 "nbformat_minor": 0
}
