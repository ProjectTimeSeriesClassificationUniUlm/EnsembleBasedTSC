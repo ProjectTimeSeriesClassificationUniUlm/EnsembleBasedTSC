{
 "cells": [
  {
   "cell_type": "markdown",
   "source": [
    "# Improve Architecture of MCDCNN"
   ],
   "metadata": {
    "collapsed": false
   }
  },
  {
   "cell_type": "code",
   "execution_count": null,
   "outputs": [],
   "source": [
    "import itertools\n",
    "\n",
    "import numpy as np\n",
    "from tensorflow import keras\n",
    "import tensorflow as tf\n",
    "from tqdm.auto import tqdm\n",
    "from tqdm.contrib.concurrent import process_map, thread_map\n",
    "\n",
    "import src.LoadData as LoadData\n",
    "import src.TrainProdecure as TrainProdecure"
   ],
   "metadata": {
    "collapsed": false
   }
  },
  {
   "cell_type": "code",
   "execution_count": null,
   "outputs": [],
   "source": [
    "# General Configurations:\n",
    "EPOCHS_PER_TRAINING = 10\n",
    "# DATASETS = LoadData.get_all_datasets_test_train_np_arrays('../datasets/')\n",
    "DATASETS = LoadData.get_mcdcnn_datasets_test_train_np_arrays('../datasets/')\n",
    "ds_names = list(DATASETS.keys())\n",
    "\n",
    "for key in DATASETS:\n",
    "    train_x, train_y = DATASETS[key][\"train_data\"]\n",
    "    DATASETS[key][\"train_data\"] = (tf.convert_to_tensor(train_x), tf.convert_to_tensor(train_y))\n",
    "    test_x, test_y = DATASETS[key][\"train_data\"]\n",
    "    DATASETS[key][\"test_data\"] = (tf.convert_to_tensor(test_x), tf.convert_to_tensor(test_y))\n",
    "\n",
    "ds_names"
   ],
   "metadata": {
    "collapsed": false
   }
  },
  {
   "cell_type": "markdown",
   "source": [
    "## Build MCDCNN depending on some configuration"
   ],
   "metadata": {
    "collapsed": false
   }
  },
  {
   "cell_type": "code",
   "execution_count": null,
   "metadata": {
    "collapsed": true
   },
   "outputs": [],
   "source": [
    "def build_MCDCNN(input_size, output_size,\n",
    "                 conv_config=(8, 4), kernel_size=5, padding_method=\"same\", dense_config=(732, ),\n",
    "                 conv_activation=\"sigmoid\", dense_activation=\"sigmoid\",\n",
    "                 pooling_method=keras.layers.MaxPool1D, pooling_size=2,\n",
    "                 dropout_rate=0.5, use_batchnorm=False):\n",
    "    \"\"\"\n",
    "    Build a MCDCNN model which architecture is defined by the parameters.\n",
    "    :param input_size: Size of the input\n",
    "    :param output_size: Size of the output\n",
    "    :param conv_config: List of filters for each convolutional layer -> [filters, ...]\n",
    "    :param kernel_size: Size of the kernel for the convolutional layers\n",
    "    :param padding_method: The method used for padding the input (do not use \"valid\" padding) -> \"same\"  | \"causal\"\n",
    "    :param dense_config: List of units for each dense layer -> [units, ...]\n",
    "    :param conv_activation: Activation function for the convolutional layers\n",
    "    :param dense_activation: Activation function for the dense layers\n",
    "    :param pooling_method: The method used for pooling the output of the convolutional layers -> \"avg_pool\" | \"max_pool\"\n",
    "    :param pooling_size: The size of the pooling window\n",
    "    :param dropout_rate: The rate of the dropout layers. If dropout_rate=0, no dropout layers will be added\n",
    "    :param use_batchnorm: If True, batch normalization layers will be added after each convolutional and dense layer\n",
    "    \"\"\"\n",
    "    if dropout_rate >= 1:\n",
    "        raise ValueError(f\"Dropout rate must be between 0 and 1 but is set to {dropout_rate}\")\n",
    "    if not conv_config or len(conv_config) == 0:\n",
    "        raise ValueError(f\"Convolutional configuration must not be empty but is set to {conv_config}\")\n",
    "    if not dense_config or len(dense_config) == 0:\n",
    "        raise ValueError(f\"Dense configuration must not be empty but is set to {dense_config}\")\n",
    "\n",
    "    model = keras.Sequential()\n",
    "    model.add(keras.layers.Input((input_size, 1)))\n",
    "\n",
    "    # Convolutional Layers\n",
    "    for filters in conv_config:\n",
    "        model.add(keras.layers.Conv1D(\n",
    "            filters=filters,\n",
    "            kernel_size=kernel_size,\n",
    "            activation=conv_activation,\n",
    "            input_shape=(input_size, 1),\n",
    "            padding=padding_method,\n",
    "            kernel_initializer=tf.keras.initializers.GlorotUniform(),\n",
    "        ))\n",
    "\n",
    "        if use_batchnorm:\n",
    "            model.add(keras.layers.BatchNormalization())\n",
    "        if dropout_rate > 0:\n",
    "            model.add(keras.layers.Dropout(dropout_rate))\n",
    "\n",
    "        model.add(\n",
    "            keras.layers.MaxPooling1D(pool_size=pooling_size) if pooling_method == \"max_pool\"\n",
    "            else keras.layers.AveragePooling1D(pool_size=pooling_size)\n",
    "        )\n",
    "\n",
    "\n",
    "    # Flatten Layer to feed Dense Layers\n",
    "    model.add(keras.layers.Flatten())\n",
    "\n",
    "    # Dense Layers\n",
    "    for units in dense_config:\n",
    "        model.add(keras.layers.Dense(\n",
    "            units,\n",
    "            activation=dense_activation,\n",
    "            kernel_initializer=tf.keras.initializers.GlorotUniform(),\n",
    "        ))\n",
    "        if use_batchnorm:\n",
    "            model.add(keras.layers.BatchNormalization())\n",
    "        if dropout_rate > 0:\n",
    "            model.add(keras.layers.Dropout(dropout_rate))\n",
    "\n",
    "    # Output Layer\n",
    "    model.add(keras.layers.Dense(\n",
    "        output_size,\n",
    "        activation=\"softmax\",\n",
    "        kernel_initializer=tf.keras.initializers.GlorotUniform(),\n",
    "    ))\n",
    "\n",
    "    model.compile(loss='sparse_categorical_crossentropy', optimizer='adam', metrics=['accuracy'])\n",
    "    return model"
   ]
  },
  {
   "cell_type": "markdown",
   "source": [
    "## Define Configurations to try"
   ],
   "metadata": {
    "collapsed": false
   }
  },
  {
   "cell_type": "code",
   "execution_count": null,
   "outputs": [],
   "source": [
    "PARAMETER_CONFIGURATIONS = {\n",
    "    \"conv_config\": [[8,], [8, 4], [8, 8], [4, 4, 4], [8, 8, 8], [16], [16, 16]],\n",
    "    \"kernel_size\": [3, 5, 7],\n",
    "    \"padding_method\": [\"same\", \"causal\"],\n",
    "    \"dense_config\": [[732, ], [732, 732], [732, 732, 732], [512], [100], [10], [512, 512], [100, 100], [10, 10], [100, 100, 100], [10, 10, 10]],\n",
    "    \"conv_activation\": [\"sigmoid\", \"relu\"],\n",
    "    \"dense_activation\": [\"sigmoid\", \"relu\"],\n",
    "    \"pooling_method\": [\"avg_pool\", \"max_pool\"],\n",
    "    \"pooling_size\": [2, 4],\n",
    "}\n",
    "\n",
    "all_configs = [dict(zip(PARAMETER_CONFIGURATIONS.keys(), v)) for v in itertools.product(*PARAMETER_CONFIGURATIONS.values())]\n",
    "print(f\"Number of configurations to try: {len(all_configs)}\")"
   ],
   "metadata": {
    "collapsed": false
   }
  },
  {
   "cell_type": "markdown",
   "source": [
    "## Train all configurations and save the best ones"
   ],
   "metadata": {
    "collapsed": false
   }
  },
  {
   "cell_type": "code",
   "execution_count": null,
   "outputs": [],
   "source": [
    "def get_config_str(conv_config=(8, 4), kernel_size=5, padding_method=\"same\", dense_config=(732, ),\n",
    "                 conv_activation=\"sigmoid\", dense_activation=\"sigmoid\",\n",
    "                 pooling_method=keras.layers.MaxPool1D, pooling_size=2,\n",
    "                 dropout_rate=0.5, use_batchnorm=False):\n",
    "    return f\"{conv_config}-filters_{kernel_size}-kernel_{padding_method}({conv_activation})--{dense_config}-dense_layers({dense_activation})--{pooling_method}({pooling_size}){dropout_rate if dropout_rate>0 else ''}{'_batchnorm' if use_batchnorm else ''}\""
   ],
   "metadata": {
    "collapsed": false
   }
  },
  {
   "cell_type": "code",
   "execution_count": null,
   "outputs": [],
   "source": [
    "def train_and_evaluate_config(config):\n",
    "    config_string = get_config_str(**config)\n",
    "    print(f\"Training model with config: {config_string}\")\n",
    "\n",
    "    accuracies_per_dataset = []\n",
    "    for ds_name in (t2 := tqdm(ds_names, unit=\"dataset\", desc=\"Training the model on each dataset...\")):\n",
    "        t2.set_postfix_str(f\"Dataset: {ds_name}\")\n",
    "        train_x, train_y = DATASETS[ds_name][\"train_data\"]\n",
    "        test_x, test_y = DATASETS[ds_name][\"test_data\"]\n",
    "\n",
    "        model = build_MCDCNN(input_size=train_x.shape[1], output_size=len(np.unique(train_y)), **config)\n",
    "\n",
    "        _, test_loss, test_acc, history = TrainProdecure.train_single_model(model, train_x, train_y, test_x, test_y, epochs=EPOCHS_PER_TRAINING, model_name=f\"{ds_name}_{config_string}\", dataset_name=ds_name)\n",
    "\n",
    "        accuracies_per_dataset.append(test_acc)\n",
    "\n",
    "    return np.mean(accuracies_per_dataset), config_string, config"
   ],
   "metadata": {
    "collapsed": false
   }
  },
  {
   "cell_type": "code",
   "execution_count": null,
   "outputs": [],
   "source": [
    "results = process_map(train_and_evaluate_config, all_configs, max_workers=5)"
   ],
   "metadata": {
    "collapsed": false
   }
  },
  {
   "cell_type": "code",
   "execution_count": null,
   "outputs": [],
   "source": [
    "results.sort(key=lambda x: x[0], reverse=True)"
   ],
   "metadata": {
    "collapsed": false
   }
  },
  {
   "cell_type": "code",
   "execution_count": null,
   "outputs": [],
   "source": [
    "highest_accuracy, best_config, best_model = results[0]"
   ],
   "metadata": {
    "collapsed": false
   }
  },
  {
   "cell_type": "code",
   "execution_count": null,
   "outputs": [],
   "source": [
    "print(f\"Best model has accuracy {highest_accuracy} and config {get_config_str(**best_config)}\")\n",
    "best_model.summary()"
   ],
   "metadata": {
    "collapsed": false
   }
  }
 ],
 "metadata": {
  "kernelspec": {
   "display_name": "Python 3",
   "language": "python",
   "name": "python3"
  },
  "language_info": {
   "codemirror_mode": {
    "name": "ipython",
    "version": 2
   },
   "file_extension": ".py",
   "mimetype": "text/x-python",
   "name": "python",
   "nbconvert_exporter": "python",
   "pygments_lexer": "ipython2",
   "version": "2.7.6"
  }
 },
 "nbformat": 4,
 "nbformat_minor": 0
}
